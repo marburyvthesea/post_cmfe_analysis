{
 "cells": [
  {
   "cell_type": "code",
   "execution_count": 2,
   "metadata": {},
   "outputs": [
    {
     "data": {
      "text/html": [
       "<style>.container { width:90% !important; }</style>"
      ],
      "text/plain": [
       "<IPython.core.display.HTML object>"
      ]
     },
     "metadata": {},
     "output_type": "display_data"
    }
   ],
   "source": [
    "from IPython.core.display import display, HTML\n",
    "display(HTML(\"<style>.container { width:90% !important; }</style>\"))"
   ]
  },
  {
   "cell_type": "code",
   "execution_count": 3,
   "metadata": {},
   "outputs": [],
   "source": [
    "import numpy as np\n",
    "import pandas as pd\n",
    "import h5py\n",
    "import itertools\n",
    "import python_utils_jjm as utils_jjm\n",
    "from tqdm import tqdm\n",
    "from scipy import stats\n",
    "from importlib import reload\n",
    "from matplotlib import pyplot as plt\n",
    "import sys\n",
    "sys.path.append('/Users/johnmarshall/Documents/Analysis/PythonAnalysisScripts/post_cmfe_analysis/')\n",
    "import miniscope_analysis as ma \n",
    "import scipy.spatial.distance as dist\n",
    "import sklearn.metrics as skm\n",
    "from tqdm import tqdm"
   ]
  },
  {
   "cell_type": "code",
   "execution_count": 4,
   "metadata": {},
   "outputs": [
    {
     "data": {
      "text/plain": [
       "<module 'python_utils_jjm' from '/Users/johnmarshall/Documents/Analysis/PythonAnalysisScripts/post_cmfe_analysis/python_utils_jjm.py'>"
      ]
     },
     "execution_count": 4,
     "metadata": {},
     "output_type": "execute_result"
    }
   ],
   "source": [
    "reload(ma)\n",
    "reload(utils_jjm)"
   ]
  },
  {
   "cell_type": "code",
   "execution_count": 6,
   "metadata": {},
   "outputs": [],
   "source": [
    "dir_ = '/Volumes/My_Passport/cnmfe_analysis_files/OpenFieldAnalysis/'"
   ]
  },
  {
   "cell_type": "code",
   "execution_count": 7,
   "metadata": {},
   "outputs": [],
   "source": [
    "velocity_aligned = pd.read_hdf(dir_+'all_mice_aligned_to_behavior.h5')"
   ]
  },
  {
   "cell_type": "code",
   "execution_count": 15,
   "metadata": {},
   "outputs": [],
   "source": [
    "wt_mice = ['GRIN027', 'GRIN026', 'GRIN013']\n",
    "ko_mice = ['GRIN012', 'GRIN018', 'GRIN011']"
   ]
  },
  {
   "cell_type": "code",
   "execution_count": 16,
   "metadata": {},
   "outputs": [
    {
     "data": {
      "text/html": [
       "<div>\n",
       "<style scoped>\n",
       "    .dataframe tbody tr th:only-of-type {\n",
       "        vertical-align: middle;\n",
       "    }\n",
       "\n",
       "    .dataframe tbody tr th {\n",
       "        vertical-align: top;\n",
       "    }\n",
       "\n",
       "    .dataframe thead tr th {\n",
       "        text-align: left;\n",
       "    }\n",
       "</style>\n",
       "<table border=\"1\" class=\"dataframe\">\n",
       "  <thead>\n",
       "    <tr>\n",
       "      <th></th>\n",
       "      <th colspan=\"10\" halign=\"left\">GRIN027</th>\n",
       "      <th>...</th>\n",
       "      <th colspan=\"10\" halign=\"left\">GRIN011</th>\n",
       "    </tr>\n",
       "    <tr>\n",
       "      <th></th>\n",
       "      <th colspan=\"10\" halign=\"left\">behavior</th>\n",
       "      <th>...</th>\n",
       "      <th colspan=\"10\" halign=\"left\">C_z_scored</th>\n",
       "    </tr>\n",
       "    <tr>\n",
       "      <th></th>\n",
       "      <th>frameNum</th>\n",
       "      <th>camNum</th>\n",
       "      <th>sysClock</th>\n",
       "      <th>buffer</th>\n",
       "      <th>behavCam_frames</th>\n",
       "      <th>sys_clock_behavCam</th>\n",
       "      <th>Unnamed: 0</th>\n",
       "      <th>File</th>\n",
       "      <th>X</th>\n",
       "      <th>Y</th>\n",
       "      <th>...</th>\n",
       "      <th>110</th>\n",
       "      <th>111</th>\n",
       "      <th>112</th>\n",
       "      <th>113</th>\n",
       "      <th>114</th>\n",
       "      <th>115</th>\n",
       "      <th>116</th>\n",
       "      <th>117</th>\n",
       "      <th>118</th>\n",
       "      <th>119</th>\n",
       "    </tr>\n",
       "  </thead>\n",
       "  <tbody>\n",
       "    <tr>\n",
       "      <th>0</th>\n",
       "      <td>1</td>\n",
       "      <td>0</td>\n",
       "      <td>0</td>\n",
       "      <td>1</td>\n",
       "      <td>1</td>\n",
       "      <td>0</td>\n",
       "      <td>0</td>\n",
       "      <td>behavCam01.avi</td>\n",
       "      <td>374.310798</td>\n",
       "      <td>186.554970</td>\n",
       "      <td>...</td>\n",
       "      <td>-0.910805</td>\n",
       "      <td>-0.716258</td>\n",
       "      <td>-1.003124</td>\n",
       "      <td>-1.671407</td>\n",
       "      <td>-0.038928</td>\n",
       "      <td>-0.093372</td>\n",
       "      <td>-0.388336</td>\n",
       "      <td>-0.576353</td>\n",
       "      <td>-0.959844</td>\n",
       "      <td>-0.809900</td>\n",
       "    </tr>\n",
       "    <tr>\n",
       "      <th>1</th>\n",
       "      <td>2</td>\n",
       "      <td>0</td>\n",
       "      <td>39</td>\n",
       "      <td>1</td>\n",
       "      <td>2</td>\n",
       "      <td>26</td>\n",
       "      <td>1</td>\n",
       "      <td>behavCam01.avi</td>\n",
       "      <td>372.048011</td>\n",
       "      <td>188.167240</td>\n",
       "      <td>...</td>\n",
       "      <td>-0.910805</td>\n",
       "      <td>-0.716258</td>\n",
       "      <td>-1.015537</td>\n",
       "      <td>-1.671407</td>\n",
       "      <td>0.591083</td>\n",
       "      <td>0.196577</td>\n",
       "      <td>-0.418647</td>\n",
       "      <td>-0.601489</td>\n",
       "      <td>-0.959844</td>\n",
       "      <td>-0.832530</td>\n",
       "    </tr>\n",
       "    <tr>\n",
       "      <th>2</th>\n",
       "      <td>3</td>\n",
       "      <td>0</td>\n",
       "      <td>89</td>\n",
       "      <td>1</td>\n",
       "      <td>4</td>\n",
       "      <td>91</td>\n",
       "      <td>2</td>\n",
       "      <td>behavCam01.avi</td>\n",
       "      <td>369.392349</td>\n",
       "      <td>190.981512</td>\n",
       "      <td>...</td>\n",
       "      <td>-0.910805</td>\n",
       "      <td>-0.716258</td>\n",
       "      <td>-1.026868</td>\n",
       "      <td>-1.671407</td>\n",
       "      <td>0.477424</td>\n",
       "      <td>0.081509</td>\n",
       "      <td>-0.447924</td>\n",
       "      <td>-0.625486</td>\n",
       "      <td>-0.959844</td>\n",
       "      <td>-0.853981</td>\n",
       "    </tr>\n",
       "    <tr>\n",
       "      <th>3</th>\n",
       "      <td>4</td>\n",
       "      <td>0</td>\n",
       "      <td>139</td>\n",
       "      <td>1</td>\n",
       "      <td>5</td>\n",
       "      <td>123</td>\n",
       "      <td>3</td>\n",
       "      <td>behavCam01.avi</td>\n",
       "      <td>367.451050</td>\n",
       "      <td>193.573317</td>\n",
       "      <td>...</td>\n",
       "      <td>-0.910805</td>\n",
       "      <td>-0.716258</td>\n",
       "      <td>-1.037211</td>\n",
       "      <td>-1.671407</td>\n",
       "      <td>0.373363</td>\n",
       "      <td>0.428509</td>\n",
       "      <td>-0.476204</td>\n",
       "      <td>-0.648395</td>\n",
       "      <td>-0.959844</td>\n",
       "      <td>-0.874314</td>\n",
       "    </tr>\n",
       "    <tr>\n",
       "      <th>4</th>\n",
       "      <td>5</td>\n",
       "      <td>0</td>\n",
       "      <td>189</td>\n",
       "      <td>1</td>\n",
       "      <td>7</td>\n",
       "      <td>187</td>\n",
       "      <td>4</td>\n",
       "      <td>behavCam01.avi</td>\n",
       "      <td>364.920711</td>\n",
       "      <td>196.173484</td>\n",
       "      <td>...</td>\n",
       "      <td>-0.910805</td>\n",
       "      <td>-0.716258</td>\n",
       "      <td>-1.046652</td>\n",
       "      <td>-1.671407</td>\n",
       "      <td>0.278089</td>\n",
       "      <td>0.285534</td>\n",
       "      <td>-0.503520</td>\n",
       "      <td>-0.670265</td>\n",
       "      <td>-0.959844</td>\n",
       "      <td>-0.893588</td>\n",
       "    </tr>\n",
       "  </tbody>\n",
       "</table>\n",
       "<p>5 rows × 463 columns</p>\n",
       "</div>"
      ],
      "text/plain": [
       "   GRIN027                                                            \\\n",
       "  behavior                                                             \n",
       "  frameNum camNum sysClock buffer behavCam_frames sys_clock_behavCam   \n",
       "0        1      0        0      1               1                  0   \n",
       "1        2      0       39      1               2                 26   \n",
       "2        3      0       89      1               4                 91   \n",
       "3        4      0      139      1               5                123   \n",
       "4        5      0      189      1               7                187   \n",
       "\n",
       "                                                      ...    GRIN011  \\\n",
       "                                                      ... C_z_scored   \n",
       "  Unnamed: 0            File           X           Y  ...        110   \n",
       "0          0  behavCam01.avi  374.310798  186.554970  ...  -0.910805   \n",
       "1          1  behavCam01.avi  372.048011  188.167240  ...  -0.910805   \n",
       "2          2  behavCam01.avi  369.392349  190.981512  ...  -0.910805   \n",
       "3          3  behavCam01.avi  367.451050  193.573317  ...  -0.910805   \n",
       "4          4  behavCam01.avi  364.920711  196.173484  ...  -0.910805   \n",
       "\n",
       "                                                                         \\\n",
       "                                                                          \n",
       "        111       112       113       114       115       116       117   \n",
       "0 -0.716258 -1.003124 -1.671407 -0.038928 -0.093372 -0.388336 -0.576353   \n",
       "1 -0.716258 -1.015537 -1.671407  0.591083  0.196577 -0.418647 -0.601489   \n",
       "2 -0.716258 -1.026868 -1.671407  0.477424  0.081509 -0.447924 -0.625486   \n",
       "3 -0.716258 -1.037211 -1.671407  0.373363  0.428509 -0.476204 -0.648395   \n",
       "4 -0.716258 -1.046652 -1.671407  0.278089  0.285534 -0.503520 -0.670265   \n",
       "\n",
       "                       \n",
       "                       \n",
       "        118       119  \n",
       "0 -0.959844 -0.809900  \n",
       "1 -0.959844 -0.832530  \n",
       "2 -0.959844 -0.853981  \n",
       "3 -0.959844 -0.874314  \n",
       "4 -0.959844 -0.893588  \n",
       "\n",
       "[5 rows x 463 columns]"
      ]
     },
     "execution_count": 16,
     "metadata": {},
     "output_type": "execute_result"
    }
   ],
   "source": [
    "velocity_aligned.head()"
   ]
  },
  {
   "cell_type": "code",
   "execution_count": 19,
   "metadata": {},
   "outputs": [],
   "source": [
    "## velocity correlations by genotype \n",
    "wt_cell_z_v_linear_r = []\n",
    "#mouse = 'GRIN026'\n",
    "for mouse in wt_mice:\n",
    "    for cell in velocity_aligned[mouse]['C_z_scored']:\n",
    "        wt_cell_z_v_linear_r.append(stats.pearsonr(velocity_aligned[mouse]['C_z_scored'][cell], velocity_aligned[mouse]['behavior']['velocity'])[0])\n",
    "        \n",
    "ko_cell_z_v_linear_r = []\n",
    "#mouse = 'GRIN026'\n",
    "for mouse in ko_mice:\n",
    "    for cell in velocity_aligned[mouse]['C_z_scored']:\n",
    "        ko_cell_z_v_linear_r.append(stats.pearsonr(velocity_aligned[mouse]['C_z_scored'][cell], velocity_aligned[mouse]['behavior']['velocity'])[0])\n"
   ]
  },
  {
   "cell_type": "code",
   "execution_count": 43,
   "metadata": {},
   "outputs": [
    {
     "data": {
      "image/png": "[encoded data removed]",
      "text/plain": [
       "<Figure size 432x288 with 1 Axes>"
      ]
     },
     "metadata": {
      "needs_background": "light"
     },
     "output_type": "display_data"
    }
   ],
   "source": [
    "plt.scatter(np.concatenate([np.zeros(len(wt_cell_z_v_linear_r)),np.ones(len(ko_cell_z_v_linear_r))/2]), np.concatenate([wt_cell_z_v_linear_r, ko_cell_z_v_linear_r]),\n",
    "           s=200, linewidths=.5, edgecolors='k')\n",
    "plt.xlim([-.5, 1])\n",
    "ax = plt.gca()\n",
    "ax.spines[\"top\"].set_visible(False)\n",
    "ax.spines[\"right\"].set_visible(False)\n",
    "ax.spines[\"bottom\"].set_visible(False)\n",
    "plt.xticks([])\n",
    "plt.ylabel('pearsons r (cell fluorescence to velocity)')\n",
    "plt.draw()\n",
    "plt.savefig('/Users/johnmarshall/Documents/Presentations/Dec2019_report/cell_velocity_correlation.png')\n",
    "plt.savefig('/Users/johnmarshall/Documents/Presentations/Dec2019_report/cell_velocity_correlation.svg', transparent=True, format=\"svg\")"
   ]
  },
  {
   "cell_type": "code",
   "execution_count": 45,
   "metadata": {},
   "outputs": [
    {
     "data": {
      "text/plain": [
       "(25000, 120)"
      ]
     },
     "execution_count": 45,
     "metadata": {},
     "output_type": "execute_result"
    }
   ],
   "source": [
    "velocity_aligned[mouse]['C_z_scored'].shape[1]"
   ]
  },
  {
   "cell_type": "code",
   "execution_count": 99,
   "metadata": {},
   "outputs": [],
   "source": [
    "## ISI intervals by genotype \n",
    "wt_ISIs = []\n",
    "ko_ISIs = []\n",
    "#mouse = 'GRIN026'\n",
    "#velocity_aligned[mouse]['C_z_scored']:\n",
    "for mouse in wt_mice:      \n",
    "    wt_ISIs.append(np.hstack(utils_jjm.get_ISIs(velocity_aligned[mouse]['C_z_scored'], 20, velocity_aligned[mouse]['C_z_scored'].shape[1], 2)[1]))\n",
    "for mouse in ko_mice:      \n",
    "    ko_ISIs.append(np.hstack(utils_jjm.get_ISIs(velocity_aligned[mouse]['C_z_scored'], 20, velocity_aligned[mouse]['C_z_scored'].shape[1], 2)[1]))\n"
   ]
  },
  {
   "cell_type": "code",
   "execution_count": 100,
   "metadata": {},
   "outputs": [
    {
     "data": {
      "image/png": "[encoded data removed]",
      "text/plain": [
       "<Figure size 648x288 with 1 Axes>"
      ]
     },
     "metadata": {
      "needs_background": "light"
     },
     "output_type": "display_data"
    }
   ],
   "source": [
    "##plotting overall distribution of ISIs\n",
    "fig, ax = plt.subplots(figsize=(9, 4))\n",
    "n, bins, patches = ax.hist(np.hstack(wt_ISIs), bins='auto', density=True, histtype='step', cumulative=True, label='Empirical', linewidth=2, color='b')\n",
    "n, bins, patches = ax.hist(np.hstack(ko_ISIs), bins='auto', density=True, histtype='step', cumulative=True, label='Empirical', linewidth=2, color='r')\n",
    "plt.ylabel('Cumulative probability')\n",
    "plt.xlabel('Fluorescence inter-event interval (sec)')\n",
    "plt.xlim(-100, 1500)\n",
    "plt.draw()"
   ]
  },
  {
   "cell_type": "code",
   "execution_count": 168,
   "metadata": {},
   "outputs": [],
   "source": [
    "#for resting periods find all 1 second regions where mouse is moving, then resting periods are seconds where there is no velocity bin \n",
    "binned_v_for_resting = utils_jjm.binning_function_uncrop(100, velocity_aligned[mouse]['behavior']['velocity'], 0.05)\n",
    "#for moving periods find all 100 msecond regions where mouse is moving, then resting periods are seconds where there is no velocity bin \n",
    "binned_v_for_moving = utils_jjm.binning_function_uncrop(5, velocity_aligned[mouse]['behavior']['velocity_z_score'], 3)"
   ]
  },
  {
   "cell_type": "code",
   "execution_count": 169,
   "metadata": {},
   "outputs": [],
   "source": [
    "binned_c_zscore = utils_jjm.binning_function_uncrop(50, velocity_aligned[mouse]['behavior']['velocity'], .1)"
   ]
  },
  {
   "cell_type": "code",
   "execution_count": 170,
   "metadata": {},
   "outputs": [
    {
     "data": {
      "text/plain": [
       "[<matplotlib.lines.Line2D at 0x1a1b682d68>]"
      ]
     },
     "execution_count": 170,
     "metadata": {},
     "output_type": "execute_result"
    },
    {
     "data": {
      "image/png": "[encoded data removed]",
      "text/plain": [
       "<Figure size 432x288 with 1 Axes>"
      ]
     },
     "metadata": {
      "needs_background": "light"
     },
     "output_type": "display_data"
    }
   ],
   "source": [
    "plt.plot(velocity_aligned[mouse]['behavior']['velocity'][18000:20000])"
   ]
  },
  {
   "cell_type": "code",
   "execution_count": 171,
   "metadata": {},
   "outputs": [
    {
     "data": {
      "image/png": "[encoded data removed]",
      "text/plain": [
       "<Figure size 432x288 with 1 Axes>"
      ]
     },
     "metadata": {
      "needs_background": "light"
     },
     "output_type": "display_data"
    }
   ],
   "source": [
    "plt.plot(binned_v_for_moving[18000:20000])\n",
    "plt.plot(binned_v_for_resting[18000:20000])\n",
    "plt.show()"
   ]
  },
  {
   "cell_type": "code",
   "execution_count": 172,
   "metadata": {},
   "outputs": [],
   "source": [
    "moving = np.argwhere(binned_v_for_moving == 1 )\n",
    "not_moving = np.argwhere(binned_v_for_resting == 0)\n",
    "moving_indicies = np.array([moving[x][0] for x in range(np.shape(moving)[0])])\n",
    "resting_indicies = np.array([not_moving[x][0] for x in range(np.shape(not_moving)[0])])"
   ]
  },
  {
   "cell_type": "code",
   "execution_count": 173,
   "metadata": {},
   "outputs": [
    {
     "data": {
      "text/plain": [
       "150    0.006341\n",
       "151    0.005396\n",
       "152    0.005684\n",
       "153    0.000718\n",
       "154    0.003429\n",
       "Name: velocity, dtype: float64"
      ]
     },
     "execution_count": 173,
     "metadata": {},
     "output_type": "execute_result"
    }
   ],
   "source": [
    "velocity_aligned.iloc[moving_indicies,:]['GRIN026']['behavior']['velocity'].head()"
   ]
  },
  {
   "cell_type": "code",
   "execution_count": 174,
   "metadata": {},
   "outputs": [
    {
     "data": {
      "text/plain": [
       "2000    0.000000\n",
       "2001    0.014966\n",
       "2002    0.010718\n",
       "2003    0.008852\n",
       "2004    0.005900\n",
       "Name: velocity, dtype: float64"
      ]
     },
     "execution_count": 174,
     "metadata": {},
     "output_type": "execute_result"
    }
   ],
   "source": [
    "velocity_aligned.iloc[resting_indicies,:]['GRIN026']['behavior']['velocity'].head()"
   ]
  },
  {
   "cell_type": "code",
   "execution_count": 183,
   "metadata": {},
   "outputs": [
    {
     "data": {
      "text/plain": [
       "0.02925725987289832"
      ]
     },
     "execution_count": 183,
     "metadata": {},
     "output_type": "execute_result"
    }
   ],
   "source": [
    "np.max(velocity_aligned.iloc[moving_indicies,:]['GRIN026']['behavior']['velocity'])"
   ]
  },
  {
   "cell_type": "code",
   "execution_count": 184,
   "metadata": {},
   "outputs": [
    {
     "data": {
      "text/plain": [
       "0.22064730277058348"
      ]
     },
     "execution_count": 184,
     "metadata": {},
     "output_type": "execute_result"
    }
   ],
   "source": [
    "np.max(velocity_aligned.iloc[resting_indicies,:]['GRIN026']['behavior']['velocity'])"
   ]
  },
  {
   "cell_type": "code",
   "execution_count": 185,
   "metadata": {},
   "outputs": [
    {
     "data": {
      "text/plain": [
       "[<matplotlib.lines.Line2D at 0x1a35ab4dd8>]"
      ]
     },
     "execution_count": 185,
     "metadata": {},
     "output_type": "execute_result"
    },
    {
     "data": {
      "image/png": "[encoded data removed]",
      "text/plain": [
       "<Figure size 432x288 with 1 Axes>"
      ]
     },
     "metadata": {
      "needs_background": "light"
     },
     "output_type": "display_data"
    }
   ],
   "source": [
    "plt.plot(velocity_aligned[mouse]['behavior']['velocity'][150:1150])"
   ]
  },
  {
   "cell_type": "code",
   "execution_count": 186,
   "metadata": {},
   "outputs": [
    {
     "data": {
      "text/plain": [
       "[<matplotlib.lines.Line2D at 0x1a51b0af28>]"
      ]
     },
     "execution_count": 186,
     "metadata": {},
     "output_type": "execute_result"
    },
    {
     "data": {
      "image/png": "[encoded data removed]",
      "text/plain": [
       "<Figure size 432x288 with 1 Axes>"
      ]
     },
     "metadata": {
      "needs_background": "light"
     },
     "output_type": "display_data"
    }
   ],
   "source": [
    "plt.plot(binned_v_for_resting[150:1150])"
   ]
  },
  {
   "cell_type": "code",
   "execution_count": null,
   "metadata": {},
   "outputs": [],
   "source": []
  }
 ],
 "metadata": {
  "kernelspec": {
   "display_name": "Python [conda env:caiman]",
   "language": "python",
   "name": "conda-env-caiman-py"
  },
  "language_info": {
   "codemirror_mode": {
    "name": "ipython",
    "version": 3
   },
   "file_extension": ".py",
   "mimetype": "text/x-python",
   "name": "python",
   "nbconvert_exporter": "python",
   "pygments_lexer": "ipython3",
   "version": "3.6.8"
  }
 },
 "nbformat": 4,
 "nbformat_minor": 2
}
