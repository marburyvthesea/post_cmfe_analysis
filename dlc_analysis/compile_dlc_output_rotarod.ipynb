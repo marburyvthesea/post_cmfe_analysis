{
 "cells": [
  {
   "cell_type": "code",
   "execution_count": 1,
   "metadata": {},
   "outputs": [
    {
     "data": {
      "text/html": [
       "<style>.container { width:90% !important; }</style>"
      ],
      "text/plain": [
       "<IPython.core.display.HTML object>"
      ]
     },
     "metadata": {},
     "output_type": "display_data"
    }
   ],
   "source": [
    "from IPython.core.display import display, HTML\n",
    "display(HTML(\"<style>.container { width:90% !important; }</style>\"))"
   ]
  },
  {
   "cell_type": "code",
   "execution_count": 2,
   "metadata": {},
   "outputs": [],
   "source": [
    "import os\n",
    "import pandas as pd\n",
    "import numpy as np\n",
    "import sys\n",
    "from tqdm import tqdm\n",
    "sys.path.append('/Users/johnmarshall/Documents/Analysis/PythonAnalysisScripts/post_cmfe_analysis')\n",
    "import dlc_utils\n",
    "from matplotlib import pyplot as plt"
   ]
  },
  {
   "cell_type": "code",
   "execution_count": 3,
   "metadata": {},
   "outputs": [
    {
     "data": {
      "text/plain": [
       "<module 'dlc_utils' from '/Users/johnmarshall/Documents/Analysis/PythonAnalysisScripts/post_cmfe_analysis/dlc_utils.py'>"
      ]
     },
     "execution_count": 3,
     "metadata": {},
     "output_type": "execute_result"
    }
   ],
   "source": [
    "from importlib import reload\n",
    "reload(dlc_utils)"
   ]
  },
  {
   "cell_type": "code",
   "execution_count": 4,
   "metadata": {},
   "outputs": [],
   "source": [
    "dlc_directory = '/volumes/My_Passport/dlc_analysis/behavcamvideos/rotarod/3_19_2020/'"
   ]
  },
  {
   "cell_type": "code",
   "execution_count": 12,
   "metadata": {},
   "outputs": [],
   "source": [
    "experiment_folders = [folder for folder in os.listdir(dlc_directory) if '_M' in folder][-3:]"
   ]
  },
  {
   "cell_type": "code",
   "execution_count": 13,
   "metadata": {
    "scrolled": true
   },
   "outputs": [
    {
     "data": {
      "text/plain": [
       "['H16_M33_S20', 'H16_M39_S59', 'H16_M4_S33']"
      ]
     },
     "execution_count": 13,
     "metadata": {},
     "output_type": "execute_result"
    }
   ],
   "source": [
    "experiment_folders"
   ]
  },
  {
   "cell_type": "code",
   "execution_count": 14,
   "metadata": {},
   "outputs": [],
   "source": [
    "# GRIN018_H17_M41_S43\n",
    "#experiment_folders = ['H19_M46_S0']"
   ]
  },
  {
   "cell_type": "code",
   "execution_count": 15,
   "metadata": {},
   "outputs": [
    {
     "name": "stderr",
     "output_type": "stream",
     "text": [
      "\n",
      "\n",
      "  0%|          | 0/3 [00:00<?, ?it/s]\u001b[A\u001b[A"
     ]
    },
    {
     "name": "stdout",
     "output_type": "stream",
     "text": [
      "H16_M33_S20\n",
      "no h5 files for:behavCam1DLC_resnet50_GRIN_rotarod_rearviewApr2shuffle1_300000.h5\n",
      "H16_M39_S59\n",
      "behavCam1DLC_resnet50_GRIN_rotarod_rearviewApr2shuffle1_300000.h5\n"
     ]
    },
    {
     "name": "stderr",
     "output_type": "stream",
     "text": [
      "\n",
      "\n",
      " 67%|██████▋   | 2/3 [00:00<00:00,  6.01it/s]\u001b[A\u001b[A"
     ]
    },
    {
     "name": "stdout",
     "output_type": "stream",
     "text": [
      "not_found:behavCam1DLC_resnet50_GRIN_rotarod_rearviewApr2shuffle1_300000.h5\n",
      "no h5 files for:behavCam1DLC_resnet50_GRIN_rotarod_rearviewApr2shuffle1_300000.h5\n",
      "H16_M4_S33\n",
      "behavCam1DLC_resnet50_GRIN_rotarod_rearviewApr2shuffle1_300000.h5\n",
      "calculating velocity\n",
      "behavCam2DLC_resnet50_GRIN_rotarod_rearviewApr2shuffle1_300000.h5\n",
      "calculating velocity\n",
      "behavCam3DLC_resnet50_GRIN_rotarod_rearviewApr2shuffle1_300000.h5\n",
      "calculating velocity\n"
     ]
    },
    {
     "name": "stderr",
     "output_type": "stream",
     "text": [
      "\n",
      "\n",
      "100%|██████████| 3/3 [01:07<00:00, 22.54s/it]\u001b[A\u001b[A\n"
     ]
    }
   ],
   "source": [
    "for folder in tqdm(experiment_folders):\n",
    "    output_directory = dlc_directory+folder+'/'\n",
    "    session_name = folder\n",
    "    print(folder)\n",
    "    dlc_output_files = os.listdir(output_directory)\n",
    "    dlc_output_files.sort()\n",
    "    \n",
    "    names = []\n",
    "    dlc_dfs = []\n",
    "    coordinates_dfs = []\n",
    "    for output_file in dlc_output_files:\n",
    "        if output_file.endswith('000.h5'):\n",
    "            print(output_file)\n",
    "            try:\n",
    "                dlc_output = pd.read_hdf(output_directory + output_file)\n",
    "                dlc_output = dlc_utils.calculate_centroid(dlc_output)\n",
    "                dlc_output.head()\n",
    "                coordinates_delta_df = dlc_utils.difference_df(dlc_output)\n",
    "                df_columns = list(dlc_output.columns)\n",
    "                print('calculating velocity')\n",
    "                velocity_df = pd.DataFrame(np.transpose(np.array([np.array([dlc_utils.velocity(coordinates_delta_df[body_part]['x'].values[frame],coordinates_delta_df[body_part]['y'].values[frame]) for frame in range(len(coordinates_delta_df))]) for body_part in list(set([df_columns[item][1] for item in range(len(df_columns))]))])), \n",
    "                                       columns=list(set([df_columns[item][1] for item in range(len(df_columns))]))) \n",
    "                for body_part in list(set([df_columns[item][1] for item in range(len(df_columns))])):\n",
    "                    velocity_df[body_part+'_likelihood']=dlc_output[df_columns[0][0]][body_part]['likelihood'].values\n",
    "            \n",
    "                names.append(output_file)\n",
    "                dlc_dfs.append(velocity_df)\n",
    "                coordinates_dfs.append(dlc_output)\n",
    "            except ValueError:\n",
    "                print('not_found:' + str(output_file))\n",
    "    try:        \n",
    "        session_compiled = pd.concat(dlc_dfs, keys=names)\n",
    "        coordinates_dfs_compiled = pd.concat(coordinates_dfs, keys=names)\n",
    "\n",
    "    #save compiled session \n",
    "        session_compiled.to_hdf(output_directory+session_name+'_compiled_session_04142020.h5', key='df')\n",
    "        coordinates_dfs_compiled.to_hdf(output_directory+session_name+'_compiled_coordinates_session_04142020.h5', key='df')\n",
    "        \n",
    "    except ValueError:\n",
    "        print('no h5 files for:' + str(output_file))\n",
    "    "
   ]
  },
  {
   "cell_type": "code",
   "execution_count": null,
   "metadata": {},
   "outputs": [],
   "source": [
    "    #create behavior data aligned to the msCam frames\n",
    "    aligned = dlc_utils.downsample_dlc_to_behavior(output_directory+session_name+'_compiled_session_04142020.h5', output_directory+'timestamp.dat')\n",
    "    aligned.reset_index(inplace=True)\n",
    "    aligned['msCamFrame'] = aligned.index.values\n",
    "    aligned = aligned.set_index(pd.to_timedelta(np.linspace(0, len(aligned)*(1/20), len(aligned)), unit='s'), drop=False)\n",
    "\n",
    "    #do same for coordinates df \n",
    "    coordinates_aligned = dlc_utils.downsample_dlc_to_behavior(output_directory+session_name+'_compiled_coordinates_session_04142020.h5', output_directory+'timestamp.dat')\n",
    "    coordinates_aligned.reset_index(inplace=True)\n",
    "    coordinates_aligned['msCamFrame'] = coordinates_aligned.index.values\n",
    "    coordinates_aligned = coordinates_aligned.set_index(pd.to_timedelta(np.linspace(0, len(coordinates_aligned)*(1/20), len(coordinates_aligned)), unit='s'), drop=False)\n",
    "    \n",
    "    #smooth data by downsampling and interpolating \n",
    "    interpolated = dlc_utils.downsample_and_interpolate(aligned, '.05S', '1S', 'linear')\n",
    "    interpolated.to_csv(output_directory+session_name+'_dlc_tracking_foranalysis_04142020.csv')\n",
    "\n",
    "    coordinates_aligned_interpolated = dlc_utils.downsample_and_interpolate(coordinates_aligned, '.05S', '1S', 'linear')\n",
    "    coordinates_aligned_interpolated.to_csv(output_directory+session_name+'_dlc_coordinates_smoothed_tracking_foranalysis_04142020.csv')\n",
    "    \n",
    "    coordinates_aligned.to_csv(output_directory+session_name+'_dlc_coordinates_tracking_foranalysis_04142020.csv')"
   ]
  },
  {
   "cell_type": "code",
   "execution_count": null,
   "metadata": {},
   "outputs": [],
   "source": [
    "coordinates_dfs_compiled = pd.concat(coordinates_dfs, keys=names)"
   ]
  },
  {
   "cell_type": "code",
   "execution_count": null,
   "metadata": {},
   "outputs": [],
   "source": [
    "coordinates_dfs_compiled"
   ]
  },
  {
   "cell_type": "code",
   "execution_count": null,
   "metadata": {
    "scrolled": true
   },
   "outputs": [],
   "source": [
    "coordinates_aligned = dlc_utils.downsample_dlc_to_behavior(output_directory+session_name+'_compiled_coordinates_session_04142020.h5', output_directory+'timestamp.dat')"
   ]
  },
  {
   "cell_type": "code",
   "execution_count": null,
   "metadata": {},
   "outputs": [],
   "source": [
    "coordinates_aligned"
   ]
  },
  {
   "cell_type": "code",
   "execution_count": null,
   "metadata": {},
   "outputs": [],
   "source": [
    "coordinates_aligned['msCamFrame'] = coordinates_aligned.index.values"
   ]
  },
  {
   "cell_type": "code",
   "execution_count": null,
   "metadata": {},
   "outputs": [],
   "source": [
    "interpolated = dlc_utils.downsample_and_interpolate(aligned, '.05S', '1S', 'linear')"
   ]
  },
  {
   "cell_type": "code",
   "execution_count": null,
   "metadata": {},
   "outputs": [],
   "source": [
    "coordinates_aligned = coordinates_aligned.set_index(pd.to_timedelta(np.linspace(0, len(coordinates_aligned)*(1/20), len(coordinates_aligned)), unit='s'), drop=False)"
   ]
  },
  {
   "cell_type": "code",
   "execution_count": null,
   "metadata": {},
   "outputs": [],
   "source": [
    "coordinates_aligned_interpolated = dlc_utils.downsample_and_interpolate(coordinates_aligned, '.05S', '1S', 'linear')"
   ]
  },
  {
   "cell_type": "code",
   "execution_count": null,
   "metadata": {},
   "outputs": [],
   "source": [
    "coordinates_aligned_interpolated"
   ]
  },
  {
   "cell_type": "code",
   "execution_count": null,
   "metadata": {},
   "outputs": [],
   "source": [
    "plt.plot(coordinates_aligned_interpolated['DLC_resnet50_GRIN_rotarod_rearviewApr2shuffle1_300000']['right_r_paw']['x'].values)"
   ]
  },
  {
   "cell_type": "code",
   "execution_count": null,
   "metadata": {},
   "outputs": [],
   "source": [
    "plt.plot(coordinates_aligned['DLC_resnet50_GRIN_rotarod_rearviewApr2shuffle1_300000']['right_r_paw']['y'].values)"
   ]
  },
  {
   "cell_type": "code",
   "execution_count": null,
   "metadata": {},
   "outputs": [],
   "source": [
    "plt.plot(coordinates_aligned['DLC_resnet50_GRIN_rotarod_rearviewApr2shuffle1_300000']['right_r_paw']['x'].values)"
   ]
  },
  {
   "cell_type": "code",
   "execution_count": null,
   "metadata": {},
   "outputs": [],
   "source": [
    "interpolated = dlc_utils.downsample_and_interpolate(aligned, '.05S', '1S', 'linear')"
   ]
  },
  {
   "cell_type": "code",
   "execution_count": null,
   "metadata": {
    "scrolled": true
   },
   "outputs": [],
   "source": [
    "interpolated"
   ]
  },
  {
   "cell_type": "code",
   "execution_count": null,
   "metadata": {},
   "outputs": [],
   "source": [
    "plt.plot(interpolated['tail_base_likelihood'].values)"
   ]
  },
  {
   "cell_type": "code",
   "execution_count": null,
   "metadata": {},
   "outputs": [],
   "source": [
    "plt.plot(interpolated['tail_base'].values)"
   ]
  },
  {
   "cell_type": "code",
   "execution_count": null,
   "metadata": {},
   "outputs": [],
   "source": [
    "plt.plot(interpolated['right_r_paw_likelihood'].values)"
   ]
  },
  {
   "cell_type": "code",
   "execution_count": null,
   "metadata": {},
   "outputs": [],
   "source": [
    "plt.plot(interpolated['right_r_paw'].values)"
   ]
  },
  {
   "cell_type": "code",
   "execution_count": null,
   "metadata": {},
   "outputs": [],
   "source": []
  },
  {
   "cell_type": "code",
   "execution_count": null,
   "metadata": {},
   "outputs": [],
   "source": [
    "#aligned = dlc_utils.downsample_dlc_to_behavior(output_directory+'GRIN012_H17_M46_S35_compiled_session_04142020.h5', output_directory+'timestamp.dat')\n",
    "dlc_analysis = pd.read_hdf(output_directory+'GRIN012_H17_M46_S35_compiled_session_04142020.h5')"
   ]
  },
  {
   "cell_type": "code",
   "execution_count": null,
   "metadata": {},
   "outputs": [],
   "source": [
    "frame_clock_df = pd.read_table(output_directory+'timestamp.dat')"
   ]
  },
  {
   "cell_type": "code",
   "execution_count": null,
   "metadata": {},
   "outputs": [],
   "source": [
    "dlc_full = dlc_full.reset_index()"
   ]
  },
  {
   "cell_type": "code",
   "execution_count": null,
   "metadata": {},
   "outputs": [],
   "source": [
    "msCam_timestamps = frame_clock_df[frame_clock_df['camNum'] == 0].set_index('frameNum')\n",
    "behavCam_timestamps = frame_clock_df[frame_clock_df['camNum'] == 1].set_index('frameNum')\n",
    "msCam_timestamps['sysClock'][1] = 0\n",
    "behavCam_timestamps['sysClock'][1] = 0"
   ]
  },
  {
   "cell_type": "code",
   "execution_count": null,
   "metadata": {},
   "outputs": [],
   "source": [
    "msCam_timestamps"
   ]
  },
  {
   "cell_type": "code",
   "execution_count": null,
   "metadata": {},
   "outputs": [],
   "source": [
    "behavCam_timestamps"
   ]
  },
  {
   "cell_type": "code",
   "execution_count": null,
   "metadata": {},
   "outputs": [],
   "source": [
    "msCam_timestamps = dlc_utils.align_behavior_data(msCam_timestamps, behavCam_timestamps)\n",
    "msCam_timestamps.reset_index(inplace=True)"
   ]
  },
  {
   "cell_type": "code",
   "execution_count": null,
   "metadata": {},
   "outputs": [],
   "source": []
  }
 ],
 "metadata": {
  "kernelspec": {
   "display_name": "jupyter_env",
   "language": "python",
   "name": "jupyter_env"
  },
  "language_info": {
   "codemirror_mode": {
    "name": "ipython",
    "version": 3
   },
   "file_extension": ".py",
   "mimetype": "text/x-python",
   "name": "python",
   "nbconvert_exporter": "python",
   "pygments_lexer": "ipython3",
   "version": "3.8.1"
  }
 },
 "nbformat": 4,
 "nbformat_minor": 2
}
