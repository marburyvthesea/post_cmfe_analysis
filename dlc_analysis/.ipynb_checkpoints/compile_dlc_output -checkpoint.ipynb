{
 "cells": [
  {
   "cell_type": "code",
   "execution_count": null,
   "metadata": {
    "collapsed": false
   },
   "outputs": [],
   "source": [
    "from IPython.core.display import display, HTML\n",
    "display(HTML(\"<style>.container { width:90% !important; }</style>\"))"
   ]
  },
  {
   "cell_type": "code",
   "execution_count": null,
   "metadata": {
    "collapsed": false
   },
   "outputs": [],
   "source": [
    "import os\n",
    "import pandas as pd\n",
    "import numpy as np\n",
    "import sys\n",
    "from tqdm import tqdm\n",
    "sys.path.append('/home/jma819/post_cmfe_analysis')\n",
    "#sys.path.append('/Users/johnmarshall/Documents/Analysis/PythonAnalysisScripts/post_cmfe_analysis')\n",
    "import dlc_utils"
   ]
  },
  {
   "cell_type": "code",
   "execution_count": null,
   "metadata": {
    "collapsed": false
   },
   "outputs": [],
   "source": [
    "from importlib import reload\n",
    "reload(dlc_utils)"
   ]
  },
  {
   "cell_type": "code",
   "execution_count": null,
   "metadata": {
    "collapsed": true
   },
   "outputs": [],
   "source": [
    "#dlc_directory = '/volumes/My_Passport/dlc_analysis/behavcamvideos/open_field_miniscope/'\n",
    "dlc_directory = '/projects/b1118/behaviorvideos/'"
   ]
  },
  {
   "cell_type": "code",
   "execution_count": null,
   "metadata": {
    "collapsed": true
   },
   "outputs": [],
   "source": [
    "experiment_folders = [folder for folder in os.listdir(dlc_directory) if '_H' in folder]"
   ]
  },
  {
   "cell_type": "code",
   "execution_count": null,
   "metadata": {
    "collapsed": false
   },
   "outputs": [],
   "source": [
    "experiment_folders"
   ]
  },
  {
   "cell_type": "code",
   "execution_count": null,
   "metadata": {
    "collapsed": false
   },
   "outputs": [],
   "source": [
    "for folder in tqdm(experiment_folders):\n",
    "    output_directory = dlc_directory+folder+'/'\n",
    "    session_name = folder\n",
    "    print(folder)\n",
    "    dlc_output_files = os.listdir(output_directory)\n",
    "    dlc_output_files.sort()\n",
    "    \n",
    "    names = []\n",
    "    dlc_dfs = []\n",
    "    for output_file in dlc_output_files:\n",
    "        if output_file.endswith('000.h5'):\n",
    "            print(output_file)\n",
    "            dlc_output = pd.read_hdf(output_directory + output_file)\n",
    "            dlc_output = dlc_utils.calculate_centroid(dlc_output)\n",
    "            dlc_output.head()\n",
    "            coordinates_delta_df = dlc_utils.difference_df(dlc_output)\n",
    "            df_columns = list(dlc_output.columns)\n",
    "            print('calculating velocity')\n",
    "            velocity_df = pd.DataFrame(np.transpose(np.array([np.array([dlc_utils.velocity(coordinates_delta_df[body_part]['x'].values[frame],coordinates_delta_df[body_part]['y'].values[frame]) for frame in range(len(coordinates_delta_df))]) for body_part in list(set([df_columns[item][1] for item in range(len(df_columns))]))])), \n",
    "                                       columns=list(set([df_columns[item][1] for item in range(len(df_columns))]))) \n",
    "            for body_part in list(set([df_columns[item][1] for item in range(len(df_columns))])):\n",
    "                velocity_df[body_part+'_likelihood']=dlc_output[df_columns[0][0]][body_part]['likelihood'].values\n",
    "            \n",
    "            names.append(output_file)\n",
    "            dlc_dfs.append(velocity_df)\n",
    "\n",
    "    session_compiled = pd.concat(dlc_dfs, keys=names)\n",
    "\n",
    "    #save compiled session \n",
    "    session_compiled.to_hdf(output_directory+session_name+'_compiled_session_02112021.h5', key='df')\n",
    "\n",
    "    #create behavior data aligned to the msCam frames\n",
    "    aligned = dlc_utils.downsample_dlc_to_behavior(output_directory+session_name+'_compiled_session_02112021.h5', output_directory+'timestamp.dat')\n",
    "    aligned.reset_index(inplace=True)\n",
    "    aligned['msCamFrame'] = aligned.index.values\n",
    "    aligned = aligned.set_index(pd.to_timedelta(np.linspace(0, len(aligned)*(1/20), len(aligned)), unit='s'), drop=False)\n",
    "\n",
    "    #smooth data by downsampling and interpolating \n",
    "    interpolated = dlc_utils.downsample_and_interpolate(aligned, '.05S', '1S', 'linear')\n",
    "    interpolated.to_csv(output_directory+session_name+'_dlc_tracking_foranalysis_02112021.csv')\n",
    "\n",
    "    output_directory+session_name+'_dlc_tracking_foranalysis.csv'"
   ]
  },
  {
   "cell_type": "code",
   "execution_count": null,
   "metadata": {
    "collapsed": true
   },
   "outputs": [],
   "source": [
    "#fixing errors\n",
    "GRIN012_H17_M46_S35_error\n",
    "GRIN033_H13_M42_S33\n",
    "GRIN033_H14_M34_S32_01162020"
   ]
  },
  {
   "cell_type": "code",
   "execution_count": null,
   "metadata": {
    "collapsed": true
   },
   "outputs": [],
   "source": [
    "#aligned = dlc_utils.downsample_dlc_to_behavior(output_directory+'GRIN012_H17_M46_S35_compiled_session_04142020.h5', output_directory+'timestamp.dat')\n",
    "dlc_analysis = pd.read_hdf(output_directory+'GRIN012_H17_M46_S35_compiled_session_04142020.h5')"
   ]
  },
  {
   "cell_type": "code",
   "execution_count": null,
   "metadata": {
    "collapsed": true
   },
   "outputs": [],
   "source": [
    "frame_clock_df = pd.read_table(output_directory+'timestamp.dat')"
   ]
  },
  {
   "cell_type": "code",
   "execution_count": null,
   "metadata": {
    "collapsed": true
   },
   "outputs": [],
   "source": [
    "dlc_full = dlc_full.reset_index()"
   ]
  },
  {
   "cell_type": "code",
   "execution_count": null,
   "metadata": {
    "collapsed": true
   },
   "outputs": [],
   "source": [
    "msCam_timestamps = frame_clock_df[frame_clock_df['camNum'] == 0].set_index('frameNum')\n",
    "behavCam_timestamps = frame_clock_df[frame_clock_df['camNum'] == 1].set_index('frameNum')\n",
    "msCam_timestamps['sysClock'][1] = 0\n",
    "behavCam_timestamps['sysClock'][1] = 0"
   ]
  },
  {
   "cell_type": "code",
   "execution_count": null,
   "metadata": {
    "collapsed": false
   },
   "outputs": [],
   "source": [
    "msCam_timestamps"
   ]
  },
  {
   "cell_type": "code",
   "execution_count": null,
   "metadata": {
    "collapsed": false
   },
   "outputs": [],
   "source": [
    "behavCam_timestamps"
   ]
  },
  {
   "cell_type": "code",
   "execution_count": null,
   "metadata": {
    "collapsed": false
   },
   "outputs": [],
   "source": [
    "msCam_timestamps = dlc_utils.align_behavior_data(msCam_timestamps, behavCam_timestamps)\n",
    "msCam_timestamps.reset_index(inplace=True)"
   ]
  },
  {
   "cell_type": "code",
   "execution_count": null,
   "metadata": {
    "collapsed": true
   },
   "outputs": [],
   "source": []
  }
 ],
 "metadata": {
  "kernelspec": {
   "display_name": "caiman",
   "language": "python",
   "name": "caiman"
  },
  "language_info": {
   "codemirror_mode": {
    "name": "ipython",
    "version": 3
   },
   "file_extension": ".py",
   "mimetype": "text/x-python",
   "name": "python",
   "nbconvert_exporter": "python",
   "pygments_lexer": "ipython3",
   "version": "3.6.7"
  }
 },
 "nbformat": 4,
 "nbformat_minor": 2
}
