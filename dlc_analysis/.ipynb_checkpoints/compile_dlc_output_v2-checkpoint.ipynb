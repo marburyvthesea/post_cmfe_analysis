{
 "cells": [
  {
   "cell_type": "code",
   "execution_count": 1,
   "metadata": {
    "collapsed": false,
    "scrolled": true
   },
   "outputs": [
    {
     "data": {
      "text/html": [
       "<style>.container { width:90% !important; }</style>"
      ],
      "text/plain": [
       "<IPython.core.display.HTML object>"
      ]
     },
     "metadata": {},
     "output_type": "display_data"
    }
   ],
   "source": [
    "from IPython.core.display import display, HTML\n",
    "display(HTML(\"<style>.container { width:90% !important; }</style>\"))"
   ]
  },
  {
   "cell_type": "code",
   "execution_count": 8,
   "metadata": {
    "collapsed": false
   },
   "outputs": [],
   "source": [
    "import os\n",
    "import pandas as pd\n",
    "import numpy as np\n",
    "import sys\n",
    "from tqdm import tqdm\n",
    "import h5py\n",
    "sys.path.append('/home/jma819/post_cmfe_analysis')\n",
    "#sys.path.append('/Users/johnmarshall/Documents/Analysis/PythonAnalysisScripts/post_cmfe_analysis')\n",
    "import dlc_utils"
   ]
  },
  {
   "cell_type": "code",
   "execution_count": 9,
   "metadata": {
    "collapsed": false
   },
   "outputs": [
    {
     "data": {
      "text/plain": [
       "<module 'dlc_utils' from '/home/jma819/post_cmfe_analysis/dlc_utils.py'>"
      ]
     },
     "execution_count": 9,
     "metadata": {},
     "output_type": "execute_result"
    }
   ],
   "source": [
    "from importlib import reload\n",
    "reload(dlc_utils)"
   ]
  },
  {
   "cell_type": "code",
   "execution_count": 10,
   "metadata": {
    "collapsed": true
   },
   "outputs": [],
   "source": [
    "#dlc_directory = '/volumes/My_Passport/dlc_analysis/behavcamvideos/open_field_miniscope/'\n",
    "dlc_directory = '/projects/b1118/behaviorvideos/'"
   ]
  },
  {
   "cell_type": "code",
   "execution_count": 11,
   "metadata": {
    "collapsed": true
   },
   "outputs": [],
   "source": [
    "experiment_folders = [folder for folder in os.listdir(dlc_directory) if '_H' in folder]"
   ]
  },
  {
   "cell_type": "code",
   "execution_count": 12,
   "metadata": {
    "collapsed": false
   },
   "outputs": [
    {
     "data": {
      "text/plain": [
       "['GRIN013_H13_M33_S54']"
      ]
     },
     "execution_count": 12,
     "metadata": {},
     "output_type": "execute_result"
    }
   ],
   "source": [
    "experiment_folders"
   ]
  },
  {
   "cell_type": "code",
   "execution_count": 14,
   "metadata": {
    "collapsed": false
   },
   "outputs": [
    {
     "name": "stderr",
     "output_type": "stream",
     "text": [
      "100%|██████████| 1/1 [00:00<00:00, 519.80it/s]"
     ]
    },
    {
     "name": "stdout",
     "output_type": "stream",
     "text": [
      "GRIN013_H13_M33_S54\n"
     ]
    },
    {
     "name": "stderr",
     "output_type": "stream",
     "text": [
      "\n"
     ]
    }
   ],
   "source": [
    "for folder in tqdm(experiment_folders):\n",
    "    output_directory = dlc_directory+folder+'/'\n",
    "    session_name = folder\n",
    "    print(folder)\n",
    "    dlc_output_files = os.listdir(output_directory)\n",
    "    dlc_output_files.sort()\n",
    "    \n",
    "    names = []\n",
    "    dlc_dfs = []\n",
    "    "
   ]
  },
  {
   "cell_type": "code",
   "execution_count": 15,
   "metadata": {
    "collapsed": false
   },
   "outputs": [
    {
     "data": {
      "text/plain": [
       "['GRIN013_H13_M33_S54_compiled_session_02112021.h5',\n",
       " 'GRIN013_H13_M33_S54_dlc_tracking_foranalysis_02112021.csv',\n",
       " 'behavCam01.avi',\n",
       " 'behavCam01DLC_resnet50_Open_Field_v2Jan27shuffle1_150000.h5',\n",
       " 'behavCam01DLC_resnet50_Open_Field_v2Jan27shuffle1_150000_labeled.mp4',\n",
       " 'behavCam01DLC_resnet50_Open_Field_v2Jan27shuffle1_150000includingmetadata.pickle',\n",
       " 'behavCam02.avi',\n",
       " 'behavCam02DLC_resnet50_Open_Field_v2Jan27shuffle1_150000.h5',\n",
       " 'behavCam02DLC_resnet50_Open_Field_v2Jan27shuffle1_150000_labeled.mp4',\n",
       " 'behavCam02DLC_resnet50_Open_Field_v2Jan27shuffle1_150000includingmetadata.pickle',\n",
       " 'behavCam03.avi',\n",
       " 'behavCam03DLC_resnet50_Open_Field_v2Jan27shuffle1_150000.h5',\n",
       " 'behavCam03DLC_resnet50_Open_Field_v2Jan27shuffle1_150000_labeled.mp4',\n",
       " 'behavCam03DLC_resnet50_Open_Field_v2Jan27shuffle1_150000includingmetadata.pickle',\n",
       " 'behavCam04.avi',\n",
       " 'behavCam04DLC_resnet50_Open_Field_v2Jan27shuffle1_150000.h5',\n",
       " 'behavCam04DLC_resnet50_Open_Field_v2Jan27shuffle1_150000_labeled.mp4',\n",
       " 'behavCam04DLC_resnet50_Open_Field_v2Jan27shuffle1_150000includingmetadata.pickle',\n",
       " 'behavCam05.avi',\n",
       " 'behavCam05DLC_resnet50_Open_Field_v2Jan27shuffle1_150000.h5',\n",
       " 'behavCam05DLC_resnet50_Open_Field_v2Jan27shuffle1_150000_labeled.mp4',\n",
       " 'behavCam05DLC_resnet50_Open_Field_v2Jan27shuffle1_150000includingmetadata.pickle',\n",
       " 'behavCam06.avi',\n",
       " 'behavCam06DLC_resnet50_Open_Field_v2Jan27shuffle1_150000.h5',\n",
       " 'behavCam06DLC_resnet50_Open_Field_v2Jan27shuffle1_150000_labeled.mp4',\n",
       " 'behavCam06DLC_resnet50_Open_Field_v2Jan27shuffle1_150000includingmetadata.pickle',\n",
       " 'behavCam07.avi',\n",
       " 'behavCam07DLC_resnet50_Open_Field_v2Jan27shuffle1_150000.h5',\n",
       " 'behavCam07DLC_resnet50_Open_Field_v2Jan27shuffle1_150000_labeled.mp4',\n",
       " 'behavCam07DLC_resnet50_Open_Field_v2Jan27shuffle1_150000includingmetadata.pickle',\n",
       " 'behavCam08.avi',\n",
       " 'behavCam08DLC_resnet50_Open_Field_v2Jan27shuffle1_150000.h5',\n",
       " 'behavCam08DLC_resnet50_Open_Field_v2Jan27shuffle1_150000_labeled.mp4',\n",
       " 'behavCam08DLC_resnet50_Open_Field_v2Jan27shuffle1_150000includingmetadata.pickle',\n",
       " 'behavCam09.avi',\n",
       " 'behavCam09DLC_resnet50_Open_Field_v2Jan27shuffle1_150000.h5',\n",
       " 'behavCam09DLC_resnet50_Open_Field_v2Jan27shuffle1_150000_labeled.mp4',\n",
       " 'behavCam09DLC_resnet50_Open_Field_v2Jan27shuffle1_150000includingmetadata.pickle',\n",
       " 'behavCam10.avi',\n",
       " 'behavCam10DLC_resnet50_Open_Field_v2Jan27shuffle1_150000.h5',\n",
       " 'behavCam10DLC_resnet50_Open_Field_v2Jan27shuffle1_150000_labeled.mp4',\n",
       " 'behavCam10DLC_resnet50_Open_Field_v2Jan27shuffle1_150000includingmetadata.pickle',\n",
       " 'behavCam11.avi',\n",
       " 'behavCam11DLC_resnet50_Open_Field_v2Jan27shuffle1_150000.h5',\n",
       " 'behavCam11DLC_resnet50_Open_Field_v2Jan27shuffle1_150000_labeled.mp4',\n",
       " 'behavCam11DLC_resnet50_Open_Field_v2Jan27shuffle1_150000includingmetadata.pickle',\n",
       " 'behavCam12.avi',\n",
       " 'behavCam12DLC_resnet50_Open_Field_v2Jan27shuffle1_150000.h5',\n",
       " 'behavCam12DLC_resnet50_Open_Field_v2Jan27shuffle1_150000_labeled.mp4',\n",
       " 'behavCam12DLC_resnet50_Open_Field_v2Jan27shuffle1_150000includingmetadata.pickle',\n",
       " 'behavCam13.avi',\n",
       " 'behavCam13DLC_resnet50_Open_Field_v2Jan27shuffle1_150000.h5',\n",
       " 'behavCam13DLC_resnet50_Open_Field_v2Jan27shuffle1_150000_labeled.mp4',\n",
       " 'behavCam13DLC_resnet50_Open_Field_v2Jan27shuffle1_150000includingmetadata.pickle',\n",
       " 'behavCam14.avi',\n",
       " 'behavCam14DLC_resnet50_Open_Field_v2Jan27shuffle1_150000.h5',\n",
       " 'behavCam14DLC_resnet50_Open_Field_v2Jan27shuffle1_150000_labeled.mp4',\n",
       " 'behavCam14DLC_resnet50_Open_Field_v2Jan27shuffle1_150000includingmetadata.pickle',\n",
       " 'behavCam15.avi',\n",
       " 'behavCam15DLC_resnet50_Open_Field_v2Jan27shuffle1_150000.h5',\n",
       " 'behavCam15DLC_resnet50_Open_Field_v2Jan27shuffle1_150000_labeled.mp4',\n",
       " 'behavCam15DLC_resnet50_Open_Field_v2Jan27shuffle1_150000includingmetadata.pickle',\n",
       " 'behavCam16.avi',\n",
       " 'behavCam16DLC_resnet50_Open_Field_v2Jan27shuffle1_150000.h5',\n",
       " 'behavCam16DLC_resnet50_Open_Field_v2Jan27shuffle1_150000_labeled.mp4',\n",
       " 'behavCam16DLC_resnet50_Open_Field_v2Jan27shuffle1_150000includingmetadata.pickle',\n",
       " 'behavCam17.avi',\n",
       " 'behavCam17DLC_resnet50_Open_Field_v2Jan27shuffle1_150000.h5',\n",
       " 'behavCam17DLC_resnet50_Open_Field_v2Jan27shuffle1_150000_labeled.mp4',\n",
       " 'behavCam17DLC_resnet50_Open_Field_v2Jan27shuffle1_150000includingmetadata.pickle',\n",
       " 'behavCam18.avi',\n",
       " 'behavCam18DLC_resnet50_Open_Field_v2Jan27shuffle1_150000.h5',\n",
       " 'behavCam18DLC_resnet50_Open_Field_v2Jan27shuffle1_150000_labeled.mp4',\n",
       " 'behavCam18DLC_resnet50_Open_Field_v2Jan27shuffle1_150000includingmetadata.pickle',\n",
       " 'behavCam19.avi',\n",
       " 'behavCam19DLC_resnet50_Open_Field_v2Jan27shuffle1_150000.h5',\n",
       " 'behavCam19DLC_resnet50_Open_Field_v2Jan27shuffle1_150000_labeled.mp4',\n",
       " 'behavCam19DLC_resnet50_Open_Field_v2Jan27shuffle1_150000includingmetadata.pickle',\n",
       " 'behavCam20.avi',\n",
       " 'behavCam20DLC_resnet50_Open_Field_v2Jan27shuffle1_150000.h5',\n",
       " 'behavCam20DLC_resnet50_Open_Field_v2Jan27shuffle1_150000_labeled.mp4',\n",
       " 'behavCam20DLC_resnet50_Open_Field_v2Jan27shuffle1_150000includingmetadata.pickle',\n",
       " 'behavCam21.avi',\n",
       " 'behavCam21DLC_resnet50_Open_Field_v2Jan27shuffle1_150000.h5',\n",
       " 'behavCam21DLC_resnet50_Open_Field_v2Jan27shuffle1_150000_labeled.mp4',\n",
       " 'behavCam21DLC_resnet50_Open_Field_v2Jan27shuffle1_150000includingmetadata.pickle',\n",
       " 'behavCam22.avi',\n",
       " 'behavCam22DLC_resnet50_Open_Field_v2Jan27shuffle1_150000.h5',\n",
       " 'behavCam22DLC_resnet50_Open_Field_v2Jan27shuffle1_150000_labeled.mp4',\n",
       " 'behavCam22DLC_resnet50_Open_Field_v2Jan27shuffle1_150000includingmetadata.pickle',\n",
       " 'behavCam23.avi',\n",
       " 'behavCam23DLC_resnet50_Open_Field_v2Jan27shuffle1_150000.h5',\n",
       " 'behavCam23DLC_resnet50_Open_Field_v2Jan27shuffle1_150000_labeled.mp4',\n",
       " 'behavCam23DLC_resnet50_Open_Field_v2Jan27shuffle1_150000includingmetadata.pickle',\n",
       " 'behavCam24.avi',\n",
       " 'behavCam24DLC_resnet50_Open_Field_v2Jan27shuffle1_150000.h5',\n",
       " 'behavCam24DLC_resnet50_Open_Field_v2Jan27shuffle1_150000_labeled.mp4',\n",
       " 'behavCam24DLC_resnet50_Open_Field_v2Jan27shuffle1_150000includingmetadata.pickle',\n",
       " 'behavCam25.avi',\n",
       " 'behavCam25DLC_resnet50_Open_Field_v2Jan27shuffle1_150000.h5',\n",
       " 'behavCam25DLC_resnet50_Open_Field_v2Jan27shuffle1_150000_labeled.mp4',\n",
       " 'behavCam25DLC_resnet50_Open_Field_v2Jan27shuffle1_150000includingmetadata.pickle',\n",
       " 'behavCam26.avi',\n",
       " 'behavCam26DLC_resnet50_Open_Field_v2Jan27shuffle1_150000.h5',\n",
       " 'behavCam26DLC_resnet50_Open_Field_v2Jan27shuffle1_150000_labeled.mp4',\n",
       " 'behavCam26DLC_resnet50_Open_Field_v2Jan27shuffle1_150000includingmetadata.pickle',\n",
       " 'behavCam27.avi',\n",
       " 'behavCam27DLC_resnet50_Open_Field_v2Jan27shuffle1_150000.h5',\n",
       " 'behavCam27DLC_resnet50_Open_Field_v2Jan27shuffle1_150000_labeled.mp4',\n",
       " 'behavCam27DLC_resnet50_Open_Field_v2Jan27shuffle1_150000includingmetadata.pickle',\n",
       " 'behavCam28.avi',\n",
       " 'behavCam28DLC_resnet50_Open_Field_v2Jan27shuffle1_150000.h5',\n",
       " 'behavCam28DLC_resnet50_Open_Field_v2Jan27shuffle1_150000_labeled.mp4',\n",
       " 'behavCam28DLC_resnet50_Open_Field_v2Jan27shuffle1_150000includingmetadata.pickle',\n",
       " 'behavCam29.avi',\n",
       " 'behavCam29DLC_resnet50_Open_Field_v2Jan27shuffle1_150000.h5',\n",
       " 'behavCam29DLC_resnet50_Open_Field_v2Jan27shuffle1_150000_labeled.mp4',\n",
       " 'behavCam29DLC_resnet50_Open_Field_v2Jan27shuffle1_150000includingmetadata.pickle',\n",
       " 'behavCam30.avi',\n",
       " 'behavCam30DLC_resnet50_Open_Field_v2Jan27shuffle1_150000.h5',\n",
       " 'behavCam30DLC_resnet50_Open_Field_v2Jan27shuffle1_150000_labeled.mp4',\n",
       " 'behavCam30DLC_resnet50_Open_Field_v2Jan27shuffle1_150000includingmetadata.pickle',\n",
       " 'behavCam31.avi',\n",
       " 'behavCam31DLC_resnet50_Open_Field_v2Jan27shuffle1_150000.h5',\n",
       " 'behavCam31DLC_resnet50_Open_Field_v2Jan27shuffle1_150000_labeled.mp4',\n",
       " 'behavCam31DLC_resnet50_Open_Field_v2Jan27shuffle1_150000includingmetadata.pickle',\n",
       " 'behavCam32.avi',\n",
       " 'behavCam32DLC_resnet50_Open_Field_v2Jan27shuffle1_150000.h5',\n",
       " 'behavCam32DLC_resnet50_Open_Field_v2Jan27shuffle1_150000_labeled.mp4',\n",
       " 'behavCam32DLC_resnet50_Open_Field_v2Jan27shuffle1_150000includingmetadata.pickle',\n",
       " 'behavCam33.avi',\n",
       " 'behavCam33DLC_resnet50_Open_Field_v2Jan27shuffle1_150000.h5',\n",
       " 'behavCam33DLC_resnet50_Open_Field_v2Jan27shuffle1_150000_labeled.mp4',\n",
       " 'behavCam33DLC_resnet50_Open_Field_v2Jan27shuffle1_150000includingmetadata.pickle',\n",
       " 'behavCam34.avi',\n",
       " 'behavCam34DLC_resnet50_Open_Field_v2Jan27shuffle1_150000.h5',\n",
       " 'behavCam34DLC_resnet50_Open_Field_v2Jan27shuffle1_150000_labeled.mp4',\n",
       " 'behavCam34DLC_resnet50_Open_Field_v2Jan27shuffle1_150000includingmetadata.pickle',\n",
       " 'behavCam35.avi',\n",
       " 'behavCam35DLC_resnet50_Open_Field_v2Jan27shuffle1_150000.h5',\n",
       " 'behavCam35DLC_resnet50_Open_Field_v2Jan27shuffle1_150000_labeled.mp4',\n",
       " 'behavCam35DLC_resnet50_Open_Field_v2Jan27shuffle1_150000includingmetadata.pickle',\n",
       " 'behavCam36.avi',\n",
       " 'behavCam36DLC_resnet50_Open_Field_v2Jan27shuffle1_150000.h5',\n",
       " 'behavCam36DLC_resnet50_Open_Field_v2Jan27shuffle1_150000_labeled.mp4',\n",
       " 'behavCam36DLC_resnet50_Open_Field_v2Jan27shuffle1_150000includingmetadata.pickle',\n",
       " 'behavCam37.avi',\n",
       " 'behavCam37DLC_resnet50_Open_Field_v2Jan27shuffle1_150000.h5',\n",
       " 'behavCam37DLC_resnet50_Open_Field_v2Jan27shuffle1_150000_labeled.mp4',\n",
       " 'behavCam37DLC_resnet50_Open_Field_v2Jan27shuffle1_150000includingmetadata.pickle',\n",
       " 'behavCam38.avi',\n",
       " 'behavCam38DLC_resnet50_Open_Field_v2Jan27shuffle1_150000.h5',\n",
       " 'behavCam38DLC_resnet50_Open_Field_v2Jan27shuffle1_150000_labeled.mp4',\n",
       " 'behavCam38DLC_resnet50_Open_Field_v2Jan27shuffle1_150000includingmetadata.pickle',\n",
       " 'timestamp.dat']"
      ]
     },
     "execution_count": 15,
     "metadata": {},
     "output_type": "execute_result"
    }
   ],
   "source": [
    "dlc_output_files"
   ]
  },
  {
   "cell_type": "code",
   "execution_count": 17,
   "metadata": {
    "collapsed": false
   },
   "outputs": [],
   "source": [
    "dlc_output = h5py.File('/projects/b1118/behaviorvideos/GRIN013_H13_M33_S54/behavCam02DLC_resnet50_Open_Field_v2Jan27shuffle1_150000.h5', 'r')"
   ]
  },
  {
   "cell_type": "code",
   "execution_count": 20,
   "metadata": {
    "collapsed": false
   },
   "outputs": [
    {
     "data": {
      "text/plain": [
       "<KeysViewHDF5 ['df_with_missing']>"
      ]
     },
     "execution_count": 20,
     "metadata": {},
     "output_type": "execute_result"
    }
   ],
   "source": [
    "dlc_output.keys()"
   ]
  },
  {
   "cell_type": "code",
   "execution_count": 22,
   "metadata": {
    "collapsed": false
   },
   "outputs": [
    {
     "data": {
      "text/plain": [
       "<KeysViewHDF5 ['_i_table', 'table']>"
      ]
     },
     "execution_count": 22,
     "metadata": {},
     "output_type": "execute_result"
    }
   ],
   "source": [
    "dlc_output.get('df_with_missing').keys()"
   ]
  },
  {
   "cell_type": "code",
   "execution_count": 28,
   "metadata": {
    "collapsed": false,
    "scrolled": false
   },
   "outputs": [
    {
     "data": {
      "text/plain": [
       "(1000,)"
      ]
     },
     "execution_count": 28,
     "metadata": {},
     "output_type": "execute_result"
    }
   ],
   "source": [
    "np.shape(np.array(dlc_output.get('df_with_missing').get('table')))"
   ]
  },
  {
   "cell_type": "code",
   "execution_count": 26,
   "metadata": {
    "collapsed": false
   },
   "outputs": [
    {
     "data": {
      "text/plain": [
       "<HDF5 group \"/df_with_missing/_i_table\" (1 members)>"
      ]
     },
     "execution_count": 26,
     "metadata": {},
     "output_type": "execute_result"
    }
   ],
   "source": [
    "dlc_output.get('df_with_missing').get('_i_table').get(\"/df_with_missing/_i_table\").get(\"/df_with_missing/_i_table\")"
   ]
  },
  {
   "cell_type": "code",
   "execution_count": 7,
   "metadata": {
    "collapsed": false
   },
   "outputs": [
    {
     "name": "stderr",
     "output_type": "stream",
     "text": [
      "\r",
      "  0%|          | 0/1 [00:00<?, ?it/s]"
     ]
    },
    {
     "name": "stdout",
     "output_type": "stream",
     "text": [
      "GRIN013_H13_M33_S54\n",
      "behavCam01DLC_resnet50_Open_Field_v2Jan27shuffle1_150000.h5\n"
     ]
    },
    {
     "name": "stderr",
     "output_type": "stream",
     "text": [
      "\n"
     ]
    },
    {
     "ename": "AttributeError",
     "evalue": "module 'pandas' has no attribute 'read_hdf'",
     "output_type": "error",
     "traceback": [
      "\u001b[0;31m---------------------------------------------------------------------------\u001b[0m",
      "\u001b[0;31mAttributeError\u001b[0m                            Traceback (most recent call last)",
      "\u001b[0;32m<ipython-input-7-2a411515d9dc>\u001b[0m in \u001b[0;36m<module>\u001b[0;34m\u001b[0m\n\u001b[1;32m     11\u001b[0m         \u001b[0;32mif\u001b[0m \u001b[0moutput_file\u001b[0m\u001b[0;34m.\u001b[0m\u001b[0mendswith\u001b[0m\u001b[0;34m(\u001b[0m\u001b[0;34m'000.h5'\u001b[0m\u001b[0;34m)\u001b[0m\u001b[0;34m:\u001b[0m\u001b[0;34m\u001b[0m\u001b[0;34m\u001b[0m\u001b[0m\n\u001b[1;32m     12\u001b[0m             \u001b[0mprint\u001b[0m\u001b[0;34m(\u001b[0m\u001b[0moutput_file\u001b[0m\u001b[0;34m)\u001b[0m\u001b[0;34m\u001b[0m\u001b[0;34m\u001b[0m\u001b[0m\n\u001b[0;32m---> 13\u001b[0;31m             \u001b[0mdlc_output\u001b[0m \u001b[0;34m=\u001b[0m \u001b[0mpd\u001b[0m\u001b[0;34m.\u001b[0m\u001b[0mread_hdf\u001b[0m\u001b[0;34m(\u001b[0m\u001b[0moutput_directory\u001b[0m \u001b[0;34m+\u001b[0m \u001b[0moutput_file\u001b[0m\u001b[0;34m)\u001b[0m\u001b[0;34m\u001b[0m\u001b[0;34m\u001b[0m\u001b[0m\n\u001b[0m\u001b[1;32m     14\u001b[0m             \u001b[0mdlc_output\u001b[0m \u001b[0;34m=\u001b[0m \u001b[0mdlc_utils\u001b[0m\u001b[0;34m.\u001b[0m\u001b[0mcalculate_centroid\u001b[0m\u001b[0;34m(\u001b[0m\u001b[0mdlc_output\u001b[0m\u001b[0;34m)\u001b[0m\u001b[0;34m\u001b[0m\u001b[0;34m\u001b[0m\u001b[0m\n\u001b[1;32m     15\u001b[0m             \u001b[0mdlc_output\u001b[0m\u001b[0;34m.\u001b[0m\u001b[0mhead\u001b[0m\u001b[0;34m(\u001b[0m\u001b[0;34m)\u001b[0m\u001b[0;34m\u001b[0m\u001b[0;34m\u001b[0m\u001b[0m\n",
      "\u001b[0;31mAttributeError\u001b[0m: module 'pandas' has no attribute 'read_hdf'"
     ]
    }
   ],
   "source": [
    "for folder in tqdm(experiment_folders):\n",
    "    output_directory = dlc_directory+folder+'/'\n",
    "    session_name = folder\n",
    "    print(folder)\n",
    "    dlc_output_files = os.listdir(output_directory)\n",
    "    dlc_output_files.sort()\n",
    "    \n",
    "    names = []\n",
    "    dlc_dfs = []\n",
    "    for output_file in dlc_output_files:\n",
    "        if output_file.endswith('000.h5'):\n",
    "            print(output_file)\n",
    "            dlc_output = pd.read_hdf(output_directory + output_file)\n",
    "            dlc_output = dlc_utils.calculate_centroid(dlc_output)\n",
    "            dlc_output.head()\n",
    "            coordinates_delta_df = dlc_utils.difference_df(dlc_output)\n",
    "            df_columns = list(dlc_output.columns)\n",
    "            print('calculating velocity')\n",
    "            velocity_df = pd.DataFrame(np.transpose(np.array([np.array([dlc_utils.velocity(coordinates_delta_df[body_part]['x'].values[frame],coordinates_delta_df[body_part]['y'].values[frame]) for frame in range(len(coordinates_delta_df))]) for body_part in list(set([df_columns[item][1] for item in range(len(df_columns))]))])), \n",
    "                                       columns=list(set([df_columns[item][1] for item in range(len(df_columns))]))) \n",
    "            for body_part in list(set([df_columns[item][1] for item in range(len(df_columns))])):\n",
    "                velocity_df[body_part+'_likelihood']=dlc_output[df_columns[0][0]][body_part]['likelihood'].values\n",
    "            \n",
    "            names.append(output_file)\n",
    "            dlc_dfs.append(velocity_df)\n",
    "\n",
    "    session_compiled = pd.concat(dlc_dfs, keys=names)\n",
    "\n",
    "    #save compiled session \n",
    "    session_compiled.to_hdf(output_directory+session_name+'_compiled_session_02112021.h5', key='df')\n",
    "    session_compiled.to_csv(output_directory+session_name+'_compiled_session_02112021.csv')\n",
    "    \n",
    "    #create behavior data aligned to the msCam frames\n",
    "    aligned = dlc_utils.downsample_dlc_to_behavior(output_directory+session_name+'_compiled_session_02112021.h5', output_directory+'timestamp.dat')\n",
    "    aligned.reset_index(inplace=True)\n",
    "    aligned['msCamFrame'] = aligned.index.values\n",
    "    aligned = aligned.set_index(pd.to_timedelta(np.linspace(0, len(aligned)*(1/20), len(aligned)), unit='s'), drop=False)\n",
    "\n",
    "    #smooth data by downsampling and interpolating \n",
    "    interpolated = dlc_utils.downsample_and_interpolate(aligned, '.05S', '1S', 'linear')\n",
    "    interpolated.to_csv(output_directory+session_name+'_dlc_tracking_foranalysis_02112021.csv')\n",
    "\n",
    "    output_directory+session_name+'_dlc_tracking_foranalysis.csv'"
   ]
  },
  {
   "cell_type": "code",
   "execution_count": 17,
   "metadata": {
    "collapsed": false
   },
   "outputs": [
    {
     "data": {
      "text/plain": [
       "'/projects/b1118/behaviorvideos/GRIN013_H13_M33_S54/'"
      ]
     },
     "execution_count": 17,
     "metadata": {},
     "output_type": "execute_result"
    }
   ],
   "source": [
    "output_directory"
   ]
  },
  {
   "cell_type": "code",
   "execution_count": 18,
   "metadata": {
    "collapsed": true
   },
   "outputs": [],
   "source": [
    "#aligned = dlc_utils.downsample_dlc_to_behavior(output_directory+'GRIN012_H17_M46_S35_compiled_session_04142020.h5', output_directory+'timestamp.dat')\n",
    "dlc_analysis = pd.read_hdf(output_directory+'GRIN013_H13_M33_S54_compiled_session_02112021.h5')"
   ]
  },
  {
   "cell_type": "code",
   "execution_count": 20,
   "metadata": {
    "collapsed": false,
    "scrolled": true
   },
   "outputs": [
    {
     "data": {
      "text/plain": [
       "behavCam01DLC_resnet50_Open_Field_v2Jan27shuffle1_150000.h5  0           NaN\n",
       "                                                             1      0.020989\n",
       "                                                             2      0.223639\n",
       "                                                             3      0.125337\n",
       "                                                             4      0.208928\n",
       "                                                                      ...   \n",
       "behavCam38DLC_resnet50_Open_Field_v2Jan27shuffle1_150000.h5  995    0.399258\n",
       "                                                             996    0.400199\n",
       "                                                             997    0.563094\n",
       "                                                             998    0.821653\n",
       "                                                             999    0.664679\n",
       "Name: tail_base, Length: 38000, dtype: float64"
      ]
     },
     "execution_count": 20,
     "metadata": {},
     "output_type": "execute_result"
    }
   ],
   "source": [
    "dlc_analysis['tail_base']"
   ]
  },
  {
   "cell_type": "code",
   "execution_count": null,
   "metadata": {
    "collapsed": true
   },
   "outputs": [],
   "source": [
    "frame_clock_df = pd.read_table(output_directory+'timestamp.dat')"
   ]
  },
  {
   "cell_type": "code",
   "execution_count": null,
   "metadata": {
    "collapsed": true
   },
   "outputs": [],
   "source": [
    "dlc_full = dlc_full.reset_index()"
   ]
  },
  {
   "cell_type": "code",
   "execution_count": null,
   "metadata": {
    "collapsed": true
   },
   "outputs": [],
   "source": [
    "msCam_timestamps = frame_clock_df[frame_clock_df['camNum'] == 0].set_index('frameNum')\n",
    "behavCam_timestamps = frame_clock_df[frame_clock_df['camNum'] == 1].set_index('frameNum')\n",
    "msCam_timestamps['sysClock'][1] = 0\n",
    "behavCam_timestamps['sysClock'][1] = 0"
   ]
  },
  {
   "cell_type": "code",
   "execution_count": null,
   "metadata": {
    "collapsed": false
   },
   "outputs": [],
   "source": [
    "msCam_timestamps"
   ]
  },
  {
   "cell_type": "code",
   "execution_count": null,
   "metadata": {
    "collapsed": false
   },
   "outputs": [],
   "source": [
    "behavCam_timestamps"
   ]
  },
  {
   "cell_type": "code",
   "execution_count": null,
   "metadata": {
    "collapsed": false
   },
   "outputs": [],
   "source": [
    "msCam_timestamps = dlc_utils.align_behavior_data(msCam_timestamps, behavCam_timestamps)\n",
    "msCam_timestamps.reset_index(inplace=True)"
   ]
  },
  {
   "cell_type": "code",
   "execution_count": null,
   "metadata": {
    "collapsed": true
   },
   "outputs": [],
   "source": []
  }
 ],
 "metadata": {
  "kernelspec": {
   "display_name": "jupyter_env",
   "language": "python",
   "name": "jupyter_env"
  },
  "language_info": {
   "codemirror_mode": {
    "name": "ipython",
    "version": 3
   },
   "file_extension": ".py",
   "mimetype": "text/x-python",
   "name": "python",
   "nbconvert_exporter": "python",
   "pygments_lexer": "ipython3",
   "version": "3.6.12"
  }
 },
 "nbformat": 4,
 "nbformat_minor": 2
}
