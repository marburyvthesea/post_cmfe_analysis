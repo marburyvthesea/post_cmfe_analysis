{
 "cells": [
  {
   "cell_type": "code",
   "execution_count": 1,
   "metadata": {
    "collapsed": false,
    "scrolled": true
   },
   "outputs": [
    {
     "data": {
      "text/html": [
       "<style>.container { width:90% !important; }</style>"
      ],
      "text/plain": [
       "<IPython.core.display.HTML object>"
      ]
     },
     "metadata": {},
     "output_type": "display_data"
    }
   ],
   "source": [
    "from IPython.core.display import display, HTML\n",
    "display(HTML(\"<style>.container { width:90% !important; }</style>\"))"
   ]
  },
  {
   "cell_type": "code",
   "execution_count": 2,
   "metadata": {
    "collapsed": false
   },
   "outputs": [],
   "source": [
    "import os\n",
    "import pandas as pd\n",
    "import numpy as np\n",
    "import sys\n",
    "from tqdm import tqdm\n",
    "import h5py\n",
    "sys.path.append('/home/jma819/post_cmfe_analysis')\n",
    "#sys.path.append('/Users/johnmarshall/Documents/Analysis/PythonAnalysisScripts/post_cmfe_analysis')\n",
    "from matplotlib import pyplot as plt\n",
    "import dlc_utils"
   ]
  },
  {
   "cell_type": "code",
   "execution_count": 3,
   "metadata": {
    "collapsed": false
   },
   "outputs": [
    {
     "data": {
      "text/plain": [
       "<module 'dlc_utils' from '/home/jma819/post_cmfe_analysis/dlc_utils.py'>"
      ]
     },
     "execution_count": 3,
     "metadata": {},
     "output_type": "execute_result"
    }
   ],
   "source": [
    "from importlib import reload\n",
    "reload(dlc_utils)"
   ]
  },
  {
   "cell_type": "code",
   "execution_count": 4,
   "metadata": {
    "collapsed": true
   },
   "outputs": [],
   "source": [
    "#dlc_directory = '/volumes/My_Passport/dlc_analysis/behavcamvideos/open_field_miniscope/'\n",
    "dlc_directory = '/projects/b1118/behaviorvideos/'"
   ]
  },
  {
   "cell_type": "code",
   "execution_count": 5,
   "metadata": {
    "collapsed": true
   },
   "outputs": [],
   "source": [
    "experiment_folders = [folder for folder in os.listdir(dlc_directory) if '_H' in folder]"
   ]
  },
  {
   "cell_type": "code",
   "execution_count": 6,
   "metadata": {
    "collapsed": false
   },
   "outputs": [
    {
     "data": {
      "text/plain": [
       "['GRIN013_H13_M33_S54']"
      ]
     },
     "execution_count": 6,
     "metadata": {},
     "output_type": "execute_result"
    }
   ],
   "source": [
    "experiment_folders"
   ]
  },
  {
   "cell_type": "code",
   "execution_count": 7,
   "metadata": {
    "collapsed": false
   },
   "outputs": [
    {
     "name": "stderr",
     "output_type": "stream",
     "text": [
      "100%|██████████| 1/1 [00:00<00:00, 679.90it/s]"
     ]
    },
    {
     "name": "stdout",
     "output_type": "stream",
     "text": [
      "GRIN013_H13_M33_S54\n"
     ]
    },
    {
     "name": "stderr",
     "output_type": "stream",
     "text": [
      "\n"
     ]
    }
   ],
   "source": [
    "for folder in tqdm(experiment_folders):\n",
    "    output_directory = dlc_directory+folder+'/'\n",
    "    session_name = folder\n",
    "    print(folder)\n",
    "    dlc_output_files = os.listdir(output_directory)\n",
    "    dlc_output_files.sort()\n",
    "    \n",
    "    names = []\n",
    "    dlc_dfs = []\n",
    "    "
   ]
  },
  {
   "cell_type": "code",
   "execution_count": 8,
   "metadata": {
    "collapsed": false
   },
   "outputs": [
    {
     "data": {
      "text/plain": [
       "['GRIN013_H13_M33_S54_compiled_session_02112021.csv',\n",
       " 'GRIN013_H13_M33_S54_compiled_session_02112021.h5',\n",
       " 'GRIN013_H13_M33_S54_dlc_tracking_foranalysis_02112021.csv',\n",
       " 'behavCam01.avi',\n",
       " 'behavCam01DLC_resnet50_Open_Field_v2Jan27shuffle1_150000.h5',\n",
       " 'behavCam01DLC_resnet50_Open_Field_v2Jan27shuffle1_150000_labeled.mp4',\n",
       " 'behavCam01DLC_resnet50_Open_Field_v2Jan27shuffle1_150000includingmetadata.pickle',\n",
       " 'behavCam02.avi',\n",
       " 'behavCam02DLC_resnet50_Open_Field_v2Jan27shuffle1_150000.h5',\n",
       " 'behavCam02DLC_resnet50_Open_Field_v2Jan27shuffle1_150000_labeled.mp4',\n",
       " 'behavCam02DLC_resnet50_Open_Field_v2Jan27shuffle1_150000includingmetadata.pickle',\n",
       " 'behavCam03.avi',\n",
       " 'behavCam03DLC_resnet50_Open_Field_v2Jan27shuffle1_150000.h5',\n",
       " 'behavCam03DLC_resnet50_Open_Field_v2Jan27shuffle1_150000_labeled.mp4',\n",
       " 'behavCam03DLC_resnet50_Open_Field_v2Jan27shuffle1_150000includingmetadata.pickle',\n",
       " 'behavCam04.avi',\n",
       " 'behavCam04DLC_resnet50_Open_Field_v2Jan27shuffle1_150000.h5',\n",
       " 'behavCam04DLC_resnet50_Open_Field_v2Jan27shuffle1_150000_labeled.mp4',\n",
       " 'behavCam04DLC_resnet50_Open_Field_v2Jan27shuffle1_150000includingmetadata.pickle',\n",
       " 'behavCam05.avi',\n",
       " 'behavCam05DLC_resnet50_Open_Field_v2Jan27shuffle1_150000.h5',\n",
       " 'behavCam05DLC_resnet50_Open_Field_v2Jan27shuffle1_150000_labeled.mp4',\n",
       " 'behavCam05DLC_resnet50_Open_Field_v2Jan27shuffle1_150000includingmetadata.pickle',\n",
       " 'behavCam06.avi',\n",
       " 'behavCam06DLC_resnet50_Open_Field_v2Jan27shuffle1_150000.h5',\n",
       " 'behavCam06DLC_resnet50_Open_Field_v2Jan27shuffle1_150000_labeled.mp4',\n",
       " 'behavCam06DLC_resnet50_Open_Field_v2Jan27shuffle1_150000includingmetadata.pickle',\n",
       " 'behavCam07.avi',\n",
       " 'behavCam07DLC_resnet50_Open_Field_v2Jan27shuffle1_150000.h5',\n",
       " 'behavCam07DLC_resnet50_Open_Field_v2Jan27shuffle1_150000_labeled.mp4',\n",
       " 'behavCam07DLC_resnet50_Open_Field_v2Jan27shuffle1_150000includingmetadata.pickle',\n",
       " 'behavCam08.avi',\n",
       " 'behavCam08DLC_resnet50_Open_Field_v2Jan27shuffle1_150000.h5',\n",
       " 'behavCam08DLC_resnet50_Open_Field_v2Jan27shuffle1_150000_labeled.mp4',\n",
       " 'behavCam08DLC_resnet50_Open_Field_v2Jan27shuffle1_150000includingmetadata.pickle',\n",
       " 'behavCam09.avi',\n",
       " 'behavCam09DLC_resnet50_Open_Field_v2Jan27shuffle1_150000.h5',\n",
       " 'behavCam09DLC_resnet50_Open_Field_v2Jan27shuffle1_150000_labeled.mp4',\n",
       " 'behavCam09DLC_resnet50_Open_Field_v2Jan27shuffle1_150000includingmetadata.pickle',\n",
       " 'behavCam10.avi',\n",
       " 'behavCam10DLC_resnet50_Open_Field_v2Jan27shuffle1_150000.h5',\n",
       " 'behavCam10DLC_resnet50_Open_Field_v2Jan27shuffle1_150000_labeled.mp4',\n",
       " 'behavCam10DLC_resnet50_Open_Field_v2Jan27shuffle1_150000includingmetadata.pickle',\n",
       " 'behavCam11.avi',\n",
       " 'behavCam11DLC_resnet50_Open_Field_v2Jan27shuffle1_150000.h5',\n",
       " 'behavCam11DLC_resnet50_Open_Field_v2Jan27shuffle1_150000_labeled.mp4',\n",
       " 'behavCam11DLC_resnet50_Open_Field_v2Jan27shuffle1_150000includingmetadata.pickle',\n",
       " 'behavCam12.avi',\n",
       " 'behavCam12DLC_resnet50_Open_Field_v2Jan27shuffle1_150000.h5',\n",
       " 'behavCam12DLC_resnet50_Open_Field_v2Jan27shuffle1_150000_labeled.mp4',\n",
       " 'behavCam12DLC_resnet50_Open_Field_v2Jan27shuffle1_150000includingmetadata.pickle',\n",
       " 'behavCam13.avi',\n",
       " 'behavCam13DLC_resnet50_Open_Field_v2Jan27shuffle1_150000.h5',\n",
       " 'behavCam13DLC_resnet50_Open_Field_v2Jan27shuffle1_150000_labeled.mp4',\n",
       " 'behavCam13DLC_resnet50_Open_Field_v2Jan27shuffle1_150000includingmetadata.pickle',\n",
       " 'behavCam14.avi',\n",
       " 'behavCam14DLC_resnet50_Open_Field_v2Jan27shuffle1_150000.h5',\n",
       " 'behavCam14DLC_resnet50_Open_Field_v2Jan27shuffle1_150000_labeled.mp4',\n",
       " 'behavCam14DLC_resnet50_Open_Field_v2Jan27shuffle1_150000includingmetadata.pickle',\n",
       " 'behavCam15.avi',\n",
       " 'behavCam15DLC_resnet50_Open_Field_v2Jan27shuffle1_150000.h5',\n",
       " 'behavCam15DLC_resnet50_Open_Field_v2Jan27shuffle1_150000_labeled.mp4',\n",
       " 'behavCam15DLC_resnet50_Open_Field_v2Jan27shuffle1_150000includingmetadata.pickle',\n",
       " 'behavCam16.avi',\n",
       " 'behavCam16DLC_resnet50_Open_Field_v2Jan27shuffle1_150000.h5',\n",
       " 'behavCam16DLC_resnet50_Open_Field_v2Jan27shuffle1_150000_labeled.mp4',\n",
       " 'behavCam16DLC_resnet50_Open_Field_v2Jan27shuffle1_150000includingmetadata.pickle',\n",
       " 'behavCam17.avi',\n",
       " 'behavCam17DLC_resnet50_Open_Field_v2Jan27shuffle1_150000.h5',\n",
       " 'behavCam17DLC_resnet50_Open_Field_v2Jan27shuffle1_150000_labeled.mp4',\n",
       " 'behavCam17DLC_resnet50_Open_Field_v2Jan27shuffle1_150000includingmetadata.pickle',\n",
       " 'behavCam18.avi',\n",
       " 'behavCam18DLC_resnet50_Open_Field_v2Jan27shuffle1_150000.h5',\n",
       " 'behavCam18DLC_resnet50_Open_Field_v2Jan27shuffle1_150000_labeled.mp4',\n",
       " 'behavCam18DLC_resnet50_Open_Field_v2Jan27shuffle1_150000includingmetadata.pickle',\n",
       " 'behavCam19.avi',\n",
       " 'behavCam19DLC_resnet50_Open_Field_v2Jan27shuffle1_150000.h5',\n",
       " 'behavCam19DLC_resnet50_Open_Field_v2Jan27shuffle1_150000_labeled.mp4',\n",
       " 'behavCam19DLC_resnet50_Open_Field_v2Jan27shuffle1_150000includingmetadata.pickle',\n",
       " 'behavCam20.avi',\n",
       " 'behavCam20DLC_resnet50_Open_Field_v2Jan27shuffle1_150000.h5',\n",
       " 'behavCam20DLC_resnet50_Open_Field_v2Jan27shuffle1_150000_labeled.mp4',\n",
       " 'behavCam20DLC_resnet50_Open_Field_v2Jan27shuffle1_150000includingmetadata.pickle',\n",
       " 'behavCam21.avi',\n",
       " 'behavCam21DLC_resnet50_Open_Field_v2Jan27shuffle1_150000.h5',\n",
       " 'behavCam21DLC_resnet50_Open_Field_v2Jan27shuffle1_150000_labeled.mp4',\n",
       " 'behavCam21DLC_resnet50_Open_Field_v2Jan27shuffle1_150000includingmetadata.pickle',\n",
       " 'behavCam22.avi',\n",
       " 'behavCam22DLC_resnet50_Open_Field_v2Jan27shuffle1_150000.h5',\n",
       " 'behavCam22DLC_resnet50_Open_Field_v2Jan27shuffle1_150000_labeled.mp4',\n",
       " 'behavCam22DLC_resnet50_Open_Field_v2Jan27shuffle1_150000includingmetadata.pickle',\n",
       " 'behavCam23.avi',\n",
       " 'behavCam23DLC_resnet50_Open_Field_v2Jan27shuffle1_150000.h5',\n",
       " 'behavCam23DLC_resnet50_Open_Field_v2Jan27shuffle1_150000_labeled.mp4',\n",
       " 'behavCam23DLC_resnet50_Open_Field_v2Jan27shuffle1_150000includingmetadata.pickle',\n",
       " 'behavCam24.avi',\n",
       " 'behavCam24DLC_resnet50_Open_Field_v2Jan27shuffle1_150000.h5',\n",
       " 'behavCam24DLC_resnet50_Open_Field_v2Jan27shuffle1_150000_labeled.mp4',\n",
       " 'behavCam24DLC_resnet50_Open_Field_v2Jan27shuffle1_150000includingmetadata.pickle',\n",
       " 'behavCam25.avi',\n",
       " 'behavCam25DLC_resnet50_Open_Field_v2Jan27shuffle1_150000.h5',\n",
       " 'behavCam25DLC_resnet50_Open_Field_v2Jan27shuffle1_150000_labeled.mp4',\n",
       " 'behavCam25DLC_resnet50_Open_Field_v2Jan27shuffle1_150000includingmetadata.pickle',\n",
       " 'behavCam26.avi',\n",
       " 'behavCam26DLC_resnet50_Open_Field_v2Jan27shuffle1_150000.h5',\n",
       " 'behavCam26DLC_resnet50_Open_Field_v2Jan27shuffle1_150000_labeled.mp4',\n",
       " 'behavCam26DLC_resnet50_Open_Field_v2Jan27shuffle1_150000includingmetadata.pickle',\n",
       " 'behavCam27.avi',\n",
       " 'behavCam27DLC_resnet50_Open_Field_v2Jan27shuffle1_150000.h5',\n",
       " 'behavCam27DLC_resnet50_Open_Field_v2Jan27shuffle1_150000_labeled.mp4',\n",
       " 'behavCam27DLC_resnet50_Open_Field_v2Jan27shuffle1_150000includingmetadata.pickle',\n",
       " 'behavCam28.avi',\n",
       " 'behavCam28DLC_resnet50_Open_Field_v2Jan27shuffle1_150000.h5',\n",
       " 'behavCam28DLC_resnet50_Open_Field_v2Jan27shuffle1_150000_labeled.mp4',\n",
       " 'behavCam28DLC_resnet50_Open_Field_v2Jan27shuffle1_150000includingmetadata.pickle',\n",
       " 'behavCam29.avi',\n",
       " 'behavCam29DLC_resnet50_Open_Field_v2Jan27shuffle1_150000.h5',\n",
       " 'behavCam29DLC_resnet50_Open_Field_v2Jan27shuffle1_150000_labeled.mp4',\n",
       " 'behavCam29DLC_resnet50_Open_Field_v2Jan27shuffle1_150000includingmetadata.pickle',\n",
       " 'behavCam30.avi',\n",
       " 'behavCam30DLC_resnet50_Open_Field_v2Jan27shuffle1_150000.h5',\n",
       " 'behavCam30DLC_resnet50_Open_Field_v2Jan27shuffle1_150000_labeled.mp4',\n",
       " 'behavCam30DLC_resnet50_Open_Field_v2Jan27shuffle1_150000includingmetadata.pickle',\n",
       " 'behavCam31.avi',\n",
       " 'behavCam31DLC_resnet50_Open_Field_v2Jan27shuffle1_150000.h5',\n",
       " 'behavCam31DLC_resnet50_Open_Field_v2Jan27shuffle1_150000_labeled.mp4',\n",
       " 'behavCam31DLC_resnet50_Open_Field_v2Jan27shuffle1_150000includingmetadata.pickle',\n",
       " 'behavCam32.avi',\n",
       " 'behavCam32DLC_resnet50_Open_Field_v2Jan27shuffle1_150000.h5',\n",
       " 'behavCam32DLC_resnet50_Open_Field_v2Jan27shuffle1_150000_labeled.mp4',\n",
       " 'behavCam32DLC_resnet50_Open_Field_v2Jan27shuffle1_150000includingmetadata.pickle',\n",
       " 'behavCam33.avi',\n",
       " 'behavCam33DLC_resnet50_Open_Field_v2Jan27shuffle1_150000.h5',\n",
       " 'behavCam33DLC_resnet50_Open_Field_v2Jan27shuffle1_150000_labeled.mp4',\n",
       " 'behavCam33DLC_resnet50_Open_Field_v2Jan27shuffle1_150000includingmetadata.pickle',\n",
       " 'behavCam34.avi',\n",
       " 'behavCam34DLC_resnet50_Open_Field_v2Jan27shuffle1_150000.h5',\n",
       " 'behavCam34DLC_resnet50_Open_Field_v2Jan27shuffle1_150000_labeled.mp4',\n",
       " 'behavCam34DLC_resnet50_Open_Field_v2Jan27shuffle1_150000includingmetadata.pickle',\n",
       " 'behavCam35.avi',\n",
       " 'behavCam35DLC_resnet50_Open_Field_v2Jan27shuffle1_150000.h5',\n",
       " 'behavCam35DLC_resnet50_Open_Field_v2Jan27shuffle1_150000_labeled.mp4',\n",
       " 'behavCam35DLC_resnet50_Open_Field_v2Jan27shuffle1_150000includingmetadata.pickle',\n",
       " 'behavCam36.avi',\n",
       " 'behavCam36DLC_resnet50_Open_Field_v2Jan27shuffle1_150000.h5',\n",
       " 'behavCam36DLC_resnet50_Open_Field_v2Jan27shuffle1_150000_labeled.mp4',\n",
       " 'behavCam36DLC_resnet50_Open_Field_v2Jan27shuffle1_150000includingmetadata.pickle',\n",
       " 'behavCam37.avi',\n",
       " 'behavCam37DLC_resnet50_Open_Field_v2Jan27shuffle1_150000.h5',\n",
       " 'behavCam37DLC_resnet50_Open_Field_v2Jan27shuffle1_150000_labeled.mp4',\n",
       " 'behavCam37DLC_resnet50_Open_Field_v2Jan27shuffle1_150000includingmetadata.pickle',\n",
       " 'behavCam38.avi',\n",
       " 'behavCam38DLC_resnet50_Open_Field_v2Jan27shuffle1_150000.h5',\n",
       " 'behavCam38DLC_resnet50_Open_Field_v2Jan27shuffle1_150000_labeled.mp4',\n",
       " 'behavCam38DLC_resnet50_Open_Field_v2Jan27shuffle1_150000includingmetadata.pickle',\n",
       " 'timestamp.dat']"
      ]
     },
     "execution_count": 8,
     "metadata": {},
     "output_type": "execute_result"
    }
   ],
   "source": [
    "dlc_output_files"
   ]
  },
  {
   "cell_type": "code",
   "execution_count": 104,
   "metadata": {
    "collapsed": false
   },
   "outputs": [],
   "source": [
    "dlc_output = pd.read_hdf('/projects/b1118/behaviorvideos/GRIN013_H13_M33_S54/behavCam02DLC_resnet50_Open_Field_v2Jan27shuffle1_150000.h5')\n",
    "#dlc_output = dlc_utils.calculate_centroid(dlc_output)\n",
    "#should also append a time column for alignment to avi file\n",
    "time_within_movie_seconds = np.linspace(0, 50, 1000)"
   ]
  },
  {
   "cell_type": "code",
   "execution_count": 105,
   "metadata": {
    "collapsed": false,
    "scrolled": true
   },
   "outputs": [
    {
     "data": {
      "text/html": [
       "<div>\n",
       "<style scoped>\n",
       "    .dataframe tbody tr th:only-of-type {\n",
       "        vertical-align: middle;\n",
       "    }\n",
       "\n",
       "    .dataframe tbody tr th {\n",
       "        vertical-align: top;\n",
       "    }\n",
       "\n",
       "    .dataframe thead tr th {\n",
       "        text-align: left;\n",
       "    }\n",
       "</style>\n",
       "<table border=\"1\" class=\"dataframe\">\n",
       "  <thead>\n",
       "    <tr>\n",
       "      <th>scorer</th>\n",
       "      <th colspan=\"12\" halign=\"left\">DLC_resnet50_Open_Field_v2Jan27shuffle1_150000</th>\n",
       "    </tr>\n",
       "    <tr>\n",
       "      <th>bodyparts</th>\n",
       "      <th colspan=\"3\" halign=\"left\">ear_left</th>\n",
       "      <th colspan=\"3\" halign=\"left\">ear_right</th>\n",
       "      <th colspan=\"3\" halign=\"left\">tail_base</th>\n",
       "      <th colspan=\"3\" halign=\"left\">miniscope_light</th>\n",
       "    </tr>\n",
       "    <tr>\n",
       "      <th>coords</th>\n",
       "      <th>x</th>\n",
       "      <th>y</th>\n",
       "      <th>likelihood</th>\n",
       "      <th>x</th>\n",
       "      <th>y</th>\n",
       "      <th>likelihood</th>\n",
       "      <th>x</th>\n",
       "      <th>y</th>\n",
       "      <th>likelihood</th>\n",
       "      <th>x</th>\n",
       "      <th>y</th>\n",
       "      <th>likelihood</th>\n",
       "    </tr>\n",
       "  </thead>\n",
       "  <tbody>\n",
       "    <tr>\n",
       "      <th>0</th>\n",
       "      <td>292.508667</td>\n",
       "      <td>357.506012</td>\n",
       "      <td>0.074033</td>\n",
       "      <td>300.513000</td>\n",
       "      <td>364.337311</td>\n",
       "      <td>0.180357</td>\n",
       "      <td>253.353836</td>\n",
       "      <td>375.582794</td>\n",
       "      <td>1.0</td>\n",
       "      <td>307.633392</td>\n",
       "      <td>355.723877</td>\n",
       "      <td>0.008590</td>\n",
       "    </tr>\n",
       "    <tr>\n",
       "      <th>1</th>\n",
       "      <td>292.862366</td>\n",
       "      <td>357.351593</td>\n",
       "      <td>0.093176</td>\n",
       "      <td>302.479034</td>\n",
       "      <td>370.733826</td>\n",
       "      <td>0.303444</td>\n",
       "      <td>253.549255</td>\n",
       "      <td>375.880615</td>\n",
       "      <td>1.0</td>\n",
       "      <td>307.503723</td>\n",
       "      <td>355.476562</td>\n",
       "      <td>0.008776</td>\n",
       "    </tr>\n",
       "    <tr>\n",
       "      <th>2</th>\n",
       "      <td>293.086090</td>\n",
       "      <td>357.166443</td>\n",
       "      <td>0.185885</td>\n",
       "      <td>302.335846</td>\n",
       "      <td>370.647156</td>\n",
       "      <td>0.392228</td>\n",
       "      <td>253.383041</td>\n",
       "      <td>375.891968</td>\n",
       "      <td>1.0</td>\n",
       "      <td>307.716858</td>\n",
       "      <td>355.432251</td>\n",
       "      <td>0.015284</td>\n",
       "    </tr>\n",
       "    <tr>\n",
       "      <th>3</th>\n",
       "      <td>292.763947</td>\n",
       "      <td>357.294891</td>\n",
       "      <td>0.114862</td>\n",
       "      <td>301.174866</td>\n",
       "      <td>364.848114</td>\n",
       "      <td>0.248863</td>\n",
       "      <td>253.609161</td>\n",
       "      <td>375.824310</td>\n",
       "      <td>1.0</td>\n",
       "      <td>307.500061</td>\n",
       "      <td>355.350494</td>\n",
       "      <td>0.008182</td>\n",
       "    </tr>\n",
       "    <tr>\n",
       "      <th>4</th>\n",
       "      <td>293.038818</td>\n",
       "      <td>357.544952</td>\n",
       "      <td>0.089646</td>\n",
       "      <td>302.475433</td>\n",
       "      <td>370.651306</td>\n",
       "      <td>0.233052</td>\n",
       "      <td>253.424500</td>\n",
       "      <td>375.775513</td>\n",
       "      <td>1.0</td>\n",
       "      <td>307.749084</td>\n",
       "      <td>355.445374</td>\n",
       "      <td>0.010289</td>\n",
       "    </tr>\n",
       "  </tbody>\n",
       "</table>\n",
       "</div>"
      ],
      "text/plain": [
       "scorer    DLC_resnet50_Open_Field_v2Jan27shuffle1_150000              \\\n",
       "bodyparts                                       ear_left               \n",
       "coords                                                 x           y   \n",
       "0                                             292.508667  357.506012   \n",
       "1                                             292.862366  357.351593   \n",
       "2                                             293.086090  357.166443   \n",
       "3                                             292.763947  357.294891   \n",
       "4                                             293.038818  357.544952   \n",
       "\n",
       "scorer                                                               \\\n",
       "bodyparts              ear_right                          tail_base   \n",
       "coords    likelihood           x           y likelihood           x   \n",
       "0           0.074033  300.513000  364.337311   0.180357  253.353836   \n",
       "1           0.093176  302.479034  370.733826   0.303444  253.549255   \n",
       "2           0.185885  302.335846  370.647156   0.392228  253.383041   \n",
       "3           0.114862  301.174866  364.848114   0.248863  253.609161   \n",
       "4           0.089646  302.475433  370.651306   0.233052  253.424500   \n",
       "\n",
       "scorer                                                                   \n",
       "bodyparts                        miniscope_light                         \n",
       "coords              y likelihood               x           y likelihood  \n",
       "0          375.582794        1.0      307.633392  355.723877   0.008590  \n",
       "1          375.880615        1.0      307.503723  355.476562   0.008776  \n",
       "2          375.891968        1.0      307.716858  355.432251   0.015284  \n",
       "3          375.824310        1.0      307.500061  355.350494   0.008182  \n",
       "4          375.775513        1.0      307.749084  355.445374   0.010289  "
      ]
     },
     "execution_count": 105,
     "metadata": {},
     "output_type": "execute_result"
    }
   ],
   "source": [
    "dlc_output.head()"
   ]
  },
  {
   "cell_type": "code",
   "execution_count": 11,
   "metadata": {
    "collapsed": false
   },
   "outputs": [
    {
     "data": {
      "text/plain": [
       "[<matplotlib.lines.Line2D at 0x2b6cf2736d90>]"
      ]
     },
     "execution_count": 11,
     "metadata": {},
     "output_type": "execute_result"
    },
    {
     "data": {
      "image/png": "[encoded data removed]",
      "text/plain": [
       "<Figure size 432x288 with 1 Axes>"
      ]
     },
     "metadata": {
      "needs_background": "light"
     },
     "output_type": "display_data"
    }
   ],
   "source": [
    "label = 'tail_base'\n",
    "plt.plot(dlc_output['DLC_resnet50_Open_Field_v2Jan27shuffle1_150000'][label]['x'])\n",
    "plt.plot(dlc_output['DLC_resnet50_Open_Field_v2Jan27shuffle1_150000'][label]['y'])\n",
    "plt.plot(dlc_output['DLC_resnet50_Open_Field_v2Jan27shuffle1_150000'][label]['likelihood'])"
   ]
  },
  {
   "cell_type": "code",
   "execution_count": 12,
   "metadata": {
    "collapsed": false
   },
   "outputs": [],
   "source": [
    "## find regions where likelihood is less than maybe .9-1\n",
    "low_likelihood_indicies = dlc_output.loc[dlc_output['DLC_resnet50_Open_Field_v2Jan27shuffle1_150000'][label]['likelihood']<0.9].index\n",
    "#if want to get time \n",
    "#low_likelihood_times = time_within_movie_seconds[list(low_likelihood_indicies)]\n",
    "#remove coordinate values from low likelihood regions \n",
    "dlc_output.loc[low_likelihood_indicies, ('DLC_resnet50_Open_Field_v2Jan27shuffle1_150000', 'tail_base', 'x')]=np.nan\n",
    "dlc_output.loc[low_likelihood_indicies, ('DLC_resnet50_Open_Field_v2Jan27shuffle1_150000', 'tail_base', 'y')]=np.nan"
   ]
  },
  {
   "cell_type": "code",
   "execution_count": 13,
   "metadata": {
    "collapsed": false
   },
   "outputs": [],
   "source": [
    "#dlc_output.loc[low_likelihood_indicies]"
   ]
  },
  {
   "cell_type": "code",
   "execution_count": 14,
   "metadata": {
    "collapsed": false
   },
   "outputs": [
    {
     "data": {
      "text/plain": [
       "[<matplotlib.lines.Line2D at 0x2b6cf27e5970>]"
      ]
     },
     "execution_count": 14,
     "metadata": {},
     "output_type": "execute_result"
    },
    {
     "data": {
      "image/png": "[encoded data removed]",
      "text/plain": [
       "<Figure size 432x288 with 1 Axes>"
      ]
     },
     "metadata": {
      "needs_background": "light"
     },
     "output_type": "display_data"
    }
   ],
   "source": [
    "label = 'tail_base'\n",
    "plt.plot(dlc_output['DLC_resnet50_Open_Field_v2Jan27shuffle1_150000'][label]['x'])\n",
    "plt.plot(dlc_output['DLC_resnet50_Open_Field_v2Jan27shuffle1_150000'][label]['y'])\n",
    "plt.plot(dlc_output['DLC_resnet50_Open_Field_v2Jan27shuffle1_150000'][label]['likelihood'])"
   ]
  },
  {
   "cell_type": "code",
   "execution_count": 15,
   "metadata": {
    "collapsed": false
   },
   "outputs": [],
   "source": [
    "coordinates_delta_df = dlc_utils.difference_df(dlc_output)"
   ]
  },
  {
   "cell_type": "code",
   "execution_count": 16,
   "metadata": {
    "collapsed": false
   },
   "outputs": [
    {
     "data": {
      "text/html": [
       "<div>\n",
       "<style scoped>\n",
       "    .dataframe tbody tr th:only-of-type {\n",
       "        vertical-align: middle;\n",
       "    }\n",
       "\n",
       "    .dataframe tbody tr th {\n",
       "        vertical-align: top;\n",
       "    }\n",
       "\n",
       "    .dataframe thead tr th {\n",
       "        text-align: left;\n",
       "    }\n",
       "</style>\n",
       "<table border=\"1\" class=\"dataframe\">\n",
       "  <thead>\n",
       "    <tr>\n",
       "      <th></th>\n",
       "      <th colspan=\"2\" halign=\"left\">miniscope_light</th>\n",
       "      <th colspan=\"2\" halign=\"left\">tail_base</th>\n",
       "      <th colspan=\"2\" halign=\"left\">ear_right</th>\n",
       "      <th colspan=\"2\" halign=\"left\">ear_left</th>\n",
       "    </tr>\n",
       "    <tr>\n",
       "      <th>coords</th>\n",
       "      <th>x</th>\n",
       "      <th>y</th>\n",
       "      <th>x</th>\n",
       "      <th>y</th>\n",
       "      <th>x</th>\n",
       "      <th>y</th>\n",
       "      <th>x</th>\n",
       "      <th>y</th>\n",
       "    </tr>\n",
       "  </thead>\n",
       "  <tbody>\n",
       "    <tr>\n",
       "      <th>0</th>\n",
       "      <td>NaN</td>\n",
       "      <td>NaN</td>\n",
       "      <td>NaN</td>\n",
       "      <td>NaN</td>\n",
       "      <td>NaN</td>\n",
       "      <td>NaN</td>\n",
       "      <td>NaN</td>\n",
       "      <td>NaN</td>\n",
       "    </tr>\n",
       "    <tr>\n",
       "      <th>1</th>\n",
       "      <td>-0.129669</td>\n",
       "      <td>-0.247314</td>\n",
       "      <td>0.195419</td>\n",
       "      <td>0.297821</td>\n",
       "      <td>1.966034</td>\n",
       "      <td>6.396515</td>\n",
       "      <td>0.353699</td>\n",
       "      <td>-0.154419</td>\n",
       "    </tr>\n",
       "    <tr>\n",
       "      <th>2</th>\n",
       "      <td>0.213135</td>\n",
       "      <td>-0.044312</td>\n",
       "      <td>-0.166214</td>\n",
       "      <td>0.011353</td>\n",
       "      <td>-0.143188</td>\n",
       "      <td>-0.086670</td>\n",
       "      <td>0.223724</td>\n",
       "      <td>-0.185150</td>\n",
       "    </tr>\n",
       "    <tr>\n",
       "      <th>3</th>\n",
       "      <td>-0.216797</td>\n",
       "      <td>-0.081757</td>\n",
       "      <td>0.226120</td>\n",
       "      <td>-0.067657</td>\n",
       "      <td>-1.160980</td>\n",
       "      <td>-5.799042</td>\n",
       "      <td>-0.322144</td>\n",
       "      <td>0.128448</td>\n",
       "    </tr>\n",
       "    <tr>\n",
       "      <th>4</th>\n",
       "      <td>0.249023</td>\n",
       "      <td>0.094879</td>\n",
       "      <td>-0.184662</td>\n",
       "      <td>-0.048798</td>\n",
       "      <td>1.300568</td>\n",
       "      <td>5.803192</td>\n",
       "      <td>0.274872</td>\n",
       "      <td>0.250061</td>\n",
       "    </tr>\n",
       "  </tbody>\n",
       "</table>\n",
       "</div>"
      ],
      "text/plain": [
       "       miniscope_light           tail_base           ear_right            \\\n",
       "coords               x         y         x         y         x         y   \n",
       "0                  NaN       NaN       NaN       NaN       NaN       NaN   \n",
       "1            -0.129669 -0.247314  0.195419  0.297821  1.966034  6.396515   \n",
       "2             0.213135 -0.044312 -0.166214  0.011353 -0.143188 -0.086670   \n",
       "3            -0.216797 -0.081757  0.226120 -0.067657 -1.160980 -5.799042   \n",
       "4             0.249023  0.094879 -0.184662 -0.048798  1.300568  5.803192   \n",
       "\n",
       "        ear_left            \n",
       "coords         x         y  \n",
       "0            NaN       NaN  \n",
       "1       0.353699 -0.154419  \n",
       "2       0.223724 -0.185150  \n",
       "3      -0.322144  0.128448  \n",
       "4       0.274872  0.250061  "
      ]
     },
     "execution_count": 16,
     "metadata": {},
     "output_type": "execute_result"
    }
   ],
   "source": [
    "coordinates_delta_df.head()"
   ]
  },
  {
   "cell_type": "code",
   "execution_count": 17,
   "metadata": {
    "collapsed": false
   },
   "outputs": [
    {
     "data": {
      "text/plain": [
       "[<matplotlib.lines.Line2D at 0x2b6cf27fa640>]"
      ]
     },
     "execution_count": 17,
     "metadata": {},
     "output_type": "execute_result"
    },
    {
     "data": {
      "image/png": "[encoded data removed]",
      "text/plain": [
       "<Figure size 432x288 with 1 Axes>"
      ]
     },
     "metadata": {
      "needs_background": "light"
     },
     "output_type": "display_data"
    }
   ],
   "source": [
    "# much better but still need to remove instances of rapid switching here \n",
    "label = 'tail_base'\n",
    "plt.plot(time_within_movie_seconds, coordinates_delta_df[label]['x'])\n",
    "plt.plot(time_within_movie_seconds, coordinates_delta_df[label]['y'])\n"
   ]
  },
  {
   "cell_type": "code",
   "execution_count": 18,
   "metadata": {
    "collapsed": false
   },
   "outputs": [],
   "source": [
    "df_columns = list(dlc_output.columns)\n",
    "velocity_df = pd.DataFrame(np.transpose(np.array([np.array([dlc_utils.velocity(coordinates_delta_df[body_part]['x'].values[frame],coordinates_delta_df[body_part]['y'].values[frame]) for frame in range(len(coordinates_delta_df))]) for body_part in list(set([df_columns[item][1] for item in range(len(df_columns))]))])), \n",
    "                                       columns=list(set([df_columns[item][1] for item in range(len(df_columns))]))) \n",
    "for body_part in list(set([df_columns[item][1] for item in range(len(df_columns))])):\n",
    "    velocity_df[body_part+'_likelihood']=dlc_output[df_columns[0][0]][body_part]['likelihood'].values"
   ]
  },
  {
   "cell_type": "code",
   "execution_count": 19,
   "metadata": {
    "collapsed": false
   },
   "outputs": [
    {
     "data": {
      "text/plain": [
       "[<matplotlib.lines.Line2D at 0x2b6cf28c5b20>]"
      ]
     },
     "execution_count": 19,
     "metadata": {},
     "output_type": "execute_result"
    },
    {
     "data": {
      "image/png": "[encoded data removed]",
      "text/plain": [
       "<Figure size 432x288 with 1 Axes>"
      ]
     },
     "metadata": {
      "needs_background": "light"
     },
     "output_type": "display_data"
    }
   ],
   "source": [
    "## for now this might be good enough to pick out regions for later review\n",
    "label = 'tail_base'\n",
    "plt.plot(time_within_movie_seconds, velocity_df[label])\n"
   ]
  },
  {
   "cell_type": "code",
   "execution_count": 20,
   "metadata": {
    "collapsed": true
   },
   "outputs": [],
   "source": [
    "# check if alignment to msCam videos is working "
   ]
  },
  {
   "cell_type": "code",
   "execution_count": 21,
   "metadata": {
    "collapsed": false
   },
   "outputs": [
    {
     "data": {
      "text/plain": [
       "[<matplotlib.lines.Line2D at 0x2b6cf2891c10>]"
      ]
     },
     "execution_count": 21,
     "metadata": {},
     "output_type": "execute_result"
    },
    {
     "data": {
      "image/png": "[encoded data removed]",
      "text/plain": [
       "<Figure size 432x288 with 1 Axes>"
      ]
     },
     "metadata": {
      "needs_background": "light"
     },
     "output_type": "display_data"
    }
   ],
   "source": [
    "velocity_df\n",
    "plt.plot(time_within_movie_seconds, velocity_df['tail_base_likelihood'])"
   ]
  },
  {
   "cell_type": "code",
   "execution_count": 22,
   "metadata": {
    "collapsed": false,
    "scrolled": true
   },
   "outputs": [
    {
     "data": {
      "text/plain": [
       "'/projects/b1118/behaviorvideos/'"
      ]
     },
     "execution_count": 22,
     "metadata": {},
     "output_type": "execute_result"
    }
   ],
   "source": [
    "## compiling all files in recording session to check msCam alignment\n",
    "dlc_directory "
   ]
  },
  {
   "cell_type": "code",
   "execution_count": 23,
   "metadata": {
    "collapsed": false
   },
   "outputs": [
    {
     "data": {
      "text/plain": [
       "'GRIN013_H13_M33_S54'"
      ]
     },
     "execution_count": 23,
     "metadata": {},
     "output_type": "execute_result"
    }
   ],
   "source": [
    "session_name"
   ]
  },
  {
   "cell_type": "code",
   "execution_count": 44,
   "metadata": {
    "collapsed": false
   },
   "outputs": [
    {
     "name": "stderr",
     "output_type": "stream",
     "text": [
      "\n",
      "100%|██████████| 1/1 [00:00<00:00, 417.34it/s]"
     ]
    },
    {
     "name": "stdout",
     "output_type": "stream",
     "text": [
      "GRIN013_H13_M33_S54\n"
     ]
    },
    {
     "name": "stderr",
     "output_type": "stream",
     "text": [
      "\n"
     ]
    }
   ],
   "source": [
    "for folder in tqdm(experiment_folders):\n",
    "    output_directory = dlc_directory+folder+'/'\n",
    "    session_name = folder\n",
    "    print(folder)\n",
    "    dlc_output_files = os.listdir(output_directory)\n",
    "    dlc_output_files.sort()"
   ]
  },
  {
   "cell_type": "code",
   "execution_count": 47,
   "metadata": {
    "collapsed": false
   },
   "outputs": [],
   "source": [
    "#dlc_output_files[0:10]"
   ]
  },
  {
   "cell_type": "code",
   "execution_count": 108,
   "metadata": {
    "collapsed": false
   },
   "outputs": [
    {
     "data": {
      "text/plain": [
       "['miniscope_light', 'tail_base', 'ear_right', 'ear_left']"
      ]
     },
     "execution_count": 108,
     "metadata": {},
     "output_type": "execute_result"
    }
   ],
   "source": [
    "list(set(dlc_output.columns.get_level_values(1)))"
   ]
  },
  {
   "cell_type": "code",
   "execution_count": 181,
   "metadata": {
    "collapsed": false
   },
   "outputs": [
    {
     "data": {
      "text/plain": [
       "'/projects/b1118/behaviorvideos/GRIN013_H13_M33_S54/GRIN013_H13_M33_S54_dlc_tracking_foranalysis.csv'"
      ]
     },
     "execution_count": 181,
     "metadata": {},
     "output_type": "execute_result"
    }
   ],
   "source": [
    "for folder in tqdm(experiment_folders):\n",
    "    output_directory = dlc_directory+folder+'/'\n",
    "    session_name = folder\n",
    "    print(folder)\n",
    "    dlc_output_files = os.listdir(output_directory)\n",
    "    dlc_output_files.sort()    \n",
    "    names = []\n",
    "    dlc_dfs = []\n",
    "    for output_file in dlc_output_files[0:10]:\n",
    "        if output_file.endswith('000.h5'):\n",
    "            print(output_file)\n",
    "            dlc_output = pd.read_hdf(output_directory + output_file)\n",
    "            \n",
    "            ## before calculating centroid remove regions where \n",
    "            # find regions where likelihood is less than maybe .9-1\n",
    "            for body_part in list(set(dlc_output.columns.get_level_values(1))):\n",
    "                low_likelihood_indicies = dlc_output.loc[dlc_output['DLC_resnet50_Open_Field_v2Jan27shuffle1_150000'][body_part]['likelihood']<0.9].index\n",
    "                #remove coordinate values from low likelihood regions \n",
    "                dlc_output.loc[low_likelihood_indicies, ('DLC_resnet50_Open_Field_v2Jan27shuffle1_150000', body_part, 'x')]=np.nan\n",
    "                dlc_output.loc[low_likelihood_indicies, ('DLC_resnet50_Open_Field_v2Jan27shuffle1_150000', body_part, 'y')]=np.nan\n",
    "          \n",
    "            dlc_output = dlc_utils.calculate_centroid(dlc_output)\n",
    "            dlc_output.head()\n",
    "            coordinates_delta_df = dlc_utils.difference_df(dlc_output)\n",
    "            df_columns = list(dlc_output.columns)\n",
    "\n",
    "            print('calculating velocity')\n",
    "            velocity_df = pd.DataFrame(np.transpose(np.array([np.array([dlc_utils.velocity(coordinates_delta_df[body_part]['x'].values[frame],coordinates_delta_df[body_part]['y'].values[frame]) for frame in range(len(coordinates_delta_df))]) for body_part in list(set([df_columns[item][1] for item in range(len(df_columns))]))])), \n",
    "                                       columns=list(set([df_columns[item][1] for item in range(len(df_columns))]))) \n",
    "            for body_part in list(set([df_columns[item][1] for item in range(len(df_columns))])):\n",
    "                velocity_df[body_part+'_likelihood']=dlc_output[df_columns[0][0]][body_part]['likelihood'].values\n",
    "            \n",
    "            names.append(output_file)\n",
    "            dlc_dfs.append(velocity_df)\n",
    "\n",
    "    session_compiled = pd.concat(dlc_dfs, keys=names)\n",
    "\n",
    "    #save compiled session \n",
    "    session_compiled.to_hdf(output_directory+session_name+'_compiled_session_02112021.h5', key='df')\n",
    "    session_compiled.to_csv(output_directory+session_name+'_compiled_session_02112021.csv')\n",
    "\n",
    "    #create behavior data aligned to the msCam frames\n",
    "    #need to have switch here for msCam and BehavCam cam #s\n",
    "    #in these recordings behavcam records at faster framerate (30fps vs 20fps) so will have more frames\n",
    "    timsestamps_file = output_directory+'timestamp.dat'\n",
    "    Cam0_timestamps = frame_clock_df[frame_clock_df['camNum'] == 0]  \n",
    "    Cam1_timestamps = frame_clock_df[frame_clock_df['camNum'] == 1]\n",
    "    if len(Cam1_timestamps)>len(Cam0_timestamps):\n",
    "        msCam_camnum=0\n",
    "        behavCam_camnum=1\n",
    "    elif len(Cam1_timestamps)<len(Cam0_timestamps):\n",
    "        msCam_camnum=1\n",
    "        behavCam_camnum=0\n",
    "    else:\n",
    "        print('check timestamp file')\n",
    "        break   \n",
    "\n",
    "    # changing selection of frames from session compiled dataframe to account for 1 indexing of frames in timestamp file -- should be fixed \n",
    "    aligned = dlc_utils.downsample_dlc_to_behavior(output_directory+session_name+'_compiled_session_02112021.h5', output_directory+'timestamp.dat', \n",
    "                                                   msCam_camnum, behavCam_camnum)\n",
    "\n",
    "  \n",
    "    aligned_td = aligned.set_index(pd.to_timedelta(np.linspace(0, aligned_out['sys_clock_behavCam'].values[-1]/1000, len(aligned)), unit='s'), drop=False)\n",
    "    \n",
    "    #smooth data by downsampling and interpolating \n",
    "    interpolated = dlc_utils.downsample_and_interpolate(aligned_td, '.05S', '1S', 'linear')\n",
    "    interpolated.to_csv(output_directory+session_name+'_dlc_tracking_foranalysis_02112021.csv')\n",
    "\n",
    "    output_directory+session_name+'_dlc_tracking_foranalysis.csv'"
   ]
  },
  {
   "cell_type": "code",
   "execution_count": 165,
   "metadata": {
    "collapsed": false
   },
   "outputs": [
    {
     "data": {
      "text/plain": [
       "[<matplotlib.lines.Line2D at 0x2b6d2114d2e0>]"
      ]
     },
     "execution_count": 165,
     "metadata": {},
     "output_type": "execute_result"
    },
    {
     "data": {
      "image/png": "[encoded data removed]",
      "text/plain": [
       "<Figure size 432x288 with 1 Axes>"
      ]
     },
     "metadata": {
      "needs_background": "light"
     },
     "output_type": "display_data"
    }
   ],
   "source": [
    "label = 'tail_base'\n",
    "plt.plot(aligned_time_delta.index.astype('timedelta64[ms]'), aligned_time_delta[label])\n",
    "plt.plot(aligned_time_delta.index.astype('timedelta64[ms]'), aligned_time_delta['tail_base_likelihood'])"
   ]
  },
  {
   "cell_type": "code",
   "execution_count": 164,
   "metadata": {
    "collapsed": false
   },
   "outputs": [
    {
     "data": {
      "text/plain": [
       "(0, 60)"
      ]
     },
     "execution_count": 164,
     "metadata": {},
     "output_type": "execute_result"
    },
    {
     "data": {
      "image/png": "[encoded data removed]",
      "text/plain": [
       "<Figure size 432x288 with 2 Axes>"
      ]
     },
     "metadata": {
      "needs_background": "light"
     },
     "output_type": "display_data"
    }
   ],
   "source": [
    "time_within_movie_seconds = np.linspace(0, 50, 1000)\n",
    "fig, (ax1, ax2) = plt.subplots(1,2)\n",
    "ax1.plot(time_within_movie_seconds, session_compiled.loc['behavCam01DLC_resnet50_Open_Field_v2Jan27shuffle1_150000.h5']['tail_base'])\n",
    "ax1.set_ylim(0, 60)\n",
    "ax2.plot(time_within_movie_seconds, session_compiled.loc['behavCam02DLC_resnet50_Open_Field_v2Jan27shuffle1_150000.h5']['tail_base'])\n",
    "ax2.set_ylim(0, 60)"
   ]
  },
  {
   "cell_type": "code",
   "execution_count": null,
   "metadata": {
    "collapsed": true
   },
   "outputs": [],
   "source": []
  }
 ],
 "metadata": {
  "kernelspec": {
   "display_name": "jupyter_env",
   "language": "python",
   "name": "jupyter_env"
  },
  "language_info": {
   "codemirror_mode": {
    "name": "ipython",
    "version": 3
   },
   "file_extension": ".py",
   "mimetype": "text/x-python",
   "name": "python",
   "nbconvert_exporter": "python",
   "pygments_lexer": "ipython3",
   "version": "3.8.6"
  }
 },
 "nbformat": 4,
 "nbformat_minor": 2
}
