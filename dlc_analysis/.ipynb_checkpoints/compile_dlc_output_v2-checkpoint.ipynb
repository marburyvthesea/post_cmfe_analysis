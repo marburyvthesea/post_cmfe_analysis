{
 "cells": [
  {
   "cell_type": "code",
   "execution_count": 10,
   "metadata": {
    "collapsed": false,
    "scrolled": true
   },
   "outputs": [
    {
     "data": {
      "text/html": [
       "<style>.container { width:90% !important; }</style>"
      ],
      "text/plain": [
       "<IPython.core.display.HTML object>"
      ]
     },
     "metadata": {},
     "output_type": "display_data"
    }
   ],
   "source": [
    "from IPython.core.display import display, HTML\n",
    "display(HTML(\"<style>.container { width:90% !important; }</style>\"))"
   ]
  },
  {
   "cell_type": "code",
   "execution_count": 103,
   "metadata": {
    "collapsed": false
   },
   "outputs": [],
   "source": [
    "import os\n",
    "import pandas as pd\n",
    "import numpy as np\n",
    "import sys\n",
    "from tqdm import tqdm\n",
    "import h5py\n",
    "sys.path.append('/home/jma819/post_cmfe_analysis')\n",
    "#sys.path.append('/Users/johnmarshall/Documents/Analysis/PythonAnalysisScripts/post_cmfe_analysis')\n",
    "from matplotlib import pyplot as plt\n",
    "import dlc_utils\n",
    "import av\n",
    "from matplotlib import animation, rc\n",
    "from IPython.display import HTML"
   ]
  },
  {
   "cell_type": "code",
   "execution_count": 12,
   "metadata": {
    "collapsed": false
   },
   "outputs": [
    {
     "data": {
      "text/plain": [
       "<module 'dlc_utils' from '/home/jma819/post_cmfe_analysis/dlc_utils.py'>"
      ]
     },
     "execution_count": 12,
     "metadata": {},
     "output_type": "execute_result"
    }
   ],
   "source": [
    "from importlib import reload\n",
    "reload(dlc_utils)"
   ]
  },
  {
   "cell_type": "code",
   "execution_count": 13,
   "metadata": {
    "collapsed": true
   },
   "outputs": [],
   "source": [
    "#dlc_directory = '/volumes/My_Passport/dlc_analysis/behavcamvideos/open_field_miniscope/'\n",
    "dlc_directory = '/projects/b1118/behaviorvideos/'"
   ]
  },
  {
   "cell_type": "code",
   "execution_count": 14,
   "metadata": {
    "collapsed": true
   },
   "outputs": [],
   "source": [
    "experiment_folders = [folder for folder in os.listdir(dlc_directory) if '_H' in folder]"
   ]
  },
  {
   "cell_type": "code",
   "execution_count": 15,
   "metadata": {
    "collapsed": false
   },
   "outputs": [
    {
     "data": {
      "text/plain": [
       "['GRIN013_H13_M33_S54']"
      ]
     },
     "execution_count": 15,
     "metadata": {},
     "output_type": "execute_result"
    }
   ],
   "source": [
    "experiment_folders"
   ]
  },
  {
   "cell_type": "code",
   "execution_count": 16,
   "metadata": {
    "collapsed": false
   },
   "outputs": [
    {
     "name": "stderr",
     "output_type": "stream",
     "text": [
      "100%|██████████| 1/1 [00:00<00:00, 728.30it/s]"
     ]
    },
    {
     "name": "stdout",
     "output_type": "stream",
     "text": [
      "GRIN013_H13_M33_S54\n"
     ]
    },
    {
     "name": "stderr",
     "output_type": "stream",
     "text": [
      "\n"
     ]
    }
   ],
   "source": [
    "for folder in tqdm(experiment_folders):\n",
    "    output_directory = dlc_directory+folder+'/'\n",
    "    session_name = folder\n",
    "    print(folder)\n",
    "    dlc_output_files = os.listdir(output_directory)\n",
    "    dlc_output_files.sort()\n",
    "    \n",
    "    names = []\n",
    "    dlc_dfs = []\n",
    "    "
   ]
  },
  {
   "cell_type": "code",
   "execution_count": 8,
   "metadata": {
    "collapsed": false
   },
   "outputs": [
    {
     "data": {
      "text/plain": [
       "['GRIN013_H13_M33_S54_compiled_session_02112021.csv',\n",
       " 'GRIN013_H13_M33_S54_compiled_session_02112021.h5',\n",
       " 'GRIN013_H13_M33_S54_dlc_tracking_foranalysis_02112021.csv',\n",
       " 'behavCam01.avi',\n",
       " 'behavCam01DLC_resnet50_Open_Field_v2Jan27shuffle1_150000.h5',\n",
       " 'behavCam01DLC_resnet50_Open_Field_v2Jan27shuffle1_150000_labeled.mp4',\n",
       " 'behavCam01DLC_resnet50_Open_Field_v2Jan27shuffle1_150000includingmetadata.pickle',\n",
       " 'behavCam02.avi',\n",
       " 'behavCam02DLC_resnet50_Open_Field_v2Jan27shuffle1_150000.h5',\n",
       " 'behavCam02DLC_resnet50_Open_Field_v2Jan27shuffle1_150000_labeled.mp4',\n",
       " 'behavCam02DLC_resnet50_Open_Field_v2Jan27shuffle1_150000includingmetadata.pickle',\n",
       " 'behavCam03.avi',\n",
       " 'behavCam03DLC_resnet50_Open_Field_v2Jan27shuffle1_150000.h5',\n",
       " 'behavCam03DLC_resnet50_Open_Field_v2Jan27shuffle1_150000_labeled.mp4',\n",
       " 'behavCam03DLC_resnet50_Open_Field_v2Jan27shuffle1_150000includingmetadata.pickle',\n",
       " 'behavCam04.avi',\n",
       " 'behavCam04DLC_resnet50_Open_Field_v2Jan27shuffle1_150000.h5',\n",
       " 'behavCam04DLC_resnet50_Open_Field_v2Jan27shuffle1_150000_labeled.mp4',\n",
       " 'behavCam04DLC_resnet50_Open_Field_v2Jan27shuffle1_150000includingmetadata.pickle',\n",
       " 'behavCam05.avi',\n",
       " 'behavCam05DLC_resnet50_Open_Field_v2Jan27shuffle1_150000.h5',\n",
       " 'behavCam05DLC_resnet50_Open_Field_v2Jan27shuffle1_150000_labeled.mp4',\n",
       " 'behavCam05DLC_resnet50_Open_Field_v2Jan27shuffle1_150000includingmetadata.pickle',\n",
       " 'behavCam06.avi',\n",
       " 'behavCam06DLC_resnet50_Open_Field_v2Jan27shuffle1_150000.h5',\n",
       " 'behavCam06DLC_resnet50_Open_Field_v2Jan27shuffle1_150000_labeled.mp4',\n",
       " 'behavCam06DLC_resnet50_Open_Field_v2Jan27shuffle1_150000includingmetadata.pickle',\n",
       " 'behavCam07.avi',\n",
       " 'behavCam07DLC_resnet50_Open_Field_v2Jan27shuffle1_150000.h5',\n",
       " 'behavCam07DLC_resnet50_Open_Field_v2Jan27shuffle1_150000_labeled.mp4',\n",
       " 'behavCam07DLC_resnet50_Open_Field_v2Jan27shuffle1_150000includingmetadata.pickle',\n",
       " 'behavCam08.avi',\n",
       " 'behavCam08DLC_resnet50_Open_Field_v2Jan27shuffle1_150000.h5',\n",
       " 'behavCam08DLC_resnet50_Open_Field_v2Jan27shuffle1_150000_labeled.mp4',\n",
       " 'behavCam08DLC_resnet50_Open_Field_v2Jan27shuffle1_150000includingmetadata.pickle',\n",
       " 'behavCam09.avi',\n",
       " 'behavCam09DLC_resnet50_Open_Field_v2Jan27shuffle1_150000.h5',\n",
       " 'behavCam09DLC_resnet50_Open_Field_v2Jan27shuffle1_150000_labeled.mp4',\n",
       " 'behavCam09DLC_resnet50_Open_Field_v2Jan27shuffle1_150000includingmetadata.pickle',\n",
       " 'behavCam10.avi',\n",
       " 'behavCam10DLC_resnet50_Open_Field_v2Jan27shuffle1_150000.h5',\n",
       " 'behavCam10DLC_resnet50_Open_Field_v2Jan27shuffle1_150000_labeled.mp4',\n",
       " 'behavCam10DLC_resnet50_Open_Field_v2Jan27shuffle1_150000includingmetadata.pickle',\n",
       " 'behavCam11.avi',\n",
       " 'behavCam11DLC_resnet50_Open_Field_v2Jan27shuffle1_150000.h5',\n",
       " 'behavCam11DLC_resnet50_Open_Field_v2Jan27shuffle1_150000_labeled.mp4',\n",
       " 'behavCam11DLC_resnet50_Open_Field_v2Jan27shuffle1_150000includingmetadata.pickle',\n",
       " 'behavCam12.avi',\n",
       " 'behavCam12DLC_resnet50_Open_Field_v2Jan27shuffle1_150000.h5',\n",
       " 'behavCam12DLC_resnet50_Open_Field_v2Jan27shuffle1_150000_labeled.mp4',\n",
       " 'behavCam12DLC_resnet50_Open_Field_v2Jan27shuffle1_150000includingmetadata.pickle',\n",
       " 'behavCam13.avi',\n",
       " 'behavCam13DLC_resnet50_Open_Field_v2Jan27shuffle1_150000.h5',\n",
       " 'behavCam13DLC_resnet50_Open_Field_v2Jan27shuffle1_150000_labeled.mp4',\n",
       " 'behavCam13DLC_resnet50_Open_Field_v2Jan27shuffle1_150000includingmetadata.pickle',\n",
       " 'behavCam14.avi',\n",
       " 'behavCam14DLC_resnet50_Open_Field_v2Jan27shuffle1_150000.h5',\n",
       " 'behavCam14DLC_resnet50_Open_Field_v2Jan27shuffle1_150000_labeled.mp4',\n",
       " 'behavCam14DLC_resnet50_Open_Field_v2Jan27shuffle1_150000includingmetadata.pickle',\n",
       " 'behavCam15.avi',\n",
       " 'behavCam15DLC_resnet50_Open_Field_v2Jan27shuffle1_150000.h5',\n",
       " 'behavCam15DLC_resnet50_Open_Field_v2Jan27shuffle1_150000_labeled.mp4',\n",
       " 'behavCam15DLC_resnet50_Open_Field_v2Jan27shuffle1_150000includingmetadata.pickle',\n",
       " 'behavCam16.avi',\n",
       " 'behavCam16DLC_resnet50_Open_Field_v2Jan27shuffle1_150000.h5',\n",
       " 'behavCam16DLC_resnet50_Open_Field_v2Jan27shuffle1_150000_labeled.mp4',\n",
       " 'behavCam16DLC_resnet50_Open_Field_v2Jan27shuffle1_150000includingmetadata.pickle',\n",
       " 'behavCam17.avi',\n",
       " 'behavCam17DLC_resnet50_Open_Field_v2Jan27shuffle1_150000.h5',\n",
       " 'behavCam17DLC_resnet50_Open_Field_v2Jan27shuffle1_150000_labeled.mp4',\n",
       " 'behavCam17DLC_resnet50_Open_Field_v2Jan27shuffle1_150000includingmetadata.pickle',\n",
       " 'behavCam18.avi',\n",
       " 'behavCam18DLC_resnet50_Open_Field_v2Jan27shuffle1_150000.h5',\n",
       " 'behavCam18DLC_resnet50_Open_Field_v2Jan27shuffle1_150000_labeled.mp4',\n",
       " 'behavCam18DLC_resnet50_Open_Field_v2Jan27shuffle1_150000includingmetadata.pickle',\n",
       " 'behavCam19.avi',\n",
       " 'behavCam19DLC_resnet50_Open_Field_v2Jan27shuffle1_150000.h5',\n",
       " 'behavCam19DLC_resnet50_Open_Field_v2Jan27shuffle1_150000_labeled.mp4',\n",
       " 'behavCam19DLC_resnet50_Open_Field_v2Jan27shuffle1_150000includingmetadata.pickle',\n",
       " 'behavCam20.avi',\n",
       " 'behavCam20DLC_resnet50_Open_Field_v2Jan27shuffle1_150000.h5',\n",
       " 'behavCam20DLC_resnet50_Open_Field_v2Jan27shuffle1_150000_labeled.mp4',\n",
       " 'behavCam20DLC_resnet50_Open_Field_v2Jan27shuffle1_150000includingmetadata.pickle',\n",
       " 'behavCam21.avi',\n",
       " 'behavCam21DLC_resnet50_Open_Field_v2Jan27shuffle1_150000.h5',\n",
       " 'behavCam21DLC_resnet50_Open_Field_v2Jan27shuffle1_150000_labeled.mp4',\n",
       " 'behavCam21DLC_resnet50_Open_Field_v2Jan27shuffle1_150000includingmetadata.pickle',\n",
       " 'behavCam22.avi',\n",
       " 'behavCam22DLC_resnet50_Open_Field_v2Jan27shuffle1_150000.h5',\n",
       " 'behavCam22DLC_resnet50_Open_Field_v2Jan27shuffle1_150000_labeled.mp4',\n",
       " 'behavCam22DLC_resnet50_Open_Field_v2Jan27shuffle1_150000includingmetadata.pickle',\n",
       " 'behavCam23.avi',\n",
       " 'behavCam23DLC_resnet50_Open_Field_v2Jan27shuffle1_150000.h5',\n",
       " 'behavCam23DLC_resnet50_Open_Field_v2Jan27shuffle1_150000_labeled.mp4',\n",
       " 'behavCam23DLC_resnet50_Open_Field_v2Jan27shuffle1_150000includingmetadata.pickle',\n",
       " 'behavCam24.avi',\n",
       " 'behavCam24DLC_resnet50_Open_Field_v2Jan27shuffle1_150000.h5',\n",
       " 'behavCam24DLC_resnet50_Open_Field_v2Jan27shuffle1_150000_labeled.mp4',\n",
       " 'behavCam24DLC_resnet50_Open_Field_v2Jan27shuffle1_150000includingmetadata.pickle',\n",
       " 'behavCam25.avi',\n",
       " 'behavCam25DLC_resnet50_Open_Field_v2Jan27shuffle1_150000.h5',\n",
       " 'behavCam25DLC_resnet50_Open_Field_v2Jan27shuffle1_150000_labeled.mp4',\n",
       " 'behavCam25DLC_resnet50_Open_Field_v2Jan27shuffle1_150000includingmetadata.pickle',\n",
       " 'behavCam26.avi',\n",
       " 'behavCam26DLC_resnet50_Open_Field_v2Jan27shuffle1_150000.h5',\n",
       " 'behavCam26DLC_resnet50_Open_Field_v2Jan27shuffle1_150000_labeled.mp4',\n",
       " 'behavCam26DLC_resnet50_Open_Field_v2Jan27shuffle1_150000includingmetadata.pickle',\n",
       " 'behavCam27.avi',\n",
       " 'behavCam27DLC_resnet50_Open_Field_v2Jan27shuffle1_150000.h5',\n",
       " 'behavCam27DLC_resnet50_Open_Field_v2Jan27shuffle1_150000_labeled.mp4',\n",
       " 'behavCam27DLC_resnet50_Open_Field_v2Jan27shuffle1_150000includingmetadata.pickle',\n",
       " 'behavCam28.avi',\n",
       " 'behavCam28DLC_resnet50_Open_Field_v2Jan27shuffle1_150000.h5',\n",
       " 'behavCam28DLC_resnet50_Open_Field_v2Jan27shuffle1_150000_labeled.mp4',\n",
       " 'behavCam28DLC_resnet50_Open_Field_v2Jan27shuffle1_150000includingmetadata.pickle',\n",
       " 'behavCam29.avi',\n",
       " 'behavCam29DLC_resnet50_Open_Field_v2Jan27shuffle1_150000.h5',\n",
       " 'behavCam29DLC_resnet50_Open_Field_v2Jan27shuffle1_150000_labeled.mp4',\n",
       " 'behavCam29DLC_resnet50_Open_Field_v2Jan27shuffle1_150000includingmetadata.pickle',\n",
       " 'behavCam30.avi',\n",
       " 'behavCam30DLC_resnet50_Open_Field_v2Jan27shuffle1_150000.h5',\n",
       " 'behavCam30DLC_resnet50_Open_Field_v2Jan27shuffle1_150000_labeled.mp4',\n",
       " 'behavCam30DLC_resnet50_Open_Field_v2Jan27shuffle1_150000includingmetadata.pickle',\n",
       " 'behavCam31.avi',\n",
       " 'behavCam31DLC_resnet50_Open_Field_v2Jan27shuffle1_150000.h5',\n",
       " 'behavCam31DLC_resnet50_Open_Field_v2Jan27shuffle1_150000_labeled.mp4',\n",
       " 'behavCam31DLC_resnet50_Open_Field_v2Jan27shuffle1_150000includingmetadata.pickle',\n",
       " 'behavCam32.avi',\n",
       " 'behavCam32DLC_resnet50_Open_Field_v2Jan27shuffle1_150000.h5',\n",
       " 'behavCam32DLC_resnet50_Open_Field_v2Jan27shuffle1_150000_labeled.mp4',\n",
       " 'behavCam32DLC_resnet50_Open_Field_v2Jan27shuffle1_150000includingmetadata.pickle',\n",
       " 'behavCam33.avi',\n",
       " 'behavCam33DLC_resnet50_Open_Field_v2Jan27shuffle1_150000.h5',\n",
       " 'behavCam33DLC_resnet50_Open_Field_v2Jan27shuffle1_150000_labeled.mp4',\n",
       " 'behavCam33DLC_resnet50_Open_Field_v2Jan27shuffle1_150000includingmetadata.pickle',\n",
       " 'behavCam34.avi',\n",
       " 'behavCam34DLC_resnet50_Open_Field_v2Jan27shuffle1_150000.h5',\n",
       " 'behavCam34DLC_resnet50_Open_Field_v2Jan27shuffle1_150000_labeled.mp4',\n",
       " 'behavCam34DLC_resnet50_Open_Field_v2Jan27shuffle1_150000includingmetadata.pickle',\n",
       " 'behavCam35.avi',\n",
       " 'behavCam35DLC_resnet50_Open_Field_v2Jan27shuffle1_150000.h5',\n",
       " 'behavCam35DLC_resnet50_Open_Field_v2Jan27shuffle1_150000_labeled.mp4',\n",
       " 'behavCam35DLC_resnet50_Open_Field_v2Jan27shuffle1_150000includingmetadata.pickle',\n",
       " 'behavCam36.avi',\n",
       " 'behavCam36DLC_resnet50_Open_Field_v2Jan27shuffle1_150000.h5',\n",
       " 'behavCam36DLC_resnet50_Open_Field_v2Jan27shuffle1_150000_labeled.mp4',\n",
       " 'behavCam36DLC_resnet50_Open_Field_v2Jan27shuffle1_150000includingmetadata.pickle',\n",
       " 'behavCam37.avi',\n",
       " 'behavCam37DLC_resnet50_Open_Field_v2Jan27shuffle1_150000.h5',\n",
       " 'behavCam37DLC_resnet50_Open_Field_v2Jan27shuffle1_150000_labeled.mp4',\n",
       " 'behavCam37DLC_resnet50_Open_Field_v2Jan27shuffle1_150000includingmetadata.pickle',\n",
       " 'behavCam38.avi',\n",
       " 'behavCam38DLC_resnet50_Open_Field_v2Jan27shuffle1_150000.h5',\n",
       " 'behavCam38DLC_resnet50_Open_Field_v2Jan27shuffle1_150000_labeled.mp4',\n",
       " 'behavCam38DLC_resnet50_Open_Field_v2Jan27shuffle1_150000includingmetadata.pickle',\n",
       " 'timestamp.dat']"
      ]
     },
     "execution_count": 8,
     "metadata": {},
     "output_type": "execute_result"
    }
   ],
   "source": [
    "dlc_output_files"
   ]
  },
  {
   "cell_type": "code",
   "execution_count": 104,
   "metadata": {
    "collapsed": false
   },
   "outputs": [],
   "source": [
    "dlc_output = pd.read_hdf('/projects/b1118/behaviorvideos/GRIN013_H13_M33_S54/behavCam02DLC_resnet50_Open_Field_v2Jan27shuffle1_150000.h5')\n",
    "#dlc_output = dlc_utils.calculate_centroid(dlc_output)\n",
    "#should also append a time column for alignment to avi file\n",
    "time_within_movie_seconds = np.linspace(0, 50, 1000)"
   ]
  },
  {
   "cell_type": "code",
   "execution_count": 105,
   "metadata": {
    "collapsed": false,
    "scrolled": true
   },
   "outputs": [
    {
     "data": {
      "text/html": [
       "<div>\n",
       "<style scoped>\n",
       "    .dataframe tbody tr th:only-of-type {\n",
       "        vertical-align: middle;\n",
       "    }\n",
       "\n",
       "    .dataframe tbody tr th {\n",
       "        vertical-align: top;\n",
       "    }\n",
       "\n",
       "    .dataframe thead tr th {\n",
       "        text-align: left;\n",
       "    }\n",
       "</style>\n",
       "<table border=\"1\" class=\"dataframe\">\n",
       "  <thead>\n",
       "    <tr>\n",
       "      <th>scorer</th>\n",
       "      <th colspan=\"12\" halign=\"left\">DLC_resnet50_Open_Field_v2Jan27shuffle1_150000</th>\n",
       "    </tr>\n",
       "    <tr>\n",
       "      <th>bodyparts</th>\n",
       "      <th colspan=\"3\" halign=\"left\">ear_left</th>\n",
       "      <th colspan=\"3\" halign=\"left\">ear_right</th>\n",
       "      <th colspan=\"3\" halign=\"left\">tail_base</th>\n",
       "      <th colspan=\"3\" halign=\"left\">miniscope_light</th>\n",
       "    </tr>\n",
       "    <tr>\n",
       "      <th>coords</th>\n",
       "      <th>x</th>\n",
       "      <th>y</th>\n",
       "      <th>likelihood</th>\n",
       "      <th>x</th>\n",
       "      <th>y</th>\n",
       "      <th>likelihood</th>\n",
       "      <th>x</th>\n",
       "      <th>y</th>\n",
       "      <th>likelihood</th>\n",
       "      <th>x</th>\n",
       "      <th>y</th>\n",
       "      <th>likelihood</th>\n",
       "    </tr>\n",
       "  </thead>\n",
       "  <tbody>\n",
       "    <tr>\n",
       "      <th>0</th>\n",
       "      <td>292.508667</td>\n",
       "      <td>357.506012</td>\n",
       "      <td>0.074033</td>\n",
       "      <td>300.513000</td>\n",
       "      <td>364.337311</td>\n",
       "      <td>0.180357</td>\n",
       "      <td>253.353836</td>\n",
       "      <td>375.582794</td>\n",
       "      <td>1.0</td>\n",
       "      <td>307.633392</td>\n",
       "      <td>355.723877</td>\n",
       "      <td>0.008590</td>\n",
       "    </tr>\n",
       "    <tr>\n",
       "      <th>1</th>\n",
       "      <td>292.862366</td>\n",
       "      <td>357.351593</td>\n",
       "      <td>0.093176</td>\n",
       "      <td>302.479034</td>\n",
       "      <td>370.733826</td>\n",
       "      <td>0.303444</td>\n",
       "      <td>253.549255</td>\n",
       "      <td>375.880615</td>\n",
       "      <td>1.0</td>\n",
       "      <td>307.503723</td>\n",
       "      <td>355.476562</td>\n",
       "      <td>0.008776</td>\n",
       "    </tr>\n",
       "    <tr>\n",
       "      <th>2</th>\n",
       "      <td>293.086090</td>\n",
       "      <td>357.166443</td>\n",
       "      <td>0.185885</td>\n",
       "      <td>302.335846</td>\n",
       "      <td>370.647156</td>\n",
       "      <td>0.392228</td>\n",
       "      <td>253.383041</td>\n",
       "      <td>375.891968</td>\n",
       "      <td>1.0</td>\n",
       "      <td>307.716858</td>\n",
       "      <td>355.432251</td>\n",
       "      <td>0.015284</td>\n",
       "    </tr>\n",
       "    <tr>\n",
       "      <th>3</th>\n",
       "      <td>292.763947</td>\n",
       "      <td>357.294891</td>\n",
       "      <td>0.114862</td>\n",
       "      <td>301.174866</td>\n",
       "      <td>364.848114</td>\n",
       "      <td>0.248863</td>\n",
       "      <td>253.609161</td>\n",
       "      <td>375.824310</td>\n",
       "      <td>1.0</td>\n",
       "      <td>307.500061</td>\n",
       "      <td>355.350494</td>\n",
       "      <td>0.008182</td>\n",
       "    </tr>\n",
       "    <tr>\n",
       "      <th>4</th>\n",
       "      <td>293.038818</td>\n",
       "      <td>357.544952</td>\n",
       "      <td>0.089646</td>\n",
       "      <td>302.475433</td>\n",
       "      <td>370.651306</td>\n",
       "      <td>0.233052</td>\n",
       "      <td>253.424500</td>\n",
       "      <td>375.775513</td>\n",
       "      <td>1.0</td>\n",
       "      <td>307.749084</td>\n",
       "      <td>355.445374</td>\n",
       "      <td>0.010289</td>\n",
       "    </tr>\n",
       "  </tbody>\n",
       "</table>\n",
       "</div>"
      ],
      "text/plain": [
       "scorer    DLC_resnet50_Open_Field_v2Jan27shuffle1_150000              \\\n",
       "bodyparts                                       ear_left               \n",
       "coords                                                 x           y   \n",
       "0                                             292.508667  357.506012   \n",
       "1                                             292.862366  357.351593   \n",
       "2                                             293.086090  357.166443   \n",
       "3                                             292.763947  357.294891   \n",
       "4                                             293.038818  357.544952   \n",
       "\n",
       "scorer                                                               \\\n",
       "bodyparts              ear_right                          tail_base   \n",
       "coords    likelihood           x           y likelihood           x   \n",
       "0           0.074033  300.513000  364.337311   0.180357  253.353836   \n",
       "1           0.093176  302.479034  370.733826   0.303444  253.549255   \n",
       "2           0.185885  302.335846  370.647156   0.392228  253.383041   \n",
       "3           0.114862  301.174866  364.848114   0.248863  253.609161   \n",
       "4           0.089646  302.475433  370.651306   0.233052  253.424500   \n",
       "\n",
       "scorer                                                                   \n",
       "bodyparts                        miniscope_light                         \n",
       "coords              y likelihood               x           y likelihood  \n",
       "0          375.582794        1.0      307.633392  355.723877   0.008590  \n",
       "1          375.880615        1.0      307.503723  355.476562   0.008776  \n",
       "2          375.891968        1.0      307.716858  355.432251   0.015284  \n",
       "3          375.824310        1.0      307.500061  355.350494   0.008182  \n",
       "4          375.775513        1.0      307.749084  355.445374   0.010289  "
      ]
     },
     "execution_count": 105,
     "metadata": {},
     "output_type": "execute_result"
    }
   ],
   "source": [
    "dlc_output.head()"
   ]
  },
  {
   "cell_type": "code",
   "execution_count": 11,
   "metadata": {
    "collapsed": false
   },
   "outputs": [
    {
     "data": {
      "text/plain": [
       "[<matplotlib.lines.Line2D at 0x2b6cf2736d90>]"
      ]
     },
     "execution_count": 11,
     "metadata": {},
     "output_type": "execute_result"
    },
    {
     "data": {
      "image/png": "[encoded data removed]",
      "text/plain": [
       "<Figure size 432x288 with 1 Axes>"
      ]
     },
     "metadata": {
      "needs_background": "light"
     },
     "output_type": "display_data"
    }
   ],
   "source": [
    "label = 'tail_base'\n",
    "plt.plot(dlc_output['DLC_resnet50_Open_Field_v2Jan27shuffle1_150000'][label]['x'])\n",
    "plt.plot(dlc_output['DLC_resnet50_Open_Field_v2Jan27shuffle1_150000'][label]['y'])\n",
    "plt.plot(dlc_output['DLC_resnet50_Open_Field_v2Jan27shuffle1_150000'][label]['likelihood'])"
   ]
  },
  {
   "cell_type": "code",
   "execution_count": 12,
   "metadata": {
    "collapsed": false
   },
   "outputs": [],
   "source": [
    "## find regions where likelihood is less than maybe .9-1\n",
    "low_likelihood_indicies = dlc_output.loc[dlc_output['DLC_resnet50_Open_Field_v2Jan27shuffle1_150000'][label]['likelihood']<0.9].index\n",
    "#if want to get time \n",
    "#low_likelihood_times = time_within_movie_seconds[list(low_likelihood_indicies)]\n",
    "#remove coordinate values from low likelihood regions \n",
    "dlc_output.loc[low_likelihood_indicies, ('DLC_resnet50_Open_Field_v2Jan27shuffle1_150000', 'tail_base', 'x')]=np.nan\n",
    "dlc_output.loc[low_likelihood_indicies, ('DLC_resnet50_Open_Field_v2Jan27shuffle1_150000', 'tail_base', 'y')]=np.nan"
   ]
  },
  {
   "cell_type": "code",
   "execution_count": 13,
   "metadata": {
    "collapsed": false
   },
   "outputs": [],
   "source": [
    "#dlc_output.loc[low_likelihood_indicies]"
   ]
  },
  {
   "cell_type": "code",
   "execution_count": 14,
   "metadata": {
    "collapsed": false
   },
   "outputs": [
    {
     "data": {
      "text/plain": [
       "[<matplotlib.lines.Line2D at 0x2b6cf27e5970>]"
      ]
     },
     "execution_count": 14,
     "metadata": {},
     "output_type": "execute_result"
    },
    {
     "data": {
      "image/png": "[encoded data removed]",
      "text/plain": [
       "<Figure size 432x288 with 1 Axes>"
      ]
     },
     "metadata": {
      "needs_background": "light"
     },
     "output_type": "display_data"
    }
   ],
   "source": [
    "label = 'tail_base'\n",
    "plt.plot(dlc_output['DLC_resnet50_Open_Field_v2Jan27shuffle1_150000'][label]['x'])\n",
    "plt.plot(dlc_output['DLC_resnet50_Open_Field_v2Jan27shuffle1_150000'][label]['y'])\n",
    "plt.plot(dlc_output['DLC_resnet50_Open_Field_v2Jan27shuffle1_150000'][label]['likelihood'])"
   ]
  },
  {
   "cell_type": "code",
   "execution_count": 15,
   "metadata": {
    "collapsed": false
   },
   "outputs": [],
   "source": [
    "coordinates_delta_df = dlc_utils.difference_df(dlc_output)"
   ]
  },
  {
   "cell_type": "code",
   "execution_count": 16,
   "metadata": {
    "collapsed": false
   },
   "outputs": [
    {
     "data": {
      "text/html": [
       "<div>\n",
       "<style scoped>\n",
       "    .dataframe tbody tr th:only-of-type {\n",
       "        vertical-align: middle;\n",
       "    }\n",
       "\n",
       "    .dataframe tbody tr th {\n",
       "        vertical-align: top;\n",
       "    }\n",
       "\n",
       "    .dataframe thead tr th {\n",
       "        text-align: left;\n",
       "    }\n",
       "</style>\n",
       "<table border=\"1\" class=\"dataframe\">\n",
       "  <thead>\n",
       "    <tr>\n",
       "      <th></th>\n",
       "      <th colspan=\"2\" halign=\"left\">miniscope_light</th>\n",
       "      <th colspan=\"2\" halign=\"left\">tail_base</th>\n",
       "      <th colspan=\"2\" halign=\"left\">ear_right</th>\n",
       "      <th colspan=\"2\" halign=\"left\">ear_left</th>\n",
       "    </tr>\n",
       "    <tr>\n",
       "      <th>coords</th>\n",
       "      <th>x</th>\n",
       "      <th>y</th>\n",
       "      <th>x</th>\n",
       "      <th>y</th>\n",
       "      <th>x</th>\n",
       "      <th>y</th>\n",
       "      <th>x</th>\n",
       "      <th>y</th>\n",
       "    </tr>\n",
       "  </thead>\n",
       "  <tbody>\n",
       "    <tr>\n",
       "      <th>0</th>\n",
       "      <td>NaN</td>\n",
       "      <td>NaN</td>\n",
       "      <td>NaN</td>\n",
       "      <td>NaN</td>\n",
       "      <td>NaN</td>\n",
       "      <td>NaN</td>\n",
       "      <td>NaN</td>\n",
       "      <td>NaN</td>\n",
       "    </tr>\n",
       "    <tr>\n",
       "      <th>1</th>\n",
       "      <td>-0.129669</td>\n",
       "      <td>-0.247314</td>\n",
       "      <td>0.195419</td>\n",
       "      <td>0.297821</td>\n",
       "      <td>1.966034</td>\n",
       "      <td>6.396515</td>\n",
       "      <td>0.353699</td>\n",
       "      <td>-0.154419</td>\n",
       "    </tr>\n",
       "    <tr>\n",
       "      <th>2</th>\n",
       "      <td>0.213135</td>\n",
       "      <td>-0.044312</td>\n",
       "      <td>-0.166214</td>\n",
       "      <td>0.011353</td>\n",
       "      <td>-0.143188</td>\n",
       "      <td>-0.086670</td>\n",
       "      <td>0.223724</td>\n",
       "      <td>-0.185150</td>\n",
       "    </tr>\n",
       "    <tr>\n",
       "      <th>3</th>\n",
       "      <td>-0.216797</td>\n",
       "      <td>-0.081757</td>\n",
       "      <td>0.226120</td>\n",
       "      <td>-0.067657</td>\n",
       "      <td>-1.160980</td>\n",
       "      <td>-5.799042</td>\n",
       "      <td>-0.322144</td>\n",
       "      <td>0.128448</td>\n",
       "    </tr>\n",
       "    <tr>\n",
       "      <th>4</th>\n",
       "      <td>0.249023</td>\n",
       "      <td>0.094879</td>\n",
       "      <td>-0.184662</td>\n",
       "      <td>-0.048798</td>\n",
       "      <td>1.300568</td>\n",
       "      <td>5.803192</td>\n",
       "      <td>0.274872</td>\n",
       "      <td>0.250061</td>\n",
       "    </tr>\n",
       "  </tbody>\n",
       "</table>\n",
       "</div>"
      ],
      "text/plain": [
       "       miniscope_light           tail_base           ear_right            \\\n",
       "coords               x         y         x         y         x         y   \n",
       "0                  NaN       NaN       NaN       NaN       NaN       NaN   \n",
       "1            -0.129669 -0.247314  0.195419  0.297821  1.966034  6.396515   \n",
       "2             0.213135 -0.044312 -0.166214  0.011353 -0.143188 -0.086670   \n",
       "3            -0.216797 -0.081757  0.226120 -0.067657 -1.160980 -5.799042   \n",
       "4             0.249023  0.094879 -0.184662 -0.048798  1.300568  5.803192   \n",
       "\n",
       "        ear_left            \n",
       "coords         x         y  \n",
       "0            NaN       NaN  \n",
       "1       0.353699 -0.154419  \n",
       "2       0.223724 -0.185150  \n",
       "3      -0.322144  0.128448  \n",
       "4       0.274872  0.250061  "
      ]
     },
     "execution_count": 16,
     "metadata": {},
     "output_type": "execute_result"
    }
   ],
   "source": [
    "coordinates_delta_df.head()"
   ]
  },
  {
   "cell_type": "code",
   "execution_count": 17,
   "metadata": {
    "collapsed": false
   },
   "outputs": [
    {
     "data": {
      "text/plain": [
       "[<matplotlib.lines.Line2D at 0x2b6cf27fa640>]"
      ]
     },
     "execution_count": 17,
     "metadata": {},
     "output_type": "execute_result"
    },
    {
     "data": {
      "image/png": "[encoded data removed]",
      "text/plain": [
       "<Figure size 432x288 with 1 Axes>"
      ]
     },
     "metadata": {
      "needs_background": "light"
     },
     "output_type": "display_data"
    }
   ],
   "source": [
    "# much better but still need to remove instances of rapid switching here \n",
    "label = 'tail_base'\n",
    "plt.plot(time_within_movie_seconds, coordinates_delta_df[label]['x'])\n",
    "plt.plot(time_within_movie_seconds, coordinates_delta_df[label]['y'])\n"
   ]
  },
  {
   "cell_type": "code",
   "execution_count": 18,
   "metadata": {
    "collapsed": false
   },
   "outputs": [],
   "source": [
    "df_columns = list(dlc_output.columns)\n",
    "velocity_df = pd.DataFrame(np.transpose(np.array([np.array([dlc_utils.velocity(coordinates_delta_df[body_part]['x'].values[frame],coordinates_delta_df[body_part]['y'].values[frame]) for frame in range(len(coordinates_delta_df))]) for body_part in list(set([df_columns[item][1] for item in range(len(df_columns))]))])), \n",
    "                                       columns=list(set([df_columns[item][1] for item in range(len(df_columns))]))) \n",
    "for body_part in list(set([df_columns[item][1] for item in range(len(df_columns))])):\n",
    "    velocity_df[body_part+'_likelihood']=dlc_output[df_columns[0][0]][body_part]['likelihood'].values"
   ]
  },
  {
   "cell_type": "code",
   "execution_count": 19,
   "metadata": {
    "collapsed": false
   },
   "outputs": [
    {
     "data": {
      "text/plain": [
       "[<matplotlib.lines.Line2D at 0x2b6cf28c5b20>]"
      ]
     },
     "execution_count": 19,
     "metadata": {},
     "output_type": "execute_result"
    },
    {
     "data": {
      "image/png": "[encoded data removed]",
      "text/plain": [
       "<Figure size 432x288 with 1 Axes>"
      ]
     },
     "metadata": {
      "needs_background": "light"
     },
     "output_type": "display_data"
    }
   ],
   "source": [
    "## for now this might be good enough to pick out regions for later review\n",
    "label = 'tail_base'\n",
    "plt.plot(time_within_movie_seconds, velocity_df[label])\n"
   ]
  },
  {
   "cell_type": "code",
   "execution_count": 20,
   "metadata": {
    "collapsed": true
   },
   "outputs": [],
   "source": [
    "# check if alignment to msCam videos is working "
   ]
  },
  {
   "cell_type": "code",
   "execution_count": 21,
   "metadata": {
    "collapsed": false
   },
   "outputs": [
    {
     "data": {
      "text/plain": [
       "[<matplotlib.lines.Line2D at 0x2b6cf2891c10>]"
      ]
     },
     "execution_count": 21,
     "metadata": {},
     "output_type": "execute_result"
    },
    {
     "data": {
      "image/png": "[encoded data removed]",
      "text/plain": [
       "<Figure size 432x288 with 1 Axes>"
      ]
     },
     "metadata": {
      "needs_background": "light"
     },
     "output_type": "display_data"
    }
   ],
   "source": [
    "velocity_df\n",
    "plt.plot(time_within_movie_seconds, velocity_df['tail_base_likelihood'])"
   ]
  },
  {
   "cell_type": "code",
   "execution_count": 22,
   "metadata": {
    "collapsed": false,
    "scrolled": true
   },
   "outputs": [
    {
     "data": {
      "text/plain": [
       "'/projects/b1118/behaviorvideos/'"
      ]
     },
     "execution_count": 22,
     "metadata": {},
     "output_type": "execute_result"
    }
   ],
   "source": [
    "## compiling all files in recording session to check msCam alignment\n",
    "dlc_directory "
   ]
  },
  {
   "cell_type": "code",
   "execution_count": 23,
   "metadata": {
    "collapsed": false
   },
   "outputs": [
    {
     "data": {
      "text/plain": [
       "'GRIN013_H13_M33_S54'"
      ]
     },
     "execution_count": 23,
     "metadata": {},
     "output_type": "execute_result"
    }
   ],
   "source": [
    "session_name"
   ]
  },
  {
   "cell_type": "code",
   "execution_count": 44,
   "metadata": {
    "collapsed": false
   },
   "outputs": [
    {
     "name": "stderr",
     "output_type": "stream",
     "text": [
      "\n",
      "100%|██████████| 1/1 [00:00<00:00, 417.34it/s]"
     ]
    },
    {
     "name": "stdout",
     "output_type": "stream",
     "text": [
      "GRIN013_H13_M33_S54\n"
     ]
    },
    {
     "name": "stderr",
     "output_type": "stream",
     "text": [
      "\n"
     ]
    }
   ],
   "source": [
    "for folder in tqdm(experiment_folders):\n",
    "    output_directory = dlc_directory+folder+'/'\n",
    "    session_name = folder\n",
    "    print(folder)\n",
    "    dlc_output_files = os.listdir(output_directory)\n",
    "    dlc_output_files.sort()"
   ]
  },
  {
   "cell_type": "code",
   "execution_count": 47,
   "metadata": {
    "collapsed": false
   },
   "outputs": [],
   "source": [
    "#dlc_output_files[0:10]"
   ]
  },
  {
   "cell_type": "code",
   "execution_count": 108,
   "metadata": {
    "collapsed": false
   },
   "outputs": [
    {
     "data": {
      "text/plain": [
       "['miniscope_light', 'tail_base', 'ear_right', 'ear_left']"
      ]
     },
     "execution_count": 108,
     "metadata": {},
     "output_type": "execute_result"
    }
   ],
   "source": [
    "list(set(dlc_output.columns.get_level_values(1)))"
   ]
  },
  {
   "cell_type": "code",
   "execution_count": null,
   "metadata": {
    "collapsed": true
   },
   "outputs": [],
   "source": [
    "for folder in tqdm(experiment_folders):\n",
    "    output_directory = dlc_directory+folder+'/'\n",
    "    session_name = folder\n",
    "    print(folder)\n",
    "    dlc_output_files = os.listdir(output_directory)\n",
    "    dlc_output_files.sort()    \n",
    "    names = []\n",
    "    dlc_dfs = []\n",
    "    for output_file in dlc_output_files[0:10]:\n",
    "        if output_file.endswith('000.h5'):\n",
    "            print(output_file)\n",
    "            dlc_output = pd.read_hdf(output_directory + output_file)\n",
    "            \n",
    "            ## before calculating centroid remove regions where \n",
    "            # find regions where likelihood is less than maybe .9-1\n",
    "            for body_part in list(set(dlc_output.columns.get_level_values(1))):\n",
    "                low_likelihood_indicies = dlc_output.loc[dlc_output['DLC_resnet50_Open_Field_v2Jan27shuffle1_150000'][body_part]['likelihood']<0.9].index\n",
    "                #remove coordinate values from low likelihood regions \n",
    "                dlc_output.loc[low_likelihood_indicies, ('DLC_resnet50_Open_Field_v2Jan27shuffle1_150000', body_part, 'x')]=np.nan\n",
    "                dlc_output.loc[low_likelihood_indicies, ('DLC_resnet50_Open_Field_v2Jan27shuffle1_150000', body_part, 'y')]=np.nan\n",
    "          \n",
    "            dlc_output = dlc_utils.calculate_centroid(dlc_output)\n",
    "            dlc_output.head()\n",
    "            coordinates_delta_df = dlc_utils.difference_df(dlc_output)\n",
    "            df_columns = list(dlc_output.columns)\n",
    "\n",
    "            print('calculating velocity')\n",
    "            velocity_df = pd.DataFrame(np.transpose(np.array([np.array([dlc_utils.velocity(coordinates_delta_df[body_part]['x'].values[frame],coordinates_delta_df[body_part]['y'].values[frame]) for frame in range(len(coordinates_delta_df))]) for body_part in list(set([df_columns[item][1] for item in range(len(df_columns))]))])), \n",
    "                                       columns=list(set([df_columns[item][1] for item in range(len(df_columns))]))) \n",
    "            for body_part in list(set([df_columns[item][1] for item in range(len(df_columns))])):\n",
    "                velocity_df[body_part+'_likelihood']=dlc_output[df_columns[0][0]][body_part]['likelihood'].values\n",
    "            \n",
    "            names.append(output_file)\n",
    "            dlc_dfs.append(velocity_df)\n",
    "\n",
    "    session_compiled = pd.concat(dlc_dfs, keys=names)\n",
    "\n",
    "    #save compiled session \n",
    "    session_compiled.to_hdf(output_directory+session_name+'_compiled_session_02112021.h5', key='df')\n",
    "    session_compiled.to_csv(output_directory+session_name+'_compiled_session_02112021.csv')\n",
    "\n",
    "    #create behavior data aligned to the msCam frames\n",
    "    #need to have switch here for msCam and BehavCam cam #s\n",
    "    #in these recordings behavcam records at faster framerate (30fps vs 20fps) so will have more frames\n",
    "    timsestamps_file = output_directory+'timestamp.dat'\n",
    "    frame_clock_df = pd.read_table(timsestamps_file)\n",
    "    Cam0_timestamps = frame_clock_df[frame_clock_df['camNum'] == 0]  \n",
    "    Cam1_timestamps = frame_clock_df[frame_clock_df['camNum'] == 1]\n",
    "    if len(Cam1_timestamps)>len(Cam0_timestamps):\n",
    "        msCam_camnum=0\n",
    "        behavCam_camnum=1\n",
    "    elif len(Cam1_timestamps)<len(Cam0_timestamps):\n",
    "        msCam_camnum=1\n",
    "        behavCam_camnum=0\n",
    "    else:\n",
    "        print('check timestamp file')\n",
    "        break   \n",
    "\n",
    "    # changing selection of frames from session compiled dataframe to account for 1 indexing of frames in timestamp file -- should be fixed \n",
    "    aligned = dlc_utils.downsample_dlc_to_behavior(output_directory+session_name+'_compiled_session_02112021.h5', output_directory+'timestamp.dat', \n",
    "                                                   msCam_camnum, behavCam_camnum)"
   ]
  },
  {
   "cell_type": "code",
   "execution_count": 78,
   "metadata": {
    "collapsed": false
   },
   "outputs": [
    {
     "data": {
      "text/plain": [
       "'/projects/b1118/behaviorvideos/GRIN013_H13_M33_S54/GRIN013_H13_M33_S54_dlc_tracking_foranalysis.csv'"
      ]
     },
     "execution_count": 78,
     "metadata": {},
     "output_type": "execute_result"
    }
   ],
   "source": [
    "    aligned_td = aligned.set_index(pd.to_timedelta(np.linspace(0, aligned['sys_clock_behavCam'].values[-1]/1000, len(aligned)), unit='s'), drop=False)\n",
    "    \n",
    "    #smooth data by downsampling and interpolating \n",
    "    velocities_for_smoothing = aligned_td[list(set(dlc_output.columns.get_level_values(1)))]\n",
    "    dont_smooth = aligned_td[[label for label in list(set(aligned_td.columns)) if label not in list(set(dlc_output.columns.get_level_values(1)))]]\n",
    "    \n",
    "    interpolated = dlc_utils.downsample_and_interpolate(velocities_for_smoothing, '.05S', '1S', 'linear')\n",
    "    interpolated_for_output = pd.concat([interpolated.reset_index(drop=True), dont_smooth.reset_index(drop=True)], axis=1).set_index(pd.to_timedelta(np.linspace(0, dont_smooth['sys_clock_behavCam'].values[-1]/1000, len(aligned)), unit='s'), drop=False)\n",
    "\n",
    "\n",
    "    aligned_td.to_csv(output_directory+session_name+'_dlc_tracking_foranalysis_unsmoothed_02112021.csv')\n",
    "    interpolated_for_output.to_csv(output_directory+session_name+'_dlc_tracking_foranalysis_02112021.csv')\n",
    "    output_directory+session_name+'_dlc_tracking_foranalysis.csv'"
   ]
  },
  {
   "cell_type": "code",
   "execution_count": 79,
   "metadata": {
    "collapsed": false
   },
   "outputs": [],
   "source": [
    "#velocities_for_smoothing"
   ]
  },
  {
   "cell_type": "code",
   "execution_count": 80,
   "metadata": {
    "collapsed": true
   },
   "outputs": [],
   "source": [
    "## load results to plot examples of movement events from behavCam videos\n",
    "aligned_td = pd.read_csv('/projects/b1118/behaviorvideos/GRIN013_H13_M33_S54/GRIN013_H13_M33_S54_compiled_session_02112021.csv')\n",
    "interpolated = pd.read_csv('/projects/b1118/behaviorvideos/GRIN013_H13_M33_S54/GRIN013_H13_M33_S54_dlc_tracking_foranalysis_02112021.csv')"
   ]
  },
  {
   "cell_type": "code",
   "execution_count": 81,
   "metadata": {
    "collapsed": false
   },
   "outputs": [
    {
     "data": {
      "text/plain": [
       "[<matplotlib.lines.Line2D at 0x2b36482e3c10>]"
      ]
     },
     "execution_count": 81,
     "metadata": {},
     "output_type": "execute_result"
    },
    {
     "data": {
      "image/png": "[encoded data removed]",
      "text/plain": [
       "<Figure size 432x288 with 1 Axes>"
      ]
     },
     "metadata": {
      "needs_background": "light"
     },
     "output_type": "display_data"
    }
   ],
   "source": [
    "plt.plot(interpolated_for_output['tail_base'])"
   ]
  },
  {
   "cell_type": "code",
   "execution_count": 82,
   "metadata": {
    "collapsed": false
   },
   "outputs": [
    {
     "data": {
      "text/plain": [
       "[<matplotlib.lines.Line2D at 0x2b364832d820>]"
      ]
     },
     "execution_count": 82,
     "metadata": {},
     "output_type": "execute_result"
    },
    {
     "data": {
      "image/png": "[encoded data removed]",
      "text/plain": [
       "<Figure size 432x288 with 1 Axes>"
      ]
     },
     "metadata": {
      "needs_background": "light"
     },
     "output_type": "display_data"
    }
   ],
   "source": [
    "plt.plot(interpolated['tail_base'])"
   ]
  },
  {
   "cell_type": "code",
   "execution_count": 98,
   "metadata": {
    "collapsed": false
   },
   "outputs": [
    {
     "data": {
      "text/plain": [
       "(0, 60)"
      ]
     },
     "execution_count": 98,
     "metadata": {},
     "output_type": "execute_result"
    },
    {
     "data": {
      "image/png": "[encoded data removed]",
      "text/plain": [
       "<Figure size 432x288 with 2 Axes>"
      ]
     },
     "metadata": {
      "needs_background": "light"
     },
     "output_type": "display_data"
    }
   ],
   "source": [
    "frames_within_movie = np.linspace(0, 1000, 1000)\n",
    "fig, (ax1, ax2) = plt.subplots(1,2)\n",
    "ax1.plot(frames_within_movie, session_compiled.loc['behavCam01DLC_resnet50_Open_Field_v2Jan27shuffle1_150000.h5']['tail_base'])\n",
    "ax1.set_ylim(0, 60)\n",
    "ax2.plot(frames_within_movie, session_compiled.loc['behavCam02DLC_resnet50_Open_Field_v2Jan27shuffle1_150000.h5']['tail_base'])\n",
    "ax2.set_ylim(0, 60)"
   ]
  },
  {
   "cell_type": "code",
   "execution_count": 91,
   "metadata": {
    "collapsed": true
   },
   "outputs": [],
   "source": [
    "video = av.open('/projects/b1118/behaviorvideos/GRIN013_H13_M33_S54/behavCam02DLC_resnet50_Open_Field_v2Jan27shuffle1_150000_labeled.mp4')"
   ]
  },
  {
   "cell_type": "code",
   "execution_count": 85,
   "metadata": {
    "collapsed": true
   },
   "outputs": [],
   "source": [
    "total_frames = video.streams.video[0].frames"
   ]
  },
  {
   "cell_type": "code",
   "execution_count": 86,
   "metadata": {
    "collapsed": false
   },
   "outputs": [
    {
     "data": {
      "text/plain": [
       "1000"
      ]
     },
     "execution_count": 86,
     "metadata": {},
     "output_type": "execute_result"
    }
   ],
   "source": [
    "total_frames"
   ]
  },
  {
   "cell_type": "code",
   "execution_count": 92,
   "metadata": {
    "collapsed": false
   },
   "outputs": [
    {
     "name": "stdout",
     "output_type": "stream",
     "text": [
      "Frame: 0/1000 ...\n",
      "Frame: 1/1000 ...\n",
      "Frame: 2/1000 ...\n",
      "Frame: 3/1000 ...\n",
      "Frame: 4/1000 ...\n",
      "Frame: 5/1000 ...\n",
      "Frame: 6/1000 ...\n",
      "Frame: 7/1000 ...\n",
      "Frame: 8/1000 ...\n",
      "Frame: 9/1000 ...\n",
      "Frame: 10/1000 ...\n",
      "Frame: 11/1000 ...\n",
      "Frame: 12/1000 ...\n",
      "Frame: 13/1000 ...\n",
      "Frame: 14/1000 ...\n",
      "Frame: 15/1000 ...\n",
      "Frame: 16/1000 ...\n",
      "Frame: 17/1000 ...\n",
      "Frame: 18/1000 ...\n",
      "Frame: 19/1000 ...\n",
      "Frame: 20/1000 ...\n",
      "Frame: 21/1000 ...\n",
      "Frame: 22/1000 ...\n",
      "Frame: 23/1000 ...\n",
      "Frame: 24/1000 ...\n",
      "Frame: 25/1000 ...\n",
      "Frame: 26/1000 ...\n",
      "Frame: 27/1000 ...\n",
      "Frame: 28/1000 ...\n",
      "Frame: 29/1000 ...\n",
      "Frame: 30/1000 ...\n",
      "Frame: 31/1000 ...\n",
      "Frame: 32/1000 ...\n",
      "Frame: 33/1000 ...\n",
      "Frame: 34/1000 ...\n",
      "Frame: 35/1000 ...\n",
      "Frame: 36/1000 ...\n",
      "Frame: 37/1000 ...\n",
      "Frame: 38/1000 ...\n",
      "Frame: 39/1000 ...\n",
      "Frame: 40/1000 ...\n",
      "Frame: 41/1000 ...\n",
      "Frame: 42/1000 ...\n",
      "Frame: 43/1000 ...\n",
      "Frame: 44/1000 ...\n",
      "Frame: 45/1000 ...\n",
      "Frame: 46/1000 ...\n",
      "Frame: 47/1000 ...\n",
      "Frame: 48/1000 ...\n",
      "Frame: 49/1000 ...\n",
      "Frame: 50/1000 ...\n",
      "Frame: 51/1000 ...\n",
      "Frame: 52/1000 ...\n",
      "Frame: 53/1000 ...\n",
      "Frame: 54/1000 ...\n",
      "Frame: 55/1000 ...\n",
      "Frame: 56/1000 ...\n",
      "Frame: 57/1000 ...\n",
      "Frame: 58/1000 ...\n",
      "Frame: 59/1000 ...\n",
      "Frame: 60/1000 ...\n",
      "Frame: 61/1000 ...\n",
      "Frame: 62/1000 ...\n",
      "Frame: 63/1000 ...\n",
      "Frame: 64/1000 ...\n",
      "Frame: 65/1000 ...\n",
      "Frame: 66/1000 ...\n",
      "Frame: 67/1000 ...\n",
      "Frame: 68/1000 ...\n",
      "Frame: 69/1000 ...\n",
      "Frame: 70/1000 ...\n",
      "Frame: 71/1000 ...\n",
      "Frame: 72/1000 ...\n",
      "Frame: 73/1000 ...\n",
      "Frame: 74/1000 ...\n",
      "Frame: 75/1000 ...\n",
      "Frame: 76/1000 ...\n",
      "Frame: 77/1000 ...\n",
      "Frame: 78/1000 ...\n",
      "Frame: 79/1000 ...\n",
      "Frame: 80/1000 ...\n",
      "Frame: 81/1000 ...\n",
      "Frame: 82/1000 ...\n",
      "Frame: 83/1000 ...\n",
      "Frame: 84/1000 ...\n",
      "Frame: 85/1000 ...\n",
      "Frame: 86/1000 ...\n",
      "Frame: 87/1000 ...\n",
      "Frame: 88/1000 ...\n",
      "Frame: 89/1000 ...\n",
      "Frame: 90/1000 ...\n",
      "Frame: 91/1000 ...\n",
      "Frame: 92/1000 ...\n",
      "Frame: 93/1000 ...\n",
      "Frame: 94/1000 ...\n",
      "Frame: 95/1000 ...\n",
      "Frame: 96/1000 ...\n",
      "Frame: 97/1000 ...\n",
      "Frame: 98/1000 ...\n",
      "Frame: 99/1000 ...\n",
      "Frame: 100/1000 ...\n",
      "Frame: 101/1000 ...\n",
      "Frame: 102/1000 ...\n",
      "Frame: 103/1000 ...\n",
      "Frame: 104/1000 ...\n",
      "Frame: 105/1000 ...\n",
      "Frame: 106/1000 ...\n",
      "Frame: 107/1000 ...\n",
      "Frame: 108/1000 ...\n",
      "Frame: 109/1000 ...\n",
      "Frame: 110/1000 ...\n",
      "Frame: 111/1000 ...\n",
      "Frame: 112/1000 ...\n",
      "Frame: 113/1000 ...\n",
      "Frame: 114/1000 ...\n",
      "Frame: 115/1000 ...\n",
      "Frame: 116/1000 ...\n",
      "Frame: 117/1000 ...\n",
      "Frame: 118/1000 ...\n",
      "Frame: 119/1000 ...\n",
      "Frame: 120/1000 ...\n",
      "Frame: 121/1000 ...\n",
      "Frame: 122/1000 ...\n",
      "Frame: 123/1000 ...\n",
      "Frame: 124/1000 ...\n",
      "Frame: 125/1000 ...\n",
      "Frame: 126/1000 ...\n",
      "Frame: 127/1000 ...\n",
      "Frame: 128/1000 ...\n",
      "Frame: 129/1000 ...\n",
      "Frame: 130/1000 ...\n",
      "Frame: 131/1000 ...\n",
      "Frame: 132/1000 ...\n",
      "Frame: 133/1000 ...\n",
      "Frame: 134/1000 ...\n",
      "Frame: 135/1000 ...\n",
      "Frame: 136/1000 ...\n",
      "Frame: 137/1000 ...\n",
      "Frame: 138/1000 ...\n",
      "Frame: 139/1000 ...\n",
      "Frame: 140/1000 ...\n",
      "Frame: 141/1000 ...\n",
      "Frame: 142/1000 ...\n",
      "Frame: 143/1000 ...\n",
      "Frame: 144/1000 ...\n",
      "Frame: 145/1000 ...\n",
      "Frame: 146/1000 ...\n",
      "Frame: 147/1000 ...\n",
      "Frame: 148/1000 ...\n",
      "Frame: 149/1000 ...\n",
      "Frame: 150/1000 ...\n",
      "Frame: 151/1000 ...\n",
      "Frame: 152/1000 ...\n",
      "Frame: 153/1000 ...\n",
      "Frame: 154/1000 ...\n",
      "Frame: 155/1000 ...\n",
      "Frame: 156/1000 ...\n",
      "Frame: 157/1000 ...\n",
      "Frame: 158/1000 ...\n",
      "Frame: 159/1000 ...\n",
      "Frame: 160/1000 ...\n",
      "Frame: 161/1000 ...\n",
      "Frame: 162/1000 ...\n",
      "Frame: 163/1000 ...\n",
      "Frame: 164/1000 ...\n",
      "Frame: 165/1000 ...\n",
      "Frame: 166/1000 ...\n",
      "Frame: 167/1000 ...\n",
      "Frame: 168/1000 ...\n",
      "Frame: 169/1000 ...\n",
      "Frame: 170/1000 ...\n",
      "Frame: 171/1000 ...\n",
      "Frame: 172/1000 ...\n",
      "Frame: 173/1000 ...\n",
      "Frame: 174/1000 ...\n",
      "Frame: 175/1000 ...\n",
      "Frame: 176/1000 ...\n",
      "Frame: 177/1000 ...\n",
      "Frame: 178/1000 ...\n",
      "Frame: 179/1000 ...\n",
      "Frame: 180/1000 ...\n",
      "Frame: 181/1000 ...\n",
      "Frame: 182/1000 ...\n",
      "Frame: 183/1000 ...\n",
      "Frame: 184/1000 ...\n",
      "Frame: 185/1000 ...\n",
      "Frame: 186/1000 ...\n",
      "Frame: 187/1000 ...\n",
      "Frame: 188/1000 ...\n",
      "Frame: 189/1000 ...\n",
      "Frame: 190/1000 ...\n",
      "Frame: 191/1000 ...\n",
      "Frame: 192/1000 ...\n",
      "Frame: 193/1000 ...\n",
      "Frame: 194/1000 ...\n",
      "Frame: 195/1000 ...\n",
      "Frame: 196/1000 ...\n",
      "Frame: 197/1000 ...\n",
      "Frame: 198/1000 ...\n",
      "Frame: 199/1000 ...\n",
      "Frame: 200/1000 ...\n",
      "Frame: 201/1000 ...\n",
      "Frame: 202/1000 ...\n",
      "Frame: 203/1000 ...\n",
      "Frame: 204/1000 ...\n",
      "Frame: 205/1000 ...\n",
      "Frame: 206/1000 ...\n",
      "Frame: 207/1000 ...\n",
      "Frame: 208/1000 ...\n",
      "Frame: 209/1000 ...\n",
      "Frame: 210/1000 ...\n",
      "Frame: 211/1000 ...\n",
      "Frame: 212/1000 ...\n",
      "Frame: 213/1000 ...\n",
      "Frame: 214/1000 ...\n",
      "Frame: 215/1000 ...\n",
      "Frame: 216/1000 ...\n",
      "Frame: 217/1000 ...\n",
      "Frame: 218/1000 ...\n",
      "Frame: 219/1000 ...\n",
      "Frame: 220/1000 ...\n",
      "Frame: 221/1000 ...\n",
      "Frame: 222/1000 ...\n",
      "Frame: 223/1000 ...\n",
      "Frame: 224/1000 ...\n",
      "Frame: 225/1000 ...\n",
      "Frame: 226/1000 ...\n",
      "Frame: 227/1000 ...\n",
      "Frame: 228/1000 ...\n",
      "Frame: 229/1000 ...\n",
      "Frame: 230/1000 ...\n",
      "Frame: 231/1000 ...\n",
      "Frame: 232/1000 ...\n",
      "Frame: 233/1000 ...\n",
      "Frame: 234/1000 ...\n",
      "Frame: 235/1000 ...\n",
      "Frame: 236/1000 ...\n",
      "Frame: 237/1000 ...\n",
      "Frame: 238/1000 ...\n",
      "Frame: 239/1000 ...\n",
      "Frame: 240/1000 ...\n",
      "Frame: 241/1000 ...\n",
      "Frame: 242/1000 ...\n",
      "Frame: 243/1000 ...\n",
      "Frame: 244/1000 ...\n",
      "Frame: 245/1000 ...\n",
      "Frame: 246/1000 ...\n",
      "Frame: 247/1000 ...\n",
      "Frame: 248/1000 ...\n",
      "Frame: 249/1000 ...\n",
      "Frame: 250/1000 ...\n",
      "Frame: 251/1000 ...\n",
      "Frame: 252/1000 ...\n",
      "Frame: 253/1000 ...\n",
      "Frame: 254/1000 ...\n",
      "Frame: 255/1000 ...\n",
      "Frame: 256/1000 ...\n",
      "Frame: 257/1000 ...\n",
      "Frame: 258/1000 ...\n",
      "Frame: 259/1000 ...\n",
      "Frame: 260/1000 ...\n",
      "Frame: 261/1000 ...\n",
      "Frame: 262/1000 ...\n",
      "Frame: 263/1000 ...\n",
      "Frame: 264/1000 ...\n",
      "Frame: 265/1000 ...\n",
      "Frame: 266/1000 ...\n",
      "Frame: 267/1000 ...\n",
      "Frame: 268/1000 ...\n",
      "Frame: 269/1000 ...\n",
      "Frame: 270/1000 ...\n",
      "Frame: 271/1000 ...\n",
      "Frame: 272/1000 ...\n",
      "Frame: 273/1000 ...\n",
      "Frame: 274/1000 ...\n",
      "Frame: 275/1000 ...\n",
      "Frame: 276/1000 ...\n",
      "Frame: 277/1000 ...\n",
      "Frame: 278/1000 ...\n",
      "Frame: 279/1000 ...\n",
      "Frame: 280/1000 ...\n",
      "Frame: 281/1000 ...\n",
      "Frame: 282/1000 ...\n",
      "Frame: 283/1000 ...\n",
      "Frame: 284/1000 ...\n",
      "Frame: 285/1000 ...\n",
      "Frame: 286/1000 ...\n",
      "Frame: 287/1000 ...\n",
      "Frame: 288/1000 ...\n",
      "Frame: 289/1000 ...\n",
      "Frame: 290/1000 ...\n",
      "Frame: 291/1000 ...\n",
      "Frame: 292/1000 ...\n",
      "Frame: 293/1000 ...\n",
      "Frame: 294/1000 ...\n",
      "Frame: 295/1000 ...\n",
      "Frame: 296/1000 ...\n",
      "Frame: 297/1000 ...\n",
      "Frame: 298/1000 ...\n",
      "Frame: 299/1000 ...\n",
      "Frame: 300/1000 ...\n",
      "Frame: 301/1000 ...\n",
      "Frame: 302/1000 ...\n",
      "Frame: 303/1000 ...\n",
      "Frame: 304/1000 ...\n",
      "Frame: 305/1000 ...\n",
      "Frame: 306/1000 ...\n",
      "Frame: 307/1000 ...\n",
      "Frame: 308/1000 ...\n",
      "Frame: 309/1000 ...\n",
      "Frame: 310/1000 ...\n",
      "Frame: 311/1000 ...\n",
      "Frame: 312/1000 ...\n",
      "Frame: 313/1000 ...\n",
      "Frame: 314/1000 ...\n",
      "Frame: 315/1000 ...\n",
      "Frame: 316/1000 ...\n",
      "Frame: 317/1000 ...\n",
      "Frame: 318/1000 ...\n",
      "Frame: 319/1000 ...\n",
      "Frame: 320/1000 ...\n",
      "Frame: 321/1000 ...\n",
      "Frame: 322/1000 ...\n",
      "Frame: 323/1000 ...\n",
      "Frame: 324/1000 ...\n",
      "Frame: 325/1000 ...\n",
      "Frame: 326/1000 ...\n",
      "Frame: 327/1000 ...\n",
      "Frame: 328/1000 ...\n",
      "Frame: 329/1000 ...\n",
      "Frame: 330/1000 ...\n",
      "Frame: 331/1000 ...\n",
      "Frame: 332/1000 ...\n",
      "Frame: 333/1000 ...\n",
      "Frame: 334/1000 ...\n",
      "Frame: 335/1000 ...\n",
      "Frame: 336/1000 ...\n",
      "Frame: 337/1000 ...\n",
      "Frame: 338/1000 ...\n",
      "Frame: 339/1000 ...\n",
      "Frame: 340/1000 ...\n",
      "Frame: 341/1000 ...\n",
      "Frame: 342/1000 ...\n",
      "Frame: 343/1000 ...\n",
      "Frame: 344/1000 ...\n",
      "Frame: 345/1000 ...\n",
      "Frame: 346/1000 ...\n",
      "Frame: 347/1000 ...\n",
      "Frame: 348/1000 ...\n",
      "Frame: 349/1000 ...\n",
      "Frame: 350/1000 ...\n",
      "Frame: 351/1000 ...\n",
      "Frame: 352/1000 ...\n",
      "Frame: 353/1000 ...\n",
      "Frame: 354/1000 ...\n",
      "Frame: 355/1000 ...\n",
      "Frame: 356/1000 ...\n",
      "Frame: 357/1000 ...\n",
      "Frame: 358/1000 ...\n",
      "Frame: 359/1000 ...\n",
      "Frame: 360/1000 ...\n",
      "Frame: 361/1000 ...\n",
      "Frame: 362/1000 ...\n",
      "Frame: 363/1000 ...\n",
      "Frame: 364/1000 ...\n",
      "Frame: 365/1000 ...\n",
      "Frame: 366/1000 ...\n",
      "Frame: 367/1000 ...\n",
      "Frame: 368/1000 ...\n",
      "Frame: 369/1000 ...\n",
      "Frame: 370/1000 ...\n",
      "Frame: 371/1000 ...\n",
      "Frame: 372/1000 ...\n",
      "Frame: 373/1000 ...\n",
      "Frame: 374/1000 ...\n",
      "Frame: 375/1000 ...\n",
      "Frame: 376/1000 ...\n",
      "Frame: 377/1000 ...\n",
      "Frame: 378/1000 ...\n",
      "Frame: 379/1000 ...\n",
      "Frame: 380/1000 ...\n",
      "Frame: 381/1000 ...\n",
      "Frame: 382/1000 ...\n",
      "Frame: 383/1000 ...\n",
      "Frame: 384/1000 ...\n",
      "Frame: 385/1000 ...\n",
      "Frame: 386/1000 ...\n",
      "Frame: 387/1000 ...\n",
      "Frame: 388/1000 ...\n",
      "Frame: 389/1000 ...\n",
      "Frame: 390/1000 ...\n",
      "Frame: 391/1000 ...\n",
      "Frame: 392/1000 ...\n",
      "Frame: 393/1000 ...\n",
      "Frame: 394/1000 ...\n",
      "Frame: 395/1000 ...\n",
      "Frame: 396/1000 ...\n",
      "Frame: 397/1000 ...\n",
      "Frame: 398/1000 ...\n",
      "Frame: 399/1000 ...\n",
      "Frame: 400/1000 ...\n",
      "Frame: 401/1000 ...\n",
      "Frame: 402/1000 ...\n",
      "Frame: 403/1000 ...\n",
      "Frame: 404/1000 ...\n",
      "Frame: 405/1000 ...\n",
      "Frame: 406/1000 ...\n",
      "Frame: 407/1000 ...\n",
      "Frame: 408/1000 ...\n",
      "Frame: 409/1000 ...\n",
      "Frame: 410/1000 ...\n",
      "Frame: 411/1000 ...\n",
      "Frame: 412/1000 ...\n",
      "Frame: 413/1000 ...\n",
      "Frame: 414/1000 ...\n",
      "Frame: 415/1000 ...\n",
      "Frame: 416/1000 ...\n",
      "Frame: 417/1000 ...\n",
      "Frame: 418/1000 ...\n",
      "Frame: 419/1000 ...\n",
      "Frame: 420/1000 ...\n",
      "Frame: 421/1000 ...\n",
      "Frame: 422/1000 ...\n",
      "Frame: 423/1000 ...\n",
      "Frame: 424/1000 ...\n",
      "Frame: 425/1000 ...\n",
      "Frame: 426/1000 ...\n",
      "Frame: 427/1000 ...\n",
      "Frame: 428/1000 ...\n",
      "Frame: 429/1000 ...\n",
      "Frame: 430/1000 ...\n",
      "Frame: 431/1000 ...\n",
      "Frame: 432/1000 ...\n",
      "Frame: 433/1000 ...\n",
      "Frame: 434/1000 ...\n",
      "Frame: 435/1000 ...\n",
      "Frame: 436/1000 ...\n",
      "Frame: 437/1000 ...\n",
      "Frame: 438/1000 ...\n",
      "Frame: 439/1000 ...\n",
      "Frame: 440/1000 ...\n",
      "Frame: 441/1000 ...\n",
      "Frame: 442/1000 ...\n",
      "Frame: 443/1000 ...\n",
      "Frame: 444/1000 ...\n",
      "Frame: 445/1000 ...\n",
      "Frame: 446/1000 ...\n",
      "Frame: 447/1000 ...\n",
      "Frame: 448/1000 ...\n",
      "Frame: 449/1000 ...\n",
      "Frame: 450/1000 ...\n",
      "Frame: 451/1000 ...\n",
      "Frame: 452/1000 ...\n",
      "Frame: 453/1000 ...\n",
      "Frame: 454/1000 ...\n",
      "Frame: 455/1000 ...\n",
      "Frame: 456/1000 ...\n",
      "Frame: 457/1000 ...\n",
      "Frame: 458/1000 ...\n",
      "Frame: 459/1000 ...\n",
      "Frame: 460/1000 ...\n",
      "Frame: 461/1000 ...\n",
      "Frame: 462/1000 ...\n",
      "Frame: 463/1000 ...\n",
      "Frame: 464/1000 ...\n",
      "Frame: 465/1000 ...\n",
      "Frame: 466/1000 ...\n",
      "Frame: 467/1000 ...\n",
      "Frame: 468/1000 ...\n",
      "Frame: 469/1000 ...\n",
      "Frame: 470/1000 ...\n",
      "Frame: 471/1000 ...\n",
      "Frame: 472/1000 ...\n",
      "Frame: 473/1000 ...\n",
      "Frame: 474/1000 ...\n",
      "Frame: 475/1000 ...\n",
      "Frame: 476/1000 ...\n",
      "Frame: 477/1000 ...\n",
      "Frame: 478/1000 ...\n",
      "Frame: 479/1000 ...\n",
      "Frame: 480/1000 ...\n",
      "Frame: 481/1000 ...\n",
      "Frame: 482/1000 ...\n",
      "Frame: 483/1000 ...\n",
      "Frame: 484/1000 ...\n",
      "Frame: 485/1000 ...\n",
      "Frame: 486/1000 ...\n",
      "Frame: 487/1000 ...\n",
      "Frame: 488/1000 ...\n",
      "Frame: 489/1000 ...\n",
      "Frame: 490/1000 ...\n",
      "Frame: 491/1000 ...\n",
      "Frame: 492/1000 ...\n",
      "Frame: 493/1000 ...\n",
      "Frame: 494/1000 ...\n",
      "Frame: 495/1000 ...\n",
      "Frame: 496/1000 ...\n",
      "Frame: 497/1000 ...\n",
      "Frame: 498/1000 ...\n",
      "Frame: 499/1000 ...\n",
      "Frame: 500/1000 ...\n",
      "Frame: 501/1000 ...\n",
      "Frame: 502/1000 ...\n",
      "Frame: 503/1000 ...\n",
      "Frame: 504/1000 ...\n",
      "Frame: 505/1000 ...\n",
      "Frame: 506/1000 ...\n",
      "Frame: 507/1000 ...\n",
      "Frame: 508/1000 ...\n",
      "Frame: 509/1000 ...\n",
      "Frame: 510/1000 ...\n",
      "Frame: 511/1000 ...\n",
      "Frame: 512/1000 ...\n",
      "Frame: 513/1000 ...\n",
      "Frame: 514/1000 ...\n",
      "Frame: 515/1000 ...\n",
      "Frame: 516/1000 ...\n",
      "Frame: 517/1000 ...\n",
      "Frame: 518/1000 ...\n",
      "Frame: 519/1000 ...\n",
      "Frame: 520/1000 ...\n",
      "Frame: 521/1000 ...\n",
      "Frame: 522/1000 ...\n",
      "Frame: 523/1000 ...\n",
      "Frame: 524/1000 ...\n",
      "Frame: 525/1000 ...\n",
      "Frame: 526/1000 ...\n",
      "Frame: 527/1000 ...\n",
      "Frame: 528/1000 ...\n",
      "Frame: 529/1000 ...\n",
      "Frame: 530/1000 ...\n",
      "Frame: 531/1000 ...\n",
      "Frame: 532/1000 ...\n",
      "Frame: 533/1000 ...\n",
      "Frame: 534/1000 ...\n",
      "Frame: 535/1000 ...\n",
      "Frame: 536/1000 ...\n",
      "Frame: 537/1000 ...\n",
      "Frame: 538/1000 ...\n",
      "Frame: 539/1000 ...\n",
      "Frame: 540/1000 ...\n",
      "Frame: 541/1000 ...\n",
      "Frame: 542/1000 ...\n",
      "Frame: 543/1000 ...\n",
      "Frame: 544/1000 ...\n",
      "Frame: 545/1000 ...\n",
      "Frame: 546/1000 ...\n",
      "Frame: 547/1000 ...\n",
      "Frame: 548/1000 ...\n",
      "Frame: 549/1000 ...\n",
      "Frame: 550/1000 ...\n",
      "Frame: 551/1000 ...\n",
      "Frame: 552/1000 ...\n",
      "Frame: 553/1000 ...\n",
      "Frame: 554/1000 ...\n",
      "Frame: 555/1000 ...\n",
      "Frame: 556/1000 ...\n",
      "Frame: 557/1000 ...\n",
      "Frame: 558/1000 ...\n",
      "Frame: 559/1000 ...\n",
      "Frame: 560/1000 ...\n",
      "Frame: 561/1000 ...\n",
      "Frame: 562/1000 ...\n",
      "Frame: 563/1000 ...\n",
      "Frame: 564/1000 ...\n",
      "Frame: 565/1000 ...\n",
      "Frame: 566/1000 ...\n",
      "Frame: 567/1000 ...\n",
      "Frame: 568/1000 ...\n",
      "Frame: 569/1000 ...\n",
      "Frame: 570/1000 ...\n",
      "Frame: 571/1000 ...\n",
      "Frame: 572/1000 ...\n",
      "Frame: 573/1000 ...\n",
      "Frame: 574/1000 ...\n",
      "Frame: 575/1000 ...\n",
      "Frame: 576/1000 ...\n",
      "Frame: 577/1000 ...\n",
      "Frame: 578/1000 ...\n",
      "Frame: 579/1000 ...\n",
      "Frame: 580/1000 ...\n",
      "Frame: 581/1000 ...\n",
      "Frame: 582/1000 ...\n",
      "Frame: 583/1000 ...\n",
      "Frame: 584/1000 ...\n",
      "Frame: 585/1000 ...\n",
      "Frame: 586/1000 ...\n",
      "Frame: 587/1000 ...\n",
      "Frame: 588/1000 ...\n",
      "Frame: 589/1000 ...\n",
      "Frame: 590/1000 ...\n",
      "Frame: 591/1000 ...\n",
      "Frame: 592/1000 ...\n",
      "Frame: 593/1000 ...\n",
      "Frame: 594/1000 ...\n",
      "Frame: 595/1000 ...\n",
      "Frame: 596/1000 ...\n",
      "Frame: 597/1000 ...\n",
      "Frame: 598/1000 ...\n",
      "Frame: 599/1000 ...\n",
      "Frame: 600/1000 ...\n",
      "Frame: 601/1000 ...\n",
      "Frame: 602/1000 ...\n",
      "Frame: 603/1000 ...\n",
      "Frame: 604/1000 ...\n",
      "Frame: 605/1000 ...\n",
      "Frame: 606/1000 ...\n",
      "Frame: 607/1000 ...\n",
      "Frame: 608/1000 ...\n",
      "Frame: 609/1000 ...\n",
      "Frame: 610/1000 ...\n",
      "Frame: 611/1000 ...\n",
      "Frame: 612/1000 ...\n",
      "Frame: 613/1000 ...\n",
      "Frame: 614/1000 ...\n",
      "Frame: 615/1000 ...\n",
      "Frame: 616/1000 ...\n",
      "Frame: 617/1000 ...\n",
      "Frame: 618/1000 ...\n",
      "Frame: 619/1000 ...\n",
      "Frame: 620/1000 ...\n",
      "Frame: 621/1000 ...\n",
      "Frame: 622/1000 ...\n",
      "Frame: 623/1000 ...\n",
      "Frame: 624/1000 ...\n",
      "Frame: 625/1000 ...\n",
      "Frame: 626/1000 ...\n",
      "Frame: 627/1000 ...\n",
      "Frame: 628/1000 ...\n",
      "Frame: 629/1000 ...\n",
      "Frame: 630/1000 ...\n",
      "Frame: 631/1000 ...\n",
      "Frame: 632/1000 ...\n",
      "Frame: 633/1000 ...\n",
      "Frame: 634/1000 ...\n",
      "Frame: 635/1000 ...\n",
      "Frame: 636/1000 ...\n",
      "Frame: 637/1000 ...\n",
      "Frame: 638/1000 ...\n",
      "Frame: 639/1000 ...\n",
      "Frame: 640/1000 ...\n",
      "Frame: 641/1000 ...\n",
      "Frame: 642/1000 ...\n",
      "Frame: 643/1000 ...\n",
      "Frame: 644/1000 ...\n",
      "Frame: 645/1000 ...\n",
      "Frame: 646/1000 ...\n",
      "Frame: 647/1000 ...\n",
      "Frame: 648/1000 ...\n",
      "Frame: 649/1000 ...\n",
      "Frame: 650/1000 ...\n",
      "Frame: 651/1000 ...\n",
      "Frame: 652/1000 ...\n",
      "Frame: 653/1000 ...\n",
      "Frame: 654/1000 ...\n",
      "Frame: 655/1000 ...\n",
      "Frame: 656/1000 ...\n",
      "Frame: 657/1000 ...\n",
      "Frame: 658/1000 ...\n",
      "Frame: 659/1000 ...\n",
      "Frame: 660/1000 ...\n",
      "Frame: 661/1000 ...\n",
      "Frame: 662/1000 ...\n",
      "Frame: 663/1000 ...\n",
      "Frame: 664/1000 ...\n",
      "Frame: 665/1000 ...\n",
      "Frame: 666/1000 ...\n",
      "Frame: 667/1000 ...\n",
      "Frame: 668/1000 ...\n",
      "Frame: 669/1000 ...\n",
      "Frame: 670/1000 ...\n",
      "Frame: 671/1000 ...\n",
      "Frame: 672/1000 ...\n",
      "Frame: 673/1000 ...\n",
      "Frame: 674/1000 ...\n",
      "Frame: 675/1000 ...\n",
      "Frame: 676/1000 ...\n",
      "Frame: 677/1000 ...\n",
      "Frame: 678/1000 ...\n",
      "Frame: 679/1000 ...\n",
      "Frame: 680/1000 ...\n",
      "Frame: 681/1000 ...\n",
      "Frame: 682/1000 ...\n",
      "Frame: 683/1000 ...\n",
      "Frame: 684/1000 ...\n",
      "Frame: 685/1000 ...\n",
      "Frame: 686/1000 ...\n",
      "Frame: 687/1000 ...\n",
      "Frame: 688/1000 ...\n",
      "Frame: 689/1000 ...\n",
      "Frame: 690/1000 ...\n",
      "Frame: 691/1000 ...\n",
      "Frame: 692/1000 ...\n",
      "Frame: 693/1000 ...\n",
      "Frame: 694/1000 ...\n",
      "Frame: 695/1000 ...\n",
      "Frame: 696/1000 ...\n",
      "Frame: 697/1000 ...\n",
      "Frame: 698/1000 ...\n",
      "Frame: 699/1000 ...\n",
      "Frame: 700/1000 ...\n",
      "Frame: 701/1000 ...\n",
      "Frame: 702/1000 ...\n",
      "Frame: 703/1000 ...\n",
      "Frame: 704/1000 ...\n",
      "Frame: 705/1000 ...\n",
      "Frame: 706/1000 ...\n",
      "Frame: 707/1000 ...\n",
      "Frame: 708/1000 ...\n",
      "Frame: 709/1000 ...\n",
      "Frame: 710/1000 ...\n",
      "Frame: 711/1000 ...\n",
      "Frame: 712/1000 ...\n",
      "Frame: 713/1000 ...\n",
      "Frame: 714/1000 ...\n",
      "Frame: 715/1000 ...\n",
      "Frame: 716/1000 ...\n",
      "Frame: 717/1000 ...\n",
      "Frame: 718/1000 ...\n",
      "Frame: 719/1000 ...\n",
      "Frame: 720/1000 ...\n",
      "Frame: 721/1000 ...\n",
      "Frame: 722/1000 ...\n",
      "Frame: 723/1000 ...\n",
      "Frame: 724/1000 ...\n",
      "Frame: 725/1000 ...\n",
      "Frame: 726/1000 ...\n",
      "Frame: 727/1000 ...\n",
      "Frame: 728/1000 ...\n",
      "Frame: 729/1000 ...\n",
      "Frame: 730/1000 ...\n",
      "Frame: 731/1000 ...\n",
      "Frame: 732/1000 ...\n",
      "Frame: 733/1000 ...\n",
      "Frame: 734/1000 ...\n",
      "Frame: 735/1000 ...\n",
      "Frame: 736/1000 ...\n",
      "Frame: 737/1000 ...\n",
      "Frame: 738/1000 ...\n",
      "Frame: 739/1000 ...\n",
      "Frame: 740/1000 ...\n",
      "Frame: 741/1000 ...\n",
      "Frame: 742/1000 ...\n",
      "Frame: 743/1000 ...\n",
      "Frame: 744/1000 ...\n",
      "Frame: 745/1000 ...\n",
      "Frame: 746/1000 ...\n",
      "Frame: 747/1000 ...\n",
      "Frame: 748/1000 ...\n",
      "Frame: 749/1000 ...\n",
      "Frame: 750/1000 ...\n",
      "Frame: 751/1000 ...\n",
      "Frame: 752/1000 ...\n",
      "Frame: 753/1000 ...\n",
      "Frame: 754/1000 ...\n",
      "Frame: 755/1000 ...\n",
      "Frame: 756/1000 ...\n",
      "Frame: 757/1000 ...\n",
      "Frame: 758/1000 ...\n",
      "Frame: 759/1000 ...\n",
      "Frame: 760/1000 ...\n",
      "Frame: 761/1000 ...\n",
      "Frame: 762/1000 ...\n",
      "Frame: 763/1000 ...\n",
      "Frame: 764/1000 ...\n",
      "Frame: 765/1000 ...\n",
      "Frame: 766/1000 ...\n",
      "Frame: 767/1000 ...\n",
      "Frame: 768/1000 ...\n",
      "Frame: 769/1000 ...\n",
      "Frame: 770/1000 ...\n",
      "Frame: 771/1000 ...\n",
      "Frame: 772/1000 ...\n",
      "Frame: 773/1000 ...\n",
      "Frame: 774/1000 ...\n",
      "Frame: 775/1000 ...\n",
      "Frame: 776/1000 ...\n",
      "Frame: 777/1000 ...\n",
      "Frame: 778/1000 ...\n",
      "Frame: 779/1000 ...\n",
      "Frame: 780/1000 ...\n",
      "Frame: 781/1000 ...\n",
      "Frame: 782/1000 ...\n",
      "Frame: 783/1000 ...\n",
      "Frame: 784/1000 ...\n",
      "Frame: 785/1000 ...\n",
      "Frame: 786/1000 ...\n",
      "Frame: 787/1000 ...\n",
      "Frame: 788/1000 ...\n",
      "Frame: 789/1000 ...\n",
      "Frame: 790/1000 ...\n",
      "Frame: 791/1000 ...\n",
      "Frame: 792/1000 ...\n",
      "Frame: 793/1000 ...\n",
      "Frame: 794/1000 ...\n",
      "Frame: 795/1000 ...\n",
      "Frame: 796/1000 ...\n",
      "Frame: 797/1000 ...\n",
      "Frame: 798/1000 ...\n",
      "Frame: 799/1000 ...\n",
      "Frame: 800/1000 ...\n",
      "Frame: 801/1000 ...\n",
      "Frame: 802/1000 ...\n",
      "Frame: 803/1000 ...\n",
      "Frame: 804/1000 ...\n",
      "Frame: 805/1000 ...\n",
      "Frame: 806/1000 ...\n",
      "Frame: 807/1000 ...\n",
      "Frame: 808/1000 ...\n",
      "Frame: 809/1000 ...\n",
      "Frame: 810/1000 ...\n",
      "Frame: 811/1000 ...\n",
      "Frame: 812/1000 ...\n",
      "Frame: 813/1000 ...\n",
      "Frame: 814/1000 ...\n",
      "Frame: 815/1000 ...\n",
      "Frame: 816/1000 ...\n",
      "Frame: 817/1000 ...\n",
      "Frame: 818/1000 ...\n",
      "Frame: 819/1000 ...\n",
      "Frame: 820/1000 ...\n",
      "Frame: 821/1000 ...\n",
      "Frame: 822/1000 ...\n",
      "Frame: 823/1000 ...\n",
      "Frame: 824/1000 ...\n",
      "Frame: 825/1000 ...\n",
      "Frame: 826/1000 ...\n",
      "Frame: 827/1000 ...\n",
      "Frame: 828/1000 ...\n",
      "Frame: 829/1000 ...\n",
      "Frame: 830/1000 ...\n",
      "Frame: 831/1000 ...\n",
      "Frame: 832/1000 ...\n",
      "Frame: 833/1000 ...\n",
      "Frame: 834/1000 ...\n",
      "Frame: 835/1000 ...\n",
      "Frame: 836/1000 ...\n",
      "Frame: 837/1000 ...\n",
      "Frame: 838/1000 ...\n",
      "Frame: 839/1000 ...\n",
      "Frame: 840/1000 ...\n",
      "Frame: 841/1000 ...\n",
      "Frame: 842/1000 ...\n",
      "Frame: 843/1000 ...\n",
      "Frame: 844/1000 ...\n",
      "Frame: 845/1000 ...\n",
      "Frame: 846/1000 ...\n",
      "Frame: 847/1000 ...\n",
      "Frame: 848/1000 ...\n",
      "Frame: 849/1000 ...\n",
      "Frame: 850/1000 ...\n",
      "Frame: 851/1000 ...\n",
      "Frame: 852/1000 ...\n",
      "Frame: 853/1000 ...\n",
      "Frame: 854/1000 ...\n",
      "Frame: 855/1000 ...\n",
      "Frame: 856/1000 ...\n",
      "Frame: 857/1000 ...\n",
      "Frame: 858/1000 ...\n",
      "Frame: 859/1000 ...\n",
      "Frame: 860/1000 ...\n",
      "Frame: 861/1000 ...\n",
      "Frame: 862/1000 ...\n",
      "Frame: 863/1000 ...\n",
      "Frame: 864/1000 ...\n",
      "Frame: 865/1000 ...\n",
      "Frame: 866/1000 ...\n",
      "Frame: 867/1000 ...\n",
      "Frame: 868/1000 ...\n",
      "Frame: 869/1000 ...\n",
      "Frame: 870/1000 ...\n",
      "Frame: 871/1000 ...\n",
      "Frame: 872/1000 ...\n",
      "Frame: 873/1000 ...\n",
      "Frame: 874/1000 ...\n",
      "Frame: 875/1000 ...\n",
      "Frame: 876/1000 ...\n",
      "Frame: 877/1000 ...\n",
      "Frame: 878/1000 ...\n",
      "Frame: 879/1000 ...\n",
      "Frame: 880/1000 ...\n",
      "Frame: 881/1000 ...\n",
      "Frame: 882/1000 ...\n",
      "Frame: 883/1000 ...\n",
      "Frame: 884/1000 ...\n",
      "Frame: 885/1000 ...\n",
      "Frame: 886/1000 ...\n",
      "Frame: 887/1000 ...\n",
      "Frame: 888/1000 ...\n",
      "Frame: 889/1000 ...\n",
      "Frame: 890/1000 ...\n",
      "Frame: 891/1000 ...\n",
      "Frame: 892/1000 ...\n",
      "Frame: 893/1000 ...\n",
      "Frame: 894/1000 ...\n",
      "Frame: 895/1000 ...\n",
      "Frame: 896/1000 ...\n",
      "Frame: 897/1000 ...\n",
      "Frame: 898/1000 ...\n",
      "Frame: 899/1000 ...\n",
      "Frame: 900/1000 ...\n",
      "Frame: 901/1000 ...\n",
      "Frame: 902/1000 ...\n",
      "Frame: 903/1000 ...\n",
      "Frame: 904/1000 ...\n",
      "Frame: 905/1000 ...\n",
      "Frame: 906/1000 ...\n",
      "Frame: 907/1000 ...\n",
      "Frame: 908/1000 ...\n",
      "Frame: 909/1000 ...\n",
      "Frame: 910/1000 ...\n",
      "Frame: 911/1000 ...\n",
      "Frame: 912/1000 ...\n",
      "Frame: 913/1000 ...\n",
      "Frame: 914/1000 ...\n",
      "Frame: 915/1000 ...\n",
      "Frame: 916/1000 ...\n",
      "Frame: 917/1000 ...\n",
      "Frame: 918/1000 ...\n",
      "Frame: 919/1000 ...\n",
      "Frame: 920/1000 ...\n",
      "Frame: 921/1000 ...\n",
      "Frame: 922/1000 ...\n",
      "Frame: 923/1000 ...\n",
      "Frame: 924/1000 ...\n",
      "Frame: 925/1000 ...\n",
      "Frame: 926/1000 ...\n",
      "Frame: 927/1000 ...\n",
      "Frame: 928/1000 ...\n",
      "Frame: 929/1000 ...\n",
      "Frame: 930/1000 ...\n",
      "Frame: 931/1000 ...\n",
      "Frame: 932/1000 ...\n",
      "Frame: 933/1000 ...\n",
      "Frame: 934/1000 ...\n",
      "Frame: 935/1000 ...\n",
      "Frame: 936/1000 ...\n",
      "Frame: 937/1000 ...\n",
      "Frame: 938/1000 ...\n",
      "Frame: 939/1000 ...\n",
      "Frame: 940/1000 ...\n",
      "Frame: 941/1000 ...\n",
      "Frame: 942/1000 ...\n",
      "Frame: 943/1000 ...\n",
      "Frame: 944/1000 ...\n",
      "Frame: 945/1000 ...\n",
      "Frame: 946/1000 ...\n",
      "Frame: 947/1000 ...\n",
      "Frame: 948/1000 ...\n",
      "Frame: 949/1000 ...\n",
      "Frame: 950/1000 ...\n",
      "Frame: 951/1000 ...\n",
      "Frame: 952/1000 ...\n",
      "Frame: 953/1000 ...\n",
      "Frame: 954/1000 ...\n",
      "Frame: 955/1000 ...\n",
      "Frame: 956/1000 ...\n",
      "Frame: 957/1000 ...\n",
      "Frame: 958/1000 ...\n",
      "Frame: 959/1000 ...\n",
      "Frame: 960/1000 ...\n",
      "Frame: 961/1000 ...\n",
      "Frame: 962/1000 ...\n",
      "Frame: 963/1000 ...\n",
      "Frame: 964/1000 ...\n",
      "Frame: 965/1000 ...\n",
      "Frame: 966/1000 ...\n",
      "Frame: 967/1000 ...\n",
      "Frame: 968/1000 ...\n",
      "Frame: 969/1000 ...\n",
      "Frame: 970/1000 ...\n",
      "Frame: 971/1000 ...\n",
      "Frame: 972/1000 ...\n",
      "Frame: 973/1000 ...\n",
      "Frame: 974/1000 ...\n",
      "Frame: 975/1000 ...\n",
      "Frame: 976/1000 ...\n",
      "Frame: 977/1000 ...\n",
      "Frame: 978/1000 ...\n",
      "Frame: 979/1000 ...\n",
      "Frame: 980/1000 ...\n",
      "Frame: 981/1000 ...\n",
      "Frame: 982/1000 ...\n",
      "Frame: 983/1000 ...\n",
      "Frame: 984/1000 ...\n",
      "Frame: 985/1000 ...\n",
      "Frame: 986/1000 ...\n",
      "Frame: 987/1000 ...\n",
      "Frame: 988/1000 ...\n",
      "Frame: 989/1000 ...\n",
      "Frame: 990/1000 ...\n",
      "Frame: 991/1000 ...\n",
      "Frame: 992/1000 ...\n",
      "Frame: 993/1000 ...\n",
      "Frame: 994/1000 ...\n",
      "Frame: 995/1000 ...\n",
      "Frame: 996/1000 ...\n",
      "Frame: 997/1000 ...\n",
      "Frame: 998/1000 ...\n",
      "Frame: 999/1000 ...\n"
     ]
    }
   ],
   "source": [
    "movie_images = {}\n",
    "for i, frame in enumerate(video.decode(video=0)):\n",
    "    img = frame.to_image()  # PIL image\n",
    "    movie_images[i] = img\n",
    "    print(\"Frame: %d/%d ...\" % (i, total_frames))"
   ]
  },
  {
   "cell_type": "code",
   "execution_count": 101,
   "metadata": {
    "collapsed": true
   },
   "outputs": [],
   "source": [
    "video.close()"
   ]
  },
  {
   "cell_type": "code",
   "execution_count": null,
   "metadata": {
    "collapsed": true
   },
   "outputs": [],
   "source": [
    "[movie_images[i] for i in range(500, 750, 250)]"
   ]
  },
  {
   "cell_type": "code",
   "execution_count": 100,
   "metadata": {
    "collapsed": false
   },
   "outputs": [
    {
     "data": {
      "text/plain": [
       "<matplotlib.image.AxesImage at 0x2b364b692ca0>"
      ]
     },
     "execution_count": 100,
     "metadata": {},
     "output_type": "execute_result"
    },
    {
     "data": {
      "image/png": "[encoded data removed]",
      "text/plain": [
       "<Figure size 432x288 with 1 Axes>"
      ]
     },
     "metadata": {
      "needs_background": "light"
     },
     "output_type": "display_data"
    }
   ],
   "source": [
    "plt.imshow(movie_images[700])"
   ]
  },
  {
   "cell_type": "code",
   "execution_count": 104,
   "metadata": {
    "collapsed": false
   },
   "outputs": [
    {
     "name": "stderr",
     "output_type": "stream",
     "text": [
      "Traceback (most recent call last):\n",
      "  File \"/home/jma819/.conda/envs/jupyter_env/lib/python3.8/site-packages/matplotlib/cbook/__init__.py\", line 216, in process\n",
      "    func(*args, **kwargs)\n",
      "  File \"/home/jma819/.conda/envs/jupyter_env/lib/python3.8/site-packages/matplotlib/animation.py\", line 953, in _start\n",
      "    self._init_draw()\n",
      "  File \"/home/jma819/.conda/envs/jupyter_env/lib/python3.8/site-packages/matplotlib/animation.py\", line 1522, in _init_draw\n",
      "    for artist in f:\n",
      "TypeError: 'Image' object is not iterable\n"
     ]
    },
    {
     "ename": "RuntimeError",
     "evalue": "Requested MovieWriter (ffmpeg) not available",
     "output_type": "error",
     "traceback": [
      "\u001b[0;31m---------------------------------------------------------------------------\u001b[0m",
      "\u001b[0;31mKeyError\u001b[0m                                  Traceback (most recent call last)",
      "\u001b[0;32m~/.conda/envs/jupyter_env/lib/python3.8/site-packages/matplotlib/animation.py\u001b[0m in \u001b[0;36m__getitem__\u001b[0;34m(self, name)\u001b[0m\n\u001b[1;32m    160\u001b[0m         \u001b[0;32mtry\u001b[0m\u001b[0;34m:\u001b[0m\u001b[0;34m\u001b[0m\u001b[0;34m\u001b[0m\u001b[0m\n\u001b[0;32m--> 161\u001b[0;31m             \u001b[0;32mreturn\u001b[0m \u001b[0mself\u001b[0m\u001b[0;34m.\u001b[0m\u001b[0mavail\u001b[0m\u001b[0;34m[\u001b[0m\u001b[0mname\u001b[0m\u001b[0;34m]\u001b[0m\u001b[0;34m\u001b[0m\u001b[0;34m\u001b[0m\u001b[0m\n\u001b[0m\u001b[1;32m    162\u001b[0m         \u001b[0;32mexcept\u001b[0m \u001b[0mKeyError\u001b[0m\u001b[0;34m:\u001b[0m\u001b[0;34m\u001b[0m\u001b[0;34m\u001b[0m\u001b[0m\n",
      "\u001b[0;31mKeyError\u001b[0m: 'ffmpeg'",
      "\nDuring handling of the above exception, another exception occurred:\n",
      "\u001b[0;31mRuntimeError\u001b[0m                              Traceback (most recent call last)",
      "\u001b[0;32m<ipython-input-104-b8abd2c5e6fe>\u001b[0m in \u001b[0;36m<module>\u001b[0;34m\u001b[0m\n\u001b[1;32m      1\u001b[0m \u001b[0mfig\u001b[0m \u001b[0;34m=\u001b[0m \u001b[0mplt\u001b[0m\u001b[0;34m.\u001b[0m\u001b[0mfigure\u001b[0m\u001b[0;34m(\u001b[0m\u001b[0;34m)\u001b[0m\u001b[0;34m\u001b[0m\u001b[0;34m\u001b[0m\u001b[0m\n\u001b[1;32m      2\u001b[0m \u001b[0mani\u001b[0m \u001b[0;34m=\u001b[0m \u001b[0manimation\u001b[0m\u001b[0;34m.\u001b[0m\u001b[0mArtistAnimation\u001b[0m\u001b[0;34m(\u001b[0m\u001b[0mfig\u001b[0m\u001b[0;34m,\u001b[0m \u001b[0;34m[\u001b[0m\u001b[0mmovie_images\u001b[0m\u001b[0;34m[\u001b[0m\u001b[0mi\u001b[0m\u001b[0;34m]\u001b[0m \u001b[0;32mfor\u001b[0m \u001b[0mi\u001b[0m \u001b[0;32min\u001b[0m \u001b[0mrange\u001b[0m\u001b[0;34m(\u001b[0m\u001b[0;36m500\u001b[0m\u001b[0;34m,\u001b[0m \u001b[0;36m750\u001b[0m\u001b[0;34m,\u001b[0m \u001b[0;36m250\u001b[0m\u001b[0;34m)\u001b[0m\u001b[0;34m]\u001b[0m\u001b[0;34m,\u001b[0m \u001b[0minterval\u001b[0m\u001b[0;34m=\u001b[0m\u001b[0;36m50\u001b[0m\u001b[0;34m,\u001b[0m \u001b[0mblit\u001b[0m\u001b[0;34m=\u001b[0m\u001b[0;32mTrue\u001b[0m\u001b[0;34m,\u001b[0m \u001b[0mrepeat_delay\u001b[0m\u001b[0;34m=\u001b[0m\u001b[0;36m1000\u001b[0m\u001b[0;34m)\u001b[0m\u001b[0;34m\u001b[0m\u001b[0;34m\u001b[0m\u001b[0m\n\u001b[0;32m----> 3\u001b[0;31m \u001b[0mHTML\u001b[0m\u001b[0;34m(\u001b[0m\u001b[0mani\u001b[0m\u001b[0;34m.\u001b[0m\u001b[0mto_html5_video\u001b[0m\u001b[0;34m(\u001b[0m\u001b[0;34m)\u001b[0m\u001b[0;34m)\u001b[0m\u001b[0;34m\u001b[0m\u001b[0;34m\u001b[0m\u001b[0m\n\u001b[0m",
      "\u001b[0;32m~/.conda/envs/jupyter_env/lib/python3.8/site-packages/matplotlib/animation.py\u001b[0m in \u001b[0;36mto_html5_video\u001b[0;34m(self, embed_limit)\u001b[0m\n\u001b[1;32m   1324\u001b[0m                 \u001b[0;31m# We create a writer manually so that we can get the\u001b[0m\u001b[0;34m\u001b[0m\u001b[0;34m\u001b[0m\u001b[0;34m\u001b[0m\u001b[0m\n\u001b[1;32m   1325\u001b[0m                 \u001b[0;31m# appropriate size for the tag\u001b[0m\u001b[0;34m\u001b[0m\u001b[0;34m\u001b[0m\u001b[0;34m\u001b[0m\u001b[0m\n\u001b[0;32m-> 1326\u001b[0;31m                 \u001b[0mWriter\u001b[0m \u001b[0;34m=\u001b[0m \u001b[0mwriters\u001b[0m\u001b[0;34m[\u001b[0m\u001b[0mrcParams\u001b[0m\u001b[0;34m[\u001b[0m\u001b[0;34m'animation.writer'\u001b[0m\u001b[0;34m]\u001b[0m\u001b[0;34m]\u001b[0m\u001b[0;34m\u001b[0m\u001b[0;34m\u001b[0m\u001b[0m\n\u001b[0m\u001b[1;32m   1327\u001b[0m                 writer = Writer(codec='h264',\n\u001b[1;32m   1328\u001b[0m                                 \u001b[0mbitrate\u001b[0m\u001b[0;34m=\u001b[0m\u001b[0mrcParams\u001b[0m\u001b[0;34m[\u001b[0m\u001b[0;34m'animation.bitrate'\u001b[0m\u001b[0;34m]\u001b[0m\u001b[0;34m,\u001b[0m\u001b[0;34m\u001b[0m\u001b[0;34m\u001b[0m\u001b[0m\n",
      "\u001b[0;32m~/.conda/envs/jupyter_env/lib/python3.8/site-packages/matplotlib/animation.py\u001b[0m in \u001b[0;36m__getitem__\u001b[0;34m(self, name)\u001b[0m\n\u001b[1;32m    161\u001b[0m             \u001b[0;32mreturn\u001b[0m \u001b[0mself\u001b[0m\u001b[0;34m.\u001b[0m\u001b[0mavail\u001b[0m\u001b[0;34m[\u001b[0m\u001b[0mname\u001b[0m\u001b[0;34m]\u001b[0m\u001b[0;34m\u001b[0m\u001b[0;34m\u001b[0m\u001b[0m\n\u001b[1;32m    162\u001b[0m         \u001b[0;32mexcept\u001b[0m \u001b[0mKeyError\u001b[0m\u001b[0;34m:\u001b[0m\u001b[0;34m\u001b[0m\u001b[0;34m\u001b[0m\u001b[0m\n\u001b[0;32m--> 163\u001b[0;31m             raise RuntimeError(\n\u001b[0m\u001b[1;32m    164\u001b[0m                 'Requested MovieWriter ({}) not available'.format(name))\n\u001b[1;32m    165\u001b[0m \u001b[0;34m\u001b[0m\u001b[0m\n",
      "\u001b[0;31mRuntimeError\u001b[0m: Requested MovieWriter (ffmpeg) not available"
     ]
    },
    {
     "data": {
      "text/plain": [
       "<Figure size 432x288 with 0 Axes>"
      ]
     },
     "metadata": {},
     "output_type": "display_data"
    }
   ],
   "source": [
    "fig = plt.figure()\n",
    "ani = animation.ArtistAnimation(fig, [movie_images[i] for i in range(500, 750, 250)], interval=50, blit=True, repeat_delay=1000)\n",
    "HTML(ani.to_html5_video())"
   ]
  },
  {
   "cell_type": "code",
   "execution_count": null,
   "metadata": {
    "collapsed": true
   },
   "outputs": [],
   "source": []
  }
 ],
 "metadata": {
  "kernelspec": {
   "display_name": "jupyter_env",
   "language": "python",
   "name": "jupyter_env"
  },
  "language_info": {
   "codemirror_mode": {
    "name": "ipython",
    "version": 3
   },
   "file_extension": ".py",
   "mimetype": "text/x-python",
   "name": "python",
   "nbconvert_exporter": "python",
   "pygments_lexer": "ipython3",
   "version": "3.8.6"
  }
 },
 "nbformat": 4,
 "nbformat_minor": 2
}
