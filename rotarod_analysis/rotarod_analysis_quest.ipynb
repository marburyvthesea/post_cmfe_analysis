{
 "cells": [
  {
   "cell_type": "code",
   "execution_count": 1,
   "metadata": {},
   "outputs": [
    {
     "data": {
      "text/html": [
       "<style>.container { width:90% !important; }</style>"
      ],
      "text/plain": [
       "<IPython.core.display.HTML object>"
      ]
     },
     "metadata": {},
     "output_type": "display_data"
    },
    {
     "name": "stderr",
     "output_type": "stream",
     "text": [
      "/home/jma819/.conda/envs/caiman/lib/python3.6/site-packages/sklearn/utils/deprecation.py:144: FutureWarning: The sklearn.decomposition.incremental_pca module is  deprecated in version 0.22 and will be removed in version 0.24. The corresponding classes / functions should instead be imported from sklearn.decomposition. Anything that cannot be imported from sklearn.decomposition is now part of the private API.\n",
      "  warnings.warn(message, FutureWarning)\n"
     ]
    }
   ],
   "source": [
    "from IPython.core.display import display, HTML\n",
    "display(HTML(\"<style>.container { width:90% !important; }</style>\"))\n",
    "import numpy as np\n",
    "import pandas as pd\n",
    "import h5py\n",
    "from tqdm import tqdm\n",
    "import scipy.io as sio\n",
    "from scipy import stats\n",
    "from importlib import reload\n",
    "from matplotlib import pyplot as plt\n",
    "import sys\n",
    "sys.path.append('/home/jma819/post_cmfe_analysis')\n",
    "#sys.path.append('/Users/johnmarshall/Documents/Analysis/PythonAnalysisScripts/post_cmfe_analysis/')\n",
    "import python_utils_jjm as utils_jjm\n",
    "import dlc_utils\n",
    "import caiman\n",
    "import statsmodels.formula.api as smf"
   ]
  },
  {
   "cell_type": "code",
   "execution_count": 2,
   "metadata": {},
   "outputs": [
    {
     "data": {
      "text/plain": [
       "<module 'python_utils_jjm' from '/home/jma819/post_cmfe_analysis/python_utils_jjm.py'>"
      ]
     },
     "execution_count": 2,
     "metadata": {},
     "output_type": "execute_result"
    }
   ],
   "source": [
    "reload(utils_jjm)"
   ]
  },
  {
   "cell_type": "code",
   "execution_count": 10,
   "metadata": {},
   "outputs": [],
   "source": [
    "#'/projects/p30771/MATLAB/CNMF_E_jjm/quest_MATLAB_cnmfe/batch_output_files/'\n",
    "#cnmfe_path = '/volumes/My_Passport/cnmfe_analysis_files/batch_output_files/08-Apr_16_03_01_out.mat'\n",
    "CNMFE_file = '/projects/p30771/MATLAB/CNMF_E_jjm/quest_MATLAB_cnmfe/batch_output_files/08-Apr_16_03_01_out.mat'"
   ]
  },
  {
   "cell_type": "code",
   "execution_count": 34,
   "metadata": {},
   "outputs": [],
   "source": [
    "# get fluorescence manipulations for whole session\n",
    "cell_fluorescence = sio.loadmat(CNMFE_file)\n",
    "C_timedelta = utils_jjm.create_fluorescence_time_delta(cell_fluorescence['C'])\n",
    "C_normalized = C_timedelta.apply(utils_jjm.normalize).set_index(pd.to_timedelta(np.linspace(0, (len(C_timedelta)-1)*(1/20), len(C_timedelta)), unit='s'), drop=True)\n",
    "C_z_scored = C_timedelta.apply(stats.zscore).set_index(pd.to_timedelta(np.linspace(0, (len(C_timedelta)-1)*(1/20), len(C_timedelta)), unit='s'), drop=True)\n",
    "C_normalized_z_scored = C_normalized.apply(stats.zscore).set_index(pd.to_timedelta(np.linspace(0, (len(C_normalized)-1)*(1/20), len(C_normalized)), unit='s'), drop=True)\n",
    "com_df, spatial_components = utils_jjm.return_spatial_info(CNMFE_file, 0.6)\n",
    "cell_contours, for_dims = utils_jjm.create_contour_layouts(spatial_components)\n",
    "\n",
    "#filter out small cells for analysis\n",
    "C_normalized_z_scored_filtered = utils_jjm.filter_out_by_size(C_normalized_z_scored, cell_contours, \n",
    "                                                                  for_dims, 0.6, 100).drop(['msCamFrame'], axis=1)"
   ]
  },
  {
   "cell_type": "code",
   "execution_count": 29,
   "metadata": {
    "scrolled": true
   },
   "outputs": [
    {
     "data": {
      "text/html": [
       "<div>\n",
       "<style scoped>\n",
       "    .dataframe tbody tr th:only-of-type {\n",
       "        vertical-align: middle;\n",
       "    }\n",
       "\n",
       "    .dataframe tbody tr th {\n",
       "        vertical-align: top;\n",
       "    }\n",
       "\n",
       "    .dataframe thead th {\n",
       "        text-align: right;\n",
       "    }\n",
       "</style>\n",
       "<table border=\"1\" class=\"dataframe\">\n",
       "  <thead>\n",
       "    <tr style=\"text-align: right;\">\n",
       "      <th></th>\n",
       "      <th>final_frame</th>\n",
       "      <th>cumulative_frames</th>\n",
       "    </tr>\n",
       "  </thead>\n",
       "  <tbody>\n",
       "    <tr>\n",
       "      <th>H19_M46_S0</th>\n",
       "      <td>1977</td>\n",
       "      <td>1977</td>\n",
       "    </tr>\n",
       "    <tr>\n",
       "      <th>H19_M51_S4</th>\n",
       "      <td>2561</td>\n",
       "      <td>4538</td>\n",
       "    </tr>\n",
       "    <tr>\n",
       "      <th>H19_M55_S57</th>\n",
       "      <td>3388</td>\n",
       "      <td>7926</td>\n",
       "    </tr>\n",
       "    <tr>\n",
       "      <th>H20_M0_S57</th>\n",
       "      <td>4712</td>\n",
       "      <td>12638</td>\n",
       "    </tr>\n",
       "    <tr>\n",
       "      <th>H20_M11_S42</th>\n",
       "      <td>5216</td>\n",
       "      <td>17854</td>\n",
       "    </tr>\n",
       "    <tr>\n",
       "      <th>H20_M17_S28</th>\n",
       "      <td>4574</td>\n",
       "      <td>22428</td>\n",
       "    </tr>\n",
       "    <tr>\n",
       "      <th>H20_M22_S56</th>\n",
       "      <td>4993</td>\n",
       "      <td>27421</td>\n",
       "    </tr>\n",
       "    <tr>\n",
       "      <th>H20_M28_S4</th>\n",
       "      <td>4370</td>\n",
       "      <td>31791</td>\n",
       "    </tr>\n",
       "    <tr>\n",
       "      <th>H20_M33_S18</th>\n",
       "      <td>5993</td>\n",
       "      <td>37784</td>\n",
       "    </tr>\n",
       "    <tr>\n",
       "      <th>H20_M6_S41</th>\n",
       "      <td>4465</td>\n",
       "      <td>42249</td>\n",
       "    </tr>\n",
       "  </tbody>\n",
       "</table>\n",
       "</div>"
      ],
      "text/plain": [
       "            final_frame  cumulative_frames\n",
       "H19_M46_S0         1977               1977\n",
       "H19_M51_S4         2561               4538\n",
       "H19_M55_S57        3388               7926\n",
       "H20_M0_S57         4712              12638\n",
       "H20_M11_S42        5216              17854\n",
       "H20_M17_S28        4574              22428\n",
       "H20_M22_S56        4993              27421\n",
       "H20_M28_S4         4370              31791\n",
       "H20_M33_S18        5993              37784\n",
       "H20_M6_S41         4465              42249"
      ]
     },
     "execution_count": 29,
     "metadata": {},
     "output_type": "execute_result"
    }
   ],
   "source": [
    "# align frame inidcies in output file to session \n",
    "CNMFE_results = sio.loadmat(cnmfe_path)\n",
    "#np.shape(CNMFE_results['C'])\n",
    "file_array = CNMFE_results['P'][0][0][13]\n",
    "session_names = []\n",
    "frames_indicies = []\n",
    "for session in range(len(file_array)):\n",
    "    msCam_session = file_array[session][0][0].split('/')[8]\n",
    "    frames = file_array[session][0][0].split('/')[10]\n",
    "    frames_idx = frames.strip('frames_').split('_')\n",
    "    session_names.append(msCam_session)\n",
    "    frames_indicies.append(frames_idx)\n",
    "\n",
    "total_frames = np.sum(np.array([(1+int(frames_indicies[session_idx][1]))-int(frames_indicies[session_idx][0]) for session_idx in range(len(session_names))]))\n",
    "\n",
    "session_key = pd.DataFrame(frames_indicies, index=session_names)\n",
    "session_key['cumulative_frames'] = np.nan*np.ones(len(session_names))\n",
    "session_key = session_key.transpose()\n",
    "\n",
    "final_frames = pd.DataFrame({k:v for k,v in zip(np.unique(np.array(session_names)), [session_key[session].loc[1].values[-1:] for session in np.unique(np.array(session_names))])}, index=['final_frame']).transpose()\n",
    "\n",
    "final_frames['cumulative_frames'] = np.cumsum(np.array([int(frame) for frame in final_frames['final_frame'].values]))\n",
    "\n",
    "final_frames"
   ]
  },
  {
   "cell_type": "code",
   "execution_count": 30,
   "metadata": {},
   "outputs": [
    {
     "data": {
      "text/plain": [
       "(0, 1977)"
      ]
     },
     "execution_count": 30,
     "metadata": {},
     "output_type": "execute_result"
    }
   ],
   "source": [
    "# pull out data by session\n",
    "session = 'H19_M46_S0'\n",
    "session_idx = np.where(np.array(final_frames.index)==session)[0][0]\n",
    "frame_end = final_frames.iloc[session_idx]['cumulative_frames']\n",
    "if session_idx != 0:\n",
    "    frame_start = final_frames.iloc[session_idx-1]['cumulative_frames']\n",
    "else:\n",
    "    frame_start=0\n",
    "frames=(frame_start, frame_end)\n",
    "#start/stop indicies of session\n",
    "frames"
   ]
  },
  {
   "cell_type": "code",
   "execution_count": 36,
   "metadata": {},
   "outputs": [
    {
     "data": {
      "text/html": [
       "<div>\n",
       "<style scoped>\n",
       "    .dataframe tbody tr th:only-of-type {\n",
       "        vertical-align: middle;\n",
       "    }\n",
       "\n",
       "    .dataframe tbody tr th {\n",
       "        vertical-align: top;\n",
       "    }\n",
       "\n",
       "    .dataframe thead th {\n",
       "        text-align: right;\n",
       "    }\n",
       "</style>\n",
       "<table border=\"1\" class=\"dataframe\">\n",
       "  <thead>\n",
       "    <tr style=\"text-align: right;\">\n",
       "      <th></th>\n",
       "      <th>1</th>\n",
       "      <th>2</th>\n",
       "      <th>3</th>\n",
       "      <th>4</th>\n",
       "      <th>5</th>\n",
       "      <th>6</th>\n",
       "      <th>7</th>\n",
       "      <th>8</th>\n",
       "      <th>9</th>\n",
       "      <th>10</th>\n",
       "      <th>...</th>\n",
       "      <th>135</th>\n",
       "      <th>136</th>\n",
       "      <th>137</th>\n",
       "      <th>139</th>\n",
       "      <th>140</th>\n",
       "      <th>141</th>\n",
       "      <th>142</th>\n",
       "      <th>145</th>\n",
       "      <th>148</th>\n",
       "      <th>149</th>\n",
       "    </tr>\n",
       "  </thead>\n",
       "  <tbody>\n",
       "    <tr>\n",
       "      <th>00:00:00</th>\n",
       "      <td>-0.016964</td>\n",
       "      <td>-0.488173</td>\n",
       "      <td>-0.848195</td>\n",
       "      <td>0.035112</td>\n",
       "      <td>-0.539114</td>\n",
       "      <td>-0.248978</td>\n",
       "      <td>-0.601169</td>\n",
       "      <td>-0.191427</td>\n",
       "      <td>-0.083203</td>\n",
       "      <td>0.713918</td>\n",
       "      <td>...</td>\n",
       "      <td>-0.573771</td>\n",
       "      <td>0.434120</td>\n",
       "      <td>0.108201</td>\n",
       "      <td>-0.539150</td>\n",
       "      <td>-0.572728</td>\n",
       "      <td>0.199425</td>\n",
       "      <td>0.001017</td>\n",
       "      <td>0.114105</td>\n",
       "      <td>0.193691</td>\n",
       "      <td>-0.001258</td>\n",
       "    </tr>\n",
       "    <tr>\n",
       "      <th>00:00:00.050000</th>\n",
       "      <td>-0.031058</td>\n",
       "      <td>-0.488173</td>\n",
       "      <td>-0.849886</td>\n",
       "      <td>-0.002107</td>\n",
       "      <td>-0.351885</td>\n",
       "      <td>-0.284328</td>\n",
       "      <td>-0.601169</td>\n",
       "      <td>-0.247309</td>\n",
       "      <td>0.027174</td>\n",
       "      <td>0.669570</td>\n",
       "      <td>...</td>\n",
       "      <td>-0.573771</td>\n",
       "      <td>0.273558</td>\n",
       "      <td>-0.132712</td>\n",
       "      <td>-0.539150</td>\n",
       "      <td>-0.592176</td>\n",
       "      <td>0.095150</td>\n",
       "      <td>0.001683</td>\n",
       "      <td>0.138671</td>\n",
       "      <td>0.150173</td>\n",
       "      <td>-0.001258</td>\n",
       "    </tr>\n",
       "    <tr>\n",
       "      <th>00:00:00.100000</th>\n",
       "      <td>-0.044361</td>\n",
       "      <td>-0.488173</td>\n",
       "      <td>-0.851290</td>\n",
       "      <td>-0.037508</td>\n",
       "      <td>-0.337143</td>\n",
       "      <td>-0.317112</td>\n",
       "      <td>-0.601169</td>\n",
       "      <td>-0.241323</td>\n",
       "      <td>-0.015514</td>\n",
       "      <td>0.626795</td>\n",
       "      <td>...</td>\n",
       "      <td>-0.573771</td>\n",
       "      <td>0.133731</td>\n",
       "      <td>-0.287504</td>\n",
       "      <td>-0.486557</td>\n",
       "      <td>-0.610097</td>\n",
       "      <td>0.002003</td>\n",
       "      <td>-0.000357</td>\n",
       "      <td>0.058277</td>\n",
       "      <td>0.513741</td>\n",
       "      <td>-0.001258</td>\n",
       "    </tr>\n",
       "    <tr>\n",
       "      <th>00:00:00.150000</th>\n",
       "      <td>-0.056917</td>\n",
       "      <td>-0.488173</td>\n",
       "      <td>-0.852455</td>\n",
       "      <td>-0.071179</td>\n",
       "      <td>-0.364558</td>\n",
       "      <td>-0.347515</td>\n",
       "      <td>-0.601169</td>\n",
       "      <td>0.152217</td>\n",
       "      <td>0.008928</td>\n",
       "      <td>0.843185</td>\n",
       "      <td>...</td>\n",
       "      <td>-0.573771</td>\n",
       "      <td>0.711344</td>\n",
       "      <td>-0.129114</td>\n",
       "      <td>-0.498414</td>\n",
       "      <td>-0.626610</td>\n",
       "      <td>0.184154</td>\n",
       "      <td>0.006224</td>\n",
       "      <td>-0.010853</td>\n",
       "      <td>0.440547</td>\n",
       "      <td>-0.000480</td>\n",
       "    </tr>\n",
       "    <tr>\n",
       "      <th>00:00:00.200000</th>\n",
       "      <td>-0.006630</td>\n",
       "      <td>-0.488173</td>\n",
       "      <td>-0.853422</td>\n",
       "      <td>0.098700</td>\n",
       "      <td>-0.389397</td>\n",
       "      <td>-0.375710</td>\n",
       "      <td>-0.601169</td>\n",
       "      <td>0.041380</td>\n",
       "      <td>-0.031829</td>\n",
       "      <td>0.794252</td>\n",
       "      <td>...</td>\n",
       "      <td>-0.573771</td>\n",
       "      <td>0.514980</td>\n",
       "      <td>-0.285192</td>\n",
       "      <td>-0.507598</td>\n",
       "      <td>-0.641826</td>\n",
       "      <td>0.081510</td>\n",
       "      <td>0.003430</td>\n",
       "      <td>-0.070298</td>\n",
       "      <td>0.374140</td>\n",
       "      <td>-0.000753</td>\n",
       "    </tr>\n",
       "  </tbody>\n",
       "</table>\n",
       "<p>5 rows × 130 columns</p>\n",
       "</div>"
      ],
      "text/plain": [
       "                      1         2         3         4         5         6    \\\n",
       "00:00:00        -0.016964 -0.488173 -0.848195  0.035112 -0.539114 -0.248978   \n",
       "00:00:00.050000 -0.031058 -0.488173 -0.849886 -0.002107 -0.351885 -0.284328   \n",
       "00:00:00.100000 -0.044361 -0.488173 -0.851290 -0.037508 -0.337143 -0.317112   \n",
       "00:00:00.150000 -0.056917 -0.488173 -0.852455 -0.071179 -0.364558 -0.347515   \n",
       "00:00:00.200000 -0.006630 -0.488173 -0.853422  0.098700 -0.389397 -0.375710   \n",
       "\n",
       "                      7         8         9         10   ...       135  \\\n",
       "00:00:00        -0.601169 -0.191427 -0.083203  0.713918  ... -0.573771   \n",
       "00:00:00.050000 -0.601169 -0.247309  0.027174  0.669570  ... -0.573771   \n",
       "00:00:00.100000 -0.601169 -0.241323 -0.015514  0.626795  ... -0.573771   \n",
       "00:00:00.150000 -0.601169  0.152217  0.008928  0.843185  ... -0.573771   \n",
       "00:00:00.200000 -0.601169  0.041380 -0.031829  0.794252  ... -0.573771   \n",
       "\n",
       "                      136       137       139       140       141       142  \\\n",
       "00:00:00         0.434120  0.108201 -0.539150 -0.572728  0.199425  0.001017   \n",
       "00:00:00.050000  0.273558 -0.132712 -0.539150 -0.592176  0.095150  0.001683   \n",
       "00:00:00.100000  0.133731 -0.287504 -0.486557 -0.610097  0.002003 -0.000357   \n",
       "00:00:00.150000  0.711344 -0.129114 -0.498414 -0.626610  0.184154  0.006224   \n",
       "00:00:00.200000  0.514980 -0.285192 -0.507598 -0.641826  0.081510  0.003430   \n",
       "\n",
       "                      145       148       149  \n",
       "00:00:00         0.114105  0.193691 -0.001258  \n",
       "00:00:00.050000  0.138671  0.150173 -0.001258  \n",
       "00:00:00.100000  0.058277  0.513741 -0.001258  \n",
       "00:00:00.150000 -0.010853  0.440547 -0.000480  \n",
       "00:00:00.200000 -0.070298  0.374140 -0.000753  \n",
       "\n",
       "[5 rows x 130 columns]"
      ]
     },
     "execution_count": 36,
     "metadata": {},
     "output_type": "execute_result"
    }
   ],
   "source": [
    "C_normalized_z_scored_filtered.head()"
   ]
  },
  {
   "cell_type": "code",
   "execution_count": 13,
   "metadata": {
    "scrolled": false
   },
   "outputs": [
    {
     "data": {
      "text/plain": [
       "[<matplotlib.lines.Line2D at 0x2b81c89bd4a8>]"
      ]
     },
     "execution_count": 13,
     "metadata": {},
     "output_type": "execute_result"
    },
    {
     "data": {
      "image/png": "[encoded data removed]",
      "text/plain": [
       "<Figure size 432x288 with 1 Axes>"
      ]
     },
     "metadata": {
      "needs_background": "light"
     },
     "output_type": "display_data"
    }
   ],
   "source": [
    "#plt.plot(C_normalized_z_scored[1].values[frames[0]:frames[1]])"
   ]
  },
  {
   "cell_type": "code",
   "execution_count": null,
   "metadata": {},
   "outputs": [],
   "source": []
  },
  {
   "cell_type": "code",
   "execution_count": null,
   "metadata": {},
   "outputs": [],
   "source": [
    "utils_jjm.get_ISIs()"
   ]
  },
  {
   "cell_type": "code",
   "execution_count": null,
   "metadata": {},
   "outputs": [],
   "source": []
  },
  {
   "cell_type": "code",
   "execution_count": null,
   "metadata": {},
   "outputs": [],
   "source": []
  }
 ],
 "metadata": {
  "kernelspec": {
   "display_name": "caiman",
   "language": "python",
   "name": "caiman"
  },
  "language_info": {
   "codemirror_mode": {
    "name": "ipython",
    "version": 3
   },
   "file_extension": ".py",
   "mimetype": "text/x-python",
   "name": "python",
   "nbconvert_exporter": "python",
   "pygments_lexer": "ipython3",
   "version": "3.6.7"
  }
 },
 "nbformat": 4,
 "nbformat_minor": 2
}
