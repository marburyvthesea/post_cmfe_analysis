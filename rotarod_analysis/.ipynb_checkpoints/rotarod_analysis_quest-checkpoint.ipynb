{
 "cells": [
  {
   "cell_type": "code",
   "execution_count": 3,
   "metadata": {},
   "outputs": [
    {
     "data": {
      "text/html": [
       "<style>.container { width:90% !important; }</style>"
      ],
      "text/plain": [
       "<IPython.core.display.HTML object>"
      ]
     },
     "metadata": {},
     "output_type": "display_data"
    },
    {
     "name": "stderr",
     "output_type": "stream",
     "text": [
      "/home/jma819/.conda/envs/caiman/lib/python3.6/site-packages/sklearn/utils/deprecation.py:144: FutureWarning: The sklearn.decomposition.incremental_pca module is  deprecated in version 0.22 and will be removed in version 0.24. The corresponding classes / functions should instead be imported from sklearn.decomposition. Anything that cannot be imported from sklearn.decomposition is now part of the private API.\n",
      "  warnings.warn(message, FutureWarning)\n"
     ]
    }
   ],
   "source": [
    "from IPython.core.display import display, HTML\n",
    "display(HTML(\"<style>.container { width:90% !important; }</style>\"))\n",
    "import numpy as np\n",
    "import pandas as pd\n",
    "import h5py\n",
    "from tqdm import tqdm\n",
    "import scipy.io as sio\n",
    "from scipy import stats\n",
    "from importlib import reload\n",
    "from matplotlib import pyplot as plt\n",
    "import sys\n",
    "sys.path.append('/home/jma819/post_cmfe_analysis')\n",
    "#sys.path.append('/Users/johnmarshall/Documents/Analysis/PythonAnalysisScripts/post_cmfe_analysis/')\n",
    "import python_utils_jjm as utils_jjm\n",
    "import dlc_utils\n",
    "import caiman\n",
    "import statsmodels.formula.api as smf"
   ]
  },
  {
   "cell_type": "code",
   "execution_count": 107,
   "metadata": {},
   "outputs": [
    {
     "data": {
      "text/plain": [
       "<module 'python_utils_jjm' from '/home/jma819/post_cmfe_analysis/python_utils_jjm.py'>"
      ]
     },
     "execution_count": 107,
     "metadata": {},
     "output_type": "execute_result"
    }
   ],
   "source": [
    "reload(utils_jjm)"
   ]
  },
  {
   "cell_type": "code",
   "execution_count": 31,
   "metadata": {},
   "outputs": [],
   "source": [
    "#'/projects/p30771/MATLAB/CNMF_E_jjm/quest_MATLAB_cnmfe/batch_output_files/'\n",
    "#cnmfe_path = '/volumes/My_Passport/cnmfe_analysis_files/batch_output_files/08-Apr_16_03_01_out.mat'\n",
    "CNMFE_file = '/projects/p30771/MATLAB/CNMF_E_jjm/quest_MATLAB_cnmfe/batch_output_files/rotarod/17-Apr_06_31_26_out.mat'"
   ]
  },
  {
   "cell_type": "code",
   "execution_count": 32,
   "metadata": {},
   "outputs": [],
   "source": [
    "CNMFE_results = sio.loadmat(CNMFE_file)\n",
    "#np.shape(CNMFE_results['C'])\n",
    "file_array = CNMFE_results['P'][0][0][13]"
   ]
  },
  {
   "cell_type": "code",
   "execution_count": 41,
   "metadata": {},
   "outputs": [],
   "source": [
    "#file_array"
   ]
  },
  {
   "cell_type": "code",
   "execution_count": 37,
   "metadata": {},
   "outputs": [
    {
     "data": {
      "text/plain": [
       "'H15_M38_S19'"
      ]
     },
     "execution_count": 37,
     "metadata": {},
     "output_type": "execute_result"
    }
   ],
   "source": [
    "file_array[0][0][0].split('/')[8]"
   ]
  },
  {
   "cell_type": "code",
   "execution_count": 39,
   "metadata": {},
   "outputs": [
    {
     "data": {
      "text/plain": [
       "'frames_2969_3958'"
      ]
     },
     "execution_count": 39,
     "metadata": {},
     "output_type": "execute_result"
    }
   ],
   "source": [
    "frames = file_array[session][0][0].split('/')[10]\n",
    "frames"
   ]
  },
  {
   "cell_type": "code",
   "execution_count": 17,
   "metadata": {},
   "outputs": [],
   "source": [
    "# get fluorescence manipulations for whole session\n",
    "cell_fluorescence = sio.loadmat(CNMFE_file)\n",
    "C_timedelta = utils_jjm.create_fluorescence_time_delta(cell_fluorescence['C'])\n",
    "C_normalized = C_timedelta.apply(utils_jjm.normalize).set_index(pd.to_timedelta(np.linspace(0, (len(C_timedelta)-1)*(1/20), len(C_timedelta)), unit='s'), drop=True)\n",
    "C_z_scored = C_timedelta.apply(stats.zscore).set_index(pd.to_timedelta(np.linspace(0, (len(C_timedelta)-1)*(1/20), len(C_timedelta)), unit='s'), drop=True)\n",
    "C_normalized_z_scored = C_normalized.apply(stats.zscore).set_index(pd.to_timedelta(np.linspace(0, (len(C_normalized)-1)*(1/20), len(C_normalized)), unit='s'), drop=True)\n",
    "com_df, spatial_components = utils_jjm.return_spatial_info(CNMFE_file, 0.6)\n",
    "cell_contours, for_dims = utils_jjm.create_contour_layouts(spatial_components)\n",
    "\n",
    "#filter out small cells for analysis\n",
    "C_normalized_z_scored_filtered = utils_jjm.filter_out_by_size(C_normalized_z_scored, cell_contours, \n",
    "                                                                  for_dims, 0.6, 100).drop(['msCamFrame'], axis=1)"
   ]
  },
  {
   "cell_type": "code",
   "execution_count": 19,
   "metadata": {},
   "outputs": [
    {
     "ename": "AttributeError",
     "evalue": "'str' object has no attribute 'values'",
     "output_type": "error",
     "traceback": [
      "\u001b[0;31m---------------------------------------------------------------------------\u001b[0m",
      "\u001b[0;31mAttributeError\u001b[0m                            Traceback (most recent call last)",
      "\u001b[0;32m<ipython-input-19-93eb48d4df9a>\u001b[0m in \u001b[0;36m<module>\u001b[0;34m\u001b[0m\n\u001b[1;32m     18\u001b[0m \u001b[0msession_key\u001b[0m \u001b[0;34m=\u001b[0m \u001b[0msession_key\u001b[0m\u001b[0;34m.\u001b[0m\u001b[0mtranspose\u001b[0m\u001b[0;34m(\u001b[0m\u001b[0;34m)\u001b[0m\u001b[0;34m\u001b[0m\u001b[0;34m\u001b[0m\u001b[0m\n\u001b[1;32m     19\u001b[0m \u001b[0;34m\u001b[0m\u001b[0m\n\u001b[0;32m---> 20\u001b[0;31m \u001b[0mfinal_frames\u001b[0m \u001b[0;34m=\u001b[0m \u001b[0mpd\u001b[0m\u001b[0;34m.\u001b[0m\u001b[0mDataFrame\u001b[0m\u001b[0;34m(\u001b[0m\u001b[0;34m{\u001b[0m\u001b[0mk\u001b[0m\u001b[0;34m:\u001b[0m\u001b[0mv\u001b[0m \u001b[0;32mfor\u001b[0m \u001b[0mk\u001b[0m\u001b[0;34m,\u001b[0m\u001b[0mv\u001b[0m \u001b[0;32min\u001b[0m \u001b[0mzip\u001b[0m\u001b[0;34m(\u001b[0m\u001b[0mnp\u001b[0m\u001b[0;34m.\u001b[0m\u001b[0munique\u001b[0m\u001b[0;34m(\u001b[0m\u001b[0mnp\u001b[0m\u001b[0;34m.\u001b[0m\u001b[0marray\u001b[0m\u001b[0;34m(\u001b[0m\u001b[0msession_names\u001b[0m\u001b[0;34m)\u001b[0m\u001b[0;34m)\u001b[0m\u001b[0;34m,\u001b[0m \u001b[0;34m[\u001b[0m\u001b[0msession_key\u001b[0m\u001b[0;34m[\u001b[0m\u001b[0msession\u001b[0m\u001b[0;34m]\u001b[0m\u001b[0;34m.\u001b[0m\u001b[0mloc\u001b[0m\u001b[0;34m[\u001b[0m\u001b[0;36m1\u001b[0m\u001b[0;34m]\u001b[0m\u001b[0;34m.\u001b[0m\u001b[0mvalues\u001b[0m\u001b[0;34m[\u001b[0m\u001b[0;34m-\u001b[0m\u001b[0;36m1\u001b[0m\u001b[0;34m:\u001b[0m\u001b[0;34m]\u001b[0m \u001b[0;32mfor\u001b[0m \u001b[0msession\u001b[0m \u001b[0;32min\u001b[0m \u001b[0mnp\u001b[0m\u001b[0;34m.\u001b[0m\u001b[0munique\u001b[0m\u001b[0;34m(\u001b[0m\u001b[0mnp\u001b[0m\u001b[0;34m.\u001b[0m\u001b[0marray\u001b[0m\u001b[0;34m(\u001b[0m\u001b[0msession_names\u001b[0m\u001b[0;34m)\u001b[0m\u001b[0;34m)\u001b[0m\u001b[0;34m]\u001b[0m\u001b[0;34m)\u001b[0m\u001b[0;34m}\u001b[0m\u001b[0;34m,\u001b[0m \u001b[0mindex\u001b[0m\u001b[0;34m=\u001b[0m\u001b[0;34m[\u001b[0m\u001b[0;34m'final_frame'\u001b[0m\u001b[0;34m]\u001b[0m\u001b[0;34m)\u001b[0m\u001b[0;34m.\u001b[0m\u001b[0mtranspose\u001b[0m\u001b[0;34m(\u001b[0m\u001b[0;34m)\u001b[0m\u001b[0;34m\u001b[0m\u001b[0;34m\u001b[0m\u001b[0m\n\u001b[0m\u001b[1;32m     21\u001b[0m \u001b[0;34m\u001b[0m\u001b[0m\n\u001b[1;32m     22\u001b[0m \u001b[0mfinal_frames\u001b[0m\u001b[0;34m[\u001b[0m\u001b[0;34m'cumulative_frames'\u001b[0m\u001b[0;34m]\u001b[0m \u001b[0;34m=\u001b[0m \u001b[0mnp\u001b[0m\u001b[0;34m.\u001b[0m\u001b[0mcumsum\u001b[0m\u001b[0;34m(\u001b[0m\u001b[0mnp\u001b[0m\u001b[0;34m.\u001b[0m\u001b[0marray\u001b[0m\u001b[0;34m(\u001b[0m\u001b[0;34m[\u001b[0m\u001b[0mint\u001b[0m\u001b[0;34m(\u001b[0m\u001b[0mframe\u001b[0m\u001b[0;34m)\u001b[0m \u001b[0;32mfor\u001b[0m \u001b[0mframe\u001b[0m \u001b[0;32min\u001b[0m \u001b[0mfinal_frames\u001b[0m\u001b[0;34m[\u001b[0m\u001b[0;34m'final_frame'\u001b[0m\u001b[0;34m]\u001b[0m\u001b[0;34m.\u001b[0m\u001b[0mvalues\u001b[0m\u001b[0;34m]\u001b[0m\u001b[0;34m)\u001b[0m\u001b[0;34m)\u001b[0m\u001b[0;34m\u001b[0m\u001b[0;34m\u001b[0m\u001b[0m\n",
      "\u001b[0;32m<ipython-input-19-93eb48d4df9a>\u001b[0m in \u001b[0;36m<listcomp>\u001b[0;34m(.0)\u001b[0m\n\u001b[1;32m     18\u001b[0m \u001b[0msession_key\u001b[0m \u001b[0;34m=\u001b[0m \u001b[0msession_key\u001b[0m\u001b[0;34m.\u001b[0m\u001b[0mtranspose\u001b[0m\u001b[0;34m(\u001b[0m\u001b[0;34m)\u001b[0m\u001b[0;34m\u001b[0m\u001b[0;34m\u001b[0m\u001b[0m\n\u001b[1;32m     19\u001b[0m \u001b[0;34m\u001b[0m\u001b[0m\n\u001b[0;32m---> 20\u001b[0;31m \u001b[0mfinal_frames\u001b[0m \u001b[0;34m=\u001b[0m \u001b[0mpd\u001b[0m\u001b[0;34m.\u001b[0m\u001b[0mDataFrame\u001b[0m\u001b[0;34m(\u001b[0m\u001b[0;34m{\u001b[0m\u001b[0mk\u001b[0m\u001b[0;34m:\u001b[0m\u001b[0mv\u001b[0m \u001b[0;32mfor\u001b[0m \u001b[0mk\u001b[0m\u001b[0;34m,\u001b[0m\u001b[0mv\u001b[0m \u001b[0;32min\u001b[0m \u001b[0mzip\u001b[0m\u001b[0;34m(\u001b[0m\u001b[0mnp\u001b[0m\u001b[0;34m.\u001b[0m\u001b[0munique\u001b[0m\u001b[0;34m(\u001b[0m\u001b[0mnp\u001b[0m\u001b[0;34m.\u001b[0m\u001b[0marray\u001b[0m\u001b[0;34m(\u001b[0m\u001b[0msession_names\u001b[0m\u001b[0;34m)\u001b[0m\u001b[0;34m)\u001b[0m\u001b[0;34m,\u001b[0m \u001b[0;34m[\u001b[0m\u001b[0msession_key\u001b[0m\u001b[0;34m[\u001b[0m\u001b[0msession\u001b[0m\u001b[0;34m]\u001b[0m\u001b[0;34m.\u001b[0m\u001b[0mloc\u001b[0m\u001b[0;34m[\u001b[0m\u001b[0;36m1\u001b[0m\u001b[0;34m]\u001b[0m\u001b[0;34m.\u001b[0m\u001b[0mvalues\u001b[0m\u001b[0;34m[\u001b[0m\u001b[0;34m-\u001b[0m\u001b[0;36m1\u001b[0m\u001b[0;34m:\u001b[0m\u001b[0;34m]\u001b[0m \u001b[0;32mfor\u001b[0m \u001b[0msession\u001b[0m \u001b[0;32min\u001b[0m \u001b[0mnp\u001b[0m\u001b[0;34m.\u001b[0m\u001b[0munique\u001b[0m\u001b[0;34m(\u001b[0m\u001b[0mnp\u001b[0m\u001b[0;34m.\u001b[0m\u001b[0marray\u001b[0m\u001b[0;34m(\u001b[0m\u001b[0msession_names\u001b[0m\u001b[0;34m)\u001b[0m\u001b[0;34m)\u001b[0m\u001b[0;34m]\u001b[0m\u001b[0;34m)\u001b[0m\u001b[0;34m}\u001b[0m\u001b[0;34m,\u001b[0m \u001b[0mindex\u001b[0m\u001b[0;34m=\u001b[0m\u001b[0;34m[\u001b[0m\u001b[0;34m'final_frame'\u001b[0m\u001b[0;34m]\u001b[0m\u001b[0;34m)\u001b[0m\u001b[0;34m.\u001b[0m\u001b[0mtranspose\u001b[0m\u001b[0;34m(\u001b[0m\u001b[0;34m)\u001b[0m\u001b[0;34m\u001b[0m\u001b[0;34m\u001b[0m\u001b[0m\n\u001b[0m\u001b[1;32m     21\u001b[0m \u001b[0;34m\u001b[0m\u001b[0m\n\u001b[1;32m     22\u001b[0m \u001b[0mfinal_frames\u001b[0m\u001b[0;34m[\u001b[0m\u001b[0;34m'cumulative_frames'\u001b[0m\u001b[0;34m]\u001b[0m \u001b[0;34m=\u001b[0m \u001b[0mnp\u001b[0m\u001b[0;34m.\u001b[0m\u001b[0mcumsum\u001b[0m\u001b[0;34m(\u001b[0m\u001b[0mnp\u001b[0m\u001b[0;34m.\u001b[0m\u001b[0marray\u001b[0m\u001b[0;34m(\u001b[0m\u001b[0;34m[\u001b[0m\u001b[0mint\u001b[0m\u001b[0;34m(\u001b[0m\u001b[0mframe\u001b[0m\u001b[0;34m)\u001b[0m \u001b[0;32mfor\u001b[0m \u001b[0mframe\u001b[0m \u001b[0;32min\u001b[0m \u001b[0mfinal_frames\u001b[0m\u001b[0;34m[\u001b[0m\u001b[0;34m'final_frame'\u001b[0m\u001b[0;34m]\u001b[0m\u001b[0;34m.\u001b[0m\u001b[0mvalues\u001b[0m\u001b[0;34m]\u001b[0m\u001b[0;34m)\u001b[0m\u001b[0;34m)\u001b[0m\u001b[0;34m\u001b[0m\u001b[0;34m\u001b[0m\u001b[0m\n",
      "\u001b[0;31mAttributeError\u001b[0m: 'str' object has no attribute 'values'"
     ]
    }
   ],
   "source": [
    "# align frame inidcies in output file to session \n",
    "CNMFE_results = sio.loadmat(CNMFE_file)\n",
    "#np.shape(CNMFE_results['C'])\n",
    "file_array = CNMFE_results['P'][0][0][13]\n",
    "session_names = []\n",
    "frames_indicies = []\n",
    "for session in range(len(file_array)):\n",
    "    msCam_session = file_array[session][0][0].split('/')[8]\n",
    "    frames = file_array[session][0][0].split('/')[10]\n",
    "    frames_idx = frames.strip('frames_').split('_')\n",
    "    session_names.append(msCam_session)\n",
    "    frames_indicies.append(frames_idx)\n",
    "\n",
    "total_frames = np.sum(np.array([(1+int(frames_indicies[session_idx][1]))-int(frames_indicies[session_idx][0]) for session_idx in range(len(session_names))]))\n",
    "\n",
    "session_key = pd.DataFrame(frames_indicies, index=session_names)\n",
    "session_key['cumulative_frames'] = np.nan*np.ones(len(session_names))\n",
    "session_key = session_key.transpose()\n",
    "\n",
    "final_frames = pd.DataFrame({k:v for k,v in zip(np.unique(np.array(session_names)), \n",
    "                                                [session_key[session].loc[1].values[-1:] for session in np.unique(np.array(session_names))])}, \n",
    "                                                index=['final_frame']).transpose()\n",
    "\n",
    "final_frames['cumulative_frames'] = np.cumsum(np.array([int(frame) for frame in final_frames['final_frame'].values]))\n",
    "\n",
    "#final_frames\n",
    "\n",
    "# pull out data by session\n",
    "session = 'H19_M46_S0'\n",
    "frame_indicies = []\n",
    "for session in np.array(final_frames.index):\n",
    "    session_idx = np.where(np.array(final_frames.index)==session)[0][0]\n",
    "    frame_end = final_frames.iloc[session_idx]['cumulative_frames']\n",
    "    if session_idx != 0:\n",
    "        frame_start = final_frames.iloc[session_idx-1]['cumulative_frames']\n",
    "    else:\n",
    "        frame_start=0\n",
    "    frames=(frame_start, frame_end)\n",
    "    #start/stop indicies of session\n",
    "    frame_indicies.append(frames)\n",
    "\n",
    "final_frames['frame_indicies'] = frame_indicies\n"
   ]
  },
  {
   "cell_type": "code",
   "execution_count": 45,
   "metadata": {},
   "outputs": [
    {
     "data": {
      "text/html": [
       "<div>\n",
       "<style scoped>\n",
       "    .dataframe tbody tr th:only-of-type {\n",
       "        vertical-align: middle;\n",
       "    }\n",
       "\n",
       "    .dataframe tbody tr th {\n",
       "        vertical-align: top;\n",
       "    }\n",
       "\n",
       "    .dataframe thead th {\n",
       "        text-align: right;\n",
       "    }\n",
       "</style>\n",
       "<table border=\"1\" class=\"dataframe\">\n",
       "  <thead>\n",
       "    <tr style=\"text-align: right;\">\n",
       "      <th></th>\n",
       "      <th>final_frame</th>\n",
       "      <th>cumulative_frames</th>\n",
       "      <th>frame_indicies</th>\n",
       "    </tr>\n",
       "  </thead>\n",
       "  <tbody>\n",
       "    <tr>\n",
       "      <th>H19_M46_S0</th>\n",
       "      <td>1977</td>\n",
       "      <td>1977</td>\n",
       "      <td>(0, 1977)</td>\n",
       "    </tr>\n",
       "    <tr>\n",
       "      <th>H19_M51_S4</th>\n",
       "      <td>2561</td>\n",
       "      <td>4538</td>\n",
       "      <td>(1977, 4538)</td>\n",
       "    </tr>\n",
       "    <tr>\n",
       "      <th>H19_M55_S57</th>\n",
       "      <td>3388</td>\n",
       "      <td>7926</td>\n",
       "      <td>(4538, 7926)</td>\n",
       "    </tr>\n",
       "    <tr>\n",
       "      <th>H20_M0_S57</th>\n",
       "      <td>4712</td>\n",
       "      <td>12638</td>\n",
       "      <td>(7926, 12638)</td>\n",
       "    </tr>\n",
       "    <tr>\n",
       "      <th>H20_M11_S42</th>\n",
       "      <td>5216</td>\n",
       "      <td>17854</td>\n",
       "      <td>(12638, 17854)</td>\n",
       "    </tr>\n",
       "    <tr>\n",
       "      <th>H20_M17_S28</th>\n",
       "      <td>4574</td>\n",
       "      <td>22428</td>\n",
       "      <td>(17854, 22428)</td>\n",
       "    </tr>\n",
       "    <tr>\n",
       "      <th>H20_M22_S56</th>\n",
       "      <td>4993</td>\n",
       "      <td>27421</td>\n",
       "      <td>(22428, 27421)</td>\n",
       "    </tr>\n",
       "    <tr>\n",
       "      <th>H20_M28_S4</th>\n",
       "      <td>4370</td>\n",
       "      <td>31791</td>\n",
       "      <td>(27421, 31791)</td>\n",
       "    </tr>\n",
       "    <tr>\n",
       "      <th>H20_M33_S18</th>\n",
       "      <td>5993</td>\n",
       "      <td>37784</td>\n",
       "      <td>(31791, 37784)</td>\n",
       "    </tr>\n",
       "    <tr>\n",
       "      <th>H20_M6_S41</th>\n",
       "      <td>4465</td>\n",
       "      <td>42249</td>\n",
       "      <td>(37784, 42249)</td>\n",
       "    </tr>\n",
       "  </tbody>\n",
       "</table>\n",
       "</div>"
      ],
      "text/plain": [
       "            final_frame  cumulative_frames  frame_indicies\n",
       "H19_M46_S0         1977               1977       (0, 1977)\n",
       "H19_M51_S4         2561               4538    (1977, 4538)\n",
       "H19_M55_S57        3388               7926    (4538, 7926)\n",
       "H20_M0_S57         4712              12638   (7926, 12638)\n",
       "H20_M11_S42        5216              17854  (12638, 17854)\n",
       "H20_M17_S28        4574              22428  (17854, 22428)\n",
       "H20_M22_S56        4993              27421  (22428, 27421)\n",
       "H20_M28_S4         4370              31791  (27421, 31791)\n",
       "H20_M33_S18        5993              37784  (31791, 37784)\n",
       "H20_M6_S41         4465              42249  (37784, 42249)"
      ]
     },
     "execution_count": 45,
     "metadata": {},
     "output_type": "execute_result"
    }
   ],
   "source": [
    "final_frames"
   ]
  },
  {
   "cell_type": "code",
   "execution_count": 20,
   "metadata": {},
   "outputs": [
    {
     "data": {
      "text/html": [
       "<div>\n",
       "<style scoped>\n",
       "    .dataframe tbody tr th:only-of-type {\n",
       "        vertical-align: middle;\n",
       "    }\n",
       "\n",
       "    .dataframe tbody tr th {\n",
       "        vertical-align: top;\n",
       "    }\n",
       "\n",
       "    .dataframe thead th {\n",
       "        text-align: right;\n",
       "    }\n",
       "</style>\n",
       "<table border=\"1\" class=\"dataframe\">\n",
       "  <thead>\n",
       "    <tr style=\"text-align: right;\">\n",
       "      <th></th>\n",
       "      <th>2</th>\n",
       "      <th>3</th>\n",
       "      <th>4</th>\n",
       "      <th>5</th>\n",
       "      <th>8</th>\n",
       "      <th>10</th>\n",
       "      <th>11</th>\n",
       "      <th>12</th>\n",
       "      <th>13</th>\n",
       "      <th>14</th>\n",
       "      <th>...</th>\n",
       "      <th>129</th>\n",
       "      <th>141</th>\n",
       "      <th>146</th>\n",
       "      <th>150</th>\n",
       "      <th>153</th>\n",
       "      <th>160</th>\n",
       "      <th>162</th>\n",
       "      <th>164</th>\n",
       "      <th>165</th>\n",
       "      <th>167</th>\n",
       "    </tr>\n",
       "  </thead>\n",
       "  <tbody>\n",
       "    <tr>\n",
       "      <th>00:00:00</th>\n",
       "      <td>-0.062093</td>\n",
       "      <td>-0.075735</td>\n",
       "      <td>0.002018</td>\n",
       "      <td>-0.066328</td>\n",
       "      <td>-0.02038</td>\n",
       "      <td>0.683446</td>\n",
       "      <td>-0.44541</td>\n",
       "      <td>0.409262</td>\n",
       "      <td>0.170117</td>\n",
       "      <td>0.354901</td>\n",
       "      <td>...</td>\n",
       "      <td>-0.012457</td>\n",
       "      <td>0.216574</td>\n",
       "      <td>0.005305</td>\n",
       "      <td>0.222268</td>\n",
       "      <td>0.102844</td>\n",
       "      <td>-0.379101</td>\n",
       "      <td>0.397314</td>\n",
       "      <td>-0.239740</td>\n",
       "      <td>1.996984</td>\n",
       "      <td>2.981850</td>\n",
       "    </tr>\n",
       "    <tr>\n",
       "      <th>00:00:00.050000</th>\n",
       "      <td>-0.062093</td>\n",
       "      <td>-0.120887</td>\n",
       "      <td>0.002498</td>\n",
       "      <td>-0.015717</td>\n",
       "      <td>-0.02038</td>\n",
       "      <td>0.618526</td>\n",
       "      <td>-0.44541</td>\n",
       "      <td>0.291741</td>\n",
       "      <td>0.136495</td>\n",
       "      <td>0.233055</td>\n",
       "      <td>...</td>\n",
       "      <td>-0.012457</td>\n",
       "      <td>0.170167</td>\n",
       "      <td>-0.006043</td>\n",
       "      <td>0.424130</td>\n",
       "      <td>0.417616</td>\n",
       "      <td>2.595728</td>\n",
       "      <td>0.206385</td>\n",
       "      <td>1.360460</td>\n",
       "      <td>1.717187</td>\n",
       "      <td>2.263672</td>\n",
       "    </tr>\n",
       "    <tr>\n",
       "      <th>00:00:00.100000</th>\n",
       "      <td>-0.037017</td>\n",
       "      <td>-0.160298</td>\n",
       "      <td>0.002702</td>\n",
       "      <td>-0.019679</td>\n",
       "      <td>-0.02038</td>\n",
       "      <td>0.557987</td>\n",
       "      <td>-0.44541</td>\n",
       "      <td>0.755857</td>\n",
       "      <td>0.106372</td>\n",
       "      <td>0.127952</td>\n",
       "      <td>...</td>\n",
       "      <td>-0.012457</td>\n",
       "      <td>0.519416</td>\n",
       "      <td>-0.013794</td>\n",
       "      <td>0.578982</td>\n",
       "      <td>0.526216</td>\n",
       "      <td>6.586304</td>\n",
       "      <td>0.052788</td>\n",
       "      <td>1.925199</td>\n",
       "      <td>3.224101</td>\n",
       "      <td>4.699146</td>\n",
       "    </tr>\n",
       "    <tr>\n",
       "      <th>00:00:00.150000</th>\n",
       "      <td>-0.037829</td>\n",
       "      <td>-0.194698</td>\n",
       "      <td>0.005558</td>\n",
       "      <td>-0.023432</td>\n",
       "      <td>-0.02038</td>\n",
       "      <td>0.501535</td>\n",
       "      <td>-0.44541</td>\n",
       "      <td>0.600847</td>\n",
       "      <td>0.079382</td>\n",
       "      <td>0.037292</td>\n",
       "      <td>...</td>\n",
       "      <td>-0.012457</td>\n",
       "      <td>0.449614</td>\n",
       "      <td>-0.015170</td>\n",
       "      <td>0.549297</td>\n",
       "      <td>0.461904</td>\n",
       "      <td>5.692545</td>\n",
       "      <td>-0.070778</td>\n",
       "      <td>3.013615</td>\n",
       "      <td>2.204221</td>\n",
       "      <td>3.650809</td>\n",
       "    </tr>\n",
       "    <tr>\n",
       "      <th>00:00:00.200000</th>\n",
       "      <td>-0.038615</td>\n",
       "      <td>-0.224725</td>\n",
       "      <td>0.005136</td>\n",
       "      <td>-0.026986</td>\n",
       "      <td>-0.02038</td>\n",
       "      <td>0.448892</td>\n",
       "      <td>-0.44541</td>\n",
       "      <td>1.037436</td>\n",
       "      <td>0.055201</td>\n",
       "      <td>-0.040909</td>\n",
       "      <td>...</td>\n",
       "      <td>-0.012457</td>\n",
       "      <td>0.385204</td>\n",
       "      <td>-0.020029</td>\n",
       "      <td>0.400313</td>\n",
       "      <td>0.404659</td>\n",
       "      <td>4.930103</td>\n",
       "      <td>-0.170183</td>\n",
       "      <td>2.246238</td>\n",
       "      <td>1.449031</td>\n",
       "      <td>2.804020</td>\n",
       "    </tr>\n",
       "  </tbody>\n",
       "</table>\n",
       "<p>5 rows × 123 columns</p>\n",
       "</div>"
      ],
      "text/plain": [
       "                      2         3         4         5        8         10   \\\n",
       "00:00:00        -0.062093 -0.075735  0.002018 -0.066328 -0.02038  0.683446   \n",
       "00:00:00.050000 -0.062093 -0.120887  0.002498 -0.015717 -0.02038  0.618526   \n",
       "00:00:00.100000 -0.037017 -0.160298  0.002702 -0.019679 -0.02038  0.557987   \n",
       "00:00:00.150000 -0.037829 -0.194698  0.005558 -0.023432 -0.02038  0.501535   \n",
       "00:00:00.200000 -0.038615 -0.224725  0.005136 -0.026986 -0.02038  0.448892   \n",
       "\n",
       "                     11        12        13        14   ...       129  \\\n",
       "00:00:00        -0.44541  0.409262  0.170117  0.354901  ... -0.012457   \n",
       "00:00:00.050000 -0.44541  0.291741  0.136495  0.233055  ... -0.012457   \n",
       "00:00:00.100000 -0.44541  0.755857  0.106372  0.127952  ... -0.012457   \n",
       "00:00:00.150000 -0.44541  0.600847  0.079382  0.037292  ... -0.012457   \n",
       "00:00:00.200000 -0.44541  1.037436  0.055201 -0.040909  ... -0.012457   \n",
       "\n",
       "                      141       146       150       153       160       162  \\\n",
       "00:00:00         0.216574  0.005305  0.222268  0.102844 -0.379101  0.397314   \n",
       "00:00:00.050000  0.170167 -0.006043  0.424130  0.417616  2.595728  0.206385   \n",
       "00:00:00.100000  0.519416 -0.013794  0.578982  0.526216  6.586304  0.052788   \n",
       "00:00:00.150000  0.449614 -0.015170  0.549297  0.461904  5.692545 -0.070778   \n",
       "00:00:00.200000  0.385204 -0.020029  0.400313  0.404659  4.930103 -0.170183   \n",
       "\n",
       "                      164       165       167  \n",
       "00:00:00        -0.239740  1.996984  2.981850  \n",
       "00:00:00.050000  1.360460  1.717187  2.263672  \n",
       "00:00:00.100000  1.925199  3.224101  4.699146  \n",
       "00:00:00.150000  3.013615  2.204221  3.650809  \n",
       "00:00:00.200000  2.246238  1.449031  2.804020  \n",
       "\n",
       "[5 rows x 123 columns]"
      ]
     },
     "execution_count": 20,
     "metadata": {},
     "output_type": "execute_result"
    }
   ],
   "source": [
    "C_normalized_z_scored_filtered.head()"
   ]
  },
  {
   "cell_type": "code",
   "execution_count": 30,
   "metadata": {},
   "outputs": [],
   "source": [
    "#plt.plot(C_normalized_z_scored[40].values[0:1000])"
   ]
  },
  {
   "cell_type": "code",
   "execution_count": 21,
   "metadata": {
    "scrolled": true
   },
   "outputs": [
    {
     "ename": "TypeError",
     "evalue": "slice indices must be integers or None or have an __index__ method",
     "output_type": "error",
     "traceback": [
      "\u001b[0;31m---------------------------------------------------------------------------\u001b[0m",
      "\u001b[0;31mTypeError\u001b[0m                                 Traceback (most recent call last)",
      "\u001b[0;32m<ipython-input-21-89d88f6c8f13>\u001b[0m in \u001b[0;36m<module>\u001b[0;34m\u001b[0m\n\u001b[0;32m----> 1\u001b[0;31m \u001b[0mplt\u001b[0m\u001b[0;34m.\u001b[0m\u001b[0mplot\u001b[0m\u001b[0;34m(\u001b[0m\u001b[0mC_normalized_z_scored\u001b[0m\u001b[0;34m[\u001b[0m\u001b[0;36m1\u001b[0m\u001b[0;34m]\u001b[0m\u001b[0;34m.\u001b[0m\u001b[0mvalues\u001b[0m\u001b[0;34m[\u001b[0m\u001b[0mframes\u001b[0m\u001b[0;34m[\u001b[0m\u001b[0;36m0\u001b[0m\u001b[0;34m]\u001b[0m\u001b[0;34m:\u001b[0m\u001b[0mframes\u001b[0m\u001b[0;34m[\u001b[0m\u001b[0;36m1\u001b[0m\u001b[0;34m]\u001b[0m\u001b[0;34m]\u001b[0m\u001b[0;34m)\u001b[0m\u001b[0;34m\u001b[0m\u001b[0;34m\u001b[0m\u001b[0m\n\u001b[0m",
      "\u001b[0;31mTypeError\u001b[0m: slice indices must be integers or None or have an __index__ method"
     ]
    }
   ],
   "source": [
    "#plt.plot(C_normalized_z_scored[1].values[frames[0]:frames[1]])"
   ]
  },
  {
   "cell_type": "code",
   "execution_count": 60,
   "metadata": {},
   "outputs": [
    {
     "data": {
      "text/plain": [
       "array([1, 2, 3, 4, 5, 6, 7, 8, 9, 10, 11, 12, 13, 14, 15, 16, 17, 18, 19,\n",
       "       20, 21, 24, 25, 26, 29, 31, 32, 33, 34, 35, 36, 37, 38, 39, 40, 41,\n",
       "       42, 43, 44, 45, 46, 48, 49, 50, 51, 52, 53, 54, 55, 56, 57, 58, 59,\n",
       "       60, 61, 62, 63, 64, 65, 66, 67, 68, 69, 70, 71, 72, 73, 74, 75, 77,\n",
       "       78, 79, 80, 81, 82, 83, 84, 85, 86, 87, 89, 90, 91, 95, 96, 97, 98,\n",
       "       99, 100, 101, 102, 103, 104, 105, 106, 107, 108, 109, 110, 111,\n",
       "       112, 113, 114, 116, 117, 118, 120, 121, 122, 124, 125, 126, 127,\n",
       "       128, 129, 130, 131, 132, 133, 134, 135, 136, 137, 139, 140, 141,\n",
       "       142, 145, 148, 149], dtype=object)"
      ]
     },
     "execution_count": 60,
     "metadata": {},
     "output_type": "execute_result"
    }
   ],
   "source": [
    "np.array(C_normalized_z_scored_filtered.columns)"
   ]
  },
  {
   "cell_type": "code",
   "execution_count": 132,
   "metadata": {},
   "outputs": [],
   "source": [
    "by_trial = {}\n",
    "trial_stats = {}\n",
    "for session in np.array(final_frames.index):\n",
    "    event_indicies, event_times, event_ISIs = utils_jjm.get_ISIs(C_normalized_z_scored_filtered.iloc[final_frames.loc[session]['frame_indicies'][0]:final_frames.loc[session]['frame_indicies'][1]], 20, .1, \n",
    "                                                                 np.array(C_normalized_z_scored_filtered.columns), 2)\n",
    "    by_trial[session] = {'event_indicies' : event_indicies, 'event_times': event_times, 'event_ISIs': event_ISIs}\n",
    "    \n",
    "    event_counts_by_cell = [len(by_trial['H19_M46_S0']['event_indicies'][array]) for array in range(len(by_trial['H19_M46_S0']['event_indicies']))]\n",
    "    event_rates_by_cell = [count/((1/20)*float(final_frames.loc[session]['frame_indicies'][1]-final_frames.loc[session]['frame_indicies'][0])) for count in event_counts_by_cell]\n",
    "    trial_stats[session] = {'event_counts_by_cell' : event_counts_by_cell , 'event_rates_by_cell' : event_rates_by_cell}"
   ]
  },
  {
   "cell_type": "code",
   "execution_count": 135,
   "metadata": {},
   "outputs": [
    {
     "data": {
      "text/plain": [
       "0.1323683903350064"
      ]
     },
     "execution_count": 135,
     "metadata": {},
     "output_type": "execute_result"
    }
   ],
   "source": [
    "np.mean(trial_stats['H19_M46_S0']['event_rates_by_cell'])"
   ]
  },
  {
   "cell_type": "code",
   "execution_count": 136,
   "metadata": {},
   "outputs": [
    {
     "data": {
      "text/plain": [
       "0.058609699371177534"
      ]
     },
     "execution_count": 136,
     "metadata": {},
     "output_type": "execute_result"
    }
   ],
   "source": [
    "np.mean(trial_stats['H20_M6_S41']['event_rates_by_cell'])"
   ]
  },
  {
   "cell_type": "code",
   "execution_count": null,
   "metadata": {},
   "outputs": [],
   "source": []
  }
 ],
 "metadata": {
  "kernelspec": {
   "display_name": "caiman",
   "language": "python",
   "name": "caiman"
  },
  "language_info": {
   "codemirror_mode": {
    "name": "ipython",
    "version": 3
   },
   "file_extension": ".py",
   "mimetype": "text/x-python",
   "name": "python",
   "nbconvert_exporter": "python",
   "pygments_lexer": "ipython3",
   "version": "3.6.7"
  }
 },
 "nbformat": 4,
 "nbformat_minor": 2
}
