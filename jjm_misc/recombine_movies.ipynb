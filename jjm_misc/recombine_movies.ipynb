{
 "cells": [
  {
   "cell_type": "code",
   "execution_count": 1,
   "metadata": {},
   "outputs": [
    {
     "data": {
      "text/html": [
       "<style>.container { width:90% !important; }</style>"
      ],
      "text/plain": [
       "<IPython.core.display.HTML object>"
      ]
     },
     "metadata": {},
     "output_type": "display_data"
    }
   ],
   "source": [
    "from IPython.core.display import display, HTML\n",
    "display(HTML(\"<style>.container { width:90% !important; }</style>\"))"
   ]
  },
  {
   "cell_type": "code",
   "execution_count": 3,
   "metadata": {},
   "outputs": [],
   "source": [
    "from matplotlib import pyplot as plt\n",
    "import sys\n",
    "import matplotlib.animation as animation\n",
    "import scipy.sparse as sparse\n",
    "import scipy.io as sio\n",
    "import scipy.stats as stats\n",
    "import scipy.spatial.distance as dist\n",
    "import numpy as np\n",
    "import h5py\n",
    "from tqdm import tqdm\n",
    "import pandas as pd\n",
    "import imageio\n",
    "\n",
    "#import tables\n",
    "#import deepdish as dd\n",
    "\n",
    "#sys.path.append('/home/jma819/post_cmfe_analysis')\n",
    "sys.path.append('/Users/johnmarshall/Documents/Analysis/PythonAnalysisScripts/post_cmfe_analysis')\n",
    "import python_utils_jjm as utils_jjm"
   ]
  },
  {
   "cell_type": "code",
   "execution_count": 8,
   "metadata": {},
   "outputs": [],
   "source": [
    "results_file = '/Volumes/My_Passport/cnmfe_analysis_files/batch_output_files/29-Mar_21_42_20_out.mat'"
   ]
  },
  {
   "cell_type": "code",
   "execution_count": 9,
   "metadata": {},
   "outputs": [
    {
     "data": {
      "text/plain": [
       "'29-Mar_21_42_20_out.mat'"
      ]
     },
     "execution_count": 9,
     "metadata": {},
     "output_type": "execute_result"
    }
   ],
   "source": [
    "results_file.split('/')[-1]"
   ]
  },
  {
   "cell_type": "code",
   "execution_count": 10,
   "metadata": {},
   "outputs": [
    {
     "data": {
      "text/plain": [
       "'/Volumes/My_Passport/cnmfe_analysis_files/batch_output_files/29-Mar_21_42_20_out_demixed_color.h5'"
      ]
     },
     "execution_count": 10,
     "metadata": {},
     "output_type": "execute_result"
    }
   ],
   "source": [
    "results_file[0:-4]+'_demixed_color.h5'"
   ]
  },
  {
   "cell_type": "code",
   "execution_count": 11,
   "metadata": {},
   "outputs": [],
   "source": [
    "results = sio.loadmat(results_file)"
   ]
  },
  {
   "cell_type": "markdown",
   "metadata": {},
   "source": [
    "##A is spatial contours"
   ]
  },
  {
   "cell_type": "code",
   "execution_count": 12,
   "metadata": {},
   "outputs": [],
   "source": [
    "#img_file = '/Users/johnmarshall/Documents/Analysis/MiniscopeMovies/GRIN011/H10_M19_S59msCam1.tif'\n",
    "#img_from_file = plt.imread(img_file)    \n",
    "#d1, d2 = np.shape(img_from_file)\n",
    "d1, d2 = 480, 752"
   ]
  },
  {
   "cell_type": "code",
   "execution_count": 13,
   "metadata": {},
   "outputs": [],
   "source": [
    "dense_A = results['A'].todense()"
   ]
  },
  {
   "cell_type": "code",
   "execution_count": 14,
   "metadata": {},
   "outputs": [],
   "source": [
    "frames = np.shape(results['C'])[0]"
   ]
  },
  {
   "cell_type": "code",
   "execution_count": 15,
   "metadata": {},
   "outputs": [],
   "source": [
    "cells = np.shape(results['C'])[0]"
   ]
  },
  {
   "cell_type": "code",
   "execution_count": 25,
   "metadata": {},
   "outputs": [
    {
     "data": {
      "text/plain": [
       "0.21207764157814804"
      ]
     },
     "execution_count": 25,
     "metadata": {},
     "output_type": "execute_result"
    }
   ],
   "source": [
    "results['C'][10, 10]"
   ]
  },
  {
   "cell_type": "code",
   "execution_count": 26,
   "metadata": {},
   "outputs": [],
   "source": [
    "color_eg = results['C'][10, 10]*np.array([255, 128, 0])"
   ]
  },
  {
   "cell_type": "code",
   "execution_count": 27,
   "metadata": {},
   "outputs": [
    {
     "data": {
      "text/plain": [
       "array([54.0797986 , 27.14593812,  0.        ])"
      ]
     },
     "execution_count": 27,
     "metadata": {},
     "output_type": "execute_result"
    }
   ],
   "source": [
    "color_eg"
   ]
  },
  {
   "cell_type": "code",
   "execution_count": 31,
   "metadata": {},
   "outputs": [
    {
     "name": "stderr",
     "output_type": "stream",
     "text": [
      " 33%|███▎      | 49/148 [00:16<00:36,  2.74it/s]"
     ]
    },
    {
     "ename": "KeyboardInterrupt",
     "evalue": "",
     "output_type": "error",
     "traceback": [
      "\u001b[0;31m---------------------------------------------------------------------------\u001b[0m",
      "\u001b[0;31mKeyboardInterrupt\u001b[0m                         Traceback (most recent call last)",
      "\u001b[0;32m<ipython-input-31-de2d3a9d83b5>\u001b[0m in \u001b[0;36m<module>\u001b[0;34m\u001b[0m\n\u001b[1;32m      4\u001b[0m \u001b[0;32mfor\u001b[0m \u001b[0mcell\u001b[0m \u001b[0;32min\u001b[0m \u001b[0mtqdm\u001b[0m\u001b[0;34m(\u001b[0m\u001b[0mrange\u001b[0m\u001b[0;34m(\u001b[0m\u001b[0mcells\u001b[0m\u001b[0;34m)\u001b[0m\u001b[0;34m)\u001b[0m\u001b[0;34m:\u001b[0m\u001b[0;34m\u001b[0m\u001b[0;34m\u001b[0m\u001b[0m\n\u001b[1;32m      5\u001b[0m     \u001b[0mA_reshaped\u001b[0m \u001b[0;34m=\u001b[0m \u001b[0mnp\u001b[0m\u001b[0;34m.\u001b[0m\u001b[0mreshape\u001b[0m\u001b[0;34m(\u001b[0m\u001b[0mdense_A\u001b[0m\u001b[0;34m[\u001b[0m\u001b[0;34m:\u001b[0m\u001b[0;34m,\u001b[0m \u001b[0mcell\u001b[0m\u001b[0;34m]\u001b[0m\u001b[0;34m,\u001b[0m \u001b[0;34m(\u001b[0m\u001b[0md1\u001b[0m\u001b[0;34m,\u001b[0m \u001b[0md2\u001b[0m\u001b[0;34m)\u001b[0m\u001b[0;34m)\u001b[0m\u001b[0;34m\u001b[0m\u001b[0;34m\u001b[0m\u001b[0m\n\u001b[0;32m----> 6\u001b[0;31m     \u001b[0mcells_reshaped\u001b[0m\u001b[0;34m[\u001b[0m\u001b[0mcell\u001b[0m\u001b[0;34m]\u001b[0m \u001b[0;34m=\u001b[0m \u001b[0mnp\u001b[0m\u001b[0;34m.\u001b[0m\u001b[0marray\u001b[0m\u001b[0;34m(\u001b[0m\u001b[0;34m[\u001b[0m\u001b[0mnp\u001b[0m\u001b[0;34m.\u001b[0m\u001b[0mdot\u001b[0m\u001b[0;34m(\u001b[0m\u001b[0mA_reshaped\u001b[0m\u001b[0;34m,\u001b[0m \u001b[0mresults\u001b[0m\u001b[0;34m[\u001b[0m\u001b[0;34m'C'\u001b[0m\u001b[0;34m]\u001b[0m\u001b[0;34m[\u001b[0m\u001b[0mcell\u001b[0m\u001b[0;34m,\u001b[0m \u001b[0mframe\u001b[0m\u001b[0;34m]\u001b[0m\u001b[0;34m)\u001b[0m \u001b[0;32mfor\u001b[0m \u001b[0mframe\u001b[0m \u001b[0;32min\u001b[0m \u001b[0mrange\u001b[0m\u001b[0;34m(\u001b[0m\u001b[0mframe_range\u001b[0m\u001b[0;34m[\u001b[0m\u001b[0;36m0\u001b[0m\u001b[0;34m]\u001b[0m\u001b[0;34m,\u001b[0m \u001b[0mframe_range\u001b[0m\u001b[0;34m[\u001b[0m\u001b[0;36m1\u001b[0m\u001b[0;34m]\u001b[0m\u001b[0;34m)\u001b[0m\u001b[0;34m]\u001b[0m\u001b[0;34m)\u001b[0m\u001b[0;34m\u001b[0m\u001b[0;34m\u001b[0m\u001b[0m\n\u001b[0m\u001b[1;32m      7\u001b[0m \u001b[0;34m\u001b[0m\u001b[0m\n",
      "\u001b[0;31mKeyboardInterrupt\u001b[0m: "
     ]
    }
   ],
   "source": [
    "#reshape for all frames\n",
    "frame_range = (100, 150)\n",
    "cells_reshaped = np.empty((cells, frame_range[1]-frame_range[0], d1, d2))\n",
    "for cell in tqdm(range(cells)):\n",
    "    A_reshaped = np.reshape(dense_A[:, cell], (d1, d2))\n",
    "    cells_reshaped[cell] = np.array([np.dot(A_reshaped, results['C'][cell, frame]) for frame in range(frame_range[0], frame_range[1])])\n",
    "    \n"
   ]
  },
  {
   "cell_type": "code",
   "execution_count": 34,
   "metadata": {},
   "outputs": [
    {
     "name": "stderr",
     "output_type": "stream",
     "text": [
      "\n",
      "  0%|          | 0/148 [00:00<?, ?it/s]\u001b[A\n",
      "  1%|          | 1/148 [00:00<01:28,  1.65it/s]\u001b[A\n",
      "  1%|▏         | 2/148 [00:01<01:22,  1.77it/s]\u001b[A\n",
      "  2%|▏         | 3/148 [00:01<01:18,  1.85it/s]\u001b[A\n",
      "  3%|▎         | 4/148 [00:02<01:14,  1.92it/s]\u001b[A\n",
      "  3%|▎         | 5/148 [00:02<01:12,  1.98it/s]\u001b[A\n",
      "  4%|▍         | 6/148 [00:02<01:10,  2.02it/s]\u001b[A\n",
      "  5%|▍         | 7/148 [00:03<01:08,  2.06it/s]\u001b[A\n",
      "  5%|▌         | 8/148 [00:03<01:07,  2.09it/s]\u001b[A\n",
      "  6%|▌         | 9/148 [00:04<01:06,  2.10it/s]\u001b[A\n",
      "  7%|▋         | 10/148 [00:04<01:05,  2.12it/s]\u001b[A\n",
      "  7%|▋         | 11/148 [00:05<01:04,  2.13it/s]\u001b[A\n",
      "  8%|▊         | 12/148 [00:05<01:03,  2.13it/s]\u001b[A\n",
      "  9%|▉         | 13/148 [00:06<01:03,  2.12it/s]\u001b[A\n",
      "  9%|▉         | 14/148 [00:06<01:02,  2.13it/s]\u001b[A\n",
      " 10%|█         | 15/148 [00:07<01:02,  2.14it/s]\u001b[A\n",
      " 11%|█         | 16/148 [00:07<01:01,  2.13it/s]\u001b[A\n",
      " 11%|█▏        | 17/148 [00:08<01:01,  2.13it/s]\u001b[A\n",
      " 12%|█▏        | 18/148 [00:08<01:00,  2.14it/s]\u001b[A\n",
      " 13%|█▎        | 19/148 [00:09<01:00,  2.14it/s]\u001b[A\n",
      " 14%|█▎        | 20/148 [00:09<00:59,  2.14it/s]\u001b[A\n",
      " 14%|█▍        | 21/148 [00:09<00:59,  2.14it/s]\u001b[A\n",
      " 15%|█▍        | 22/148 [00:10<00:59,  2.13it/s]\u001b[A\n",
      " 16%|█▌        | 23/148 [00:10<00:58,  2.14it/s]\u001b[A\n",
      " 16%|█▌        | 24/148 [00:11<00:58,  2.13it/s]\u001b[A\n",
      " 17%|█▋        | 25/148 [00:11<00:57,  2.12it/s]\u001b[A\n",
      " 18%|█▊        | 26/148 [00:12<00:57,  2.12it/s]\u001b[A\n",
      " 18%|█▊        | 27/148 [00:12<00:56,  2.13it/s]\u001b[A\n",
      " 19%|█▉        | 28/148 [00:13<00:56,  2.13it/s]\u001b[A\n",
      " 20%|█▉        | 29/148 [00:13<00:55,  2.13it/s]\u001b[A\n",
      " 20%|██        | 30/148 [00:14<00:55,  2.14it/s]\u001b[A\n",
      " 21%|██        | 31/148 [00:14<00:54,  2.14it/s]\u001b[A\n",
      " 22%|██▏       | 32/148 [00:15<00:54,  2.12it/s]\u001b[A\n",
      " 22%|██▏       | 33/148 [00:15<00:54,  2.12it/s]\u001b[A\n",
      " 23%|██▎       | 34/148 [00:16<00:54,  2.11it/s]\u001b[A\n",
      " 24%|██▎       | 35/148 [00:16<00:53,  2.10it/s]\u001b[A\n",
      " 24%|██▍       | 36/148 [00:17<00:53,  2.09it/s]\u001b[A\n",
      " 25%|██▌       | 37/148 [00:17<00:53,  2.09it/s]\u001b[A\n",
      " 26%|██▌       | 38/148 [00:18<00:52,  2.08it/s]\u001b[A\n",
      " 26%|██▋       | 39/148 [00:18<00:52,  2.07it/s]\u001b[A\n",
      " 27%|██▋       | 40/148 [00:18<00:51,  2.09it/s]\u001b[A\n",
      " 28%|██▊       | 41/148 [00:19<00:51,  2.10it/s]\u001b[A\n",
      " 28%|██▊       | 42/148 [00:19<00:50,  2.09it/s]\u001b[A\n",
      " 29%|██▉       | 43/148 [00:20<00:51,  2.05it/s]\u001b[A\n",
      " 30%|██▉       | 44/148 [00:20<00:51,  2.03it/s]\u001b[A\n",
      " 30%|███       | 45/148 [00:21<00:50,  2.04it/s]\u001b[A\n",
      " 31%|███       | 46/148 [00:21<00:50,  2.03it/s]\u001b[A\n",
      " 32%|███▏      | 47/148 [00:22<00:49,  2.04it/s]\u001b[A\n",
      " 32%|███▏      | 48/148 [00:22<00:48,  2.05it/s]\u001b[A\n",
      " 33%|███▎      | 49/148 [00:23<00:48,  2.06it/s]\u001b[A\n",
      " 34%|███▍      | 50/148 [00:23<00:47,  2.06it/s]\u001b[A\n",
      " 34%|███▍      | 51/148 [00:24<00:47,  2.06it/s]\u001b[A\n",
      " 35%|███▌      | 52/148 [00:24<00:46,  2.06it/s]\u001b[A\n",
      " 36%|███▌      | 53/148 [00:25<00:46,  2.06it/s]\u001b[A\n",
      " 36%|███▋      | 54/148 [00:25<00:46,  2.02it/s]\u001b[A\n",
      " 37%|███▋      | 55/148 [00:26<00:45,  2.04it/s]\u001b[A\n",
      " 38%|███▊      | 56/148 [00:26<00:45,  2.04it/s]\u001b[A\n",
      " 39%|███▊      | 57/148 [00:27<00:44,  2.05it/s]\u001b[A\n",
      " 39%|███▉      | 58/148 [00:27<00:44,  2.02it/s]\u001b[A\n",
      " 40%|███▉      | 59/148 [00:28<00:44,  2.01it/s]\u001b[A\n",
      " 41%|████      | 60/148 [00:28<00:43,  2.00it/s]\u001b[A\n",
      " 41%|████      | 61/148 [00:29<00:43,  1.99it/s]\u001b[A\n",
      " 42%|████▏     | 62/148 [00:29<00:43,  1.97it/s]\u001b[A\n",
      " 43%|████▎     | 63/148 [00:30<00:43,  1.96it/s]\u001b[A\n",
      " 43%|████▎     | 64/148 [00:30<00:42,  1.97it/s]\u001b[A\n",
      " 44%|████▍     | 65/148 [00:31<00:42,  1.97it/s]\u001b[A\n",
      " 45%|████▍     | 66/148 [00:31<00:41,  1.99it/s]\u001b[A\n",
      " 45%|████▌     | 67/148 [00:32<00:40,  2.01it/s]\u001b[A\n",
      " 46%|████▌     | 68/148 [00:32<00:39,  2.03it/s]\u001b[A\n",
      " 47%|████▋     | 69/148 [00:33<00:39,  2.01it/s]\u001b[A\n",
      " 47%|████▋     | 70/148 [00:33<00:38,  2.00it/s]\u001b[A\n",
      " 48%|████▊     | 71/148 [00:34<00:38,  1.98it/s]\u001b[A\n",
      " 49%|████▊     | 72/148 [00:34<00:38,  1.99it/s]\u001b[A\n",
      " 49%|████▉     | 73/148 [00:35<00:37,  1.99it/s]\u001b[A\n",
      " 50%|█████     | 74/148 [00:35<00:37,  1.99it/s]\u001b[A\n",
      " 51%|█████     | 75/148 [00:36<00:36,  1.98it/s]\u001b[A\n",
      " 51%|█████▏    | 76/148 [00:36<00:36,  1.97it/s]\u001b[A\n",
      " 52%|█████▏    | 77/148 [00:37<00:36,  1.97it/s]\u001b[A\n",
      " 53%|█████▎    | 78/148 [00:37<00:35,  1.97it/s]\u001b[A\n",
      " 53%|█████▎    | 79/148 [00:38<00:34,  1.98it/s]\u001b[A\n",
      " 54%|█████▍    | 80/148 [00:38<00:34,  1.97it/s]\u001b[A\n",
      " 55%|█████▍    | 81/148 [00:39<00:34,  1.97it/s]\u001b[A\n",
      " 55%|█████▌    | 82/148 [00:39<00:33,  1.96it/s]\u001b[A\n",
      " 56%|█████▌    | 83/148 [00:40<00:32,  1.97it/s]\u001b[A\n",
      " 57%|█████▋    | 84/148 [00:40<00:32,  1.98it/s]\u001b[A\n",
      " 57%|█████▋    | 85/148 [00:41<00:31,  1.98it/s]\u001b[A\n",
      " 58%|█████▊    | 86/148 [00:41<00:31,  1.97it/s]\u001b[A\n",
      " 59%|█████▉    | 87/148 [00:42<00:30,  1.97it/s]\u001b[A\n",
      " 59%|█████▉    | 88/148 [00:43<00:30,  1.94it/s]\u001b[A\n",
      " 60%|██████    | 89/148 [00:43<00:30,  1.94it/s]\u001b[A\n",
      " 61%|██████    | 90/148 [00:44<00:29,  1.95it/s]\u001b[A\n",
      " 61%|██████▏   | 91/148 [00:44<00:29,  1.94it/s]\u001b[A\n",
      " 62%|██████▏   | 92/148 [00:45<00:28,  1.96it/s]\u001b[A\n",
      " 63%|██████▎   | 93/148 [00:45<00:28,  1.91it/s]\u001b[A\n",
      " 64%|██████▎   | 94/148 [00:46<00:28,  1.93it/s]\u001b[A\n",
      " 64%|██████▍   | 95/148 [00:46<00:27,  1.94it/s]\u001b[A\n",
      " 65%|██████▍   | 96/148 [00:47<00:26,  1.95it/s]\u001b[A\n",
      " 66%|██████▌   | 97/148 [00:47<00:26,  1.95it/s]\u001b[A\n",
      " 66%|██████▌   | 98/148 [00:48<00:25,  1.96it/s]\u001b[A\n",
      " 67%|██████▋   | 99/148 [00:48<00:24,  1.97it/s]\u001b[A\n",
      " 68%|██████▊   | 100/148 [00:49<00:24,  1.93it/s]\u001b[A\n",
      " 68%|██████▊   | 101/148 [00:49<00:24,  1.89it/s]\u001b[A\n",
      " 69%|██████▉   | 102/148 [00:50<00:23,  1.92it/s]\u001b[A\n",
      " 70%|██████▉   | 103/148 [00:50<00:23,  1.91it/s]\u001b[A\n",
      " 70%|███████   | 104/148 [00:51<00:23,  1.88it/s]\u001b[A\n",
      " 71%|███████   | 105/148 [00:51<00:22,  1.88it/s]\u001b[A\n",
      " 72%|███████▏  | 106/148 [00:52<00:21,  1.91it/s]\u001b[A\n",
      " 72%|███████▏  | 107/148 [00:52<00:20,  1.96it/s]\u001b[A\n",
      " 73%|███████▎  | 108/148 [00:53<00:20,  1.99it/s]\u001b[A\n",
      " 74%|███████▎  | 109/148 [00:53<00:19,  2.01it/s]\u001b[A\n",
      " 74%|███████▍  | 110/148 [00:54<00:18,  2.03it/s]\u001b[A\n",
      " 75%|███████▌  | 111/148 [00:54<00:18,  2.05it/s]\u001b[A\n",
      " 76%|███████▌  | 112/148 [00:55<00:17,  2.09it/s]\u001b[A\n",
      " 76%|███████▋  | 113/148 [00:55<00:16,  2.11it/s]\u001b[A\n",
      " 77%|███████▋  | 114/148 [00:56<00:15,  2.13it/s]\u001b[A\n",
      " 78%|███████▊  | 115/148 [00:56<00:15,  2.14it/s]\u001b[A\n",
      " 78%|███████▊  | 116/148 [00:57<00:15,  2.10it/s]\u001b[A\n",
      " 79%|███████▉  | 117/148 [00:57<00:14,  2.09it/s]\u001b[A\n",
      " 80%|███████▉  | 118/148 [00:58<00:14,  2.08it/s]\u001b[A\n",
      " 80%|████████  | 119/148 [00:58<00:13,  2.08it/s]\u001b[A\n",
      " 81%|████████  | 120/148 [00:59<00:13,  2.08it/s]\u001b[A\n",
      " 82%|████████▏ | 121/148 [00:59<00:13,  2.06it/s]\u001b[A\n",
      " 82%|████████▏ | 122/148 [00:59<00:12,  2.11it/s]\u001b[A\n",
      " 83%|████████▎ | 123/148 [01:00<00:11,  2.13it/s]\u001b[A\n",
      " 84%|████████▍ | 124/148 [01:00<00:11,  2.14it/s]\u001b[A\n",
      " 84%|████████▍ | 125/148 [01:01<00:10,  2.14it/s]\u001b[A\n",
      " 85%|████████▌ | 126/148 [01:01<00:10,  2.15it/s]\u001b[A\n",
      " 86%|████████▌ | 127/148 [01:02<00:09,  2.14it/s]\u001b[A\n",
      " 86%|████████▋ | 128/148 [01:02<00:09,  2.16it/s]\u001b[A\n",
      " 87%|████████▋ | 129/148 [01:03<00:08,  2.15it/s]\u001b[A\n",
      " 88%|████████▊ | 130/148 [01:03<00:08,  2.16it/s]\u001b[A\n",
      " 89%|████████▊ | 131/148 [01:04<00:08,  2.12it/s]\u001b[A\n",
      " 89%|████████▉ | 132/148 [01:04<00:07,  2.10it/s]\u001b[A\n",
      " 90%|████████▉ | 133/148 [01:05<00:07,  2.09it/s]\u001b[A\n",
      " 91%|█████████ | 134/148 [01:05<00:06,  2.07it/s]\u001b[A\n",
      " 91%|█████████ | 135/148 [01:06<00:06,  2.08it/s]\u001b[A\n",
      " 92%|█████████▏| 136/148 [01:06<00:05,  2.07it/s]\u001b[A\n",
      " 93%|█████████▎| 137/148 [01:07<00:05,  2.05it/s]\u001b[A\n",
      " 93%|█████████▎| 138/148 [01:07<00:04,  2.04it/s]\u001b[A\n",
      " 94%|█████████▍| 139/148 [01:08<00:04,  2.05it/s]\u001b[A\n",
      " 95%|█████████▍| 140/148 [01:08<00:03,  2.04it/s]\u001b[A\n",
      " 95%|█████████▌| 141/148 [01:09<00:03,  2.01it/s]\u001b[A\n",
      " 96%|█████████▌| 142/148 [01:09<00:02,  2.02it/s]\u001b[A\n",
      " 97%|█████████▋| 143/148 [01:10<00:02,  2.03it/s]\u001b[A\n",
      " 97%|█████████▋| 144/148 [01:10<00:01,  2.02it/s]\u001b[A\n",
      " 98%|█████████▊| 145/148 [01:11<00:01,  2.02it/s]\u001b[A\n",
      " 99%|█████████▊| 146/148 [01:11<00:00,  2.03it/s]\u001b[A\n",
      " 99%|█████████▉| 147/148 [01:12<00:00,  1.98it/s]\u001b[A\n",
      "100%|██████████| 148/148 [01:12<00:00,  2.04it/s]\u001b[A\n"
     ]
    }
   ],
   "source": [
    "#to add color use RBGA, where each pixel has 3 values for RBG and last for intensity\n",
    "frame_range = (100, 150)\n",
    "cells_reshaped_color = np.empty((cells, frame_range[1]-frame_range[0], d1, d2, 4))\n",
    "for cell in tqdm(range(cells)):\n",
    "    A_reshaped = np.reshape(dense_A[:, cell], (d1, d2))\n",
    "    cell_frames = []\n",
    "    for frame in range(frame_range[0], frame_range[1]):\n",
    "        cell_frames.append(np.array([np.dot(A_reshaped, item) for item in [255, 128, 0, results['C'][cell, frame]]]))\n",
    "    \n"
   ]
  },
  {
   "cell_type": "code",
   "execution_count": null,
   "metadata": {},
   "outputs": [],
   "source": []
  },
  {
   "cell_type": "code",
   "execution_count": 19,
   "metadata": {
    "scrolled": true
   },
   "outputs": [
    {
     "data": {
      "text/plain": [
       "(148, 50, 480, 752)"
      ]
     },
     "execution_count": 19,
     "metadata": {},
     "output_type": "execute_result"
    }
   ],
   "source": [
    "np.shape(cells_reshaped)"
   ]
  },
  {
   "cell_type": "code",
   "execution_count": 20,
   "metadata": {},
   "outputs": [],
   "source": [
    "cells_recombined = np.sum(cells_reshaped, axis=0)"
   ]
  },
  {
   "cell_type": "code",
   "execution_count": 21,
   "metadata": {},
   "outputs": [
    {
     "data": {
      "text/plain": [
       "(50, 480, 752)"
      ]
     },
     "execution_count": 21,
     "metadata": {},
     "output_type": "execute_result"
    }
   ],
   "source": [
    "np.shape(cells_recombined)"
   ]
  },
  {
   "cell_type": "code",
   "execution_count": 24,
   "metadata": {},
   "outputs": [
    {
     "data": {
      "text/plain": [
       "(480, 752)"
      ]
     },
     "execution_count": 24,
     "metadata": {},
     "output_type": "execute_result"
    }
   ],
   "source": [
    "np.shape(cells_recombined[1])"
   ]
  },
  {
   "cell_type": "code",
   "execution_count": 18,
   "metadata": {},
   "outputs": [],
   "source": [
    "hf = h5py.File(results_file[0:-4]+'_demixed_.h5', 'w')"
   ]
  },
  {
   "cell_type": "code",
   "execution_count": 19,
   "metadata": {},
   "outputs": [
    {
     "data": {
      "text/plain": [
       "<HDF5 dataset \"demixed_movie_array\": shape (148, 50, 480, 752), type \"<f8\">"
      ]
     },
     "execution_count": 19,
     "metadata": {},
     "output_type": "execute_result"
    }
   ],
   "source": [
    "hf.create_dataset('demixed_movie_array', data=cells_reshaped )"
   ]
  },
  {
   "cell_type": "code",
   "execution_count": 20,
   "metadata": {},
   "outputs": [],
   "source": [
    "hf.close()"
   ]
  },
  {
   "cell_type": "code",
   "execution_count": 21,
   "metadata": {},
   "outputs": [],
   "source": [
    "cells_recombined = np.sum(cells_reshaped, axis=0)"
   ]
  },
  {
   "cell_type": "code",
   "execution_count": 23,
   "metadata": {
    "scrolled": false
   },
   "outputs": [
    {
     "name": "stderr",
     "output_type": "stream",
     "text": [
      "Lossy conversion from float64 to uint8. Range [-0.3798849567984799, 12.091775452771081]. Convert image to uint8 prior to saving to suppress this warning.\n",
      "Lossy conversion from float64 to uint8. Range [0.0, 11.713751442333251]. Convert image to uint8 prior to saving to suppress this warning.\n",
      "Lossy conversion from float64 to uint8. Range [-1.8520886023244922, 11.34831881789857]. Convert image to uint8 prior to saving to suppress this warning.\n",
      "Lossy conversion from float64 to uint8. Range [-1.2384764332364273, 11.557402771284801]. Convert image to uint8 prior to saving to suppress this warning.\n",
      "Lossy conversion from float64 to uint8. Range [-2.0497256521789264, 11.439661809377398]. Convert image to uint8 prior to saving to suppress this warning.\n",
      "Lossy conversion from float64 to uint8. Range [0.0, 11.32280260335843]. Convert image to uint8 prior to saving to suppress this warning.\n",
      "Lossy conversion from float64 to uint8. Range [-1.7103066350561602, 10.968474789416469]. Convert image to uint8 prior to saving to suppress this warning.\n",
      "Lossy conversion from float64 to uint8. Range [-2.8972205578643315, 11.20289383167857]. Convert image to uint8 prior to saving to suppress this warning.\n",
      "Lossy conversion from float64 to uint8. Range [-2.075168348780621, 11.04487806554852]. Convert image to uint8 prior to saving to suppress this warning.\n",
      "Lossy conversion from float64 to uint8. Range [0.0, 10.694431662906663]. Convert image to uint8 prior to saving to suppress this warning.\n",
      "Lossy conversion from float64 to uint8. Range [0.0, 12.141732026646793]. Convert image to uint8 prior to saving to suppress this warning.\n",
      "Lossy conversion from float64 to uint8. Range [-1.284425891654553, 12.609619450786099]. Convert image to uint8 prior to saving to suppress this warning.\n",
      "Lossy conversion from float64 to uint8. Range [-0.18903587210495235, 12.39192305348956]. Convert image to uint8 prior to saving to suppress this warning.\n",
      "Lossy conversion from float64 to uint8. Range [0.0, 12.006929482533245]. Convert image to uint8 prior to saving to suppress this warning.\n",
      "Lossy conversion from float64 to uint8. Range [0.0, 12.478129673593807]. Convert image to uint8 prior to saving to suppress this warning.\n",
      "Lossy conversion from float64 to uint8. Range [0.0, 12.644963844213233]. Convert image to uint8 prior to saving to suppress this warning.\n",
      "Lossy conversion from float64 to uint8. Range [-0.7677293320624041, 12.249083228871523]. Convert image to uint8 prior to saving to suppress this warning.\n",
      "Lossy conversion from float64 to uint8. Range [-1.0205540517248401, 12.110328937281206]. Convert image to uint8 prior to saving to suppress this warning.\n",
      "Lossy conversion from float64 to uint8. Range [-1.400321964456659, 11.73446552094282]. Convert image to uint8 prior to saving to suppress this warning.\n",
      "Lossy conversion from float64 to uint8. Range [-1.717138734353234, 11.700996108236978]. Convert image to uint8 prior to saving to suppress this warning.\n",
      "Lossy conversion from float64 to uint8. Range [-0.9055611675640303, 11.638075642751748]. Convert image to uint8 prior to saving to suppress this warning.\n",
      "Lossy conversion from float64 to uint8. Range [-0.31295499078869765, 11.49637282318902]. Convert image to uint8 prior to saving to suppress this warning.\n",
      "Lossy conversion from float64 to uint8. Range [-0.8938944816605403, 11.13439866757525]. Convert image to uint8 prior to saving to suppress this warning.\n",
      "Lossy conversion from float64 to uint8. Range [-1.6880088542989775, 11.210520066847252]. Convert image to uint8 prior to saving to suppress this warning.\n",
      "Lossy conversion from float64 to uint8. Range [0.0, 10.856200590907356]. Convert image to uint8 prior to saving to suppress this warning.\n",
      "Lossy conversion from float64 to uint8. Range [0.0, 10.5178670666577]. Convert image to uint8 prior to saving to suppress this warning.\n",
      "Lossy conversion from float64 to uint8. Range [-2.9587275102476327, 11.043463607568086]. Convert image to uint8 prior to saving to suppress this warning.\n",
      "Lossy conversion from float64 to uint8. Range [-1.5666185456697692, 10.688992455603163]. Convert image to uint8 prior to saving to suppress this warning.\n",
      "Lossy conversion from float64 to uint8. Range [0.0, 10.363543847497375]. Convert image to uint8 prior to saving to suppress this warning.\n",
      "Lossy conversion from float64 to uint8. Range [0.0, 10.337975226650283]. Convert image to uint8 prior to saving to suppress this warning.\n",
      "Lossy conversion from float64 to uint8. Range [0.0, 11.328971048888526]. Convert image to uint8 prior to saving to suppress this warning.\n",
      "Lossy conversion from float64 to uint8. Range [-1.5603914975320048, 12.362182324177239]. Convert image to uint8 prior to saving to suppress this warning.\n",
      "Lossy conversion from float64 to uint8. Range [-0.307971883953497, 13.525740551667617]. Convert image to uint8 prior to saving to suppress this warning.\n",
      "Lossy conversion from float64 to uint8. Range [-0.7474169123407969, 13.102689540868845]. Convert image to uint8 prior to saving to suppress this warning.\n",
      "Lossy conversion from float64 to uint8. Range [-1.9074479986470263, 12.788843098545772]. Convert image to uint8 prior to saving to suppress this warning.\n",
      "Lossy conversion from float64 to uint8. Range [-3.7691639184835113, 12.657959572026552]. Convert image to uint8 prior to saving to suppress this warning.\n",
      "Lossy conversion from float64 to uint8. Range [0.0, 12.262313321539558]. Convert image to uint8 prior to saving to suppress this warning.\n",
      "Lossy conversion from float64 to uint8. Range [-4.749909823250465, 11.88004654041618]. Convert image to uint8 prior to saving to suppress this warning.\n",
      "Lossy conversion from float64 to uint8. Range [-1.820894122317144, 11.510636361880634]. Convert image to uint8 prior to saving to suppress this warning.\n",
      "Lossy conversion from float64 to uint8. Range [0.0, 11.160698242705424]. Convert image to uint8 prior to saving to suppress this warning.\n",
      "Lossy conversion from float64 to uint8. Range [-1.0788749076547397, 10.814421077465575]. Convert image to uint8 prior to saving to suppress this warning.\n",
      "Lossy conversion from float64 to uint8. Range [-0.03656365505089486, 10.486366386315911]. Convert image to uint8 prior to saving to suppress this warning.\n",
      "Lossy conversion from float64 to uint8. Range [-2.0171921272906963, 10.161849045080423]. Convert image to uint8 prior to saving to suppress this warning.\n",
      "Lossy conversion from float64 to uint8. Range [-4.56638202635757, 10.441445156742766]. Convert image to uint8 prior to saving to suppress this warning.\n",
      "Lossy conversion from float64 to uint8. Range [0.0, 10.431141557411827]. Convert image to uint8 prior to saving to suppress this warning.\n",
      "Lossy conversion from float64 to uint8. Range [-1.1864605985644041, 10.572937495586253]. Convert image to uint8 prior to saving to suppress this warning.\n",
      "Lossy conversion from float64 to uint8. Range [-2.937762529770804, 10.53618527285435]. Convert image to uint8 prior to saving to suppress this warning.\n",
      "Lossy conversion from float64 to uint8. Range [-1.4794575929047302, 10.545837998188428]. Convert image to uint8 prior to saving to suppress this warning.\n",
      "Lossy conversion from float64 to uint8. Range [-2.5402727782852503, 10.466896678349578]. Convert image to uint8 prior to saving to suppress this warning.\n",
      "Lossy conversion from float64 to uint8. Range [0.0, 10.921580267749377]. Convert image to uint8 prior to saving to suppress this warning.\n"
     ]
    }
   ],
   "source": [
    "imageio.mimwrite(results_file[0:-4]+'_demixed_.mp4', cells_recombined, fps = 20)"
   ]
  },
  {
   "cell_type": "code",
   "execution_count": 5,
   "metadata": {},
   "outputs": [
    {
     "name": "stderr",
     "output_type": "stream",
     "text": [
      "/Users/johnmarshall/miniconda3/envs/caiman/lib/python3.6/site-packages/ipykernel_launcher.py:5: FutureWarning: read_table is deprecated, use read_csv instead, passing sep='\\t'.\n",
      "  \"\"\"\n"
     ]
    }
   ],
   "source": [
    "## recombine demixed video with behavior data \n",
    "cnmfe_range = (0, 150)\n",
    "dir_path = '/Volumes/My_Passport/cnmfe_analysis_files/GRIN011/'\n",
    "frame_clock_info = 'timestamp.dat'\n",
    "frame_clock_df = pd.read_table(dir_path+frame_clock_info)\n",
    "\n",
    "# load time stamps \n",
    "msCam_timestamps = frame_clock_df[frame_clock_df['camNum'] == 0].set_index('frameNum')[cnmfe_range[0]:cnmfe_range[1]]\n",
    "behavCam_timestamps = frame_clock_df[frame_clock_df['camNum'] == 1].set_index('frameNum')\n",
    "# reset initial clock value to 0 \n",
    "msCam_timestamps['sysClock'][1] = 0\n",
    "behavCam_timestamps['sysClock'][1] = 0"
   ]
  },
  {
   "cell_type": "code",
   "execution_count": 7,
   "metadata": {},
   "outputs": [
    {
     "name": "stderr",
     "output_type": "stream",
     "text": [
      "100%|██████████| 150/150 [00:01<00:00, 89.27it/s]\n"
     ]
    },
    {
     "data": {
      "text/html": [
       "<div>\n",
       "<style scoped>\n",
       "    .dataframe tbody tr th:only-of-type {\n",
       "        vertical-align: middle;\n",
       "    }\n",
       "\n",
       "    .dataframe tbody tr th {\n",
       "        vertical-align: top;\n",
       "    }\n",
       "\n",
       "    .dataframe thead th {\n",
       "        text-align: right;\n",
       "    }\n",
       "</style>\n",
       "<table border=\"1\" class=\"dataframe\">\n",
       "  <thead>\n",
       "    <tr style=\"text-align: right;\">\n",
       "      <th></th>\n",
       "      <th>frameNum</th>\n",
       "      <th>camNum</th>\n",
       "      <th>sysClock</th>\n",
       "      <th>buffer</th>\n",
       "      <th>behavCam_frames</th>\n",
       "      <th>sys_clock_behavCam</th>\n",
       "    </tr>\n",
       "  </thead>\n",
       "  <tbody>\n",
       "    <tr>\n",
       "      <th>0</th>\n",
       "      <td>1</td>\n",
       "      <td>0</td>\n",
       "      <td>0</td>\n",
       "      <td>1</td>\n",
       "      <td>1</td>\n",
       "      <td>0</td>\n",
       "    </tr>\n",
       "    <tr>\n",
       "      <th>1</th>\n",
       "      <td>2</td>\n",
       "      <td>0</td>\n",
       "      <td>7</td>\n",
       "      <td>1</td>\n",
       "      <td>1</td>\n",
       "      <td>0</td>\n",
       "    </tr>\n",
       "    <tr>\n",
       "      <th>2</th>\n",
       "      <td>3</td>\n",
       "      <td>0</td>\n",
       "      <td>58</td>\n",
       "      <td>1</td>\n",
       "      <td>3</td>\n",
       "      <td>47</td>\n",
       "    </tr>\n",
       "    <tr>\n",
       "      <th>3</th>\n",
       "      <td>4</td>\n",
       "      <td>0</td>\n",
       "      <td>108</td>\n",
       "      <td>1</td>\n",
       "      <td>5</td>\n",
       "      <td>111</td>\n",
       "    </tr>\n",
       "    <tr>\n",
       "      <th>4</th>\n",
       "      <td>5</td>\n",
       "      <td>0</td>\n",
       "      <td>158</td>\n",
       "      <td>1</td>\n",
       "      <td>6</td>\n",
       "      <td>143</td>\n",
       "    </tr>\n",
       "  </tbody>\n",
       "</table>\n",
       "</div>"
      ],
      "text/plain": [
       "   frameNum  camNum  sysClock  buffer  behavCam_frames  sys_clock_behavCam\n",
       "0         1       0         0       1                1                   0\n",
       "1         2       0         7       1                1                   0\n",
       "2         3       0        58       1                3                  47\n",
       "3         4       0       108       1                5                 111\n",
       "4         5       0       158       1                6                 143"
      ]
     },
     "execution_count": 7,
     "metadata": {},
     "output_type": "execute_result"
    }
   ],
   "source": [
    "# create df to find matched behavior cam frames\n",
    "msCam_timestamps = jjm_utils.align_behavior_data(msCam_timestamps, behavCam_timestamps)\n",
    "msCam_timestamps.reset_index(inplace=True)\n",
    "msCam_timestamps.head()"
   ]
  },
  {
   "cell_type": "code",
   "execution_count": 9,
   "metadata": {},
   "outputs": [],
   "source": [
    "# \n",
    "reader = imageio.get_reader('/Volumes/My_Passport/cnmfe_analysis_files/GRIN011/behavCam1.avi')"
   ]
  },
  {
   "cell_type": "code",
   "execution_count": 18,
   "metadata": {
    "scrolled": true
   },
   "outputs": [],
   "source": [
    "bd1, bd2 = reader.get_meta_data()['size']"
   ]
  },
  {
   "cell_type": "code",
   "execution_count": 28,
   "metadata": {},
   "outputs": [
    {
     "data": {
      "text/plain": [
       "True"
      ]
     },
     "execution_count": 28,
     "metadata": {},
     "output_type": "execute_result"
    }
   ],
   "source": [
    "1 in msCam_timestamps['behavCam_frames'].values"
   ]
  },
  {
   "cell_type": "code",
   "execution_count": 35,
   "metadata": {},
   "outputs": [],
   "source": [
    "behavior_adjusted = np.empty((cnmfe_range[1], bd2, bd1, 3))    \n",
    "#for frame in range(cnmfe_range[0], cnmfe_range[1])\n",
    "frame = 0\n",
    "for i, im in enumerate(reader):\n",
    "    if 1 in msCam_timestamps['behavCam_frames'].values:\n",
    "        behavior_adjusted[0] = im\n",
    "        "
   ]
  },
  {
   "cell_type": "code",
   "execution_count": 36,
   "metadata": {},
   "outputs": [
    {
     "name": "stderr",
     "output_type": "stream",
     "text": [
      "WARNING:root:Lossy conversion from float64 to uint8. Range [133.0, 254.0]. Convert image to uint8 prior to saving to suppress this warning.\n",
      "WARNING:root:IMAGEIO FFMPEG_WRITER WARNING: input image is not divisible by macro_block_size=16, resizing from (469, 479) to (480, 480) to ensure video compatibility with most codecs and players. To prevent resizing, make your input image divisible by the macro_block_size or set the macro_block_size to None (risking incompatibility). You may also see a FFMPEG warning concerning speedloss due to data not being aligned.\n",
      "WARNING:root:Lossy conversion from float64 to uint8. Range [0, 1]. Convert image to uint8 prior to saving to suppress this warning.\n",
      "WARNING:root:Lossy conversion from float64 to uint8. Range [0, 1]. Convert image to uint8 prior to saving to suppress this warning.\n",
      "WARNING:root:Lossy conversion from float64 to uint8. Range [0, 1]. Convert image to uint8 prior to saving to suppress this warning.\n",
      "WARNING:root:Lossy conversion from float64 to uint8. Range [0, 1]. Convert image to uint8 prior to saving to suppress this warning.\n",
      "WARNING:root:Lossy conversion from float64 to uint8. Range [0, 1]. Convert image to uint8 prior to saving to suppress this warning.\n",
      "WARNING:root:Lossy conversion from float64 to uint8. Range [0, 1]. Convert image to uint8 prior to saving to suppress this warning.\n",
      "WARNING:root:Lossy conversion from float64 to uint8. Range [0, 1]. Convert image to uint8 prior to saving to suppress this warning.\n",
      "WARNING:root:Lossy conversion from float64 to uint8. Range [0, 1]. Convert image to uint8 prior to saving to suppress this warning.\n",
      "WARNING:root:Lossy conversion from float64 to uint8. Range [0, 1]. Convert image to uint8 prior to saving to suppress this warning.\n",
      "WARNING:root:Lossy conversion from float64 to uint8. Range [0, 1]. Convert image to uint8 prior to saving to suppress this warning.\n",
      "WARNING:root:Lossy conversion from float64 to uint8. Range [0, 1]. Convert image to uint8 prior to saving to suppress this warning.\n",
      "WARNING:root:Lossy conversion from float64 to uint8. Range [0, 1]. Convert image to uint8 prior to saving to suppress this warning.\n",
      "WARNING:root:Lossy conversion from float64 to uint8. Range [0, 1]. Convert image to uint8 prior to saving to suppress this warning.\n",
      "WARNING:root:Lossy conversion from float64 to uint8. Range [0, 1]. Convert image to uint8 prior to saving to suppress this warning.\n",
      "WARNING:root:Lossy conversion from float64 to uint8. Range [0, 1]. Convert image to uint8 prior to saving to suppress this warning.\n",
      "WARNING:root:Lossy conversion from float64 to uint8. Range [0, 1]. Convert image to uint8 prior to saving to suppress this warning.\n",
      "WARNING:root:Lossy conversion from float64 to uint8. Range [0, 1]. Convert image to uint8 prior to saving to suppress this warning.\n",
      "WARNING:root:Lossy conversion from float64 to uint8. Range [0, 1]. Convert image to uint8 prior to saving to suppress this warning.\n",
      "WARNING:root:Lossy conversion from float64 to uint8. Range [0, 1]. Convert image to uint8 prior to saving to suppress this warning.\n",
      "WARNING:root:Lossy conversion from float64 to uint8. Range [0, 1]. Convert image to uint8 prior to saving to suppress this warning.\n",
      "WARNING:root:Lossy conversion from float64 to uint8. Range [0, 1]. Convert image to uint8 prior to saving to suppress this warning.\n",
      "WARNING:root:Lossy conversion from float64 to uint8. Range [0, 1]. Convert image to uint8 prior to saving to suppress this warning.\n",
      "WARNING:root:Lossy conversion from float64 to uint8. Range [0, 1]. Convert image to uint8 prior to saving to suppress this warning.\n",
      "WARNING:root:Lossy conversion from float64 to uint8. Range [0, 1]. Convert image to uint8 prior to saving to suppress this warning.\n",
      "WARNING:root:Lossy conversion from float64 to uint8. Range [0, 1]. Convert image to uint8 prior to saving to suppress this warning.\n",
      "WARNING:root:Lossy conversion from float64 to uint8. Range [0, 1]. Convert image to uint8 prior to saving to suppress this warning.\n",
      "WARNING:root:Lossy conversion from float64 to uint8. Range [0, 1]. Convert image to uint8 prior to saving to suppress this warning.\n",
      "WARNING:root:Lossy conversion from float64 to uint8. Range [0, 1]. Convert image to uint8 prior to saving to suppress this warning.\n",
      "WARNING:root:Lossy conversion from float64 to uint8. Range [0, 1]. Convert image to uint8 prior to saving to suppress this warning.\n",
      "WARNING:root:Lossy conversion from float64 to uint8. Range [0, 1]. Convert image to uint8 prior to saving to suppress this warning.\n",
      "WARNING:root:Lossy conversion from float64 to uint8. Range [0, 1]. Convert image to uint8 prior to saving to suppress this warning.\n",
      "WARNING:root:Lossy conversion from float64 to uint8. Range [0, 1]. Convert image to uint8 prior to saving to suppress this warning.\n",
      "WARNING:root:Lossy conversion from float64 to uint8. Range [0, 1]. Convert image to uint8 prior to saving to suppress this warning.\n",
      "WARNING:root:Lossy conversion from float64 to uint8. Range [0, 1]. Convert image to uint8 prior to saving to suppress this warning.\n",
      "WARNING:root:Lossy conversion from float64 to uint8. Range [0, 1]. Convert image to uint8 prior to saving to suppress this warning.\n",
      "WARNING:root:Lossy conversion from float64 to uint8. Range [0, 1]. Convert image to uint8 prior to saving to suppress this warning.\n",
      "WARNING:root:Lossy conversion from float64 to uint8. Range [0, 1]. Convert image to uint8 prior to saving to suppress this warning.\n",
      "WARNING:root:Lossy conversion from float64 to uint8. Range [0, 1]. Convert image to uint8 prior to saving to suppress this warning.\n",
      "WARNING:root:Lossy conversion from float64 to uint8. Range [0, 1]. Convert image to uint8 prior to saving to suppress this warning.\n",
      "WARNING:root:Lossy conversion from float64 to uint8. Range [0, 1]. Convert image to uint8 prior to saving to suppress this warning.\n",
      "WARNING:root:Lossy conversion from float64 to uint8. Range [0, 1]. Convert image to uint8 prior to saving to suppress this warning.\n",
      "WARNING:root:Lossy conversion from float64 to uint8. Range [0, 1]. Convert image to uint8 prior to saving to suppress this warning.\n",
      "WARNING:root:Lossy conversion from float64 to uint8. Range [0, 1]. Convert image to uint8 prior to saving to suppress this warning.\n",
      "WARNING:root:Lossy conversion from float64 to uint8. Range [0, 1]. Convert image to uint8 prior to saving to suppress this warning.\n",
      "WARNING:root:Lossy conversion from float64 to uint8. Range [0, 1]. Convert image to uint8 prior to saving to suppress this warning.\n",
      "WARNING:root:Lossy conversion from float64 to uint8. Range [0, 1]. Convert image to uint8 prior to saving to suppress this warning.\n",
      "WARNING:root:Lossy conversion from float64 to uint8. Range [0, 1]. Convert image to uint8 prior to saving to suppress this warning.\n",
      "WARNING:root:Lossy conversion from float64 to uint8. Range [0, 1]. Convert image to uint8 prior to saving to suppress this warning.\n",
      "WARNING:root:Lossy conversion from float64 to uint8. Range [0, 1]. Convert image to uint8 prior to saving to suppress this warning.\n",
      "WARNING:root:Lossy conversion from float64 to uint8. Range [0, 1]. Convert image to uint8 prior to saving to suppress this warning.\n",
      "WARNING:root:Lossy conversion from float64 to uint8. Range [0, 1]. Convert image to uint8 prior to saving to suppress this warning.\n",
      "WARNING:root:Lossy conversion from float64 to uint8. Range [0, 1]. Convert image to uint8 prior to saving to suppress this warning.\n",
      "WARNING:root:Lossy conversion from float64 to uint8. Range [0, 1]. Convert image to uint8 prior to saving to suppress this warning.\n",
      "WARNING:root:Lossy conversion from float64 to uint8. Range [0, 1]. Convert image to uint8 prior to saving to suppress this warning.\n",
      "WARNING:root:Lossy conversion from float64 to uint8. Range [0, 1]. Convert image to uint8 prior to saving to suppress this warning.\n",
      "WARNING:root:Lossy conversion from float64 to uint8. Range [0, 1]. Convert image to uint8 prior to saving to suppress this warning.\n",
      "WARNING:root:Lossy conversion from float64 to uint8. Range [0, 1]. Convert image to uint8 prior to saving to suppress this warning.\n",
      "WARNING:root:Lossy conversion from float64 to uint8. Range [0, 1]. Convert image to uint8 prior to saving to suppress this warning.\n"
     ]
    },
    {
     "name": "stderr",
     "output_type": "stream",
     "text": [
      "WARNING:root:Lossy conversion from float64 to uint8. Range [0, 1]. Convert image to uint8 prior to saving to suppress this warning.\n",
      "WARNING:root:Lossy conversion from float64 to uint8. Range [0, 1]. Convert image to uint8 prior to saving to suppress this warning.\n",
      "WARNING:root:Lossy conversion from float64 to uint8. Range [0, 1]. Convert image to uint8 prior to saving to suppress this warning.\n",
      "WARNING:root:Lossy conversion from float64 to uint8. Range [0, 1]. Convert image to uint8 prior to saving to suppress this warning.\n",
      "WARNING:root:Lossy conversion from float64 to uint8. Range [0, 1]. Convert image to uint8 prior to saving to suppress this warning.\n",
      "WARNING:root:Lossy conversion from float64 to uint8. Range [0, 1]. Convert image to uint8 prior to saving to suppress this warning.\n",
      "WARNING:root:Lossy conversion from float64 to uint8. Range [0, 1]. Convert image to uint8 prior to saving to suppress this warning.\n",
      "WARNING:root:Lossy conversion from float64 to uint8. Range [0, 1]. Convert image to uint8 prior to saving to suppress this warning.\n",
      "WARNING:root:Lossy conversion from float64 to uint8. Range [0, 1]. Convert image to uint8 prior to saving to suppress this warning.\n",
      "WARNING:root:Lossy conversion from float64 to uint8. Range [0, 1]. Convert image to uint8 prior to saving to suppress this warning.\n",
      "WARNING:root:Lossy conversion from float64 to uint8. Range [0, 1]. Convert image to uint8 prior to saving to suppress this warning.\n",
      "WARNING:root:Lossy conversion from float64 to uint8. Range [0, 1]. Convert image to uint8 prior to saving to suppress this warning.\n",
      "WARNING:root:Lossy conversion from float64 to uint8. Range [0, 1]. Convert image to uint8 prior to saving to suppress this warning.\n",
      "WARNING:root:Lossy conversion from float64 to uint8. Range [0, 1]. Convert image to uint8 prior to saving to suppress this warning.\n",
      "WARNING:root:Lossy conversion from float64 to uint8. Range [0, 1]. Convert image to uint8 prior to saving to suppress this warning.\n",
      "WARNING:root:Lossy conversion from float64 to uint8. Range [0, 1]. Convert image to uint8 prior to saving to suppress this warning.\n",
      "WARNING:root:Lossy conversion from float64 to uint8. Range [0, 1]. Convert image to uint8 prior to saving to suppress this warning.\n",
      "WARNING:root:Lossy conversion from float64 to uint8. Range [0, 1]. Convert image to uint8 prior to saving to suppress this warning.\n",
      "WARNING:root:Lossy conversion from float64 to uint8. Range [0, 1]. Convert image to uint8 prior to saving to suppress this warning.\n",
      "WARNING:root:Lossy conversion from float64 to uint8. Range [0, 1]. Convert image to uint8 prior to saving to suppress this warning.\n",
      "WARNING:root:Lossy conversion from float64 to uint8. Range [0, 1]. Convert image to uint8 prior to saving to suppress this warning.\n",
      "WARNING:root:Lossy conversion from float64 to uint8. Range [0, 1]. Convert image to uint8 prior to saving to suppress this warning.\n",
      "WARNING:root:Lossy conversion from float64 to uint8. Range [0, 1]. Convert image to uint8 prior to saving to suppress this warning.\n",
      "WARNING:root:Lossy conversion from float64 to uint8. Range [0, 1]. Convert image to uint8 prior to saving to suppress this warning.\n",
      "WARNING:root:Lossy conversion from float64 to uint8. Range [0, 1]. Convert image to uint8 prior to saving to suppress this warning.\n",
      "WARNING:root:Lossy conversion from float64 to uint8. Range [0, 1]. Convert image to uint8 prior to saving to suppress this warning.\n",
      "WARNING:root:Lossy conversion from float64 to uint8. Range [0, 1]. Convert image to uint8 prior to saving to suppress this warning.\n",
      "WARNING:root:Lossy conversion from float64 to uint8. Range [0, 1]. Convert image to uint8 prior to saving to suppress this warning.\n",
      "WARNING:root:Lossy conversion from float64 to uint8. Range [0, 1]. Convert image to uint8 prior to saving to suppress this warning.\n",
      "WARNING:root:Lossy conversion from float64 to uint8. Range [0, 1]. Convert image to uint8 prior to saving to suppress this warning.\n",
      "WARNING:root:Lossy conversion from float64 to uint8. Range [0, 1]. Convert image to uint8 prior to saving to suppress this warning.\n",
      "WARNING:root:Lossy conversion from float64 to uint8. Range [0, 1]. Convert image to uint8 prior to saving to suppress this warning.\n",
      "WARNING:root:Lossy conversion from float64 to uint8. Range [0, 1]. Convert image to uint8 prior to saving to suppress this warning.\n",
      "WARNING:root:Lossy conversion from float64 to uint8. Range [0, 1]. Convert image to uint8 prior to saving to suppress this warning.\n",
      "WARNING:root:Lossy conversion from float64 to uint8. Range [0, 1]. Convert image to uint8 prior to saving to suppress this warning.\n",
      "WARNING:root:Lossy conversion from float64 to uint8. Range [0, 1]. Convert image to uint8 prior to saving to suppress this warning.\n",
      "WARNING:root:Lossy conversion from float64 to uint8. Range [0, 1]. Convert image to uint8 prior to saving to suppress this warning.\n",
      "WARNING:root:Lossy conversion from float64 to uint8. Range [0, 1]. Convert image to uint8 prior to saving to suppress this warning.\n",
      "WARNING:root:Lossy conversion from float64 to uint8. Range [0, 1]. Convert image to uint8 prior to saving to suppress this warning.\n",
      "WARNING:root:Lossy conversion from float64 to uint8. Range [0, 1]. Convert image to uint8 prior to saving to suppress this warning.\n",
      "WARNING:root:Lossy conversion from float64 to uint8. Range [0, 1]. Convert image to uint8 prior to saving to suppress this warning.\n",
      "WARNING:root:Lossy conversion from float64 to uint8. Range [0, 1]. Convert image to uint8 prior to saving to suppress this warning.\n",
      "WARNING:root:Lossy conversion from float64 to uint8. Range [0, 1]. Convert image to uint8 prior to saving to suppress this warning.\n",
      "WARNING:root:Lossy conversion from float64 to uint8. Range [0, 1]. Convert image to uint8 prior to saving to suppress this warning.\n",
      "WARNING:root:Lossy conversion from float64 to uint8. Range [0, 1]. Convert image to uint8 prior to saving to suppress this warning.\n",
      "WARNING:root:Lossy conversion from float64 to uint8. Range [0, 1]. Convert image to uint8 prior to saving to suppress this warning.\n",
      "WARNING:root:Lossy conversion from float64 to uint8. Range [0, 1]. Convert image to uint8 prior to saving to suppress this warning.\n",
      "WARNING:root:Lossy conversion from float64 to uint8. Range [0, 1]. Convert image to uint8 prior to saving to suppress this warning.\n",
      "WARNING:root:Lossy conversion from float64 to uint8. Range [0, 1]. Convert image to uint8 prior to saving to suppress this warning.\n",
      "WARNING:root:Lossy conversion from float64 to uint8. Range [0, 1]. Convert image to uint8 prior to saving to suppress this warning.\n",
      "WARNING:root:Lossy conversion from float64 to uint8. Range [0, 1]. Convert image to uint8 prior to saving to suppress this warning.\n",
      "WARNING:root:Lossy conversion from float64 to uint8. Range [0, 1]. Convert image to uint8 prior to saving to suppress this warning.\n",
      "WARNING:root:Lossy conversion from float64 to uint8. Range [0, 1]. Convert image to uint8 prior to saving to suppress this warning.\n",
      "WARNING:root:Lossy conversion from float64 to uint8. Range [0, 1]. Convert image to uint8 prior to saving to suppress this warning.\n",
      "WARNING:root:Lossy conversion from float64 to uint8. Range [0, 1]. Convert image to uint8 prior to saving to suppress this warning.\n",
      "WARNING:root:Lossy conversion from float64 to uint8. Range [0, 1]. Convert image to uint8 prior to saving to suppress this warning.\n",
      "WARNING:root:Lossy conversion from float64 to uint8. Range [0, 1]. Convert image to uint8 prior to saving to suppress this warning.\n",
      "WARNING:root:Lossy conversion from float64 to uint8. Range [0, 1]. Convert image to uint8 prior to saving to suppress this warning.\n",
      "WARNING:root:Lossy conversion from float64 to uint8. Range [0, 1]. Convert image to uint8 prior to saving to suppress this warning.\n",
      "WARNING:root:Lossy conversion from float64 to uint8. Range [0, 1]. Convert image to uint8 prior to saving to suppress this warning.\n",
      "WARNING:root:Lossy conversion from float64 to uint8. Range [0, 1]. Convert image to uint8 prior to saving to suppress this warning.\n",
      "WARNING:root:Lossy conversion from float64 to uint8. Range [0, 1]. Convert image to uint8 prior to saving to suppress this warning.\n",
      "WARNING:root:Lossy conversion from float64 to uint8. Range [0, 1]. Convert image to uint8 prior to saving to suppress this warning.\n"
     ]
    },
    {
     "name": "stderr",
     "output_type": "stream",
     "text": [
      "WARNING:root:Lossy conversion from float64 to uint8. Range [0, 1]. Convert image to uint8 prior to saving to suppress this warning.\n",
      "WARNING:root:Lossy conversion from float64 to uint8. Range [0, 1]. Convert image to uint8 prior to saving to suppress this warning.\n",
      "WARNING:root:Lossy conversion from float64 to uint8. Range [0, 1]. Convert image to uint8 prior to saving to suppress this warning.\n",
      "WARNING:root:Lossy conversion from float64 to uint8. Range [0, 1]. Convert image to uint8 prior to saving to suppress this warning.\n",
      "WARNING:root:Lossy conversion from float64 to uint8. Range [0, 1]. Convert image to uint8 prior to saving to suppress this warning.\n",
      "WARNING:root:Lossy conversion from float64 to uint8. Range [0, 1]. Convert image to uint8 prior to saving to suppress this warning.\n",
      "WARNING:root:Lossy conversion from float64 to uint8. Range [0, 1]. Convert image to uint8 prior to saving to suppress this warning.\n",
      "WARNING:root:Lossy conversion from float64 to uint8. Range [0, 1]. Convert image to uint8 prior to saving to suppress this warning.\n",
      "WARNING:root:Lossy conversion from float64 to uint8. Range [0, 1]. Convert image to uint8 prior to saving to suppress this warning.\n",
      "WARNING:root:Lossy conversion from float64 to uint8. Range [0, 1]. Convert image to uint8 prior to saving to suppress this warning.\n",
      "WARNING:root:Lossy conversion from float64 to uint8. Range [0, 1]. Convert image to uint8 prior to saving to suppress this warning.\n",
      "WARNING:root:Lossy conversion from float64 to uint8. Range [0, 1]. Convert image to uint8 prior to saving to suppress this warning.\n",
      "WARNING:root:Lossy conversion from float64 to uint8. Range [0, 1]. Convert image to uint8 prior to saving to suppress this warning.\n",
      "WARNING:root:Lossy conversion from float64 to uint8. Range [0, 1]. Convert image to uint8 prior to saving to suppress this warning.\n",
      "WARNING:root:Lossy conversion from float64 to uint8. Range [0, 1]. Convert image to uint8 prior to saving to suppress this warning.\n",
      "WARNING:root:Lossy conversion from float64 to uint8. Range [0, 1]. Convert image to uint8 prior to saving to suppress this warning.\n",
      "WARNING:root:Lossy conversion from float64 to uint8. Range [0, 1]. Convert image to uint8 prior to saving to suppress this warning.\n",
      "WARNING:root:Lossy conversion from float64 to uint8. Range [0, 1]. Convert image to uint8 prior to saving to suppress this warning.\n",
      "WARNING:root:Lossy conversion from float64 to uint8. Range [0, 1]. Convert image to uint8 prior to saving to suppress this warning.\n",
      "WARNING:root:Lossy conversion from float64 to uint8. Range [0, 1]. Convert image to uint8 prior to saving to suppress this warning.\n",
      "WARNING:root:Lossy conversion from float64 to uint8. Range [0, 1]. Convert image to uint8 prior to saving to suppress this warning.\n",
      "WARNING:root:Lossy conversion from float64 to uint8. Range [0, 1]. Convert image to uint8 prior to saving to suppress this warning.\n",
      "WARNING:root:Lossy conversion from float64 to uint8. Range [0, 1]. Convert image to uint8 prior to saving to suppress this warning.\n",
      "WARNING:root:Lossy conversion from float64 to uint8. Range [0, 1]. Convert image to uint8 prior to saving to suppress this warning.\n",
      "WARNING:root:Lossy conversion from float64 to uint8. Range [0, 1]. Convert image to uint8 prior to saving to suppress this warning.\n",
      "WARNING:root:Lossy conversion from float64 to uint8. Range [0, 1]. Convert image to uint8 prior to saving to suppress this warning.\n",
      "WARNING:root:Lossy conversion from float64 to uint8. Range [0, 1]. Convert image to uint8 prior to saving to suppress this warning.\n",
      "WARNING:root:Lossy conversion from float64 to uint8. Range [0, 1]. Convert image to uint8 prior to saving to suppress this warning.\n"
     ]
    }
   ],
   "source": [
    "# combine those matched frames into a video\n",
    "\n",
    "imageio.mimwrite('/Volumes/My_Passport/cnmfe_analysis_files/GRIN011/behavior_adjusted.mp4', behavior_adjusted, fps = 20)"
   ]
  },
  {
   "cell_type": "code",
   "execution_count": null,
   "metadata": {},
   "outputs": [],
   "source": []
  }
 ],
 "metadata": {
  "kernelspec": {
   "display_name": "caiman",
   "language": "python",
   "name": "caiman"
  },
  "language_info": {
   "codemirror_mode": {
    "name": "ipython",
    "version": 3
   },
   "file_extension": ".py",
   "mimetype": "text/x-python",
   "name": "python",
   "nbconvert_exporter": "python",
   "pygments_lexer": "ipython3",
   "version": "3.6.7"
  }
 },
 "nbformat": 4,
 "nbformat_minor": 2
}
