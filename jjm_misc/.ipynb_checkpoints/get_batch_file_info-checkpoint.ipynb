{
 "cells": [
  {
   "cell_type": "code",
   "execution_count": 3,
   "metadata": {},
   "outputs": [
    {
     "data": {
      "text/html": [
       "<style>.container { width:90% !important; }</style>"
      ],
      "text/plain": [
       "<IPython.core.display.HTML object>"
      ]
     },
     "metadata": {},
     "output_type": "display_data"
    }
   ],
   "source": [
    "from IPython.core.display import display, HTML\n",
    "display(HTML(\"<style>.container { width:90% !important; }</style>\"))"
   ]
  },
  {
   "cell_type": "code",
   "execution_count": 28,
   "metadata": {},
   "outputs": [],
   "source": [
    "from matplotlib import pyplot as plt\n",
    "import sys\n",
    "import matplotlib.animation as animation\n",
    "import scipy.sparse as sparse\n",
    "import scipy.io as sio\n",
    "import scipy.stats as stats\n",
    "import scipy.spatial.distance as dist\n",
    "import numpy as np\n",
    "import h5py\n",
    "from tqdm import tqdm\n",
    "import pandas as pd\n",
    "import imageio\n",
    "import os \n",
    "\n",
    "#import tables\n",
    "#import deepdish as dd\n",
    "\n",
    "sys.path.append('/Users/johnmarshall/Documents/Analysis/PythonAnalysisScripts/post_cmfe_analysis')\n",
    "import python_utils_jjm as jjm_utils"
   ]
  },
  {
   "cell_type": "code",
   "execution_count": 55,
   "metadata": {},
   "outputs": [],
   "source": [
    "dir_files = [f_name for f_name in os.listdir('/Volumes/My_Passport/cnmfe_analysis_files/batch_output_files/') if 'out.mat' in f_name]"
   ]
  },
  {
   "cell_type": "code",
   "execution_count": 62,
   "metadata": {},
   "outputs": [],
   "source": [
    "## return a dictionary matching the batch output file to the information from quest directories \n",
    "file_info = {}\n",
    "for file in dir_files:\n",
    "    results = sio.loadmat('/Volumes/My_Passport/cnmfe_analysis_files/batch_output_files/' + file)\n",
    "    file_ids = [results['P'][0][0][13][0][0][0].split('/')[y] for y in range(5, 7)]\n",
    "    file_ids.append([results['P'][0][0][13][batch_folder][0][0].split('/')[7] for batch_folder in range(len(results['P'][0][0][13]))])\n",
    "    file_info[file] = file_ids"
   ]
  },
  {
   "cell_type": "code",
   "execution_count": 63,
   "metadata": {},
   "outputs": [
    {
     "data": {
      "text/plain": [
       "{'12-Mar_21_45_41_out.mat': ['memmap_0000memmap_0004_resized_source_extraction_03_12_20_T_19_58',\n",
       "  'frames_1_5000',\n",
       "  ['LOGS_12-Mar_20_19_01',\n",
       "   'LOGS_12-Mar_20_24_00',\n",
       "   'LOGS_12-Mar_20_28_57',\n",
       "   'LOGS_12-Mar_20_34_27',\n",
       "   'LOGS_12-Mar_20_39_21']],\n",
       " '27-Feb_17_32_15_out.mat': ['GRIN032',\n",
       "  'H17_M30_S22',\n",
       "  ['groupedby5',\n",
       "   'groupedby5',\n",
       "   'groupedby5',\n",
       "   'groupedby5',\n",
       "   'groupedby5',\n",
       "   'groupedby5',\n",
       "   'groupedby5',\n",
       "   'groupedby5',\n",
       "   'groupedby5',\n",
       "   'groupedby5',\n",
       "   'groupedby5',\n",
       "   'groupedby5',\n",
       "   'groupedby5',\n",
       "   'groupedby5',\n",
       "   'groupedby5',\n",
       "   'groupedby5',\n",
       "   'groupedby5',\n",
       "   'groupedby5',\n",
       "   'groupedby5',\n",
       "   'groupedby5',\n",
       "   'groupedby5',\n",
       "   'groupedby5',\n",
       "   'groupedby5',\n",
       "   'groupedby5']],\n",
       " '27-Feb_17_33_59_out.mat': ['GRIN026',\n",
       "  'H16_M35_S34',\n",
       "  ['memmap_0000memmap_0004_resized_source_extraction_02_27_20_T_14_40',\n",
       "   'memmap_0000memmap_0004_resized_source_extraction_02_27_20_T_14_40',\n",
       "   'memmap_0000memmap_0004_resized_source_extraction_02_27_20_T_14_40',\n",
       "   'memmap_0000memmap_0004_resized_source_extraction_02_27_20_T_14_40',\n",
       "   'memmap_0000memmap_0004_resized_source_extraction_02_27_20_T_14_40',\n",
       "   'memmap_0005memmap_0009_resized_source_extraction_02_27_20_T_14_45',\n",
       "   'memmap_0005memmap_0009_resized_source_extraction_02_27_20_T_14_45',\n",
       "   'memmap_0005memmap_0009_resized_source_extraction_02_27_20_T_14_45',\n",
       "   'memmap_0005memmap_0009_resized_source_extraction_02_27_20_T_14_45',\n",
       "   'memmap_0005memmap_0009_resized_source_extraction_02_27_20_T_14_45',\n",
       "   'memmap_0010memmap_0014_resized_source_extraction_02_27_20_T_14_50',\n",
       "   'memmap_0010memmap_0014_resized_source_extraction_02_27_20_T_14_50',\n",
       "   'memmap_0010memmap_0014_resized_source_extraction_02_27_20_T_14_50',\n",
       "   'memmap_0010memmap_0014_resized_source_extraction_02_27_20_T_14_50',\n",
       "   'memmap_0010memmap_0014_resized_source_extraction_02_27_20_T_14_50',\n",
       "   'memmap_0015memmap_0019_resized_source_extraction_02_27_20_T_14_55',\n",
       "   'memmap_0015memmap_0019_resized_source_extraction_02_27_20_T_14_55',\n",
       "   'memmap_0015memmap_0019_resized_source_extraction_02_27_20_T_14_55',\n",
       "   'memmap_0015memmap_0019_resized_source_extraction_02_27_20_T_14_55',\n",
       "   'memmap_0015memmap_0019_resized_source_extraction_02_27_20_T_14_55',\n",
       "   'memmap_0020memmap_0024_resized_source_extraction_02_27_20_T_15_00',\n",
       "   'memmap_0020memmap_0024_resized_source_extraction_02_27_20_T_15_00',\n",
       "   'memmap_0020memmap_0024_resized_source_extraction_02_27_20_T_15_00',\n",
       "   'memmap_0020memmap_0024_resized_source_extraction_02_27_20_T_15_00',\n",
       "   'memmap_0020memmap_0024_resized_source_extraction_02_27_20_T_15_00']],\n",
       " '28-Feb_16_10_05_out.mat': ['GRIN033',\n",
       "  'H13_M42_S33',\n",
       "  ['memmap_0000memmap_0004_resized_source_extraction_02_28_20_T_14_07',\n",
       "   'memmap_0005memmap_0009_resized_source_extraction_02_28_20_T_14_11',\n",
       "   'memmap_0010memmap_0014_resized_source_extraction_02_28_20_T_14_16',\n",
       "   'memmap_0015memmap_0019_resized_source_extraction_02_28_20_T_14_20',\n",
       "   'memmap_0020memmap_0024_resized_source_extraction_02_28_20_T_14_24',\n",
       "   'memmap_0025memmap_0027_resized_source_extraction_02_28_20_T_14_29']],\n",
       " '28-Feb_16_21_21_out.mat': ['GRIN032',\n",
       "  'H16_M49_S22',\n",
       "  ['mmap', 'mmap', 'mmap', 'mmap', 'mmap', 'mmap']]}"
      ]
     },
     "execution_count": 63,
     "metadata": {},
     "output_type": "execute_result"
    }
   ],
   "source": [
    "file_info"
   ]
  },
  {
   "cell_type": "code",
   "execution_count": null,
   "metadata": {},
   "outputs": [],
   "source": []
  }
 ],
 "metadata": {
  "kernelspec": {
   "display_name": "caiman",
   "language": "python",
   "name": "caiman"
  },
  "language_info": {
   "codemirror_mode": {
    "name": "ipython",
    "version": 3
   },
   "file_extension": ".py",
   "mimetype": "text/x-python",
   "name": "python",
   "nbconvert_exporter": "python",
   "pygments_lexer": "ipython3",
   "version": "3.6.7"
  }
 },
 "nbformat": 4,
 "nbformat_minor": 4
}
