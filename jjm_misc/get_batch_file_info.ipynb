{
 "cells": [
  {
   "cell_type": "code",
   "execution_count": 1,
   "metadata": {},
   "outputs": [
    {
     "data": {
      "text/html": [
       "<style>.container { width:90% !important; }</style>"
      ],
      "text/plain": [
       "<IPython.core.display.HTML object>"
      ]
     },
     "metadata": {},
     "output_type": "display_data"
    }
   ],
   "source": [
    "from IPython.core.display import display, HTML\n",
    "display(HTML(\"<style>.container { width:90% !important; }</style>\"))"
   ]
  },
  {
   "cell_type": "code",
   "execution_count": 2,
   "metadata": {},
   "outputs": [],
   "source": [
    "from matplotlib import pyplot as plt\n",
    "import sys\n",
    "import matplotlib.animation as animation\n",
    "import scipy.sparse as sparse\n",
    "import scipy.io as sio\n",
    "import scipy.stats as stats\n",
    "import scipy.spatial.distance as dist\n",
    "import numpy as np\n",
    "import h5py\n",
    "from tqdm import tqdm\n",
    "import pandas as pd\n",
    "import imageio\n",
    "import os \n",
    "\n",
    "#import tables\n",
    "#import deepdish as dd\n",
    "\n",
    "sys.path.append('/Users/johnmarshall/Documents/Analysis/PythonAnalysisScripts/post_cmfe_analysis')\n",
    "import python_utils_jjm as jjm_utils"
   ]
  },
  {
   "cell_type": "code",
   "execution_count": 3,
   "metadata": {},
   "outputs": [],
   "source": [
    "dir_files = [f_name for f_name in os.listdir('/Volumes/My_Passport/cnmfe_analysis_files/batch_output_files/') if 'out.mat' in f_name]"
   ]
  },
  {
   "cell_type": "code",
   "execution_count": 4,
   "metadata": {},
   "outputs": [
    {
     "name": "stdout",
     "output_type": "stream",
     "text": [
      "08-Apr_16_03_01_out.mat\n",
      "ok\n",
      "08-Apr_22_54_12_out.mat\n",
      "ok\n",
      "10-Jan_20_51_00_out.mat\n",
      "ok\n",
      "10-Jan_21_07_47_out.mat\n",
      "ok\n",
      "11-Jan_11_46_12_out.mat\n",
      "ok\n",
      "11-Jan_12_56_26_out.mat\n",
      "ok\n",
      "12-Apr_19_48_06_out.mat\n",
      "ok\n",
      "12-Apr_21_20_00_out.mat\n",
      "ok\n",
      "12-Mar_21_45_41_out.mat\n",
      "ok\n",
      "error with\n",
      "13-Apr_15_30_16_out.mat\n",
      "13-Apr_16_01_20_out.mat\n",
      "ok\n",
      "13-Apr_16_11_27_out.mat\n",
      "ok\n",
      "13-Apr_17_57_40_out.mat\n",
      "ok\n",
      "22-Mar_22_52_02_out.mat\n",
      "ok\n",
      "22-Mar_22_52_02_test_out.mat\n",
      "ok\n",
      "25-Mar_13_27_27_out.mat\n",
      "ok\n",
      "25-Mar_14_22_02_out.mat\n",
      "ok\n",
      "25-Mar_14_22_44_out.mat\n",
      "ok\n",
      "26-Mar_18_33_55_out.mat\n",
      "ok\n",
      "error with\n",
      "26-Mar_22_01_01_out.mat\n",
      "27-Feb_17_32_15_out.mat\n",
      "ok\n",
      "27-Feb_17_33_59_out.mat\n",
      "ok\n",
      "27-Mar_00_26_12_out.mat\n",
      "ok\n",
      "27-Mar_00_48_46_out.mat\n",
      "ok\n",
      "28-Feb_16_10_05_out.mat\n",
      "ok\n",
      "28-Feb_16_21_21_out.mat\n",
      "ok\n",
      "error with\n",
      "29-Mar_11_29_08_out.mat\n",
      "29-Mar_13_39_44_out.mat\n",
      "ok\n",
      "29-Mar_14_27_55_out.mat\n",
      "ok\n",
      "error with\n",
      "29-Mar_20_07_14_out.mat\n",
      "29-Mar_21_42_20_out.mat\n",
      "ok\n",
      "error with\n",
      "30-Mar_11_06_01_out.mat\n",
      "30-Mar_20_39_05_out.mat\n",
      "ok\n",
      "30-Mar_20_45_16_out.mat\n",
      "ok\n",
      "31-Jan_14_07_30_out.mat\n",
      "ok\n",
      "error with\n",
      "31-Mar_09_49_26_out.mat\n",
      "31-Mar_13_28_15_out.mat\n",
      "ok\n"
     ]
    }
   ],
   "source": [
    "## return a dictionary matching the batch output file to the information from quest directories \n",
    "file_info = {}\n",
    "files_with_errors = []\n",
    "for file in dir_files:\n",
    "    results = sio.loadmat('/Volumes/My_Passport/cnmfe_analysis_files/batch_output_files/' + file)\n",
    "    try:\n",
    "        file_ids = [results['P'][0][0][13][0][0][0].split('/')[y] for y in range(5, 7)]\n",
    "        file_ids.append([results['P'][0][0][13][batch_folder][0][0].split('/')[7] for batch_folder in range(len(results['P'][0][0][13]))])\n",
    "        file_info[file] = file_ids\n",
    "        print(file)\n",
    "        print('ok')\n",
    "    except IndexError:\n",
    "        print('error with')\n",
    "        print(file)\n",
    "        files_with_errors.append(file)\n",
    "        pass\n",
    "    "
   ]
  },
  {
   "cell_type": "code",
   "execution_count": 7,
   "metadata": {},
   "outputs": [
    {
     "data": {
      "text/plain": [
       "'GRIN035'"
      ]
     },
     "execution_count": 7,
     "metadata": {},
     "output_type": "execute_result"
    }
   ],
   "source": [
    "file_info['08-Apr_16_03_01_out.mat'][0]"
   ]
  },
  {
   "cell_type": "code",
   "execution_count": 13,
   "metadata": {},
   "outputs": [
    {
     "data": {
      "text/plain": [
       "'3_11_2020'"
      ]
     },
     "execution_count": 13,
     "metadata": {},
     "output_type": "execute_result"
    }
   ],
   "source": [
    "file_info['08-Apr_16_03_01_out.mat'][2][0]"
   ]
  },
  {
   "cell_type": "code",
   "execution_count": 18,
   "metadata": {},
   "outputs": [],
   "source": [
    "# display list of file with associated animal numbers\n",
    "mouse_file_dict = {}\n",
    "for cnmfe_file in list(file_info.keys()):\n",
    "    mouse_file_dict[cnmfe_file] = [file_info[cnmfe_file][0]]\n",
    "    "
   ]
  },
  {
   "cell_type": "code",
   "execution_count": 19,
   "metadata": {},
   "outputs": [
    {
     "data": {
      "text/plain": [
       "{'08-Apr_16_03_01_out.mat': ['GRIN035'],\n",
       " '08-Apr_22_54_12_out.mat': ['GRIN035'],\n",
       " '10-Jan_20_51_00_out.mat': ['GRIN032'],\n",
       " '10-Jan_21_07_47_out.mat': ['GRIN026'],\n",
       " '11-Jan_11_46_12_out.mat': ['GRIN032'],\n",
       " '11-Jan_12_56_26_out.mat': ['GRIN032'],\n",
       " '12-Apr_19_48_06_out.mat': ['GRIN035'],\n",
       " '12-Apr_21_20_00_out.mat': ['GRIN035'],\n",
       " '12-Mar_21_45_41_out.mat': ['memmap_0000memmap_0004_resized_source_extraction_03_12_20_T_19_58'],\n",
       " '13-Apr_16_01_20_out.mat': ['GRIN012'],\n",
       " '13-Apr_16_11_27_out.mat': ['GRIN012'],\n",
       " '13-Apr_17_57_40_out.mat': ['GRIN018'],\n",
       " '22-Mar_22_52_02_out.mat': ['GRIN033'],\n",
       " '22-Mar_22_52_02_test_out.mat': ['GRIN033'],\n",
       " '25-Mar_13_27_27_out.mat': ['GRIN034'],\n",
       " '25-Mar_14_22_02_out.mat': ['GRIN034'],\n",
       " '25-Mar_14_22_44_out.mat': ['GRIN034'],\n",
       " '26-Mar_18_33_55_out.mat': ['GRIN035'],\n",
       " '27-Feb_17_32_15_out.mat': ['GRIN032'],\n",
       " '27-Feb_17_33_59_out.mat': ['GRIN026'],\n",
       " '27-Mar_00_26_12_out.mat': ['GRIN035'],\n",
       " '27-Mar_00_48_46_out.mat': ['GRIN035'],\n",
       " '28-Feb_16_10_05_out.mat': ['GRIN033'],\n",
       " '28-Feb_16_21_21_out.mat': ['GRIN032'],\n",
       " '29-Mar_13_39_44_out.mat': ['GRIN012'],\n",
       " '29-Mar_14_27_55_out.mat': ['GRIN011'],\n",
       " '29-Mar_21_42_20_out.mat': ['GRIN018'],\n",
       " '30-Mar_20_39_05_out.mat': ['GRIN013'],\n",
       " '30-Mar_20_45_16_out.mat': ['GRIN027'],\n",
       " '31-Jan_14_07_30_out.mat': ['GRIN033'],\n",
       " '31-Mar_13_28_15_out.mat': ['GRIN009']}"
      ]
     },
     "execution_count": 19,
     "metadata": {},
     "output_type": "execute_result"
    }
   ],
   "source": [
    "mouse_file_dict"
   ]
  },
  {
   "cell_type": "code",
   "execution_count": null,
   "metadata": {},
   "outputs": [],
   "source": []
  }
 ],
 "metadata": {
  "kernelspec": {
   "display_name": "caiman",
   "language": "python",
   "name": "caiman"
  },
  "language_info": {
   "codemirror_mode": {
    "name": "ipython",
    "version": 3
   },
   "file_extension": ".py",
   "mimetype": "text/x-python",
   "name": "python",
   "nbconvert_exporter": "python",
   "pygments_lexer": "ipython3",
   "version": "3.6.7"
  }
 },
 "nbformat": 4,
 "nbformat_minor": 4
}
