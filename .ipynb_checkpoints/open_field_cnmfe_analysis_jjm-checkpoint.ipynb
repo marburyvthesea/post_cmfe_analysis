{
 "cells": [
  {
   "cell_type": "code",
   "execution_count": 1,
   "metadata": {},
   "outputs": [
    {
     "data": {
      "text/html": [
       "<style>.container { width:90% !important; }</style>"
      ],
      "text/plain": [
       "<IPython.core.display.HTML object>"
      ]
     },
     "metadata": {},
     "output_type": "display_data"
    }
   ],
   "source": [
    "from IPython.core.display import display, HTML\n",
    "display(HTML(\"<style>.container { width:90% !important; }</style>\"))"
   ]
  },
  {
   "cell_type": "code",
   "execution_count": 3,
   "metadata": {},
   "outputs": [],
   "source": [
    "import sys\n",
    "import os\n",
    "import glob\n",
    "import importlib\n",
    "import multiprocessing as mp\n",
    "import itertools\n",
    "import math\n",
    "import random \n",
    "\n",
    "from matplotlib import pyplot as plt\n",
    "import scipy.sparse as sparse\n",
    "import scipy.io as sio\n",
    "import scipy.stats as stats\n",
    "import scipy.spatial.distance as dist\n",
    "import numpy as np\n",
    "import h5py\n",
    "from tqdm import tqdm\n",
    "import pandas as pd\n",
    "import tables\n",
    "import deepdish as dd\n",
    "\n",
    "sys.path.append('/Users/johnmarshall/Documents/MATLAB/CNMF_E/python_wrapper/')\n",
    "sys.path.append('/Users/johnmarshall/caiman_data/demos/notebooks/post_cnmfe_analysis')\n",
    "import python_utils as utils\n",
    "import jjm_post_cnmfe_fns as jjm\n",
    "import align_msCam_tobehavior as align_tracking\n",
    "\n",
    "from importlib import reload\n",
    "%matplotlib inline"
   ]
  },
  {
   "cell_type": "code",
   "execution_count": null,
   "metadata": {
    "scrolled": true
   },
   "outputs": [],
   "source": [
    "reload(align_tracking)"
   ]
  },
  {
   "cell_type": "code",
   "execution_count": null,
   "metadata": {},
   "outputs": [],
   "source": [
    "#GRIN013 \n",
    "results_file = '/Users/johnmarshall/Documents/MATLAB/29-Apr_16_52_17_wsortdecisionsout.mat'\n",
    "#GRIN011 #cnmfe_analysis_files/GRIN_011\n",
    "#results_file = '/Users/johnmarshall/Documents/MATLAB/04-May_00_39_45_wsortdecisions_out.mat'\n",
    "\n",
    "results = sio.loadmat(results_file)"
   ]
  },
  {
   "cell_type": "code",
   "execution_count": null,
   "metadata": {},
   "outputs": [],
   "source": [
    "# Neurons to plot\n",
    "neurons_idx = 10\n",
    "\n",
    "# Frames to plot\n",
    "frames = (0, 1000)\n",
    "\n",
    "# Make a plot showing some time series traces\n",
    "\n",
    "plt.figure(figsize=(15,10))\n",
    "#plt.title(name)\n",
    "plt.axis('off')\n",
    "        \n",
    "#S = np.array(results['S'].todense())  # Inferred spikes\n",
    "C = np.array(results['C'])  # Denoised fluorescence\n",
    "F = np.array(results['C_raw'])  # Raw fluorescence\n",
    "        \n",
    "for idx in range(np.shape(F)[0]):\n",
    "    #plt.plot(utils.normalize(S[idx, frames[0]:frames[1]], percentile=False) + idx, 'r')\n",
    "    plt.plot(utils.normalize(F[idx, frames[0]:frames[1]]) + idx, 'k')\n",
    "    plt.plot(utils.normalize(C[idx, frames[0]:frames[1]]) + idx, 'b')\n",
    "    if idx > neurons_idx:\n",
    "        break"
   ]
  },
  {
   "cell_type": "code",
   "execution_count": null,
   "metadata": {
    "scrolled": true
   },
   "outputs": [],
   "source": [
    "#coordinate of detected neurons \n",
    "coordinates = utils.plot_contours(results['A'].todense(), results['Cn'], display_numbers=False, maxthr=.6,cmap='gray', colors='r')"
   ]
  },
  {
   "cell_type": "code",
   "execution_count": null,
   "metadata": {},
   "outputs": [],
   "source": [
    "#should create a smoothed or binned C here for correlation analysis"
   ]
  },
  {
   "cell_type": "code",
   "execution_count": null,
   "metadata": {
    "scrolled": false
   },
   "outputs": [],
   "source": [
    "##load movement data and align to cnmfe output\n",
    "\n",
    "path_to_eztrackfiles = '/Volumes/My_Passport/MiniscopeMovies/3_9_2019/H13_M33_S54/behavCam/'\n",
    "miniscope_time_stamp_file = path_to_eztrackfiles+'timestamp.dat'\n",
    "location_files = glob.glob(path_to_eztrackfiles+'*_LocationOutput.csv')\n",
    "\n",
    "dfs = []\n",
    "for file in location_files:\n",
    "     dfs.append(pd.read_csv(file, usecols=[1,9,10,11]))\n",
    "\n",
    "tracking_concacted = pd.concat(dfs)\n",
    "\n",
    "aligned_ = align_tracking.align_and_return_ezTrack(tracking_concacted, miniscope_time_stamp_file, 29000)\n",
    "#plt.plot(aligned_['sys_clocks_behavCam']/(1000*60), aligned_['velocity'])"
   ]
  },
  {
   "cell_type": "code",
   "execution_count": null,
   "metadata": {
    "scrolled": false
   },
   "outputs": [],
   "source": [
    "## z score velocity trace \n",
    "# change infinity values to zero for now\n",
    "velocity = aligned_['velocity'].values\n",
    "velocity[velocity == np.inf] = 0\n",
    "velocity_zscore = stats.zscore(velocity)\n",
    "#plt.plot(aligned_['sys_clocks_behavCam']/(1000*60), velocity_zscore)"
   ]
  },
  {
   "cell_type": "code",
   "execution_count": null,
   "metadata": {},
   "outputs": [],
   "source": [
    "## align fluorescence events to threshold crossing\n",
    "event_count, sample_points = align_tracking.count_events_in_array_threshold(velocity_zscore, 30, 0, threshold=5, up=True)\n",
    "# generate radom points for comparsion\n",
    "random_points = random.sample(range(1, 29000), len(sample_points))\n",
    "# velocity\n",
    "velocity_averaged = align_tracking.return_triggered_events(velocity, sample_points, (300,300))\n",
    "velocity_averaged_random = align_tracking.return_triggered_events(velocity, random_points, (300,300))\n",
    "# denoised fluorescence \n",
    "C_mean = np.mean(C, axis=0)\n",
    "denoised_fluorescence_averaged = align_tracking.return_triggered_events(C_mean, sample_points, (300,300))\n",
    "denoised_fluorescence_averaged_random = align_tracking.return_triggered_events(C_mean, random_points, (300,300))"
   ]
  },
  {
   "cell_type": "code",
   "execution_count": null,
   "metadata": {},
   "outputs": [],
   "source": [
    "plt.subplot(2, 1, 1)\n",
    "plt.plot(velocity_averaged.mean(axis=1))\n",
    "plt.subplot(2, 1, 2)\n",
    "plt.plot(denoised_fluorescence_averaged.mean(axis=1))"
   ]
  },
  {
   "cell_type": "code",
   "execution_count": null,
   "metadata": {},
   "outputs": [],
   "source": [
    "plt.subplot(2, 1, 1)\n",
    "plt.plot(velocity_averaged_random.mean(axis=1))\n",
    "plt.subplot(2, 1, 2)\n",
    "plt.plot(denoised_fluorescence_averaged_random.mean(axis=1))"
   ]
  },
  {
   "cell_type": "code",
   "execution_count": null,
   "metadata": {
    "scrolled": false
   },
   "outputs": [],
   "source": [
    "## save output \n",
    "dd.io.save(results_file.rstrip('.mat')+'t.h5', {'C':results['C'],'C_raw':results['C_raw'],'A':results['A'], 'S':results['S'], 'behavior_info':aligned_.to_dict()})"
   ]
  },
  {
   "cell_type": "code",
   "execution_count": null,
   "metadata": {},
   "outputs": [],
   "source": [
    "## should 1st Z - score velocity "
   ]
  },
  {
   "cell_type": "code",
   "execution_count": null,
   "metadata": {},
   "outputs": [],
   "source": [
    "num_neurons = np.shape(C)[0]"
   ]
  },
  {
   "cell_type": "code",
   "execution_count": null,
   "metadata": {},
   "outputs": [],
   "source": [
    "## calculate distribution of correlation coefficents with velocity \n",
    "num_neurons = np.shape(C)[0]\n",
    "behav_correlations = []\n",
    "for neuron in range(1,num_neurons):\n",
    "    r = stats.pearsonr(velocity_zscore, results['C'][neuron])[0]\n",
    "    behav_correlations.append(r)"
   ]
  },
  {
   "cell_type": "code",
   "execution_count": null,
   "metadata": {},
   "outputs": [],
   "source": [
    "hist_, bin_edges_ = np.histogram(behav_correlations, bins='auto')\n",
    "plt.hist(behav_correlations, bins='auto')\n",
    "plt.show()"
   ]
  },
  {
   "cell_type": "code",
   "execution_count": null,
   "metadata": {},
   "outputs": [],
   "source": [
    "## calculate pairwise correlation coefficients\n",
    "num_neurons = np.shape(C)[0]\n",
    "pairwise = {}\n",
    "for pair in itertools.combinations(range(num_neurons),2):\n",
    "    #pairwise correlation coefficient\n",
    "    r = stats.pearsonr(results['C'][pair[0]], results['C'][pair[1]])[0]\n",
    "    #euclidian distance \n",
    "    distance = dist.euclidean(coordinates[pair[0]]['CoM'], coordinates[pair[1]]['CoM'])\n",
    "    pairwise[pair] = (r, distance)"
   ]
  },
  {
   "cell_type": "code",
   "execution_count": null,
   "metadata": {},
   "outputs": [],
   "source": [
    "pairwise[(0, 1)][0]"
   ]
  },
  {
   "cell_type": "code",
   "execution_count": null,
   "metadata": {},
   "outputs": [],
   "source": [
    "r_coeffs = [pairwise[pair][0] for pair in list(pairwise.keys())]\n",
    "distance = [pairwise[pair][1] for pair in list(pairwise.keys())]"
   ]
  },
  {
   "cell_type": "code",
   "execution_count": null,
   "metadata": {},
   "outputs": [],
   "source": [
    "hist_, bin_edges_ = np.histogram(r_coeffs, bins='auto')\n",
    "plt.hist(r_coeffs, bins='auto')\n",
    "plt.show()"
   ]
  },
  {
   "cell_type": "code",
   "execution_count": null,
   "metadata": {},
   "outputs": [],
   "source": [
    "plt.scatter(distance, r_coeffs)\n",
    "plt.show()"
   ]
  },
  {
   "cell_type": "code",
   "execution_count": null,
   "metadata": {},
   "outputs": [],
   "source": [
    "##save pairwise comparisons as hdf5 file \n",
    "pairwise_df = pd.DataFrame(pairwise)\n",
    "pairwise_df.to_hdf('/Users/johnmarshall/Documents/MATLAB/29-Apr_16_52_17_pairwise_distance_comparisons.h5', key='df', mode='w', complevel=5)"
   ]
  },
  {
   "cell_type": "code",
   "execution_count": null,
   "metadata": {},
   "outputs": [],
   "source": []
  }
 ],
 "metadata": {
  "kernelspec": {
   "display_name": "Python (caiman)",
   "language": "python",
   "name": "caiman"
  },
  "language_info": {
   "codemirror_mode": {
    "name": "ipython",
    "version": 3
   },
   "file_extension": ".py",
   "mimetype": "text/x-python",
   "name": "python",
   "nbconvert_exporter": "python",
   "pygments_lexer": "ipython3",
   "version": "3.6.8"
  }
 },
 "nbformat": 4,
 "nbformat_minor": 2
}
