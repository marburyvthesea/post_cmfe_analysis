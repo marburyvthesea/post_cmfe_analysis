{
 "cells": [
  {
   "cell_type": "code",
   "execution_count": 24,
   "metadata": {
    "scrolled": true
   },
   "outputs": [
    {
     "data": {
      "text/html": [
       "<style>.container { width:90% !important; }</style>"
      ],
      "text/plain": [
       "<IPython.core.display.HTML object>"
      ]
     },
     "metadata": {},
     "output_type": "display_data"
    }
   ],
   "source": [
    "from IPython.core.display import display, HTML\n",
    "display(HTML(\"<style>.container { width:90% !important; }</style>\"))\n",
    "import numpy as np\n",
    "import pandas as pd\n",
    "import h5py\n",
    "from tqdm import tqdm\n",
    "import scipy.io as sio\n",
    "from scipy import stats\n",
    "from importlib import reload\n",
    "from matplotlib import pyplot as plt\n",
    "import sys\n",
    "sys.path.append('/Users/johnmarshall/Documents/Analysis/PythonAnalysisScripts/post_cmfe_analysis/')\n",
    "import python_utils_jjm as utils_jjm\n",
    "import dlc_utils\n",
    "import caiman"
   ]
  },
  {
   "cell_type": "code",
   "execution_count": 257,
   "metadata": {
    "scrolled": false
   },
   "outputs": [
    {
     "data": {
      "text/plain": [
       "<module 'dlc_utils' from '/Users/johnmarshall/Documents/Analysis/PythonAnalysisScripts/post_cmfe_analysis/dlc_utils.py'>"
      ]
     },
     "execution_count": 257,
     "metadata": {},
     "output_type": "execute_result"
    }
   ],
   "source": [
    "reload(dlc_utils)"
   ]
  },
  {
   "cell_type": "code",
   "execution_count": 32,
   "metadata": {},
   "outputs": [],
   "source": [
    "#cnmfe data\n",
    "dir_path_cnmfe = '/Volumes/My_Passport/cnmfe_analysis_files/batch_output_files/13-Apr_17_57_40_out.mat' \n",
    "CNMFE_results = sio.loadmat(dir_path_cnmfe)"
   ]
  },
  {
   "cell_type": "code",
   "execution_count": 33,
   "metadata": {},
   "outputs": [],
   "source": [
    "#CNMFE_results"
   ]
  },
  {
   "cell_type": "code",
   "execution_count": 190,
   "metadata": {},
   "outputs": [],
   "source": [
    "#behavior results\n",
    "interpolated = pd.read_csv('/volumes/My_Passport/dlc_analysis/behavcamvideos/GRIN018_H16_M13_S53/GRIN018_H16_M13_S53_dlc_tracking_foranalysis_04142020.csv')\n",
    "interpolated.set_index('Unnamed: 0', inplace=True)\n",
    "interpolated.index.rename('time(sec)', inplace=True)"
   ]
  },
  {
   "cell_type": "code",
   "execution_count": 191,
   "metadata": {},
   "outputs": [],
   "source": [
    "interpolated['msCam_index'] = np.linspace(0, len(interpolated)-1, len(interpolated))"
   ]
  },
  {
   "cell_type": "code",
   "execution_count": 195,
   "metadata": {
    "scrolled": true
   },
   "outputs": [
    {
     "data": {
      "text/html": [
       "<div>\n",
       "<style scoped>\n",
       "    .dataframe tbody tr th:only-of-type {\n",
       "        vertical-align: middle;\n",
       "    }\n",
       "\n",
       "    .dataframe tbody tr th {\n",
       "        vertical-align: top;\n",
       "    }\n",
       "\n",
       "    .dataframe thead th {\n",
       "        text-align: right;\n",
       "    }\n",
       "</style>\n",
       "<table border=\"1\" class=\"dataframe\">\n",
       "  <thead>\n",
       "    <tr style=\"text-align: right;\">\n",
       "      <th></th>\n",
       "      <th>level_0</th>\n",
       "      <th>index</th>\n",
       "      <th>centroid</th>\n",
       "      <th>ear_right</th>\n",
       "      <th>miniscope_light</th>\n",
       "      <th>ear_left</th>\n",
       "      <th>tail_base</th>\n",
       "      <th>centroid_likelihood</th>\n",
       "      <th>ear_right_likelihood</th>\n",
       "      <th>miniscope_light_likelihood</th>\n",
       "      <th>ear_left_likelihood</th>\n",
       "      <th>tail_base_likelihood</th>\n",
       "      <th>msCamFrame</th>\n",
       "      <th>msCam_index</th>\n",
       "    </tr>\n",
       "    <tr>\n",
       "      <th>time(sec)</th>\n",
       "      <th></th>\n",
       "      <th></th>\n",
       "      <th></th>\n",
       "      <th></th>\n",
       "      <th></th>\n",
       "      <th></th>\n",
       "      <th></th>\n",
       "      <th></th>\n",
       "      <th></th>\n",
       "      <th></th>\n",
       "      <th></th>\n",
       "      <th></th>\n",
       "      <th></th>\n",
       "      <th></th>\n",
       "    </tr>\n",
       "  </thead>\n",
       "  <tbody>\n",
       "    <tr>\n",
       "      <th>00:00:00</th>\n",
       "      <td>11.3500</td>\n",
       "      <td>11.3500</td>\n",
       "      <td>2.346403</td>\n",
       "      <td>2.836506</td>\n",
       "      <td>2.867388</td>\n",
       "      <td>2.741992</td>\n",
       "      <td>2.349814</td>\n",
       "      <td>0.689456</td>\n",
       "      <td>0.981957</td>\n",
       "      <td>0.003586</td>\n",
       "      <td>0.772287</td>\n",
       "      <td>0.999993</td>\n",
       "      <td>9.5</td>\n",
       "      <td>0.0</td>\n",
       "    </tr>\n",
       "    <tr>\n",
       "      <th>00:00:00.050000</th>\n",
       "      <td>12.3475</td>\n",
       "      <td>12.3475</td>\n",
       "      <td>2.351432</td>\n",
       "      <td>2.814564</td>\n",
       "      <td>2.908434</td>\n",
       "      <td>2.745819</td>\n",
       "      <td>2.358127</td>\n",
       "      <td>0.688749</td>\n",
       "      <td>0.979833</td>\n",
       "      <td>0.003613</td>\n",
       "      <td>0.771555</td>\n",
       "      <td>0.999993</td>\n",
       "      <td>10.5</td>\n",
       "      <td>1.0</td>\n",
       "    </tr>\n",
       "    <tr>\n",
       "      <th>00:00:00.100000</th>\n",
       "      <td>13.3450</td>\n",
       "      <td>13.3450</td>\n",
       "      <td>2.356460</td>\n",
       "      <td>2.792621</td>\n",
       "      <td>2.949479</td>\n",
       "      <td>2.749646</td>\n",
       "      <td>2.366439</td>\n",
       "      <td>0.688041</td>\n",
       "      <td>0.977710</td>\n",
       "      <td>0.003640</td>\n",
       "      <td>0.770823</td>\n",
       "      <td>0.999993</td>\n",
       "      <td>11.5</td>\n",
       "      <td>2.0</td>\n",
       "    </tr>\n",
       "    <tr>\n",
       "      <th>00:00:00.150000</th>\n",
       "      <td>14.3425</td>\n",
       "      <td>14.3425</td>\n",
       "      <td>2.361489</td>\n",
       "      <td>2.770679</td>\n",
       "      <td>2.990525</td>\n",
       "      <td>2.753474</td>\n",
       "      <td>2.374752</td>\n",
       "      <td>0.687334</td>\n",
       "      <td>0.975586</td>\n",
       "      <td>0.003667</td>\n",
       "      <td>0.770091</td>\n",
       "      <td>0.999993</td>\n",
       "      <td>12.5</td>\n",
       "      <td>3.0</td>\n",
       "    </tr>\n",
       "    <tr>\n",
       "      <th>00:00:00.200000</th>\n",
       "      <td>15.3400</td>\n",
       "      <td>15.3400</td>\n",
       "      <td>2.366517</td>\n",
       "      <td>2.748736</td>\n",
       "      <td>3.031571</td>\n",
       "      <td>2.757301</td>\n",
       "      <td>2.383064</td>\n",
       "      <td>0.686627</td>\n",
       "      <td>0.973463</td>\n",
       "      <td>0.003695</td>\n",
       "      <td>0.769359</td>\n",
       "      <td>0.999993</td>\n",
       "      <td>13.5</td>\n",
       "      <td>4.0</td>\n",
       "    </tr>\n",
       "    <tr>\n",
       "      <th>...</th>\n",
       "      <td>...</td>\n",
       "      <td>...</td>\n",
       "      <td>...</td>\n",
       "      <td>...</td>\n",
       "      <td>...</td>\n",
       "      <td>...</td>\n",
       "      <td>...</td>\n",
       "      <td>...</td>\n",
       "      <td>...</td>\n",
       "      <td>...</td>\n",
       "      <td>...</td>\n",
       "      <td>...</td>\n",
       "      <td>...</td>\n",
       "      <td>...</td>\n",
       "    </tr>\n",
       "    <tr>\n",
       "      <th>00:33:21.800000</th>\n",
       "      <td>40066.3000</td>\n",
       "      <td>66.3000</td>\n",
       "      <td>24.666909</td>\n",
       "      <td>3.067315</td>\n",
       "      <td>0.700665</td>\n",
       "      <td>0.704125</td>\n",
       "      <td>1.261191</td>\n",
       "      <td>0.245382</td>\n",
       "      <td>0.030984</td>\n",
       "      <td>0.003492</td>\n",
       "      <td>0.015805</td>\n",
       "      <td>0.999876</td>\n",
       "      <td>40042.3</td>\n",
       "      <td>40036.0</td>\n",
       "    </tr>\n",
       "    <tr>\n",
       "      <th>00:33:21.850000</th>\n",
       "      <td>40067.1000</td>\n",
       "      <td>67.1000</td>\n",
       "      <td>26.056938</td>\n",
       "      <td>2.984834</td>\n",
       "      <td>0.579736</td>\n",
       "      <td>0.594148</td>\n",
       "      <td>1.014536</td>\n",
       "      <td>0.243015</td>\n",
       "      <td>0.027665</td>\n",
       "      <td>0.003546</td>\n",
       "      <td>0.013894</td>\n",
       "      <td>0.999873</td>\n",
       "      <td>40043.1</td>\n",
       "      <td>40037.0</td>\n",
       "    </tr>\n",
       "    <tr>\n",
       "      <th>00:33:21.900000</th>\n",
       "      <td>40067.9000</td>\n",
       "      <td>67.9000</td>\n",
       "      <td>27.446967</td>\n",
       "      <td>2.902353</td>\n",
       "      <td>0.458807</td>\n",
       "      <td>0.484171</td>\n",
       "      <td>0.767882</td>\n",
       "      <td>0.240648</td>\n",
       "      <td>0.024346</td>\n",
       "      <td>0.003600</td>\n",
       "      <td>0.011984</td>\n",
       "      <td>0.999870</td>\n",
       "      <td>40043.9</td>\n",
       "      <td>40038.0</td>\n",
       "    </tr>\n",
       "    <tr>\n",
       "      <th>00:33:21.950000</th>\n",
       "      <td>40068.7000</td>\n",
       "      <td>68.7000</td>\n",
       "      <td>28.836997</td>\n",
       "      <td>2.819872</td>\n",
       "      <td>0.337878</td>\n",
       "      <td>0.374194</td>\n",
       "      <td>0.521228</td>\n",
       "      <td>0.238281</td>\n",
       "      <td>0.021027</td>\n",
       "      <td>0.003654</td>\n",
       "      <td>0.010074</td>\n",
       "      <td>0.999866</td>\n",
       "      <td>40044.7</td>\n",
       "      <td>40039.0</td>\n",
       "    </tr>\n",
       "    <tr>\n",
       "      <th>00:33:22</th>\n",
       "      <td>40069.5000</td>\n",
       "      <td>69.5000</td>\n",
       "      <td>30.227026</td>\n",
       "      <td>2.737391</td>\n",
       "      <td>0.216950</td>\n",
       "      <td>0.264217</td>\n",
       "      <td>0.274574</td>\n",
       "      <td>0.235914</td>\n",
       "      <td>0.017707</td>\n",
       "      <td>0.003708</td>\n",
       "      <td>0.008163</td>\n",
       "      <td>0.999863</td>\n",
       "      <td>40045.5</td>\n",
       "      <td>40040.0</td>\n",
       "    </tr>\n",
       "  </tbody>\n",
       "</table>\n",
       "<p>40041 rows × 14 columns</p>\n",
       "</div>"
      ],
      "text/plain": [
       "                    level_0    index   centroid  ear_right  miniscope_light  \\\n",
       "time(sec)                                                                     \n",
       "00:00:00            11.3500  11.3500   2.346403   2.836506         2.867388   \n",
       "00:00:00.050000     12.3475  12.3475   2.351432   2.814564         2.908434   \n",
       "00:00:00.100000     13.3450  13.3450   2.356460   2.792621         2.949479   \n",
       "00:00:00.150000     14.3425  14.3425   2.361489   2.770679         2.990525   \n",
       "00:00:00.200000     15.3400  15.3400   2.366517   2.748736         3.031571   \n",
       "...                     ...      ...        ...        ...              ...   \n",
       "00:33:21.800000  40066.3000  66.3000  24.666909   3.067315         0.700665   \n",
       "00:33:21.850000  40067.1000  67.1000  26.056938   2.984834         0.579736   \n",
       "00:33:21.900000  40067.9000  67.9000  27.446967   2.902353         0.458807   \n",
       "00:33:21.950000  40068.7000  68.7000  28.836997   2.819872         0.337878   \n",
       "00:33:22         40069.5000  69.5000  30.227026   2.737391         0.216950   \n",
       "\n",
       "                 ear_left  tail_base  centroid_likelihood  \\\n",
       "time(sec)                                                   \n",
       "00:00:00         2.741992   2.349814             0.689456   \n",
       "00:00:00.050000  2.745819   2.358127             0.688749   \n",
       "00:00:00.100000  2.749646   2.366439             0.688041   \n",
       "00:00:00.150000  2.753474   2.374752             0.687334   \n",
       "00:00:00.200000  2.757301   2.383064             0.686627   \n",
       "...                   ...        ...                  ...   \n",
       "00:33:21.800000  0.704125   1.261191             0.245382   \n",
       "00:33:21.850000  0.594148   1.014536             0.243015   \n",
       "00:33:21.900000  0.484171   0.767882             0.240648   \n",
       "00:33:21.950000  0.374194   0.521228             0.238281   \n",
       "00:33:22         0.264217   0.274574             0.235914   \n",
       "\n",
       "                 ear_right_likelihood  miniscope_light_likelihood  \\\n",
       "time(sec)                                                           \n",
       "00:00:00                     0.981957                    0.003586   \n",
       "00:00:00.050000              0.979833                    0.003613   \n",
       "00:00:00.100000              0.977710                    0.003640   \n",
       "00:00:00.150000              0.975586                    0.003667   \n",
       "00:00:00.200000              0.973463                    0.003695   \n",
       "...                               ...                         ...   \n",
       "00:33:21.800000              0.030984                    0.003492   \n",
       "00:33:21.850000              0.027665                    0.003546   \n",
       "00:33:21.900000              0.024346                    0.003600   \n",
       "00:33:21.950000              0.021027                    0.003654   \n",
       "00:33:22                     0.017707                    0.003708   \n",
       "\n",
       "                 ear_left_likelihood  tail_base_likelihood  msCamFrame  \\\n",
       "time(sec)                                                                \n",
       "00:00:00                    0.772287              0.999993         9.5   \n",
       "00:00:00.050000             0.771555              0.999993        10.5   \n",
       "00:00:00.100000             0.770823              0.999993        11.5   \n",
       "00:00:00.150000             0.770091              0.999993        12.5   \n",
       "00:00:00.200000             0.769359              0.999993        13.5   \n",
       "...                              ...                   ...         ...   \n",
       "00:33:21.800000             0.015805              0.999876     40042.3   \n",
       "00:33:21.850000             0.013894              0.999873     40043.1   \n",
       "00:33:21.900000             0.011984              0.999870     40043.9   \n",
       "00:33:21.950000             0.010074              0.999866     40044.7   \n",
       "00:33:22                    0.008163              0.999863     40045.5   \n",
       "\n",
       "                 msCam_index  \n",
       "time(sec)                     \n",
       "00:00:00                 0.0  \n",
       "00:00:00.050000          1.0  \n",
       "00:00:00.100000          2.0  \n",
       "00:00:00.150000          3.0  \n",
       "00:00:00.200000          4.0  \n",
       "...                      ...  \n",
       "00:33:21.800000      40036.0  \n",
       "00:33:21.850000      40037.0  \n",
       "00:33:21.900000      40038.0  \n",
       "00:33:21.950000      40039.0  \n",
       "00:33:22             40040.0  \n",
       "\n",
       "[40041 rows x 14 columns]"
      ]
     },
     "execution_count": 195,
     "metadata": {},
     "output_type": "execute_result"
    }
   ],
   "source": [
    "interpolated"
   ]
  },
  {
   "cell_type": "code",
   "execution_count": 193,
   "metadata": {},
   "outputs": [],
   "source": [
    "#create z scored data frame, with timedelta index matching behavior \n",
    "C_z_scored = pd.DataFrame(np.transpose(utils_jjm.z_score_CNMFE(CNMFE_results['C'])), columns=[int(cell_num) for cell_num in np.linspace(1, len(CNMFE_results['C']), len(CNMFE_results['C']))])\n",
    "C_z_scored['msCamFrame'] = C_z_scored.index.values\n",
    "C_z_scored = C_z_scored.set_index(pd.to_timedelta(np.linspace(0, len(C_z_scored)*(1/20), len(C_z_scored)), unit='s'), drop=False)"
   ]
  },
  {
   "cell_type": "code",
   "execution_count": 194,
   "metadata": {},
   "outputs": [
    {
     "data": {
      "text/html": [
       "<div>\n",
       "<style scoped>\n",
       "    .dataframe tbody tr th:only-of-type {\n",
       "        vertical-align: middle;\n",
       "    }\n",
       "\n",
       "    .dataframe tbody tr th {\n",
       "        vertical-align: top;\n",
       "    }\n",
       "\n",
       "    .dataframe thead th {\n",
       "        text-align: right;\n",
       "    }\n",
       "</style>\n",
       "<table border=\"1\" class=\"dataframe\">\n",
       "  <thead>\n",
       "    <tr style=\"text-align: right;\">\n",
       "      <th></th>\n",
       "      <th>1</th>\n",
       "      <th>2</th>\n",
       "      <th>3</th>\n",
       "      <th>4</th>\n",
       "      <th>5</th>\n",
       "      <th>6</th>\n",
       "      <th>7</th>\n",
       "      <th>8</th>\n",
       "      <th>9</th>\n",
       "      <th>10</th>\n",
       "      <th>...</th>\n",
       "      <th>37</th>\n",
       "      <th>38</th>\n",
       "      <th>39</th>\n",
       "      <th>40</th>\n",
       "      <th>41</th>\n",
       "      <th>42</th>\n",
       "      <th>43</th>\n",
       "      <th>44</th>\n",
       "      <th>45</th>\n",
       "      <th>msCamFrame</th>\n",
       "    </tr>\n",
       "  </thead>\n",
       "  <tbody>\n",
       "    <tr>\n",
       "      <th>00:00:00</th>\n",
       "      <td>0.721674</td>\n",
       "      <td>-0.388866</td>\n",
       "      <td>-0.265610</td>\n",
       "      <td>-0.005518</td>\n",
       "      <td>-0.890957</td>\n",
       "      <td>0.542097</td>\n",
       "      <td>-0.838003</td>\n",
       "      <td>0.563368</td>\n",
       "      <td>-0.367075</td>\n",
       "      <td>0.064146</td>\n",
       "      <td>...</td>\n",
       "      <td>-0.253716</td>\n",
       "      <td>-0.844938</td>\n",
       "      <td>-0.048737</td>\n",
       "      <td>-0.314031</td>\n",
       "      <td>-0.565153</td>\n",
       "      <td>-0.702524</td>\n",
       "      <td>-0.114333</td>\n",
       "      <td>-1.021499</td>\n",
       "      <td>-0.479350</td>\n",
       "      <td>0</td>\n",
       "    </tr>\n",
       "    <tr>\n",
       "      <th>00:00:00.050001</th>\n",
       "      <td>0.825862</td>\n",
       "      <td>-0.409164</td>\n",
       "      <td>-0.299772</td>\n",
       "      <td>-0.050406</td>\n",
       "      <td>-0.860299</td>\n",
       "      <td>0.529679</td>\n",
       "      <td>-0.838003</td>\n",
       "      <td>0.896964</td>\n",
       "      <td>-0.372163</td>\n",
       "      <td>0.095463</td>\n",
       "      <td>...</td>\n",
       "      <td>-0.276667</td>\n",
       "      <td>-0.860128</td>\n",
       "      <td>-0.152564</td>\n",
       "      <td>-0.332606</td>\n",
       "      <td>-0.630577</td>\n",
       "      <td>-0.713047</td>\n",
       "      <td>-0.189073</td>\n",
       "      <td>-1.021499</td>\n",
       "      <td>-0.244732</td>\n",
       "      <td>1</td>\n",
       "    </tr>\n",
       "    <tr>\n",
       "      <th>00:00:00.100003</th>\n",
       "      <td>1.395410</td>\n",
       "      <td>-0.428175</td>\n",
       "      <td>-0.331917</td>\n",
       "      <td>-0.092175</td>\n",
       "      <td>-0.796390</td>\n",
       "      <td>0.517369</td>\n",
       "      <td>-0.838003</td>\n",
       "      <td>2.045790</td>\n",
       "      <td>-0.397363</td>\n",
       "      <td>0.667278</td>\n",
       "      <td>...</td>\n",
       "      <td>-0.297852</td>\n",
       "      <td>-0.873952</td>\n",
       "      <td>-0.244989</td>\n",
       "      <td>-0.309650</td>\n",
       "      <td>-0.537243</td>\n",
       "      <td>-0.203411</td>\n",
       "      <td>-0.252976</td>\n",
       "      <td>-1.021499</td>\n",
       "      <td>-0.322467</td>\n",
       "      <td>2</td>\n",
       "    </tr>\n",
       "    <tr>\n",
       "      <th>00:00:00.150005</th>\n",
       "      <td>1.144531</td>\n",
       "      <td>-0.296787</td>\n",
       "      <td>-0.362161</td>\n",
       "      <td>-0.059542</td>\n",
       "      <td>-0.798762</td>\n",
       "      <td>0.505167</td>\n",
       "      <td>-0.838003</td>\n",
       "      <td>1.539768</td>\n",
       "      <td>-0.420774</td>\n",
       "      <td>0.469678</td>\n",
       "      <td>...</td>\n",
       "      <td>-0.317408</td>\n",
       "      <td>-0.886532</td>\n",
       "      <td>-0.088278</td>\n",
       "      <td>-0.328832</td>\n",
       "      <td>-0.383716</td>\n",
       "      <td>-0.333327</td>\n",
       "      <td>-0.307614</td>\n",
       "      <td>-1.021499</td>\n",
       "      <td>-0.391953</td>\n",
       "      <td>3</td>\n",
       "    </tr>\n",
       "    <tr>\n",
       "      <th>00:00:00.200006</th>\n",
       "      <td>0.921210</td>\n",
       "      <td>-0.322922</td>\n",
       "      <td>-0.390619</td>\n",
       "      <td>0.191202</td>\n",
       "      <td>-0.655896</td>\n",
       "      <td>0.493070</td>\n",
       "      <td>-0.838003</td>\n",
       "      <td>1.114590</td>\n",
       "      <td>-0.407236</td>\n",
       "      <td>0.298119</td>\n",
       "      <td>...</td>\n",
       "      <td>-0.257169</td>\n",
       "      <td>-0.897981</td>\n",
       "      <td>0.133531</td>\n",
       "      <td>-0.345359</td>\n",
       "      <td>-0.240335</td>\n",
       "      <td>-0.432166</td>\n",
       "      <td>-0.354330</td>\n",
       "      <td>-0.964508</td>\n",
       "      <td>-0.454064</td>\n",
       "      <td>4</td>\n",
       "    </tr>\n",
       "    <tr>\n",
       "      <th>...</th>\n",
       "      <td>...</td>\n",
       "      <td>...</td>\n",
       "      <td>...</td>\n",
       "      <td>...</td>\n",
       "      <td>...</td>\n",
       "      <td>...</td>\n",
       "      <td>...</td>\n",
       "      <td>...</td>\n",
       "      <td>...</td>\n",
       "      <td>...</td>\n",
       "      <td>...</td>\n",
       "      <td>...</td>\n",
       "      <td>...</td>\n",
       "      <td>...</td>\n",
       "      <td>...</td>\n",
       "      <td>...</td>\n",
       "      <td>...</td>\n",
       "      <td>...</td>\n",
       "      <td>...</td>\n",
       "      <td>...</td>\n",
       "      <td>...</td>\n",
       "    </tr>\n",
       "    <tr>\n",
       "      <th>00:24:09.799993</th>\n",
       "      <td>-0.264116</td>\n",
       "      <td>2.615938</td>\n",
       "      <td>-0.843671</td>\n",
       "      <td>3.059651</td>\n",
       "      <td>-0.890957</td>\n",
       "      <td>-0.786222</td>\n",
       "      <td>-0.336512</td>\n",
       "      <td>-0.885265</td>\n",
       "      <td>-0.162999</td>\n",
       "      <td>0.242628</td>\n",
       "      <td>...</td>\n",
       "      <td>5.099777</td>\n",
       "      <td>0.694145</td>\n",
       "      <td>-0.994251</td>\n",
       "      <td>-0.138394</td>\n",
       "      <td>0.426956</td>\n",
       "      <td>-0.189106</td>\n",
       "      <td>0.080927</td>\n",
       "      <td>-0.866937</td>\n",
       "      <td>1.082286</td>\n",
       "      <td>28995</td>\n",
       "    </tr>\n",
       "    <tr>\n",
       "      <th>00:24:09.849994</th>\n",
       "      <td>-0.394870</td>\n",
       "      <td>3.106645</td>\n",
       "      <td>-0.843679</td>\n",
       "      <td>4.288492</td>\n",
       "      <td>-0.890957</td>\n",
       "      <td>-0.787033</td>\n",
       "      <td>-0.353927</td>\n",
       "      <td>-0.602546</td>\n",
       "      <td>-0.186920</td>\n",
       "      <td>0.601590</td>\n",
       "      <td>...</td>\n",
       "      <td>5.087485</td>\n",
       "      <td>0.666562</td>\n",
       "      <td>-0.994251</td>\n",
       "      <td>-0.159832</td>\n",
       "      <td>0.164157</td>\n",
       "      <td>-0.222583</td>\n",
       "      <td>0.041652</td>\n",
       "      <td>-0.868535</td>\n",
       "      <td>0.015253</td>\n",
       "      <td>28996</td>\n",
       "    </tr>\n",
       "    <tr>\n",
       "      <th>00:24:09.899996</th>\n",
       "      <td>-0.447443</td>\n",
       "      <td>3.309071</td>\n",
       "      <td>-0.843686</td>\n",
       "      <td>4.277200</td>\n",
       "      <td>-0.890957</td>\n",
       "      <td>-0.886686</td>\n",
       "      <td>-0.370737</td>\n",
       "      <td>-1.121533</td>\n",
       "      <td>-0.209827</td>\n",
       "      <td>-0.327271</td>\n",
       "      <td>...</td>\n",
       "      <td>5.075220</td>\n",
       "      <td>0.639425</td>\n",
       "      <td>-0.994251</td>\n",
       "      <td>-0.179786</td>\n",
       "      <td>-0.046867</td>\n",
       "      <td>-0.254049</td>\n",
       "      <td>0.004547</td>\n",
       "      <td>-0.870116</td>\n",
       "      <td>-0.068187</td>\n",
       "      <td>28997</td>\n",
       "    </tr>\n",
       "    <tr>\n",
       "      <th>00:24:09.949998</th>\n",
       "      <td>-0.494416</td>\n",
       "      <td>1.998036</td>\n",
       "      <td>-0.843693</td>\n",
       "      <td>4.816442</td>\n",
       "      <td>-0.890957</td>\n",
       "      <td>-0.886686</td>\n",
       "      <td>-0.386963</td>\n",
       "      <td>-1.121533</td>\n",
       "      <td>-0.231764</td>\n",
       "      <td>-0.366806</td>\n",
       "      <td>...</td>\n",
       "      <td>5.062981</td>\n",
       "      <td>0.612725</td>\n",
       "      <td>-0.994251</td>\n",
       "      <td>-0.198360</td>\n",
       "      <td>-0.216317</td>\n",
       "      <td>-0.283626</td>\n",
       "      <td>-0.629814</td>\n",
       "      <td>-0.871682</td>\n",
       "      <td>-0.144611</td>\n",
       "      <td>28998</td>\n",
       "    </tr>\n",
       "    <tr>\n",
       "      <th>00:24:10</th>\n",
       "      <td>-0.536385</td>\n",
       "      <td>1.878241</td>\n",
       "      <td>-0.843700</td>\n",
       "      <td>-0.651236</td>\n",
       "      <td>-0.890957</td>\n",
       "      <td>-0.886686</td>\n",
       "      <td>-0.402625</td>\n",
       "      <td>-1.121533</td>\n",
       "      <td>-0.252770</td>\n",
       "      <td>-0.403246</td>\n",
       "      <td>...</td>\n",
       "      <td>5.050769</td>\n",
       "      <td>0.586457</td>\n",
       "      <td>-0.994251</td>\n",
       "      <td>-0.215648</td>\n",
       "      <td>-0.352384</td>\n",
       "      <td>-0.746517</td>\n",
       "      <td>-0.629814</td>\n",
       "      <td>-0.873231</td>\n",
       "      <td>-0.214610</td>\n",
       "      <td>28999</td>\n",
       "    </tr>\n",
       "  </tbody>\n",
       "</table>\n",
       "<p>29000 rows × 46 columns</p>\n",
       "</div>"
      ],
      "text/plain": [
       "                        1         2         3         4         5         6  \\\n",
       "00:00:00         0.721674 -0.388866 -0.265610 -0.005518 -0.890957  0.542097   \n",
       "00:00:00.050001  0.825862 -0.409164 -0.299772 -0.050406 -0.860299  0.529679   \n",
       "00:00:00.100003  1.395410 -0.428175 -0.331917 -0.092175 -0.796390  0.517369   \n",
       "00:00:00.150005  1.144531 -0.296787 -0.362161 -0.059542 -0.798762  0.505167   \n",
       "00:00:00.200006  0.921210 -0.322922 -0.390619  0.191202 -0.655896  0.493070   \n",
       "...                   ...       ...       ...       ...       ...       ...   \n",
       "00:24:09.799993 -0.264116  2.615938 -0.843671  3.059651 -0.890957 -0.786222   \n",
       "00:24:09.849994 -0.394870  3.106645 -0.843679  4.288492 -0.890957 -0.787033   \n",
       "00:24:09.899996 -0.447443  3.309071 -0.843686  4.277200 -0.890957 -0.886686   \n",
       "00:24:09.949998 -0.494416  1.998036 -0.843693  4.816442 -0.890957 -0.886686   \n",
       "00:24:10        -0.536385  1.878241 -0.843700 -0.651236 -0.890957 -0.886686   \n",
       "\n",
       "                        7         8         9        10  ...        37  \\\n",
       "00:00:00        -0.838003  0.563368 -0.367075  0.064146  ... -0.253716   \n",
       "00:00:00.050001 -0.838003  0.896964 -0.372163  0.095463  ... -0.276667   \n",
       "00:00:00.100003 -0.838003  2.045790 -0.397363  0.667278  ... -0.297852   \n",
       "00:00:00.150005 -0.838003  1.539768 -0.420774  0.469678  ... -0.317408   \n",
       "00:00:00.200006 -0.838003  1.114590 -0.407236  0.298119  ... -0.257169   \n",
       "...                   ...       ...       ...       ...  ...       ...   \n",
       "00:24:09.799993 -0.336512 -0.885265 -0.162999  0.242628  ...  5.099777   \n",
       "00:24:09.849994 -0.353927 -0.602546 -0.186920  0.601590  ...  5.087485   \n",
       "00:24:09.899996 -0.370737 -1.121533 -0.209827 -0.327271  ...  5.075220   \n",
       "00:24:09.949998 -0.386963 -1.121533 -0.231764 -0.366806  ...  5.062981   \n",
       "00:24:10        -0.402625 -1.121533 -0.252770 -0.403246  ...  5.050769   \n",
       "\n",
       "                       38        39        40        41        42        43  \\\n",
       "00:00:00        -0.844938 -0.048737 -0.314031 -0.565153 -0.702524 -0.114333   \n",
       "00:00:00.050001 -0.860128 -0.152564 -0.332606 -0.630577 -0.713047 -0.189073   \n",
       "00:00:00.100003 -0.873952 -0.244989 -0.309650 -0.537243 -0.203411 -0.252976   \n",
       "00:00:00.150005 -0.886532 -0.088278 -0.328832 -0.383716 -0.333327 -0.307614   \n",
       "00:00:00.200006 -0.897981  0.133531 -0.345359 -0.240335 -0.432166 -0.354330   \n",
       "...                   ...       ...       ...       ...       ...       ...   \n",
       "00:24:09.799993  0.694145 -0.994251 -0.138394  0.426956 -0.189106  0.080927   \n",
       "00:24:09.849994  0.666562 -0.994251 -0.159832  0.164157 -0.222583  0.041652   \n",
       "00:24:09.899996  0.639425 -0.994251 -0.179786 -0.046867 -0.254049  0.004547   \n",
       "00:24:09.949998  0.612725 -0.994251 -0.198360 -0.216317 -0.283626 -0.629814   \n",
       "00:24:10         0.586457 -0.994251 -0.215648 -0.352384 -0.746517 -0.629814   \n",
       "\n",
       "                       44        45  msCamFrame  \n",
       "00:00:00        -1.021499 -0.479350           0  \n",
       "00:00:00.050001 -1.021499 -0.244732           1  \n",
       "00:00:00.100003 -1.021499 -0.322467           2  \n",
       "00:00:00.150005 -1.021499 -0.391953           3  \n",
       "00:00:00.200006 -0.964508 -0.454064           4  \n",
       "...                   ...       ...         ...  \n",
       "00:24:09.799993 -0.866937  1.082286       28995  \n",
       "00:24:09.849994 -0.868535  0.015253       28996  \n",
       "00:24:09.899996 -0.870116 -0.068187       28997  \n",
       "00:24:09.949998 -0.871682 -0.144611       28998  \n",
       "00:24:10        -0.873231 -0.214610       28999  \n",
       "\n",
       "[29000 rows x 46 columns]"
      ]
     },
     "execution_count": 194,
     "metadata": {},
     "output_type": "execute_result"
    }
   ],
   "source": [
    "C_z_scored"
   ]
  },
  {
   "cell_type": "code",
   "execution_count": 130,
   "metadata": {},
   "outputs": [
    {
     "data": {
      "image/png": "[encoded data removed]",
      "text/plain": [
       "<Figure size 432x288 with 1 Axes>"
      ]
     },
     "metadata": {
      "needs_background": "light"
     },
     "output_type": "display_data"
    }
   ],
   "source": [
    "plt.plot(C_z_scored[1][0:4000])\n",
    "plt.show()"
   ]
  },
  {
   "cell_type": "code",
   "execution_count": 38,
   "metadata": {},
   "outputs": [],
   "source": [
    "binned_velocity = dlc_utils.bin_by_activity_threshold(interpolated['tail_base'], 40, 20, 0.5, 0.5)"
   ]
  },
  {
   "cell_type": "code",
   "execution_count": 78,
   "metadata": {},
   "outputs": [
    {
     "data": {
      "text/plain": [
       "40041"
      ]
     },
     "execution_count": 78,
     "metadata": {},
     "output_type": "execute_result"
    }
   ],
   "source": [
    "len(binned_velocity)"
   ]
  },
  {
   "cell_type": "code",
   "execution_count": 228,
   "metadata": {
    "scrolled": true
   },
   "outputs": [
    {
     "data": {
      "image/png": "[encoded data removed]",
      "text/plain": [
       "<Figure size 432x288 with 1 Axes>"
      ]
     },
     "metadata": {
      "needs_background": "light"
     },
     "output_type": "display_data"
    }
   ],
   "source": [
    "indicies=(0,4000)\n",
    "plt.plot(interpolated['msCam_index'][indicies[0]:indicies[1]], interpolated['tail_base'][indicies[0]:indicies[1]])\n",
    "plt.show()"
   ]
  },
  {
   "cell_type": "code",
   "execution_count": 229,
   "metadata": {},
   "outputs": [
    {
     "data": {
      "image/png": "[encoded data removed]",
      "text/plain": [
       "<Figure size 432x288 with 1 Axes>"
      ]
     },
     "metadata": {
      "needs_background": "light"
     },
     "output_type": "display_data"
    }
   ],
   "source": [
    "indicies=(0,1000)\n",
    "plt.plot(interpolated_downsampled['msCam_index'][indicies[0]:indicies[1]], interpolated_downsampled['tail_base'][indicies[0]:indicies[1]])\n",
    "plt.show()"
   ]
  },
  {
   "cell_type": "code",
   "execution_count": 218,
   "metadata": {},
   "outputs": [],
   "source": [
    "# downsample velocity and pick maximum values within 200msec \n",
    "interpolated = interpolated.set_index(pd.to_timedelta(np.linspace(0, len(interpolated)*(1/20), len(interpolated)), unit='s'), drop=True)\n",
    "interpolated_downsampled = interpolated.resample('.2S').max()"
   ]
  },
  {
   "cell_type": "code",
   "execution_count": null,
   "metadata": {},
   "outputs": [],
   "source": [
    "interpolated_downsampled"
   ]
  },
  {
   "cell_type": "code",
   "execution_count": 264,
   "metadata": {},
   "outputs": [],
   "source": [
    "C_z_scored_downsampled = C_z_scored.resample('.2S').max()"
   ]
  },
  {
   "cell_type": "code",
   "execution_count": 265,
   "metadata": {},
   "outputs": [
    {
     "data": {
      "text/html": [
       "<div>\n",
       "<style scoped>\n",
       "    .dataframe tbody tr th:only-of-type {\n",
       "        vertical-align: middle;\n",
       "    }\n",
       "\n",
       "    .dataframe tbody tr th {\n",
       "        vertical-align: top;\n",
       "    }\n",
       "\n",
       "    .dataframe thead th {\n",
       "        text-align: right;\n",
       "    }\n",
       "</style>\n",
       "<table border=\"1\" class=\"dataframe\">\n",
       "  <thead>\n",
       "    <tr style=\"text-align: right;\">\n",
       "      <th></th>\n",
       "      <th>1</th>\n",
       "      <th>2</th>\n",
       "      <th>3</th>\n",
       "      <th>4</th>\n",
       "      <th>5</th>\n",
       "      <th>6</th>\n",
       "      <th>7</th>\n",
       "      <th>8</th>\n",
       "      <th>9</th>\n",
       "      <th>10</th>\n",
       "      <th>...</th>\n",
       "      <th>37</th>\n",
       "      <th>38</th>\n",
       "      <th>39</th>\n",
       "      <th>40</th>\n",
       "      <th>41</th>\n",
       "      <th>42</th>\n",
       "      <th>43</th>\n",
       "      <th>44</th>\n",
       "      <th>45</th>\n",
       "      <th>msCamFrame</th>\n",
       "    </tr>\n",
       "  </thead>\n",
       "  <tbody>\n",
       "    <tr>\n",
       "      <th>00:00:00</th>\n",
       "      <td>1.395410</td>\n",
       "      <td>-0.296787</td>\n",
       "      <td>-0.265610</td>\n",
       "      <td>-0.005518</td>\n",
       "      <td>-0.796390</td>\n",
       "      <td>0.542097</td>\n",
       "      <td>-0.838003</td>\n",
       "      <td>2.045790</td>\n",
       "      <td>-0.367075</td>\n",
       "      <td>0.667278</td>\n",
       "      <td>...</td>\n",
       "      <td>-0.253716</td>\n",
       "      <td>-0.844938</td>\n",
       "      <td>-0.048737</td>\n",
       "      <td>-0.309650</td>\n",
       "      <td>-0.383716</td>\n",
       "      <td>-0.203411</td>\n",
       "      <td>-0.114333</td>\n",
       "      <td>-1.021499</td>\n",
       "      <td>-0.244732</td>\n",
       "      <td>3</td>\n",
       "    </tr>\n",
       "    <tr>\n",
       "      <th>00:00:00.200000</th>\n",
       "      <td>0.921210</td>\n",
       "      <td>-0.322922</td>\n",
       "      <td>-0.304221</td>\n",
       "      <td>0.226227</td>\n",
       "      <td>-0.576790</td>\n",
       "      <td>0.493070</td>\n",
       "      <td>-0.838003</td>\n",
       "      <td>1.411658</td>\n",
       "      <td>-0.407236</td>\n",
       "      <td>0.298119</td>\n",
       "      <td>...</td>\n",
       "      <td>-0.223526</td>\n",
       "      <td>-0.897981</td>\n",
       "      <td>0.322530</td>\n",
       "      <td>-0.345359</td>\n",
       "      <td>-0.027867</td>\n",
       "      <td>-0.432166</td>\n",
       "      <td>-0.139161</td>\n",
       "      <td>-0.907505</td>\n",
       "      <td>-0.454064</td>\n",
       "      <td>7</td>\n",
       "    </tr>\n",
       "    <tr>\n",
       "      <th>00:00:00.400000</th>\n",
       "      <td>0.247747</td>\n",
       "      <td>-0.083093</td>\n",
       "      <td>-0.180358</td>\n",
       "      <td>0.208103</td>\n",
       "      <td>-0.319244</td>\n",
       "      <td>0.445726</td>\n",
       "      <td>-0.838003</td>\n",
       "      <td>0.666894</td>\n",
       "      <td>-0.037953</td>\n",
       "      <td>-0.189913</td>\n",
       "      <td>...</td>\n",
       "      <td>-0.203601</td>\n",
       "      <td>-0.657473</td>\n",
       "      <td>0.049217</td>\n",
       "      <td>-0.309778</td>\n",
       "      <td>1.121296</td>\n",
       "      <td>0.451260</td>\n",
       "      <td>-0.271126</td>\n",
       "      <td>-0.129168</td>\n",
       "      <td>-0.643228</td>\n",
       "      <td>11</td>\n",
       "    </tr>\n",
       "    <tr>\n",
       "      <th>00:00:00.600000</th>\n",
       "      <td>-0.175082</td>\n",
       "      <td>-0.194749</td>\n",
       "      <td>-0.219558</td>\n",
       "      <td>0.357068</td>\n",
       "      <td>-0.193635</td>\n",
       "      <td>0.400006</td>\n",
       "      <td>-0.838003</td>\n",
       "      <td>-0.230123</td>\n",
       "      <td>-0.086870</td>\n",
       "      <td>-0.467218</td>\n",
       "      <td>...</td>\n",
       "      <td>-0.117292</td>\n",
       "      <td>-0.689527</td>\n",
       "      <td>0.166923</td>\n",
       "      <td>-0.328943</td>\n",
       "      <td>0.419176</td>\n",
       "      <td>0.660660</td>\n",
       "      <td>-0.377547</td>\n",
       "      <td>-0.183984</td>\n",
       "      <td>-0.763996</td>\n",
       "      <td>15</td>\n",
       "    </tr>\n",
       "    <tr>\n",
       "      <th>00:00:00.800000</th>\n",
       "      <td>0.621895</td>\n",
       "      <td>-0.313277</td>\n",
       "      <td>-0.354524</td>\n",
       "      <td>0.286974</td>\n",
       "      <td>-0.214586</td>\n",
       "      <td>0.355855</td>\n",
       "      <td>-0.838003</td>\n",
       "      <td>1.822575</td>\n",
       "      <td>-0.250199</td>\n",
       "      <td>0.100219</td>\n",
       "      <td>...</td>\n",
       "      <td>-0.210108</td>\n",
       "      <td>-0.791386</td>\n",
       "      <td>0.465155</td>\n",
       "      <td>-0.368145</td>\n",
       "      <td>-0.340046</td>\n",
       "      <td>0.184937</td>\n",
       "      <td>-0.165058</td>\n",
       "      <td>-0.371582</td>\n",
       "      <td>-0.712677</td>\n",
       "      <td>19</td>\n",
       "    </tr>\n",
       "  </tbody>\n",
       "</table>\n",
       "<p>5 rows × 46 columns</p>\n",
       "</div>"
      ],
      "text/plain": [
       "                        1         2         3         4         5         6  \\\n",
       "00:00:00         1.395410 -0.296787 -0.265610 -0.005518 -0.796390  0.542097   \n",
       "00:00:00.200000  0.921210 -0.322922 -0.304221  0.226227 -0.576790  0.493070   \n",
       "00:00:00.400000  0.247747 -0.083093 -0.180358  0.208103 -0.319244  0.445726   \n",
       "00:00:00.600000 -0.175082 -0.194749 -0.219558  0.357068 -0.193635  0.400006   \n",
       "00:00:00.800000  0.621895 -0.313277 -0.354524  0.286974 -0.214586  0.355855   \n",
       "\n",
       "                        7         8         9        10  ...        37  \\\n",
       "00:00:00        -0.838003  2.045790 -0.367075  0.667278  ... -0.253716   \n",
       "00:00:00.200000 -0.838003  1.411658 -0.407236  0.298119  ... -0.223526   \n",
       "00:00:00.400000 -0.838003  0.666894 -0.037953 -0.189913  ... -0.203601   \n",
       "00:00:00.600000 -0.838003 -0.230123 -0.086870 -0.467218  ... -0.117292   \n",
       "00:00:00.800000 -0.838003  1.822575 -0.250199  0.100219  ... -0.210108   \n",
       "\n",
       "                       38        39        40        41        42        43  \\\n",
       "00:00:00        -0.844938 -0.048737 -0.309650 -0.383716 -0.203411 -0.114333   \n",
       "00:00:00.200000 -0.897981  0.322530 -0.345359 -0.027867 -0.432166 -0.139161   \n",
       "00:00:00.400000 -0.657473  0.049217 -0.309778  1.121296  0.451260 -0.271126   \n",
       "00:00:00.600000 -0.689527  0.166923 -0.328943  0.419176  0.660660 -0.377547   \n",
       "00:00:00.800000 -0.791386  0.465155 -0.368145 -0.340046  0.184937 -0.165058   \n",
       "\n",
       "                       44        45  msCamFrame  \n",
       "00:00:00        -1.021499 -0.244732           3  \n",
       "00:00:00.200000 -0.907505 -0.454064           7  \n",
       "00:00:00.400000 -0.129168 -0.643228          11  \n",
       "00:00:00.600000 -0.183984 -0.763996          15  \n",
       "00:00:00.800000 -0.371582 -0.712677          19  \n",
       "\n",
       "[5 rows x 46 columns]"
      ]
     },
     "execution_count": 265,
     "metadata": {},
     "output_type": "execute_result"
    }
   ],
   "source": [
    "C_z_scored_downsampled.head()"
   ]
  },
  {
   "cell_type": "code",
   "execution_count": 266,
   "metadata": {},
   "outputs": [
    {
     "data": {
      "text/plain": [
       "00:00:00           1.395410\n",
       "00:00:00.200000    0.921210\n",
       "00:00:00.400000    0.247747\n",
       "00:00:00.600000   -0.175082\n",
       "00:00:00.800000    0.621895\n",
       "                     ...   \n",
       "00:24:09.200000   -0.844410\n",
       "00:24:09.400000   -0.578870\n",
       "00:24:09.600000   -0.189686\n",
       "00:24:09.800000   -0.394870\n",
       "00:24:10          -0.536385\n",
       "Freq: 200L, Name: 1, Length: 7251, dtype: float64"
      ]
     },
     "execution_count": 266,
     "metadata": {},
     "output_type": "execute_result"
    }
   ],
   "source": [
    "C_z_scored_downsampled[1]"
   ]
  },
  {
   "cell_type": "code",
   "execution_count": 267,
   "metadata": {},
   "outputs": [],
   "source": [
    "#function to bin df by v bin\n",
    "C_by_V = dlc_utils.bin_C_by_V_bins(interpolated_downsampled, 'tail_base', C_z_scored_downsampled, 10)"
   ]
  },
  {
   "cell_type": "code",
   "execution_count": 268,
   "metadata": {
    "scrolled": true
   },
   "outputs": [
    {
     "data": {
      "text/plain": [
       "<matplotlib.collections.PathCollection at 0x1a9d9cc50>"
      ]
     },
     "execution_count": 268,
     "metadata": {},
     "output_type": "execute_result"
    },
    {
     "data": {
      "image/png": "[encoded data removed]",
      "text/plain": [
       "<Figure size 432x288 with 1 Axes>"
      ]
     },
     "metadata": {
      "needs_background": "light"
     },
     "output_type": "display_data"
    }
   ],
   "source": [
    "# this plots cell fluoresence z score by velocity bin \n",
    "plt.scatter(C_by_V[2][0], C_by_V[2][1]) "
   ]
  },
  {
   "cell_type": "code",
   "execution_count": 106,
   "metadata": {},
   "outputs": [],
   "source": [
    "## use pandas cut to bin data\n",
    "#pd.cut(np.array([1, 7, 5, 4, 6, 3]), 3)\n",
    "\n",
    "interpolated['bin_info'] = pd.cut(interpolated['tail_base'].values, 10)"
   ]
  },
  {
   "cell_type": "code",
   "execution_count": 116,
   "metadata": {},
   "outputs": [],
   "source": [
    "binned = pd.cut(interpolated['tail_base'].values, 10)"
   ]
  },
  {
   "cell_type": "code",
   "execution_count": 253,
   "metadata": {
    "scrolled": true
   },
   "outputs": [],
   "source": [
    "# integer values correspond to bins\n",
    "v_data_binned = binned.codes"
   ]
  },
  {
   "cell_type": "code",
   "execution_count": 254,
   "metadata": {},
   "outputs": [
    {
     "data": {
      "text/plain": [
       "array([1, 1, 1, ..., 0, 0, 0], dtype=int8)"
      ]
     },
     "execution_count": 254,
     "metadata": {},
     "output_type": "execute_result"
    }
   ],
   "source": [
    "v_data_binned"
   ]
  },
  {
   "cell_type": "code",
   "execution_count": 231,
   "metadata": {},
   "outputs": [
    {
     "data": {
      "text/plain": [
       "46"
      ]
     },
     "execution_count": 231,
     "metadata": {},
     "output_type": "execute_result"
    }
   ],
   "source": [
    "len(C_z_scored_downsampled.columns-1)"
   ]
  },
  {
   "cell_type": "code",
   "execution_count": 146,
   "metadata": {},
   "outputs": [
    {
     "data": {
      "text/plain": [
       "<matplotlib.collections.PathCollection at 0x1aa8a1cc0>"
      ]
     },
     "execution_count": 146,
     "metadata": {},
     "output_type": "execute_result"
    },
    {
     "data": {
      "image/png": "[encoded data removed]",
      "text/plain": [
       "<Figure size 432x288 with 1 Axes>"
      ]
     },
     "metadata": {
      "needs_background": "light"
     },
     "output_type": "display_data"
    }
   ],
   "source": [
    "#group the fluoresence at each data point into the velocity bins\n",
    "cell = 1\n",
    "C_by_cell_grouped = []\n",
    "for point in range(len(C_z_scored[1])):\n",
    "    C_by_cell_grouped.append((v_data_binned[point], C_z_scored[cell][point]))\n",
    "    \n",
    "\n",
    "bins = [item[0] for item in C_by_cell_grouped]\n",
    "C_df = [item[1] for item in C_by_cell_grouped]\n",
    "\n",
    "plt.scatter(bins, C_df)"
   ]
  },
  {
   "cell_type": "code",
   "execution_count": null,
   "metadata": {},
   "outputs": [],
   "source": [
    "bins"
   ]
  },
  {
   "cell_type": "code",
   "execution_count": 115,
   "metadata": {
    "scrolled": true
   },
   "outputs": [
    {
     "data": {
      "text/plain": [
       "[(2.286, 4.5], (2.286, 4.5], (2.286, 4.5], (2.286, 4.5], (2.286, 4.5], ..., (0.05, 2.286], (0.05, 2.286], (0.05, 2.286], (0.05, 2.286], (0.05, 2.286]]\n",
       "Length: 40041\n",
       "Categories (10, interval[float64]): [(0.05, 2.286] < (2.286, 4.5] < (4.5, 6.713] < (6.713, 8.927] ... (13.354, 15.568] < (15.568, 17.782] < (17.782, 19.996] < (19.996, 22.209]]"
      ]
     },
     "execution_count": 115,
     "metadata": {},
     "output_type": "execute_result"
    }
   ],
   "source": [
    "interpolated['bin_info'].values"
   ]
  },
  {
   "cell_type": "code",
   "execution_count": 108,
   "metadata": {},
   "outputs": [
    {
     "data": {
      "text/html": [
       "<div>\n",
       "<style scoped>\n",
       "    .dataframe tbody tr th:only-of-type {\n",
       "        vertical-align: middle;\n",
       "    }\n",
       "\n",
       "    .dataframe tbody tr th {\n",
       "        vertical-align: top;\n",
       "    }\n",
       "\n",
       "    .dataframe thead th {\n",
       "        text-align: right;\n",
       "    }\n",
       "</style>\n",
       "<table border=\"1\" class=\"dataframe\">\n",
       "  <thead>\n",
       "    <tr style=\"text-align: right;\">\n",
       "      <th></th>\n",
       "      <th>level_0</th>\n",
       "      <th>index</th>\n",
       "      <th>centroid</th>\n",
       "      <th>ear_right</th>\n",
       "      <th>miniscope_light</th>\n",
       "      <th>ear_left</th>\n",
       "      <th>tail_base</th>\n",
       "      <th>centroid_likelihood</th>\n",
       "      <th>ear_right_likelihood</th>\n",
       "      <th>miniscope_light_likelihood</th>\n",
       "      <th>ear_left_likelihood</th>\n",
       "      <th>tail_base_likelihood</th>\n",
       "      <th>msCamFrame</th>\n",
       "      <th>msCam_index</th>\n",
       "      <th>bin_info</th>\n",
       "    </tr>\n",
       "    <tr>\n",
       "      <th>time(sec)</th>\n",
       "      <th></th>\n",
       "      <th></th>\n",
       "      <th></th>\n",
       "      <th></th>\n",
       "      <th></th>\n",
       "      <th></th>\n",
       "      <th></th>\n",
       "      <th></th>\n",
       "      <th></th>\n",
       "      <th></th>\n",
       "      <th></th>\n",
       "      <th></th>\n",
       "      <th></th>\n",
       "      <th></th>\n",
       "      <th></th>\n",
       "    </tr>\n",
       "  </thead>\n",
       "  <tbody>\n",
       "    <tr>\n",
       "      <th>00:00:00</th>\n",
       "      <td>11.3500</td>\n",
       "      <td>11.3500</td>\n",
       "      <td>2.346403</td>\n",
       "      <td>2.836506</td>\n",
       "      <td>2.867388</td>\n",
       "      <td>2.741992</td>\n",
       "      <td>2.349814</td>\n",
       "      <td>0.689456</td>\n",
       "      <td>0.981957</td>\n",
       "      <td>0.003586</td>\n",
       "      <td>0.772287</td>\n",
       "      <td>0.999993</td>\n",
       "      <td>9.5</td>\n",
       "      <td>0.0</td>\n",
       "      <td>(2.286, 4.5]</td>\n",
       "    </tr>\n",
       "    <tr>\n",
       "      <th>00:00:00.050000</th>\n",
       "      <td>12.3475</td>\n",
       "      <td>12.3475</td>\n",
       "      <td>2.351432</td>\n",
       "      <td>2.814564</td>\n",
       "      <td>2.908434</td>\n",
       "      <td>2.745819</td>\n",
       "      <td>2.358127</td>\n",
       "      <td>0.688749</td>\n",
       "      <td>0.979833</td>\n",
       "      <td>0.003613</td>\n",
       "      <td>0.771555</td>\n",
       "      <td>0.999993</td>\n",
       "      <td>10.5</td>\n",
       "      <td>1.0</td>\n",
       "      <td>(2.286, 4.5]</td>\n",
       "    </tr>\n",
       "    <tr>\n",
       "      <th>00:00:00.100000</th>\n",
       "      <td>13.3450</td>\n",
       "      <td>13.3450</td>\n",
       "      <td>2.356460</td>\n",
       "      <td>2.792621</td>\n",
       "      <td>2.949479</td>\n",
       "      <td>2.749646</td>\n",
       "      <td>2.366439</td>\n",
       "      <td>0.688041</td>\n",
       "      <td>0.977710</td>\n",
       "      <td>0.003640</td>\n",
       "      <td>0.770823</td>\n",
       "      <td>0.999993</td>\n",
       "      <td>11.5</td>\n",
       "      <td>2.0</td>\n",
       "      <td>(2.286, 4.5]</td>\n",
       "    </tr>\n",
       "    <tr>\n",
       "      <th>00:00:00.150000</th>\n",
       "      <td>14.3425</td>\n",
       "      <td>14.3425</td>\n",
       "      <td>2.361489</td>\n",
       "      <td>2.770679</td>\n",
       "      <td>2.990525</td>\n",
       "      <td>2.753474</td>\n",
       "      <td>2.374752</td>\n",
       "      <td>0.687334</td>\n",
       "      <td>0.975586</td>\n",
       "      <td>0.003667</td>\n",
       "      <td>0.770091</td>\n",
       "      <td>0.999993</td>\n",
       "      <td>12.5</td>\n",
       "      <td>3.0</td>\n",
       "      <td>(2.286, 4.5]</td>\n",
       "    </tr>\n",
       "    <tr>\n",
       "      <th>00:00:00.200000</th>\n",
       "      <td>15.3400</td>\n",
       "      <td>15.3400</td>\n",
       "      <td>2.366517</td>\n",
       "      <td>2.748736</td>\n",
       "      <td>3.031571</td>\n",
       "      <td>2.757301</td>\n",
       "      <td>2.383064</td>\n",
       "      <td>0.686627</td>\n",
       "      <td>0.973463</td>\n",
       "      <td>0.003695</td>\n",
       "      <td>0.769359</td>\n",
       "      <td>0.999993</td>\n",
       "      <td>13.5</td>\n",
       "      <td>4.0</td>\n",
       "      <td>(2.286, 4.5]</td>\n",
       "    </tr>\n",
       "    <tr>\n",
       "      <th>...</th>\n",
       "      <td>...</td>\n",
       "      <td>...</td>\n",
       "      <td>...</td>\n",
       "      <td>...</td>\n",
       "      <td>...</td>\n",
       "      <td>...</td>\n",
       "      <td>...</td>\n",
       "      <td>...</td>\n",
       "      <td>...</td>\n",
       "      <td>...</td>\n",
       "      <td>...</td>\n",
       "      <td>...</td>\n",
       "      <td>...</td>\n",
       "      <td>...</td>\n",
       "      <td>...</td>\n",
       "    </tr>\n",
       "    <tr>\n",
       "      <th>00:33:21.800000</th>\n",
       "      <td>40066.3000</td>\n",
       "      <td>66.3000</td>\n",
       "      <td>24.666909</td>\n",
       "      <td>3.067315</td>\n",
       "      <td>0.700665</td>\n",
       "      <td>0.704125</td>\n",
       "      <td>1.261191</td>\n",
       "      <td>0.245382</td>\n",
       "      <td>0.030984</td>\n",
       "      <td>0.003492</td>\n",
       "      <td>0.015805</td>\n",
       "      <td>0.999876</td>\n",
       "      <td>40042.3</td>\n",
       "      <td>40036.0</td>\n",
       "      <td>(0.05, 2.286]</td>\n",
       "    </tr>\n",
       "    <tr>\n",
       "      <th>00:33:21.850000</th>\n",
       "      <td>40067.1000</td>\n",
       "      <td>67.1000</td>\n",
       "      <td>26.056938</td>\n",
       "      <td>2.984834</td>\n",
       "      <td>0.579736</td>\n",
       "      <td>0.594148</td>\n",
       "      <td>1.014536</td>\n",
       "      <td>0.243015</td>\n",
       "      <td>0.027665</td>\n",
       "      <td>0.003546</td>\n",
       "      <td>0.013894</td>\n",
       "      <td>0.999873</td>\n",
       "      <td>40043.1</td>\n",
       "      <td>40037.0</td>\n",
       "      <td>(0.05, 2.286]</td>\n",
       "    </tr>\n",
       "    <tr>\n",
       "      <th>00:33:21.900000</th>\n",
       "      <td>40067.9000</td>\n",
       "      <td>67.9000</td>\n",
       "      <td>27.446967</td>\n",
       "      <td>2.902353</td>\n",
       "      <td>0.458807</td>\n",
       "      <td>0.484171</td>\n",
       "      <td>0.767882</td>\n",
       "      <td>0.240648</td>\n",
       "      <td>0.024346</td>\n",
       "      <td>0.003600</td>\n",
       "      <td>0.011984</td>\n",
       "      <td>0.999870</td>\n",
       "      <td>40043.9</td>\n",
       "      <td>40038.0</td>\n",
       "      <td>(0.05, 2.286]</td>\n",
       "    </tr>\n",
       "    <tr>\n",
       "      <th>00:33:21.950000</th>\n",
       "      <td>40068.7000</td>\n",
       "      <td>68.7000</td>\n",
       "      <td>28.836997</td>\n",
       "      <td>2.819872</td>\n",
       "      <td>0.337878</td>\n",
       "      <td>0.374194</td>\n",
       "      <td>0.521228</td>\n",
       "      <td>0.238281</td>\n",
       "      <td>0.021027</td>\n",
       "      <td>0.003654</td>\n",
       "      <td>0.010074</td>\n",
       "      <td>0.999866</td>\n",
       "      <td>40044.7</td>\n",
       "      <td>40039.0</td>\n",
       "      <td>(0.05, 2.286]</td>\n",
       "    </tr>\n",
       "    <tr>\n",
       "      <th>00:33:22</th>\n",
       "      <td>40069.5000</td>\n",
       "      <td>69.5000</td>\n",
       "      <td>30.227026</td>\n",
       "      <td>2.737391</td>\n",
       "      <td>0.216950</td>\n",
       "      <td>0.264217</td>\n",
       "      <td>0.274574</td>\n",
       "      <td>0.235914</td>\n",
       "      <td>0.017707</td>\n",
       "      <td>0.003708</td>\n",
       "      <td>0.008163</td>\n",
       "      <td>0.999863</td>\n",
       "      <td>40045.5</td>\n",
       "      <td>40040.0</td>\n",
       "      <td>(0.05, 2.286]</td>\n",
       "    </tr>\n",
       "  </tbody>\n",
       "</table>\n",
       "<p>40041 rows × 15 columns</p>\n",
       "</div>"
      ],
      "text/plain": [
       "                    level_0    index   centroid  ear_right  miniscope_light  \\\n",
       "time(sec)                                                                     \n",
       "00:00:00            11.3500  11.3500   2.346403   2.836506         2.867388   \n",
       "00:00:00.050000     12.3475  12.3475   2.351432   2.814564         2.908434   \n",
       "00:00:00.100000     13.3450  13.3450   2.356460   2.792621         2.949479   \n",
       "00:00:00.150000     14.3425  14.3425   2.361489   2.770679         2.990525   \n",
       "00:00:00.200000     15.3400  15.3400   2.366517   2.748736         3.031571   \n",
       "...                     ...      ...        ...        ...              ...   \n",
       "00:33:21.800000  40066.3000  66.3000  24.666909   3.067315         0.700665   \n",
       "00:33:21.850000  40067.1000  67.1000  26.056938   2.984834         0.579736   \n",
       "00:33:21.900000  40067.9000  67.9000  27.446967   2.902353         0.458807   \n",
       "00:33:21.950000  40068.7000  68.7000  28.836997   2.819872         0.337878   \n",
       "00:33:22         40069.5000  69.5000  30.227026   2.737391         0.216950   \n",
       "\n",
       "                 ear_left  tail_base  centroid_likelihood  \\\n",
       "time(sec)                                                   \n",
       "00:00:00         2.741992   2.349814             0.689456   \n",
       "00:00:00.050000  2.745819   2.358127             0.688749   \n",
       "00:00:00.100000  2.749646   2.366439             0.688041   \n",
       "00:00:00.150000  2.753474   2.374752             0.687334   \n",
       "00:00:00.200000  2.757301   2.383064             0.686627   \n",
       "...                   ...        ...                  ...   \n",
       "00:33:21.800000  0.704125   1.261191             0.245382   \n",
       "00:33:21.850000  0.594148   1.014536             0.243015   \n",
       "00:33:21.900000  0.484171   0.767882             0.240648   \n",
       "00:33:21.950000  0.374194   0.521228             0.238281   \n",
       "00:33:22         0.264217   0.274574             0.235914   \n",
       "\n",
       "                 ear_right_likelihood  miniscope_light_likelihood  \\\n",
       "time(sec)                                                           \n",
       "00:00:00                     0.981957                    0.003586   \n",
       "00:00:00.050000              0.979833                    0.003613   \n",
       "00:00:00.100000              0.977710                    0.003640   \n",
       "00:00:00.150000              0.975586                    0.003667   \n",
       "00:00:00.200000              0.973463                    0.003695   \n",
       "...                               ...                         ...   \n",
       "00:33:21.800000              0.030984                    0.003492   \n",
       "00:33:21.850000              0.027665                    0.003546   \n",
       "00:33:21.900000              0.024346                    0.003600   \n",
       "00:33:21.950000              0.021027                    0.003654   \n",
       "00:33:22                     0.017707                    0.003708   \n",
       "\n",
       "                 ear_left_likelihood  tail_base_likelihood  msCamFrame  \\\n",
       "time(sec)                                                                \n",
       "00:00:00                    0.772287              0.999993         9.5   \n",
       "00:00:00.050000             0.771555              0.999993        10.5   \n",
       "00:00:00.100000             0.770823              0.999993        11.5   \n",
       "00:00:00.150000             0.770091              0.999993        12.5   \n",
       "00:00:00.200000             0.769359              0.999993        13.5   \n",
       "...                              ...                   ...         ...   \n",
       "00:33:21.800000             0.015805              0.999876     40042.3   \n",
       "00:33:21.850000             0.013894              0.999873     40043.1   \n",
       "00:33:21.900000             0.011984              0.999870     40043.9   \n",
       "00:33:21.950000             0.010074              0.999866     40044.7   \n",
       "00:33:22                    0.008163              0.999863     40045.5   \n",
       "\n",
       "                 msCam_index       bin_info  \n",
       "time(sec)                                    \n",
       "00:00:00                 0.0   (2.286, 4.5]  \n",
       "00:00:00.050000          1.0   (2.286, 4.5]  \n",
       "00:00:00.100000          2.0   (2.286, 4.5]  \n",
       "00:00:00.150000          3.0   (2.286, 4.5]  \n",
       "00:00:00.200000          4.0   (2.286, 4.5]  \n",
       "...                      ...            ...  \n",
       "00:33:21.800000      40036.0  (0.05, 2.286]  \n",
       "00:33:21.850000      40037.0  (0.05, 2.286]  \n",
       "00:33:21.900000      40038.0  (0.05, 2.286]  \n",
       "00:33:21.950000      40039.0  (0.05, 2.286]  \n",
       "00:33:22             40040.0  (0.05, 2.286]  \n",
       "\n",
       "[40041 rows x 15 columns]"
      ]
     },
     "execution_count": 108,
     "metadata": {},
     "output_type": "execute_result"
    }
   ],
   "source": [
    "interpolated"
   ]
  },
  {
   "cell_type": "code",
   "execution_count": 100,
   "metadata": {},
   "outputs": [
    {
     "data": {
      "text/plain": [
       "[(2.286, 2.729], (2.286, 2.729], (2.286, 2.729], (2.286, 2.729], (2.286, 2.729], ..., (0.958, 1.4], (0.958, 1.4], (0.515, 0.958], (0.515, 0.958], (0.05, 0.515]]\n",
       "Length: 40041\n",
       "Categories (50, interval[float64]): [(0.05, 0.515] < (0.515, 0.958] < (0.958, 1.4] < (1.4, 1.843] ... (20.438, 20.881] < (20.881, 21.324] < (21.324, 21.767] < (21.767, 22.209]]"
      ]
     },
     "execution_count": 100,
     "metadata": {},
     "output_type": "execute_result"
    }
   ],
   "source": [
    "bin_output"
   ]
  },
  {
   "cell_type": "code",
   "execution_count": 54,
   "metadata": {
    "scrolled": false
   },
   "outputs": [
    {
     "data": {
      "text/plain": [
       "[<matplotlib.lines.Line2D at 0x16a0f0f98>]"
      ]
     },
     "execution_count": 54,
     "metadata": {},
     "output_type": "execute_result"
    },
    {
     "data": {
      "image/png": "[encoded data removed]",
      "text/plain": [
       "<Figure size 432x288 with 1 Axes>"
      ]
     },
     "metadata": {
      "needs_background": "light"
     },
     "output_type": "display_data"
    }
   ],
   "source": [
    "plt.plot(binned_velocity[indicies[0]:indicies[1]])"
   ]
  },
  {
   "cell_type": "code",
   "execution_count": 55,
   "metadata": {},
   "outputs": [],
   "source": [
    "#return inidicies where velocity transitions from at least a 1 second resting period \n",
    "transition_indicies = []\n",
    "resting_threshold = 40\n",
    "for point in range(resting_threshold, len(binned_velocity)):\n",
    "    if binned_velocity[point]>0.5 and not any(binned_velocity[point-resting_threshold:point]):\n",
    "           transition_indicies.append(point)"
   ]
  },
  {
   "cell_type": "code",
   "execution_count": 51,
   "metadata": {},
   "outputs": [
    {
     "ename": "ValueError",
     "evalue": "arrays must all be same length",
     "output_type": "error",
     "traceback": [
      "\u001b[0;31m---------------------------------------------------------------------------\u001b[0m",
      "\u001b[0;31mValueError\u001b[0m                                Traceback (most recent call last)",
      "\u001b[0;32m<ipython-input-51-624912d33407>\u001b[0m in \u001b[0;36m<module>\u001b[0;34m\u001b[0m\n\u001b[1;32m      3\u001b[0m \u001b[0;32mfor\u001b[0m \u001b[0mindex\u001b[0m \u001b[0;32min\u001b[0m \u001b[0mtransition_indicies\u001b[0m\u001b[0;34m:\u001b[0m\u001b[0;34m\u001b[0m\u001b[0;34m\u001b[0m\u001b[0m\n\u001b[1;32m      4\u001b[0m        \u001b[0mtransition_activity\u001b[0m\u001b[0;34m[\u001b[0m\u001b[0mindex\u001b[0m\u001b[0;34m]\u001b[0m \u001b[0;34m=\u001b[0m \u001b[0mC_z_scored\u001b[0m\u001b[0;34m.\u001b[0m\u001b[0mmean\u001b[0m\u001b[0;34m(\u001b[0m\u001b[0maxis\u001b[0m\u001b[0;34m=\u001b[0m\u001b[0;36m0\u001b[0m\u001b[0;34m)\u001b[0m\u001b[0;34m[\u001b[0m\u001b[0mindex\u001b[0m\u001b[0;34m-\u001b[0m\u001b[0;36m40\u001b[0m\u001b[0;34m:\u001b[0m\u001b[0mindex\u001b[0m\u001b[0;34m+\u001b[0m\u001b[0;36m40\u001b[0m\u001b[0;34m]\u001b[0m\u001b[0;34m\u001b[0m\u001b[0;34m\u001b[0m\u001b[0m\n\u001b[0;32m----> 5\u001b[0;31m \u001b[0mthreshold_activity_df\u001b[0m \u001b[0;34m=\u001b[0m \u001b[0mpd\u001b[0m\u001b[0;34m.\u001b[0m\u001b[0mDataFrame\u001b[0m\u001b[0;34m(\u001b[0m\u001b[0mtransition_activity\u001b[0m\u001b[0;34m)\u001b[0m\u001b[0;34m\u001b[0m\u001b[0;34m\u001b[0m\u001b[0m\n\u001b[0m",
      "\u001b[0;32m~/anaconda3/envs/caiman/lib/python3.6/site-packages/pandas/core/frame.py\u001b[0m in \u001b[0;36m__init__\u001b[0;34m(self, data, index, columns, dtype, copy)\u001b[0m\n\u001b[1;32m    433\u001b[0m             )\n\u001b[1;32m    434\u001b[0m         \u001b[0;32melif\u001b[0m \u001b[0misinstance\u001b[0m\u001b[0;34m(\u001b[0m\u001b[0mdata\u001b[0m\u001b[0;34m,\u001b[0m \u001b[0mdict\u001b[0m\u001b[0;34m)\u001b[0m\u001b[0;34m:\u001b[0m\u001b[0;34m\u001b[0m\u001b[0;34m\u001b[0m\u001b[0m\n\u001b[0;32m--> 435\u001b[0;31m             \u001b[0mmgr\u001b[0m \u001b[0;34m=\u001b[0m \u001b[0minit_dict\u001b[0m\u001b[0;34m(\u001b[0m\u001b[0mdata\u001b[0m\u001b[0;34m,\u001b[0m \u001b[0mindex\u001b[0m\u001b[0;34m,\u001b[0m \u001b[0mcolumns\u001b[0m\u001b[0;34m,\u001b[0m \u001b[0mdtype\u001b[0m\u001b[0;34m=\u001b[0m\u001b[0mdtype\u001b[0m\u001b[0;34m)\u001b[0m\u001b[0;34m\u001b[0m\u001b[0;34m\u001b[0m\u001b[0m\n\u001b[0m\u001b[1;32m    436\u001b[0m         \u001b[0;32melif\u001b[0m \u001b[0misinstance\u001b[0m\u001b[0;34m(\u001b[0m\u001b[0mdata\u001b[0m\u001b[0;34m,\u001b[0m \u001b[0mma\u001b[0m\u001b[0;34m.\u001b[0m\u001b[0mMaskedArray\u001b[0m\u001b[0;34m)\u001b[0m\u001b[0;34m:\u001b[0m\u001b[0;34m\u001b[0m\u001b[0;34m\u001b[0m\u001b[0m\n\u001b[1;32m    437\u001b[0m             \u001b[0;32mimport\u001b[0m \u001b[0mnumpy\u001b[0m\u001b[0;34m.\u001b[0m\u001b[0mma\u001b[0m\u001b[0;34m.\u001b[0m\u001b[0mmrecords\u001b[0m \u001b[0;32mas\u001b[0m \u001b[0mmrecords\u001b[0m\u001b[0;34m\u001b[0m\u001b[0;34m\u001b[0m\u001b[0m\n",
      "\u001b[0;32m~/anaconda3/envs/caiman/lib/python3.6/site-packages/pandas/core/internals/construction.py\u001b[0m in \u001b[0;36minit_dict\u001b[0;34m(data, index, columns, dtype)\u001b[0m\n\u001b[1;32m    252\u001b[0m             \u001b[0marr\u001b[0m \u001b[0;32mif\u001b[0m \u001b[0;32mnot\u001b[0m \u001b[0mis_datetime64tz_dtype\u001b[0m\u001b[0;34m(\u001b[0m\u001b[0marr\u001b[0m\u001b[0;34m)\u001b[0m \u001b[0;32melse\u001b[0m \u001b[0marr\u001b[0m\u001b[0;34m.\u001b[0m\u001b[0mcopy\u001b[0m\u001b[0;34m(\u001b[0m\u001b[0;34m)\u001b[0m \u001b[0;32mfor\u001b[0m \u001b[0marr\u001b[0m \u001b[0;32min\u001b[0m \u001b[0marrays\u001b[0m\u001b[0;34m\u001b[0m\u001b[0;34m\u001b[0m\u001b[0m\n\u001b[1;32m    253\u001b[0m         ]\n\u001b[0;32m--> 254\u001b[0;31m     \u001b[0;32mreturn\u001b[0m \u001b[0marrays_to_mgr\u001b[0m\u001b[0;34m(\u001b[0m\u001b[0marrays\u001b[0m\u001b[0;34m,\u001b[0m \u001b[0mdata_names\u001b[0m\u001b[0;34m,\u001b[0m \u001b[0mindex\u001b[0m\u001b[0;34m,\u001b[0m \u001b[0mcolumns\u001b[0m\u001b[0;34m,\u001b[0m \u001b[0mdtype\u001b[0m\u001b[0;34m=\u001b[0m\u001b[0mdtype\u001b[0m\u001b[0;34m)\u001b[0m\u001b[0;34m\u001b[0m\u001b[0;34m\u001b[0m\u001b[0m\n\u001b[0m\u001b[1;32m    255\u001b[0m \u001b[0;34m\u001b[0m\u001b[0m\n\u001b[1;32m    256\u001b[0m \u001b[0;34m\u001b[0m\u001b[0m\n",
      "\u001b[0;32m~/anaconda3/envs/caiman/lib/python3.6/site-packages/pandas/core/internals/construction.py\u001b[0m in \u001b[0;36marrays_to_mgr\u001b[0;34m(arrays, arr_names, index, columns, dtype)\u001b[0m\n\u001b[1;32m     62\u001b[0m     \u001b[0;31m# figure out the index, if necessary\u001b[0m\u001b[0;34m\u001b[0m\u001b[0;34m\u001b[0m\u001b[0;34m\u001b[0m\u001b[0m\n\u001b[1;32m     63\u001b[0m     \u001b[0;32mif\u001b[0m \u001b[0mindex\u001b[0m \u001b[0;32mis\u001b[0m \u001b[0;32mNone\u001b[0m\u001b[0;34m:\u001b[0m\u001b[0;34m\u001b[0m\u001b[0;34m\u001b[0m\u001b[0m\n\u001b[0;32m---> 64\u001b[0;31m         \u001b[0mindex\u001b[0m \u001b[0;34m=\u001b[0m \u001b[0mextract_index\u001b[0m\u001b[0;34m(\u001b[0m\u001b[0marrays\u001b[0m\u001b[0;34m)\u001b[0m\u001b[0;34m\u001b[0m\u001b[0;34m\u001b[0m\u001b[0m\n\u001b[0m\u001b[1;32m     65\u001b[0m     \u001b[0;32melse\u001b[0m\u001b[0;34m:\u001b[0m\u001b[0;34m\u001b[0m\u001b[0;34m\u001b[0m\u001b[0m\n\u001b[1;32m     66\u001b[0m         \u001b[0mindex\u001b[0m \u001b[0;34m=\u001b[0m \u001b[0mensure_index\u001b[0m\u001b[0;34m(\u001b[0m\u001b[0mindex\u001b[0m\u001b[0;34m)\u001b[0m\u001b[0;34m\u001b[0m\u001b[0;34m\u001b[0m\u001b[0m\n",
      "\u001b[0;32m~/anaconda3/envs/caiman/lib/python3.6/site-packages/pandas/core/internals/construction.py\u001b[0m in \u001b[0;36mextract_index\u001b[0;34m(data)\u001b[0m\n\u001b[1;32m    363\u001b[0m             \u001b[0mlengths\u001b[0m \u001b[0;34m=\u001b[0m \u001b[0mlist\u001b[0m\u001b[0;34m(\u001b[0m\u001b[0mset\u001b[0m\u001b[0;34m(\u001b[0m\u001b[0mraw_lengths\u001b[0m\u001b[0;34m)\u001b[0m\u001b[0;34m)\u001b[0m\u001b[0;34m\u001b[0m\u001b[0;34m\u001b[0m\u001b[0m\n\u001b[1;32m    364\u001b[0m             \u001b[0;32mif\u001b[0m \u001b[0mlen\u001b[0m\u001b[0;34m(\u001b[0m\u001b[0mlengths\u001b[0m\u001b[0;34m)\u001b[0m \u001b[0;34m>\u001b[0m \u001b[0;36m1\u001b[0m\u001b[0;34m:\u001b[0m\u001b[0;34m\u001b[0m\u001b[0;34m\u001b[0m\u001b[0m\n\u001b[0;32m--> 365\u001b[0;31m                 \u001b[0;32mraise\u001b[0m \u001b[0mValueError\u001b[0m\u001b[0;34m(\u001b[0m\u001b[0;34m\"arrays must all be same length\"\u001b[0m\u001b[0;34m)\u001b[0m\u001b[0;34m\u001b[0m\u001b[0;34m\u001b[0m\u001b[0m\n\u001b[0m\u001b[1;32m    366\u001b[0m \u001b[0;34m\u001b[0m\u001b[0m\n\u001b[1;32m    367\u001b[0m             \u001b[0;32mif\u001b[0m \u001b[0mhave_dicts\u001b[0m\u001b[0;34m:\u001b[0m\u001b[0;34m\u001b[0m\u001b[0;34m\u001b[0m\u001b[0m\n",
      "\u001b[0;31mValueError\u001b[0m: arrays must all be same length"
     ]
    }
   ],
   "source": [
    "#select section of trace 2 seconds around transition periods\n",
    "transition_activity = {}\n",
    "for index in transition_indicies:\n",
    "       transition_activity[index] = C_z_scored.mean(axis=0)[index-40:index+40]\n",
    "threshold_activity_df = pd.DataFrame(transition_activity)"
   ]
  },
  {
   "cell_type": "code",
   "execution_count": 111,
   "metadata": {},
   "outputs": [
    {
     "data": {
      "image/png": "[encoded data removed]",
      "text/plain": [
       "<Figure size 432x288 with 1 Axes>"
      ]
     },
     "metadata": {
      "needs_background": "light"
     },
     "output_type": "display_data"
    }
   ],
   "source": [
    "plt.plot(threshold_activity_df.mean(axis=1))\n",
    "plt.show()"
   ]
  },
  {
   "cell_type": "code",
   "execution_count": 88,
   "metadata": {
    "scrolled": false
   },
   "outputs": [
    {
     "data": {
      "text/plain": [
       "[<matplotlib.lines.Line2D at 0x14d0e9438>]"
      ]
     },
     "execution_count": 88,
     "metadata": {},
     "output_type": "execute_result"
    },
    {
     "data": {
      "image/png": "[encoded data removed]",
      "text/plain": [
       "<Figure size 432x288 with 1 Axes>"
      ]
     },
     "metadata": {
      "needs_background": "light"
     },
     "output_type": "display_data"
    }
   ],
   "source": [
    "plt.plot(C_z_scored.mean(axis=0)[indicies[0]:indicies[1]])"
   ]
  },
  {
   "cell_type": "code",
   "execution_count": 90,
   "metadata": {
    "scrolled": true
   },
   "outputs": [],
   "source": [
    "#return indicies where value is above threshold\n",
    "moving_indicies = np.argwhere(binned_velocity>0.5)\n",
    "#compare df/f for moving and nonmoving periods \n",
    "df_f_moving = np.mean(C_z_scored.mean(axis=0)[moving_indicies])\n",
    "df_f_resting = np.mean(C_z_scored.mean(axis=0)[np.argwhere(binned_velocity[0:25000]<0.5)])"
   ]
  },
  {
   "cell_type": "code",
   "execution_count": 92,
   "metadata": {},
   "outputs": [
    {
     "data": {
      "text/plain": [
       "0.19100929066490835"
      ]
     },
     "execution_count": 92,
     "metadata": {},
     "output_type": "execute_result"
    }
   ],
   "source": [
    "np.mean(C_z_scored.mean(axis=0)[moving_indicies])"
   ]
  },
  {
   "cell_type": "code",
   "execution_count": 94,
   "metadata": {},
   "outputs": [
    {
     "data": {
      "text/plain": [
       "-0.09380713940921243"
      ]
     },
     "execution_count": 94,
     "metadata": {},
     "output_type": "execute_result"
    }
   ],
   "source": [
    "np.mean(C_z_scored.mean(axis=0)[np.argwhere(binned_velocity[0:25000]<0.5)])"
   ]
  },
  {
   "cell_type": "code",
   "execution_count": null,
   "metadata": {},
   "outputs": [],
   "source": []
  }
 ],
 "metadata": {
  "kernelspec": {
   "display_name": "caiman",
   "language": "python",
   "name": "caiman"
  },
  "language_info": {
   "codemirror_mode": {
    "name": "ipython",
    "version": 3
   },
   "file_extension": ".py",
   "mimetype": "text/x-python",
   "name": "python",
   "nbconvert_exporter": "python",
   "pygments_lexer": "ipython3",
   "version": "3.6.7"
  }
 },
 "nbformat": 4,
 "nbformat_minor": 2
}
