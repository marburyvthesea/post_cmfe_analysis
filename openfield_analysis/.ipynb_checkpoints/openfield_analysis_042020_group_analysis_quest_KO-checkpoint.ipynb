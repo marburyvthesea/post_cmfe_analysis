{
 "cells": [
  {
   "cell_type": "code",
   "execution_count": 1,
   "metadata": {},
   "outputs": [
    {
     "data": {
      "text/html": [
       "<style>.container { width:90% !important; }</style>"
      ],
      "text/plain": [
       "<IPython.core.display.HTML object>"
      ]
     },
     "metadata": {},
     "output_type": "display_data"
    },
    {
     "name": "stderr",
     "output_type": "stream",
     "text": [
      "/home/jma819/.conda/envs/caiman/lib/python3.6/site-packages/sklearn/utils/deprecation.py:144: FutureWarning: The sklearn.decomposition.incremental_pca module is  deprecated in version 0.22 and will be removed in version 0.24. The corresponding classes / functions should instead be imported from sklearn.decomposition. Anything that cannot be imported from sklearn.decomposition is now part of the private API.\n",
      "  warnings.warn(message, FutureWarning)\n"
     ]
    }
   ],
   "source": [
    "from IPython.core.display import display, HTML\n",
    "display(HTML(\"<style>.container { width:90% !important; }</style>\"))\n",
    "import numpy as np\n",
    "import pandas as pd\n",
    "import h5py\n",
    "from tqdm import tqdm\n",
    "import scipy.io as sio\n",
    "from scipy import stats\n",
    "from importlib import reload\n",
    "from matplotlib import pyplot as plt\n",
    "import sys\n",
    "sys.path.append('/home/jma819/post_cmfe_analysis')\n",
    "import python_utils_jjm as utils_jjm\n",
    "import dlc_utils\n",
    "import caiman\n",
    "import statsmodels.formula.api as smf\n",
    "import scipy.spatial.distance as dist\n",
    "import itertools"
   ]
  },
  {
   "cell_type": "code",
   "execution_count": 2,
   "metadata": {},
   "outputs": [
    {
     "data": {
      "text/plain": [
       "<module 'python_utils_jjm' from '/home/jma819/post_cmfe_analysis/python_utils_jjm.py'>"
      ]
     },
     "execution_count": 2,
     "metadata": {},
     "output_type": "execute_result"
    }
   ],
   "source": [
    "reload(utils_jjm)"
   ]
  },
  {
   "cell_type": "code",
   "execution_count": 3,
   "metadata": {},
   "outputs": [],
   "source": [
    "cnmfe_file_key = pd.read_csv('/projects/p30771/dlc_analysis/openfield_dlc_output/cnmfe_file_key.csv')"
   ]
  },
  {
   "cell_type": "code",
   "execution_count": 4,
   "metadata": {},
   "outputs": [],
   "source": [
    "cnmfe_base_dir = '/projects/p30771/MATLAB/CNMF_E_jjm/quest_MATLAB_cnmfe/batch_output_files/'\n",
    "wt_CNMFE_file = ['30-Mar_20_39_05_out.mat', '30-Mar_20_45_16_out.mat', '27-Feb_17_33_59_out.mat', '22-Mar_22_52_02_out.mat',\n",
    "                 '28-Feb_16_10_05_out.mat', '27-Feb_17_32_15_out.mat', '28-Feb_16_21_21_out.mat', '25-Mar_13_27_27_out.mat',\n",
    "                 '25-Mar_14_22_02_out.mat', '25-Mar_14_22_44_out.mat', '26-Mar_18_33_55_out.mat', '27-Mar_00_26_12_out.mat', '27-Mar_00_48_46_out.mat']\n",
    "\n",
    "ko_CNMFE_files = ['31-Mar_13_28_15_out.mat', '29-Mar_21_42_20_out.mat', '13-Apr_17_57_40_out.mat', '29-Mar_14_27_55_out.mat', '13-Apr_16_01_20_out.mat', '29-Mar_13_39_44_out.mat']\n",
    "#issues: '13-Apr_16_11_27_out.mat'\n",
    "#issues: H17_M32_S17"
   ]
  },
  {
   "cell_type": "code",
   "execution_count": 5,
   "metadata": {},
   "outputs": [],
   "source": [
    "tracking_files = ['/projects/p30771/dlc_analysis/openfield_dlc_output/'+utils_jjm.find_behavior_tracking(fname, cnmfe_file_key) for fname in ko_CNMFE_files] "
   ]
  },
  {
   "cell_type": "code",
   "execution_count": 6,
   "metadata": {},
   "outputs": [],
   "source": [
    "#tracking_files"
   ]
  },
  {
   "cell_type": "code",
   "execution_count": 7,
   "metadata": {},
   "outputs": [],
   "source": [
    "CNMFE_dir_paths_list = [str(cnmfe_base_dir+fname) for fname in ko_CNMFE_files]\n",
    "#CNMFE_dir_paths_list"
   ]
  },
  {
   "cell_type": "code",
   "execution_count": 40,
   "metadata": {},
   "outputs": [
    {
     "name": "stdout",
     "output_type": "stream",
     "text": [
      "31-Mar_13_28_15_out.mat\n",
      "GRIN009_H13_M59_S14\n"
     ]
    },
    {
     "name": "stderr",
     "output_type": "stream",
     "text": [
      "/home/jma819/.conda/envs/caiman/lib/python3.6/site-packages/numpy/core/fromnumeric.py:3335: RuntimeWarning: Mean of empty slice.\n",
      "  out=out, **kwargs)\n",
      "/home/jma819/.conda/envs/caiman/lib/python3.6/site-packages/numpy/core/_methods.py:161: RuntimeWarning: invalid value encountered in double_scalars\n",
      "  ret = ret.dtype.type(ret / rcount)\n"
     ]
    },
    {
     "name": "stdout",
     "output_type": "stream",
     "text": [
      "29-Mar_21_42_20_out.mat\n",
      "GRIN018_H17_M41_S43\n",
      "13-Apr_17_57_40_out.mat\n",
      "GRIN018_H16_M13_S53\n",
      "29-Mar_14_27_55_out.mat\n",
      "GRIN011_H10_M19_S59\n",
      "13-Apr_16_01_20_out.mat\n",
      "GRIN012_H17_M46_S35\n",
      "29-Mar_13_39_44_out.mat\n",
      "GRIN012_H16_M57_S23\n"
     ]
    }
   ],
   "source": [
    "binning_time = 1 # seconds \n",
    "body_part_for_tracking = 'tail_base' #\n",
    "number_of_bins = 50 #\n",
    "polynomial_degree = 2 #\n",
    "\n",
    "group_results_binning = {}\n",
    "success = []\n",
    "failed = []\n",
    "for CNMFE_file, tracking_file in zip(CNMFE_dir_paths_list, tracking_files):\n",
    "    print(CNMFE_file.split('/')[-1])\n",
    "    print(tracking_file.split('/')[-2])\n",
    "    try:\n",
    "        # create time deltas\n",
    "        C_z_scored, interpolated = utils_jjm.prepare_timedelta_dfs(CNMFE_file, tracking_file)\n",
    "        # downsample and bin\n",
    "        if len(C_z_scored) > len(interpolated):\n",
    "            C_z_scored = C_z_scored.iloc[0:len(interpolated)]\n",
    "        cells_C_binned_by_V, cells_mean_C_binned_by_V = dlc_utils.downsample_session_and_bin_C_by_V(binning_time, number_of_bins, body_part_for_tracking, interpolated, C_z_scored)\n",
    "        # add save step here?\n",
    "        group_results_binning[tracking_file.split('/')[-2]] = {'C_z_scored':C_z_scored, 'tracking_data' :interpolated, \n",
    "                                              'C_binned_by_V':cells_C_binned_by_V, 'C_binned_by_V_means':cells_mean_C_binned_by_V}\n",
    "        success.append((tracking_file.split('/')[-2], CNMFE_file.split('/')[-1]))\n",
    "    except FileNotFoundError:\n",
    "        failed.append(tracking_file)\n",
    "    except OSError:\n",
    "        failed.append(tracking_file)\n",
    "\n",
    "regression_results_by_group = {}\n",
    "for tracking_file in list(group_results_binning.keys()):\n",
    "    # add regression results\n",
    "    regression_results = dlc_utils.create_regression_models_per_cell(group_results_binning[tracking_file]['C_binned_by_V_means'], polynomial_degree)\n",
    "    regression_results_by_group[tracking_file] = regression_results\n",
    "\n",
    "#session_names = [session_name.split('/')[-2] for session_name in list(group_results_binning.keys())]    \n",
    "session_names = list(group_results_binning.keys())\n",
    "\n",
    "## get some summaries of regression info by groups\n",
    "grouped_info = {}\n",
    "grouped_info_means = {}\n",
    "for session in list(group_results_binning.keys()):\n",
    "    info_by_session = {}\n",
    "    info_by_session_means = {}\n",
    "    session_results = regression_results_by_group[session]\n",
    "    # F statistics\n",
    "    F_stats_by_session = np.array([float(session_results[cell]['statsmodel_results'].summary().tables[0][3][3].data) \n",
    "                    for cell in range(1, len(session_results)+1)])\n",
    "    info_by_session['F_stats'] = F_stats_by_session\n",
    "    info_by_session_means['total_cells'] = len(F_stats_by_session)\n",
    "    # r2\n",
    "    r_stats_by_session = np.array([float(session_results[cell]['statsmodel_results'].summary().tables[0][3][3].data) \n",
    "                    for cell in range(1, len(session_results)+1)])\n",
    "    info_by_session['R-squared'] = r_stats_by_session\n",
    "    info_by_session_means['R-squared_mean'] = np.mean(r_stats_by_session)\n",
    "    # significant regressions\n",
    "    significant_regressions = len(np.argwhere(F_stats_by_session<0.05))\n",
    "    info_by_session_means['significant_regressions'] = significant_regressions \n",
    "    \n",
    "    #proportion of significant regressions \n",
    "    percent_significant = (significant_regressions/len(F_stats_by_session))*100\n",
    "    info_by_session_means['percent_significant'] = percent_significant\n",
    "    #print('percent significant')\n",
    "    #print(percent_significant)\n",
    "    grouped_info[session] = info_by_session\n",
    "    grouped_info_means[session] = info_by_session_means\n",
    "    \n",
    "grouped_info_means = pd.DataFrame(grouped_info_means)\n",
    "grouped_info = pd.DataFrame(grouped_info_means)"
   ]
  },
  {
   "cell_type": "code",
   "execution_count": 41,
   "metadata": {},
   "outputs": [
    {
     "data": {
      "text/plain": [
       "['/projects/p30771/dlc_analysis/openfield_dlc_output/GRIN012_H17_M46_S35/GRIN012_H17_M46_S35_dlc_tracking_foranalysis_04142020.csv']"
      ]
     },
     "execution_count": 41,
     "metadata": {},
     "output_type": "execute_result"
    }
   ],
   "source": [
    "failed"
   ]
  },
  {
   "cell_type": "code",
   "execution_count": 42,
   "metadata": {
    "scrolled": false
   },
   "outputs": [
    {
     "data": {
      "text/html": [
       "<div>\n",
       "<style scoped>\n",
       "    .dataframe tbody tr th:only-of-type {\n",
       "        vertical-align: middle;\n",
       "    }\n",
       "\n",
       "    .dataframe tbody tr th {\n",
       "        vertical-align: top;\n",
       "    }\n",
       "\n",
       "    .dataframe thead th {\n",
       "        text-align: right;\n",
       "    }\n",
       "</style>\n",
       "<table border=\"1\" class=\"dataframe\">\n",
       "  <thead>\n",
       "    <tr style=\"text-align: right;\">\n",
       "      <th></th>\n",
       "      <th>GRIN009_H13_M59_S14</th>\n",
       "      <th>GRIN018_H17_M41_S43</th>\n",
       "      <th>GRIN018_H16_M13_S53</th>\n",
       "      <th>GRIN011_H10_M19_S59</th>\n",
       "      <th>GRIN012_H16_M57_S23</th>\n",
       "    </tr>\n",
       "  </thead>\n",
       "  <tbody>\n",
       "    <tr>\n",
       "      <th>total_cells</th>\n",
       "      <td>404.000000</td>\n",
       "      <td>148.000000</td>\n",
       "      <td>45.000000</td>\n",
       "      <td>264.000000</td>\n",
       "      <td>88.000000</td>\n",
       "    </tr>\n",
       "    <tr>\n",
       "      <th>R-squared_mean</th>\n",
       "      <td>0.254531</td>\n",
       "      <td>0.044873</td>\n",
       "      <td>0.149592</td>\n",
       "      <td>0.189125</td>\n",
       "      <td>0.088225</td>\n",
       "    </tr>\n",
       "    <tr>\n",
       "      <th>significant_regressions</th>\n",
       "      <td>118.000000</td>\n",
       "      <td>126.000000</td>\n",
       "      <td>20.000000</td>\n",
       "      <td>89.000000</td>\n",
       "      <td>53.000000</td>\n",
       "    </tr>\n",
       "    <tr>\n",
       "      <th>percent_significant</th>\n",
       "      <td>29.207921</td>\n",
       "      <td>85.135135</td>\n",
       "      <td>44.444444</td>\n",
       "      <td>33.712121</td>\n",
       "      <td>60.227273</td>\n",
       "    </tr>\n",
       "  </tbody>\n",
       "</table>\n",
       "</div>"
      ],
      "text/plain": [
       "                         GRIN009_H13_M59_S14  GRIN018_H17_M41_S43  \\\n",
       "total_cells                       404.000000           148.000000   \n",
       "R-squared_mean                      0.254531             0.044873   \n",
       "significant_regressions           118.000000           126.000000   \n",
       "percent_significant                29.207921            85.135135   \n",
       "\n",
       "                         GRIN018_H16_M13_S53  GRIN011_H10_M19_S59  \\\n",
       "total_cells                        45.000000           264.000000   \n",
       "R-squared_mean                      0.149592             0.189125   \n",
       "significant_regressions            20.000000            89.000000   \n",
       "percent_significant                44.444444            33.712121   \n",
       "\n",
       "                         GRIN012_H16_M57_S23  \n",
       "total_cells                        88.000000  \n",
       "R-squared_mean                      0.088225  \n",
       "significant_regressions            53.000000  \n",
       "percent_significant                60.227273  "
      ]
     },
     "execution_count": 42,
     "metadata": {},
     "output_type": "execute_result"
    }
   ],
   "source": [
    "grouped_info_means"
   ]
  },
  {
   "cell_type": "code",
   "execution_count": 43,
   "metadata": {},
   "outputs": [
    {
     "data": {
      "text/plain": [
       "total_cells                189.800000\n",
       "R-squared_mean               0.145269\n",
       "significant_regressions     81.200000\n",
       "percent_significant         50.545379\n",
       "dtype: float64"
      ]
     },
     "execution_count": 43,
     "metadata": {},
     "output_type": "execute_result"
    }
   ],
   "source": [
    "grouped_info_means.mean(axis=1)"
   ]
  },
  {
   "cell_type": "code",
   "execution_count": 44,
   "metadata": {
    "scrolled": true
   },
   "outputs": [
    {
     "data": {
      "text/plain": [
       "<matplotlib.collections.PathCollection at 0x2b69176854e0>"
      ]
     },
     "execution_count": 44,
     "metadata": {},
     "output_type": "execute_result"
    },
    {
     "data": {
      "image/png": "[encoded data removed]",
      "text/plain": [
       "<Figure size 432x288 with 1 Axes>"
      ]
     },
     "metadata": {
      "needs_background": "light"
     },
     "output_type": "display_data"
    }
   ],
   "source": [
    "plt.scatter(np.ones(len(grouped_info_means.loc['percent_significant'].values)), grouped_info_means.loc['percent_significant'].values)"
   ]
  },
  {
   "cell_type": "code",
   "execution_count": 45,
   "metadata": {},
   "outputs": [
    {
     "data": {
      "text/plain": [
       "<matplotlib.collections.PathCollection at 0x2b6916c797b8>"
      ]
     },
     "execution_count": 45,
     "metadata": {},
     "output_type": "execute_result"
    },
    {
     "data": {
      "image/png": "[encoded data removed]",
      "text/plain": [
       "<Figure size 432x288 with 1 Axes>"
      ]
     },
     "metadata": {
      "needs_background": "light"
     },
     "output_type": "display_data"
    }
   ],
   "source": [
    "#grouped_info_means.loc['R-squared_mean']\n",
    "plt.scatter(np.ones(len(grouped_info_means.loc['R-squared_mean'].values)), grouped_info_means.loc['R-squared_mean'].values)"
   ]
  },
  {
   "cell_type": "markdown",
   "metadata": {},
   "source": [
    "## for group spatial clustering"
   ]
  },
  {
   "cell_type": "code",
   "execution_count": 46,
   "metadata": {},
   "outputs": [],
   "source": [
    "#get spatial components by group\n",
    "spatial_components_by_session = {}\n",
    "for cnmfe_file, tracking_file in zip(CNMFE_dir_paths_list, tracking_files):\n",
    "    com_df, spatial_components = utils_jjm.return_spatial_info(cnmfe_file, 0.6)\n",
    "    spatial_components_by_session[tracking_file.split('/')[-2]] = {'com' : com_df, 'spatial_components' : spatial_components}\n",
    "    "
   ]
  },
  {
   "cell_type": "code",
   "execution_count": 47,
   "metadata": {},
   "outputs": [
    {
     "data": {
      "text/plain": [
       "dict_keys(['GRIN009_H13_M59_S14', 'GRIN018_H17_M41_S43', 'GRIN018_H16_M13_S53', 'GRIN011_H10_M19_S59', 'GRIN012_H17_M46_S35', 'GRIN012_H16_M57_S23'])"
      ]
     },
     "execution_count": 47,
     "metadata": {},
     "output_type": "execute_result"
    }
   ],
   "source": [
    "spatial_components_by_session.keys()"
   ]
  },
  {
   "cell_type": "code",
   "execution_count": 48,
   "metadata": {},
   "outputs": [],
   "source": [
    "#spatial_components_by_session['GRIN013_H13_M33_S54']['com']\n",
    "#group_results_binning['GRIN013_H13_M33_S54']['C_z_scored']"
   ]
  },
  {
   "cell_type": "code",
   "execution_count": 49,
   "metadata": {},
   "outputs": [
    {
     "ename": "KeyError",
     "evalue": "'GRIN012_H17_M46_S35'",
     "output_type": "error",
     "traceback": [
      "\u001b[0;31m---------------------------------------------------------------------------\u001b[0m",
      "\u001b[0;31mKeyError\u001b[0m                                  Traceback (most recent call last)",
      "\u001b[0;32m<ipython-input-49-8f57d05dbfc5>\u001b[0m in \u001b[0;36m<module>\u001b[0;34m\u001b[0m\n\u001b[1;32m      7\u001b[0m     \u001b[0mpairwise_distance\u001b[0m \u001b[0;34m=\u001b[0m \u001b[0mutils_jjm\u001b[0m\u001b[0;34m.\u001b[0m\u001b[0mget_pairwise_distance_by_session\u001b[0m\u001b[0;34m(\u001b[0m\u001b[0mspatial_components_by_session\u001b[0m\u001b[0;34m[\u001b[0m\u001b[0mrecording_session\u001b[0m\u001b[0;34m]\u001b[0m\u001b[0;34m[\u001b[0m\u001b[0;34m'com'\u001b[0m\u001b[0;34m]\u001b[0m\u001b[0;34m)\u001b[0m\u001b[0;34m\u001b[0m\u001b[0;34m\u001b[0m\u001b[0m\n\u001b[1;32m      8\u001b[0m     \u001b[0;31m#binned fluorescence\u001b[0m\u001b[0;34m\u001b[0m\u001b[0;34m\u001b[0m\u001b[0;34m\u001b[0m\u001b[0m\n\u001b[0;32m----> 9\u001b[0;31m     \u001b[0mC_z_scored_binned\u001b[0m \u001b[0;34m=\u001b[0m \u001b[0mgroup_results_binning\u001b[0m\u001b[0;34m[\u001b[0m\u001b[0mrecording_session\u001b[0m\u001b[0;34m]\u001b[0m\u001b[0;34m[\u001b[0m\u001b[0;34m'C_z_scored'\u001b[0m\u001b[0;34m]\u001b[0m\u001b[0;34m.\u001b[0m\u001b[0mapply\u001b[0m\u001b[0;34m(\u001b[0m\u001b[0mutils_jjm\u001b[0m\u001b[0;34m.\u001b[0m\u001b[0mbinning_function_uncrop\u001b[0m\u001b[0;34m,\u001b[0m \u001b[0margs\u001b[0m\u001b[0;34m=\u001b[0m\u001b[0;34m[\u001b[0m\u001b[0mfluoresence_bin_width\u001b[0m\u001b[0;34m,\u001b[0m \u001b[0mZ_score_threshold\u001b[0m\u001b[0;34m]\u001b[0m\u001b[0;34m)\u001b[0m\u001b[0;34m\u001b[0m\u001b[0;34m\u001b[0m\u001b[0m\n\u001b[0m\u001b[1;32m     10\u001b[0m     \u001b[0mC_z_scored_binned\u001b[0m\u001b[0;34m.\u001b[0m\u001b[0mdrop\u001b[0m\u001b[0;34m(\u001b[0m\u001b[0;34m[\u001b[0m\u001b[0;34m'msCamFrame'\u001b[0m\u001b[0;34m]\u001b[0m\u001b[0;34m,\u001b[0m \u001b[0maxis\u001b[0m\u001b[0;34m=\u001b[0m\u001b[0;36m1\u001b[0m\u001b[0;34m,\u001b[0m \u001b[0minplace\u001b[0m\u001b[0;34m=\u001b[0m\u001b[0;32mTrue\u001b[0m\u001b[0;34m)\u001b[0m\u001b[0;34m\u001b[0m\u001b[0;34m\u001b[0m\u001b[0m\n\u001b[1;32m     11\u001b[0m     \u001b[0;31m# get linear pairwise correlation coefficients\u001b[0m\u001b[0;34m\u001b[0m\u001b[0;34m\u001b[0m\u001b[0;34m\u001b[0m\u001b[0m\n",
      "\u001b[0;31mKeyError\u001b[0m: 'GRIN012_H17_M46_S35'"
     ]
    }
   ],
   "source": [
    "## clustering across session\n",
    "clustering_info = {}\n",
    "fluoresence_bin_width = 20\n",
    "Z_score_threshold = 3\n",
    "for recording_session in list(spatial_components_by_session.keys()):\n",
    "    #pairwise_distance\n",
    "    pairwise_distance = utils_jjm.get_pairwise_distance_by_session(spatial_components_by_session[recording_session]['com'])\n",
    "    #binned fluorescence\n",
    "    C_z_scored_binned = group_results_binning[recording_session]['C_z_scored'].apply(utils_jjm.binning_function_uncrop, args=[fluoresence_bin_width, Z_score_threshold])\n",
    "    C_z_scored_binned.drop(['msCamFrame'], axis=1, inplace=True)\n",
    "    # get linear pairwise correlation coefficients\n",
    "    pairwise_pearson = utils_jjm.get_linear_pairwise_correlation_coefficients(C_z_scored_binned, spatial_components_by_session[recording_session]['com'])\n",
    "    clustering_info[recording_session] = {'pairwise_distance' : pairwise_distance, 'C_z_scored_binned' : C_z_scored_binned, 'pairwise_pearson' : pairwise_pearson}"
   ]
  },
  {
   "cell_type": "code",
   "execution_count": 95,
   "metadata": {
    "scrolled": true
   },
   "outputs": [],
   "source": [
    "#clustering_info[list(spatial_components_by_session.keys())[0]]['pairwise_distance']"
   ]
  },
  {
   "cell_type": "code",
   "execution_count": 155,
   "metadata": {},
   "outputs": [],
   "source": [
    "#clustering_info['GRIN034_H15_M28_S2']['pairwise_pearson']"
   ]
  },
  {
   "cell_type": "code",
   "execution_count": 154,
   "metadata": {
    "scrolled": true
   },
   "outputs": [
    {
     "data": {
      "image/png": "[encoded data removed]",
      "text/plain": [
       "<Figure size 432x288 with 1 Axes>"
      ]
     },
     "metadata": {
      "needs_background": "light"
     },
     "output_type": "display_data"
    }
   ],
   "source": [
    "session = 7\n",
    "plt.scatter(clustering_info[list(spatial_components_by_session.keys())[session]]['pairwise_distance'].values, \n",
    "         clustering_info[list(spatial_components_by_session.keys())[session]]['pairwise_pearson'].values)\n",
    "plt.show()"
   ]
  },
  {
   "cell_type": "code",
   "execution_count": 148,
   "metadata": {
    "scrolled": true
   },
   "outputs": [],
   "source": [
    "#clustering_info[list(spatial_components_by_session.keys())[0]]['pairwise_distance']"
   ]
  },
  {
   "cell_type": "code",
   "execution_count": 147,
   "metadata": {},
   "outputs": [],
   "source": [
    "#clustering_info[list(spatial_components_by_session.keys())[0]]['pairwise_distance'].values[0]"
   ]
  },
  {
   "cell_type": "code",
   "execution_count": 172,
   "metadata": {},
   "outputs": [],
   "source": [
    "#run regressions\n",
    "regressions_by_session = {}\n",
    "for cnmfe_file in list(spatial_components_by_session.keys()):\n",
    "    try:\n",
    "        regressions_by_session[cnmfe_file] = utils_jjm.store_regression_info_per_session(clustering_info[cnmfe_file]['pairwise_pearson'].values[0], \n",
    "                                                                                         clustering_info[cnmfe_file]['pairwise_distance'].values[0], 2)\n",
    "        #print(cnmfe_file)\n",
    "    except ValueError:\n",
    "        pass"
   ]
  },
  {
   "cell_type": "code",
   "execution_count": 173,
   "metadata": {},
   "outputs": [],
   "source": [
    "trendlines = pd.DataFrame(np.transpose([regressions_by_session[session]['p1d'](np.linspace(0, 400, 400)) for session in regressions_by_session.keys()]), \n",
    "             columns=regressions_by_session.keys())"
   ]
  },
  {
   "cell_type": "code",
   "execution_count": 174,
   "metadata": {},
   "outputs": [
    {
     "data": {
      "image/png": "[encoded data removed]",
      "text/plain": [
       "<Figure size 432x288 with 1 Axes>"
      ]
     },
     "metadata": {
      "needs_background": "light"
     },
     "output_type": "display_data"
    }
   ],
   "source": [
    "plt.plot(trendlines.mean(axis=1))\n",
    "plt.show()"
   ]
  },
  {
   "cell_type": "code",
   "execution_count": null,
   "metadata": {},
   "outputs": [],
   "source": [
    "#clustering during rest or movement\n",
    "clustering_by_v = {}\n",
    "velocity_threshold = 2\n",
    "for cnmfe_file in list(spatial_components_by_session.keys()):\n",
    "    indicies_to_match = interpolated.iloc[0:len(C_z_scored_binned)][interpolated.iloc[0:len(C_z_scored_binned)]['centroid']>velocity_threshold].index\n",
    "    C_z_scored_by_v = clustering_info[cnmfe_file.split('/')[-2]]['C_z_scored_binned'].iloc[[interpolated.index.get_loc(value) for value in indicies_to_match]]\n",
    "    pairwise_pearson = utils_jjm.get_linear_pairwise_correlation_coefficients(C_z_scored_by_v, spatial_components_by_session[cnmfe_file.split('/')[-2]])\n",
    "    clustering_by_v[spatial_components_by_session[cnmfe_file.split('/')[-2]]] = pairwise_pearson"
   ]
  }
 ],
 "metadata": {
  "kernelspec": {
   "display_name": "caiman",
   "language": "python",
   "name": "caiman"
  },
  "language_info": {
   "codemirror_mode": {
    "name": "ipython",
    "version": 3
   },
   "file_extension": ".py",
   "mimetype": "text/x-python",
   "name": "python",
   "nbconvert_exporter": "python",
   "pygments_lexer": "ipython3",
   "version": "3.6.7"
  }
 },
 "nbformat": 4,
 "nbformat_minor": 2
}
