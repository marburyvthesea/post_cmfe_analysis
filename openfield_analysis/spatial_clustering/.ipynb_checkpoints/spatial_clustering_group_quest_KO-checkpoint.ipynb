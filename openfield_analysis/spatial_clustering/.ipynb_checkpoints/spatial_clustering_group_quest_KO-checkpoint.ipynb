{
 "cells": [
  {
   "cell_type": "code",
   "execution_count": 15,
   "metadata": {},
   "outputs": [
    {
     "data": {
      "text/html": [
       "<style>.container { width:90% !important; }</style>"
      ],
      "text/plain": [
       "<IPython.core.display.HTML object>"
      ]
     },
     "metadata": {},
     "output_type": "display_data"
    }
   ],
   "source": [
    "from IPython.core.display import display, HTML\n",
    "display(HTML(\"<style>.container { width:90% !important; }</style>\"))\n",
    "import numpy as np\n",
    "import pandas as pd\n",
    "import h5py\n",
    "from tqdm import tqdm\n",
    "import scipy.io as sio\n",
    "from scipy import stats\n",
    "from scipy import sparse \n",
    "from importlib import reload\n",
    "from matplotlib import pyplot as plt\n",
    "import sys\n",
    "sys.path.append('/home/jma819/post_cmfe_analysis')\n",
    "#sys.path.append('/Users/johnmarshall/Documents/Analysis/PythonAnalysisScripts/post_cmfe_analysis')\n",
    "import python_utils_jjm as utils_jjm\n",
    "import dlc_utils\n",
    "import caiman\n",
    "import statsmodels.formula.api as smf\n",
    "import scipy.spatial.distance as dist\n",
    "import itertools\n",
    "import math\n",
    "import warnings\n",
    "import numbers\n",
    "from multiprocessing import Pool\n",
    "import functools\n",
    "warnings.filterwarnings(action='once')"
   ]
  },
  {
   "cell_type": "code",
   "execution_count": 16,
   "metadata": {
    "scrolled": false
   },
   "outputs": [
    {
     "data": {
      "text/plain": [
       "<module 'dlc_utils' from '/home/jma819/post_cmfe_analysis/dlc_utils.py'>"
      ]
     },
     "execution_count": 16,
     "metadata": {},
     "output_type": "execute_result"
    }
   ],
   "source": [
    "reload(utils_jjm)\n",
    "reload(dlc_utils)"
   ]
  },
  {
   "cell_type": "code",
   "execution_count": 17,
   "metadata": {},
   "outputs": [],
   "source": [
    "#cnmfe_file_key = pd.read_csv('/volumes/My_Passport/dlc_analysis/behavcamvideos/cnmfe_file_key.csv')\n",
    "cnmfe_file_key = pd.read_csv('/projects/p30771/dlc_analysis/openfield_dlc_output/cnmfe_file_key.csv')"
   ]
  },
  {
   "cell_type": "code",
   "execution_count": 18,
   "metadata": {},
   "outputs": [],
   "source": [
    "#cnmfe_base_dir = '/Volumes/My_Passport/cnmfe_analysis_files/batch_output_files/'\n",
    "cnmfe_base_dir = '/projects/p30771/MATLAB/CNMF_E_jjm/quest_MATLAB_cnmfe/batch_output_files/'\n",
    "wt_CNMFE_file = ['30-Mar_20_39_05_out.mat', '30-Mar_20_45_16_out.mat', '27-Feb_17_33_59_out.mat', '22-Mar_22_52_02_out.mat',\n",
    "                 '28-Feb_16_10_05_out.mat', '27-Feb_17_32_15_out.mat', '28-Feb_16_21_21_out.mat', '25-Mar_13_27_27_out.mat',\n",
    "                 '25-Mar_14_22_02_out.mat', '25-Mar_14_22_44_out.mat', '26-Mar_18_33_55_out.mat', '27-Mar_00_26_12_out.mat', '27-Mar_00_48_46_out.mat']\n",
    "\n",
    "ko_CNMFE_files = ['31-Mar_13_28_15_out.mat', '29-Mar_21_42_20_out.mat', '13-Apr_17_57_40_out.mat', '29-Mar_14_27_55_out.mat', '13-Apr_16_01_20_out.mat',\n",
    "                 '13-Apr_16_11_27_out.mat', '29-Mar_13_39_44_out.mat']"
   ]
  },
  {
   "cell_type": "code",
   "execution_count": 19,
   "metadata": {},
   "outputs": [],
   "source": [
    "#tracking_files = ['/volumes/My_Passport/dlc_analysis/behavcamvideos/'+utils_jjm.find_behavior_tracking(fname, cnmfe_file_key) for fname in wt_CNMFE_file] \n",
    "tracking_files = ['/projects/p30771/dlc_analysis/openfield_dlc_output/'+utils_jjm.find_behavior_tracking(fname, cnmfe_file_key) for fname in ko_CNMFE_files] "
   ]
  },
  {
   "cell_type": "code",
   "execution_count": 20,
   "metadata": {
    "scrolled": true
   },
   "outputs": [],
   "source": [
    "#tracking_files"
   ]
  },
  {
   "cell_type": "code",
   "execution_count": 21,
   "metadata": {},
   "outputs": [],
   "source": [
    "CNMFE_dir_paths_list = [str(cnmfe_base_dir+fname) for fname in ko_CNMFE_files]\n",
    "#CNMFE_dir_paths_list"
   ]
  },
  {
   "cell_type": "code",
   "execution_count": 22,
   "metadata": {},
   "outputs": [],
   "source": [
    "\n",
    "grouped_raw_data = {}\n",
    "success = []\n",
    "failed = []\n",
    "for CNMFE_file, tracking_file in zip(CNMFE_dir_paths_list, tracking_files):\n",
    "    #print(CNMFE_file)\n",
    "    #print(tracking_file)\n",
    "    try:\n",
    "        # load cell fluorescence \n",
    "        cell_fluorescence = sio.loadmat(CNMFE_file)\n",
    "        C_timedelta = utils_jjm.create_fluorescence_time_delta(cell_fluorescence['C'])\n",
    "        C_normalized = C_timedelta.apply(utils_jjm.normalize).set_index(pd.to_timedelta(np.linspace(0, (len(C_timedelta)-1)*(1/20), len(C_timedelta)), unit='s'), drop=True)\n",
    "        C_z_scored = C_timedelta.apply(stats.zscore).set_index(pd.to_timedelta(np.linspace(0, (len(C_timedelta)-1)*(1/20), len(C_timedelta)), unit='s'), drop=True)\n",
    "        C_normalized_z_scored = C_normalized.apply(stats.zscore).set_index(pd.to_timedelta(np.linspace(0, (len(C_normalized)-1)*(1/20), len(C_normalized)), unit='s'), drop=True)\n",
    "        # create tracking time deltas\n",
    "        interpolated = utils_jjm.prepare_timedelta_dfs(tracking_file)\n",
    "        #load spatial components by session\n",
    "        com_df, spatial_components = utils_jjm.return_spatial_info(CNMFE_file, 0.6)\n",
    "        cell_contours, for_dims = utils_jjm.create_contour_layouts(spatial_components)\n",
    "        #C_z_scored_filtered = utils_jjm.filter_out_by_size(C_z_scored, cell_contours, for_dims, 0.6, 100)\n",
    "        #store results \n",
    "        grouped_raw_data[tracking_file.split('/')[-2]] = {'C': C_timedelta, 'C_z_scored': C_z_scored, 'C_normalized': C_normalized, 'C_normalized_z_scored': C_normalized_z_scored, \n",
    "                                                          'interpolated' : interpolated, 'com' : com_df, 'spatial_components' : spatial_components, 'cell_contours': cell_contours,  \n",
    "                                                         'for_dims' : for_dims}\n",
    "        success.append((tracking_file.split('/')[-2], CNMFE_file.split('/')[-1]))\n",
    "    except FileNotFoundError:\n",
    "        failed.append(tracking_file)\n",
    "    except OSError:\n",
    "        failed.append(tracking_file)"
   ]
  },
  {
   "cell_type": "markdown",
   "metadata": {},
   "source": [
    "## spatial clustering"
   ]
  },
  {
   "cell_type": "code",
   "execution_count": 23,
   "metadata": {},
   "outputs": [],
   "source": [
    "## combine dfs for each session to bin velocity values across dfs\n",
    "#downsample\n",
    "new_sampling_interval = .2\n",
    "V_df = pd.concat([grouped_raw_data[session]['interpolated'].resample(str(new_sampling_interval)+'S').max() \n",
    "                  for session in list(grouped_raw_data.keys())], keys=list(grouped_raw_data.keys()))\n",
    "all_sessions_v_bins = pd.cut(V_df['tail_base'], bins=50)\n",
    "\n",
    "V_df['velocity_bins'] = all_sessions_v_bins"
   ]
  },
  {
   "cell_type": "code",
   "execution_count": 24,
   "metadata": {},
   "outputs": [],
   "source": [
    "# compile and filter fluorescence\n",
    "filtered_for_analysis = {}\n",
    "for session in list(grouped_raw_data.keys()):\n",
    "    filtered_for_analysis[session] = utils_jjm.filter_out_by_size(grouped_raw_data[session]['C_normalized_z_scored'], grouped_raw_data[session]['cell_contours'], \n",
    "                                                                  grouped_raw_data[session]['for_dims'], 0.6, 100)\n",
    "C_df = pd.concat([filtered_for_analysis[session].resample(str(new_sampling_interval)+'S').max()\n",
    "                  for session in list(grouped_raw_data.keys())], keys=list(grouped_raw_data.keys()))\n"
   ]
  },
  {
   "cell_type": "markdown",
   "metadata": {},
   "source": [
    "# save data as sparse matricies "
   ]
  },
  {
   "cell_type": "markdown",
   "metadata": {},
   "source": [
    "# parallel implementation"
   ]
  },
  {
   "cell_type": "code",
   "execution_count": null,
   "metadata": {},
   "outputs": [],
   "source": [
    "plt.plot(C_df.loc[session][1].values[6230:6248])\n",
    "plt.plot(C_df.loc[session][36].values[6230:6248])\n",
    "plt.show()"
   ]
  },
  {
   "cell_type": "code",
   "execution_count": null,
   "metadata": {},
   "outputs": [],
   "source": [
    "plt.plot(cells_in_session[15][0:100].values)\n",
    "plt.plot(cells_in_session[23][0:100].values)\n",
    "plt.show()\n",
    "\n",
    "plt.plot(reindexed[15].values[0:100])\n",
    "plt.plot(reindexed[23].values[0:100])\n",
    "plt.show()"
   ]
  },
  {
   "cell_type": "code",
   "execution_count": 11,
   "metadata": {},
   "outputs": [],
   "source": [
    "def map_to_sparse_matrix(cell_pairs, orig_df_comparison, time_index):\n",
    "    indicies_to_update = []\n",
    "    if time_index%1000==0:\n",
    "        print(time_index)\n",
    "    for pair, pair_idx in zip(cell_pairs, range(len(cell_pairs))):\n",
    "        if (orig_df_comparison.loc[time_index][pair[0]] == 1) and (orig_df_comparison.loc[time_index][pair[1]] == 1):\n",
    "            indicies_to_update.append((time_index, pair_idx))\n",
    "        else:\n",
    "            pass\n",
    "    return(indicies_to_update)"
   ]
  },
  {
   "cell_type": "code",
   "execution_count": 12,
   "metadata": {},
   "outputs": [
    {
     "name": "stderr",
     "output_type": "stream",
     "text": [
      "\r",
      "  0%|          | 0/6 [00:00<?, ?it/s]"
     ]
    },
    {
     "name": "stdout",
     "output_type": "stream",
     "text": [
      "0\n",
      "1000\n",
      "3000\n",
      "2000\n",
      "4000\n",
      "6000\n",
      "5000\n"
     ]
    },
    {
     "name": "stderr",
     "output_type": "stream",
     "text": [
      "\r",
      " 17%|█▋        | 1/6 [21:30<1:47:30, 1290.12s/it]"
     ]
    },
    {
     "name": "stdout",
     "output_type": "stream",
     "text": [
      "0\n",
      "1000\n",
      "2000\n",
      "3000\n",
      "5000\n",
      "4000\n"
     ]
    },
    {
     "name": "stderr",
     "output_type": "stream",
     "text": [
      "\r",
      " 33%|███▎      | 2/6 [24:55<1:04:18, 964.74s/it] "
     ]
    },
    {
     "name": "stdout",
     "output_type": "stream",
     "text": [
      "0\n",
      "1000\n",
      "2000\n",
      "3000\n",
      "4000\n",
      "5000\n",
      "6000\n",
      "7000\n"
     ]
    },
    {
     "name": "stderr",
     "output_type": "stream",
     "text": [
      "\r",
      " 50%|█████     | 3/6 [27:17<35:53, 717.79s/it]  "
     ]
    },
    {
     "name": "stdout",
     "output_type": "stream",
     "text": [
      "0\n",
      "1000\n",
      "3000\n",
      "2000\n",
      "4000\n",
      "6000\n",
      "5000\n"
     ]
    },
    {
     "name": "stderr",
     "output_type": "stream",
     "text": [
      "\r",
      " 67%|██████▋   | 4/6 [1:10:34<42:43, 1281.50s/it]"
     ]
    },
    {
     "name": "stdout",
     "output_type": "stream",
     "text": [
      "0\n",
      "1000\n",
      "2000\n",
      "3000\n",
      "5000\n",
      "4000\n"
     ]
    },
    {
     "name": "stderr",
     "output_type": "stream",
     "text": [
      "\r",
      " 83%|████████▎ | 5/6 [1:13:18<15:46, 946.42s/it] "
     ]
    },
    {
     "name": "stdout",
     "output_type": "stream",
     "text": [
      "0\n",
      "1000\n",
      "2000\n",
      "3000\n",
      "4000\n"
     ]
    },
    {
     "name": "stderr",
     "output_type": "stream",
     "text": [
      "100%|██████████| 6/6 [1:19:21<00:00, 771.42s/it]\n",
      "100%|██████████| 6/6 [00:02<00:00,  2.20it/s]\n"
     ]
    }
   ],
   "source": [
    "# analyze by session in parallel\n",
    "\n",
    "coactivity_by_session = {}\n",
    "for session in tqdm(list(grouped_raw_data.keys())):\n",
    "    cells_to_drop = np.array([cell for cell in range(1, len(grouped_raw_data[session]['cell_contours'])+1) if \n",
    "                              len(np.array(np.where(grouped_raw_data[session]['for_dims'][cell]>0.6)[0]))<100])\n",
    "    filtered_centers_of_mass = grouped_raw_data[session]['com'].drop(cells_to_drop, axis =0)\n",
    "    com_distances = utils_jjm.get_pairwise_distance_by_session(filtered_centers_of_mass)\n",
    "\n",
    "    ##get binned fluorescence and calc Jaccard scores\n",
    "    #arguments are sample widths to bin and z score thresholds\n",
    "    cells_in_session = C_df.loc[session].dropna(axis=1).drop('msCamFrame', axis=1)\n",
    "    binned_fluorescence = cells_in_session.apply(utils_jjm.binning_function_uncrop, args=[1, 4])\n",
    "\n",
    "    reindexed = binned_fluorescence.set_index(int(x) for x in np.linspace(0, len(binned_fluorescence)-1, len(binned_fluorescence)))\n",
    "    \n",
    "    cell_pairs = np.array([pair for pair in itertools.combinations(list(reindexed.columns), 2)])\n",
    "    \n",
    "    #create dictionary of cell pairs, keys are index in the list of pair combinations\n",
    "    pairs_dict = {pair_idx:pair for (pair_idx , pair) in zip(range(len(cell_pairs)), cell_pairs)}\n",
    "    \n",
    "    coactivity_in_session_p = sparse.dok_matrix((len(reindexed), len(cell_pairs)))\n",
    "    \n",
    "    # search for indicies with coactivity\n",
    "    p=Pool(9)\n",
    "    indicies = [cell_indicies for cell_indicies in list(p.map(functools.partial(map_to_sparse_matrix, cell_pairs, reindexed), range(len(reindexed)))) if len(cell_indicies)>0]\n",
    "    indicies_flattened = [indx for sublist in indicies for indx in sublist]\n",
    "    \n",
    "    p.close\n",
    "    \n",
    "    # update the coactivity matrix \n",
    "    for dok_index in indicies_flattened:\n",
    "        coactivity_in_session_p[dok_index[0], dok_index[1]] = 1\n",
    "    \n",
    "    coactivity_by_session[session] =  {'coactivity_in_session': coactivity_in_session_p, 'cell_pairs':pairs_dict}\n",
    "    \n",
    "    \n",
    "\n",
    "#save data to npz format \n",
    "\n",
    "directory_path='/projects/p30771/miniscope/analysis/OpenFieldAnalysis/spatial_clusters/zscore_4/'\n",
    "\n",
    "for session in tqdm(list(grouped_raw_data.keys())):\n",
    "    csr_matrix = coactivity_by_session[session]['coactivity_in_session'].tocsc()\n",
    "\n",
    "    sparse.save_npz(directory_path+str(session)+\".npz\",\n",
    "                      csr_matrix)\n",
    "\n",
    "    pd.DataFrame(coactivity_by_session[session]['cell_pairs']).to_csv(directory_path+str(session)+\".csv\")\n",
    "\n",
    "    #f.close()\n"
   ]
  },
  {
   "cell_type": "markdown",
   "metadata": {},
   "source": [
    "# load saved data and plot spatial coordination index "
   ]
  },
  {
   "cell_type": "code",
   "execution_count": 13,
   "metadata": {
    "scrolled": true
   },
   "outputs": [
    {
     "name": "stdout",
     "output_type": "stream",
     "text": [
      "GRIN009_H13_M59_S14\n"
     ]
    },
    {
     "name": "stderr",
     "output_type": "stream",
     "text": [
      "  0%|          | 0/6250 [00:00<?, ?it/s]/home/jma819/.conda/envs/caiman/lib/python3.6/site-packages/ipykernel_launcher.py:27: RuntimeWarning: invalid value encountered in true_divide\n",
      "/home/jma819/.conda/envs/caiman/lib/python3.6/site-packages/scipy/stats/_distn_infrastructure.py:903: RuntimeWarning: invalid value encountered in greater\n",
      "  return (a < x) & (x < b)\n",
      "/home/jma819/.conda/envs/caiman/lib/python3.6/site-packages/scipy/stats/_distn_infrastructure.py:903: RuntimeWarning: invalid value encountered in less\n",
      "  return (a < x) & (x < b)\n",
      "/home/jma819/.conda/envs/caiman/lib/python3.6/site-packages/scipy/stats/_distn_infrastructure.py:1827: RuntimeWarning: invalid value encountered in greater_equal\n",
      "  cond2 = (x >= np.asarray(_b)) & cond0\n",
      "100%|██████████| 6250/6250 [00:28<00:00, 219.28it/s]\n"
     ]
    },
    {
     "name": "stdout",
     "output_type": "stream",
     "text": [
      "GRIN018_H17_M41_S43\n"
     ]
    },
    {
     "name": "stderr",
     "output_type": "stream",
     "text": [
      "100%|██████████| 5250/5250 [00:09<00:00, 112.53it/s] \n"
     ]
    },
    {
     "name": "stdout",
     "output_type": "stream",
     "text": [
      "GRIN018_H16_M13_S53\n"
     ]
    },
    {
     "name": "stderr",
     "output_type": "stream",
     "text": [
      "100%|██████████| 7250/7250 [00:09<00:00, 755.27it/s] \n"
     ]
    },
    {
     "name": "stdout",
     "output_type": "stream",
     "text": [
      "GRIN011_H10_M19_S59\n"
     ]
    },
    {
     "name": "stderr",
     "output_type": "stream",
     "text": [
      "100%|██████████| 6250/6250 [01:29<00:00, 69.86it/s] \n"
     ]
    },
    {
     "name": "stdout",
     "output_type": "stream",
     "text": [
      "GRIN012_H17_M32_S17\n"
     ]
    },
    {
     "name": "stderr",
     "output_type": "stream",
     "text": [
      "100%|██████████| 5209/5209 [00:09<00:00, 543.67it/s] \n"
     ]
    },
    {
     "name": "stdout",
     "output_type": "stream",
     "text": [
      "GRIN012_H16_M57_S23\n"
     ]
    },
    {
     "name": "stderr",
     "output_type": "stream",
     "text": [
      "100%|██████████| 5000/5000 [00:15<00:00, 320.95it/s] \n"
     ]
    }
   ],
   "source": [
    "spatial_coordination_by_session = {}\n",
    "for session in list(grouped_raw_data.keys()):\n",
    "    print(session)\n",
    "    session_coactivity = sparse.load_npz('/projects/p30771/miniscope/analysis/OpenFieldAnalysis/spatial_clusters/zscore_4/'+str(session)+'.npz')\n",
    "    cell_pairs = pd.read_csv('/projects/p30771/miniscope/analysis/OpenFieldAnalysis/spatial_clusters/zscore_4/'+str(session)+'.csv')\n",
    "# get indicies of small cells \n",
    "    cells_to_drop = np.array([cell for cell in range(1, len(grouped_raw_data[session]['cell_contours'])+1) if \n",
    "                          len(np.array(np.where(grouped_raw_data[session]['for_dims'][cell]>0.6)[0]))<100])\n",
    "#compile and filter cell centers of mass\n",
    "    filtered_centers_of_mass = grouped_raw_data[session]['com'].drop(cells_to_drop, axis =0)\n",
    "    com_distances = utils_jjm.get_pairwise_distance_by_session(filtered_centers_of_mass)\n",
    "\n",
    "# get one sided ks tests from h5 data set\n",
    "    binnums = 50\n",
    "    ks_one_sided_more = []\n",
    "    ks_one_sided_less = []\n",
    "    active_cell_ids = []\n",
    "    active_cell_distances_list = []\n",
    "    for time_point in tqdm(range(np.shape(session_coactivity)[0])):\n",
    "        active_cells = [active_cell_pair_idx[1] for active_cell_pair_idx in np.argwhere(session_coactivity[time_point])]\n",
    "        # might need to sort each cell pair to ensure smallest 1st\n",
    "        cell_ids = np.array([sorted(cell_pairs[str(active_cell_idx)].values) for active_cell_idx in active_cells])\n",
    "        active_cell_ids.append(cell_ids)\n",
    "        active_cell_distances = np.array([com_distances[cell_id[0]][cell_id[1]].values[0] for cell_id in cell_ids])\n",
    "        active_cell_distances_list.append(active_cell_distances)\n",
    "        cum_results_coactive = stats.cumfreq(active_cell_distances, numbins=binnums, defaultreallimits=(0, 500))\n",
    "        less_result = stats.kstest(cum_results_coactive.cumcount/len(active_cell_distances), 'norm', alternative='less')\n",
    "        more_result = stats.kstest(cum_results_coactive.cumcount/len(active_cell_distances), 'norm', alternative='greater')\n",
    "        ks_one_sided_more.append(more_result.pvalue)\n",
    "        ks_one_sided_less.append(less_result.pvalue)\n",
    "    \n",
    "    spatial_coordination_by_session[session] = {'ks_one_sided_more' : ks_one_sided_more, 'ks_one_sided_less' : ks_one_sided_less, \n",
    "                                                'cell_ids': active_cell_ids, 'active_cell_distances': active_cell_distances_list}"
   ]
  },
  {
   "cell_type": "code",
   "execution_count": 14,
   "metadata": {
    "scrolled": true
   },
   "outputs": [],
   "source": [
    "f_path = 'ko_spatial_coordination_binsize_'+str(binnums)+'.h5'\n",
    "f = h5py.File('/projects/p30771/miniscope/analysis/OpenFieldAnalysis/spatial_clusters/zscore_4/'+f_path)\n",
    "for session in list(spatial_coordination_by_session.keys()):\n",
    "    group = f.create_group(session)\n",
    "    for measure in list(spatial_coordination_by_session[session].keys()):\n",
    "        if measure not in ['cell_ids', 'active_cell_distances']:\n",
    "            group.create_dataset(measure, data=np.array(spatial_coordination_by_session[session][measure]))\n",
    "        elif measure == 'cell_ids':\n",
    "            subgroup = group.create_group('cell_ids')\n",
    "            for time_point in range(len(spatial_coordination_by_session[session][measure])):\n",
    "                subgroup.create_dataset(str(time_point), data=spatial_coordination_by_session[session][measure][time_point])\n",
    "        elif measure == 'active_cell_distances':\n",
    "            subgroup = group.create_group('active_cell_distances')\n",
    "            for time_point in range(len(spatial_coordination_by_session[session][measure])):\n",
    "                subgroup.create_dataset(str(time_point), data=spatial_coordination_by_session[session][measure][time_point])\n",
    "f.close()            \n",
    "            "
   ]
  },
  {
   "cell_type": "code",
   "execution_count": null,
   "metadata": {},
   "outputs": [],
   "source": []
  },
  {
   "cell_type": "code",
   "execution_count": null,
   "metadata": {
    "scrolled": true
   },
   "outputs": [],
   "source": [
    "## compile coordination index info by session\n",
    "\n",
    "triggered_activity_across_sessions = {}\n",
    "\n",
    "for session in list(grouped_raw_data.keys()):\n",
    "    ks_one_sided_less = spatial_coordination_by_session[session]['ks_one_sided_less']\n",
    "    coord_index = np.nan_to_num([math.log(result.pvalue, 10)*-1 for result in ks_one_sided_less])\n",
    "\n",
    "    #put coordination index on time delta dataframe\n",
    "    coord_index_df = pd.DataFrame(coord_index, columns=['spatial_coordination_index'])\n",
    "    coord_index_df_time = coord_index_df.set_index(pd.to_timedelta(np.linspace(0, (len(coord_index_df)-1)*(1/5), len(coord_index_df)), unit='s'), drop=True)\n",
    "\n",
    "    # bin by activity threshold (body_part, resting_time_threshold, active_time_threshold, crossing_threshold, resting_threshold, activity_threshold)\n",
    "    binned_velocity_df = pd.DataFrame([dlc_utils.bin_by_activity_threshold(V_df.loc[session]['tail_base'], 80, 20, 1, 2, 2) for session in list(grouped_raw_data.keys())], index=list(grouped_raw_data.keys()))\n",
    "    binned_velocity_df = binned_velocity_df.transpose()\n",
    "\n",
    "    crossing_indicies = utils_jjm.select_trigger_regions(binned_velocity_df[session], 0.5, 0.5, 20)\n",
    "    #inputs time_to_plot\n",
    "    \n",
    "    threshold_activity = utils_jjm.average_triggered_regions(V_df.loc[session]['tail_base'].values, crossing_indicies, 80)\n",
    "    \n",
    "    coordination_threshold_activity = utils_jjm.average_triggered_regions(coord_index, crossing_indicies, 80)\n",
    "    \n",
    "    triggered_activity_across_sessions[session] = pd.concat([threshold_activity, coordination_threshold_activity], axis=1, keys=['velocity', 'spatial_coordination'])"
   ]
  },
  {
   "cell_type": "code",
   "execution_count": null,
   "metadata": {
    "scrolled": true
   },
   "outputs": [],
   "source": [
    "triggered_activity_across_sessions['GRIN013_H13_M33_S54']['spatial_coordination'].head()"
   ]
  },
  {
   "cell_type": "markdown",
   "metadata": {},
   "source": [
    "# triggered_activity_across_sessions"
   ]
  },
  {
   "cell_type": "code",
   "execution_count": 26,
   "metadata": {},
   "outputs": [
    {
     "name": "stderr",
     "output_type": "stream",
     "text": [
      "/home/jma819/.conda/envs/caiman/lib/python3.6/site-packages/numpy/core/fromnumeric.py:3335: RuntimeWarning: Mean of empty slice.\n",
      "  out=out, **kwargs)\n",
      "/home/jma819/.conda/envs/caiman/lib/python3.6/site-packages/numpy/core/_methods.py:161: RuntimeWarning: invalid value encountered in double_scalars\n",
      "  ret = ret.dtype.type(ret / rcount)\n"
     ]
    }
   ],
   "source": [
    "## compile coordination index info by session\n",
    "body_part = 'tail_base'\n",
    "triggered_activity_across_sessions = {}\n",
    "\n",
    "for session in list(grouped_raw_data.keys()):\n",
    "    ks_one_sided_less = spatial_coordination_by_session[session]['ks_one_sided_less']\n",
    "    coord_index = np.nan_to_num([math.log(result, 100)*-1 for result in ks_one_sided_less])\n",
    "\n",
    "    #put coordination index on time delta dataframe\n",
    "    coord_index_df = pd.DataFrame(coord_index, columns=['spatial_coordination_index'])\n",
    "    coord_index_df_time = coord_index_df.set_index(pd.to_timedelta(np.linspace(0, (len(coord_index_df)-1)*(1/5), len(coord_index_df)), unit='s'), drop=True)\n",
    "\n",
    "    # bin by activity threshold (body_part, resting_time_threshold, active_time_threshold, crossing_threshold, resting_threshold, activity_threshold)\n",
    "    binned_velocity_df = pd.DataFrame([dlc_utils.bin_by_activity_threshold(V_df.loc[session][body_part], 80, 20, 1, 2, 3) for session in list(grouped_raw_data.keys())], index=list(grouped_raw_data.keys()))\n",
    "    binned_velocity_df = binned_velocity_df.transpose()\n",
    "\n",
    "    crossing_indicies = utils_jjm.select_trigger_regions(binned_velocity_df[session], 0.5, 0.5, 20)\n",
    "    #inputs time_to_plot\n",
    "    \n",
    "    threshold_activity = utils_jjm.average_triggered_regions(V_df.loc[session][body_part].values, crossing_indicies, 80)\n",
    "    \n",
    "    coordination_threshold_activity = utils_jjm.average_triggered_regions(coord_index, crossing_indicies, 80)\n",
    "    \n",
    "    triggered_activity_across_sessions[session] = pd.concat([threshold_activity, coordination_threshold_activity], axis=1, keys=['velocity', 'spatial_coordination'])"
   ]
  },
  {
   "cell_type": "code",
   "execution_count": 27,
   "metadata": {},
   "outputs": [],
   "source": [
    "#concat by mouse \n",
    "concacted_by_mouse = {}\n",
    "for mouse in list(set([session[0:7] for session in list(triggered_activity_across_sessions.keys())])):\n",
    "    dfs_by_mouse = []\n",
    "    sessions = []\n",
    "    for session in list(triggered_activity_across_sessions.keys()):\n",
    "        if mouse in session:\n",
    "            if not(triggered_activity_across_sessions[session].empty):\n",
    "                means = triggered_activity_across_sessions[session].mean(axis=1, level=0)\n",
    "                dfs_by_mouse.append(means)\n",
    "                sessions.append(session)\n",
    "    if len(dfs_by_mouse)>0:\n",
    "        concacted_by_mouse[mouse] = pd.concat(dfs_by_mouse, axis=1, keys=sessions)\n",
    "combined_by_mouse = pd.concat(list(concacted_by_mouse.values()), axis=1, keys=list(concacted_by_mouse.keys()))"
   ]
  },
  {
   "cell_type": "code",
   "execution_count": 28,
   "metadata": {},
   "outputs": [],
   "source": [
    "combined_by_mouse_timedelta = combined_by_mouse.set_index(pd.to_timedelta(np.linspace(0, (len(combined_by_mouse)-1)*(1/5), len(combined_by_mouse)), unit='s'), drop=True)"
   ]
  },
  {
   "cell_type": "code",
   "execution_count": 29,
   "metadata": {},
   "outputs": [],
   "source": [
    "resampled_for_plotting = combined_by_mouse_timedelta.resample('.4S').mean()"
   ]
  },
  {
   "cell_type": "code",
   "execution_count": 30,
   "metadata": {},
   "outputs": [
    {
     "data": {
      "image/png": "[encoded data removed]",
      "text/plain": [
       "<Figure size 504x432 with 1 Axes>"
      ]
     },
     "metadata": {
      "needs_background": "light"
     },
     "output_type": "display_data"
    }
   ],
   "source": [
    "df_to_plot = resampled_for_plotting\n",
    "activity_measure = 'spatial_coordination'\n",
    "x = np.linspace(-(len(df_to_plot)/2)*.5, (len(df_to_plot)/2)*.5, len(df_to_plot))\n",
    "mean=df_to_plot.mean(axis=1, level=2)['velocity'].values\n",
    "plt.plot(x, df_to_plot.mean(axis=1, level=2)['velocity'].values, color='k')\n",
    "std_error = (df_to_plot.std(axis=1, level=2)['velocity'])/math.sqrt(df_to_plot.mean(axis=1, level=0).shape[1])\n",
    "plt.fill_between(x, mean-std_error, mean+std_error)\n",
    "ax = plt.gca()\n",
    "ax.set_ylabel('velocity')\n",
    "ax.set_xlabel('time (seconds)')\n",
    "ax.axvline(x=(0), linestyle='--', color='r')\n",
    "fig = plt.gcf()\n",
    "fig.set_size_inches(7, 6)\n",
    "#fig.draw()\n",
    "#fig.savefig('.svg')\n",
    "plt.show()"
   ]
  },
  {
   "cell_type": "code",
   "execution_count": 39,
   "metadata": {},
   "outputs": [
    {
     "data": {
      "image/png": "[encoded data removed]",
      "text/plain": [
       "<Figure size 504x432 with 1 Axes>"
      ]
     },
     "metadata": {
      "needs_background": "light"
     },
     "output_type": "display_data"
    }
   ],
   "source": [
    "x = np.linspace(-(len(df_to_plot)/2)*.5, (len(df_to_plot)/2)*.5, len(df_to_plot))\n",
    "mean = df_to_plot.mean(axis=1, level=2)[activity_measure].values\n",
    "plt.plot(x, mean, color='k')\n",
    "std_error = (df_to_plot.std(axis=1, level=2)[activity_measure])/math.sqrt(df_to_plot.mean(axis=1, level=0).shape[1]*1)\n",
    "plt.fill_between(x, mean-std_error, mean+std_error, color='c')\n",
    "ax = plt.gca()\n",
    "ax.set_ylabel('spatial coordination index')\n",
    "ax.set_xlabel('time (seconds)')\n",
    "ax.axvline(x=0, linestyle='--', color='r')\n",
    "fig = plt.gcf()\n",
    "fig.set_size_inches(7, 6)\n",
    "#fig.draw()\n",
    "#fig.savefig('.svg')\n",
    "plt.show()"
   ]
  },
  {
   "cell_type": "code",
   "execution_count": 55,
   "metadata": {},
   "outputs": [
    {
     "name": "stdout",
     "output_type": "stream",
     "text": [
      "GRIN009_H13_M59_S14\n",
      "GRIN018_H17_M41_S43\n",
      "GRIN018_H16_M13_S53\n",
      "GRIN011_H10_M19_S59\n",
      "GRIN012_H17_M32_S17\n",
      "GRIN012_H16_M57_S23\n"
     ]
    }
   ],
   "source": [
    "spatial_index_correlations = []\n",
    "for session in list(grouped_raw_data.keys()):\n",
    "    print(session)\n",
    "    coordination_index = np.nan_to_num([math.log(result, 100)*-1 for result in spatial_coordination_by_session[session]['ks_one_sided_less']])\n",
    "    velocity = V_df.loc[session]['tail_base'].values[:len(coordination_index)]\n",
    "    if len(coordination_index)<=len(velocity):\n",
    "        spatial_index_correlations.append(stats.pearsonr(coordination_index, velocity)[0])\n",
    "    else:\n",
    "        spatial_index_correlations.append(stats.pearsonr(coordination_index[:len(velocity)], velocity)[0])"
   ]
  },
  {
   "cell_type": "code",
   "execution_count": 57,
   "metadata": {
    "scrolled": true
   },
   "outputs": [
    {
     "data": {
      "text/plain": [
       "0.10406498255358688"
      ]
     },
     "execution_count": 57,
     "metadata": {},
     "output_type": "execute_result"
    }
   ],
   "source": [
    "np.mean(np.array(spatial_index_correlations))"
   ]
  },
  {
   "cell_type": "code",
   "execution_count": 58,
   "metadata": {},
   "outputs": [
    {
     "data": {
      "text/plain": [
       "[0.0551927415216666,\n",
       " -9.816766919926262e-05,\n",
       " 0.052190785652517876,\n",
       " 0.2237641541425582,\n",
       " -0.05245741187357702,\n",
       " 0.3457977935475549]"
      ]
     },
     "execution_count": 58,
     "metadata": {},
     "output_type": "execute_result"
    }
   ],
   "source": [
    "spatial_index_correlations"
   ]
  },
  {
   "cell_type": "code",
   "execution_count": null,
   "metadata": {},
   "outputs": [],
   "source": []
  }
 ],
 "metadata": {
  "kernelspec": {
   "display_name": "caiman",
   "language": "python",
   "name": "caiman"
  },
  "language_info": {
   "codemirror_mode": {
    "name": "ipython",
    "version": 3
   },
   "file_extension": ".py",
   "mimetype": "text/x-python",
   "name": "python",
   "nbconvert_exporter": "python",
   "pygments_lexer": "ipython3",
   "version": "3.6.7"
  }
 },
 "nbformat": 4,
 "nbformat_minor": 2
}
