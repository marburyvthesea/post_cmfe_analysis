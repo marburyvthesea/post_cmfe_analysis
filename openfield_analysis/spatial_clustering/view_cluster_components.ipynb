{
 "cells": [
  {
   "cell_type": "code",
   "execution_count": 1,
   "metadata": {},
   "outputs": [
    {
     "data": {
      "text/html": [
       "<style>.container { width:90% !important; }</style>"
      ],
      "text/plain": [
       "<IPython.core.display.HTML object>"
      ]
     },
     "metadata": {},
     "output_type": "display_data"
    },
    {
     "name": "stderr",
     "output_type": "stream",
     "text": [
      "/Users/johnmarshall/anaconda3/envs/caiman/lib/python3.6/site-packages/sklearn/utils/deprecation.py:144: FutureWarning: The sklearn.decomposition.incremental_pca module is  deprecated in version 0.22 and will be removed in version 0.24. The corresponding classes / functions should instead be imported from sklearn.decomposition. Anything that cannot be imported from sklearn.decomposition is now part of the private API.\n",
      "  warnings.warn(message, FutureWarning)\n",
      "/Users/johnmarshall/anaconda3/envs/caiman/lib/python3.6/site-packages/tensorflow/python/framework/dtypes.py:526: FutureWarning: Passing (type, 1) or '1type' as a synonym of type is deprecated; in a future version of numpy, it will be understood as (type, (1,)) / '(1,)type'.\n",
      "  _np_qint8 = np.dtype([(\"qint8\", np.int8, 1)])\n",
      "/Users/johnmarshall/anaconda3/envs/caiman/lib/python3.6/site-packages/tensorflow/python/framework/dtypes.py:527: FutureWarning: Passing (type, 1) or '1type' as a synonym of type is deprecated; in a future version of numpy, it will be understood as (type, (1,)) / '(1,)type'.\n",
      "  _np_quint8 = np.dtype([(\"quint8\", np.uint8, 1)])\n",
      "/Users/johnmarshall/anaconda3/envs/caiman/lib/python3.6/site-packages/tensorflow/python/framework/dtypes.py:528: FutureWarning: Passing (type, 1) or '1type' as a synonym of type is deprecated; in a future version of numpy, it will be understood as (type, (1,)) / '(1,)type'.\n",
      "  _np_qint16 = np.dtype([(\"qint16\", np.int16, 1)])\n",
      "/Users/johnmarshall/anaconda3/envs/caiman/lib/python3.6/site-packages/tensorflow/python/framework/dtypes.py:529: FutureWarning: Passing (type, 1) or '1type' as a synonym of type is deprecated; in a future version of numpy, it will be understood as (type, (1,)) / '(1,)type'.\n",
      "  _np_quint16 = np.dtype([(\"quint16\", np.uint16, 1)])\n",
      "/Users/johnmarshall/anaconda3/envs/caiman/lib/python3.6/site-packages/tensorflow/python/framework/dtypes.py:530: FutureWarning: Passing (type, 1) or '1type' as a synonym of type is deprecated; in a future version of numpy, it will be understood as (type, (1,)) / '(1,)type'.\n",
      "  _np_qint32 = np.dtype([(\"qint32\", np.int32, 1)])\n",
      "/Users/johnmarshall/anaconda3/envs/caiman/lib/python3.6/site-packages/tensorflow/python/framework/dtypes.py:535: FutureWarning: Passing (type, 1) or '1type' as a synonym of type is deprecated; in a future version of numpy, it will be understood as (type, (1,)) / '(1,)type'.\n",
      "  np_resource = np.dtype([(\"resource\", np.ubyte, 1)])\n"
     ]
    }
   ],
   "source": [
    "from IPython.core.display import display, HTML\n",
    "display(HTML(\"<style>.container { width:90% !important; }</style>\"))\n",
    "import numpy as np\n",
    "import pandas as pd\n",
    "import h5py\n",
    "from tqdm import tqdm\n",
    "import scipy.io as sio\n",
    "from scipy import stats\n",
    "from importlib import reload\n",
    "from matplotlib import pyplot as plt\n",
    "from matplotlib import animation\n",
    "from IPython.display import HTML\n",
    "import sys\n",
    "#sys.path.append('/home/jma819/post_cmfe_analysis')\n",
    "sys.path.append('/Users/johnmarshall/Documents/Analysis/PythonAnalysisScripts/post_cmfe_analysis')\n",
    "import python_utils_jjm as utils_jjm\n",
    "import dlc_utils\n",
    "import caiman\n",
    "import statsmodels.formula.api as smf\n",
    "import scipy.spatial.distance as dist\n",
    "import scipy.special as scipysp\n",
    "import itertools\n",
    "import math\n",
    "import warnings\n",
    "import numbers\n",
    "from multiprocessing import Pool\n",
    "from functools import partial\n",
    "warnings.filterwarnings(action='once')"
   ]
  },
  {
   "cell_type": "code",
   "execution_count": 2,
   "metadata": {
    "scrolled": false
   },
   "outputs": [
    {
     "data": {
      "text/plain": [
       "<module 'dlc_utils' from '/Users/johnmarshall/Documents/Analysis/PythonAnalysisScripts/post_cmfe_analysis/dlc_utils.py'>"
      ]
     },
     "execution_count": 2,
     "metadata": {},
     "output_type": "execute_result"
    }
   ],
   "source": [
    "reload(utils_jjm)\n",
    "reload(dlc_utils)"
   ]
  },
  {
   "cell_type": "code",
   "execution_count": 3,
   "metadata": {},
   "outputs": [],
   "source": [
    "cnmfe_file_key = pd.read_csv('/Volumes/My_Passport/cnmfe_analysis_files/OpenFieldAnalysis/2020/cnmfe_file_key.csv')\n",
    "#cnmfe_file_key = pd.read_csv('/projects/p30771/dlc_analysis/openfield_dlc_output/cnmfe_file_key.csv')"
   ]
  },
  {
   "cell_type": "code",
   "execution_count": 4,
   "metadata": {},
   "outputs": [],
   "source": [
    "cnmfe_base_dir = '/Volumes/My_Passport/cnmfe_analysis_files/batch_output_files/'\n",
    "jaccard_data_directory = '/Volumes/My_Passport/cnmfe_analysis_files/OpenFieldAnalysis/2020/D1_mGluRKO_clustering/data/ko'\n",
    "#cnmfe_base_dir = '/projects/p30771/MATLAB/CNMF_E_jjm/quest_MATLAB_cnmfe/batch_output_files/'\n",
    "wt_CNMFE_files = ['30-Mar_20_39_05_out.mat', '30-Mar_20_45_16_out.mat', '27-Feb_17_33_59_out.mat', '22-Mar_22_52_02_out.mat',\n",
    "                 '28-Feb_16_10_05_out.mat', '27-Feb_17_32_15_out.mat', '28-Feb_16_21_21_out.mat', '25-Mar_13_27_27_out.mat',\n",
    "                 '25-Mar_14_22_02_out.mat', '25-Mar_14_22_44_out.mat', '26-Mar_18_33_55_out.mat', '27-Mar_00_26_12_out.mat', '27-Mar_00_48_46_out.mat']\n",
    "\n",
    "ko_CNMFE_files = ['31-Mar_13_28_15_out.mat', '29-Mar_21_42_20_out.mat', '13-Apr_17_57_40_out.mat', '29-Mar_14_27_55_out.mat', '13-Apr_16_01_20_out.mat',\n",
    "                 '13-Apr_16_11_27_out.mat', '29-Mar_13_39_44_out.mat']"
   ]
  },
  {
   "cell_type": "code",
   "execution_count": 5,
   "metadata": {},
   "outputs": [],
   "source": [
    "tracking_files = ['/Volumes/My_Passport/dlc_analysis/behavcamvideos/open_field_miniscope/'+utils_jjm.find_behavior_tracking(fname, cnmfe_file_key) for fname in ko_CNMFE_files] \n",
    "#tracking_files = ['/projects/p30771/dlc_analysis/openfield_dlc_output/'+utils_jjm.find_behavior_tracking(fname, cnmfe_file_key) for fname in wt_CNMFE_file] "
   ]
  },
  {
   "cell_type": "code",
   "execution_count": 6,
   "metadata": {},
   "outputs": [],
   "source": [
    "CNMFE_dir_paths_list = [str(cnmfe_base_dir+fname) for fname in ko_CNMFE_files]\n",
    "#CNMFE_dir_paths_list"
   ]
  },
  {
   "cell_type": "code",
   "execution_count": 7,
   "metadata": {},
   "outputs": [],
   "source": [
    "binning_time = 1 # seconds \n",
    "body_part_for_tracking = 'tail_base' #\n",
    "number_of_bins = 50 #\n",
    "polynomial_degree = 2 #\n",
    "\n",
    "grouped_raw_data = {}\n",
    "success = []\n",
    "failed = []\n",
    "for CNMFE_file, tracking_file in zip(CNMFE_dir_paths_list, tracking_files):\n",
    "    #print(CNMFE_file)\n",
    "    #print(tracking_file)\n",
    "    try:\n",
    "        # load cell fluorescence \n",
    "        cell_fluorescence = sio.loadmat(CNMFE_file)\n",
    "        C_timedelta = utils_jjm.create_fluorescence_time_delta(cell_fluorescence['C'])\n",
    "        C_normalized = C_timedelta.apply(utils_jjm.normalize).set_index(pd.to_timedelta(np.linspace(0, (len(C_timedelta)-1)*(1/20), len(C_timedelta)), unit='s'), drop=True)\n",
    "        C_z_scored = C_timedelta.apply(stats.zscore).set_index(pd.to_timedelta(np.linspace(0, (len(C_timedelta)-1)*(1/20), len(C_timedelta)), unit='s'), drop=True)\n",
    "        C_normalized_z_scored = C_normalized.apply(stats.zscore).set_index(pd.to_timedelta(np.linspace(0, (len(C_normalized)-1)*(1/20), len(C_normalized)), unit='s'), drop=True)\n",
    "        # create tracking time deltas\n",
    "        interpolated = utils_jjm.prepare_timedelta_dfs(tracking_file)\n",
    "        #load spatial components by session\n",
    "        com_df, spatial_components = utils_jjm.return_spatial_info(CNMFE_file, 0.6)\n",
    "        cell_contours, for_dims = utils_jjm.create_contour_layouts(spatial_components)\n",
    "        #C_z_scored_filtered = utils_jjm.filter_out_by_size(C_z_scored, cell_contours, for_dims, 0.6, 100)\n",
    "        #store results \n",
    "        grouped_raw_data[tracking_file.split('/')[-2]] = {'C': C_timedelta, 'C_z_scored': C_z_scored, 'C_normalized': C_normalized, 'C_normalized_z_scored': C_normalized_z_scored, \n",
    "                                                          'interpolated' : interpolated, 'com' : com_df, 'spatial_components' : spatial_components, 'cell_contours': cell_contours,  \n",
    "                                                         'for_dims' : for_dims}\n",
    "        success.append((tracking_file.split('/')[-2], CNMFE_file.split('/')[-1]))\n",
    "    except FileNotFoundError:\n",
    "        failed.append(tracking_file)\n",
    "    except OSError:\n",
    "        failed.append(tracking_file)"
   ]
  },
  {
   "cell_type": "code",
   "execution_count": 8,
   "metadata": {},
   "outputs": [
    {
     "data": {
      "text/plain": [
       "['/Volumes/My_Passport/cnmfe_analysis_files/batch_output_files/31-Mar_13_28_15_out.mat',\n",
       " '/Volumes/My_Passport/cnmfe_analysis_files/batch_output_files/29-Mar_21_42_20_out.mat',\n",
       " '/Volumes/My_Passport/cnmfe_analysis_files/batch_output_files/13-Apr_17_57_40_out.mat',\n",
       " '/Volumes/My_Passport/cnmfe_analysis_files/batch_output_files/29-Mar_14_27_55_out.mat',\n",
       " '/Volumes/My_Passport/cnmfe_analysis_files/batch_output_files/13-Apr_16_01_20_out.mat',\n",
       " '/Volumes/My_Passport/cnmfe_analysis_files/batch_output_files/13-Apr_16_11_27_out.mat',\n",
       " '/Volumes/My_Passport/cnmfe_analysis_files/batch_output_files/29-Mar_13_39_44_out.mat']"
      ]
     },
     "execution_count": 8,
     "metadata": {},
     "output_type": "execute_result"
    }
   ],
   "source": [
    "CNMFE_dir_paths_list"
   ]
  },
  {
   "cell_type": "code",
   "execution_count": 11,
   "metadata": {
    "scrolled": true
   },
   "outputs": [],
   "source": [
    "#cnmfe results from matlab \n",
    "results = sio.loadmat(CNMFE_dir_paths_list[1])"
   ]
  },
  {
   "cell_type": "code",
   "execution_count": 12,
   "metadata": {},
   "outputs": [],
   "source": [
    "# A is spatial traces of neurons\n",
    "# C is spatial traces of neurons\n",
    "# transform A to dense matrix \n",
    "dense_A = results['A'].todense()"
   ]
  },
  {
   "cell_type": "code",
   "execution_count": 13,
   "metadata": {},
   "outputs": [],
   "source": [
    "# dimensions of final image\n",
    "d1, d2 = 480, 752"
   ]
  },
  {
   "cell_type": "code",
   "execution_count": 14,
   "metadata": {},
   "outputs": [],
   "source": [
    "# dimensions of C are neurons by frames\n",
    "frames = np.shape(results['C'])[1]\n",
    "cells = np.shape(results['C'])[0]"
   ]
  },
  {
   "cell_type": "code",
   "execution_count": 15,
   "metadata": {},
   "outputs": [],
   "source": [
    "## should be able to pick out regions with high coacitivty by summing binned data, frames with highest have most active cells "
   ]
  },
  {
   "cell_type": "code",
   "execution_count": 16,
   "metadata": {},
   "outputs": [],
   "source": [
    "##get binned fluorescence and calc Jaccard scores\n",
    "#arguments are sample widths to bin and z score threshold\n",
    "#filter out very small cells\n",
    "cells_in_session = grouped_raw_data['GRIN018_H17_M41_S43']['C_normalized_z_scored'].drop('msCamFrame', axis=1)\n",
    "binned_fluorescence = cells_in_session.apply(utils_jjm.binning_function_uncrop, args=[1, 2])\n",
    "binned_fluorescence_1S = cells_in_session.apply(utils_jjm.binning_function_uncrop, args=[10, 2])"
   ]
  },
  {
   "cell_type": "code",
   "execution_count": 17,
   "metadata": {},
   "outputs": [],
   "source": [
    "# find frame regions with large numbers of active cells\n",
    "sum_bins = binned_fluorescence.sum(axis=1)\n",
    "sum_bins_1S = binned_fluorescence_1S.sum(axis=1)"
   ]
  },
  {
   "cell_type": "code",
   "execution_count": 18,
   "metadata": {},
   "outputs": [
    {
     "data": {
      "text/plain": [
       "[<matplotlib.lines.Line2D at 0x147397198>]"
      ]
     },
     "execution_count": 18,
     "metadata": {},
     "output_type": "execute_result"
    },
    {
     "data": {
      "image/png": "[encoded data removed]",
      "text/plain": [
       "<Figure size 432x288 with 1 Axes>"
      ]
     },
     "metadata": {
      "needs_background": "light"
     },
     "output_type": "display_data"
    }
   ],
   "source": [
    "plt.plot(sum_bins_1S.values)"
   ]
  },
  {
   "cell_type": "code",
   "execution_count": 19,
   "metadata": {},
   "outputs": [
    {
     "data": {
      "text/plain": [
       "[<matplotlib.lines.Line2D at 0x14737bcf8>]"
      ]
     },
     "execution_count": 19,
     "metadata": {},
     "output_type": "execute_result"
    },
    {
     "data": {
      "image/png": "[encoded data removed]",
      "text/plain": [
       "<Figure size 432x288 with 1 Axes>"
      ]
     },
     "metadata": {
      "needs_background": "light"
     },
     "output_type": "display_data"
    }
   ],
   "source": [
    "plt.plot(sum_bins.values)"
   ]
  },
  {
   "cell_type": "code",
   "execution_count": 20,
   "metadata": {},
   "outputs": [
    {
     "data": {
      "image/png": "[encoded data removed]",
      "text/plain": [
       "<Figure size 432x288 with 1 Axes>"
      ]
     },
     "metadata": {
      "needs_background": "light"
     },
     "output_type": "display_data"
    }
   ],
   "source": [
    "##get all peaks for a given cell, within 1 sec of threshold crossing and select an event at median intensity value \n",
    "plt.plot(binned_fluorescence_1S[2].values)\n",
    "plt.show()"
   ]
  },
  {
   "cell_type": "code",
   "execution_count": null,
   "metadata": {},
   "outputs": [],
   "source": [
    "#pick out subset of cells to view \n",
    "cells_to_view = [2]"
   ]
  },
  {
   "cell_type": "code",
   "execution_count": 21,
   "metadata": {},
   "outputs": [],
   "source": [
    "#indices where signal intensity is above threshold\n",
    "np.where(binned_fluorescence_1S[2].values == 1)[0]\n",
    "#F/FO values at those indices\n",
    "median_peak_intensity = cells_in_session[2].iloc[np.where(binned_fluorescence_1S[2].values == 1)[0]].median()\n",
    "index = (np.abs(cells_in_session[2].values - median_peak_intensity)).argmin()"
   ]
  },
  {
   "cell_type": "code",
   "execution_count": 22,
   "metadata": {},
   "outputs": [
    {
     "data": {
      "text/plain": [
       "6194"
      ]
     },
     "execution_count": 22,
     "metadata": {},
     "output_type": "execute_result"
    }
   ],
   "source": [
    "index"
   ]
  },
  {
   "cell_type": "code",
   "execution_count": 32,
   "metadata": {},
   "outputs": [
    {
     "name": "stderr",
     "output_type": "stream",
     "text": [
      "1it [00:00,  2.14it/s]\n"
     ]
    },
    {
     "data": {
      "text/html": [
       "<video width=\"432\" height=\"288\" controls autoplay loop>\n",
       "  <source type=\"video/mp4\" src=\"data:video/mp4;base64,AAAAHGZ0eXBNNFYgAAACAGlzb21pc28yYXZjMQAAAAhmcmVlAAAcGm1kYXQAAAKgBgX//5zcRem9\n",
       "5tlIt5Ys2CDZI+7veDI2NCAtIGNvcmUgMTUyIC0gSC4yNjQvTVBFRy00IEFWQyBjb2RlYyAtIENv\n",
       "cHlsZWZ0IDIwMDMtMjAxNyAtIGh0dHA6Ly93d3cudmlkZW9sYW4ub3JnL3gyNjQuaHRtbCAtIG9w\n",
       "dGlvbnM6IGNhYmFjPTEgcmVmPTMgZGVibG9jaz0xOjA6MCBhbmFseXNlPTB4MzoweDExMyBtZT1o\n",
       "ZXggc3VibWU9NyBwc3k9MSBwc3lfcmQ9MS4wMDowLjAwIG1peGVkX3JlZj0xIG1lX3JhbmdlPTE2\n",
       "IGNocm9tYV9tZT0xIHRyZWxsaXM9MSA4eDhkY3Q9MSBjcW09MCBkZWFkem9uZT0yMSwxMSBmYXN0\n",
       "X3Bza2lwPTEgY2hyb21hX3FwX29mZnNldD0tMiB0aHJlYWRzPTYgbG9va2FoZWFkX3RocmVhZHM9\n",
       "MSBzbGljZWRfdGhyZWFkcz0wIG5yPTAgZGVjaW1hdGU9MSBpbnRlcmxhY2VkPTAgYmx1cmF5X2Nv\n",
       "bXBhdD0wIGNvbnN0cmFpbmVkX2ludHJhPTAgYmZyYW1lcz0zIGJfcHlyYW1pZD0yIGJfYWRhcHQ9\n",
       "MSBiX2JpYXM9MCBkaXJlY3Q9MSB3ZWlnaHRiPTEgb3Blbl9nb3A9MCB3ZWlnaHRwPTIga2V5aW50\n",
       "PTI1MCBrZXlpbnRfbWluPTIwIHNjZW5lY3V0PTQwIGludHJhX3JlZnJlc2g9MCByY19sb29rYWhl\n",
       "YWQ9NDAgcmM9Y3JmIG1idHJlZT0xIGNyZj0yMy4wIHFjb21wPTAuNjAgcXBtaW49MCBxcG1heD02\n",
       "OSBxcHN0ZXA9NCBpcF9yYXRpbz0xLjQwIGFxPTE6MS4wMACAAAAKJGWIhAA///73aJ8Cm1pDeoDk\n",
       "lcUl20+B/6tncHyP6QMAAAMAAK6sc+imSBhd68YAAnxs08LN5ycADEoCArpPcdfjr6sHvgukadfh\n",
       "3BWT08lBdX01BK581/k3n3YPRHMnAL60iinIe4v1NfdfJyIn1pPDq3jL/p9ZssNBac+ohXhsWm82\n",
       "J2jO33CHTpAkBOUoWMDCuWZ/iK/ysuhXnLlgBh+5iyQ4Axr1hsCMCnK++RKj950ted7LDHB854pw\n",
       "VsZk3/OSxGqpN97kVB3kw6pFB4ILu9ng/iYAACSsKU38bxvyHjYb8LNn28rVzz5QZvJENakIFkKX\n",
       "FndQrnRs4J/8Xk1dpDWYO6LQR/xXwdv8dY1ziCBZsyMWoPe3tc9CWneShruvFfGnXKa/lVcNxy9n\n",
       "A3cuL0GRa6nU/eSv9nMgB1QDGfQf4wkGfCWQZT3aXkCWeqZB9g0ZmOqt55ZbMtBVvuz0GjXpgRG4\n",
       "HLwWo7sbAGH9ErDigOW8NI8d14fZbpN7P23zGwbOGXipya5oxaRpo5Lau0y5BCiWY/3MQcR8EJ2S\n",
       "4ZqsQUXkEWerYSQUCjd+ETtJY4lWJEjh590yukJnRx2ZEJO1b3JnMTyT+kW6j8YW3YHfEJIixVVV\n",
       "4gHkqiJWOK9CrM8duqhNJhbmZLmU1ASOsH999wSH/f/NmWqvRmhUBYmLcHfeUlbDGCdjcCnosLbW\n",
       "23pea6XXOCWV/tScQTD0x4xezCp5aAwQAAZkNUZZJ2VpKJxADSUzuksWlF8sp6XhKLOmckjSVgWP\n",
       "99BPSWeP74u7v2I+Tdo6ilBhrGYZqvARZRznxqP0hzW2vGXNcIiu/RLy5aResNxzmiOciEtBWlvs\n",
       "zodDSTruOqVT8rmM0Wz9Xlk4pi/6n+mvga646oFfeBGgDVvqIkmRZb87nuk2vZVvdLcGSqRmH6b+\n",
       "3yoQABYq/JWR43fxBH+KY5m7+ABSOO/wKE2hUOI8Y6FvAqMl1XpdacweFcuEzz2sdt/HqPnTuyAn\n",
       "+9ryB+gUHxbPndb79AHfk/3fnNp7h9iAAsaulkoSSAFE5n71SEBrFJKSLYz/yxNitG+zWMwVAWAf\n",
       "QVk2KwujryuzujpD1+OPsqeDvg/bARAlpC9+hQ/wleXNI2e4gRqpfEwWTUbenGK5ve906eUZXfc6\n",
       "4xa7912FAjZgNVZdrQNnnjAUNjcor6EQq96N+/EOBuxg3Lv5VY5bssHhQTS/3z7V99oj/x89Hr1X\n",
       "HdBYqbF5TXmdckVDkWHpyxdF3I9j6sKQZxSbAC9iPVxdMH4toayLkbz8qPn4U4BaBmnS/g9itAgr\n",
       "XbxFq0TNJHqQlaGPH/k0xcVgaSSwxm4+QVl1MEk0bv5C2lLBj/L23xaTuv5lfqcrmSjMUEgsVkvj\n",
       "w7O3o3CbPO4bbFNtl+rJGz48vmI51ZpI2c7/7tKVgvJ1AOpcg0Bxm6SbKzT2jpVcl/tjNsTqiIyT\n",
       "F2eQgq1wt1zSogpgHUPCrQj4ulGUjfKolj/XZrsN39LplsaLBEeNKAjlc7tH3qUsk0JPh/cwUUnh\n",
       "OHD8w+7gDdmVcCnRIHYC9Lc4BU8CVs+AAOVBZZe3fdX8UhaxNbUrocuipnDbNan5L68OecyzpXdc\n",
       "zRVMGMPsOYcV3s9fbb3KRTGoMo+tpWFCWrR+L/HRmGs5q/7hnIw51pL+jjPgAx9CRPhrlrfH2oNw\n",
       "PykNsLXGaor+DUCdDazM/9a70jnw/xh3ooLdV9YrDdz6YL9JxHfy8sMFK4QZ8s+F/Q5cr9c9HQco\n",
       "npfG79KjDOSPbwoCHkZb9jnFCbJqHrjg2XGTIYo7C3lran1evMWaGPhbuBByGCodOVpg3JiLv+QW\n",
       "qhvlsdK+bNxbGIqDPsrWSX4OQ/90ScLnUJBFficINw7H4OQeqI5aicXuFAAFqZL0hYKMu98QizJI\n",
       "9W3vnha6U7EshmeeQDjqq0OnL2C9+sGA/ZkKpUY427PJZgJbHHcUwXV/2819DW36jnMGe5zlpvAX\n",
       "JkUsvvV//2RC13zGkkHlEouXEFVxPEAhZFQyJ6vZAeH6PK29M4n1dqV/jITM/TYtdxpDcipl2N21\n",
       "4vwRBn9c/gusx33SCZsZ8SdY0VRlsFDBaOzqFsZwEgOe9klARJWZ/tw3rBZZPID0zF0DnOrwKtcZ\n",
       "XvRymK78Eeo/mj9zo9mSztbpupeU/3FSrerDBboNWqDL5OuWw/ZpFBrnrWewVTUYBJA0bNxGkr2W\n",
       "xtCpLDy/HQt9NE8sN0mRcNFXllUsPX3WluPv6Hx3MxnUVahmZMi9KF889+7T9G918NJ9YLAZcUnK\n",
       "83T+XzmgGNCtBhnPDGZfzpLoV23+m5bPMjRVcSosl0oZjIgBIiZaFcBBBH0vTjv8P21CKQ5FLh13\n",
       "+BDjzUEQx0dKB4NY/NraJXsJRjaFY4fdC7klm7dfeuK3VeTQUWbBFFDGh/cozPRe26vxd3xWBsyg\n",
       "SkuN0qw7Kxfm3LhOYGV2tUl/IukO0bx9woYOuF6wrVYeO9OHLv3JTJX9ozcn2ieaVPMCBMw22H3t\n",
       "6y2ZzhpKHgOYnhGT+nWVs6cgQHQ4C6oYZ1OnFITOKeEaPVqkVRcyLHZUyxIgfHWTJVqNjfj4aBmL\n",
       "d1sxX7IJyH3j+hjJy0n2fHm7TLeCGo62I7tI0Dvum/Xp0zOAvJet7E5CZ4OyAU/1yfCQZWYBvkw2\n",
       "KwOpUN5XigAwSFoeOlHyVF6jv2oHHc5BZ6KP87u/ChvxsEHlLa5b/M9q395mmci3heh+/Mns7j26\n",
       "wI53BDKU+GyWcKm2yatXdzJbbcN/eCR05PoewVMignuZlpyaEQXv3GpvqKUDPzcrYd9JpDu9ZBUS\n",
       "qzhU6LqtZ1eROmaSzBmYPkPru0ezILGI1FCpUMtTItyiXKwQdidiDIseMI98eQoUIhNi9KML8Z+X\n",
       "n2M+HZy0TAhuRuhdPolxMhFLTCdg57ntnLq2Fu8L7sX2kngTn6wS6dkmAMsRG/+PCCA195BLtGTw\n",
       "hIPidPPydZ6XBi+EAL31KHHZp/nOIH7jHr2tbDs22RmSOlkuVuz3or9QL+8QJOtv1TcxykwyNkre\n",
       "CxFBXZzUqNK3TNak7sn5QVdV56dWeCC3DklE4vt5sOlZv66ImSlVFAynJTSj8zkyojs7wRzBz7mL\n",
       "KqnJryPuNIGSc5oWTY1wMj7XGYC/xEqSxcix096OUxXfgj2PDzelOh1HTaaXnS7CzdEBIQYffWZL\n",
       "GUvZgp7z2gSl8pxXhAlvXrPy0QHOZLXQcIRDenAYjlbkZNUzuW4Cz2SdKAFQ69RrrHaX9Oc/JMEY\n",
       "CJ1NuQimEZYMlxcYRCSHUQTZK/bksm9R3GFPjX0WeLf7yC0GLRL+7n/AhqfEg62H+V3Z2nrMMM/a\n",
       "6+L4Zs5mAaUp6P3a7gUiqS9OD1qC8wQtanw4/sM7zGlIR6FQoh/tIIUkPb0GNlR55pCZrwOaqQdD\n",
       "inxi0P203L1yJMt5CnkAAABtQZokbEO//qmWADBOHJMAgHUFrN0H12ZTT6olSsOM3zebCMaU+0sr\n",
       "4o0YKThmTIGam+7G/RdP3BR5CrSSm4LUPlhHjrjy9aEGY+Ml6cBbLbaHfwYXepzFTTr0QiYf+1FR\n",
       "c9CKP46YgmL6wDgiwAAAAChBnkJ4hn8AKgqjIAEHaeQOAtoQVYrRGbeQOEznQIi6GB2ESI9Hob7h\n",
       "AAAAEQGeYXRCvwAmtngFlL4m2TjYAAAAFwGeY2pCvwBNgylowqEP5EMHNejGMpmxAAAAKkGaZkmo\n",
       "QWiZTBTw//6plgAwGS/WJeLUAI+vw4/qNXF7mAwhXKuoVxYJ2QAAABMBnoVqQr8ATYMp9cqE+gaU\n",
       "Z6CzAAAAi0GaiknhClJlMCH//qmWADAVYFGAFoxUpNm3TP/su2GIeQ4TrDCGLvIU2XcJCl/hARMA\n",
       "+fr1vwha5pm0w1e0jJA4HSMcofnzLQNpl4CCawPQTKVfP7ccZBNGrRHvem+OgB3Md5FrhCXEZ+vM\n",
       "FdZhDxr2SXbDgx0Aaa2MJtgC5bGeVcwh7S1Wm/4ngakAAAAWQZ6oRTRMM/8AKgnbqS25IXodVhKc\n",
       "4AAAAB8Bnsd0Qr8ATTom9sw2ABX4h9tEeV+SwXve0wNaTQLQAAAAIwGeyWpCvwBLWnudACNDX6H3\n",
       "NCYe7g78VLkX8SGL5afrUDlnAAAAIEGazkmoQWiZTAh///6plgAwGOAXe3XwQYjsbKUSfhJwAAAA\n",
       "KkGe7EURLDP/ABUY6uAFoQ6HtOjIgkY6P2uYnYb+6GNsQoO4RHaUJR4DQAAAAA0Bnwt0Qr8AAFws\n",
       "yNu3AAAADQGfDWpCvwAAXCzI27cAAABXQZsSSahBbJlMCH///qmWADAVHPw4AccCSxRO9ipOcCLk\n",
       "eof2XIneW3XcoAyql1xX++nXaYpUSEmaOcX+CcfR0xIIaBZHQj8EzfESZCjyye+yuXJ9dZ3tAAAA\n",
       "I0GfMEUVLDP/ABSP37gBrsW2onm90Bfz+rI/6dxPtyagEaCUAAAAFgGfT3RCvwBNYLGyOoAVz8Op\n",
       "GkbE3MAAAAAPAZ9RakK/ABNdf4BDdRFpAAAARUGbVkmoQWyZTAh///6plgAwFRz8OAJhjGbCXOcx\n",
       "9Wl7XXSmK/vfUVaDk94W8f8BalNBk3zqo9rWR2hi/MA2QrABhGA+YAAAABJBn3RFFSwz/wAKhTU6\n",
       "3eS8CUAAAAAPAZ+TdEK/ABNXQ0A+gAJRAAAADwGflWpCvwATXX+AQ3URaAAAAElBm5pJqEFsmUwI\n",
       "f//+qZYAMBUc/fABRz4jPdh44SGyrc6x4TydlwtOhdAgTX+cTEZGf7skqeyIFqDp1i37IHu5pf/N\n",
       "owv6c84hAAAAEkGfuEUVLDP/AAqFNTrd5LwJQQAAAA8Bn9d0Qr8AE1dDQD6AAlAAAAAPAZ/ZakK/\n",
       "ABNdf4BDdRFpAAAAKkGb3kmoQWyZTAh///6plgAwFRzmsgFL9omYDgDFEihDP8TOoJ4hyfLBOwAA\n",
       "ABJBn/xFFSwz/wAKhTU63eS8CUEAAAARAZ4bdEK/ACWrrqJXaAPcpy0AAAARAZ4dakK/ACWsukbB\n",
       "8a2wGi0AAAA8QZoCSahBbJlMCH///qmWADAqJgU9AGu+7Bw6PL6k+t5rMx8522cMbuot3PTFopXE\n",
       "2xbJSRNack/xowHzAAAAHUGeIEUVLDP/ACoVZflsrBQEEA7NvSfdOgX9S+ctAAAAEAGeX3RCvwAT\n",
       "V0NAIPpNFoAAAAAeAZ5BakK/AE1kJ5hE3EAabO8rfmBA1a55aYFXZztxAAAA70GaRkmoQWyZTAh3\n",
       "//6plgAwWz/gm19wBV0r3hfVlcdnPql4Izg8qjmrjPnBMLE1kPoc9NDSs+2ci7O1mTSLul/9csbN\n",
       "HxDbnKztpiyYLbMTmVqfE46nhIGjvYGA+ghp6wAZ+s4OTU4oOEB44YYGXt9hwcWRIEX4xCrWqENE\n",
       "V6yH/QDZfD8ho0+pmcevnumfSZ7RDz7NQQeNttbDZeTv7whmGTIJ42pgnWl9+2CLQGMFp/WF6p5L\n",
       "zwJpps3YqWx0d92RD+DrAZZCuMgO27CCds0Qd5g0NeuJSwwZPQdwfon/5zVvBFC82xfa42Z4TwNS\n",
       "AAAASUGeZEUVLDP/ACoM3xwAXF3h3KTKGPJ9uqUFOSc3N14Zl1vFbQhhBCmhYlOiCs35RJK+bcJv\n",
       "rlkIUQBsGR1Fls1RdxmnO9fEyLUAAABqAZ6DdEK/AE2gPQA4QFR6JesYXr3UCp3QdFlLv1nM/JrI\n",
       "ulqobqOEt/YvnE+pZFdojVUF44CuoURDczr6zY5h9a75WYFryCZMBDQjHUMng51Nd+nDWfxZRIkW\n",
       "IRzujLcF9qbQabOjyvSZgQAAADEBnoVqQr8ATS5HiwAFf5fTWey+W+XmLuT4mKLaIdYK1Xh4/Fix\n",
       "RlxKQTz6eSOLP0zBAAAAdUGaikmoQWyZTAh3//6plgAwRgvjAF5142oONuhkI1YNW0uEyQl4Un/y\n",
       "2PCMSb5BcDucfnfnRh9WvPsVmvfN+FTa1j2tXFaD2K8/hmDcksFUDwDeewtKT8cX6JkMHRlsx/3j\n",
       "rLs3lMLOz5jprJc1uQEabowHzQAAABZBnqhFFSwz/wAqCgv44/+4xr9TQV8tAAAADQGex3RCvwAA\n",
       "XRMM+2AAAAAvAZ7JakK/AE1sUrABvAB0bweiBdWh08vqbNSzuVpL3rRHt6FCeaL3fLy95Tc/FQUA\n",
       "AABiQZrLSahBbJlMCH///qmWADAkzkMARvJTNqC8axTXtinJFZyKz05q5s6DO6qmFQg5ROmZfbYg\n",
       "7TWa9bst0qhfoyAbT+RrrvxgmKUF3NleXJzGrpDztbNHcizGjIMQy6zwg/wAAADaQZrvSeEKUmUw\n",
       "If/+qZYAMEQ1zoiUgCEpU5W9uXf+FBDM4OhVGmhbrxOk0e1MDFQ5BlOk0Ytb9f3Ini/ru5LpIrBt\n",
       "U9rbtVhnHf7f2VYidd+xNjKEznqL+fW4+Yg1WCj7ekCFlhAy0VnUGRp0NgnUyUBtOXTVheuHvKkn\n",
       "YnjSIAZQzrrs28ds3OakNH1R3V3wI4qfRl7qO8oUuyuzotRlasLeybM64Y8gZ1/FKCaDFTnl3zh8\n",
       "cTgPtPUiZfBIa/Xwak6T97Yx1/oChdSLFW3MU74hAyZi3tYYIuAAAAA6QZ8NRTRMM/8AKgYtIAFl\n",
       "waqI+JSaHn0jXRkNGs8vLHMrVbktfqWOxLySuDNxOXlARyDw/GOI6k5NsQAAACQBnyx0Qr8ATVdW\n",
       "ZbAAe+ox0VYxnSDfmUr7oKjfc3b9CT9iEtEAAAASAZ8uakK/AE12AtKKhcsniCzBAAAAWEGbM0mo\n",
       "QWiZTAh///6plgAwFz0EAOC4a/Boc3vmWAzNNbX0srfXiQbyjv9TJvECrmdNsxZU3nqXbhzM8cR/\n",
       "M7Lyg5JQ3AUT6olaZYU4OtTRl3rpRVGA+YAAAAASQZ9RRREsM/8AFHgN/CPkUM+AAAAADQGfcHRC\n",
       "vwBNfEmAS8EAAAANAZ9yakK/ABNdf3Qz4AAAAJBBm3dJqEFsmUwIf//+qZYAMBBShADhF4kZA/5q\n",
       "PejegPDIzU8rZDBByNhUhOoJE8jK60WCECeNm/rE7mFhLjNVqRzMfJcGp+C/axgv4XQ/AXFj/1Vb\n",
       "ff1EH0jwd32r4TFiHZTfdy9rxMK6KWGEPh9w3xxICqgQzTUquqNFJokW7Y4RFUShF81PqxvEy8sY\n",
       "D5gAAAASQZ+VRRUsM/8AKhAbYfLL6KCBAAAADQGftHRCvwATV0M0M+AAAAANAZ+2akK/ABNdf3Qz\n",
       "4QAAANZBm7tJqEFsmUwIf//+qZYAMBEjiRIAiETGH0w0PIxjElvUz8QALoA+lBD60KTxKEwrik9M\n",
       "nbWy1jan00od6QHPr7YqtemV4Ef2ak09VsNIMZrq7TCoUFJMT13LytZDTSFKo8KONWm9F0ZH8QCe\n",
       "2zkcrm22Q+N1ez7zKdMPkExor1EiU+a9bXXzA8pkoAXy5bJp+AzCqnwNz3pS1dIRVfVLY3SNJB8E\n",
       "6nAhh/CTGu4zsr34s6E6grnhqADwfMQotGt+4oNL9IGk5mq2SfODIxB6dh7owHzBAAAAD0Gf2UUV\n",
       "LDP/AAqFNTnEvAAAAA0Bn/h0Qr8AE1dDNDPhAAAADQGf+mpCvwATXX90M+AAAABtQZv/SahBbJlM\n",
       "CH///qmWADAYPz0AG6zr73J7fDnz8P3UY74osGNBGZuei/b81KoUOKfcuLva7cBovrWVud2V8Jlt\n",
       "O/24BKEmpzTUpxIXx60WmjNe5RzElU9r+80XHcxq2LuygKWCUgA7DngakQAAACRBnh1FFSwz/wAq\n",
       "EsdkABAoQSMWoJHqTg2b0DfF7koKIE1NMVMAAAAfAZ48dEK/AE2Cx2LhbwArS/rocEgBQYf41Ckv\n",
       "1ACkgAAAABYBnj5qQr8ATWP+3iHCAAQy1A/8iBAwAAAAJkGaI0moQWyZTAh3//6plgAwCuz3dvUA\n",
       "NS+daKOPfZfUh4b/AQXFAAAAE0GeQUUVLDP/ACoQE8pKUueAkYAAAAALAZ5gdEK/AAADAYsAAAAL\n",
       "AZ5iakK/AAADAYsAAAAdQZpnSahBbJlMCHf//qmWAC7rn58AAlq+2kYAVMEAAABmQZ6FRRUsM/8A\n",
       "KfxzSOAC4qCUn0+1QPhssK331qRdHkCR7/emqkJjOO/LtEjERcEJro4payjLF105K0iVUGkv97qX\n",
       "5sR4qoJNcuGlFFXPqNqZHjJ2CcQwS5F0bqzg4MeKGQ700xUxAAAACwGepHRCvwAAAwGLAAAACwGe\n",
       "pmpCvwAAAwGLAAAAG0Gaq0moQWyZTAhv//6nhABfbTM/boVai2CdgAAAABtBnslFFSwz/wAqCoQQ\n",
       "AtQbu1GXw4qcclgDAkYAAAALAZ7odEK/AAADAYsAAAAwAZ7qakK/AE158OcALVX5hEeKeGd5xB0j\n",
       "VrAYzwBdv7PxpAzY5/N9qcVA0rTeAFJAAAAAdkGa70moQWyZTAhX//44QAWqFvkNACz4BbfcMZD5\n",
       "C0Gt8zO8PlOfM+ppoCR8lm1hAzBeSPMi6cjuSyj308yh29bv1jHfn/wEubuZe9A+gS86WTCVNTB5\n",
       "/fVDo41vSDexn959dXBRr26O0lgKFg2X4uVsvV5Bu5AAAAAnQZ8NRRUsM/8AKOPRIrgBK+9VF3KG\n",
       "koKfa0fOQ8rIfROX9p3XggwJAAAACwGfLHRCvwAAAwGLAAAACwGfLmpCvwAAAwGLAAAG7m1vb3YA\n",
       "AABsbXZoZAAAAAAAAAAAAAAAAAAAA+gAAA+gAAEAAAEAAAAAAAAAAAAAAAABAAAAAAAAAAAAAAAA\n",
       "AAAAAQAAAAAAAAAAAAAAAAAAQAAAAAAAAAAAAAAAAAAAAAAAAAAAAAAAAAAAAAAAAAIAAAYYdHJh\n",
       "awAAAFx0a2hkAAAAAwAAAAAAAAAAAAAAAQAAAAAAAA+gAAAAAAAAAAAAAAAAAAAAAAABAAAAAAAA\n",
       "AAAAAAAAAAAAAQAAAAAAAAAAAAAAAAAAQAAAAAGwAAABIAAAAAAAJGVkdHMAAAAcZWxzdAAAAAAA\n",
       "AAABAAAPoAAABAAAAQAAAAAFkG1kaWEAAAAgbWRoZAAAAAAAAAAAAAAAAAAAKAAAAKAAVcQAAAAA\n",
       "AC1oZGxyAAAAAAAAAAB2aWRlAAAAAAAAAAAAAAAAVmlkZW9IYW5kbGVyAAAABTttaW5mAAAAFHZt\n",
       "aGQAAAABAAAAAAAAAAAAAAAkZGluZgAAABxkcmVmAAAAAAAAAAEAAAAMdXJsIAAAAAEAAAT7c3Ri\n",
       "bAAAALNzdHNkAAAAAAAAAAEAAACjYXZjMQAAAAAAAAABAAAAAAAAAAAAAAAAAAAAAAGwASAASAAA\n",
       "AEgAAAAAAAAAAQAAAAAAAAAAAAAAAAAAAAAAAAAAAAAAAAAAAAAAAAAAABj//wAAADFhdmNDAWQA\n",
       "Ff/hABhnZAAVrNlBsJaEAAADAAQAAAMAoDxYtlgBAAZo6+PLIsAAAAAcdXVpZGtoQPJfJE/Fujml\n",
       "G88DI/MAAAAAAAAAGHN0dHMAAAAAAAAAAQAAAFAAAAIAAAAAFHN0c3MAAAAAAAAAAQAAAAEAAAKQ\n",
       "Y3R0cwAAAAAAAABQAAAAAQAABAAAAAABAAAKAAAAAAEAAAQAAAAAAQAAAAAAAAABAAACAAAAAAEA\n",
       "AAYAAAAAAQAAAgAAAAABAAAKAAAAAAEAAAQAAAAAAQAAAAAAAAABAAACAAAAAAEAAAoAAAAAAQAA\n",
       "BAAAAAABAAAAAAAAAAEAAAIAAAAAAQAACgAAAAABAAAEAAAAAAEAAAAAAAAAAQAAAgAAAAABAAAK\n",
       "AAAAAAEAAAQAAAAAAQAAAAAAAAABAAACAAAAAAEAAAoAAAAAAQAABAAAAAABAAAAAAAAAAEAAAIA\n",
       "AAAAAQAACgAAAAABAAAEAAAAAAEAAAAAAAAAAQAAAgAAAAABAAAKAAAAAAEAAAQAAAAAAQAAAAAA\n",
       "AAABAAACAAAAAAEAAAoAAAAAAQAABAAAAAABAAAAAAAAAAEAAAIAAAAAAQAACgAAAAABAAAEAAAA\n",
       "AAEAAAAAAAAAAQAAAgAAAAABAAAEAAAAAAEAAAoAAAAAAQAABAAAAAABAAAAAAAAAAEAAAIAAAAA\n",
       "AQAACgAAAAABAAAEAAAAAAEAAAAAAAAAAQAAAgAAAAABAAAKAAAAAAEAAAQAAAAAAQAAAAAAAAAB\n",
       "AAACAAAAAAEAAAoAAAAAAQAABAAAAAABAAAAAAAAAAEAAAIAAAAAAQAACgAAAAABAAAEAAAAAAEA\n",
       "AAAAAAAAAQAAAgAAAAABAAAKAAAAAAEAAAQAAAAAAQAAAAAAAAABAAACAAAAAAEAAAoAAAAAAQAA\n",
       "BAAAAAABAAAAAAAAAAEAAAIAAAAAAQAACgAAAAABAAAEAAAAAAEAAAAAAAAAAQAAAgAAAAABAAAK\n",
       "AAAAAAEAAAQAAAAAAQAAAAAAAAABAAACAAAAABxzdHNjAAAAAAAAAAEAAAABAAAAUAAAAAEAAAFU\n",
       "c3RzegAAAAAAAAAAAAAAUAAADMwAAABxAAAALAAAABUAAAAbAAAALgAAABcAAACPAAAAGgAAACMA\n",
       "AAAnAAAAJAAAAC4AAAARAAAAEQAAAFsAAAAnAAAAGgAAABMAAABJAAAAFgAAABMAAAATAAAATQAA\n",
       "ABYAAAATAAAAEwAAAC4AAAAWAAAAFQAAABUAAABAAAAAIQAAABQAAAAiAAAA8wAAAE0AAABuAAAA\n",
       "NQAAAHkAAAAaAAAAEQAAADMAAABmAAAA3gAAAD4AAAAoAAAAFgAAAFwAAAAWAAAAEQAAABEAAACU\n",
       "AAAAFgAAABEAAAARAAAA2gAAABMAAAARAAAAEQAAAHEAAAAoAAAAIwAAABoAAAAqAAAAFwAAAA8A\n",
       "AAAPAAAAIQAAAGoAAAAPAAAADwAAAB8AAAAfAAAADwAAADQAAAB6AAAAKwAAAA8AAAAPAAAAFHN0\n",
       "Y28AAAAAAAAAAQAAACwAAABidWR0YQAAAFptZXRhAAAAAAAAACFoZGxyAAAAAAAAAABtZGlyYXBw\n",
       "bAAAAAAAAAAAAAAAAC1pbHN0AAAAJal0b28AAAAdZGF0YQAAAAEAAAAATGF2ZjU4LjIwLjEwMA==\n",
       "\">\n",
       "  Your browser does not support the video tag.\n",
       "</video>"
      ],
      "text/plain": [
       "<IPython.core.display.HTML object>"
      ]
     },
     "execution_count": 32,
     "metadata": {},
     "output_type": "execute_result"
    }
   ],
   "source": [
    "# video of cell firing at median intensity\n",
    "# reshape cells\n",
    "frame_range = (index-40, index+40)\n",
    "cells_reshaped = np.empty((len(cells_to_view), frame_range[1]-frame_range[0], d1, d2))\n",
    "# reshape subset of cells\n",
    "# need to iterate over number of cell in results['C'] dataset and index to store it in cells_reshaped video\n",
    "for cell, cell_number  in tqdm(zip(cells_to_view, range(len(cells_to_view)))):\n",
    "    A_reshaped = np.reshape(dense_A[:, cell], (d1, d2))\n",
    "    cells_reshaped[cell_number] = np.array([np.dot(A_reshaped, results['C'][cell, frame]) for frame in range(frame_range[0], frame_range[1])])\n",
    "    \n",
    "#recombine cells \n",
    "#resulting array is frames, height, witdh\n",
    "cells_recombined = np.sum(cells_reshaped, axis=0)\n",
    "\n",
    "#display frames with all or subset of cells \n",
    "%matplotlib inline\n",
    "fig = plt.figure()\n",
    "im = plt.imshow(cells_recombined[0, :, :])\n",
    "plt.close()\n",
    "def init():\n",
    "    im.set_data(cells_recombined[0, :, :])\n",
    "def animate(i):\n",
    "    im.set_data(cells_recombined[i, :, :])\n",
    "    return(im)\n",
    "anim = animation.FuncAnimation(fig, animate, init_func=init, frames=cells_recombined.shape[0],\n",
    "                               interval=50)\n",
    "HTML(anim.to_html5_video())"
   ]
  },
  {
   "cell_type": "code",
   "execution_count": 34,
   "metadata": {},
   "outputs": [
    {
     "data": {
      "text/plain": [
       "[<matplotlib.lines.Line2D at 0x147183780>]"
      ]
     },
     "execution_count": 34,
     "metadata": {},
     "output_type": "execute_result"
    },
    {
     "data": {
      "image/png": "[encoded data removed]",
      "text/plain": [
       "<Figure size 432x288 with 1 Axes>"
      ]
     },
     "metadata": {
      "needs_background": "light"
     },
     "output_type": "display_data"
    }
   ],
   "source": [
    "plt.plot(cells_in_session[cells_to_view].values[(index-40):(index+40)])"
   ]
  },
  {
   "cell_type": "code",
   "execution_count": 47,
   "metadata": {},
   "outputs": [
    {
     "data": {
      "image/png": "[encoded data removed]",
      "text/plain": [
       "<Figure size 432x288 with 1 Axes>"
      ]
     },
     "metadata": {
      "needs_background": "light"
     },
     "output_type": "display_data"
    }
   ],
   "source": [
    "# plot contours of cells\n",
    "# need to change this so 0 on y axis is at top left\n",
    "\n",
    "# threshold for contour\n",
    "maxthr=0.4\n",
    "nrgthr=0.9\n",
    "\n",
    "# mesh grid that represents the x, y dimensions of the image\n",
    "x, y = np.mgrid[0:d1:1, 0:d2:1]\n",
    "\n",
    "#cm is an array of tuples \n",
    "cm = utils_jjm.com(dense_A, d1, d2)\n",
    "cells_to_plot = cells_to_view\n",
    "\n",
    "for i in cells_to_plot:\n",
    "    #pars = dict(kwargs)\n",
    "    Bvec = dense_A[:, i].flatten()\n",
    "    #normalize spatial contours to 1 \n",
    "    Bvec /= np.max(Bvec)\n",
    "    thr = maxthr\n",
    "# reshape to dimensions of image \n",
    "    Bmat = np.reshape(Bvec, (d1, d2), order='C')\n",
    "    colors = 'r'\n",
    "    cs = plt.contour(y, x, Bmat, [thr], colors=colors)"
   ]
  },
  {
   "cell_type": "code",
   "execution_count": null,
   "metadata": {},
   "outputs": [],
   "source": [
    "# within a frame subset, determine particular cells that are active \n",
    "# list((binned_fluorescence.iloc[15000:15010].iloc[:] == 1).any().index[(binned_fluorescence.iloc[15000:15010].iloc[:] == 1).any()])"
   ]
  },
  {
   "cell_type": "code",
   "execution_count": null,
   "metadata": {},
   "outputs": [],
   "source": [
    "# should filter out small cells here "
   ]
  },
  {
   "cell_type": "code",
   "execution_count": null,
   "metadata": {
    "scrolled": true
   },
   "outputs": [],
   "source": [
    "np.array((binned_fluorescence.iloc[15000:15010].iloc[:] == 1).any().index[(binned_fluorescence.iloc[15000:15010].iloc[:] == 1).any()])"
   ]
  },
  {
   "cell_type": "code",
   "execution_count": null,
   "metadata": {},
   "outputs": [],
   "source": [
    "A_reshaped = np.reshape(dense_A[:, 0], (d1, d2))"
   ]
  },
  {
   "cell_type": "code",
   "execution_count": null,
   "metadata": {},
   "outputs": [],
   "source": [
    "np.shape(A_reshaped)"
   ]
  },
  {
   "cell_type": "code",
   "execution_count": null,
   "metadata": {},
   "outputs": [],
   "source": [
    "np.dot(A_reshaped, [255, 128, 0, results['C'][1, 1]])"
   ]
  },
  {
   "cell_type": "code",
   "execution_count": null,
   "metadata": {},
   "outputs": [],
   "source": [
    "len(cells_to_plot)"
   ]
  },
  {
   "cell_type": "code",
   "execution_count": null,
   "metadata": {},
   "outputs": [],
   "source": [
    "# reshape cells\n",
    "frame_range = (15000, 15010)\n",
    "#cells_reshaped = np.empty((cells, frame_range[1]-frame_range[0], d1, d2))\n",
    "cells_reshaped_color = np.empty((len(cells_to_plot), frame_range[1]-frame_range[0], d2, d1, 4))\n",
    "# reshape subset of cells\n",
    "for cell in tqdm(range(len(cells_to_plot))):\n",
    "    A_reshaped = np.reshape(dense_A[:, cells_to_plot[cell]], (d1, d2))\n",
    "    #cells_reshaped[cell] = np.array([np.dot(A_reshaped, results['C'][cell, frame]) for frame in range(frame_range[0], frame_range[1])])\n",
    "    cell_frames = []\n",
    "    for frame in range(frame_range[0], frame_range[1]):\n",
    "        cell_frames.append(np.transpose(np.array([np.dot(A_reshaped, item) for item in [255, 128, 0, results['C'][cells_to_plot[cell], frame]]])))\n",
    "    cells_reshaped_color[cell] = cell_frames\n",
    "cells_recombined_color = np.sum(cells_reshaped_color, axis=0)"
   ]
  },
  {
   "cell_type": "code",
   "execution_count": null,
   "metadata": {},
   "outputs": [],
   "source": [
    "#display frames with all or subset of cells \n",
    "%matplotlib inline\n",
    "fig = plt.figure()\n",
    "im = plt.imshow(cells_recombined_color[0, :, :])\n",
    "plt.close()\n",
    "def init():\n",
    "    im.set_data(cells_recombined_color[0, :, :])\n",
    "def animate(i):\n",
    "    im.set_data(cells_recombined_color[i, :, :])\n",
    "    return(im)\n",
    "anim = animation.FuncAnimation(fig, animate, init_func=init, frames=cells_recombined_color.shape[0],\n",
    "                               interval=50)\n",
    "HTML(anim.to_html5_video())"
   ]
  },
  {
   "cell_type": "code",
   "execution_count": null,
   "metadata": {},
   "outputs": [],
   "source": []
  },
  {
   "cell_type": "code",
   "execution_count": null,
   "metadata": {},
   "outputs": [],
   "source": []
  },
  {
   "cell_type": "code",
   "execution_count": null,
   "metadata": {},
   "outputs": [],
   "source": [
    "jaccard_data = pd.read_csv(jaccard_data_directory+'/'+'GRIN018_H17_M41_S43'+'_CellJaccards.csv', header=None)"
   ]
  },
  {
   "cell_type": "code",
   "execution_count": null,
   "metadata": {},
   "outputs": [],
   "source": [
    "jaccard_data"
   ]
  },
  {
   "cell_type": "code",
   "execution_count": null,
   "metadata": {
    "scrolled": true
   },
   "outputs": [],
   "source": [
    "scipysp.binom(62, 2)"
   ]
  },
  {
   "cell_type": "code",
   "execution_count": null,
   "metadata": {},
   "outputs": [],
   "source": [
    "frames"
   ]
  },
  {
   "cell_type": "code",
   "execution_count": null,
   "metadata": {},
   "outputs": [],
   "source": [
    "cells"
   ]
  },
  {
   "cell_type": "code",
   "execution_count": null,
   "metadata": {},
   "outputs": [],
   "source": []
  }
 ],
 "metadata": {
  "kernelspec": {
   "display_name": "caiman",
   "language": "python",
   "name": "caiman"
  },
  "language_info": {
   "codemirror_mode": {
    "name": "ipython",
    "version": 3
   },
   "file_extension": ".py",
   "mimetype": "text/x-python",
   "name": "python",
   "nbconvert_exporter": "python",
   "pygments_lexer": "ipython3",
   "version": "3.6.7"
  }
 },
 "nbformat": 4,
 "nbformat_minor": 2
}
