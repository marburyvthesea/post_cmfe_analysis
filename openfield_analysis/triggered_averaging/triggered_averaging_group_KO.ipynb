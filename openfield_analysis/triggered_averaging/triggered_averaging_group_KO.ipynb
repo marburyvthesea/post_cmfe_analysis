{
 "cells": [
  {
   "cell_type": "code",
   "execution_count": 1,
   "metadata": {},
   "outputs": [
    {
     "data": {
      "text/html": [
       "<style>.container { width:90% !important; }</style>"
      ],
      "text/plain": [
       "<IPython.core.display.HTML object>"
      ]
     },
     "metadata": {},
     "output_type": "display_data"
    },
    {
     "name": "stderr",
     "output_type": "stream",
     "text": [
      "/Users/johnmarshall/anaconda3/envs/caiman/lib/python3.6/site-packages/sklearn/utils/deprecation.py:144: FutureWarning: The sklearn.decomposition.incremental_pca module is  deprecated in version 0.22 and will be removed in version 0.24. The corresponding classes / functions should instead be imported from sklearn.decomposition. Anything that cannot be imported from sklearn.decomposition is now part of the private API.\n",
      "  warnings.warn(message, FutureWarning)\n",
      "/Users/johnmarshall/anaconda3/envs/caiman/lib/python3.6/site-packages/tensorflow/python/framework/dtypes.py:526: FutureWarning: Passing (type, 1) or '1type' as a synonym of type is deprecated; in a future version of numpy, it will be understood as (type, (1,)) / '(1,)type'.\n",
      "  _np_qint8 = np.dtype([(\"qint8\", np.int8, 1)])\n",
      "/Users/johnmarshall/anaconda3/envs/caiman/lib/python3.6/site-packages/tensorflow/python/framework/dtypes.py:527: FutureWarning: Passing (type, 1) or '1type' as a synonym of type is deprecated; in a future version of numpy, it will be understood as (type, (1,)) / '(1,)type'.\n",
      "  _np_quint8 = np.dtype([(\"quint8\", np.uint8, 1)])\n",
      "/Users/johnmarshall/anaconda3/envs/caiman/lib/python3.6/site-packages/tensorflow/python/framework/dtypes.py:528: FutureWarning: Passing (type, 1) or '1type' as a synonym of type is deprecated; in a future version of numpy, it will be understood as (type, (1,)) / '(1,)type'.\n",
      "  _np_qint16 = np.dtype([(\"qint16\", np.int16, 1)])\n",
      "/Users/johnmarshall/anaconda3/envs/caiman/lib/python3.6/site-packages/tensorflow/python/framework/dtypes.py:529: FutureWarning: Passing (type, 1) or '1type' as a synonym of type is deprecated; in a future version of numpy, it will be understood as (type, (1,)) / '(1,)type'.\n",
      "  _np_quint16 = np.dtype([(\"quint16\", np.uint16, 1)])\n",
      "/Users/johnmarshall/anaconda3/envs/caiman/lib/python3.6/site-packages/tensorflow/python/framework/dtypes.py:530: FutureWarning: Passing (type, 1) or '1type' as a synonym of type is deprecated; in a future version of numpy, it will be understood as (type, (1,)) / '(1,)type'.\n",
      "  _np_qint32 = np.dtype([(\"qint32\", np.int32, 1)])\n",
      "/Users/johnmarshall/anaconda3/envs/caiman/lib/python3.6/site-packages/tensorflow/python/framework/dtypes.py:535: FutureWarning: Passing (type, 1) or '1type' as a synonym of type is deprecated; in a future version of numpy, it will be understood as (type, (1,)) / '(1,)type'.\n",
      "  np_resource = np.dtype([(\"resource\", np.ubyte, 1)])\n"
     ]
    }
   ],
   "source": [
    "from IPython.core.display import display, HTML\n",
    "display(HTML(\"<style>.container { width:90% !important; }</style>\"))\n",
    "import numpy as np\n",
    "import pandas as pd\n",
    "import h5py\n",
    "from tqdm import tqdm\n",
    "import scipy.io as sio\n",
    "from scipy import stats\n",
    "from importlib import reload\n",
    "from matplotlib import pyplot as plt\n",
    "import sys\n",
    "#sys.path.append('/home/jma819/post_cmfe_analysis')\n",
    "sys.path.append('/Users/johnmarshall/Documents/Analysis/PythonAnalysisScripts/post_cmfe_analysis')\n",
    "import python_utils_jjm as utils_jjm\n",
    "import dlc_utils\n",
    "import caiman\n",
    "import statsmodels.formula.api as smf\n",
    "import scipy.spatial.distance as dist\n",
    "import itertools\n",
    "import math\n",
    "import warnings\n",
    "warnings.filterwarnings(action='once')"
   ]
  },
  {
   "cell_type": "code",
   "execution_count": 2,
   "metadata": {
    "scrolled": false
   },
   "outputs": [
    {
     "data": {
      "text/plain": [
       "<module 'dlc_utils' from '/Users/johnmarshall/Documents/Analysis/PythonAnalysisScripts/post_cmfe_analysis/dlc_utils.py'>"
      ]
     },
     "execution_count": 2,
     "metadata": {},
     "output_type": "execute_result"
    }
   ],
   "source": [
    "reload(utils_jjm)\n",
    "reload(dlc_utils)"
   ]
  },
  {
   "cell_type": "code",
   "execution_count": 3,
   "metadata": {},
   "outputs": [],
   "source": [
    "cnmfe_file_key = pd.read_csv('/volumes/My_Passport/dlc_analysis/behavcamvideos/cnmfe_file_key.csv')\n",
    "#cnmfe_file_key = pd.read_csv('/projects/p30771/dlc_analysis/openfield_dlc_output/cnmfe_file_key.csv')"
   ]
  },
  {
   "cell_type": "code",
   "execution_count": 7,
   "metadata": {},
   "outputs": [],
   "source": [
    "cnmfe_base_dir = '/Volumes/My_Passport/cnmfe_analysis_files/batch_output_files/'\n",
    "#cnmfe_base_dir = '/projects/p30771/MATLAB/CNMF_E_jjm/quest_MATLAB_cnmfe/batch_output_files/'\n",
    "wt_CNMFE_file = ['30-Mar_20_39_05_out.mat', '30-Mar_20_45_16_out.mat', '27-Feb_17_33_59_out.mat', '22-Mar_22_52_02_out.mat',\n",
    "                 '28-Feb_16_10_05_out.mat', '27-Feb_17_32_15_out.mat', '28-Feb_16_21_21_out.mat', '25-Mar_13_27_27_out.mat',\n",
    "                 '25-Mar_14_22_02_out.mat', '25-Mar_14_22_44_out.mat', '26-Mar_18_33_55_out.mat', '27-Mar_00_26_12_out.mat', '27-Mar_00_48_46_out.mat']\n",
    "\n",
    "ko_CNMFE_files = ['31-Mar_13_28_15_out.mat', '29-Mar_21_42_20_out.mat', '13-Apr_17_57_40_out.mat', '29-Mar_14_27_55_out.mat', '13-Apr_16_01_20_out.mat',\n",
    "                 '13-Apr_16_11_27_out.mat', '29-Mar_13_39_44_out.mat']"
   ]
  },
  {
   "cell_type": "code",
   "execution_count": 8,
   "metadata": {},
   "outputs": [],
   "source": [
    "tracking_files = ['/volumes/My_Passport/dlc_analysis/behavcamvideos/'+utils_jjm.find_behavior_tracking(fname, cnmfe_file_key) for fname in ko_CNMFE_files] \n",
    "#tracking_files = ['/projects/p30771/dlc_analysis/openfield_dlc_output/'+utils_jjm.find_behavior_tracking(fname, cnmfe_file_key) for fname in wt_CNMFE_file] "
   ]
  },
  {
   "cell_type": "code",
   "execution_count": 9,
   "metadata": {
    "scrolled": true
   },
   "outputs": [],
   "source": [
    "CNMFE_dir_paths_list = [str(cnmfe_base_dir+fname) for fname in ko_CNMFE_files]\n",
    "#CNMFE_dir_paths_list"
   ]
  },
  {
   "cell_type": "code",
   "execution_count": 15,
   "metadata": {},
   "outputs": [
    {
     "data": {
      "text/plain": [
       "['/volumes/My_Passport/dlc_analysis/behavcamvideos/GRIN009_H13_M59_S14/GRIN009_H13_M59_S14_dlc_tracking_foranalysis_04142020.csv',\n",
       " '/volumes/My_Passport/dlc_analysis/behavcamvideos/GRIN018_H17_M41_S43/GRIN018_H17_M41_S43_dlc_tracking_foranalysis_04142020.csv',\n",
       " '/volumes/My_Passport/dlc_analysis/behavcamvideos/GRIN018_H16_M13_S53/GRIN018_H16_M13_S53_dlc_tracking_foranalysis_04142020.csv',\n",
       " '/volumes/My_Passport/dlc_analysis/behavcamvideos/GRIN011_H10_M19_S59/GRIN011_H10_M19_S59_dlc_tracking_foranalysis_04142020.csv',\n",
       " '/volumes/My_Passport/dlc_analysis/behavcamvideos/GRIN012_H17_M46_S35/GRIN012_H17_M46_S35_dlc_tracking_foranalysis_04142020.csv',\n",
       " '/volumes/My_Passport/dlc_analysis/behavcamvideos/GRIN012_H17_M32_S17/GRIN012_H17_M32_S17_dlc_tracking_foranalysis_04142020.csv',\n",
       " '/volumes/My_Passport/dlc_analysis/behavcamvideos/GRIN012_H16_M57_S23/GRIN012_H16_M57_S23_dlc_tracking_foranalysis_04142020.csv']"
      ]
     },
     "execution_count": 15,
     "metadata": {},
     "output_type": "execute_result"
    }
   ],
   "source": [
    "tracking_files"
   ]
  },
  {
   "cell_type": "code",
   "execution_count": 12,
   "metadata": {},
   "outputs": [],
   "source": [
    "binning_time = 1 # seconds \n",
    "body_part_for_tracking = 'tail_base' #\n",
    "number_of_bins = 50 #\n",
    "polynomial_degree = 2 #\n",
    "\n",
    "grouped_raw_data = {}\n",
    "success = []\n",
    "failed = []\n",
    "for CNMFE_file, tracking_file in zip(CNMFE_dir_paths_list, tracking_files):\n",
    "    #print(CNMFE_file)\n",
    "    #print(tracking_file)\n",
    "    try:\n",
    "        # load cell fluorescence \n",
    "        cell_fluorescence = sio.loadmat(CNMFE_file)\n",
    "        C_timedelta = utils_jjm.create_fluorescence_time_delta(cell_fluorescence['C'])\n",
    "        C_normalized = C_timedelta.apply(utils_jjm.normalize).set_index(pd.to_timedelta(np.linspace(0, (len(C_timedelta)-1)*(1/20), len(C_timedelta)), unit='s'), drop=True)\n",
    "        C_z_scored = C_timedelta.apply(stats.zscore).set_index(pd.to_timedelta(np.linspace(0, (len(C_timedelta)-1)*(1/20), len(C_timedelta)), unit='s'), drop=True)\n",
    "        C_normalized_z_scored = C_normalized.apply(stats.zscore).set_index(pd.to_timedelta(np.linspace(0, (len(C_normalized)-1)*(1/20), len(C_normalized)), unit='s'), drop=True)\n",
    "        # create tracking time deltas\n",
    "        interpolated = utils_jjm.prepare_timedelta_dfs(tracking_file)\n",
    "        #load spatial components by session\n",
    "        com_df, spatial_components = utils_jjm.return_spatial_info(CNMFE_file, 0.6)\n",
    "        cell_contours, for_dims = utils_jjm.create_contour_layouts(spatial_components)\n",
    "        #C_z_scored_filtered = utils_jjm.filter_out_by_size(C_z_scored, cell_contours, for_dims, 0.6, 100)\n",
    "        #store results \n",
    "        grouped_raw_data[tracking_file.split('/')[-2]] = {'C': C_timedelta, 'C_z_scored': C_z_scored, 'C_normalized': C_normalized, 'C_normalized_z_scored': C_normalized_z_scored, \n",
    "                                                          'interpolated' : interpolated, 'com' : com_df, 'spatial_components' : spatial_components, 'cell_contours': cell_contours,  \n",
    "                                                         'for_dims' : for_dims}\n",
    "        success.append((tracking_file.split('/')[-2], CNMFE_file.split('/')[-1]))\n",
    "    except FileNotFoundError:\n",
    "        failed.append(tracking_file)\n",
    "    except OSError:\n",
    "        failed.append(tracking_file)"
   ]
  },
  {
   "cell_type": "markdown",
   "metadata": {},
   "source": [
    "## triggered averaging "
   ]
  },
  {
   "cell_type": "code",
   "execution_count": 16,
   "metadata": {},
   "outputs": [],
   "source": [
    "## combine dfs for each session to bin velocity values across dfs\n",
    "#downsample\n",
    "new_sampling_interval = .2\n",
    "V_df = pd.concat([grouped_raw_data[session]['interpolated'].resample(str(new_sampling_interval)+'S').max() \n",
    "                  for session in list(grouped_raw_data.keys())], keys=list(grouped_raw_data.keys()))\n",
    "all_sessions_v_bins = pd.cut(V_df['tail_base'], bins=50)\n",
    "\n",
    "V_df['velocity_bins'] = all_sessions_v_bins"
   ]
  },
  {
   "cell_type": "code",
   "execution_count": 17,
   "metadata": {},
   "outputs": [],
   "source": [
    "filtered_for_analysis = {}\n",
    "for session in list(grouped_raw_data.keys()):\n",
    "    filtered_for_analysis[session] = utils_jjm.filter_out_by_size(grouped_raw_data[session]['C_normalized_z_scored'], grouped_raw_data[session]['cell_contours'], \n",
    "                                                                  grouped_raw_data[session]['for_dims'], 0.6, 100)\n",
    "C_df = pd.concat([filtered_for_analysis[session].resample(str(new_sampling_interval)+'S').max()\n",
    "                  for session in list(grouped_raw_data.keys())], keys=list(grouped_raw_data.keys()))\n"
   ]
  },
  {
   "cell_type": "code",
   "execution_count": 18,
   "metadata": {},
   "outputs": [
    {
     "name": "stderr",
     "output_type": "stream",
     "text": [
      "/Users/johnmarshall/anaconda3/envs/caiman/lib/python3.6/site-packages/numpy/core/fromnumeric.py:3335: RuntimeWarning: Mean of empty slice.\n",
      "  out=out, **kwargs)\n",
      "/Users/johnmarshall/anaconda3/envs/caiman/lib/python3.6/site-packages/numpy/core/_methods.py:161: RuntimeWarning: invalid value encountered in double_scalars\n",
      "  ret = ret.dtype.type(ret / rcount)\n"
     ]
    }
   ],
   "source": [
    "# bin by activity threshold (body_part, resting_time_threshold, active_time_threshold, crossing_threshold, resting_threshold, activity_threshold)\n",
    "binned_velocity_df = pd.DataFrame([dlc_utils.bin_by_activity_threshold(V_df.loc[session]['tail_base'], 40, 20, 5, 5, 0.5)\n",
    "                                for session in list(grouped_raw_data.keys())], index=list(grouped_raw_data.keys()))"
   ]
  },
  {
   "cell_type": "code",
   "execution_count": 19,
   "metadata": {},
   "outputs": [],
   "source": [
    "binned_velocity_df = binned_velocity_df.transpose()"
   ]
  },
  {
   "cell_type": "code",
   "execution_count": 20,
   "metadata": {},
   "outputs": [
    {
     "data": {
      "text/plain": [
       "['GRIN009_H13_M59_S14',\n",
       " 'GRIN018_H17_M41_S43',\n",
       " 'GRIN018_H16_M13_S53',\n",
       " 'GRIN011_H10_M19_S59',\n",
       " 'GRIN012_H17_M32_S17',\n",
       " 'GRIN012_H16_M57_S23']"
      ]
     },
     "execution_count": 20,
     "metadata": {},
     "output_type": "execute_result"
    }
   ],
   "source": [
    "list(grouped_raw_data.keys())"
   ]
  },
  {
   "cell_type": "code",
   "execution_count": 21,
   "metadata": {},
   "outputs": [
    {
     "data": {
      "image/png": "[encoded data removed]",
      "text/plain": [
       "<Figure size 432x288 with 1 Axes>"
      ]
     },
     "metadata": {
      "needs_background": "light"
     },
     "output_type": "display_data"
    }
   ],
   "source": [
    "plt.plot(V_df.loc['GRIN011_H10_M19_S59']['tail_base'][1900:2500])\n",
    "plt.show()"
   ]
  },
  {
   "cell_type": "code",
   "execution_count": 22,
   "metadata": {},
   "outputs": [
    {
     "data": {
      "text/plain": [
       "[<matplotlib.lines.Line2D at 0x13070c780>]"
      ]
     },
     "execution_count": 22,
     "metadata": {},
     "output_type": "execute_result"
    },
    {
     "data": {
      "image/png": "[encoded data removed]",
      "text/plain": [
       "<Figure size 432x288 with 1 Axes>"
      ]
     },
     "metadata": {
      "needs_background": "light"
     },
     "output_type": "display_data"
    }
   ],
   "source": [
    "plt.plot(binned_velocity_df['GRIN011_H10_M19_S59'])"
   ]
  },
  {
   "cell_type": "code",
   "execution_count": 23,
   "metadata": {},
   "outputs": [],
   "source": [
    "session = list(grouped_raw_data.keys())[0]"
   ]
  },
  {
   "cell_type": "code",
   "execution_count": 24,
   "metadata": {},
   "outputs": [],
   "source": [
    "crossing_indicies = utils_jjm.select_trigger_regions(binned_velocity_df[session], 0.5, 0.5, 20)"
   ]
  },
  {
   "cell_type": "code",
   "execution_count": 25,
   "metadata": {},
   "outputs": [],
   "source": [
    "threshold_activity = utils_jjm.average_triggered_regions(V_df.loc[session]['tail_base'].values, crossing_indicies, 20)\n",
    "cells_in_session = C_df.loc[session].dropna(axis=1)\n",
    "cell_fluorescence = cells_in_session.drop(['msCamFrame'], axis=1)"
   ]
  },
  {
   "cell_type": "code",
   "execution_count": 26,
   "metadata": {},
   "outputs": [],
   "source": [
    "f_threshold_activity = utils_jjm.average_triggered_regions(cell_fluorescence.mean(axis=1).values, crossing_indicies, 20)"
   ]
  },
  {
   "cell_type": "code",
   "execution_count": 27,
   "metadata": {},
   "outputs": [
    {
     "data": {
      "text/html": [
       "<div>\n",
       "<style scoped>\n",
       "    .dataframe tbody tr th:only-of-type {\n",
       "        vertical-align: middle;\n",
       "    }\n",
       "\n",
       "    .dataframe tbody tr th {\n",
       "        vertical-align: top;\n",
       "    }\n",
       "\n",
       "    .dataframe thead tr th {\n",
       "        text-align: left;\n",
       "    }\n",
       "</style>\n",
       "<table border=\"1\" class=\"dataframe\">\n",
       "  <thead>\n",
       "    <tr>\n",
       "      <th></th>\n",
       "      <th colspan=\"10\" halign=\"left\">fluorescence</th>\n",
       "      <th>...</th>\n",
       "      <th colspan=\"10\" halign=\"left\">velocity</th>\n",
       "    </tr>\n",
       "    <tr>\n",
       "      <th></th>\n",
       "      <th>1146</th>\n",
       "      <th>1638</th>\n",
       "      <th>1887</th>\n",
       "      <th>2112</th>\n",
       "      <th>2353</th>\n",
       "      <th>3057</th>\n",
       "      <th>3183</th>\n",
       "      <th>3276</th>\n",
       "      <th>3516</th>\n",
       "      <th>3647</th>\n",
       "      <th>...</th>\n",
       "      <th>3516</th>\n",
       "      <th>3647</th>\n",
       "      <th>3742</th>\n",
       "      <th>4121</th>\n",
       "      <th>4339</th>\n",
       "      <th>4611</th>\n",
       "      <th>4748</th>\n",
       "      <th>4889</th>\n",
       "      <th>5031</th>\n",
       "      <th>5090</th>\n",
       "    </tr>\n",
       "  </thead>\n",
       "  <tbody>\n",
       "    <tr>\n",
       "      <th>0</th>\n",
       "      <td>-0.320036</td>\n",
       "      <td>-0.124375</td>\n",
       "      <td>-0.113736</td>\n",
       "      <td>-0.030546</td>\n",
       "      <td>0.034440</td>\n",
       "      <td>0.445594</td>\n",
       "      <td>0.795167</td>\n",
       "      <td>0.238305</td>\n",
       "      <td>0.379352</td>\n",
       "      <td>2.815433</td>\n",
       "      <td>...</td>\n",
       "      <td>0.168348</td>\n",
       "      <td>3.109371</td>\n",
       "      <td>1.861182</td>\n",
       "      <td>0.208146</td>\n",
       "      <td>2.432450</td>\n",
       "      <td>0.249805</td>\n",
       "      <td>0.460001</td>\n",
       "      <td>0.219003</td>\n",
       "      <td>0.164989</td>\n",
       "      <td>0.258140</td>\n",
       "    </tr>\n",
       "    <tr>\n",
       "      <th>1</th>\n",
       "      <td>-0.296275</td>\n",
       "      <td>-0.121424</td>\n",
       "      <td>-0.098793</td>\n",
       "      <td>-0.048393</td>\n",
       "      <td>0.073539</td>\n",
       "      <td>0.443291</td>\n",
       "      <td>0.560121</td>\n",
       "      <td>0.255257</td>\n",
       "      <td>0.461118</td>\n",
       "      <td>2.230110</td>\n",
       "      <td>...</td>\n",
       "      <td>0.169629</td>\n",
       "      <td>2.794384</td>\n",
       "      <td>1.675351</td>\n",
       "      <td>0.195900</td>\n",
       "      <td>2.494146</td>\n",
       "      <td>0.261298</td>\n",
       "      <td>0.441409</td>\n",
       "      <td>0.210696</td>\n",
       "      <td>0.167764</td>\n",
       "      <td>0.246824</td>\n",
       "    </tr>\n",
       "    <tr>\n",
       "      <th>2</th>\n",
       "      <td>-0.350368</td>\n",
       "      <td>-0.140463</td>\n",
       "      <td>-0.114197</td>\n",
       "      <td>-0.048685</td>\n",
       "      <td>0.138213</td>\n",
       "      <td>0.383345</td>\n",
       "      <td>0.383764</td>\n",
       "      <td>0.175016</td>\n",
       "      <td>0.453231</td>\n",
       "      <td>1.401332</td>\n",
       "      <td>...</td>\n",
       "      <td>0.170910</td>\n",
       "      <td>2.479397</td>\n",
       "      <td>1.489520</td>\n",
       "      <td>0.183653</td>\n",
       "      <td>2.198407</td>\n",
       "      <td>0.272791</td>\n",
       "      <td>0.423821</td>\n",
       "      <td>0.207337</td>\n",
       "      <td>0.170540</td>\n",
       "      <td>0.235509</td>\n",
       "    </tr>\n",
       "    <tr>\n",
       "      <th>3</th>\n",
       "      <td>-0.347741</td>\n",
       "      <td>-0.151358</td>\n",
       "      <td>-0.097535</td>\n",
       "      <td>-0.071728</td>\n",
       "      <td>0.103161</td>\n",
       "      <td>0.433695</td>\n",
       "      <td>0.351196</td>\n",
       "      <td>0.159332</td>\n",
       "      <td>0.422017</td>\n",
       "      <td>0.981110</td>\n",
       "      <td>...</td>\n",
       "      <td>0.172191</td>\n",
       "      <td>2.164410</td>\n",
       "      <td>1.303689</td>\n",
       "      <td>0.171407</td>\n",
       "      <td>1.902668</td>\n",
       "      <td>0.284284</td>\n",
       "      <td>0.425159</td>\n",
       "      <td>0.203979</td>\n",
       "      <td>0.173316</td>\n",
       "      <td>0.224193</td>\n",
       "    </tr>\n",
       "    <tr>\n",
       "      <th>4</th>\n",
       "      <td>-0.354749</td>\n",
       "      <td>-0.120860</td>\n",
       "      <td>-0.098599</td>\n",
       "      <td>-0.059048</td>\n",
       "      <td>0.057837</td>\n",
       "      <td>0.516220</td>\n",
       "      <td>0.328678</td>\n",
       "      <td>0.235406</td>\n",
       "      <td>0.439857</td>\n",
       "      <td>0.775247</td>\n",
       "      <td>...</td>\n",
       "      <td>0.238482</td>\n",
       "      <td>2.007672</td>\n",
       "      <td>1.283591</td>\n",
       "      <td>0.159726</td>\n",
       "      <td>1.606928</td>\n",
       "      <td>0.287158</td>\n",
       "      <td>0.426498</td>\n",
       "      <td>0.200620</td>\n",
       "      <td>0.174010</td>\n",
       "      <td>0.212877</td>\n",
       "    </tr>\n",
       "  </tbody>\n",
       "</table>\n",
       "<p>5 rows × 36 columns</p>\n",
       "</div>"
      ],
      "text/plain": [
       "  fluorescence                                                              \\\n",
       "          1146      1638      1887      2112      2353      3057      3183   \n",
       "0    -0.320036 -0.124375 -0.113736 -0.030546  0.034440  0.445594  0.795167   \n",
       "1    -0.296275 -0.121424 -0.098793 -0.048393  0.073539  0.443291  0.560121   \n",
       "2    -0.350368 -0.140463 -0.114197 -0.048685  0.138213  0.383345  0.383764   \n",
       "3    -0.347741 -0.151358 -0.097535 -0.071728  0.103161  0.433695  0.351196   \n",
       "4    -0.354749 -0.120860 -0.098599 -0.059048  0.057837  0.516220  0.328678   \n",
       "\n",
       "                                 ...  velocity                                \\\n",
       "       3276      3516      3647  ...      3516      3647      3742      4121   \n",
       "0  0.238305  0.379352  2.815433  ...  0.168348  3.109371  1.861182  0.208146   \n",
       "1  0.255257  0.461118  2.230110  ...  0.169629  2.794384  1.675351  0.195900   \n",
       "2  0.175016  0.453231  1.401332  ...  0.170910  2.479397  1.489520  0.183653   \n",
       "3  0.159332  0.422017  0.981110  ...  0.172191  2.164410  1.303689  0.171407   \n",
       "4  0.235406  0.439857  0.775247  ...  0.238482  2.007672  1.283591  0.159726   \n",
       "\n",
       "                                                               \n",
       "       4339      4611      4748      4889      5031      5090  \n",
       "0  2.432450  0.249805  0.460001  0.219003  0.164989  0.258140  \n",
       "1  2.494146  0.261298  0.441409  0.210696  0.167764  0.246824  \n",
       "2  2.198407  0.272791  0.423821  0.207337  0.170540  0.235509  \n",
       "3  1.902668  0.284284  0.425159  0.203979  0.173316  0.224193  \n",
       "4  1.606928  0.287158  0.426498  0.200620  0.174010  0.212877  \n",
       "\n",
       "[5 rows x 36 columns]"
      ]
     },
     "execution_count": 27,
     "metadata": {},
     "output_type": "execute_result"
    }
   ],
   "source": [
    "pd.concat([f_threshold_activity, threshold_activity], axis=1, keys=['fluorescence', 'velocity']).head()"
   ]
  },
  {
   "cell_type": "code",
   "execution_count": 28,
   "metadata": {
    "scrolled": true
   },
   "outputs": [],
   "source": [
    "\n",
    "triggered_activity_across_sessions = {}\n",
    "for session in list(grouped_raw_data.keys()):\n",
    "    #inputs activity_threshold, resting_threshold, resting_baseline \n",
    "    crossing_indicies = utils_jjm.select_trigger_regions(binned_velocity_df[session], 0.5, 0.5, 20)\n",
    "    #inputs time_to_plot\n",
    "    threshold_activity = utils_jjm.average_triggered_regions(V_df.loc[session]['tail_base'].values, crossing_indicies, 40)\n",
    "    cells_in_session = C_df.loc[session].dropna(axis=1)\n",
    "    cell_fluorescence = cells_in_session.drop(['msCamFrame'], axis=1)\n",
    "    f_threshold_activity = utils_jjm.average_triggered_regions(cell_fluorescence.mean(axis=1).values, crossing_indicies, 40)\n",
    "    triggered_activity_across_sessions[session] = pd.concat([threshold_activity, f_threshold_activity], axis=1, keys=['velocity', 'fluorescence'])"
   ]
  },
  {
   "cell_type": "code",
   "execution_count": 29,
   "metadata": {},
   "outputs": [],
   "source": [
    "#concat by mouse \n",
    "concacted_by_mouse = {}\n",
    "for mouse in list(set([session[0:7] for session in list(triggered_activity_across_sessions.keys())])):\n",
    "    dfs_by_mouse = []\n",
    "    sessions = []\n",
    "    for session in list(triggered_activity_across_sessions.keys()):\n",
    "        if mouse in session:\n",
    "            dfs_by_mouse.append(triggered_activity_across_sessions[session].mean(axis=1, level=0))\n",
    "            sessions.append(session)\n",
    "    concacted_by_mouse[mouse] = pd.concat(dfs_by_mouse, axis=1, keys=sessions)\n"
   ]
  },
  {
   "cell_type": "code",
   "execution_count": 30,
   "metadata": {
    "scrolled": true
   },
   "outputs": [],
   "source": [
    "combined_by_mouse = pd.concat(list(concacted_by_mouse.values()), axis=1, keys=list(concacted_by_mouse.keys()))"
   ]
  },
  {
   "cell_type": "code",
   "execution_count": 31,
   "metadata": {
    "scrolled": false
   },
   "outputs": [
    {
     "data": {
      "text/html": [
       "<div>\n",
       "<style scoped>\n",
       "    .dataframe tbody tr th:only-of-type {\n",
       "        vertical-align: middle;\n",
       "    }\n",
       "\n",
       "    .dataframe tbody tr th {\n",
       "        vertical-align: top;\n",
       "    }\n",
       "\n",
       "    .dataframe thead th {\n",
       "        text-align: right;\n",
       "    }\n",
       "</style>\n",
       "<table border=\"1\" class=\"dataframe\">\n",
       "  <thead>\n",
       "    <tr style=\"text-align: right;\">\n",
       "      <th></th>\n",
       "      <th>velocity</th>\n",
       "      <th>fluorescence</th>\n",
       "    </tr>\n",
       "  </thead>\n",
       "  <tbody>\n",
       "    <tr>\n",
       "      <th>0</th>\n",
       "      <td>1.116777</td>\n",
       "      <td>0.162023</td>\n",
       "    </tr>\n",
       "    <tr>\n",
       "      <th>1</th>\n",
       "      <td>1.044392</td>\n",
       "      <td>0.146698</td>\n",
       "    </tr>\n",
       "    <tr>\n",
       "      <th>2</th>\n",
       "      <td>0.998516</td>\n",
       "      <td>0.125218</td>\n",
       "    </tr>\n",
       "    <tr>\n",
       "      <th>3</th>\n",
       "      <td>0.958968</td>\n",
       "      <td>0.114288</td>\n",
       "    </tr>\n",
       "    <tr>\n",
       "      <th>4</th>\n",
       "      <td>0.929707</td>\n",
       "      <td>0.114983</td>\n",
       "    </tr>\n",
       "  </tbody>\n",
       "</table>\n",
       "</div>"
      ],
      "text/plain": [
       "   velocity  fluorescence\n",
       "0  1.116777      0.162023\n",
       "1  1.044392      0.146698\n",
       "2  0.998516      0.125218\n",
       "3  0.958968      0.114288\n",
       "4  0.929707      0.114983"
      ]
     },
     "execution_count": 31,
     "metadata": {},
     "output_type": "execute_result"
    }
   ],
   "source": [
    "combined_by_mouse.mean(axis=1, level=2).head()"
   ]
  },
  {
   "cell_type": "code",
   "execution_count": 32,
   "metadata": {},
   "outputs": [
    {
     "data": {
      "image/png": "[encoded data removed]",
      "text/plain": [
       "<Figure size 432x288 with 1 Axes>"
      ]
     },
     "metadata": {
      "needs_background": "light"
     },
     "output_type": "display_data"
    }
   ],
   "source": [
    "x = np.linspace(-40*.2, 40*.2, 80)\n",
    "mean=combined_by_mouse.mean(axis=1, level=2)['velocity'].values\n",
    "plt.plot(x, combined_by_mouse.mean(axis=1, level=2)['velocity'].values, color='k')\n",
    "std_error = (combined_by_mouse.std(axis=1, level=2)['velocity'])/math.sqrt(combined_by_mouse.mean(axis=1, level=0).shape[1])\n",
    "plt.fill_between(x, mean-std_error, mean+std_error)\n",
    "ax = plt.gca()\n",
    "ax.axvline(x=(0), linestyle='--', color='r')\n",
    "plt.show()"
   ]
  },
  {
   "cell_type": "code",
   "execution_count": 34,
   "metadata": {},
   "outputs": [
    {
     "data": {
      "image/png": "[encoded data removed]",
      "text/plain": [
       "<Figure size 432x288 with 1 Axes>"
      ]
     },
     "metadata": {
      "needs_background": "light"
     },
     "output_type": "display_data"
    }
   ],
   "source": [
    "x = np.linspace(-40*.2, 40*.2, 80)\n",
    "mean = combined_by_mouse.mean(axis=1, level=2)['fluorescence'].values\n",
    "plt.plot(x, mean, color='k')\n",
    "std_error = (combined_by_mouse.std(axis=1, level=2)['fluorescence'])/math.sqrt(combined_by_mouse.mean(axis=1, level=0).shape[1])\n",
    "plt.fill_between(x, mean-std_error, mean+std_error)\n",
    "ax = plt.gca()\n",
    "ax.axvline(x=0, linestyle='--', color='r')\n",
    "plt.show()"
   ]
  },
  {
   "cell_type": "code",
   "execution_count": null,
   "metadata": {},
   "outputs": [],
   "source": []
  }
 ],
 "metadata": {
  "kernelspec": {
   "display_name": "caiman",
   "language": "python",
   "name": "caiman"
  },
  "language_info": {
   "codemirror_mode": {
    "name": "ipython",
    "version": 3
   },
   "file_extension": ".py",
   "mimetype": "text/x-python",
   "name": "python",
   "nbconvert_exporter": "python",
   "pygments_lexer": "ipython3",
   "version": "3.6.7"
  }
 },
 "nbformat": 4,
 "nbformat_minor": 2
}
