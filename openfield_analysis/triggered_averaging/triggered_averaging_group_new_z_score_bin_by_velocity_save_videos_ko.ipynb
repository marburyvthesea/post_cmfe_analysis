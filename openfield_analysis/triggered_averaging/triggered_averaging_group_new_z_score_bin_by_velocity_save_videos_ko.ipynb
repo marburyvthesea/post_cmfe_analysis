{
 "cells": [
  {
   "cell_type": "code",
   "execution_count": 1,
   "metadata": {
    "collapsed": false
   },
   "outputs": [
    {
     "data": {
      "text/html": [
       "<style>.container { width:90% !important; }</style>"
      ],
      "text/plain": [
       "<IPython.core.display.HTML object>"
      ]
     },
     "metadata": {},
     "output_type": "display_data"
    },
    {
     "name": "stderr",
     "output_type": "stream",
     "text": [
      "/home/jma819/.conda/envs/caiman/lib/python3.6/site-packages/sklearn/utils/deprecation.py:144: FutureWarning: The sklearn.decomposition.incremental_pca module is  deprecated in version 0.22 and will be removed in version 0.24. The corresponding classes / functions should instead be imported from sklearn.decomposition. Anything that cannot be imported from sklearn.decomposition is now part of the private API.\n",
      "  warnings.warn(message, FutureWarning)\n"
     ]
    }
   ],
   "source": [
    "from IPython.core.display import display, HTML\n",
    "display(HTML(\"<style>.container { width:90% !important; }</style>\"))\n",
    "import numpy as np\n",
    "import pandas as pd\n",
    "import h5py\n",
    "from tqdm import tqdm\n",
    "import scipy.io as sio\n",
    "from scipy import stats\n",
    "from importlib import reload\n",
    "from matplotlib import pyplot as plt\n",
    "import sys\n",
    "sys.path.append('/home/jma819/post_cmfe_analysis')\n",
    "#sys.path.append('/Users/johnmarshall/Documents/Analysis/PythonAnalysisScripts/post_cmfe_analysis')\n",
    "import python_utils_jjm as utils_jjm\n",
    "import dlc_utils\n",
    "import caiman\n",
    "from sklearn.preprocessing import MinMaxScaler\n",
    "import scipy.spatial.distance as dist\n",
    "import itertools\n",
    "import math\n",
    "import warnings\n",
    "%matplotlib inline\n",
    "from matplotlib import pyplot as plt\n",
    "from matplotlib import animation, rc\n",
    "from IPython.display import HTML\n",
    "import av\n",
    "from multiprocessing import Pool\n",
    "import functools\n",
    "plt.rcParams['animation.ffmpeg_path']='/home/jma819/.conda/envs/caiman/bin/ffmpeg'\n",
    "warnings.filterwarnings(action='once')"
   ]
  },
  {
   "cell_type": "code",
   "execution_count": 2,
   "metadata": {
    "collapsed": false,
    "scrolled": true
   },
   "outputs": [
    {
     "name": "stderr",
     "output_type": "stream",
     "text": [
      "/home/jma819/.conda/envs/caiman/lib/python3.6/site-packages/jupyter_client/jsonutil.py:67: DeprecationWarning: Interpreting naive datetime as local 2021-03-02 18:10:02.056706. Please add timezone info to timestamps.\n",
      "  new_obj[k] = extract_dates(v)\n"
     ]
    },
    {
     "data": {
      "text/plain": [
       "<module 'dlc_utils' from '/home/jma819/post_cmfe_analysis/dlc_utils.py'>"
      ]
     },
     "execution_count": 2,
     "metadata": {},
     "output_type": "execute_result"
    }
   ],
   "source": [
    "reload(utils_jjm)\n",
    "reload(dlc_utils)"
   ]
  },
  {
   "cell_type": "code",
   "execution_count": 3,
   "metadata": {
    "collapsed": false
   },
   "outputs": [
    {
     "name": "stderr",
     "output_type": "stream",
     "text": [
      "/home/jma819/.conda/envs/caiman/lib/python3.6/site-packages/jupyter_client/jsonutil.py:67: DeprecationWarning: Interpreting naive datetime as local 2021-03-02 18:10:02.062983. Please add timezone info to timestamps.\n",
      "  new_obj[k] = extract_dates(v)\n"
     ]
    }
   ],
   "source": [
    "#cnmfe_file_key = pd.read_csv('/Volumes/My_Passport/dlc_analysis/behavcamvideos/open_field_miniscope/cnmfe_key.csv')\n",
    "cnmfe_file_key = pd.read_csv('/projects/p30771/dlc_analysis/openfield_dlc_output/cnmfe_key.csv')"
   ]
  },
  {
   "cell_type": "code",
   "execution_count": 4,
   "metadata": {
    "collapsed": false
   },
   "outputs": [
    {
     "name": "stderr",
     "output_type": "stream",
     "text": [
      "/home/jma819/.conda/envs/caiman/lib/python3.6/site-packages/jupyter_client/jsonutil.py:67: DeprecationWarning: Interpreting naive datetime as local 2021-03-02 18:10:02.068434. Please add timezone info to timestamps.\n",
      "  new_obj[k] = extract_dates(v)\n"
     ]
    }
   ],
   "source": [
    "#cnmfe_base_dir = '/Volumes/My_Passport/cnmfe_analysis_files/batch_output_files/'\n",
    "cnmfe_base_dir = '/projects/p30771/MATLAB/CNMF_E_jjm/quest_MATLAB_cnmfe/batch_output_files/'\n",
    "# '27-Feb_17_33_59_out.mat' '28-Feb_16_21_21_out.mat' '25-Mar_14_22_02_out.mat', '25-Mar_14_22_44_out.mat', '26-Mar_18_33_55_out.mat', '27-Mar_00_26_12_out.mat', '27-Mar_00_48_46_out.mat' throwing error\n",
    "wt_CNMFE_files = ['29-Jan_12_35_06_out.mat','30-Mar_20_39_05_out.mat', '30-Mar_20_45_16_out.mat', '22-Mar_22_52_02_out.mat',\n",
    "                 '28-Feb_16_10_05_out.mat', '27-Feb_17_32_15_out.mat', '25-Mar_13_27_27_out.mat',\n",
    "                 '27-Feb_17_33_59_out.mat', '28-Feb_16_21_21_out.mat', '25-Mar_14_22_02_out.mat', '25-Mar_14_22_44_out.mat', \n",
    "                  '26-Mar_18_33_55_out.mat', '27-Mar_00_26_12_out.mat', '27-Mar_00_48_46_out.mat']\n",
    "\n",
    "ko_CNMFE_files = ['30-Jan_16_54_31_out.mat','30-Jan_14_00_19_out.mat','31-Jan_01_43_49_out.mat','31-Jan_00_12_24_out.mat','31-Mar_13_28_15_out.mat', '29-Mar_21_42_20_out.mat', '13-Apr_17_57_40_out.mat', '29-Mar_14_27_55_out.mat', '13-Apr_16_01_20_out.mat',\n",
    "                 '13-Apr_16_11_27_out.mat', '29-Mar_13_39_44_out.mat']"
   ]
  },
  {
   "cell_type": "code",
   "execution_count": 5,
   "metadata": {
    "collapsed": false
   },
   "outputs": [
    {
     "name": "stderr",
     "output_type": "stream",
     "text": [
      "/home/jma819/.conda/envs/caiman/lib/python3.6/site-packages/jupyter_client/jsonutil.py:67: DeprecationWarning: Interpreting naive datetime as local 2021-03-02 18:10:02.074661. Please add timezone info to timestamps.\n",
      "  new_obj[k] = extract_dates(v)\n"
     ]
    }
   ],
   "source": [
    "#tracking_files = ['/Volumes/My_Passport/dlc_analysis/behavcamvideos/open_field_miniscope/'+utils_jjm.find_behavior_tracking(fname, cnmfe_file_key) for fname in wt_CNMFE_files] \n",
    "tracking_files = ['/projects/b1118/behaviorvideos/'+utils_jjm.find_behavior_tracking(fname, cnmfe_file_key, 'unsmoothed_02212021') for fname in ko_CNMFE_files] "
   ]
  },
  {
   "cell_type": "code",
   "execution_count": 6,
   "metadata": {
    "collapsed": false
   },
   "outputs": [
    {
     "name": "stderr",
     "output_type": "stream",
     "text": [
      "/home/jma819/.conda/envs/caiman/lib/python3.6/site-packages/jupyter_client/jsonutil.py:67: DeprecationWarning: Interpreting naive datetime as local 2021-03-02 18:10:02.081480. Please add timezone info to timestamps.\n",
      "  new_obj[k] = extract_dates(v)\n"
     ]
    }
   ],
   "source": [
    "CNMFE_dir_paths_list = [str(cnmfe_base_dir+fname) for fname in ko_CNMFE_files]\n",
    "#CNMFE_dir_paths_list"
   ]
  },
  {
   "cell_type": "code",
   "execution_count": 7,
   "metadata": {
    "collapsed": false,
    "scrolled": true
   },
   "outputs": [
    {
     "name": "stderr",
     "output_type": "stream",
     "text": [
      "/home/jma819/.conda/envs/caiman/lib/python3.6/site-packages/jupyter_client/jsonutil.py:67: DeprecationWarning: Interpreting naive datetime as local 2021-03-02 18:10:02.088428. Please add timezone info to timestamps.\n",
      "  new_obj[k] = extract_dates(v)\n"
     ]
    },
    {
     "data": {
      "text/plain": [
       "11"
      ]
     },
     "execution_count": 7,
     "metadata": {},
     "output_type": "execute_result"
    }
   ],
   "source": [
    "len(CNMFE_dir_paths_list)"
   ]
  },
  {
   "cell_type": "code",
   "execution_count": 8,
   "metadata": {
    "collapsed": false,
    "scrolled": false
   },
   "outputs": [
    {
     "name": "stderr",
     "output_type": "stream",
     "text": [
      "/home/jma819/.conda/envs/caiman/lib/python3.6/site-packages/jupyter_client/jsonutil.py:67: DeprecationWarning: Interpreting naive datetime as local 2021-03-02 18:10:02.093459. Please add timezone info to timestamps.\n",
      "  new_obj[k] = extract_dates(v)\n"
     ]
    },
    {
     "data": {
      "text/plain": [
       "['/projects/p30771/MATLAB/CNMF_E_jjm/quest_MATLAB_cnmfe/batch_output_files/30-Jan_16_54_31_out.mat',\n",
       " '/projects/p30771/MATLAB/CNMF_E_jjm/quest_MATLAB_cnmfe/batch_output_files/30-Jan_14_00_19_out.mat',\n",
       " '/projects/p30771/MATLAB/CNMF_E_jjm/quest_MATLAB_cnmfe/batch_output_files/31-Jan_01_43_49_out.mat',\n",
       " '/projects/p30771/MATLAB/CNMF_E_jjm/quest_MATLAB_cnmfe/batch_output_files/31-Jan_00_12_24_out.mat',\n",
       " '/projects/p30771/MATLAB/CNMF_E_jjm/quest_MATLAB_cnmfe/batch_output_files/31-Mar_13_28_15_out.mat',\n",
       " '/projects/p30771/MATLAB/CNMF_E_jjm/quest_MATLAB_cnmfe/batch_output_files/29-Mar_21_42_20_out.mat',\n",
       " '/projects/p30771/MATLAB/CNMF_E_jjm/quest_MATLAB_cnmfe/batch_output_files/13-Apr_17_57_40_out.mat',\n",
       " '/projects/p30771/MATLAB/CNMF_E_jjm/quest_MATLAB_cnmfe/batch_output_files/29-Mar_14_27_55_out.mat',\n",
       " '/projects/p30771/MATLAB/CNMF_E_jjm/quest_MATLAB_cnmfe/batch_output_files/13-Apr_16_01_20_out.mat',\n",
       " '/projects/p30771/MATLAB/CNMF_E_jjm/quest_MATLAB_cnmfe/batch_output_files/13-Apr_16_11_27_out.mat',\n",
       " '/projects/p30771/MATLAB/CNMF_E_jjm/quest_MATLAB_cnmfe/batch_output_files/29-Mar_13_39_44_out.mat']"
      ]
     },
     "execution_count": 8,
     "metadata": {},
     "output_type": "execute_result"
    }
   ],
   "source": [
    "CNMFE_dir_paths_list"
   ]
  },
  {
   "cell_type": "code",
   "execution_count": 9,
   "metadata": {
    "collapsed": false,
    "scrolled": true
   },
   "outputs": [
    {
     "name": "stderr",
     "output_type": "stream",
     "text": [
      "/home/jma819/.conda/envs/caiman/lib/python3.6/site-packages/jupyter_client/jsonutil.py:67: DeprecationWarning: Interpreting naive datetime as local 2021-03-02 18:10:02.100699. Please add timezone info to timestamps.\n",
      "  new_obj[k] = extract_dates(v)\n"
     ]
    },
    {
     "data": {
      "text/plain": [
       "['/projects/b1118/behaviorvideos/GRIN038_H15_M39_S40/GRIN038_H15_M39_S40_dlc_tracking_foranalysis_unsmoothed_02212021.csv',\n",
       " '/projects/b1118/behaviorvideos/GRIN038_H11_M57_S0/GRIN038_H11_M57_S0_dlc_tracking_foranalysis_unsmoothed_02212021.csv',\n",
       " '/projects/b1118/behaviorvideos/GRIN038_H13_M37_S23/GRIN038_H13_M37_S23_dlc_tracking_foranalysis_unsmoothed_02212021.csv',\n",
       " '/projects/b1118/behaviorvideos/GRIN041_H12_M54_S49/GRIN041_H12_M54_S49_dlc_tracking_foranalysis_unsmoothed_02212021.csv',\n",
       " '/projects/b1118/behaviorvideos/GRIN009_H13_M59_S14/GRIN009_H13_M59_S14_dlc_tracking_foranalysis_unsmoothed_02212021.csv',\n",
       " '/projects/b1118/behaviorvideos/GRIN018_H17_M41_S43/GRIN018_H17_M41_S43_dlc_tracking_foranalysis_unsmoothed_02212021.csv',\n",
       " '/projects/b1118/behaviorvideos/GRIN018_H16_M13_S53/GRIN018_H16_M13_S53_dlc_tracking_foranalysis_unsmoothed_02212021.csv',\n",
       " '/projects/b1118/behaviorvideos/GRIN011_H10_M19_S59/GRIN011_H10_M19_S59_dlc_tracking_foranalysis_unsmoothed_02212021.csv',\n",
       " '/projects/b1118/behaviorvideos/GRIN012_H17_M46_S35/GRIN012_H17_M46_S35_dlc_tracking_foranalysis_unsmoothed_02212021.csv',\n",
       " '/projects/b1118/behaviorvideos/GRIN012_H17_M32_S17/GRIN012_H17_M32_S17_dlc_tracking_foranalysis_unsmoothed_02212021.csv',\n",
       " '/projects/b1118/behaviorvideos/GRIN012_H16_M57_S23/GRIN012_H16_M57_S23_dlc_tracking_foranalysis_unsmoothed_02212021.csv']"
      ]
     },
     "execution_count": 9,
     "metadata": {},
     "output_type": "execute_result"
    }
   ],
   "source": [
    "tracking_files"
   ]
  },
  {
   "cell_type": "code",
   "execution_count": 10,
   "metadata": {
    "collapsed": false,
    "scrolled": true
   },
   "outputs": [
    {
     "name": "stderr",
     "output_type": "stream",
     "text": [
      "/home/jma819/.conda/envs/caiman/lib/python3.6/site-packages/jupyter_client/jsonutil.py:67: DeprecationWarning: Interpreting naive datetime as local 2021-03-02 18:10:02.105993. Please add timezone info to timestamps.\n",
      "  new_obj[k] = extract_dates(v)\n"
     ]
    },
    {
     "data": {
      "text/plain": [
       "'GRIN039_H12_M26_S54'"
      ]
     },
     "execution_count": 10,
     "metadata": {},
     "output_type": "execute_result"
    }
   ],
   "source": [
    "CNMFE_file = '/projects/p30771/MATLAB/CNMF_E_jjm/quest_MATLAB_cnmfe/batch_output_files/29-Jan_12_35_06_out.mat'\n",
    "tracking_file = '/projects/b1118/behaviorvideos/GRIN039_H12_M26_S54/GRIN039_H12_M26_S54_dlc_tracking_foranalysis_unsmoothed_02212021.csv'\n",
    "cell_fluorescence = sio.loadmat(CNMFE_file)\n",
    "C_timedelta = utils_jjm.create_fluorescence_time_delta(cell_fluorescence['C'])\n",
    "C_normalized = C_timedelta.apply(utils_jjm.normalize).set_index(pd.to_timedelta(np.linspace(0, (len(C_timedelta)-1)*(1/20), len(C_timedelta)), unit='s'), drop=True)\n",
    "tracking_file.split('/')[-2]\n",
    "\n",
    "#C_normalized.to_hdf('/projects/b1118/miniscope/analysis/compiled_data/C_normalized/C_normalized_timedelta_wt.h5', key=tracking_file.split('/')[-2], mode='a')\n"
   ]
  },
  {
   "cell_type": "code",
   "execution_count": 11,
   "metadata": {
    "collapsed": false
   },
   "outputs": [
    {
     "name": "stderr",
     "output_type": "stream",
     "text": [
      "/home/jma819/.conda/envs/caiman/lib/python3.6/site-packages/jupyter_client/jsonutil.py:67: DeprecationWarning: Interpreting naive datetime as local 2021-03-02 18:10:02.112320. Please add timezone info to timestamps.\n",
      "  new_obj[k] = extract_dates(v)\n"
     ]
    }
   ],
   "source": [
    "#C_normalized.to_hdf('/projects/b1118/miniscope/analysis/compiled_data/C_normalized/C_normalized_timedelta_wt.h5', key=tracking_file.split('/')[-2], mode='a')"
   ]
  },
  {
   "cell_type": "code",
   "execution_count": 12,
   "metadata": {
    "collapsed": false
   },
   "outputs": [
    {
     "name": "stderr",
     "output_type": "stream",
     "text": [
      "/home/jma819/.conda/envs/caiman/lib/python3.6/site-packages/jupyter_client/jsonutil.py:67: DeprecationWarning: Interpreting naive datetime as local 2021-03-02 18:10:02.118826. Please add timezone info to timestamps.\n",
      "  new_obj[k] = extract_dates(v)\n"
     ]
    },
    {
     "name": "stdout",
     "output_type": "stream",
     "text": [
      "/projects/p30771/MATLAB/CNMF_E_jjm/quest_MATLAB_cnmfe/batch_output_files/30-Jan_16_54_31_out.mat\n",
      "/projects/b1118/behaviorvideos/GRIN038_H15_M39_S40/GRIN038_H15_M39_S40_dlc_tracking_foranalysis_unsmoothed_02212021.csv\n",
      "/projects/p30771/MATLAB/CNMF_E_jjm/quest_MATLAB_cnmfe/batch_output_files/30-Jan_14_00_19_out.mat\n",
      "/projects/b1118/behaviorvideos/GRIN038_H11_M57_S0/GRIN038_H11_M57_S0_dlc_tracking_foranalysis_unsmoothed_02212021.csv\n",
      "/projects/p30771/MATLAB/CNMF_E_jjm/quest_MATLAB_cnmfe/batch_output_files/31-Jan_01_43_49_out.mat\n",
      "/projects/b1118/behaviorvideos/GRIN038_H13_M37_S23/GRIN038_H13_M37_S23_dlc_tracking_foranalysis_unsmoothed_02212021.csv\n",
      "/projects/p30771/MATLAB/CNMF_E_jjm/quest_MATLAB_cnmfe/batch_output_files/31-Jan_00_12_24_out.mat\n",
      "/projects/b1118/behaviorvideos/GRIN041_H12_M54_S49/GRIN041_H12_M54_S49_dlc_tracking_foranalysis_unsmoothed_02212021.csv\n",
      "/projects/p30771/MATLAB/CNMF_E_jjm/quest_MATLAB_cnmfe/batch_output_files/31-Mar_13_28_15_out.mat\n",
      "/projects/b1118/behaviorvideos/GRIN009_H13_M59_S14/GRIN009_H13_M59_S14_dlc_tracking_foranalysis_unsmoothed_02212021.csv\n",
      "/projects/p30771/MATLAB/CNMF_E_jjm/quest_MATLAB_cnmfe/batch_output_files/29-Mar_21_42_20_out.mat\n",
      "/projects/b1118/behaviorvideos/GRIN018_H17_M41_S43/GRIN018_H17_M41_S43_dlc_tracking_foranalysis_unsmoothed_02212021.csv\n",
      "/projects/p30771/MATLAB/CNMF_E_jjm/quest_MATLAB_cnmfe/batch_output_files/13-Apr_17_57_40_out.mat\n",
      "/projects/b1118/behaviorvideos/GRIN018_H16_M13_S53/GRIN018_H16_M13_S53_dlc_tracking_foranalysis_unsmoothed_02212021.csv\n",
      "/projects/p30771/MATLAB/CNMF_E_jjm/quest_MATLAB_cnmfe/batch_output_files/29-Mar_14_27_55_out.mat\n",
      "/projects/b1118/behaviorvideos/GRIN011_H10_M19_S59/GRIN011_H10_M19_S59_dlc_tracking_foranalysis_unsmoothed_02212021.csv\n",
      "/projects/p30771/MATLAB/CNMF_E_jjm/quest_MATLAB_cnmfe/batch_output_files/13-Apr_16_01_20_out.mat\n",
      "/projects/b1118/behaviorvideos/GRIN012_H17_M46_S35/GRIN012_H17_M46_S35_dlc_tracking_foranalysis_unsmoothed_02212021.csv\n",
      "/projects/p30771/MATLAB/CNMF_E_jjm/quest_MATLAB_cnmfe/batch_output_files/13-Apr_16_11_27_out.mat\n",
      "/projects/b1118/behaviorvideos/GRIN012_H17_M32_S17/GRIN012_H17_M32_S17_dlc_tracking_foranalysis_unsmoothed_02212021.csv\n",
      "/projects/p30771/MATLAB/CNMF_E_jjm/quest_MATLAB_cnmfe/batch_output_files/29-Mar_13_39_44_out.mat\n",
      "/projects/b1118/behaviorvideos/GRIN012_H16_M57_S23/GRIN012_H16_M57_S23_dlc_tracking_foranalysis_unsmoothed_02212021.csv\n"
     ]
    }
   ],
   "source": [
    "grouped_raw_data = {}\n",
    "success = []\n",
    "failed = []\n",
    "for CNMFE_file, tracking_file in zip(CNMFE_dir_paths_list, tracking_files):\n",
    "    print(CNMFE_file)\n",
    "    print(tracking_file)\n",
    "    try:\n",
    "        # load cell fluorescence \n",
    "        cell_fluorescence = sio.loadmat(CNMFE_file)\n",
    "        C_timedelta = utils_jjm.create_fluorescence_time_delta(cell_fluorescence['C'])\n",
    "        C_normalized = C_timedelta.apply(utils_jjm.normalize).set_index(pd.to_timedelta(np.linspace(0, (len(C_timedelta)-1)*(1/20), len(C_timedelta)), unit='s'), drop=True)\n",
    "        # create tracking time deltas\n",
    "        velocity_data = pd.read_csv(tracking_file)\n",
    "        velocity_data.drop(['Unnamed: 0', 'index'], axis=1, inplace=True)\n",
    "        velocity_data_td = velocity_data.set_index(pd.to_timedelta(np.linspace(velocity_data['sysClock'].iloc[0], \n",
    "               velocity_data['sysClock'].iloc[-1]/1000,\n",
    "               len(velocity_data)), unit='s'), drop=True) \n",
    "        #load spatial components by session\n",
    "        com_df, spatial_components = utils_jjm.return_spatial_info(CNMFE_file, 0.6)\n",
    "        cell_contours, for_dims = utils_jjm.create_contour_layouts(spatial_components)\n",
    "        \n",
    "        #store results \n",
    "        grouped_raw_data[tracking_file.split('/')[-2]] = {'C': C_timedelta, 'C_normalized': C_normalized, 'velocity_data' : velocity_data_td, \n",
    "                                                          'com' : com_df, 'spatial_components' : spatial_components, \n",
    "                                                          'cell_contours': cell_contours, 'for_dims' : for_dims}\n",
    "        success.append((tracking_file.split('/')[-2], CNMFE_file.split('/')[-1]))\n",
    "    except FileNotFoundError:\n",
    "        failed.append(tracking_file)\n",
    "    except OSError:\n",
    "        failed.append(tracking_file)"
   ]
  },
  {
   "cell_type": "markdown",
   "metadata": {},
   "source": [
    "## triggered averaging "
   ]
  },
  {
   "cell_type": "code",
   "execution_count": 13,
   "metadata": {
    "collapsed": false,
    "scrolled": true
   },
   "outputs": [
    {
     "name": "stderr",
     "output_type": "stream",
     "text": [
      "/home/jma819/.conda/envs/caiman/lib/python3.6/site-packages/jupyter_client/jsonutil.py:67: DeprecationWarning: Interpreting naive datetime as local 2021-03-02 18:10:02.125320. Please add timezone info to timestamps.\n",
      "  new_obj[k] = extract_dates(v)\n"
     ]
    },
    {
     "data": {
      "text/plain": [
       "[('GRIN038_H13_M37_S23', '31-Jan_01_43_49_out.mat'),\n",
       " ('GRIN041_H12_M54_S49', '31-Jan_00_12_24_out.mat'),\n",
       " ('GRIN009_H13_M59_S14', '31-Mar_13_28_15_out.mat'),\n",
       " ('GRIN018_H17_M41_S43', '29-Mar_21_42_20_out.mat'),\n",
       " ('GRIN018_H16_M13_S53', '13-Apr_17_57_40_out.mat'),\n",
       " ('GRIN011_H10_M19_S59', '29-Mar_14_27_55_out.mat'),\n",
       " ('GRIN012_H17_M46_S35', '13-Apr_16_01_20_out.mat'),\n",
       " ('GRIN012_H17_M32_S17', '13-Apr_16_11_27_out.mat'),\n",
       " ('GRIN012_H16_M57_S23', '29-Mar_13_39_44_out.mat')]"
      ]
     },
     "execution_count": 13,
     "metadata": {},
     "output_type": "execute_result"
    }
   ],
   "source": [
    "success"
   ]
  },
  {
   "cell_type": "code",
   "execution_count": 14,
   "metadata": {
    "collapsed": false,
    "scrolled": true
   },
   "outputs": [
    {
     "name": "stderr",
     "output_type": "stream",
     "text": [
      "/home/jma819/.conda/envs/caiman/lib/python3.6/site-packages/jupyter_client/jsonutil.py:67: DeprecationWarning: Interpreting naive datetime as local 2021-03-02 18:10:02.130857. Please add timezone info to timestamps.\n",
      "  new_obj[k] = extract_dates(v)\n"
     ]
    }
   ],
   "source": [
    "## combine dfs for each session to bin velocity values across dfs\n",
    "#downsample\n",
    "new_sampling_interval = .2\n",
    "V_df = pd.concat([grouped_raw_data[session]['velocity_data'].resample(str(new_sampling_interval)+'S').max() \n",
    "                  for session in list(grouped_raw_data.keys())], keys=list(grouped_raw_data.keys()))\n",
    "all_sessions_v_bins = pd.cut(V_df['tail_base'], bins=50)\n",
    "\n",
    "V_df['velocity_bins'] = all_sessions_v_bins"
   ]
  },
  {
   "cell_type": "code",
   "execution_count": 15,
   "metadata": {
    "collapsed": false,
    "scrolled": true
   },
   "outputs": [
    {
     "name": "stderr",
     "output_type": "stream",
     "text": [
      "/home/jma819/.conda/envs/caiman/lib/python3.6/site-packages/jupyter_client/jsonutil.py:67: DeprecationWarning: Interpreting naive datetime as local 2021-03-02 18:10:02.136502. Please add timezone info to timestamps.\n",
      "  new_obj[k] = extract_dates(v)\n"
     ]
    }
   ],
   "source": [
    "filtered_for_analysis = {}\n",
    "for session in list(grouped_raw_data.keys()):\n",
    "    # get indicies of small cells \n",
    "    cells_to_drop = np.array([int(cell) for cell in range(1, len(grouped_raw_data[session]['cell_contours'])+1) if \n",
    "                              len(np.array(np.where(grouped_raw_data[session]['for_dims'][cell]>0.6)[0]))<100])\n",
    "    C_traces_filtered = grouped_raw_data[session]['C_normalized'].drop(cells_to_drop, axis=1)\n",
    "    filtered_for_analysis[session] = C_traces_filtered.drop('msCamFrame', axis=1)\n",
    "# sets sampling interval to 5Hz \n",
    "C_norm_df = pd.concat([filtered_for_analysis[session].resample(str(new_sampling_interval)+'S').max()\n",
    "                  for session in list(filtered_for_analysis.keys())], axis=1, keys=list(filtered_for_analysis.keys()))\n",
    "# after downsampling convert back to regular index\n",
    "C_norm_df_reindexed = pd.concat([C_norm_df[session].reset_index(drop=True)\n",
    "                  for session in list(set(C_norm_df.columns.get_level_values(0)))], axis=1, keys=list(set(C_norm_df.columns.get_level_values(0))))"
   ]
  },
  {
   "cell_type": "code",
   "execution_count": 16,
   "metadata": {
    "collapsed": false,
    "scrolled": true
   },
   "outputs": [
    {
     "name": "stderr",
     "output_type": "stream",
     "text": [
      "/home/jma819/.conda/envs/caiman/lib/python3.6/site-packages/jupyter_client/jsonutil.py:67: DeprecationWarning: Interpreting naive datetime as local 2021-03-02 18:10:02.143205. Please add timezone info to timestamps.\n",
      "  new_obj[k] = extract_dates(v)\n",
      "/home/jma819/post_cmfe_analysis/dlc_utils.py:207: RuntimeWarning: invalid value encountered in less\n",
      "  if not(any(df_column.values[point+1:point+active_time_threshold] < activity_threshold)):\n"
     ]
    }
   ],
   "source": [
    "#bin by activity threshold, using original samples here\n",
    "#inputs: (body_part, resting_time_threshold, active_time_threshold, crossing_threshold, resting_threshold, activity_threshold)\n",
    "binned_velocity_df = pd.DataFrame([dlc_utils.bin_by_activity_threshold_2(grouped_raw_data[session]['velocity_data']['tail_base'], 10, 10, 2, 5, 1)\n",
    "                                for session in list(grouped_raw_data.keys())], index=list(grouped_raw_data.keys()))\n",
    "binned_velocity_df = binned_velocity_df.transpose()"
   ]
  },
  {
   "cell_type": "code",
   "execution_count": 17,
   "metadata": {
    "collapsed": false,
    "scrolled": true
   },
   "outputs": [
    {
     "name": "stderr",
     "output_type": "stream",
     "text": [
      "/home/jma819/.conda/envs/caiman/lib/python3.6/site-packages/jupyter_client/jsonutil.py:67: DeprecationWarning: Interpreting naive datetime as local 2021-03-02 18:10:02.150291. Please add timezone info to timestamps.\n",
      "  new_obj[k] = extract_dates(v)\n",
      "/home/jma819/.conda/envs/caiman/lib/python3.6/site-packages/ipykernel_launcher.py:3: RuntimeWarning: invalid value encountered in less_equal\n",
      "  This is separate from the ipykernel package so we can avoid doing imports until\n"
     ]
    },
    {
     "data": {
      "image/png": "[encoded data removed]",
      "text/plain": [
       "<Figure size 432x288 with 1 Axes>"
      ]
     },
     "metadata": {
      "needs_background": "light"
     },
     "output_type": "display_data"
    }
   ],
   "source": [
    "#show examples of \"resting periods\" for subset of trace \n",
    "velocity_trace = grouped_raw_data[session]['velocity_data']['tail_base'].values[0:200]\n",
    "resting_samples = velocity_trace<=1\n",
    "resting_boundaries = dlc_utils.get_resting_period_boundaries(resting_samples)\n",
    "\n",
    "#plot resting periods\n",
    "fig, ax = plt.subplots(1)\n",
    "ax.plot(np.linspace(0, len(velocity_trace), len(velocity_trace)) , velocity_trace)\n",
    "for bound in resting_boundaries:\n",
    "    ax.axvline(x=bound[0], linestyle='--', color='g')\n",
    "for bound in resting_boundaries:\n",
    "    ax.axvline(x=bound[1], linestyle='--', color='r')\n",
    "plt.show()\n"
   ]
  },
  {
   "cell_type": "code",
   "execution_count": 18,
   "metadata": {
    "collapsed": false
   },
   "outputs": [
    {
     "name": "stderr",
     "output_type": "stream",
     "text": [
      "/home/jma819/.conda/envs/caiman/lib/python3.6/site-packages/jupyter_client/jsonutil.py:67: DeprecationWarning: Interpreting naive datetime as local 2021-03-02 18:10:02.155338. Please add timezone info to timestamps.\n",
      "  new_obj[k] = extract_dates(v)\n",
      "/home/jma819/.conda/envs/caiman/lib/python3.6/site-packages/ipykernel_launcher.py:3: RuntimeWarning: invalid value encountered in less_equal\n",
      "  This is separate from the ipykernel package so we can avoid doing imports until\n"
     ]
    }
   ],
   "source": [
    "# get resting periods for all sessions, here threshold is 1\n",
    "resting_boundaries_by_session = {session:dlc_utils.get_resting_period_boundaries(grouped_raw_data[session]['velocity_data']['tail_base'].values<=1) for\n",
    "                                session in list(grouped_raw_data.keys())}"
   ]
  },
  {
   "cell_type": "code",
   "execution_count": 19,
   "metadata": {
    "collapsed": false
   },
   "outputs": [
    {
     "name": "stderr",
     "output_type": "stream",
     "text": [
      "/home/jma819/.conda/envs/caiman/lib/python3.6/site-packages/jupyter_client/jsonutil.py:67: DeprecationWarning: Interpreting naive datetime as local 2021-03-02 18:10:02.161899. Please add timezone info to timestamps.\n",
      "  new_obj[k] = extract_dates(v)\n"
     ]
    }
   ],
   "source": [
    "##get threshold crossing indicies from binned velocity df\n",
    "crossing_indicies_from_velocity_df = {}\n",
    "for session in list(grouped_raw_data.keys()):\n",
    "    # gets indicies where animal crosses a velocity threshold\n",
    "    # these indicies are from resampled df, need to find aligned section in resampled df \n",
    "    crossing_indicies = [sample for sample in utils_jjm.select_trigger_regions(binned_velocity_df[session], 0.5, 0.5, 20) if sample<len(grouped_raw_data[session]['C_normalized'])]\n",
    "    # exclude regions with large nan contributions\n",
    "    nan_values_to_exclude = [crossing_idx for crossing_idx in crossing_indicies if grouped_raw_data[session]['velocity_data'].iloc[crossing_idx:crossing_idx+10]['tail_base'].isna().sum()>1]        \n",
    "    crossing_indicies_from_velocity_df[session] = [idx for idx in crossing_indicies if idx not in nan_values_to_exclude]\n",
    "#get movement offset points\n",
    "movement_offset_points_bysession = {session : dlc_utils.get_movement_offset_points(crossing_indicies_from_velocity_df[session], 1, grouped_raw_data[session]['velocity_data']['tail_base'])\n",
    "                                                                        for session in crossing_indicies_from_velocity_df.keys()}"
   ]
  },
  {
   "cell_type": "code",
   "execution_count": 20,
   "metadata": {
    "collapsed": false
   },
   "outputs": [
    {
     "name": "stderr",
     "output_type": "stream",
     "text": [
      "/home/jma819/.conda/envs/caiman/lib/python3.6/site-packages/jupyter_client/jsonutil.py:67: DeprecationWarning: Interpreting naive datetime as local 2021-03-02 18:10:02.167902. Please add timezone info to timestamps.\n",
      "  new_obj[k] = extract_dates(v)\n"
     ]
    }
   ],
   "source": [
    "#with bounds of movement region pull out these regions \n",
    "moving_periods_by_session = {}\n",
    "for session in crossing_indicies_from_velocity_df.keys():\n",
    "    moving_indicies = [(crossing_indicies_from_velocity_df[session][start_idx], movement_offset_points_bysession[session][end_idx]) for start_idx, \n",
    "                   end_idx in zip(range(len(crossing_indicies_from_velocity_df[session])), range(len(movement_offset_points_bysession[session]))) if\n",
    "                  crossing_indicies_from_velocity_df[session][start_idx]>movement_offset_points_bysession[session][end_idx-1] or start_idx==0]\n",
    "    moving_periods_in_session = pd.DataFrame({k:v for k,v in zip([(start_idx, end_idx) for start_idx, end_idx in zip(crossing_indicies_from_velocity_df[session], movement_offset_points_bysession[session])], \n",
    "                                                             [grouped_raw_data[session]['velocity_data']['tail_base'].iloc[moving_indicies[period][0]:moving_indicies[period][1]].reset_index(drop=True)\n",
    "                             for period in range(len(moving_indicies))])})\n",
    "    moving_periods_by_session[session]=moving_periods_in_session"
   ]
  },
  {
   "cell_type": "code",
   "execution_count": 21,
   "metadata": {
    "collapsed": false,
    "scrolled": true
   },
   "outputs": [
    {
     "name": "stdout",
     "output_type": "stream",
     "text": [
      "session: GRIN012_H16_M57_S23\n",
      "threshold crossing indicies (from velocity data): [2331, 2976, 3276, 6101, 6133, 7144, 8184, 10038, 10175, 10256, 10902, 10954, 11551, 11723, 11854, 13758, 13974]\n",
      "cell indicies: [1, 2, 3, 4, 5, 6, 7, 8, 9, 10, 11, 12, 13, 14, 15, 16, 17, 18, 19, 20, 21, 22, 23, 24, 25, 26, 27, 28, 29, 30, 31, 32, 33, 34, 35, 36, 37, 38, 39, 40, 41, 42, 43, 44, 45, 46, 47, 48, 49, 50, 51, 52, 53, 54, 55, 56, 57, 59, 61, 62, 63, 64, 65, 66, 67, 68, 69, 70, 71, 72, 73, 74, 75, 76, 77, 79, 80, 81, 82, 83, 84, 85, 86, 87, 88]\n"
     ]
    },
    {
     "name": "stderr",
     "output_type": "stream",
     "text": [
      "/home/jma819/.conda/envs/caiman/lib/python3.6/site-packages/jupyter_client/jsonutil.py:67: DeprecationWarning: Interpreting naive datetime as local 2021-03-02 18:10:02.177509. Please add timezone info to timestamps.\n",
      "  new_obj[k] = extract_dates(v)\n"
     ]
    }
   ],
   "source": [
    "session = session\n",
    "#session_df = z_scored_regions_by_session[session]\n",
    "sample_crossing_indicies = crossing_indicies_from_velocity_df[session]\n",
    "print('session:', session)\n",
    "print('threshold crossing indicies (from velocity data):' , sample_crossing_indicies)\n",
    "print('cell indicies:' , list(set(C_norm_df[session].columns)))\n"
   ]
  },
  {
   "cell_type": "code",
   "execution_count": 22,
   "metadata": {
    "collapsed": false,
    "scrolled": true
   },
   "outputs": [
    {
     "name": "stderr",
     "output_type": "stream",
     "text": [
      "/home/jma819/.conda/envs/caiman/lib/python3.6/site-packages/jupyter_client/jsonutil.py:67: DeprecationWarning: Interpreting naive datetime as local 2021-03-02 18:10:02.183114. Please add timezone info to timestamps.\n",
      "  new_obj[k] = extract_dates(v)\n"
     ]
    },
    {
     "name": "stdout",
     "output_type": "stream",
     "text": [
      "sample crossing index:  2976\n",
      "event occurs at  4468.0  total frames\n",
      "behavCam  5  at  468.0  frames\n"
     ]
    }
   ],
   "source": [
    "idx = 1\n",
    "index = sample_crossing_indicies[idx]\n",
    "print('sample crossing index: ', index)\n",
    "frame_threshold_crossing = grouped_raw_data[session]['velocity_data'].iloc[index]['behavCam_frames']\n",
    "behavCam_video = int(frame_threshold_crossing/1000)+1\n",
    "frames_within_video =frame_threshold_crossing%1000\n",
    "print('event occurs at ', frame_threshold_crossing, ' total frames')\n",
    "print('behavCam ', behavCam_video, ' at ', frames_within_video, ' frames')"
   ]
  },
  {
   "cell_type": "code",
   "execution_count": 23,
   "metadata": {
    "collapsed": false,
    "scrolled": true
   },
   "outputs": [
    {
     "name": "stderr",
     "output_type": "stream",
     "text": [
      "/home/jma819/.conda/envs/caiman/lib/python3.6/site-packages/jupyter_client/jsonutil.py:67: DeprecationWarning: Interpreting naive datetime as local 2021-03-02 18:10:02.188520. Please add timezone info to timestamps.\n",
      "  new_obj[k] = extract_dates(v)\n"
     ]
    }
   ],
   "source": [
    "#ani"
   ]
  },
  {
   "cell_type": "code",
   "execution_count": 24,
   "metadata": {
    "collapsed": false,
    "scrolled": true
   },
   "outputs": [
    {
     "name": "stderr",
     "output_type": "stream",
     "text": [
      "/home/jma819/.conda/envs/caiman/lib/python3.6/site-packages/jupyter_client/jsonutil.py:67: DeprecationWarning: Interpreting naive datetime as local 2021-03-02 18:10:02.193366. Please add timezone info to timestamps.\n",
      "  new_obj[k] = extract_dates(v)\n",
      "100%|██████████| 35/35 [00:21<00:00,  1.64it/s]\n",
      "100%|██████████| 35/35 [00:20<00:00,  1.65it/s]\n",
      "100%|██████████| 20/20 [00:12<00:00,  1.61it/s]\n",
      "100%|██████████| 35/35 [00:21<00:00,  1.65it/s]\n",
      "100%|██████████| 33/33 [00:19<00:00,  1.66it/s]\n",
      "100%|██████████| 18/18 [00:10<00:00,  1.64it/s]\n",
      "100%|██████████| 18/18 [00:10<00:00,  1.66it/s]\n",
      "100%|██████████| 18/18 [00:10<00:00,  1.66it/s]\n",
      "100%|██████████| 30/30 [00:18<00:00,  1.66it/s]\n",
      "100%|██████████| 44/44 [00:26<00:00,  1.65it/s]\n",
      "100%|██████████| 44/44 [00:26<00:00,  1.64it/s]\n",
      "100%|██████████| 3/3 [00:01<00:00,  1.65it/s]\n",
      "100%|██████████| 93/93 [00:52<00:00,  1.98it/s]\n",
      "100%|██████████| 93/93 [00:45<00:00,  2.06it/s]\n",
      "100%|██████████| 50/50 [00:24<00:00,  2.05it/s]\n",
      "100%|██████████| 11/11 [00:05<00:00,  2.01it/s]\n",
      "100%|██████████| 11/11 [00:05<00:00,  2.06it/s]\n",
      "100%|██████████| 39/39 [00:18<00:00,  2.05it/s]\n",
      "100%|██████████| 21/21 [00:10<00:00,  2.07it/s]\n",
      "100%|██████████| 21/21 [00:10<00:00,  2.05it/s]\n",
      "100%|██████████| 13/13 [00:05<00:00,  2.19it/s]\n",
      "100%|██████████| 54/54 [00:24<00:00,  2.20it/s]\n",
      "100%|██████████| 54/54 [00:26<00:00,  1.99it/s]\n",
      "100%|██████████| 23/23 [00:11<00:00,  1.96it/s]\n",
      "100%|██████████| 17/17 [00:09<00:00,  1.63it/s]\n",
      "100%|██████████| 17/17 [00:09<00:00,  1.87it/s]\n",
      "100%|██████████| 29/29 [00:14<00:00,  1.78it/s]\n"
     ]
    }
   ],
   "source": [
    "periods_by_session = {session:utils_jjm.return_movement_and_rest_for_session(moving_periods_by_session, resting_boundaries_by_session, grouped_raw_data, C_norm_df, 90, session)\n",
    " for session in list(moving_periods_by_session.keys())}"
   ]
  },
  {
   "cell_type": "code",
   "execution_count": 25,
   "metadata": {
    "collapsed": false
   },
   "outputs": [
    {
     "name": "stderr",
     "output_type": "stream",
     "text": [
      "/home/jma819/.conda/envs/caiman/lib/python3.6/site-packages/jupyter_client/jsonutil.py:67: DeprecationWarning: Interpreting naive datetime as local 2021-03-02 18:21:02.785655. Please add timezone info to timestamps.\n",
      "  new_obj[k] = extract_dates(v)\n",
      "/home/jma819/post_cmfe_analysis/python_utils_jjm.py:35: RuntimeWarning: invalid value encountered in greater\n",
      "  for cell in list(baseline_regions.columns)}, index=['event probability'])\n"
     ]
    }
   ],
   "source": [
    "# loop over sessions to calculate event probabilities\n",
    "for session in list(periods_by_session.keys()):\n",
    "    by_session = utils_jjm.z_score_movement_by_rest(periods_by_session[session])\n",
    "    event_p_movement, event_p_rest = utils_jjm.calculate_event_probability(by_session['z_scored_rest_regions'], by_session['z_scored_movement_regions'], 2)"
   ]
  },
  {
   "cell_type": "code",
   "execution_count": 26,
   "metadata": {
    "collapsed": false
   },
   "outputs": [
    {
     "name": "stderr",
     "output_type": "stream",
     "text": [
      "/home/jma819/.conda/envs/caiman/lib/python3.6/site-packages/jupyter_client/jsonutil.py:67: DeprecationWarning: Interpreting naive datetime as local 2021-03-02 18:21:38.129655. Please add timezone info to timestamps.\n",
      "  new_obj[k] = extract_dates(v)\n"
     ]
    }
   ],
   "source": [
    "##iterate over sessions to find event probabilities"
   ]
  },
  {
   "cell_type": "code",
   "execution_count": 27,
   "metadata": {
    "collapsed": false,
    "scrolled": true
   },
   "outputs": [
    {
     "name": "stderr",
     "output_type": "stream",
     "text": [
      "/home/jma819/.conda/envs/caiman/lib/python3.6/site-packages/jupyter_client/jsonutil.py:67: DeprecationWarning: Interpreting naive datetime as local 2021-03-02 18:21:38.793572. Please add timezone info to timestamps.\n",
      "  new_obj[k] = extract_dates(v)\n"
     ]
    }
   ],
   "source": [
    "z_scored_events_by_session = {session:utils_jjm.z_score_movement_by_rest(periods_by_session[session]) for session in list(periods_by_session.keys())}"
   ]
  },
  {
   "cell_type": "code",
   "execution_count": 28,
   "metadata": {
    "collapsed": false
   },
   "outputs": [
    {
     "name": "stderr",
     "output_type": "stream",
     "text": [
      "/home/jma819/.conda/envs/caiman/lib/python3.6/site-packages/jupyter_client/jsonutil.py:67: DeprecationWarning: Interpreting naive datetime as local 2021-03-02 18:22:53.779107. Please add timezone info to timestamps.\n",
      "  new_obj[k] = extract_dates(v)\n"
     ]
    },
    {
     "data": {
      "text/plain": [
       "dict_keys(['GRIN038_H13_M37_S23', 'GRIN041_H12_M54_S49', 'GRIN009_H13_M59_S14', 'GRIN018_H17_M41_S43', 'GRIN018_H16_M13_S53', 'GRIN011_H10_M19_S59', 'GRIN012_H17_M46_S35', 'GRIN012_H17_M32_S17', 'GRIN012_H16_M57_S23'])"
      ]
     },
     "execution_count": 28,
     "metadata": {},
     "output_type": "execute_result"
    }
   ],
   "source": [
    "z_scored_events_by_session.keys()"
   ]
  },
  {
   "cell_type": "code",
   "execution_count": 29,
   "metadata": {
    "collapsed": false,
    "scrolled": false
   },
   "outputs": [
    {
     "name": "stderr",
     "output_type": "stream",
     "text": [
      "/home/jma819/.conda/envs/caiman/lib/python3.6/site-packages/jupyter_client/jsonutil.py:67: DeprecationWarning: Interpreting naive datetime as local 2021-03-02 18:22:54.490570. Please add timezone info to timestamps.\n",
      "  new_obj[k] = extract_dates(v)\n"
     ]
    }
   ],
   "source": [
    "# use V_df, resampled df to same interval as c_df, get max velocity bin during movement regions and group events that way \n",
    "event_p_by_session = {}\n",
    "for session in z_scored_events_by_session.keys():\n",
    "    by_session=z_scored_events_by_session[session]\n",
    "    max_v_bins_in_session = {}\n",
    "    for event in range(len(by_session['z_scored_movement_regions'].index.levels[0])):\n",
    "    #find maximum velocity bin for each movement region\n",
    "        max_v_bins_in_session[by_session['z_scored_movement_regions'].index.levels[0][event]]=V_df.loc[session].loc[by_session['z_scored_movement_regions'].index.levels[0][event]:by_session['z_scored_movement_regions'].index.levels[1][event]]['velocity_bins'].max()\n",
    "    # determine the distribution of unique velocity bins in a session\n",
    "    unique_max_v_bins_in_session = list(set(max_v_bins_in_session.values()))\n",
    "    # group events by max v bin \n",
    "    sorted_by_v_bin = {}\n",
    "    for v_bin in unique_max_v_bins_in_session:\n",
    "        events_with_v_bin = []\n",
    "        for event in list(max_v_bins_in_session.keys()):\n",
    "            if max_v_bins_in_session[event]==v_bin:\n",
    "                  events_with_v_bin.append(event)\n",
    "        sorted_by_v_bin[v_bin.left]=events_with_v_bin\n",
    "    event_p_by_vbin = {}\n",
    "    for v_bin in list(sorted_by_v_bin.keys()):\n",
    "        event_p_by_vbin[v_bin] = utils_jjm.calculate_event_probability(by_session['z_scored_rest_regions'], by_session['z_scored_movement_regions'].loc[sorted_by_v_bin[v_bin]], 2)[0]\n",
    "        event_p_by_vbin['rest'] = utils_jjm.calculate_event_probability(by_session['z_scored_rest_regions'], by_session['z_scored_movement_regions'].loc[sorted_by_v_bin[v_bin]], 2)[1]\n",
    "\n",
    "    event_p_by_session[session]=pd.concat(event_p_by_vbin, keys=list(event_p_by_vbin.keys()))\n",
    "   \n",
    "    "
   ]
  },
  {
   "cell_type": "code",
   "execution_count": 30,
   "metadata": {
    "collapsed": false
   },
   "outputs": [
    {
     "name": "stderr",
     "output_type": "stream",
     "text": [
      "/home/jma819/.conda/envs/caiman/lib/python3.6/site-packages/jupyter_client/jsonutil.py:67: DeprecationWarning: Interpreting naive datetime as local 2021-03-02 18:23:01.444255. Please add timezone info to timestamps.\n",
      "  new_obj[k] = extract_dates(v)\n"
     ]
    }
   ],
   "source": [
    "event_p_by_session_df = pd.concat(list(event_p_by_session.values()), keys=event_p_by_session.keys(), axis=1)"
   ]
  },
  {
   "cell_type": "code",
   "execution_count": 31,
   "metadata": {
    "collapsed": false
   },
   "outputs": [
    {
     "name": "stderr",
     "output_type": "stream",
     "text": [
      "/home/jma819/.conda/envs/caiman/lib/python3.6/site-packages/jupyter_client/jsonutil.py:67: DeprecationWarning: Interpreting naive datetime as local 2021-03-02 18:23:02.527803. Please add timezone info to timestamps.\n",
      "  new_obj[k] = extract_dates(v)\n"
     ]
    },
    {
     "data": {
      "text/plain": [
       "17.39   event probability    0.078652\n",
       "rest    event probability    0.039022\n",
       "1.939   event probability    0.159374\n",
       "3.87    event probability    0.172166\n",
       "7.733   event probability    0.216263\n",
       "9.664   event probability    0.143305\n",
       "5.801   event probability    0.203585\n",
       "11.595  event probability    0.100500\n",
       "56.017  event probability    0.142857\n",
       "69.537  event probability    0.026786\n",
       "dtype: float64"
      ]
     },
     "execution_count": 31,
     "metadata": {},
     "output_type": "execute_result"
    }
   ],
   "source": [
    "#summarize over sessions or over cells\n",
    "event_p_by_session_df.mean(axis=1, level=0)\n",
    "#by session\n",
    "event_p_by_session_df.mean(axis=1)"
   ]
  },
  {
   "cell_type": "code",
   "execution_count": 32,
   "metadata": {
    "collapsed": false
   },
   "outputs": [
    {
     "name": "stderr",
     "output_type": "stream",
     "text": [
      "/home/jma819/.conda/envs/caiman/lib/python3.6/site-packages/jupyter_client/jsonutil.py:67: DeprecationWarning: Interpreting naive datetime as local 2021-03-02 18:23:11.910324. Please add timezone info to timestamps.\n",
      "  new_obj[k] = extract_dates(v)\n"
     ]
    },
    {
     "data": {
      "text/plain": [
       "[<matplotlib.lines.Line2D at 0x2ba9490c5278>]"
      ]
     },
     "execution_count": 32,
     "metadata": {},
     "output_type": "execute_result"
    },
    {
     "data": {
      "image/png": "[encoded data removed]",
      "text/plain": [
       "<Figure size 432x288 with 1 Axes>"
      ]
     },
     "metadata": {
      "needs_background": "light"
     },
     "output_type": "display_data"
    }
   ],
   "source": [
    "plt.plot(list(event_p_by_session_df.mean(axis=1).index.levels[0]), \n",
    "         [event_p_by_session_df.mean(axis=1)[idx] for idx in list(event_p_by_session_df.mean(axis=1).index.levels[0])])"
   ]
  },
  {
   "cell_type": "code",
   "execution_count": null,
   "metadata": {
    "collapsed": false
   },
   "outputs": [],
   "source": [
    "##\n",
    "bin_=list(event_p_by_vbin.keys())[2]\n",
    "fig, (ax1, ax2) = plt.subplots(2, 1)\n",
    "ax1.scatter(list(event_p_by_vbin['rest'].columns), event_p_by_vbin['rest'].loc['event probability'])\n",
    "ax1.set_ylim(-0.03, event_p_by_vbin[bin_].loc['event probability'].max()+0.1)\n",
    "ax2.scatter(list(event_p_by_vbin[bin_].columns), event_p_by_vbin[bin_].loc['event probability'])\n",
    "ax2.set_ylim(-0.03, event_p_by_vbin[bin_].loc['event probability'].max()+0.1)\n",
    "plt.show()"
   ]
  },
  {
   "cell_type": "code",
   "execution_count": null,
   "metadata": {
    "collapsed": false
   },
   "outputs": [],
   "source": [
    "## get fold change over rest \n",
    "fold_change = event_p_by_vbin[bin_].loc['event probability']/event_p_by_vbin['rest'].loc['event probability']\n",
    "plt.scatter(list(event_p_by_vbin[bin_].columns), fold_change)\n",
    "plt.show()\n",
    "print(\"average fold change over rest:\", fold_change.mean())"
   ]
  },
  {
   "cell_type": "markdown",
   "metadata": {
    "collapsed": false
   },
   "source": [
    "## save example cell response videos for events"
   ]
  },
  {
   "cell_type": "code",
   "execution_count": 41,
   "metadata": {
    "collapsed": false
   },
   "outputs": [
    {
     "name": "stderr",
     "output_type": "stream",
     "text": [
      "/home/jma819/.conda/envs/caiman/lib/python3.6/site-packages/jupyter_client/jsonutil.py:67: DeprecationWarning: Interpreting naive datetime as local 2021-03-01 17:19:44.208416. Please add timezone info to timestamps.\n",
      "  new_obj[k] = extract_dates(v)\n"
     ]
    }
   ],
   "source": [
    "# get bounds_of_display_region from velocity threshold crossing indicies \n",
    "velocity_bound_range_to_display = 200\n",
    "bounds_of_display_region = [(onset-velocity_bound_range_to_display, onset+velocity_bound_range_to_display) for onset in list(moving_periods_by_session[session].columns.levels[0])] "
   ]
  },
  {
   "cell_type": "code",
   "execution_count": 40,
   "metadata": {
    "collapsed": false,
    "scrolled": true
   },
   "outputs": [
    {
     "name": "stderr",
     "output_type": "stream",
     "text": [
      "/home/jma819/.conda/envs/caiman/lib/python3.6/site-packages/jupyter_client/jsonutil.py:67: DeprecationWarning: Interpreting naive datetime as local 2021-03-01 17:08:21.752669. Please add timezone info to timestamps.\n",
      "  new_obj[k] = extract_dates(v)\n"
     ]
    }
   ],
   "source": [
    "#move corresponding behaviorCam videos to quest\n",
    "for session in [session for session in list(periods_by_session.keys()) if len(moving_periods_by_session[session])>0]:\n",
    "    #get file paths for behav cam videos and output a text file to input to globus cli for batch transfer\n",
    "    behavCam_locs = []\n",
    "    for event in [(onset-velocity_bound_range_to_display, onset+velocity_bound_range_to_display) for onset in list(moving_periods_by_session[session].columns.levels[0])] :\n",
    "        behavCam_locs.append(dlc_utils.get_behavCam_avi_index(event[0]))\n",
    "    behav_cam_indicies = list(set([loc[0] for loc in behavCam_locs]))\n",
    "    behav_cam_paths = np.array(['/rdss/jma819/fsmresfiles/Projects/JJM/MiniscopeMovies/dlc_analysis/'+session+'/behavCam'+str(bCam_idx).zfill(2)+'DLC_resnet50_Open_Field_v2Jan27shuffle1_150000_labeled.mp4'+' /projects/b1118/behaviorvideos/'+session+'/behavCam'+str(bCam_idx).zfill(2)+'DLC_resnet50_Open_Field_v2Jan27shuffle1_150000_labeled.mp4' for bCam_idx in behav_cam_indicies])\n",
    "    #text file for globus needs to be in format \n",
    "    # source_path dest_path \n",
    "    np.savetxt('/projects/b1118/miniscope/analysis/event_videos/'+session+'_tomove.txt', behav_cam_paths, delimiter=';', fmt='%s')"
   ]
  },
  {
   "cell_type": "code",
   "execution_count": 42,
   "metadata": {
    "collapsed": false,
    "scrolled": true
   },
   "outputs": [
    {
     "name": "stderr",
     "output_type": "stream",
     "text": [
      "/home/jma819/.conda/envs/caiman/lib/python3.6/site-packages/jupyter_client/jsonutil.py:67: DeprecationWarning: Interpreting naive datetime as local 2021-03-01 17:20:21.597792. Please add timezone info to timestamps.\n",
      "  new_obj[k] = extract_dates(v)\n"
     ]
    }
   ],
   "source": [
    "session = 'GRIN013_H13_M33_S54'"
   ]
  },
  {
   "cell_type": "code",
   "execution_count": 44,
   "metadata": {
    "collapsed": false,
    "scrolled": false
   },
   "outputs": [
    {
     "name": "stderr",
     "output_type": "stream",
     "text": [
      "/home/jma819/.conda/envs/caiman/lib/python3.6/site-packages/jupyter_client/jsonutil.py:67: DeprecationWarning: Interpreting naive datetime as local 2021-03-01 17:20:38.135350. Please add timezone info to timestamps.\n",
      "  new_obj[k] = extract_dates(v)\n",
      "100%|██████████| 17/17 [00:10<00:00,  1.69it/s]\n"
     ]
    }
   ],
   "source": [
    "# select movement regions from fluorescence data\n",
    "movement_regions_for_display = utils_jjm.pull_out_fluorescence_from_velocity_bounds(bounds_of_display_region, grouped_raw_data[session]['velocity_data'], C_norm_df[session])"
   ]
  },
  {
   "cell_type": "code",
   "execution_count": null,
   "metadata": {
    "collapsed": false,
    "scrolled": false
   },
   "outputs": [],
   "source": [
    "#bounds_of_display_region"
   ]
  },
  {
   "cell_type": "code",
   "execution_count": 46,
   "metadata": {
    "collapsed": false
   },
   "outputs": [
    {
     "name": "stderr",
     "output_type": "stream",
     "text": [
      "/home/jma819/.conda/envs/caiman/lib/python3.6/site-packages/jupyter_client/jsonutil.py:67: DeprecationWarning: Interpreting naive datetime as local 2021-03-01 17:21:04.843970. Please add timezone info to timestamps.\n",
      "  new_obj[k] = extract_dates(v)\n"
     ]
    }
   ],
   "source": [
    "# zscore movement regions by resting data\n",
    "movement_regions_z_scored_for_display = utils_jjm.z_score_movement_by_rest({'movement_fluorescence':movement_regions_for_display, 'resting_fluorescence': periods_by_session[session]['resting_fluorescence']})"
   ]
  },
  {
   "cell_type": "code",
   "execution_count": null,
   "metadata": {
    "collapsed": false
   },
   "outputs": [],
   "source": [
    "#list(set(z_scored_regions_by_session[session].columns.get_level_values(1)))\n",
    "def create_demixed_movie_from_traces(cells, cell_contours, )"
   ]
  },
  {
   "cell_type": "code",
   "execution_count": 47,
   "metadata": {
    "collapsed": false
   },
   "outputs": [
    {
     "name": "stderr",
     "output_type": "stream",
     "text": [
      "/home/jma819/.conda/envs/caiman/lib/python3.6/site-packages/jupyter_client/jsonutil.py:67: DeprecationWarning: Interpreting naive datetime as local 2021-03-01 17:21:11.034559. Please add timezone info to timestamps.\n",
      "  new_obj[k] = extract_dates(v)\n"
     ]
    },
    {
     "data": {
      "text/plain": [
       "'GRIN013_H13_M33_S54'"
      ]
     },
     "execution_count": 47,
     "metadata": {},
     "output_type": "execute_result"
    }
   ],
   "source": [
    "session"
   ]
  },
  {
   "cell_type": "code",
   "execution_count": null,
   "metadata": {
    "collapsed": false
   },
   "outputs": [],
   "source": [
    "event_idx = 0 \n",
    "cell = 37\n",
    "\n",
    "for event_idx in tqdm(range(len(list(movement_regions_z_scored_for_display['z_scored_movement_regions'].index.levels[0])))):\n",
    "    frame_range = (0, len(movement_regions_z_scored_for_display['z_scored_movement_regions'].loc[list(movement_regions_z_scored_for_display['z_scored_movement_regions'].index.levels[0])[event_idx]].loc[list(movement_regions_z_scored_for_display['z_scored_movement_regions'].index.levels[1])[event_idx]]))\n",
    "    ## plot responses of all cells during movement events\n",
    "    all_cell_contours = grouped_raw_data[session]['spatial_components'][:, :]\n",
    "\n",
    "    cells_reshaped = np.empty((np.shape(all_cell_contours)[1], frame_range[1], d2, d1))\n",
    "    for cell in tqdm(list(movement_regions_z_scored_for_display['z_scored_movement_regions'].columns)):\n",
    "        # \"spatial components\", or \"A\" as dense matrix, cells are 1 indexed, spatial array is 0 indexed  \n",
    "        A_reshaped = np.reshape(all_cell_contours[:, cell-1], (d2, d1))\n",
    "        #cell_frames = []\n",
    "        #for frame in range(frame_range[0], frame_range[1]):\n",
    "        #cell_frames.append(np.array([np.dot(A_reshaped, item) for item in [255, 128, 0, z_scored_regions_by_session[session][sample][cell][frame]]]))\n",
    "        cells_reshaped[cell-1] = np.array([np.dot(A_reshaped, \n",
    "                                              movement_regions_z_scored_for_display['z_scored_movement_regions'].loc[list(movement_regions_z_scored_for_display['z_scored_movement_regions'].index.levels[0])[event_idx]].loc[list(movement_regions_z_scored_for_display['z_scored_movement_regions'].index.levels[1])[event_idx]][cell][frame]) for frame in range(frame_range[0], frame_range[1])])\n",
    "    cells_recombined = np.sum(cells_reshaped, axis=0)\n",
    "\n",
    "    for cell in list(movement_regions_z_scored_for_display['z_scored_movement_regions'].columns):\n",
    "        ## plot cell contour \n",
    "        # \"spatial components\", or \"A\" as dense matrix, cells are 1 indexed, spatial array is 0 indexed  \n",
    "        cell_contour = grouped_raw_data[session]['spatial_components'][:, cell-1]\n",
    "        # create movie\n",
    "        frame_range = [0, len(movement_regions_z_scored_for_display['z_scored_movement_regions'].loc[list(movement_regions_z_scored_for_display['z_scored_movement_regions'].index.levels[0])[event_idx]].loc[list(movement_regions_z_scored_for_display['z_scored_movement_regions'].index.levels[1])[event_idx]][cell])]\n",
    "\n",
    "        d1 = 752\n",
    "        d2 = 480\n",
    "        A_cell_reshaped = np.reshape(cell_contour, (d2, d1))\n",
    "        C_cell_trace = movement_regions_z_scored_for_display['z_scored_movement_regions'].loc[list(movement_regions_z_scored_for_display['z_scored_movement_regions'].index.levels[0])[event_idx]].loc[list(movement_regions_z_scored_for_display['z_scored_movement_regions'].index.levels[1])[event_idx]][cell].values\n",
    "        response_movie = np.array([np.dot(A_cell_reshaped, C_cell_trace[frame]) for frame in range(frame_range[0], frame_range[1])])\n",
    "\n",
    "        ## plot individual cell activity \n",
    "        # np array with shape (frames, height, width, channels)\n",
    "        video = cells_recombined\n",
    "        video_2 = response_movie\n",
    "\n",
    "        fig, ((ax1, ax2), (ax3, ax4)) = plt.subplots(2, 2)\n",
    "        im = ax1.imshow(video[0,:,:], cmap='gray', vmin=0, vmax=255)\n",
    "        im2 = ax2.imshow(video_2[0,:,:], cmap='gray', vmin=0, vmax=255)\n",
    "        ax3.plot(movement_regions_for_display.loc[list(movement_regions_for_display.index.levels[0])[event_idx]].loc[list(movement_regions_for_display.index.levels[1])[event_idx]][cell])\n",
    "        ax4.plot(np.linspace(0, velocity_bound_range_to_display*2, velocity_bound_range_to_display*2), \n",
    "             grouped_raw_data[session]['velocity_data']['tail_base'][list(moving_periods_by_session[session].columns.levels[0])[event_idx]-velocity_bound_range_to_display:list(moving_periods_by_session[session].columns.levels[0])[event_idx]+velocity_bound_range_to_display])\n",
    "        ax4.axvline(x=velocity_bound_range_to_display, linestyle='--', color='g')\n",
    "\n",
    "        plt.close() # this is required to not display the generated image\n",
    "\n",
    "        def init():\n",
    "            fig.suptitle(\"cell \"+str(cell)+\" event \"+str(event_idx)+\" frame: \"+str(0))\n",
    "            im.set_data(video[0,:,:])\n",
    "            im2.set_data(video_2[0,:,:])\n",
    "\n",
    "        def animate(i):\n",
    "            fig.suptitle(\"cell \"+str(cell)+\" event \"+str(event_idx)+\" frame: \"+str(i))\n",
    "            im.set_data(video[i,:,:])\n",
    "            im2.set_data(video_2[i,:,:])\n",
    "            return (im, im2)\n",
    "\n",
    "        anim = animation.FuncAnimation(fig, animate, init_func=init, frames=video.shape[0],\n",
    "                               interval=50)\n",
    "\n",
    "        rc('animation', html='jshtml')\n",
    "        mywriter = animation.FFMpegWriter(fps=5)\n",
    "        anim.save('/projects/b1118/miniscope/analysis/event_videos/'+session+'_event_'+str(event_idx)+'_cell_'+str(cell)+'.mp4',\n",
    "                 writer=mywriter)\n",
    "    print('saved: '+' /projects/b1118/miniscope/analysis/event_videos/'+session+' movies for '+str(event_idx)+' events')"
   ]
  },
  {
   "cell_type": "code",
   "execution_count": null,
   "metadata": {
    "collapsed": false
   },
   "outputs": [
    {
     "name": "stderr",
     "output_type": "stream",
     "text": [
      "/home/jma819/.conda/envs/caiman/lib/python3.6/site-packages/jupyter_client/jsonutil.py:67: DeprecationWarning: Interpreting naive datetime as local 2021-03-01 17:22:27.336103. Please add timezone info to timestamps.\n",
      "  new_obj[k] = extract_dates(v)\n",
      "\r",
      "  0%|          | 0/36 [00:00<?, ?it/s]"
     ]
    }
   ],
   "source": [
    "event_idx = 0 \n",
    "cell = 37\n",
    "frame_range = (0, len(movement_regions_z_scored_for_display['z_scored_movement_regions'].loc[list(movement_regions_z_scored_for_display['z_scored_movement_regions'].index.levels[0])[event_idx]].loc[list(movement_regions_z_scored_for_display['z_scored_movement_regions'].index.levels[1])[event_idx]]))\n",
    "\n",
    "## plot responses of all cells during movement events\n",
    "all_cell_contours = grouped_raw_data[session]['spatial_components'][:, :]\n",
    "\n",
    "d1 = 752\n",
    "d2 = 480\n",
    "\n",
    "cells_reshaped = np.empty((np.shape(all_cell_contours)[1], frame_range[1], d2, d1))\n",
    "for cell in tqdm(list(movement_regions_z_scored_for_display['z_scored_movement_regions'].columns)):\n",
    "    # \"spatial components\", or \"A\" as dense matrix, cells are 1 indexed, spatial array is 0 indexed  \n",
    "    A_reshaped = np.reshape(all_cell_contours[:, cell-1], (d2, d1))\n",
    "    #cell_frames = []\n",
    "    #for frame in range(frame_range[0], frame_range[1]):\n",
    "        #cell_frames.append(np.array([np.dot(A_reshaped, item) for item in [255, 128, 0, z_scored_regions_by_session[session][sample][cell][frame]]]))\n",
    "    cells_reshaped[cell-1] = np.array([np.dot(A_reshaped, \n",
    "                                              movement_regions_z_scored_for_display['z_scored_movement_regions'].loc[list(movement_regions_z_scored_for_display['z_scored_movement_regions'].index.levels[0])[event_idx]].loc[list(movement_regions_z_scored_for_display['z_scored_movement_regions'].index.levels[1])[event_idx]][cell][frame]) for frame in range(frame_range[0], frame_range[1])])\n",
    "cells_recombined = np.sum(cells_reshaped, axis=0)\n",
    "\n",
    "## plot cell contour \n",
    "# \"spatial components\", or \"A\" as dense matrix, cells are 1 indexed, spatial array is 0 indexed  \n",
    "cell_contour = grouped_raw_data[session]['spatial_components'][:, cell-1]\n",
    "# create movie\n",
    "frame_range = [0, len(movement_regions_z_scored_for_display['z_scored_movement_regions'].loc[list(movement_regions_z_scored_for_display['z_scored_movement_regions'].index.levels[0])[event_idx]].loc[list(movement_regions_z_scored_for_display['z_scored_movement_regions'].index.levels[1])[event_idx]][cell])]\n",
    "\n",
    "A_cell_reshaped = np.reshape(cell_contour, (d2, d1))\n",
    "C_cell_trace = movement_regions_z_scored_for_display['z_scored_movement_regions'].loc[list(movement_regions_z_scored_for_display['z_scored_movement_regions'].index.levels[0])[event_idx]].loc[list(movement_regions_z_scored_for_display['z_scored_movement_regions'].index.levels[1])[event_idx]][cell].values\n",
    "response_movie = np.array([np.dot(A_cell_reshaped, C_cell_trace[frame]) for frame in range(frame_range[0], frame_range[1])])\n",
    "\n",
    "#sampling_interval_vdf=g\n",
    "sampling_interval_vdf = list(grouped_raw_data[session]['velocity_data']['tail_base'].index)[1]-list(grouped_raw_data[session]['velocity_data']['tail_base'].index)[0]\n",
    "ratio = list(C_norm_df[session].index)[1]/sampling_interval_vdf\n",
    "\n",
    "## plot individual cell activity \n",
    "# np array with shape (frames, height, width, channels)\n",
    "video = cells_recombined\n",
    "video_2 = response_movie\n",
    "\n",
    "fig, ((ax1, ax2), (ax3, ax4)) = plt.subplots(2, 2)\n",
    "im = ax1.imshow(video[0,:,:], cmap='gray', vmin=0, vmax=255)\n",
    "im2 = ax2.imshow(video_2[0,:,:], cmap='gray', vmin=0, vmax=255)\n",
    "ax3.plot(movement_regions_for_display.loc[list(movement_regions_for_display.index.levels[0])[event_idx]].loc[list(movement_regions_for_display.index.levels[1])[event_idx]][cell])\n",
    "\n",
    "ax4.plot(np.linspace(0, velocity_bound_range_to_display*2, velocity_bound_range_to_display*2), \n",
    "         grouped_raw_data[session]['velocity_data']['tail_base'][list(moving_periods_by_session[session].columns.levels[0])[event_idx]-velocity_bound_range_to_display:list(moving_periods_by_session[session].columns.levels[0])[event_idx]+velocity_bound_range_to_display])\n",
    "ax4.axvline(x=velocity_bound_range_to_display, linestyle='--', color='g')\n",
    "\n",
    "plt.close() # this is required to not display the generated image\n",
    "\n",
    "def init():\n",
    "    fig.suptitle(\"frame:\"+str(0))\n",
    "    im.set_data(video[0,:,:])\n",
    "    im2.set_data(video_2[0,:,:])\n",
    "\n",
    "def animate(i):\n",
    "    fig.suptitle(\"frame:\"+str(i))\n",
    "    im.set_data(video[i,:,:])\n",
    "    im2.set_data(video_2[i,:,:])\n",
    "    return (im, im2)\n",
    "\n",
    "anim = animation.FuncAnimation(fig, animate, init_func=init, frames=video.shape[0],\n",
    "                               interval=50)\n",
    "\n",
    "rc('animation', html='jshtml')\n",
    "\n",
    "\n",
    "\n",
    "mywriter = animation.FFMpegWriter(fps=5)\n",
    "\n",
    "anim.save('/projects/b1118/miniscope/analysis/event_videos/'+session+'_event_'+str(event_idx)+'_cell_'+str(cell)+'.mp4',\n",
    "         writer=mywriter)\n",
    "print('saved: '+' /projects/b1118/miniscope/analysis/event_videos/'+session+'_event_'+str(event_idx)+'_cell_'+str(cell)+'.mp4')"
   ]
  },
  {
   "cell_type": "code",
   "execution_count": null,
   "metadata": {
    "collapsed": false,
    "scrolled": true
   },
   "outputs": [],
   "source": [
    "anim"
   ]
  },
  {
   "cell_type": "code",
   "execution_count": null,
   "metadata": {
    "collapsed": false,
    "scrolled": true
   },
   "outputs": [],
   "source": [
    "event_idx = 0\n",
    "cell = 1\n",
    "fix, (ax1, ax2) = plt.subplots(2, 1)\n",
    "ax1.plot(movement_regions_for_display.loc[list(movement_regions_for_display.index.levels[0])[event_idx]].loc[list(movement_regions_for_display.index.levels[1])[event_idx]][cell])\n",
    "ax1.axvline(x=(len(movement_regions_for_display.loc[list(movement_regions_for_display.index.levels[0])[event_idx]].loc[list(movement_regions_for_display.index.levels[1])[event_idx]][cell])/2), linestyle='--', color='r')\n",
    "ax2.plot(movement_regions_z_scored_for_display['z_scored_movement_regions'].loc[list(movement_regions_z_scored_for_display['z_scored_movement_regions'].index.levels[0])[event_idx]].loc[list(movement_regions_z_scored_for_display['z_scored_movement_regions'].index.levels[1])[event_idx]][cell])\n",
    "ax2.axvline(x=(len(movement_regions_for_display.loc[list(movement_regions_for_display.index.levels[0])[event_idx]].loc[list(movement_regions_for_display.index.levels[1])[event_idx]][cell])/2), linestyle='--', color='r')\n",
    "plt.show()\n"
   ]
  },
  {
   "cell_type": "code",
   "execution_count": null,
   "metadata": {
    "collapsed": false
   },
   "outputs": [],
   "source": [
    "## plot individual cell activity \n",
    "# np array with shape (frames, height, width, channels)\n",
    "video = response_movie\n",
    "\n",
    "fig = plt.figure()\n",
    "im = plt.imshow(video[0,:,:], cmap='gray', vmin=0, vmax=255)\n",
    "\n",
    "plt.close() # this is required to not display the generated image\n",
    "\n",
    "def init():\n",
    "    im.set_data(video[0,:,:])\n",
    "\n",
    "def animate(i):\n",
    "    im.set_data(video[i,:,:])\n",
    "    return im\n",
    "\n",
    "anim = animation.FuncAnimation(fig, animate, init_func=init, frames=video.shape[0],\n",
    "                               interval=50)\n",
    "rc('animation', html='jshtml')\n",
    "\n",
    "## need ffmpeg on quest\n",
    "#HTML(anim.to_html5_video())"
   ]
  },
  {
   "cell_type": "code",
   "execution_count": null,
   "metadata": {
    "collapsed": true
   },
   "outputs": [],
   "source": [
    "##to look at behavior video "
   ]
  },
  {
   "cell_type": "code",
   "execution_count": null,
   "metadata": {
    "collapsed": false
   },
   "outputs": [],
   "source": [
    "# load behavior video \n",
    "sample_range_in_behavCam_video = (int(grouped_raw_data[session]['velocity_data'].iloc[index-50]['behavCam_frames']%1000),\n",
    "                                  int(grouped_raw_data[session]['velocity_data'].iloc[index+50]['behavCam_frames']%1000))\n",
    "video = av.open('/projects/b1118/behaviorvideos/'+session+'/behavCam'+str(behavCam_video)+'DLC_resnet50_Open_Field_v2Jan27shuffle1_150000_labeled.mp4')\n",
    "total_frames = video.streams.video[0].frames\n",
    "movie_images = {}\n",
    "for i, frame in enumerate(video.decode(video=0)):\n",
    "    img = frame.to_image()  # PIL image\n",
    "    movie_images[i] = img\n",
    "    if i%1000==0:\n",
    "        print(\"Frame: %d/%d ...\" % (i, total_frames))\n",
    "video.close()\n",
    "movie_shape = np.shape(movie_images[1])\n",
    "\n",
    "frame_subset = [movie_images[i] for i in range(sample_range_in_behavCam_video[0], sample_range_in_behavCam_video[1])]\n",
    "\n",
    "fig, (ax1, ax2) = plt.subplots(1, 2)\n",
    "im = ax1.imshow(frame_subset[0])\n",
    "ax2.plot(np.linspace(index-50, index+50, 100), grouped_raw_data[session]['velocity_data']['tail_base'].iloc[index-50:index+50])\n",
    "ax2.axvline(x=(index), linestyle='--', color='g')\n",
    "ax2.axvline(x=movement_offset_points_bysession[session][idx], linestyle='--', color='r')\n",
    "fig.set_size_inches(16, 3)\n",
    "#ax2.secondary_xaxis(-.2, functions=(lambda x: grouped_raw_data[session]['velocity_data'].iloc[x]['behavCam_frames'], \n",
    "#                                    lambda x: grouped_raw_data[session]['velocity_data'].iloc[x]['behavCam_frames']))\n",
    "#ani = animation.ArtistAnimation(fig, matplotlib_images, interval=50, blit=True, repeat_delay=1000)\n",
    "#HTML(ani.to_html5_video())\n",
    "def init():\n",
    "    ax1.set_title(\"behavCam: \"+str(behavCam_video)+\"  frame: \"+str(sample_range_in_behavCam_video[0]))\n",
    "    im.set_data(frame_subset[0])\n",
    "def animate(i):\n",
    "    ax1.set_title(\"behavCam: \"+str(behavCam_video)+\"  frame: \"+str(sample_range_in_behavCam_video[0]+i))\n",
    "    im.set_data(frame_subset[i])\n",
    "    #ax2.axvline(x=(index-(50+i)), linestyle='--', color='r')\n",
    "    return im\n",
    "\n",
    "ani = animation.FuncAnimation(fig, animate, init_func=init, frames=len(frame_subset), interval=50)\n",
    "rc('animation', html='jshtml')\n",
    "#HTML(ani.to_html5_video())"
   ]
  },
  {
   "cell_type": "code",
   "execution_count": null,
   "metadata": {
    "collapsed": true
   },
   "outputs": [],
   "source": [
    "## how to compare with raw traces? maybe use sample indicies to determine specific avi files, then pull from those (w/direct mount to resfiles?), or automate a globus script? "
   ]
  },
  {
   "cell_type": "code",
   "execution_count": null,
   "metadata": {
    "collapsed": true
   },
   "outputs": [],
   "source": [
    "# pause to take input (y/n) to determine if trace is ideal "
   ]
  },
  {
   "cell_type": "code",
   "execution_count": null,
   "metadata": {
    "collapsed": true,
    "scrolled": true
   },
   "outputs": [],
   "source": [
    "# calculate the peak to rms ratio for each threshold event, each cell, and across all cells and events \n",
    "\n",
    "peak_rms = lambda cell_fluorescence : np.max(cell_fluorescence)/np.sqrt(np.mean(np.square(cell_fluorescence)))\n",
    "\n",
    "cell = 2\n",
    "event = 1097\n",
    "\n",
    "peak_rms_ratio_cell = z_scored_regions_by_session['GRIN039_H12_M26_S54'].iloc[:, z_scored_regions_by_session['GRIN039_H12_M26_S54'].columns.get_level_values(1)==cell].apply(lambda cell_fluorescence : np.max(cell_fluorescence)/np.sqrt(np.mean(np.square(cell_fluorescence))), axis=0)\n",
    "peak_rms_ratio_event = z_scored_regions_by_session['GRIN039_H12_M26_S54'][event].apply(lambda cell_fluorescence : np.max(cell_fluorescence)/np.sqrt(np.mean(np.square(cell_fluorescence))), axis=0)\n",
    "peak_rms_ratio = z_scored_regions_by_session['GRIN039_H12_M26_S54'].apply(lambda cell_fluorescence : np.max(cell_fluorescence)/np.sqrt(np.mean(np.square(cell_fluorescence))), axis=0)"
   ]
  },
  {
   "cell_type": "code",
   "execution_count": null,
   "metadata": {
    "collapsed": true
   },
   "outputs": [],
   "source": [
    "#histogram of all peak to rms ratios across sample events\n",
    "plt.hist(peak_rms_ratio, 100)\n",
    "plt.show()"
   ]
  },
  {
   "cell_type": "code",
   "execution_count": null,
   "metadata": {
    "collapsed": true
   },
   "outputs": [],
   "source": [
    "z_scored_regions_by_session.max()"
   ]
  },
  {
   "cell_type": "code",
   "execution_count": null,
   "metadata": {
    "collapsed": true
   },
   "outputs": [],
   "source": [
    "peak_rms_ratio.max()"
   ]
  },
  {
   "cell_type": "code",
   "execution_count": null,
   "metadata": {
    "collapsed": true
   },
   "outputs": [],
   "source": [
    "# plot average activity of a cell across all movement events "
   ]
  },
  {
   "cell_type": "code",
   "execution_count": null,
   "metadata": {
    "collapsed": true
   },
   "outputs": [],
   "source": [
    "# plots the activity of a cell across all movement threshold crossings in a given session\n",
    "cell = 1\n",
    "z_scored_regions_by_session['GRIN039_H12_M26_S54'].iloc[:, z_scored_regions_by_session['GRIN039_H12_M26_S54'].columns.get_level_values(1)==cell].head()"
   ]
  },
  {
   "cell_type": "code",
   "execution_count": null,
   "metadata": {
    "collapsed": true
   },
   "outputs": [],
   "source": [
    "# plot a few example traces\n",
    "events_to_plot = [0, 1, 5]\n",
    "fig, [ax1, ax2, ax3, ax4] = plt.subplots(4)\n",
    "ax1.plot(z_scored_regions_by_session['GRIN039_H12_M26_S54'].iloc[:, z_scored_regions_by_session['GRIN039_H12_M26_S54'].columns.get_level_values(1)==1][sample_crossing_indicies[events_to_plot[0]]])\n",
    "ax2.plot(z_scored_regions_by_session['GRIN039_H12_M26_S54'].iloc[:, z_scored_regions_by_session['GRIN039_H12_M26_S54'].columns.get_level_values(1)==1][sample_crossing_indicies[events_to_plot[1]]])\n",
    "ax3.plot(z_scored_regions_by_session['GRIN039_H12_M26_S54'].iloc[:, z_scored_regions_by_session['GRIN039_H12_M26_S54'].columns.get_level_values(1)==1][sample_crossing_indicies[events_to_plot[2]]])\n",
    "ax4.plot(pd.concat([z_scored_regions_by_session['GRIN039_H12_M26_S54'].iloc[:, z_scored_regions_by_session['GRIN039_H12_M26_S54'].columns.get_level_values(1)==1][sample_crossing_indicies[events_to_plot[0]]],\n",
    "                   z_scored_regions_by_session['GRIN039_H12_M26_S54'].iloc[:, z_scored_regions_by_session['GRIN039_H12_M26_S54'].columns.get_level_values(1)==1][sample_crossing_indicies[events_to_plot[1]]],\n",
    "                  z_scored_regions_by_session['GRIN039_H12_M26_S54'].iloc[:, z_scored_regions_by_session['GRIN039_H12_M26_S54'].columns.get_level_values(1)==1][sample_crossing_indicies[events_to_plot[2]]]], axis=1).mean(axis=1))"
   ]
  },
  {
   "cell_type": "code",
   "execution_count": null,
   "metadata": {
    "collapsed": true
   },
   "outputs": [],
   "source": [
    "#concat by mouse \n",
    "concacted_by_mouse = {}\n",
    "for mouse in [name[0:7] for name in list(set(z_scored_regions_by_session.columns.levels[0]))]:\n",
    "    dfs_by_mouse = []\n",
    "    sessions = []\n",
    "    for session in list(z_scored_regions_by_session.columns.levels[0]):\n",
    "        if mouse in session:\n",
    "            if not(z_scored_regions_by_session[session].empty):\n",
    "                #means = z_scored_regions_by_session[session].mean(axis=1, level=0)\n",
    "                dfs_by_mouse.append(z_scored_regions_by_session[session])\n",
    "                sessions.append(session)\n",
    "    if len(dfs_by_mouse)>0:\n",
    "        concacted_by_mouse[mouse] = pd.concat(dfs_by_mouse, axis=1, keys=sessions)\n",
    "combined_by_mouse = pd.concat(list(concacted_by_mouse.values()), axis=1, keys=list(concacted_by_mouse.keys()))"
   ]
  },
  {
   "cell_type": "code",
   "execution_count": null,
   "metadata": {
    "collapsed": true,
    "scrolled": true
   },
   "outputs": [],
   "source": [
    "# maybe should do min, max scaler here\n",
    "plt.plot(combined_by_mouse.mean(axis=1))"
   ]
  },
  {
   "cell_type": "code",
   "execution_count": null,
   "metadata": {
    "collapsed": true
   },
   "outputs": [],
   "source": [
    "# create range scaled data to compare across cells\n",
    "scaler = MinMaxScaler()\n",
    "activity_scaled = pd.DataFrame(scaler.fit_transform(combined_by_mouse), columns=combined_by_mouse.columns)\n",
    "activity_scaled_cell_means = activity_scaled.groupby(level=[0,1], axis=1).mean()"
   ]
  },
  {
   "cell_type": "code",
   "execution_count": null,
   "metadata": {
    "collapsed": true,
    "scrolled": true
   },
   "outputs": [],
   "source": [
    "plt.plot(activity_scaled.mean(axis=1))"
   ]
  },
  {
   "cell_type": "code",
   "execution_count": null,
   "metadata": {
    "collapsed": true,
    "scrolled": false
   },
   "outputs": [],
   "source": [
    "combined_by_mouse_timedelta = combined_by_mouse.set_index(pd.to_timedelta(np.linspace(0, (len(combined_by_mouse)-1)*(1/5), len(combined_by_mouse)), unit='s'), drop=True)"
   ]
  },
  {
   "cell_type": "code",
   "execution_count": null,
   "metadata": {
    "collapsed": true,
    "scrolled": true
   },
   "outputs": [],
   "source": [
    "#resampled_for_plotting.head()"
   ]
  },
  {
   "cell_type": "code",
   "execution_count": null,
   "metadata": {
    "collapsed": true
   },
   "outputs": [],
   "source": [
    "plt.rcParams.update({'font.size': 22})\n",
    "df_to_plot = resampled_for_plotting\n",
    "activity_measure = 'spatial_coordination'\n",
    "x = np.linspace(-(len(df_to_plot)/2)*.5, (len(df_to_plot)/2)*.5, len(df_to_plot))\n",
    "scale_f = 0.0868\n",
    "mean=df_to_plot.mean(axis=1, level=2)['velocity'].values*scale_f\n",
    "plt.plot(x, df_to_plot.mean(axis=1, level=2)['velocity'].values*scale_f, color='k')\n",
    "std_error = ((df_to_plot.std(axis=1, level=2)['velocity'])/math.sqrt(df_to_plot.mean(axis=1, level=0).shape[1]))*scale_f\n",
    "plt.fill_between(x, mean-std_error, mean+std_error)\n",
    "ax = plt.gca()\n",
    "ax.set_ylabel('velocity cm/sec')\n",
    "ax.set_xlabel('time (seconds)')\n",
    "ax.axvline(x=(0), linestyle='--', color='r')\n",
    "fig = plt.gcf()\n",
    "fig.set_size_inches(7, 6)\n",
    "#fig.draw()\n",
    "#fig.savefig('/home/jma819/presentation_files/wt_velocity_spatial_coord_triggered.svg', transparent=True)\n",
    "fig.subplots_adjust(left=0.15)\n",
    "fig.savefig('/Users/johnmarshall/Documents/Presentations/Feb20201_LabMeeting/v_triggered.pdf', transparent=True)\n",
    "plt.show()"
   ]
  },
  {
   "cell_type": "code",
   "execution_count": null,
   "metadata": {
    "collapsed": true
   },
   "outputs": [],
   "source": [
    "activity_measure = 'fluorescence'\n",
    "x = np.linspace(-(len(df_to_plot)/2)*.5, (len(df_to_plot)/2)*.5, len(df_to_plot))\n",
    "mean = df_to_plot.mean(axis=1, level=2)[activity_measure].values\n",
    "plt.plot(x, mean, color='k')\n",
    "std_error = (df_to_plot.std(axis=1, level=2)[activity_measure])/math.sqrt(df_to_plot.mean(axis=1, level=0).shape[1]*1)\n",
    "plt.fill_between(x, mean-std_error, mean+std_error)\n",
    "ax = plt.gca()\n",
    "ax.set_ylabel('dF/F z-score')\n",
    "ax.set_xlabel('time (seconds)')\n",
    "ax.axvline(x=0, linestyle='--', color='r')\n",
    "fig = plt.gcf()\n",
    "fig.set_size_inches(7, 6)\n",
    "#fig.draw()\n",
    "#fig.savefig('.svg')\n",
    "fig.subplots_adjust(left=0.15)\n",
    "fig.savefig('/Users/johnmarshall/Documents/Presentations/Feb20201_LabMeeting/wt_fluorescence_triggered.pdf', transparent=True)\n",
    "plt.show()"
   ]
  },
  {
   "cell_type": "markdown",
   "metadata": {},
   "source": [
    "## event ISIs "
   ]
  },
  {
   "cell_type": "code",
   "execution_count": null,
   "metadata": {
    "collapsed": true
   },
   "outputs": [],
   "source": [
    "filtered_for_analysis = {}\n",
    "for session in list(grouped_raw_data.keys()):\n",
    "    filtered_for_analysis[session] = utils_jjm.filter_out_by_size(grouped_raw_data[session]['C_normalized_z_scored'], grouped_raw_data[session]['cell_contours'], \n",
    "                                                                  grouped_raw_data[session]['for_dims'], 0.6, 100)\n",
    "C_df = pd.concat([filtered_for_analysis[session].resample(str(new_sampling_interval)+'S').max()\n",
    "                  for session in list(grouped_raw_data.keys())], keys=list(grouped_raw_data.keys()))"
   ]
  },
  {
   "cell_type": "code",
   "execution_count": null,
   "metadata": {
    "collapsed": true
   },
   "outputs": [],
   "source": [
    "C_df = C_df.drop(['msCamFrame'], axis=1)"
   ]
  },
  {
   "cell_type": "code",
   "execution_count": null,
   "metadata": {
    "collapsed": true
   },
   "outputs": [],
   "source": []
  },
  {
   "cell_type": "code",
   "execution_count": null,
   "metadata": {
    "collapsed": true
   },
   "outputs": [],
   "source": [
    "ISIs_by_session = []\n",
    "for session in list(grouped_raw_data.keys()):\n",
    "    print(session)\n",
    "    event_indicies, event_times, event_ISIs = utils_jjm.get_ISIs(C_df.loc[session].dropna(axis=1), 20, .1, np.array(C_df.loc[session].dropna(axis=1).columns), 2)\n",
    "    ISIs_by_session.append(event_ISIs)"
   ]
  },
  {
   "cell_type": "code",
   "execution_count": null,
   "metadata": {
    "collapsed": true
   },
   "outputs": [],
   "source": []
  },
  {
   "cell_type": "code",
   "execution_count": null,
   "metadata": {
    "collapsed": true
   },
   "outputs": [],
   "source": []
  }
 ],
 "metadata": {
  "kernelspec": {
   "display_name": "caiman",
   "language": "python",
   "name": "caiman"
  },
  "language_info": {
   "codemirror_mode": {
    "name": "ipython",
    "version": 3
   },
   "file_extension": ".py",
   "mimetype": "text/x-python",
   "name": "python",
   "nbconvert_exporter": "python",
   "pygments_lexer": "ipython3",
   "version": "3.6.7"
  }
 },
 "nbformat": 4,
 "nbformat_minor": 2
}
