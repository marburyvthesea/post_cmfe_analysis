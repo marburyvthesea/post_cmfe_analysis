{
 "cells": [
  {
   "cell_type": "code",
   "execution_count": 1,
   "metadata": {
    "collapsed": false
   },
   "outputs": [
    {
     "data": {
      "text/html": [
       "<style>.container { width:90% !important; }</style>"
      ],
      "text/plain": [
       "<IPython.core.display.HTML object>"
      ]
     },
     "metadata": {},
     "output_type": "display_data"
    },
    {
     "name": "stderr",
     "output_type": "stream",
     "text": [
      "/home/jma819/.conda/envs/caiman/lib/python3.6/site-packages/sklearn/utils/deprecation.py:144: FutureWarning: The sklearn.decomposition.incremental_pca module is  deprecated in version 0.22 and will be removed in version 0.24. The corresponding classes / functions should instead be imported from sklearn.decomposition. Anything that cannot be imported from sklearn.decomposition is now part of the private API.\n",
      "  warnings.warn(message, FutureWarning)\n"
     ]
    }
   ],
   "source": [
    "from IPython.core.display import display, HTML\n",
    "display(HTML(\"<style>.container { width:90% !important; }</style>\"))\n",
    "import numpy as np\n",
    "import pandas as pd\n",
    "import h5py\n",
    "from tqdm import tqdm\n",
    "import scipy.io as sio\n",
    "from scipy import stats\n",
    "from importlib import reload\n",
    "from matplotlib import pyplot as plt\n",
    "import sys\n",
    "sys.path.append('/home/jma819/post_cmfe_analysis')\n",
    "#sys.path.append('/Users/johnmarshall/Documents/Analysis/PythonAnalysisScripts/post_cmfe_analysis')\n",
    "import python_utils_jjm as utils_jjm\n",
    "import dlc_utils\n",
    "import caiman\n",
    "from sklearn.preprocessing import MinMaxScaler\n",
    "import scipy.spatial.distance as dist\n",
    "import itertools\n",
    "import math\n",
    "import warnings\n",
    "%matplotlib inline\n",
    "from matplotlib import pyplot as plt\n",
    "from matplotlib import animation, rc\n",
    "from IPython.display import HTML\n",
    "import av\n",
    "from multiprocessing import Pool\n",
    "import functools\n",
    "warnings.filterwarnings(action='once')"
   ]
  },
  {
   "cell_type": "code",
   "execution_count": 2,
   "metadata": {
    "collapsed": false,
    "scrolled": true
   },
   "outputs": [
    {
     "name": "stderr",
     "output_type": "stream",
     "text": [
      "/home/jma819/.conda/envs/caiman/lib/python3.6/site-packages/jupyter_client/jsonutil.py:67: DeprecationWarning: Interpreting naive datetime as local 2021-02-25 19:12:39.367927. Please add timezone info to timestamps.\n",
      "  new_obj[k] = extract_dates(v)\n"
     ]
    },
    {
     "data": {
      "text/plain": [
       "<module 'dlc_utils' from '/home/jma819/post_cmfe_analysis/dlc_utils.py'>"
      ]
     },
     "execution_count": 2,
     "metadata": {},
     "output_type": "execute_result"
    }
   ],
   "source": [
    "reload(utils_jjm)\n",
    "reload(dlc_utils)"
   ]
  },
  {
   "cell_type": "code",
   "execution_count": 3,
   "metadata": {
    "collapsed": false
   },
   "outputs": [
    {
     "name": "stderr",
     "output_type": "stream",
     "text": [
      "/home/jma819/.conda/envs/caiman/lib/python3.6/site-packages/jupyter_client/jsonutil.py:67: DeprecationWarning: Interpreting naive datetime as local 2021-02-25 19:12:39.376221. Please add timezone info to timestamps.\n",
      "  new_obj[k] = extract_dates(v)\n"
     ]
    }
   ],
   "source": [
    "#cnmfe_file_key = pd.read_csv('/Volumes/My_Passport/dlc_analysis/behavcamvideos/open_field_miniscope/cnmfe_key.csv')\n",
    "cnmfe_file_key = pd.read_csv('/projects/p30771/dlc_analysis/openfield_dlc_output/cnmfe_key.csv')"
   ]
  },
  {
   "cell_type": "code",
   "execution_count": 4,
   "metadata": {
    "collapsed": false
   },
   "outputs": [
    {
     "name": "stderr",
     "output_type": "stream",
     "text": [
      "/home/jma819/.conda/envs/caiman/lib/python3.6/site-packages/jupyter_client/jsonutil.py:67: DeprecationWarning: Interpreting naive datetime as local 2021-02-25 19:12:39.382823. Please add timezone info to timestamps.\n",
      "  new_obj[k] = extract_dates(v)\n"
     ]
    }
   ],
   "source": [
    "#cnmfe_base_dir = '/Volumes/My_Passport/cnmfe_analysis_files/batch_output_files/'\n",
    "cnmfe_base_dir = '/projects/p30771/MATLAB/CNMF_E_jjm/quest_MATLAB_cnmfe/batch_output_files/'\n",
    "# '27-Feb_17_33_59_out.mat' '28-Feb_16_21_21_out.mat' '25-Mar_14_22_02_out.mat', '25-Mar_14_22_44_out.mat', '26-Mar_18_33_55_out.mat', '27-Mar_00_26_12_out.mat', '27-Mar_00_48_46_out.mat' throwing error\n",
    "wt_CNMFE_files = ['29-Jan_12_35_06_out.mat','30-Mar_20_39_05_out.mat', '30-Mar_20_45_16_out.mat', '22-Mar_22_52_02_out.mat',\n",
    "                 '28-Feb_16_10_05_out.mat', '27-Feb_17_32_15_out.mat', '25-Mar_13_27_27_out.mat',\n",
    "                 '27-Feb_17_33_59_out.mat', '28-Feb_16_21_21_out.mat', '25-Mar_14_22_02_out.mat', '25-Mar_14_22_44_out.mat', \n",
    "                  '26-Mar_18_33_55_out.mat', '27-Mar_00_26_12_out.mat', '27-Mar_00_48_46_out.mat']\n",
    "\n",
    "ko_CNMFE_files = ['30-Jan_16_54_31_out.mat','30-Jan_14_00_19_out.mat','31-Jan_01_43_49_out.mat','31-Jan_00_12_24_out.mat','31-Mar_13_28_15_out.mat', '29-Mar_21_42_20_out.mat', '13-Apr_17_57_40_out.mat', '29-Mar_14_27_55_out.mat', '13-Apr_16_01_20_out.mat',\n",
    "                 '13-Apr_16_11_27_out.mat', '29-Mar_13_39_44_out.mat']"
   ]
  },
  {
   "cell_type": "code",
   "execution_count": 5,
   "metadata": {
    "collapsed": false
   },
   "outputs": [
    {
     "name": "stderr",
     "output_type": "stream",
     "text": [
      "/home/jma819/.conda/envs/caiman/lib/python3.6/site-packages/jupyter_client/jsonutil.py:67: DeprecationWarning: Interpreting naive datetime as local 2021-02-25 19:12:39.389542. Please add timezone info to timestamps.\n",
      "  new_obj[k] = extract_dates(v)\n"
     ]
    }
   ],
   "source": [
    "#tracking_files = ['/Volumes/My_Passport/dlc_analysis/behavcamvideos/open_field_miniscope/'+utils_jjm.find_behavior_tracking(fname, cnmfe_file_key) for fname in wt_CNMFE_files] \n",
    "tracking_files = ['/projects/b1118/behaviorvideos/'+utils_jjm.find_behavior_tracking(fname, cnmfe_file_key, 'unsmoothed_02212021') for fname in wt_CNMFE_files] "
   ]
  },
  {
   "cell_type": "code",
   "execution_count": 6,
   "metadata": {
    "collapsed": false
   },
   "outputs": [
    {
     "name": "stderr",
     "output_type": "stream",
     "text": [
      "/home/jma819/.conda/envs/caiman/lib/python3.6/site-packages/jupyter_client/jsonutil.py:67: DeprecationWarning: Interpreting naive datetime as local 2021-02-25 19:12:39.395741. Please add timezone info to timestamps.\n",
      "  new_obj[k] = extract_dates(v)\n"
     ]
    }
   ],
   "source": [
    "CNMFE_dir_paths_list = [str(cnmfe_base_dir+fname) for fname in wt_CNMFE_files]\n",
    "#CNMFE_dir_paths_list"
   ]
  },
  {
   "cell_type": "code",
   "execution_count": 7,
   "metadata": {
    "collapsed": false,
    "scrolled": true
   },
   "outputs": [
    {
     "name": "stderr",
     "output_type": "stream",
     "text": [
      "/home/jma819/.conda/envs/caiman/lib/python3.6/site-packages/jupyter_client/jsonutil.py:67: DeprecationWarning: Interpreting naive datetime as local 2021-02-25 19:12:39.402770. Please add timezone info to timestamps.\n",
      "  new_obj[k] = extract_dates(v)\n"
     ]
    },
    {
     "data": {
      "text/plain": [
       "14"
      ]
     },
     "execution_count": 7,
     "metadata": {},
     "output_type": "execute_result"
    }
   ],
   "source": [
    "len(CNMFE_dir_paths_list)"
   ]
  },
  {
   "cell_type": "code",
   "execution_count": 8,
   "metadata": {
    "collapsed": false,
    "scrolled": true
   },
   "outputs": [
    {
     "name": "stderr",
     "output_type": "stream",
     "text": [
      "/home/jma819/.conda/envs/caiman/lib/python3.6/site-packages/jupyter_client/jsonutil.py:67: DeprecationWarning: Interpreting naive datetime as local 2021-02-25 19:12:39.409477. Please add timezone info to timestamps.\n",
      "  new_obj[k] = extract_dates(v)\n"
     ]
    },
    {
     "data": {
      "text/plain": [
       "14"
      ]
     },
     "execution_count": 8,
     "metadata": {},
     "output_type": "execute_result"
    }
   ],
   "source": [
    "len(tracking_files[:])"
   ]
  },
  {
   "cell_type": "code",
   "execution_count": 9,
   "metadata": {
    "collapsed": false
   },
   "outputs": [
    {
     "name": "stderr",
     "output_type": "stream",
     "text": [
      "/home/jma819/.conda/envs/caiman/lib/python3.6/site-packages/jupyter_client/jsonutil.py:67: DeprecationWarning: Interpreting naive datetime as local 2021-02-25 19:12:39.416615. Please add timezone info to timestamps.\n",
      "  new_obj[k] = extract_dates(v)\n"
     ]
    },
    {
     "name": "stdout",
     "output_type": "stream",
     "text": [
      "/projects/p30771/MATLAB/CNMF_E_jjm/quest_MATLAB_cnmfe/batch_output_files/29-Jan_12_35_06_out.mat\n",
      "/projects/b1118/behaviorvideos/GRIN039_H12_M26_S54/GRIN039_H12_M26_S54_dlc_tracking_foranalysis_unsmoothed_02212021.csv\n",
      "/projects/p30771/MATLAB/CNMF_E_jjm/quest_MATLAB_cnmfe/batch_output_files/30-Mar_20_39_05_out.mat\n",
      "/projects/b1118/behaviorvideos/GRIN013_H13_M33_S54/GRIN013_H13_M33_S54_dlc_tracking_foranalysis_unsmoothed_02212021.csv\n",
      "/projects/p30771/MATLAB/CNMF_E_jjm/quest_MATLAB_cnmfe/batch_output_files/30-Mar_20_45_16_out.mat\n",
      "/projects/b1118/behaviorvideos/GRIN027_H13_M29_S44/GRIN027_H13_M29_S44_dlc_tracking_foranalysis_unsmoothed_02212021.csv\n",
      "/projects/p30771/MATLAB/CNMF_E_jjm/quest_MATLAB_cnmfe/batch_output_files/22-Mar_22_52_02_out.mat\n",
      "/projects/b1118/behaviorvideos/GRIN033_H14_M34_S32/GRIN033_H14_M34_S32_dlc_tracking_foranalysis_unsmoothed_02212021.csv\n",
      "/projects/p30771/MATLAB/CNMF_E_jjm/quest_MATLAB_cnmfe/batch_output_files/28-Feb_16_10_05_out.mat\n",
      "/projects/b1118/behaviorvideos/GRIN033_H13_M42_S33/GRIN033_H13_M42_S33_dlc_tracking_foranalysis_unsmoothed_02212021.csv\n",
      "/projects/p30771/MATLAB/CNMF_E_jjm/quest_MATLAB_cnmfe/batch_output_files/27-Feb_17_32_15_out.mat\n",
      "/projects/b1118/behaviorvideos/GRIN032_H17_M30_S22/GRIN032_H17_M30_S22_dlc_tracking_foranalysis_unsmoothed_02212021.csv\n",
      "/projects/p30771/MATLAB/CNMF_E_jjm/quest_MATLAB_cnmfe/batch_output_files/25-Mar_13_27_27_out.mat\n",
      "/projects/b1118/behaviorvideos/GRIN034_H15_M28_S2/GRIN034_H15_M28_S2_dlc_tracking_foranalysis_unsmoothed_02212021.csv\n",
      "/projects/p30771/MATLAB/CNMF_E_jjm/quest_MATLAB_cnmfe/batch_output_files/27-Feb_17_33_59_out.mat\n",
      "/projects/b1118/behaviorvideos/GRIN026_H16_M35_S34/GRIN026_H16_M35_S34_dlc_tracking_foranalysis_unsmoothed_02212021.csv\n",
      "/projects/p30771/MATLAB/CNMF_E_jjm/quest_MATLAB_cnmfe/batch_output_files/28-Feb_16_21_21_out.mat\n",
      "/projects/b1118/behaviorvideos/GRIN032_H16_M49_S22/GRIN032_H16_M49_S22_dlc_tracking_foranalysis_unsmoothed_02212021.csv\n",
      "/projects/p30771/MATLAB/CNMF_E_jjm/quest_MATLAB_cnmfe/batch_output_files/25-Mar_14_22_02_out.mat\n",
      "/projects/b1118/behaviorvideos/GRIN034_H16_M13_S22/GRIN034_H16_M13_S22_dlc_tracking_foranalysis_unsmoothed_02212021.csv\n",
      "/projects/p30771/MATLAB/CNMF_E_jjm/quest_MATLAB_cnmfe/batch_output_files/25-Mar_14_22_44_out.mat\n",
      "/projects/b1118/behaviorvideos/GRIN034_H19_M0_S18/GRIN034_H19_M0_S18_dlc_tracking_foranalysis_unsmoothed_02212021.csv\n",
      "/projects/p30771/MATLAB/CNMF_E_jjm/quest_MATLAB_cnmfe/batch_output_files/26-Mar_18_33_55_out.mat\n",
      "/projects/b1118/behaviorvideos/GRIN035_H13_M50_S58/GRIN035_H13_M50_S58_dlc_tracking_foranalysis_unsmoothed_02212021.csv\n",
      "/projects/p30771/MATLAB/CNMF_E_jjm/quest_MATLAB_cnmfe/batch_output_files/27-Mar_00_26_12_out.mat\n",
      "/projects/b1118/behaviorvideos/GRIN035_H13_M31_S20/GRIN035_H13_M31_S20_dlc_tracking_foranalysis_unsmoothed_02212021.csv\n",
      "/projects/p30771/MATLAB/CNMF_E_jjm/quest_MATLAB_cnmfe/batch_output_files/27-Mar_00_48_46_out.mat\n",
      "/projects/b1118/behaviorvideos/GRIN035_H14_M40_S34/GRIN035_H14_M40_S34_dlc_tracking_foranalysis_unsmoothed_02212021.csv\n"
     ]
    }
   ],
   "source": [
    "grouped_raw_data = {}\n",
    "success = []\n",
    "failed = []\n",
    "for CNMFE_file, tracking_file in zip(CNMFE_dir_paths_list, tracking_files):\n",
    "    print(CNMFE_file)\n",
    "    print(tracking_file)\n",
    "    try:\n",
    "        # load cell fluorescence \n",
    "        cell_fluorescence = sio.loadmat(CNMFE_file)\n",
    "        C_timedelta = utils_jjm.create_fluorescence_time_delta(cell_fluorescence['C'])\n",
    "        C_normalized = C_timedelta.apply(utils_jjm.normalize).set_index(pd.to_timedelta(np.linspace(0, (len(C_timedelta)-1)*(1/20), len(C_timedelta)), unit='s'), drop=True)\n",
    "        C_z_scored = C_timedelta.apply(stats.zscore).set_index(pd.to_timedelta(np.linspace(0, (len(C_timedelta)-1)*(1/20), len(C_timedelta)), unit='s'), drop=True)\n",
    "        C_normalized_z_scored = C_normalized.apply(stats.zscore).set_index(pd.to_timedelta(np.linspace(0, (len(C_normalized)-1)*(1/20), len(C_normalized)), unit='s'), drop=True)\n",
    "        # create tracking time deltas\n",
    "        #interpolated = utils_jjm.prepare_timedelta_dfs(tracking_file)\n",
    "        velocity_data = pd.read_csv(tracking_file)\n",
    "        velocity_data.drop(['Unnamed: 0', 'index'], axis=1, inplace=True)\n",
    "        velocity_data_td = velocity_data.set_index(pd.to_timedelta(np.linspace(velocity_data['sysClock'].iloc[0], \n",
    "               velocity_data['sysClock'].iloc[-1]/1000,\n",
    "               len(velocity_data)), unit='s'), drop=True)\n",
    "        #C_z_scored_filtered = utils_jjm.filter_out_by_size(C_z_scored, cell_contours, for_dims, 0.6, 100)\n",
    "        #store results \n",
    "        #load spatial components by session\n",
    "        com_df, spatial_components = utils_jjm.return_spatial_info(CNMFE_file, 0.6)\n",
    "        cell_contours, for_dims = utils_jjm.create_contour_layouts(spatial_components)\n",
    "        \n",
    "        #store results \n",
    "        grouped_raw_data[tracking_file.split('/')[-2]] = {'C': C_timedelta, 'C_z_scored': C_z_scored, 'C_normalized': C_normalized, 'C_normalized_z_scored': C_normalized_z_scored, \n",
    "                                                          'velocity_data' : velocity_data_td, 'com' : com_df, 'spatial_components' : spatial_components, 'cell_contours': cell_contours,  \n",
    "                                                         'for_dims' : for_dims}\n",
    "        success.append((tracking_file.split('/')[-2], CNMFE_file.split('/')[-1]))\n",
    "    except FileNotFoundError:\n",
    "        failed.append(tracking_file)\n",
    "    except OSError:\n",
    "        failed.append(tracking_file)"
   ]
  },
  {
   "cell_type": "markdown",
   "metadata": {},
   "source": [
    "## triggered averaging "
   ]
  },
  {
   "cell_type": "code",
   "execution_count": 10,
   "metadata": {
    "collapsed": false
   },
   "outputs": [
    {
     "name": "stderr",
     "output_type": "stream",
     "text": [
      "/home/jma819/.conda/envs/caiman/lib/python3.6/site-packages/jupyter_client/jsonutil.py:67: DeprecationWarning: Interpreting naive datetime as local 2021-02-25 19:12:39.424446. Please add timezone info to timestamps.\n",
      "  new_obj[k] = extract_dates(v)\n"
     ]
    },
    {
     "data": {
      "text/plain": [
       "[('GRIN039_H12_M26_S54', '29-Jan_12_35_06_out.mat'),\n",
       " ('GRIN013_H13_M33_S54', '30-Mar_20_39_05_out.mat'),\n",
       " ('GRIN027_H13_M29_S44', '30-Mar_20_45_16_out.mat'),\n",
       " ('GRIN033_H14_M34_S32', '22-Mar_22_52_02_out.mat'),\n",
       " ('GRIN033_H13_M42_S33', '28-Feb_16_10_05_out.mat'),\n",
       " ('GRIN032_H17_M30_S22', '27-Feb_17_32_15_out.mat'),\n",
       " ('GRIN034_H15_M28_S2', '25-Mar_13_27_27_out.mat'),\n",
       " ('GRIN026_H16_M35_S34', '27-Feb_17_33_59_out.mat'),\n",
       " ('GRIN032_H16_M49_S22', '28-Feb_16_21_21_out.mat'),\n",
       " ('GRIN034_H16_M13_S22', '25-Mar_14_22_02_out.mat'),\n",
       " ('GRIN034_H19_M0_S18', '25-Mar_14_22_44_out.mat'),\n",
       " ('GRIN035_H13_M50_S58', '26-Mar_18_33_55_out.mat'),\n",
       " ('GRIN035_H13_M31_S20', '27-Mar_00_26_12_out.mat'),\n",
       " ('GRIN035_H14_M40_S34', '27-Mar_00_48_46_out.mat')]"
      ]
     },
     "execution_count": 10,
     "metadata": {},
     "output_type": "execute_result"
    }
   ],
   "source": [
    "success"
   ]
  },
  {
   "cell_type": "code",
   "execution_count": 11,
   "metadata": {
    "collapsed": false,
    "scrolled": true
   },
   "outputs": [
    {
     "name": "stderr",
     "output_type": "stream",
     "text": [
      "/home/jma819/.conda/envs/caiman/lib/python3.6/site-packages/jupyter_client/jsonutil.py:67: DeprecationWarning: Interpreting naive datetime as local 2021-02-25 19:12:39.431588. Please add timezone info to timestamps.\n",
      "  new_obj[k] = extract_dates(v)\n"
     ]
    }
   ],
   "source": [
    "## combine dfs for each session to bin velocity values across dfs\n",
    "#downsample\n",
    "new_sampling_interval = .2\n",
    "V_df = pd.concat([grouped_raw_data[session]['velocity_data'].resample(str(new_sampling_interval)+'S').max() \n",
    "                  for session in list(grouped_raw_data.keys())], keys=list(grouped_raw_data.keys()))\n",
    "all_sessions_v_bins = pd.cut(V_df['tail_base'], bins=50)\n",
    "\n",
    "V_df['velocity_bins'] = all_sessions_v_bins"
   ]
  },
  {
   "cell_type": "code",
   "execution_count": 12,
   "metadata": {
    "collapsed": false,
    "scrolled": true
   },
   "outputs": [
    {
     "name": "stderr",
     "output_type": "stream",
     "text": [
      "/home/jma819/.conda/envs/caiman/lib/python3.6/site-packages/jupyter_client/jsonutil.py:67: DeprecationWarning: Interpreting naive datetime as local 2021-02-25 19:12:39.437803. Please add timezone info to timestamps.\n",
      "  new_obj[k] = extract_dates(v)\n"
     ]
    }
   ],
   "source": [
    "filtered_for_analysis = {}\n",
    "for session in list(grouped_raw_data.keys()):\n",
    "    # get indicies of small cells \n",
    "    cells_to_drop = np.array([int(cell) for cell in range(1, len(grouped_raw_data[session]['cell_contours'])+1) if \n",
    "                              len(np.array(np.where(grouped_raw_data[session]['for_dims'][cell]>0.6)[0]))<100])\n",
    "    C_traces_filtered = grouped_raw_data[session]['C_normalized'].drop(cells_to_drop, axis=1)\n",
    "    filtered_for_analysis[session] = C_traces_filtered.drop('msCamFrame', axis=1)\n",
    "\n",
    "# sets sampling interval to 5Hz to correspond to behavior data \n",
    "C_norm_df = pd.concat([filtered_for_analysis[session].resample(str(new_sampling_interval)+'S').max()\n",
    "                  for session in list(filtered_for_analysis.keys())], axis=1, keys=list(filtered_for_analysis.keys()))\n",
    "\n",
    "# after downsampling convert back to regular index, timedelta is behaving oddly \n",
    "C_norm_df_reindexed = pd.concat([C_norm_df[session].reset_index(drop=True)\n",
    "                  for session in list(set(C_norm_df.columns.get_level_values(0)))], axis=1, keys=list(set(C_norm_df.columns.get_level_values(0))))\n",
    "# drop columns with all nan values\n",
    "#C_norm_df_reindexed.dropna(axis=1, how='all', inplace=True)"
   ]
  },
  {
   "cell_type": "code",
   "execution_count": 13,
   "metadata": {
    "collapsed": false,
    "scrolled": true
   },
   "outputs": [
    {
     "name": "stderr",
     "output_type": "stream",
     "text": [
      "/home/jma819/.conda/envs/caiman/lib/python3.6/site-packages/jupyter_client/jsonutil.py:67: DeprecationWarning: Interpreting naive datetime as local 2021-02-25 19:12:39.446516. Please add timezone info to timestamps.\n",
      "  new_obj[k] = extract_dates(v)\n"
     ]
    },
    {
     "data": {
      "text/plain": [
       "['GRIN035_H13_M31_S20',\n",
       " 'GRIN013_H13_M33_S54',\n",
       " 'GRIN027_H13_M29_S44',\n",
       " 'GRIN032_H16_M49_S22',\n",
       " 'GRIN035_H13_M50_S58',\n",
       " 'GRIN033_H14_M34_S32',\n",
       " 'GRIN034_H19_M0_S18',\n",
       " 'GRIN032_H17_M30_S22',\n",
       " 'GRIN034_H15_M28_S2',\n",
       " 'GRIN039_H12_M26_S54',\n",
       " 'GRIN026_H16_M35_S34',\n",
       " 'GRIN035_H14_M40_S34',\n",
       " 'GRIN033_H13_M42_S33',\n",
       " 'GRIN034_H16_M13_S22']"
      ]
     },
     "execution_count": 13,
     "metadata": {},
     "output_type": "execute_result"
    }
   ],
   "source": [
    "list(set(C_norm_df.columns.get_level_values(0)))"
   ]
  },
  {
   "cell_type": "code",
   "execution_count": 14,
   "metadata": {
    "collapsed": false
   },
   "outputs": [
    {
     "name": "stderr",
     "output_type": "stream",
     "text": [
      "/home/jma819/.conda/envs/caiman/lib/python3.6/site-packages/jupyter_client/jsonutil.py:67: DeprecationWarning: Interpreting naive datetime as local 2021-02-25 19:12:39.453066. Please add timezone info to timestamps.\n",
      "  new_obj[k] = extract_dates(v)\n"
     ]
    }
   ],
   "source": [
    "# do same for velocity dataframe\n",
    "V_df_reindexed = pd.concat([V_df.loc[session].reset_index()\n",
    "                            for session in list(set(V_df.index.get_level_values(level=0)))], keys=list(set(V_df.index.get_level_values(level=0)))) "
   ]
  },
  {
   "cell_type": "code",
   "execution_count": 15,
   "metadata": {
    "collapsed": false,
    "scrolled": true
   },
   "outputs": [
    {
     "name": "stderr",
     "output_type": "stream",
     "text": [
      "/home/jma819/.conda/envs/caiman/lib/python3.6/site-packages/jupyter_client/jsonutil.py:67: DeprecationWarning: Interpreting naive datetime as local 2021-02-25 19:12:39.459407. Please add timezone info to timestamps.\n",
      "  new_obj[k] = extract_dates(v)\n",
      "/home/jma819/post_cmfe_analysis/dlc_utils.py:207: RuntimeWarning: invalid value encountered in less\n",
      "  if not(any(df_column.values[point+1:point+active_time_threshold] < activity_threshold)):\n"
     ]
    }
   ],
   "source": [
    "#bin by activity threshold, using original samples here\n",
    "#inputs: (body_part, resting_time_threshold, active_time_threshold, crossing_threshold, resting_threshold, activity_threshold)\n",
    "binned_velocity_df = pd.DataFrame([dlc_utils.bin_by_activity_threshold_2(grouped_raw_data[session]['velocity_data']['tail_base'], 10, 10, 2, 5, 1)\n",
    "                                for session in list(grouped_raw_data.keys())], index=list(grouped_raw_data.keys()))\n",
    "binned_velocity_df = binned_velocity_df.transpose()"
   ]
  },
  {
   "cell_type": "code",
   "execution_count": 16,
   "metadata": {
    "collapsed": false,
    "scrolled": true
   },
   "outputs": [
    {
     "name": "stderr",
     "output_type": "stream",
     "text": [
      "/home/jma819/.conda/envs/caiman/lib/python3.6/site-packages/jupyter_client/jsonutil.py:67: DeprecationWarning: Interpreting naive datetime as local 2021-02-25 19:12:39.468494. Please add timezone info to timestamps.\n",
      "  new_obj[k] = extract_dates(v)\n"
     ]
    }
   ],
   "source": [
    "session = 'GRIN039_H12_M26_S54'"
   ]
  },
  {
   "cell_type": "code",
   "execution_count": 17,
   "metadata": {
    "collapsed": false,
    "scrolled": true
   },
   "outputs": [
    {
     "name": "stderr",
     "output_type": "stream",
     "text": [
      "/home/jma819/.conda/envs/caiman/lib/python3.6/site-packages/jupyter_client/jsonutil.py:67: DeprecationWarning: Interpreting naive datetime as local 2021-02-25 19:12:39.475639. Please add timezone info to timestamps.\n",
      "  new_obj[k] = extract_dates(v)\n",
      "/home/jma819/.conda/envs/caiman/lib/python3.6/site-packages/ipykernel_launcher.py:3: RuntimeWarning: invalid value encountered in less_equal\n",
      "  This is separate from the ipykernel package so we can avoid doing imports until\n"
     ]
    },
    {
     "data": {
      "image/png": "[encoded data removed]",
      "text/plain": [
       "<Figure size 432x288 with 1 Axes>"
      ]
     },
     "metadata": {
      "needs_background": "light"
     },
     "output_type": "display_data"
    }
   ],
   "source": [
    "#pull out \"resting periods\"\n",
    "velocity_trace = grouped_raw_data[session]['velocity_data']['tail_base'].values[200:300]\n",
    "resting_samples = velocity_trace<=1\n",
    "resting_boundaries = dlc_utils.get_resting_period_boundaries(resting_samples)\n",
    "\n",
    "#plot resting periods\n",
    "fig, ax = plt.subplots(1)\n",
    "ax.plot(np.linspace(0, len(velocity_trace), len(velocity_trace)) , velocity_trace)\n",
    "for bound in resting_boundaries:\n",
    "    ax.axvline(x=bound[0], linestyle='--', color='g')\n",
    "for bound in resting_boundaries:\n",
    "    ax.axvline(x=bound[1], linestyle='--', color='r')\n",
    "plt.show()\n"
   ]
  },
  {
   "cell_type": "code",
   "execution_count": 18,
   "metadata": {
    "collapsed": false,
    "scrolled": true
   },
   "outputs": [
    {
     "name": "stderr",
     "output_type": "stream",
     "text": [
      "/home/jma819/.conda/envs/caiman/lib/python3.6/site-packages/jupyter_client/jsonutil.py:67: DeprecationWarning: Interpreting naive datetime as local 2021-02-25 19:12:39.483046. Please add timezone info to timestamps.\n",
      "  new_obj[k] = extract_dates(v)\n",
      "/home/jma819/.conda/envs/caiman/lib/python3.6/site-packages/ipykernel_launcher.py:4: RuntimeWarning: invalid value encountered in less_equal\n",
      "  after removing the cwd from sys.path.\n"
     ]
    }
   ],
   "source": [
    "# get resting periods for all sessions\n",
    "resting_boundaries_by_session = {}\n",
    "for session in list(grouped_raw_data.keys()):\n",
    "    resting_samples = grouped_raw_data[session]['velocity_data']['tail_base'].values<=1\n",
    "    resting_boundaries_by_session[session] = dlc_utils.get_resting_period_boundaries(resting_samples)"
   ]
  },
  {
   "cell_type": "code",
   "execution_count": 19,
   "metadata": {
    "collapsed": false,
    "scrolled": false
   },
   "outputs": [
    {
     "name": "stderr",
     "output_type": "stream",
     "text": [
      "/home/jma819/.conda/envs/caiman/lib/python3.6/site-packages/jupyter_client/jsonutil.py:67: DeprecationWarning: Interpreting naive datetime as local 2021-02-25 19:12:39.491915. Please add timezone info to timestamps.\n",
      "  new_obj[k] = extract_dates(v)\n"
     ]
    },
    {
     "data": {
      "text/plain": [
       "[<matplotlib.lines.Line2D at 0x2af59c3c3e80>]"
      ]
     },
     "execution_count": 19,
     "metadata": {},
     "output_type": "execute_result"
    },
    {
     "data": {
      "image/png": "[encoded data removed]",
      "text/plain": [
       "<Figure size 432x288 with 1 Axes>"
      ]
     },
     "metadata": {
      "needs_background": "light"
     },
     "output_type": "display_data"
    }
   ],
   "source": [
    "plt.plot(binned_velocity_df['GRIN035_H13_M50_S58'])"
   ]
  },
  {
   "cell_type": "code",
   "execution_count": 20,
   "metadata": {
    "collapsed": false
   },
   "outputs": [
    {
     "name": "stderr",
     "output_type": "stream",
     "text": [
      "/home/jma819/.conda/envs/caiman/lib/python3.6/site-packages/jupyter_client/jsonutil.py:67: DeprecationWarning: Interpreting naive datetime as local 2021-02-25 19:12:39.497269. Please add timezone info to timestamps.\n",
      "  new_obj[k] = extract_dates(v)\n"
     ]
    }
   ],
   "source": [
    "##get threshold crossing indicies from binned velocity df\n",
    "crossing_indicies_from_velocity_df = {}\n",
    "for session in list(grouped_raw_data.keys()):\n",
    "    # gets indicies where animal crosses a velocity threshold\n",
    "    # these indicies are from resampled df, need to find aligned section in resampled df \n",
    "    crossing_indicies = [sample for sample in utils_jjm.select_trigger_regions(binned_velocity_df[session], 0.5, 0.5, 20) if sample<len(grouped_raw_data[session]['C_normalized'])]\n",
    "    # exclude regions with large nan contributions\n",
    "    nan_values_to_exclude = [crossing_idx for crossing_idx in crossing_indicies if grouped_raw_data[session]['velocity_data'].iloc[crossing_idx:crossing_idx+10]['tail_base'].isna().sum()>1]        \n",
    "    crossing_indicies_from_velocity_df[session] = [idx for idx in crossing_indicies if idx not in nan_values_to_exclude]\n",
    "\n",
    "#get movement offset points\n",
    "movement_offset_points_bysession = {session : dlc_utils.get_movement_offset_points(crossing_indicies_from_velocity_df[session], 1, grouped_raw_data[session]['velocity_data']['tail_base'])\n",
    "                                                                        for session in crossing_indicies_from_velocity_df.keys()}"
   ]
  },
  {
   "cell_type": "code",
   "execution_count": 23,
   "metadata": {
    "collapsed": false,
    "scrolled": true
   },
   "outputs": [
    {
     "name": "stdout",
     "output_type": "stream",
     "text": [
      "session: GRIN039_H12_M26_S54\n",
      "threshold crossing indicies (from velocity data): [4072, 4122, 4812, 5041, 5338, 5411, 6071, 7079, 7191, 7285, 7310, 14474, 17019, 31946, 32470, 32640, 32668, 37758, 37992, 38018, 38063]\n",
      "cell indicies: [1, 2, 3, 4, 6, 8, 9, 10, 11, 12, 14, 15, 16, 17, 18, 20, 21, 22, 23, 24, 25, 26, 32, 34, 38, 39, 40, 43, 44, 45, 47, 48, 49, 50, 51, 52, 53, 54, 55, 56, 57, 58, 59, 61, 62, 63, 64, 65, 66, 67, 68, 70, 72, 74, 75, 77, 78, 80, 81, 82, 86, 87, 89, 92]\n"
     ]
    },
    {
     "name": "stderr",
     "output_type": "stream",
     "text": [
      "/home/jma819/.conda/envs/caiman/lib/python3.6/site-packages/jupyter_client/jsonutil.py:67: DeprecationWarning: Interpreting naive datetime as local 2021-02-25 19:15:43.832751. Please add timezone info to timestamps.\n",
      "  new_obj[k] = extract_dates(v)\n"
     ]
    }
   ],
   "source": [
    "session = 'GRIN039_H12_M26_S54'\n",
    "#session_df = z_scored_regions_by_session[session]\n",
    "sample_crossing_indicies = crossing_indicies_from_velocity_df[session]\n",
    "print('session:', session)\n",
    "print('threshold crossing indicies (from velocity data):' , sample_crossing_indicies)\n",
    "print('cell indicies:' , list(set(C_norm_df[session].columns)))\n"
   ]
  },
  {
   "cell_type": "code",
   "execution_count": 24,
   "metadata": {
    "collapsed": false,
    "scrolled": true
   },
   "outputs": [
    {
     "name": "stdout",
     "output_type": "stream",
     "text": [
      "sample crossing index:  4122\n",
      "event occurs at  6187.0  total frames\n",
      "behavCam  7  at  187.0  frames\n"
     ]
    },
    {
     "name": "stderr",
     "output_type": "stream",
     "text": [
      "/home/jma819/.conda/envs/caiman/lib/python3.6/site-packages/jupyter_client/jsonutil.py:67: DeprecationWarning: Interpreting naive datetime as local 2021-02-25 19:15:44.918482. Please add timezone info to timestamps.\n",
      "  new_obj[k] = extract_dates(v)\n"
     ]
    }
   ],
   "source": [
    "idx = 1\n",
    "index = sample_crossing_indicies[idx]\n",
    "print('sample crossing index: ', index)\n",
    "frame_threshold_crossing = grouped_raw_data[session]['velocity_data'].iloc[index]['behavCam_frames']\n",
    "behavCam_video = int(frame_threshold_crossing/1000)+1\n",
    "frames_within_video =frame_threshold_crossing%1000\n",
    "print('event occurs at ', frame_threshold_crossing, ' total frames')\n",
    "print('behavCam ', behavCam_video, ' at ', frames_within_video, ' frames')"
   ]
  },
  {
   "cell_type": "code",
   "execution_count": 25,
   "metadata": {
    "collapsed": false,
    "scrolled": true
   },
   "outputs": [
    {
     "name": "stderr",
     "output_type": "stream",
     "text": [
      "/home/jma819/.conda/envs/caiman/lib/python3.6/site-packages/jupyter_client/jsonutil.py:67: DeprecationWarning: Interpreting naive datetime as local 2021-02-25 19:15:50.623522. Please add timezone info to timestamps.\n",
      "  new_obj[k] = extract_dates(v)\n"
     ]
    }
   ],
   "source": [
    "#ani"
   ]
  },
  {
   "cell_type": "code",
   "execution_count": 26,
   "metadata": {
    "collapsed": false
   },
   "outputs": [
    {
     "name": "stderr",
     "output_type": "stream",
     "text": [
      "/home/jma819/.conda/envs/caiman/lib/python3.6/site-packages/jupyter_client/jsonutil.py:67: DeprecationWarning: Interpreting naive datetime as local 2021-02-25 19:15:51.544710. Please add timezone info to timestamps.\n",
      "  new_obj[k] = extract_dates(v)\n"
     ]
    }
   ],
   "source": [
    "#now have bounds of movement region\n",
    "#pull out these regions and bin by maybe 1 second to calcuate velocity \n",
    "\n",
    "moving_periods_by_session = {}\n",
    "for session in crossing_indicies_from_velocity_df.keys():\n",
    "    moving_indicies = [(start_idx, end_idx) for start_idx, end_idx in zip(crossing_indicies_from_velocity_df[session], movement_offset_points_bysession[session])]\n",
    "    moving_periods_in_session = pd.DataFrame({k:v for k,v in zip([(start_idx, end_idx) for start_idx, end_idx in zip(crossing_indicies_from_velocity_df[session], movement_offset_points_bysession[session])], \n",
    "                                                             [grouped_raw_data[session]['velocity_data']['tail_base'].iloc[moving_indicies[period][0]:moving_indicies[period][1]].reset_index(drop=True)\n",
    "                             for period in range(len(moving_indicies))])})\n",
    "    moving_periods_by_session[session]=moving_periods_in_session"
   ]
  },
  {
   "cell_type": "code",
   "execution_count": 27,
   "metadata": {
    "collapsed": false
   },
   "outputs": [
    {
     "name": "stderr",
     "output_type": "stream",
     "text": [
      "/home/jma819/.conda/envs/caiman/lib/python3.6/site-packages/jupyter_client/jsonutil.py:67: DeprecationWarning: Interpreting naive datetime as local 2021-02-25 19:16:01.581083. Please add timezone info to timestamps.\n",
      "  new_obj[k] = extract_dates(v)\n"
     ]
    }
   ],
   "source": [
    "#for comparison, pull out the fluorescence during period preceeding movement event\n",
    "def pull_out_fluorescence_from_velocity_bounds(velocity_trace_boundaries, velocity_trace, fluorescence_trace):\n",
    "    \"\"\"velocity trace and fluorescence trace are indexed by timedeltas\n",
    "        e.g velocity_trace=grouped_raw_data[session]['velocity_data']\n",
    "        fluorescence_trace=C_norm_df[session]\n",
    "    \"\"\"\n",
    "    #convert indicies to timedelta and exclude those outside period of fluorescence recording\n",
    "    movement_boundaries_time_delta = [(velocity_trace.iloc[movement_bounds[0]].name, velocity_trace.iloc[movement_bounds[1]].name) for movement_bounds in velocity_trace_boundaries if velocity_trace.iloc[movement_bounds[0]].name<C_norm_df[session].iloc[-1].name]\n",
    "    #parallel this \n",
    "    movement_boundaries_Cdf = [(dlc_utils.nearest(fluorescence_trace.index, movement_bound[0]), dlc_utils.nearest(fluorescence_trace.index, movement_bound[1])) for movement_bound in tqdm(movement_boundaries_time_delta)]\n",
    "    #\n",
    "    fluorescence_during_periods = pd.concat([fluorescence_trace.loc[movement_bound_Cdf[0]:movement_bound_Cdf[1]].reset_index(drop=True) for movement_bound_Cdf in movement_boundaries_Cdf], axis=0, keys=movement_boundaries_Cdf)\n",
    "    return(fluorescence_during_periods)"
   ]
  },
  {
   "cell_type": "code",
   "execution_count": 31,
   "metadata": {
    "collapsed": false
   },
   "outputs": [
    {
     "name": "stderr",
     "output_type": "stream",
     "text": [
      "/home/jma819/.conda/envs/caiman/lib/python3.6/site-packages/jupyter_client/jsonutil.py:67: DeprecationWarning: Interpreting naive datetime as local 2021-02-25 19:22:52.410778. Please add timezone info to timestamps.\n",
      "  new_obj[k] = extract_dates(v)\n"
     ]
    }
   ],
   "source": [
    "#for each session, pull out the fluorescence during a movement event\n",
    "def return_movement_and_rest_for_session(session, moving_periods_by_session, resting_boundaries_by_session, grouped_raw_data, \n",
    "                                         C_norm_df, resting_period_threshold):\n",
    "    \n",
    "    movement_boundaries = list(moving_periods_by_session[session].columns)\n",
    "    pre_movement_boundaries = [(movement_bound[0]-80, movement_bound[0]) for movement_bound in movement_boundaries]\n",
    "\n",
    "    #filter out short \"resting\" periods \n",
    "    resting_boundaries_long = [(boundary[0], boundary[1]) for boundary in resting_boundaries_by_session[session] if (boundary[1]-boundary[0]>resting_period_threshold)]\n",
    "    \n",
    "    if len(movement_boundaries)>0:\n",
    "        movement_fluorescence = pull_out_fluorescence_from_velocity_bounds(movement_boundaries, grouped_raw_data[session]['velocity_data'], C_norm_df[session])\n",
    "        pre_movement_fluorescence = pull_out_fluorescence_from_velocity_bounds(pre_movement_boundaries, grouped_raw_data[session]['velocity_data'], C_norm_df[session])\n",
    "    else:\n",
    "        movement_fluorescence = []\n",
    "        pre_movement_fluorescence = []\n",
    "    \n",
    "    if len(resting_boundaries_long)>0:\n",
    "        resting_fluorescence = pull_out_fluorescence_from_velocity_bounds(resting_boundaries_long[:-1], grouped_raw_data[session]['velocity_data'], C_norm_df[session])\n",
    "    else:\n",
    "        resting_fluorescence = []\n",
    "    \n",
    "    return({'movement_fluorescence':movement_fluorescence, 'pre_movement_fluorescence':pre_movement_fluorescence, 'resting_fluorescence':resting_fluorescence})"
   ]
  },
  {
   "cell_type": "code",
   "execution_count": 32,
   "metadata": {
    "collapsed": false
   },
   "outputs": [
    {
     "name": "stderr",
     "output_type": "stream",
     "text": [
      "/home/jma819/.conda/envs/caiman/lib/python3.6/site-packages/jupyter_client/jsonutil.py:67: DeprecationWarning: Interpreting naive datetime as local 2021-02-25 19:22:53.460770. Please add timezone info to timestamps.\n",
      "  new_obj[k] = extract_dates(v)\n",
      "100%|██████████| 21/21 [00:09<00:00,  2.18it/s]\n",
      "100%|██████████| 21/21 [00:09<00:00,  2.19it/s]\n",
      "100%|██████████| 9/9 [00:03<00:00,  2.24it/s]\n"
     ]
    },
    {
     "data": {
      "text/plain": [
       "{'movement_fluorescence':                                          1         2             3         4   \\\n",
       " 00:03:23.800000 00:03:25.400000 0  0.047890  0.022305  5.402612e-07  0.257811   \n",
       "                                 1  0.044591  0.020545  4.078499e-07  0.332386   \n",
       "                                 2  0.051652  0.017431  3.078909e-07  0.286311   \n",
       "                                 3  0.080016  0.022822  2.324307e-07  0.333039   \n",
       "                                 4  0.060140  0.031014  1.754648e-07  0.280279   \n",
       " ...                                     ...       ...           ...       ...   \n",
       " 00:31:44.400000 00:31:45.400000 1  0.000008  0.056231  1.190196e-02  0.372648   \n",
       "                                 2  0.000005  0.056826  9.991242e-03  0.263882   \n",
       "                                 3  0.000004  0.047632  9.303904e-03  0.416396   \n",
       "                                 4  0.010155  0.104610  8.959011e-02  0.672701   \n",
       "                                 5  0.009232  0.142079  8.342684e-02  0.566080   \n",
       " \n",
       "                                          6         8         9         10  \\\n",
       " 00:03:23.800000 00:03:25.400000 0  0.726868  0.726850  0.763917  0.118427   \n",
       "                                 1  0.726856  0.726866  0.756968  0.137189   \n",
       "                                 2  0.726838  0.726874  0.761652  0.154609   \n",
       "                                 3  0.726825  0.726873  0.767153  0.167196   \n",
       "                                 4  0.726816  0.726856  0.757836  0.212373   \n",
       " ...                                     ...       ...       ...       ...   \n",
       " 00:31:44.400000 00:31:45.400000 1  0.727153  0.726892  0.751273  0.068152   \n",
       "                                 2  0.727151  0.726885  0.747791  0.043513   \n",
       "                                 3  0.727083  0.726876  0.750308  0.027782   \n",
       "                                 4  0.727295  0.726880  0.749429  0.017738   \n",
       "                                 5  0.727138  0.726909  0.749581  0.099166   \n",
       " \n",
       "                                              11        12  ...        75  \\\n",
       " 00:03:23.800000 00:03:25.400000 0  9.712238e-02  0.243234  ...  0.000132   \n",
       "                                 1  1.709981e-01  0.230699  ...  0.000063   \n",
       "                                 2  1.868176e-01  0.282086  ...  0.000030   \n",
       "                                 3  1.491463e-01  0.215525  ...  0.000014   \n",
       "                                 4  1.053859e-01  0.261059  ...  0.000007   \n",
       " ...                                         ...       ...  ...       ...   \n",
       " 00:31:44.400000 00:31:45.400000 1  4.797499e-09  0.260734  ...  0.016050   \n",
       "                                 2  2.740995e-09  0.237662  ...  0.009426   \n",
       "                                 3  1.566036e-09  0.216632  ...  0.018565   \n",
       "                                 4  8.947363e-10  0.197462  ...  0.081250   \n",
       "                                 5  5.111972e-10  0.179989  ...  0.149912   \n",
       " \n",
       "                                          77        78        80        81  \\\n",
       " 00:03:23.800000 00:03:25.400000 0  0.257191  0.764735  0.482459  0.711548   \n",
       "                                 1  0.257185  0.764795  0.482357  0.709324   \n",
       "                                 2  0.257182  0.764729  0.482338  0.719479   \n",
       "                                 3  0.257172  0.765295  0.482437  0.714752   \n",
       "                                 4  0.257166  0.764796  0.482384  0.709154   \n",
       " ...                                     ...       ...       ...       ...   \n",
       " 00:31:44.400000 00:31:45.400000 1  0.513442  1.056936  0.482421  0.963152   \n",
       "                                 2  0.509977  0.871745  0.482405  0.725684   \n",
       "                                 3  0.506558  1.103826  0.482391  0.728337   \n",
       "                                 4  0.503186  0.894786  0.482378  0.822022   \n",
       "                                 5  0.499859  0.982752  0.482367  0.950800   \n",
       " \n",
       "                                          82        86        87        89  \\\n",
       " 00:03:23.800000 00:03:25.400000 0  0.746569  0.000113  0.002308  0.022025   \n",
       "                                 1  0.746662  0.000095  0.003159  0.012030   \n",
       "                                 2  0.746591  0.000080  0.003055  0.006570   \n",
       "                                 3  0.746642  0.000067  0.002676  0.003589   \n",
       "                                 4  0.746763  0.000056  0.002343  0.001960   \n",
       " ...                                     ...       ...       ...       ...   \n",
       " 00:31:44.400000 00:31:45.400000 1  0.746949  0.026094  0.038995  0.130416   \n",
       "                                 2  0.746902  0.025422  0.035305  0.128905   \n",
       "                                 3  0.746846  0.024767  0.031963  0.127412   \n",
       "                                 4  0.746948  0.024129  0.028938  0.125936   \n",
       "                                 5  0.746977  0.023507  0.026200  0.124477   \n",
       " \n",
       "                                          92  \n",
       " 00:03:23.800000 00:03:25.400000 0  0.002354  \n",
       "                                 1  0.002516  \n",
       "                                 2  0.001832  \n",
       "                                 3  0.002377  \n",
       "                                 4  0.002005  \n",
       " ...                                     ...  \n",
       " 00:31:44.400000 00:31:45.400000 1  0.588484  \n",
       "                                 2  0.610750  \n",
       "                                 3  0.459425  \n",
       "                                 4  0.490142  \n",
       "                                 5  0.456467  \n",
       " \n",
       " [107 rows x 64 columns],\n",
       " 'pre_movement_fluorescence':                                           1         2         3         4   \\\n",
       " 00:03:19.800000 00:03:23.800000 0   0.050436  0.086361  0.000150  0.250361   \n",
       "                                 1   0.039231  0.079548  0.000113  0.502607   \n",
       "                                 2   0.101005  0.067491  0.000085  0.363501   \n",
       "                                 3   0.081534  0.057261  0.000064  0.426133   \n",
       "                                 4   0.072434  0.048582  0.000049  0.358625   \n",
       " ...                                      ...       ...       ...       ...   \n",
       " 00:31:40.400000 00:31:44.400000 16  0.000053  0.073625  0.009913  0.727805   \n",
       "                                 17  0.000036  0.056501  0.007454  0.515378   \n",
       "                                 18  0.000025  0.039698  0.011818  0.364953   \n",
       "                                 19  0.000017  0.071039  0.011005  0.743152   \n",
       "                                 20  0.000011  0.059546  0.012781  0.526245   \n",
       " \n",
       "                                           6         8         9         10  \\\n",
       " 00:03:19.800000 00:03:23.800000 0   0.726797  0.726922  0.761504  0.175961   \n",
       "                                 1   0.726797  0.726895  0.749635  0.185783   \n",
       "                                 2   0.726797  0.726929  0.752604  0.151089   \n",
       "                                 3   0.726797  0.726908  0.770134  0.210105   \n",
       "                                 4   0.726797  0.726894  0.764962  0.188594   \n",
       " ...                                      ...       ...       ...       ...   \n",
       " 00:31:40.400000 00:31:44.400000 16  0.727047  0.726908  0.754725  0.070586   \n",
       "                                 17  0.727142  0.726905  0.750907  0.410116   \n",
       "                                 18  0.727021  0.726894  0.747461  0.261848   \n",
       "                                 19  0.727117  0.726898  0.759401  0.167183   \n",
       "                                 20  0.727057  0.726890  0.755129  0.106742   \n",
       " \n",
       "                                               11        12  ...        75  \\\n",
       " 00:03:19.800000 00:03:23.800000 0   1.687103e-01  0.237334  ...  0.019112   \n",
       "                                 1   6.853625e-02  0.254167  ...  0.009099   \n",
       "                                 2   4.744760e-02  0.278979  ...  0.004332   \n",
       "                                 3   3.024151e-02  0.253777  ...  0.002062   \n",
       "                                 4   8.582970e-02  0.269318  ...  0.000982   \n",
       " ...                                          ...       ...  ...       ...   \n",
       " 00:31:40.400000 00:31:44.400000 16  7.880392e-08  0.268071  ...  0.016913   \n",
       "                                 17  4.502371e-08  0.244350  ...  0.046438   \n",
       "                                 18  2.572377e-08  0.328695  ...  0.035587   \n",
       "                                 19  1.469698e-08  0.313815  ...  0.040739   \n",
       "                                 20  8.396948e-09  0.286046  ...  0.027330   \n",
       " \n",
       "                                           77        78        80        81  \\\n",
       " 00:03:19.800000 00:03:23.800000 0   0.257207  0.764607  0.483312  0.716294   \n",
       "                                 1   0.257197  0.764903  0.482755  0.722403   \n",
       "                                 2   0.257206  0.764732  0.482495  0.718410   \n",
       "                                 3   0.257216  0.764628  0.482374  0.720325   \n",
       "                                 4   0.257205  0.764720  0.482743  0.715509   \n",
       " ...                                      ...       ...       ...       ...   \n",
       " 00:31:40.400000 00:31:44.400000 16  0.531494  1.196385  0.482530  0.851497   \n",
       "                                 17  0.527785  0.994838  0.482504  0.889141   \n",
       "                                 18  0.524125  0.891123  0.482479  0.883155   \n",
       "                                 19  0.520516  1.099738  0.482458  0.794863   \n",
       "                                 20  0.516955  1.082410  0.482438  0.874442   \n",
       " \n",
       "                                           82        86        87        89  \\\n",
       " 00:03:19.800000 00:03:23.800000 0   0.746615  0.000005  0.004017  0.000029   \n",
       "                                 1   0.746594  0.000004  0.003518  0.002820   \n",
       "                                 2   0.746556  0.000004  0.003080  0.001540   \n",
       "                                 3   0.746676  0.000003  0.002698  0.000841   \n",
       "                                 4   0.746551  0.000003  0.002362  0.000460   \n",
       " ...                                      ...       ...       ...       ...   \n",
       " 00:31:40.400000 00:31:44.400000 16  0.746941  0.029733  0.064107  0.138239   \n",
       "                                 17  0.747081  0.028967  0.058040  0.136638   \n",
       "                                 18  0.746885  0.028220  0.052547  0.135055   \n",
       "                                 19  0.746689  0.027493  0.047574  0.133491   \n",
       "                                 20  0.746766  0.026785  0.043071  0.131944   \n",
       " \n",
       "                                           92  \n",
       " 00:03:19.800000 00:03:23.800000 0   0.003772  \n",
       "                                 1   0.002698  \n",
       "                                 2   0.002598  \n",
       "                                 3   0.002205  \n",
       "                                 4   0.002485  \n",
       " ...                                      ...  \n",
       " 00:31:40.400000 00:31:44.400000 16  0.452848  \n",
       "                                 17  0.476364  \n",
       "                                 18  0.413157  \n",
       "                                 19  0.501841  \n",
       "                                 20  0.631898  \n",
       " \n",
       " [442 rows x 64 columns],\n",
       " 'resting_fluorescence':                                            1         2         3         4   \\\n",
       " 00:02:11.200000 00:02:15.800000 0    0.059730  0.028842  0.101514  0.130864   \n",
       "                                 1    0.044894  0.024470  0.094624  0.174108   \n",
       "                                 2    0.071205  0.031867  0.071432  0.183132   \n",
       "                                 3    0.094102  0.030584  0.053925  0.186717   \n",
       "                                 4    0.091374  0.025949  0.094875  0.274612   \n",
       " ...                                       ...       ...       ...       ...   \n",
       " 00:23:01.600000 00:23:22.400000 100  0.041309  0.066345  0.062163  0.057764   \n",
       "                                 101  0.069778  0.103438  0.066395  0.044898   \n",
       "                                 102  0.073068  0.089887  0.052177  0.034897   \n",
       "                                 103  0.117593  0.095084  0.052993  0.063217   \n",
       "                                 104  0.207572  0.086587  0.044414  0.055733   \n",
       " \n",
       "                                            6         8         9         10  \\\n",
       " 00:02:11.200000 00:02:15.800000 0    0.726927  0.726870  0.731070  0.128856   \n",
       "                                 1    0.726887  0.726858  0.725951  0.094502   \n",
       "                                 2    0.726866  0.726879  0.733195  0.081699   \n",
       "                                 3    0.726982  0.726861  0.727379  0.054034   \n",
       "                                 4    0.727001  0.726863  0.723471  0.035737   \n",
       " ...                                       ...       ...       ...       ...   \n",
       " 00:23:01.600000 00:23:22.400000 100  0.727056  0.726908  0.735690  0.091523   \n",
       "                                 101  0.727036  0.726888  0.736824  0.118024   \n",
       "                                 102  0.727184  0.726889  0.731850  0.082475   \n",
       "                                 103  0.727126  0.726892  0.723865  0.051144   \n",
       "                                 104  0.727035  0.726868  0.721841  0.042212   \n",
       " \n",
       "                                            11        12  ...        75  \\\n",
       " 00:02:11.200000 00:02:15.800000 0    0.056620  0.045433  ...  0.006410   \n",
       "                                 1    0.179167  0.031115  ...  0.003674   \n",
       "                                 2    0.155332  0.040425  ...  0.001749   \n",
       "                                 3    0.079040  0.033454  ...  0.000833   \n",
       "                                 4    0.032109  0.031625  ...  0.000396   \n",
       " ...                                       ...       ...  ...       ...   \n",
       " 00:23:01.600000 00:23:22.400000 100  0.158098  0.262373  ...  0.028097   \n",
       "                                 101  0.159349  0.209585  ...  0.054066   \n",
       "                                 102  0.174962  0.167418  ...  0.055861   \n",
       "                                 103  0.137824  0.133734  ...  0.050396   \n",
       "                                 104  0.344811  0.106828  ...  0.035111   \n",
       " \n",
       "                                            77        78        80        81  \\\n",
       " 00:02:11.200000 00:02:15.800000 0    0.257183  0.765387  0.483533  0.708857   \n",
       "                                 1    0.257178  0.765009  0.483446  0.710124   \n",
       "                                 2    0.257186  0.765898  0.483372  0.697301   \n",
       "                                 3    0.257181  0.764985  0.483601  0.693670   \n",
       "                                 4    0.257178  0.764951  0.483499  0.706929   \n",
       " ...                                       ...       ...       ...       ...   \n",
       " 00:23:01.600000 00:23:22.400000 100  0.258684  0.781886  0.483469  0.705815   \n",
       "                                 101  0.258750  0.781281  0.484111  0.709439   \n",
       "                                 102  0.258749  0.781843  0.484354  0.709742   \n",
       "                                 103  0.258955  0.783268  0.484819  0.707480   \n",
       "                                 104  0.258887  0.781986  0.485648  0.699780   \n",
       " \n",
       "                                            82        86        87        89  \\\n",
       " 00:02:11.200000 00:02:15.800000 0    0.746477  0.000135  0.008540  0.156489   \n",
       "                                 1    0.746417  0.000221  0.007731  0.134530   \n",
       "                                 2    0.746383  0.000212  0.006770  0.183783   \n",
       "                                 3    0.746290  0.000178  0.007217  0.100380   \n",
       "                                 4    0.746240  0.000150  0.006320  0.116314   \n",
       " ...                                       ...       ...       ...       ...   \n",
       " 00:23:01.600000 00:23:22.400000 100  0.746496  0.000918  0.018624  0.123329   \n",
       "                                 101  0.746590  0.001118  0.018303  0.136334   \n",
       "                                 102  0.746476  0.001093  0.020504  0.079970   \n",
       "                                 103  0.746583  0.000901  0.021789  0.165945   \n",
       "                                 104  0.746379  0.000893  0.022691  0.127094   \n",
       " \n",
       "                                            92  \n",
       " 00:02:11.200000 00:02:15.800000 0    0.002027  \n",
       "                                 1    0.002025  \n",
       "                                 2    0.002371  \n",
       "                                 3    0.003442  \n",
       "                                 4    0.002904  \n",
       " ...                                       ...  \n",
       " 00:23:01.600000 00:23:22.400000 100  0.026204  \n",
       "                                 101  0.025435  \n",
       "                                 102  0.024689  \n",
       "                                 103  0.023964  \n",
       "                                 104  0.023261  \n",
       " \n",
       " [838 rows x 64 columns]}"
      ]
     },
     "execution_count": 32,
     "metadata": {},
     "output_type": "execute_result"
    }
   ],
   "source": [
    "return_movement_and_rest_for_session('GRIN039_H12_M26_S54', moving_periods_by_session, resting_boundaries_by_session, grouped_raw_data, C_norm_df, 90)"
   ]
  },
  {
   "cell_type": "code",
   "execution_count": 75,
   "metadata": {
    "collapsed": false
   },
   "outputs": [
    {
     "name": "stderr",
     "output_type": "stream",
     "text": [
      "/home/jma819/.conda/envs/caiman/lib/python3.6/site-packages/jupyter_client/jsonutil.py:67: DeprecationWarning: Interpreting naive datetime as local 2021-02-25 17:46:34.878463. Please add timezone info to timestamps.\n",
      "  new_obj[k] = extract_dates(v)\n",
      "100%|██████████| 21/21 [00:07<00:00,  2.65it/s]\n",
      "100%|██████████| 21/21 [00:07<00:00,  2.66it/s]\n",
      "100%|██████████| 9/9 [00:03<00:00,  2.71it/s]\n",
      "100%|██████████| 32/32 [00:11<00:00,  2.67it/s]\n",
      "100%|██████████| 32/32 [00:11<00:00,  2.69it/s]\n",
      "100%|██████████| 19/19 [00:06<00:00,  2.71it/s]\n",
      "100%|██████████| 23/23 [00:08<00:00,  2.74it/s]\n",
      "100%|██████████| 23/23 [00:08<00:00,  2.71it/s]\n",
      "100%|██████████| 1/1 [00:00<00:00,  2.76it/s]\n",
      "100%|██████████| 4/4 [00:01<00:00,  2.76it/s]\n",
      "100%|██████████| 4/4 [00:01<00:00,  2.75it/s]\n",
      "100%|██████████| 15/15 [00:05<00:00,  2.72it/s]\n",
      "100%|██████████| 19/19 [00:06<00:00,  2.69it/s]\n",
      "100%|██████████| 19/19 [00:07<00:00,  2.67it/s]\n",
      "100%|██████████| 32/32 [00:11<00:00,  2.74it/s]\n",
      "100%|██████████| 17/17 [00:06<00:00,  2.76it/s]\n",
      "100%|██████████| 17/17 [00:06<00:00,  2.77it/s]\n",
      "100%|██████████| 17/17 [00:06<00:00,  2.71it/s]\n",
      "100%|██████████| 5/5 [00:01<00:00,  2.83it/s]\n",
      "100%|██████████| 5/5 [00:01<00:00,  2.82it/s]\n",
      "100%|██████████| 35/35 [00:12<00:00,  2.76it/s]\n",
      "100%|██████████| 17/17 [00:06<00:00,  2.73it/s]\n",
      "100%|██████████| 17/17 [00:06<00:00,  2.70it/s]\n",
      "100%|██████████| 19/19 [00:06<00:00,  2.76it/s]\n",
      "100%|██████████| 5/5 [00:01<00:00,  2.81it/s]\n",
      "100%|██████████| 5/5 [00:01<00:00,  2.79it/s]\n",
      "100%|██████████| 29/29 [00:10<00:00,  2.74it/s]\n",
      "100%|██████████| 2/2 [00:00<00:00,  2.76it/s]\n",
      "100%|██████████| 2/2 [00:00<00:00,  2.78it/s]\n",
      "100%|██████████| 38/38 [00:13<00:00,  2.73it/s]\n",
      "100%|██████████| 3/3 [00:01<00:00,  2.74it/s]\n",
      "100%|██████████| 3/3 [00:01<00:00,  2.76it/s]\n",
      "100%|██████████| 13/13 [00:04<00:00,  2.76it/s]\n",
      "0it [00:00, ?it/s]\n"
     ]
    },
    {
     "ename": "ValueError",
     "evalue": "No objects to concatenate",
     "output_type": "error",
     "traceback": [
      "\u001b[0;31m---------------------------------------------------------------------------\u001b[0m",
      "\u001b[0;31mValueError\u001b[0m                                Traceback (most recent call last)",
      "\u001b[0;32m<ipython-input-75-9b33d7fcf78c>\u001b[0m in \u001b[0;36m<module>\u001b[0;34m\u001b[0m\n\u001b[1;32m      2\u001b[0m \u001b[0;31m#session_dict = return_movement_and_rest_for_session(session, moving_periods_by_session[session], resting_boundaries_by_session[session], grouped_raw_data[session]['velocity_data'], C_norm_df[session], 90)\u001b[0m\u001b[0;34m\u001b[0m\u001b[0;34m\u001b[0m\u001b[0;34m\u001b[0m\u001b[0m\n\u001b[1;32m      3\u001b[0m by_session = {session:return_movement_and_rest_for_session(session, moving_periods_by_session[session], resting_boundaries_by_session[session], \n\u001b[0;32m----> 4\u001b[0;31m                                                            grouped_raw_data[session]['velocity_data'], C_norm_df[session], 90) for session in crossing_indicies_from_velocity_df.keys()}\n\u001b[0m\u001b[1;32m      5\u001b[0m \u001b[0;34m\u001b[0m\u001b[0m\n\u001b[1;32m      6\u001b[0m \u001b[0;34m\u001b[0m\u001b[0m\n",
      "\u001b[0;32m<ipython-input-75-9b33d7fcf78c>\u001b[0m in \u001b[0;36m<dictcomp>\u001b[0;34m(.0)\u001b[0m\n\u001b[1;32m      2\u001b[0m \u001b[0;31m#session_dict = return_movement_and_rest_for_session(session, moving_periods_by_session[session], resting_boundaries_by_session[session], grouped_raw_data[session]['velocity_data'], C_norm_df[session], 90)\u001b[0m\u001b[0;34m\u001b[0m\u001b[0;34m\u001b[0m\u001b[0;34m\u001b[0m\u001b[0m\n\u001b[1;32m      3\u001b[0m by_session = {session:return_movement_and_rest_for_session(session, moving_periods_by_session[session], resting_boundaries_by_session[session], \n\u001b[0;32m----> 4\u001b[0;31m                                                            grouped_raw_data[session]['velocity_data'], C_norm_df[session], 90) for session in crossing_indicies_from_velocity_df.keys()}\n\u001b[0m\u001b[1;32m      5\u001b[0m \u001b[0;34m\u001b[0m\u001b[0m\n\u001b[1;32m      6\u001b[0m \u001b[0;34m\u001b[0m\u001b[0m\n",
      "\u001b[0;32m<ipython-input-41-3219f9a24b7e>\u001b[0m in \u001b[0;36mreturn_movement_and_rest_for_session\u001b[0;34m(session, movement_periods_for_session, resting_boundaries, velocity_data_for_session, fluorescence_data_for_session, resting_period_threshold)\u001b[0m\n\u001b[1;32m      9\u001b[0m     \u001b[0mlen\u001b[0m\u001b[0;34m(\u001b[0m\u001b[0mresting_boundaries_long\u001b[0m\u001b[0;34m)\u001b[0m\u001b[0;34m\u001b[0m\u001b[0;34m\u001b[0m\u001b[0m\n\u001b[1;32m     10\u001b[0m \u001b[0;34m\u001b[0m\u001b[0m\n\u001b[0;32m---> 11\u001b[0;31m     \u001b[0mmovement_fluorescence\u001b[0m \u001b[0;34m=\u001b[0m \u001b[0mpull_out_fluorescence_from_velocity_bounds\u001b[0m\u001b[0;34m(\u001b[0m\u001b[0mmovement_boundaries\u001b[0m\u001b[0;34m,\u001b[0m \u001b[0mvelocity_data_for_session\u001b[0m\u001b[0;34m,\u001b[0m \u001b[0mfluorescence_data_for_session\u001b[0m\u001b[0;34m)\u001b[0m\u001b[0;34m\u001b[0m\u001b[0;34m\u001b[0m\u001b[0m\n\u001b[0m\u001b[1;32m     12\u001b[0m     \u001b[0mpre_movement_fluorescence\u001b[0m \u001b[0;34m=\u001b[0m \u001b[0mpull_out_fluorescence_from_velocity_bounds\u001b[0m\u001b[0;34m(\u001b[0m\u001b[0mpre_movement_boundaries\u001b[0m\u001b[0;34m,\u001b[0m \u001b[0mvelocity_data_for_session\u001b[0m\u001b[0;34m,\u001b[0m \u001b[0mfluorescence_data_for_session\u001b[0m\u001b[0;34m)\u001b[0m\u001b[0;34m\u001b[0m\u001b[0;34m\u001b[0m\u001b[0m\n\u001b[1;32m     13\u001b[0m     \u001b[0mresting_fluorescence\u001b[0m \u001b[0;34m=\u001b[0m \u001b[0mpull_out_fluorescence_from_velocity_bounds\u001b[0m\u001b[0;34m(\u001b[0m\u001b[0mresting_boundaries_long\u001b[0m\u001b[0;34m[\u001b[0m\u001b[0;34m:\u001b[0m\u001b[0;34m-\u001b[0m\u001b[0;36m1\u001b[0m\u001b[0;34m]\u001b[0m\u001b[0;34m,\u001b[0m \u001b[0mvelocity_data_for_session\u001b[0m\u001b[0;34m,\u001b[0m \u001b[0mfluorescence_data_for_session\u001b[0m\u001b[0;34m)\u001b[0m\u001b[0;34m\u001b[0m\u001b[0;34m\u001b[0m\u001b[0m\n",
      "\u001b[0;32m<ipython-input-40-ca31b8d8169b>\u001b[0m in \u001b[0;36mpull_out_fluorescence_from_velocity_bounds\u001b[0;34m(velocity_trace_boundaries, velocity_trace, fluorescence_trace)\u001b[0m\n\u001b[1;32m     10\u001b[0m     \u001b[0mmovement_boundaries_Cdf\u001b[0m \u001b[0;34m=\u001b[0m \u001b[0;34m[\u001b[0m\u001b[0;34m(\u001b[0m\u001b[0mdlc_utils\u001b[0m\u001b[0;34m.\u001b[0m\u001b[0mnearest\u001b[0m\u001b[0;34m(\u001b[0m\u001b[0mfluorescence_trace\u001b[0m\u001b[0;34m.\u001b[0m\u001b[0mindex\u001b[0m\u001b[0;34m,\u001b[0m \u001b[0mmovement_bound\u001b[0m\u001b[0;34m[\u001b[0m\u001b[0;36m0\u001b[0m\u001b[0;34m]\u001b[0m\u001b[0;34m)\u001b[0m\u001b[0;34m,\u001b[0m \u001b[0mdlc_utils\u001b[0m\u001b[0;34m.\u001b[0m\u001b[0mnearest\u001b[0m\u001b[0;34m(\u001b[0m\u001b[0mfluorescence_trace\u001b[0m\u001b[0;34m.\u001b[0m\u001b[0mindex\u001b[0m\u001b[0;34m,\u001b[0m \u001b[0mmovement_bound\u001b[0m\u001b[0;34m[\u001b[0m\u001b[0;36m1\u001b[0m\u001b[0;34m]\u001b[0m\u001b[0;34m)\u001b[0m\u001b[0;34m)\u001b[0m \u001b[0;32mfor\u001b[0m \u001b[0mmovement_bound\u001b[0m \u001b[0;32min\u001b[0m \u001b[0mtqdm\u001b[0m\u001b[0;34m(\u001b[0m\u001b[0mmovement_boundaries_time_delta\u001b[0m\u001b[0;34m)\u001b[0m\u001b[0;34m]\u001b[0m\u001b[0;34m\u001b[0m\u001b[0;34m\u001b[0m\u001b[0m\n\u001b[1;32m     11\u001b[0m     \u001b[0;31m#\u001b[0m\u001b[0;34m\u001b[0m\u001b[0;34m\u001b[0m\u001b[0;34m\u001b[0m\u001b[0m\n\u001b[0;32m---> 12\u001b[0;31m     \u001b[0mfluorescence_during_periods\u001b[0m \u001b[0;34m=\u001b[0m \u001b[0mpd\u001b[0m\u001b[0;34m.\u001b[0m\u001b[0mconcat\u001b[0m\u001b[0;34m(\u001b[0m\u001b[0;34m[\u001b[0m\u001b[0mfluorescence_trace\u001b[0m\u001b[0;34m.\u001b[0m\u001b[0mloc\u001b[0m\u001b[0;34m[\u001b[0m\u001b[0mmovement_bound_Cdf\u001b[0m\u001b[0;34m[\u001b[0m\u001b[0;36m0\u001b[0m\u001b[0;34m]\u001b[0m\u001b[0;34m:\u001b[0m\u001b[0mmovement_bound_Cdf\u001b[0m\u001b[0;34m[\u001b[0m\u001b[0;36m1\u001b[0m\u001b[0;34m]\u001b[0m\u001b[0;34m]\u001b[0m\u001b[0;34m.\u001b[0m\u001b[0mreset_index\u001b[0m\u001b[0;34m(\u001b[0m\u001b[0mdrop\u001b[0m\u001b[0;34m=\u001b[0m\u001b[0;32mTrue\u001b[0m\u001b[0;34m)\u001b[0m \u001b[0;32mfor\u001b[0m \u001b[0mmovement_bound_Cdf\u001b[0m \u001b[0;32min\u001b[0m \u001b[0mmovement_boundaries_Cdf\u001b[0m\u001b[0;34m]\u001b[0m\u001b[0;34m,\u001b[0m \u001b[0maxis\u001b[0m\u001b[0;34m=\u001b[0m\u001b[0;36m0\u001b[0m\u001b[0;34m,\u001b[0m \u001b[0mkeys\u001b[0m\u001b[0;34m=\u001b[0m\u001b[0mmovement_boundaries_Cdf\u001b[0m\u001b[0;34m)\u001b[0m\u001b[0;34m\u001b[0m\u001b[0;34m\u001b[0m\u001b[0m\n\u001b[0m\u001b[1;32m     13\u001b[0m     \u001b[0;32mreturn\u001b[0m\u001b[0;34m(\u001b[0m\u001b[0mfluorescence_during_periods\u001b[0m\u001b[0;34m)\u001b[0m\u001b[0;34m\u001b[0m\u001b[0;34m\u001b[0m\u001b[0m\n",
      "\u001b[0;32m~/.conda/envs/caiman/lib/python3.6/site-packages/pandas/core/reshape/concat.py\u001b[0m in \u001b[0;36mconcat\u001b[0;34m(objs, axis, join, ignore_index, keys, levels, names, verify_integrity, sort, copy)\u001b[0m\n\u001b[1;32m    279\u001b[0m         \u001b[0mverify_integrity\u001b[0m\u001b[0;34m=\u001b[0m\u001b[0mverify_integrity\u001b[0m\u001b[0;34m,\u001b[0m\u001b[0;34m\u001b[0m\u001b[0;34m\u001b[0m\u001b[0m\n\u001b[1;32m    280\u001b[0m         \u001b[0mcopy\u001b[0m\u001b[0;34m=\u001b[0m\u001b[0mcopy\u001b[0m\u001b[0;34m,\u001b[0m\u001b[0;34m\u001b[0m\u001b[0;34m\u001b[0m\u001b[0m\n\u001b[0;32m--> 281\u001b[0;31m         \u001b[0msort\u001b[0m\u001b[0;34m=\u001b[0m\u001b[0msort\u001b[0m\u001b[0;34m,\u001b[0m\u001b[0;34m\u001b[0m\u001b[0;34m\u001b[0m\u001b[0m\n\u001b[0m\u001b[1;32m    282\u001b[0m     )\n\u001b[1;32m    283\u001b[0m \u001b[0;34m\u001b[0m\u001b[0m\n",
      "\u001b[0;32m~/.conda/envs/caiman/lib/python3.6/site-packages/pandas/core/reshape/concat.py\u001b[0m in \u001b[0;36m__init__\u001b[0;34m(self, objs, axis, join, keys, levels, names, ignore_index, verify_integrity, copy, sort)\u001b[0m\n\u001b[1;32m    327\u001b[0m \u001b[0;34m\u001b[0m\u001b[0m\n\u001b[1;32m    328\u001b[0m         \u001b[0;32mif\u001b[0m \u001b[0mlen\u001b[0m\u001b[0;34m(\u001b[0m\u001b[0mobjs\u001b[0m\u001b[0;34m)\u001b[0m \u001b[0;34m==\u001b[0m \u001b[0;36m0\u001b[0m\u001b[0;34m:\u001b[0m\u001b[0;34m\u001b[0m\u001b[0;34m\u001b[0m\u001b[0m\n\u001b[0;32m--> 329\u001b[0;31m             \u001b[0;32mraise\u001b[0m \u001b[0mValueError\u001b[0m\u001b[0;34m(\u001b[0m\u001b[0;34m\"No objects to concatenate\"\u001b[0m\u001b[0;34m)\u001b[0m\u001b[0;34m\u001b[0m\u001b[0;34m\u001b[0m\u001b[0m\n\u001b[0m\u001b[1;32m    330\u001b[0m \u001b[0;34m\u001b[0m\u001b[0m\n\u001b[1;32m    331\u001b[0m         \u001b[0;32mif\u001b[0m \u001b[0mkeys\u001b[0m \u001b[0;32mis\u001b[0m \u001b[0;32mNone\u001b[0m\u001b[0;34m:\u001b[0m\u001b[0;34m\u001b[0m\u001b[0;34m\u001b[0m\u001b[0m\n",
      "\u001b[0;31mValueError\u001b[0m: No objects to concatenate"
     ]
    }
   ],
   "source": [
    "session = 'GRIN039_H12_M26_S54'\n",
    "#session_dict = return_movement_and_rest_for_session(session, moving_periods_by_session[session], resting_boundaries_by_session[session], grouped_raw_data[session]['velocity_data'], C_norm_df[session], 90)\n",
    "by_session = {session:return_movement_and_rest_for_session(session, moving_periods_by_session[session], resting_boundaries_by_session[session], \n",
    "                                                           grouped_raw_data[session]['velocity_data'], C_norm_df[session], 90) for session in crossing_indicies_from_velocity_df.keys()}\n",
    "    \n",
    "    \n"
   ]
  },
  {
   "cell_type": "code",
   "execution_count": 65,
   "metadata": {
    "collapsed": false,
    "scrolled": false
   },
   "outputs": [
    {
     "name": "stderr",
     "output_type": "stream",
     "text": [
      "/home/jma819/.conda/envs/caiman/lib/python3.6/site-packages/jupyter_client/jsonutil.py:67: DeprecationWarning: Interpreting naive datetime as local 2021-02-25 17:31:54.871955. Please add timezone info to timestamps.\n",
      "  new_obj[k] = extract_dates(v)\n"
     ]
    }
   ],
   "source": [
    "#movement_fluorescence"
   ]
  },
  {
   "cell_type": "code",
   "execution_count": 66,
   "metadata": {
    "collapsed": false
   },
   "outputs": [
    {
     "name": "stderr",
     "output_type": "stream",
     "text": [
      "/home/jma819/.conda/envs/caiman/lib/python3.6/site-packages/jupyter_client/jsonutil.py:67: DeprecationWarning: Interpreting naive datetime as local 2021-02-25 17:31:55.480001. Please add timezone info to timestamps.\n",
      "  new_obj[k] = extract_dates(v)\n"
     ]
    }
   ],
   "source": [
    "#z score movement regions by resing regions "
   ]
  },
  {
   "cell_type": "code",
   "execution_count": 67,
   "metadata": {
    "collapsed": false
   },
   "outputs": [
    {
     "name": "stderr",
     "output_type": "stream",
     "text": [
      "/home/jma819/.conda/envs/caiman/lib/python3.6/site-packages/jupyter_client/jsonutil.py:67: DeprecationWarning: Interpreting naive datetime as local 2021-02-25 17:31:56.113578. Please add timezone info to timestamps.\n",
      "  new_obj[k] = extract_dates(v)\n"
     ]
    }
   ],
   "source": [
    "#get the mean and standard deviation of fluorescence activity during resting periods \n",
    "resting_mean_fluorescence_cells = resting_fluorescence.mean()\n",
    "resting_stdev_fluorescence_cells = resting_fluorescence.std()"
   ]
  },
  {
   "cell_type": "code",
   "execution_count": 68,
   "metadata": {
    "collapsed": false,
    "scrolled": true
   },
   "outputs": [
    {
     "name": "stderr",
     "output_type": "stream",
     "text": [
      "/home/jma819/.conda/envs/caiman/lib/python3.6/site-packages/jupyter_client/jsonutil.py:67: DeprecationWarning: Interpreting naive datetime as local 2021-02-25 17:31:56.757358. Please add timezone info to timestamps.\n",
      "  new_obj[k] = extract_dates(v)\n"
     ]
    }
   ],
   "source": [
    "movement_onsets = list(movement_fluorescence.index.levels[0])\n",
    "movement_offsets = list(movement_fluorescence.index.levels[1])\n",
    "rest_onsets = list(resting_fluorescence.index.levels[0])\n",
    "rest_offsets = list(resting_fluorescence.index.levels[1])"
   ]
  },
  {
   "cell_type": "code",
   "execution_count": 69,
   "metadata": {
    "collapsed": false
   },
   "outputs": [
    {
     "name": "stderr",
     "output_type": "stream",
     "text": [
      "/home/jma819/.conda/envs/caiman/lib/python3.6/site-packages/jupyter_client/jsonutil.py:67: DeprecationWarning: Interpreting naive datetime as local 2021-02-25 17:32:01.779247. Please add timezone info to timestamps.\n",
      "  new_obj[k] = extract_dates(v)\n"
     ]
    }
   ],
   "source": [
    "#use the resting mean and standard deviation values to z score \n",
    "#z score movement regions\n",
    "z_scored_movement_regions = pd.concat([(movement_fluorescence.loc[movement_onset].loc[movement_offset]-resting_mean_fluorescence_cells)/resting_stdev_fluorescence_cells\n",
    "                                       for movement_onset, movement_offset in zip(movement_onsets, movement_offsets)], keys=list(zip(movement_onsets, movement_offsets)))\n",
    "#z score rest regions\n",
    "z_scored_rest_regions = pd.concat([(resting_fluorescence.loc[rest_onset].loc[rest_offset]-resting_mean_fluorescence_cells)/resting_stdev_fluorescence_cells\n",
    "                                   for rest_onset, rest_offset in zip(rest_onsets, rest_offsets)], keys=list(zip(rest_onsets, rest_offsets)))"
   ]
  },
  {
   "cell_type": "code",
   "execution_count": 70,
   "metadata": {
    "collapsed": false,
    "scrolled": false
   },
   "outputs": [
    {
     "name": "stderr",
     "output_type": "stream",
     "text": [
      "/home/jma819/.conda/envs/caiman/lib/python3.6/site-packages/jupyter_client/jsonutil.py:67: DeprecationWarning: Interpreting naive datetime as local 2021-02-25 17:32:03.355620. Please add timezone info to timestamps.\n",
      "  new_obj[k] = extract_dates(v)\n"
     ]
    }
   ],
   "source": [
    "#calculate the \"event probability\"\n",
    "z_score_threshold = 2"
   ]
  },
  {
   "cell_type": "code",
   "execution_count": 71,
   "metadata": {
    "collapsed": false
   },
   "outputs": [
    {
     "name": "stderr",
     "output_type": "stream",
     "text": [
      "/home/jma819/.conda/envs/caiman/lib/python3.6/site-packages/jupyter_client/jsonutil.py:67: DeprecationWarning: Interpreting naive datetime as local 2021-02-25 17:32:04.086462. Please add timezone info to timestamps.\n",
      "  new_obj[k] = extract_dates(v)\n"
     ]
    }
   ],
   "source": [
    "cell_event_probability_movement = pd.DataFrame({cell:np.count_nonzero(z_scored_movement_regions[cell].values>z_score_threshold)/len(z_scored_movement_regions) \n",
    "                                                for cell in list(z_scored_movement_regions.columns)}, index=['event probability'])"
   ]
  },
  {
   "cell_type": "code",
   "execution_count": 72,
   "metadata": {
    "collapsed": false,
    "scrolled": false
   },
   "outputs": [
    {
     "name": "stderr",
     "output_type": "stream",
     "text": [
      "/home/jma819/.conda/envs/caiman/lib/python3.6/site-packages/jupyter_client/jsonutil.py:67: DeprecationWarning: Interpreting naive datetime as local 2021-02-25 17:32:04.608018. Please add timezone info to timestamps.\n",
      "  new_obj[k] = extract_dates(v)\n"
     ]
    }
   ],
   "source": [
    "cell_event_probability_rest = pd.DataFrame({cell:np.count_nonzero(z_scored_rest_regions[cell].values>z_score_threshold)/len(z_scored_rest_regions) \n",
    "                                            for cell in list(z_scored_rest_regions.columns)}, index=['event probability'])\n"
   ]
  },
  {
   "cell_type": "code",
   "execution_count": 73,
   "metadata": {
    "collapsed": false
   },
   "outputs": [
    {
     "name": "stderr",
     "output_type": "stream",
     "text": [
      "/home/jma819/.conda/envs/caiman/lib/python3.6/site-packages/jupyter_client/jsonutil.py:67: DeprecationWarning: Interpreting naive datetime as local 2021-02-25 17:32:05.189072. Please add timezone info to timestamps.\n",
      "  new_obj[k] = extract_dates(v)\n"
     ]
    },
    {
     "data": {
      "image/png": "[encoded data removed]",
      "text/plain": [
       "<Figure size 432x288 with 2 Axes>"
      ]
     },
     "metadata": {
      "needs_background": "light"
     },
     "output_type": "display_data"
    }
   ],
   "source": [
    "##\n",
    "fig, (ax1, ax2) = plt.subplots(2, 1)\n",
    "ax1.scatter(list(cell_event_probability_movement.columns), cell_event_probability_movement.loc['event probability'])\n",
    "ax1.set_ylim(-0.03, cell_event_probability_movement.loc['event probability'].max()+0.1)\n",
    "ax2.scatter(list(cell_event_probability_rest.columns), cell_event_probability_rest.loc['event probability'])\n",
    "ax2.set_ylim(-0.03, cell_event_probability_movement.loc['event probability'].max()+0.1)\n",
    "plt.show()\n",
    "\n"
   ]
  },
  {
   "cell_type": "code",
   "execution_count": 74,
   "metadata": {
    "collapsed": false
   },
   "outputs": [
    {
     "name": "stderr",
     "output_type": "stream",
     "text": [
      "/home/jma819/.conda/envs/caiman/lib/python3.6/site-packages/jupyter_client/jsonutil.py:67: DeprecationWarning: Interpreting naive datetime as local 2021-02-25 17:32:11.333877. Please add timezone info to timestamps.\n",
      "  new_obj[k] = extract_dates(v)\n"
     ]
    },
    {
     "data": {
      "image/png": "[encoded data removed]",
      "text/plain": [
       "<Figure size 432x288 with 1 Axes>"
      ]
     },
     "metadata": {
      "needs_background": "light"
     },
     "output_type": "display_data"
    },
    {
     "name": "stdout",
     "output_type": "stream",
     "text": [
      "average fold change over rest: 2.7852547354615913\n"
     ]
    }
   ],
   "source": [
    "## get fold change over rest \n",
    "fold_change = cell_event_probability_movement.loc['event probability']/cell_event_probability_rest.loc['event probability']\n",
    "plt.scatter(list(cell_event_probability_movement.columns), fold_change)\n",
    "plt.show()\n",
    "\n",
    "print(\"average fold change over rest:\", fold_change.mean())"
   ]
  },
  {
   "cell_type": "code",
   "execution_count": 351,
   "metadata": {
    "collapsed": false,
    "scrolled": true
   },
   "outputs": [
    {
     "name": "stderr",
     "output_type": "stream",
     "text": [
      "/home/jma819/.conda/envs/caiman/lib/python3.6/site-packages/jupyter_client/jsonutil.py:67: DeprecationWarning: Interpreting naive datetime as local 2021-02-25 16:38:38.602642. Please add timezone info to timestamps.\n",
      "  new_obj[k] = extract_dates(v)\n"
     ]
    }
   ],
   "source": [
    "## bin fold change for different velocities "
   ]
  },
  {
   "cell_type": "code",
   "execution_count": null,
   "metadata": {
    "collapsed": true
   },
   "outputs": [],
   "source": []
  },
  {
   "cell_type": "code",
   "execution_count": 152,
   "metadata": {
    "collapsed": false
   },
   "outputs": [
    {
     "name": "stderr",
     "output_type": "stream",
     "text": [
      "/home/jma819/.conda/envs/caiman/lib/python3.6/site-packages/jupyter_client/jsonutil.py:67: DeprecationWarning: Interpreting naive datetime as local 2021-02-24 12:05:01.490820. Please add timezone info to timestamps.\n",
      "  new_obj[k] = extract_dates(v)\n"
     ]
    },
    {
     "name": "stdout",
     "output_type": "stream",
     "text": [
      "Frame: 0/1000 ...\n"
     ]
    },
    {
     "data": {
      "image/png": "[encoded data removed]",
      "text/plain": [
       "<Figure size 1152x216 with 2 Axes>"
      ]
     },
     "metadata": {
      "needs_background": "light"
     },
     "output_type": "display_data"
    }
   ],
   "source": [
    "# load behavior video \n",
    "sample_range_in_behavCam_video = (int(grouped_raw_data[session]['velocity_data'].iloc[index-50]['behavCam_frames']%1000),\n",
    "                                  int(grouped_raw_data[session]['velocity_data'].iloc[index+50]['behavCam_frames']%1000))\n",
    "video = av.open('/projects/b1118/behaviorvideos/'+session+'/behavCam'+str(behavCam_video)+'DLC_resnet50_Open_Field_v2Jan27shuffle1_150000_labeled.mp4')\n",
    "total_frames = video.streams.video[0].frames\n",
    "movie_images = {}\n",
    "for i, frame in enumerate(video.decode(video=0)):\n",
    "    img = frame.to_image()  # PIL image\n",
    "    movie_images[i] = img\n",
    "    if i%1000==0:\n",
    "        print(\"Frame: %d/%d ...\" % (i, total_frames))\n",
    "video.close()\n",
    "movie_shape = np.shape(movie_images[1])\n",
    "\n",
    "frame_subset = [movie_images[i] for i in range(sample_range_in_behavCam_video[0], sample_range_in_behavCam_video[1])]\n",
    "\n",
    "fig, (ax1, ax2) = plt.subplots(1, 2)\n",
    "im = ax1.imshow(frame_subset[0])\n",
    "ax2.plot(np.linspace(index-50, index+50, 100), grouped_raw_data[session]['velocity_data']['tail_base'].iloc[index-50:index+50])\n",
    "ax2.axvline(x=(index), linestyle='--', color='g')\n",
    "ax2.axvline(x=movement_offset_points_bysession[session][idx], linestyle='--', color='r')\n",
    "fig.set_size_inches(16, 3)\n",
    "#ax2.secondary_xaxis(-.2, functions=(lambda x: grouped_raw_data[session]['velocity_data'].iloc[x]['behavCam_frames'], \n",
    "#                                    lambda x: grouped_raw_data[session]['velocity_data'].iloc[x]['behavCam_frames']))\n",
    "#ani = animation.ArtistAnimation(fig, matplotlib_images, interval=50, blit=True, repeat_delay=1000)\n",
    "#HTML(ani.to_html5_video())\n",
    "def init():\n",
    "    ax1.set_title(\"behavCam: \"+str(behavCam_video)+\"  frame: \"+str(sample_range_in_behavCam_video[0]))\n",
    "    im.set_data(frame_subset[0])\n",
    "def animate(i):\n",
    "    ax1.set_title(\"behavCam: \"+str(behavCam_video)+\"  frame: \"+str(sample_range_in_behavCam_video[0]+i))\n",
    "    im.set_data(frame_subset[i])\n",
    "    #ax2.axvline(x=(index-(50+i)), linestyle='--', color='r')\n",
    "    return im\n",
    "\n",
    "ani = animation.FuncAnimation(fig, animate, init_func=init, frames=len(frame_subset), interval=50)\n",
    "rc('animation', html='jshtml')\n",
    "#HTML(ani.to_html5_video())"
   ]
  },
  {
   "cell_type": "code",
   "execution_count": 146,
   "metadata": {
    "collapsed": false,
    "scrolled": false
   },
   "outputs": [
    {
     "name": "stderr",
     "output_type": "stream",
     "text": [
      "/home/jma819/.conda/envs/caiman/lib/python3.6/site-packages/jupyter_client/jsonutil.py:67: DeprecationWarning: Interpreting naive datetime as local 2021-02-23 14:16:28.572213. Please add timezone info to timestamps.\n",
      "  new_obj[k] = extract_dates(v)\n"
     ]
    }
   ],
   "source": [
    "#plot 2d change in coordinates, dimensions are d1(y) = 430, d2(x) = 458\n",
    "#coordinates_df = pd.read_csv('/projects/b1118/behaviorvideos/'+session+'/'+session+'_coordinates_compiled_02212021.csv', \n",
    "#                             header= [0, 1, 2]).drop(['Unnamed: 1_level_0'], axis=1)\n",
    "\n",
    "#plt.plot(coordinates_df['DLC_resnet50_Open_Field_v2Jan27shuffle1_150000']['tail_base']['x'].iloc[index-50:index+50])\n",
    "\n",
    "#plt.plot(coordinates_df['DLC_resnet50_Open_Field_v2Jan27shuffle1_150000']['tail_base']['y'].iloc[index-50:index+50])\n",
    "\n",
    "#plt.plot(coordinates_df['DLC_resnet50_Open_Field_v2Jan27shuffle1_150000']['tail_base'].iloc[index:index+50]['x'],\n",
    "#                        coordinates_df['DLC_resnet50_Open_Field_v2Jan27shuffle1_150000']['tail_base'].iloc[index:index+50]['y'])\n",
    "#plt.ylim((430, 0))\n",
    "#plt.xlim((0, 458))\n",
    "\n",
    "#coordinates_df['DLC_resnet50_Open_Field_v2Jan27shuffle1_150000']['tail_base'].iloc[index-50:index+50]['x']"
   ]
  },
  {
   "cell_type": "code",
   "execution_count": 132,
   "metadata": {
    "collapsed": false,
    "scrolled": true
   },
   "outputs": [
    {
     "name": "stderr",
     "output_type": "stream",
     "text": [
      "/home/jma819/.conda/envs/caiman/lib/python3.6/site-packages/jupyter_client/jsonutil.py:67: DeprecationWarning: Interpreting naive datetime as local 2021-02-22 18:29:50.050099. Please add timezone info to timestamps.\n",
      "  new_obj[k] = extract_dates(v)\n"
     ]
    },
    {
     "name": "stdout",
     "output_type": "stream",
     "text": [
      "GRIN039_H12_M26_S54\n",
      "GRIN013_H13_M33_S54\n",
      "GRIN027_H13_M29_S44\n",
      "GRIN033_H14_M34_S32\n",
      "GRIN033_H13_M42_S33\n",
      "GRIN032_H17_M30_S22\n",
      "GRIN034_H15_M28_S2\n",
      "GRIN026_H16_M35_S34\n",
      "GRIN032_H16_M49_S22\n",
      "GRIN034_H16_M13_S22\n",
      "GRIN035_H13_M31_S20\n",
      "GRIN035_H14_M40_S34\n"
     ]
    }
   ],
   "source": [
    "##pull out and z-score regions in fluorescence trace\n",
    "regions_by_session = {}\n",
    "to_concat = []\n",
    "for session in list(grouped_raw_data.keys()):\n",
    "    crossing_indicies = \n",
    "    if len(crossing_indicies)>0:\n",
    "        print(session)\n",
    "        movement_regions_in_recording = {}\n",
    "        # only include samples that are within range of miniscope data\n",
    "        for sample in crossing_indicies:\n",
    "            #crossing indicies are from the velocity df with original sampling interval, find closest index in the resampled C_df by comparing timedeltas \n",
    "            nearest_resampled = dlc_utils.nearest(list(C_norm_df[session].index), grouped_raw_data[session]['velocity_data'].iloc[sample].name)\n",
    "            integer_idx = np.where(C_norm_df[session].index == nearest_resampled)[0][0]  \n",
    "                \n",
    "            #use \"resampled df\" \n",
    "            raw_data_to_baseline = C_norm_df_reindexed[session]\n",
    "\n",
    "            # so say baseline is 80 samples to 20 samples before threshold\n",
    "            baseline_region = raw_data_to_baseline[integer_idx-50:integer_idx-20].reset_index(drop=True)\n",
    "            movement_region = raw_data_to_baseline[integer_idx-50:integer_idx+50].reset_index(drop=True)\n",
    "\n",
    "            baseline_region_std_dev = baseline_region.std(axis=0)\n",
    "            baseline_region_mean = baseline_region.mean(axis=0)\n",
    "\n",
    "            movement_region_z_scored = pd.DataFrame((movement_region-baseline_region_mean.values)/baseline_region_std_dev)\n",
    "    \n",
    "            movement_regions_in_recording[integer_idx] = movement_region_z_scored\n",
    "        regions_by_session[session] = pd.concat(movement_regions_in_recording, axis=1, keys=list(movement_regions_in_recording.keys()))\n",
    "        to_concat.append(session)\n",
    "    \n",
    "z_scored_regions_by_session = pd.concat(list(regions_by_session.values()), axis=1, keys=to_concat)\n",
    "sample_crossing_indicies_Cdf = np.array([sample_idx for sample_idx in session_df.columns.levels[0] if sample_idx in session_df.columns])\n",
    "print('threshold crossing indicies in fluorescence trace: ', sample_crossing_indicies_Cdf)"
   ]
  },
  {
   "cell_type": "code",
   "execution_count": 160,
   "metadata": {
    "collapsed": false
   },
   "outputs": [
    {
     "name": "stderr",
     "output_type": "stream",
     "text": [
      "/home/jma819/.conda/envs/caiman/lib/python3.6/site-packages/jupyter_client/jsonutil.py:67: DeprecationWarning: Interpreting naive datetime as local 2021-02-22 18:43:53.899582. Please add timezone info to timestamps.\n",
      "  new_obj[k] = extract_dates(v)\n"
     ]
    },
    {
     "data": {
      "image/png": "[encoded data removed]",
      "text/plain": [
       "<Figure size 432x288 with 3 Axes>"
      ]
     },
     "metadata": {
      "needs_background": "light"
     },
     "output_type": "display_data"
    },
    {
     "name": "stdout",
     "output_type": "stream",
     "text": [
      "(Timedelta('0 days 00:07:24.400000'), Timedelta('0 days 00:07:44.200000'))\n",
      "(Timedelta('0 days 00:07:24.465911'), Timedelta('0 days 00:07:44.362026'))\n",
      "RMS noise: 4.513891574098059\n",
      "Peak: 24.133059399445752\n",
      "Peak/RMS: 5.3463976711199335\n"
     ]
    }
   ],
   "source": [
    "##plot individual cell activity\n",
    "#raw \"pre z score\" region\n",
    "#velocity\n",
    "index = sample_crossing_indicies[idx]\n",
    "#zscores\n",
    "c_idx = sample_crossing_indicies_Cdf[idx]\n",
    "#adjust x scales for difference in sampling interval \n",
    "sample_range_c_df = 50\n",
    "sample_range_v_df = int(50/(sampling_interval_vdf/sampling_interval_cdf))\n",
    "\n",
    "cell = 51\n",
    "fig, (ax1, ax2, ax3) = plt.subplots(3)\n",
    "ax1.set_title('time in msCam data: '+str(C_norm_df[session].iloc[sample_crossing_indicies_Cdf[idx]].name))\n",
    "ax1.plot(C_norm_df_reindexed[session][cell][c_idx-sample_range_c_df:c_idx+sample_range_c_df]) \n",
    "ax1.axvline(x=(c_idx), linestyle='--', color='r')\n",
    "ax2.plot(z_scored_regions_by_session[session][c_idx][cell])\n",
    "ax3.set_title('time in behavCam data: '+str(grouped_raw_data[session]['velocity_data'].iloc[sample_crossing_indicies[idx]].name))\n",
    "ax3.plot(np.linspace(index-sample_range_v_df, index+sample_range_v_df, sample_range_v_df*2), \n",
    "         grouped_raw_data[session]['velocity_data']['tail_base'].iloc[index-sample_range_v_df:index+sample_range_v_df]) \n",
    "ax3.axvline(x=(index), linestyle='--', color='r')\n",
    "#ax2.plot(np.linspace(index-50, index+50, 100), grouped_raw_data[session]['velocity_data']['tail_base'].iloc[index-50:index+50])\n",
    "plt.subplots_adjust(hspace=1)\n",
    "plt.show()\n",
    "#limits of plot from timedelta index in c_df and v_df \n",
    "print((C_norm_df[session][cell].iloc[c_idx-sample_range_c_df:c_idx+sample_range_c_df].index[0], \n",
    "       C_norm_df[session][cell].iloc[c_idx-sample_range_c_df:c_idx+sample_range_c_df].index[-1]))\n",
    "print((grouped_raw_data[session]['velocity_data'].iloc[index-sample_range_v_df:index+sample_range_v_df].index[0], \n",
    "       grouped_raw_data[session]['velocity_data'].iloc[index-sample_range_v_df:index+sample_range_v_df].index[-1]))\n",
    "#display rms noise for trace \n",
    "rms = np.sqrt(np.mean(np.square(z_scored_regions_by_session[session][c_idx][cell])))\n",
    "peak = np.max(z_scored_regions_by_session[session][c_idx][cell])\n",
    "print('RMS noise:', rms)\n",
    "print('Peak:', peak)\n",
    "print('Peak/RMS:', peak/rms)"
   ]
  },
  {
   "cell_type": "code",
   "execution_count": 28,
   "metadata": {
    "collapsed": false
   },
   "outputs": [
    {
     "name": "stderr",
     "output_type": "stream",
     "text": [
      "/home/jma819/.conda/envs/caiman/lib/python3.6/site-packages/jupyter_client/jsonutil.py:67: DeprecationWarning: Interpreting naive datetime as local 2021-02-22 15:22:52.071688. Please add timezone info to timestamps.\n",
      "  new_obj[k] = extract_dates(v)\n"
     ]
    }
   ],
   "source": [
    "## plot cell contour \n",
    "# \"spatial components\", or \"A\" as dense matrix \n",
    "cell_contour = grouped_raw_data[session]['spatial_components'][:, cell]\n",
    "# create movie\n",
    "frame_range = [0, len(z_scored_regions_by_session[session][c_idx][cell])]\n",
    "\n",
    "d1 = 752\n",
    "d2 = 480\n",
    "A_cell_reshaped = np.reshape(cell_contour, (d2, d1))\n",
    "C_cell_trace = z_scored_regions_by_session[session][c_idx][cell]\n",
    "response_movie = np.array([np.dot(A_cell_reshaped, C_cell_trace[frame]) for frame in range(frame_range[0], frame_range[1])])"
   ]
  },
  {
   "cell_type": "code",
   "execution_count": 29,
   "metadata": {
    "collapsed": false
   },
   "outputs": [
    {
     "name": "stderr",
     "output_type": "stream",
     "text": [
      "/home/jma819/.conda/envs/caiman/lib/python3.6/site-packages/jupyter_client/jsonutil.py:67: DeprecationWarning: Interpreting naive datetime as local 2021-02-22 15:22:52.076950. Please add timezone info to timestamps.\n",
      "  new_obj[k] = extract_dates(v)\n"
     ]
    },
    {
     "data": {
      "text/plain": [
       "(160, 480, 752)"
      ]
     },
     "execution_count": 29,
     "metadata": {},
     "output_type": "execute_result"
    }
   ],
   "source": [
    "np.shape(response_movie)"
   ]
  },
  {
   "cell_type": "code",
   "execution_count": 30,
   "metadata": {
    "collapsed": false,
    "scrolled": true
   },
   "outputs": [
    {
     "name": "stderr",
     "output_type": "stream",
     "text": [
      "/home/jma819/.conda/envs/caiman/lib/python3.6/site-packages/jupyter_client/jsonutil.py:67: DeprecationWarning: Interpreting naive datetime as local 2021-02-22 15:22:52.081296. Please add timezone info to timestamps.\n",
      "  new_obj[k] = extract_dates(v)\n"
     ]
    }
   ],
   "source": [
    "## plot responses of all cells during movement events\n",
    "all_cell_contours = grouped_raw_data[session]['spatial_components'][:, :]"
   ]
  },
  {
   "cell_type": "code",
   "execution_count": 45,
   "metadata": {
    "collapsed": false
   },
   "outputs": [
    {
     "name": "stderr",
     "output_type": "stream",
     "text": [
      "/home/jma819/.conda/envs/caiman/lib/python3.6/site-packages/jupyter_client/jsonutil.py:67: DeprecationWarning: Interpreting naive datetime as local 2021-02-22 15:36:08.278591. Please add timezone info to timestamps.\n",
      "  new_obj[k] = extract_dates(v)\n"
     ]
    }
   ],
   "source": [
    "#list(set(z_scored_regions_by_session[session].columns.get_level_values(1)))\n",
    "def create_demixed_movie_from_traces(cells, cell_contours, )"
   ]
  },
  {
   "cell_type": "code",
   "execution_count": 46,
   "metadata": {
    "collapsed": false
   },
   "outputs": [
    {
     "name": "stderr",
     "output_type": "stream",
     "text": [
      "/home/jma819/.conda/envs/caiman/lib/python3.6/site-packages/jupyter_client/jsonutil.py:67: DeprecationWarning: Interpreting naive datetime as local 2021-02-22 15:36:42.290757. Please add timezone info to timestamps.\n",
      "  new_obj[k] = extract_dates(v)\n",
      "\n",
      "  0%|          | 0/104 [00:00<?, ?it/s]\u001b[A"
     ]
    },
    {
     "name": "stdout",
     "output_type": "stream",
     "text": [
      "1\n"
     ]
    },
    {
     "name": "stderr",
     "output_type": "stream",
     "text": [
      "\n",
      "  1%|          | 1/104 [00:00<01:08,  1.51it/s]\u001b[A"
     ]
    },
    {
     "name": "stdout",
     "output_type": "stream",
     "text": [
      "2\n"
     ]
    },
    {
     "name": "stderr",
     "output_type": "stream",
     "text": [
      "\n",
      "  2%|▏         | 2/104 [00:01<01:07,  1.52it/s]\u001b[A"
     ]
    },
    {
     "name": "stdout",
     "output_type": "stream",
     "text": [
      "3\n"
     ]
    },
    {
     "name": "stderr",
     "output_type": "stream",
     "text": [
      "\n",
      "  3%|▎         | 3/104 [00:01<01:06,  1.52it/s]\u001b[A"
     ]
    },
    {
     "name": "stdout",
     "output_type": "stream",
     "text": [
      "4\n"
     ]
    },
    {
     "name": "stderr",
     "output_type": "stream",
     "text": [
      "\n",
      "  4%|▍         | 4/104 [00:02<01:05,  1.52it/s]\u001b[A"
     ]
    },
    {
     "name": "stdout",
     "output_type": "stream",
     "text": [
      "5\n"
     ]
    },
    {
     "name": "stderr",
     "output_type": "stream",
     "text": [
      "\n",
      "  5%|▍         | 5/104 [00:03<01:05,  1.52it/s]\u001b[A"
     ]
    },
    {
     "name": "stdout",
     "output_type": "stream",
     "text": [
      "6\n"
     ]
    },
    {
     "name": "stderr",
     "output_type": "stream",
     "text": [
      "\n",
      "  6%|▌         | 6/104 [00:03<01:04,  1.52it/s]\u001b[A"
     ]
    },
    {
     "name": "stdout",
     "output_type": "stream",
     "text": [
      "7\n"
     ]
    },
    {
     "name": "stderr",
     "output_type": "stream",
     "text": [
      "\n",
      "  7%|▋         | 7/104 [00:04<01:03,  1.52it/s]\u001b[A"
     ]
    },
    {
     "name": "stdout",
     "output_type": "stream",
     "text": [
      "11\n"
     ]
    },
    {
     "name": "stderr",
     "output_type": "stream",
     "text": [
      "\n",
      "  8%|▊         | 8/104 [00:05<01:03,  1.52it/s]\u001b[A"
     ]
    },
    {
     "name": "stdout",
     "output_type": "stream",
     "text": [
      "14\n"
     ]
    },
    {
     "name": "stderr",
     "output_type": "stream",
     "text": [
      "\n",
      "  9%|▊         | 9/104 [00:05<01:02,  1.52it/s]\u001b[A"
     ]
    },
    {
     "name": "stdout",
     "output_type": "stream",
     "text": [
      "15\n"
     ]
    },
    {
     "name": "stderr",
     "output_type": "stream",
     "text": [
      "\n",
      " 10%|▉         | 10/104 [00:06<01:01,  1.52it/s]\u001b[A"
     ]
    },
    {
     "name": "stdout",
     "output_type": "stream",
     "text": [
      "17\n"
     ]
    },
    {
     "name": "stderr",
     "output_type": "stream",
     "text": [
      "\n",
      " 11%|█         | 11/104 [00:07<01:01,  1.52it/s]\u001b[A"
     ]
    },
    {
     "name": "stdout",
     "output_type": "stream",
     "text": [
      "18\n"
     ]
    },
    {
     "name": "stderr",
     "output_type": "stream",
     "text": [
      "\n",
      " 12%|█▏        | 12/104 [00:07<01:00,  1.52it/s]\u001b[A"
     ]
    },
    {
     "name": "stdout",
     "output_type": "stream",
     "text": [
      "19\n"
     ]
    },
    {
     "name": "stderr",
     "output_type": "stream",
     "text": [
      "\n",
      " 12%|█▎        | 13/104 [00:08<00:59,  1.52it/s]\u001b[A"
     ]
    },
    {
     "name": "stdout",
     "output_type": "stream",
     "text": [
      "21\n"
     ]
    },
    {
     "name": "stderr",
     "output_type": "stream",
     "text": [
      "\n",
      " 13%|█▎        | 14/104 [00:09<00:59,  1.52it/s]\u001b[A"
     ]
    },
    {
     "name": "stdout",
     "output_type": "stream",
     "text": [
      "22\n"
     ]
    },
    {
     "name": "stderr",
     "output_type": "stream",
     "text": [
      "\n",
      " 14%|█▍        | 15/104 [00:09<00:58,  1.52it/s]\u001b[A"
     ]
    },
    {
     "name": "stdout",
     "output_type": "stream",
     "text": [
      "23\n"
     ]
    },
    {
     "name": "stderr",
     "output_type": "stream",
     "text": [
      "\n",
      " 15%|█▌        | 16/104 [00:10<00:57,  1.52it/s]\u001b[A"
     ]
    },
    {
     "name": "stdout",
     "output_type": "stream",
     "text": [
      "25\n"
     ]
    },
    {
     "name": "stderr",
     "output_type": "stream",
     "text": [
      "\n",
      " 16%|█▋        | 17/104 [00:11<00:57,  1.51it/s]\u001b[A"
     ]
    },
    {
     "name": "stdout",
     "output_type": "stream",
     "text": [
      "27\n"
     ]
    },
    {
     "name": "stderr",
     "output_type": "stream",
     "text": [
      "\n",
      " 17%|█▋        | 18/104 [00:11<00:57,  1.49it/s]\u001b[A"
     ]
    },
    {
     "name": "stdout",
     "output_type": "stream",
     "text": [
      "28\n"
     ]
    },
    {
     "name": "stderr",
     "output_type": "stream",
     "text": [
      "\n",
      " 18%|█▊        | 19/104 [00:12<00:57,  1.47it/s]\u001b[A"
     ]
    },
    {
     "name": "stdout",
     "output_type": "stream",
     "text": [
      "29\n"
     ]
    },
    {
     "name": "stderr",
     "output_type": "stream",
     "text": [
      "\n",
      " 19%|█▉        | 20/104 [00:13<00:57,  1.46it/s]\u001b[A"
     ]
    },
    {
     "name": "stdout",
     "output_type": "stream",
     "text": [
      "30\n"
     ]
    },
    {
     "name": "stderr",
     "output_type": "stream",
     "text": [
      "\n",
      " 20%|██        | 21/104 [00:13<00:57,  1.45it/s]\u001b[A"
     ]
    },
    {
     "name": "stdout",
     "output_type": "stream",
     "text": [
      "31\n"
     ]
    },
    {
     "name": "stderr",
     "output_type": "stream",
     "text": [
      "\n",
      " 21%|██        | 22/104 [00:14<00:56,  1.45it/s]\u001b[A"
     ]
    },
    {
     "name": "stdout",
     "output_type": "stream",
     "text": [
      "32\n"
     ]
    },
    {
     "name": "stderr",
     "output_type": "stream",
     "text": [
      "\n",
      " 22%|██▏       | 23/104 [00:15<00:55,  1.46it/s]\u001b[A"
     ]
    },
    {
     "name": "stdout",
     "output_type": "stream",
     "text": [
      "33\n"
     ]
    },
    {
     "name": "stderr",
     "output_type": "stream",
     "text": [
      "\n",
      " 23%|██▎       | 24/104 [00:16<00:54,  1.46it/s]\u001b[A"
     ]
    },
    {
     "name": "stdout",
     "output_type": "stream",
     "text": [
      "34\n"
     ]
    },
    {
     "name": "stderr",
     "output_type": "stream",
     "text": [
      "\n",
      " 24%|██▍       | 25/104 [00:16<00:54,  1.46it/s]\u001b[A"
     ]
    },
    {
     "name": "stdout",
     "output_type": "stream",
     "text": [
      "35\n"
     ]
    },
    {
     "name": "stderr",
     "output_type": "stream",
     "text": [
      "\n",
      " 25%|██▌       | 26/104 [00:17<00:53,  1.46it/s]\u001b[A"
     ]
    },
    {
     "name": "stdout",
     "output_type": "stream",
     "text": [
      "36\n"
     ]
    },
    {
     "name": "stderr",
     "output_type": "stream",
     "text": [
      "\n",
      " 26%|██▌       | 27/104 [00:18<00:52,  1.47it/s]\u001b[A"
     ]
    },
    {
     "name": "stdout",
     "output_type": "stream",
     "text": [
      "37\n"
     ]
    },
    {
     "name": "stderr",
     "output_type": "stream",
     "text": [
      "\n",
      " 27%|██▋       | 28/104 [00:18<00:51,  1.47it/s]\u001b[A"
     ]
    },
    {
     "name": "stdout",
     "output_type": "stream",
     "text": [
      "38\n"
     ]
    },
    {
     "name": "stderr",
     "output_type": "stream",
     "text": [
      "\n",
      " 28%|██▊       | 29/104 [00:19<00:51,  1.47it/s]\u001b[A"
     ]
    },
    {
     "name": "stdout",
     "output_type": "stream",
     "text": [
      "39\n"
     ]
    },
    {
     "name": "stderr",
     "output_type": "stream",
     "text": [
      "\n",
      " 29%|██▉       | 30/104 [00:20<00:50,  1.47it/s]\u001b[A"
     ]
    },
    {
     "name": "stdout",
     "output_type": "stream",
     "text": [
      "40\n"
     ]
    },
    {
     "name": "stderr",
     "output_type": "stream",
     "text": [
      "\n",
      " 30%|██▉       | 31/104 [00:20<00:49,  1.47it/s]\u001b[A"
     ]
    },
    {
     "name": "stdout",
     "output_type": "stream",
     "text": [
      "41\n"
     ]
    },
    {
     "name": "stderr",
     "output_type": "stream",
     "text": [
      "\n",
      " 31%|███       | 32/104 [00:21<00:48,  1.47it/s]\u001b[A"
     ]
    },
    {
     "name": "stdout",
     "output_type": "stream",
     "text": [
      "42\n"
     ]
    },
    {
     "name": "stderr",
     "output_type": "stream",
     "text": [
      "\n",
      " 32%|███▏      | 33/104 [00:22<00:48,  1.47it/s]\u001b[A"
     ]
    },
    {
     "name": "stdout",
     "output_type": "stream",
     "text": [
      "43\n"
     ]
    },
    {
     "name": "stderr",
     "output_type": "stream",
     "text": [
      "\n",
      " 33%|███▎      | 34/104 [00:22<00:47,  1.47it/s]\u001b[A"
     ]
    },
    {
     "name": "stdout",
     "output_type": "stream",
     "text": [
      "44\n"
     ]
    },
    {
     "name": "stderr",
     "output_type": "stream",
     "text": [
      "\n",
      " 34%|███▎      | 35/104 [00:23<00:46,  1.47it/s]\u001b[A"
     ]
    },
    {
     "name": "stdout",
     "output_type": "stream",
     "text": [
      "45\n"
     ]
    },
    {
     "name": "stderr",
     "output_type": "stream",
     "text": [
      "\n",
      " 35%|███▍      | 36/104 [00:24<00:46,  1.47it/s]\u001b[A"
     ]
    },
    {
     "name": "stdout",
     "output_type": "stream",
     "text": [
      "46\n"
     ]
    },
    {
     "name": "stderr",
     "output_type": "stream",
     "text": [
      "\n",
      " 36%|███▌      | 37/104 [00:24<00:45,  1.47it/s]\u001b[A"
     ]
    },
    {
     "name": "stdout",
     "output_type": "stream",
     "text": [
      "47\n"
     ]
    },
    {
     "name": "stderr",
     "output_type": "stream",
     "text": [
      "\n",
      " 37%|███▋      | 38/104 [00:25<00:44,  1.47it/s]\u001b[A"
     ]
    },
    {
     "name": "stdout",
     "output_type": "stream",
     "text": [
      "48\n"
     ]
    },
    {
     "name": "stderr",
     "output_type": "stream",
     "text": [
      "\n",
      " 38%|███▊      | 39/104 [00:26<00:44,  1.47it/s]\u001b[A"
     ]
    },
    {
     "name": "stdout",
     "output_type": "stream",
     "text": [
      "49\n"
     ]
    },
    {
     "name": "stderr",
     "output_type": "stream",
     "text": [
      "\n",
      " 38%|███▊      | 40/104 [00:26<00:43,  1.47it/s]\u001b[A"
     ]
    },
    {
     "name": "stdout",
     "output_type": "stream",
     "text": [
      "50\n"
     ]
    },
    {
     "name": "stderr",
     "output_type": "stream",
     "text": [
      "\n",
      " 39%|███▉      | 41/104 [00:27<00:42,  1.47it/s]\u001b[A"
     ]
    },
    {
     "name": "stdout",
     "output_type": "stream",
     "text": [
      "51\n"
     ]
    },
    {
     "name": "stderr",
     "output_type": "stream",
     "text": [
      "\n",
      " 40%|████      | 42/104 [00:28<00:42,  1.47it/s]\u001b[A"
     ]
    },
    {
     "name": "stdout",
     "output_type": "stream",
     "text": [
      "52\n"
     ]
    },
    {
     "name": "stderr",
     "output_type": "stream",
     "text": [
      "\n",
      " 41%|████▏     | 43/104 [00:28<00:41,  1.47it/s]\u001b[A"
     ]
    },
    {
     "name": "stdout",
     "output_type": "stream",
     "text": [
      "53\n"
     ]
    },
    {
     "name": "stderr",
     "output_type": "stream",
     "text": [
      "\n",
      " 42%|████▏     | 44/104 [00:29<00:40,  1.47it/s]\u001b[A"
     ]
    },
    {
     "name": "stdout",
     "output_type": "stream",
     "text": [
      "54\n"
     ]
    },
    {
     "name": "stderr",
     "output_type": "stream",
     "text": [
      "\n",
      " 43%|████▎     | 45/104 [00:30<00:40,  1.47it/s]\u001b[A"
     ]
    },
    {
     "name": "stdout",
     "output_type": "stream",
     "text": [
      "55\n"
     ]
    },
    {
     "name": "stderr",
     "output_type": "stream",
     "text": [
      "\n",
      " 44%|████▍     | 46/104 [00:31<00:39,  1.46it/s]\u001b[A"
     ]
    },
    {
     "name": "stdout",
     "output_type": "stream",
     "text": [
      "56\n"
     ]
    },
    {
     "name": "stderr",
     "output_type": "stream",
     "text": [
      "\n",
      " 45%|████▌     | 47/104 [00:31<00:38,  1.47it/s]\u001b[A"
     ]
    },
    {
     "name": "stdout",
     "output_type": "stream",
     "text": [
      "57\n"
     ]
    },
    {
     "name": "stderr",
     "output_type": "stream",
     "text": [
      "\n",
      " 46%|████▌     | 48/104 [00:32<00:38,  1.47it/s]\u001b[A"
     ]
    },
    {
     "name": "stdout",
     "output_type": "stream",
     "text": [
      "58\n"
     ]
    },
    {
     "name": "stderr",
     "output_type": "stream",
     "text": [
      "\n",
      " 47%|████▋     | 49/104 [00:33<00:37,  1.47it/s]\u001b[A"
     ]
    },
    {
     "name": "stdout",
     "output_type": "stream",
     "text": [
      "59\n"
     ]
    },
    {
     "name": "stderr",
     "output_type": "stream",
     "text": [
      "\n",
      " 48%|████▊     | 50/104 [00:33<00:36,  1.47it/s]\u001b[A"
     ]
    },
    {
     "name": "stdout",
     "output_type": "stream",
     "text": [
      "60\n"
     ]
    },
    {
     "name": "stderr",
     "output_type": "stream",
     "text": [
      "\n",
      " 49%|████▉     | 51/104 [00:34<00:36,  1.46it/s]\u001b[A"
     ]
    },
    {
     "name": "stdout",
     "output_type": "stream",
     "text": [
      "61\n"
     ]
    },
    {
     "name": "stderr",
     "output_type": "stream",
     "text": [
      "\n",
      " 50%|█████     | 52/104 [00:35<00:35,  1.46it/s]\u001b[A"
     ]
    },
    {
     "name": "stdout",
     "output_type": "stream",
     "text": [
      "62\n"
     ]
    },
    {
     "name": "stderr",
     "output_type": "stream",
     "text": [
      "\n",
      " 51%|█████     | 53/104 [00:35<00:35,  1.45it/s]\u001b[A"
     ]
    },
    {
     "name": "stdout",
     "output_type": "stream",
     "text": [
      "63\n"
     ]
    },
    {
     "name": "stderr",
     "output_type": "stream",
     "text": [
      "\n",
      " 52%|█████▏    | 54/104 [00:36<00:34,  1.46it/s]\u001b[A"
     ]
    },
    {
     "name": "stdout",
     "output_type": "stream",
     "text": [
      "65\n"
     ]
    },
    {
     "name": "stderr",
     "output_type": "stream",
     "text": [
      "\n",
      " 53%|█████▎    | 55/104 [00:37<00:33,  1.46it/s]\u001b[A"
     ]
    },
    {
     "name": "stdout",
     "output_type": "stream",
     "text": [
      "66\n"
     ]
    },
    {
     "name": "stderr",
     "output_type": "stream",
     "text": [
      "\n",
      " 54%|█████▍    | 56/104 [00:37<00:32,  1.46it/s]\u001b[A"
     ]
    },
    {
     "name": "stdout",
     "output_type": "stream",
     "text": [
      "67\n"
     ]
    },
    {
     "name": "stderr",
     "output_type": "stream",
     "text": [
      "\n",
      " 55%|█████▍    | 57/104 [00:38<00:32,  1.46it/s]\u001b[A"
     ]
    },
    {
     "name": "stdout",
     "output_type": "stream",
     "text": [
      "68\n"
     ]
    },
    {
     "name": "stderr",
     "output_type": "stream",
     "text": [
      "\n",
      " 56%|█████▌    | 58/104 [00:39<00:31,  1.46it/s]\u001b[A"
     ]
    },
    {
     "name": "stdout",
     "output_type": "stream",
     "text": [
      "69\n"
     ]
    },
    {
     "name": "stderr",
     "output_type": "stream",
     "text": [
      "\n",
      " 57%|█████▋    | 59/104 [00:39<00:30,  1.46it/s]\u001b[A"
     ]
    },
    {
     "name": "stdout",
     "output_type": "stream",
     "text": [
      "71\n"
     ]
    },
    {
     "name": "stderr",
     "output_type": "stream",
     "text": [
      "\n",
      " 58%|█████▊    | 60/104 [00:40<00:30,  1.46it/s]\u001b[A"
     ]
    },
    {
     "name": "stdout",
     "output_type": "stream",
     "text": [
      "73\n"
     ]
    },
    {
     "name": "stderr",
     "output_type": "stream",
     "text": [
      "\n",
      " 59%|█████▊    | 61/104 [00:41<00:29,  1.47it/s]\u001b[A"
     ]
    },
    {
     "name": "stdout",
     "output_type": "stream",
     "text": [
      "74\n"
     ]
    },
    {
     "name": "stderr",
     "output_type": "stream",
     "text": [
      "\n",
      " 60%|█████▉    | 62/104 [00:41<00:28,  1.47it/s]\u001b[A"
     ]
    },
    {
     "name": "stdout",
     "output_type": "stream",
     "text": [
      "75\n"
     ]
    },
    {
     "name": "stderr",
     "output_type": "stream",
     "text": [
      "\n",
      " 61%|██████    | 63/104 [00:42<00:27,  1.47it/s]\u001b[A"
     ]
    },
    {
     "name": "stdout",
     "output_type": "stream",
     "text": [
      "79\n"
     ]
    },
    {
     "name": "stderr",
     "output_type": "stream",
     "text": [
      "\n",
      " 62%|██████▏   | 64/104 [00:43<00:27,  1.47it/s]\u001b[A"
     ]
    },
    {
     "name": "stdout",
     "output_type": "stream",
     "text": [
      "83\n"
     ]
    },
    {
     "name": "stderr",
     "output_type": "stream",
     "text": [
      "\n",
      " 62%|██████▎   | 65/104 [00:43<00:26,  1.47it/s]\u001b[A"
     ]
    },
    {
     "name": "stdout",
     "output_type": "stream",
     "text": [
      "86\n"
     ]
    },
    {
     "name": "stderr",
     "output_type": "stream",
     "text": [
      "\n",
      " 63%|██████▎   | 66/104 [00:44<00:25,  1.47it/s]\u001b[A"
     ]
    },
    {
     "name": "stdout",
     "output_type": "stream",
     "text": [
      "88\n"
     ]
    },
    {
     "name": "stderr",
     "output_type": "stream",
     "text": [
      "\n",
      " 64%|██████▍   | 67/104 [00:45<00:25,  1.47it/s]\u001b[A"
     ]
    },
    {
     "name": "stdout",
     "output_type": "stream",
     "text": [
      "89\n"
     ]
    },
    {
     "name": "stderr",
     "output_type": "stream",
     "text": [
      "\n",
      " 65%|██████▌   | 68/104 [00:46<00:24,  1.47it/s]\u001b[A"
     ]
    },
    {
     "name": "stdout",
     "output_type": "stream",
     "text": [
      "90\n"
     ]
    },
    {
     "name": "stderr",
     "output_type": "stream",
     "text": [
      "\n",
      " 66%|██████▋   | 69/104 [00:46<00:23,  1.47it/s]\u001b[A"
     ]
    },
    {
     "name": "stdout",
     "output_type": "stream",
     "text": [
      "91\n"
     ]
    },
    {
     "name": "stderr",
     "output_type": "stream",
     "text": [
      "\n",
      " 67%|██████▋   | 70/104 [00:47<00:23,  1.47it/s]\u001b[A"
     ]
    },
    {
     "name": "stdout",
     "output_type": "stream",
     "text": [
      "92\n"
     ]
    },
    {
     "name": "stderr",
     "output_type": "stream",
     "text": [
      "\n",
      " 68%|██████▊   | 71/104 [00:48<00:22,  1.47it/s]\u001b[A"
     ]
    },
    {
     "name": "stdout",
     "output_type": "stream",
     "text": [
      "93\n"
     ]
    },
    {
     "name": "stderr",
     "output_type": "stream",
     "text": [
      "\n",
      " 69%|██████▉   | 72/104 [00:48<00:21,  1.47it/s]\u001b[A"
     ]
    },
    {
     "name": "stdout",
     "output_type": "stream",
     "text": [
      "94\n"
     ]
    },
    {
     "name": "stderr",
     "output_type": "stream",
     "text": [
      "\n",
      " 70%|███████   | 73/104 [00:49<00:21,  1.46it/s]\u001b[A"
     ]
    },
    {
     "name": "stdout",
     "output_type": "stream",
     "text": [
      "95\n"
     ]
    },
    {
     "name": "stderr",
     "output_type": "stream",
     "text": [
      "\n",
      " 71%|███████   | 74/104 [00:50<00:21,  1.41it/s]\u001b[A"
     ]
    },
    {
     "name": "stdout",
     "output_type": "stream",
     "text": [
      "96\n"
     ]
    },
    {
     "name": "stderr",
     "output_type": "stream",
     "text": [
      "\n",
      " 72%|███████▏  | 75/104 [00:51<00:21,  1.34it/s]\u001b[A"
     ]
    },
    {
     "name": "stdout",
     "output_type": "stream",
     "text": [
      "97\n"
     ]
    },
    {
     "name": "stderr",
     "output_type": "stream",
     "text": [
      "\n",
      " 73%|███████▎  | 76/104 [00:51<00:22,  1.26it/s]\u001b[A"
     ]
    },
    {
     "name": "stdout",
     "output_type": "stream",
     "text": [
      "98\n"
     ]
    },
    {
     "name": "stderr",
     "output_type": "stream",
     "text": [
      "\n",
      " 74%|███████▍  | 77/104 [00:52<00:22,  1.20it/s]\u001b[A"
     ]
    },
    {
     "name": "stdout",
     "output_type": "stream",
     "text": [
      "99\n"
     ]
    },
    {
     "name": "stderr",
     "output_type": "stream",
     "text": [
      "\n",
      " 75%|███████▌  | 78/104 [00:53<00:22,  1.13it/s]\u001b[A"
     ]
    },
    {
     "name": "stdout",
     "output_type": "stream",
     "text": [
      "100\n"
     ]
    },
    {
     "name": "stderr",
     "output_type": "stream",
     "text": [
      "\n",
      " 76%|███████▌  | 79/104 [00:54<00:23,  1.08it/s]\u001b[A"
     ]
    },
    {
     "name": "stdout",
     "output_type": "stream",
     "text": [
      "101\n"
     ]
    },
    {
     "name": "stderr",
     "output_type": "stream",
     "text": [
      "\n",
      " 77%|███████▋  | 80/104 [00:55<00:22,  1.05it/s]\u001b[A"
     ]
    },
    {
     "name": "stdout",
     "output_type": "stream",
     "text": [
      "104\n"
     ]
    },
    {
     "name": "stderr",
     "output_type": "stream",
     "text": [
      "\n",
      " 78%|███████▊  | 81/104 [00:56<00:22,  1.03it/s]\u001b[A"
     ]
    },
    {
     "name": "stdout",
     "output_type": "stream",
     "text": [
      "107\n"
     ]
    },
    {
     "name": "stderr",
     "output_type": "stream",
     "text": [
      "\n",
      " 79%|███████▉  | 82/104 [00:57<00:21,  1.02it/s]\u001b[A"
     ]
    },
    {
     "name": "stdout",
     "output_type": "stream",
     "text": [
      "110\n"
     ]
    },
    {
     "name": "stderr",
     "output_type": "stream",
     "text": [
      "\n",
      " 80%|███████▉  | 83/104 [00:58<00:20,  1.01it/s]\u001b[A"
     ]
    },
    {
     "name": "stdout",
     "output_type": "stream",
     "text": [
      "114\n"
     ]
    },
    {
     "name": "stderr",
     "output_type": "stream",
     "text": [
      "\n",
      " 81%|████████  | 84/104 [00:59<00:19,  1.00it/s]\u001b[A"
     ]
    },
    {
     "name": "stdout",
     "output_type": "stream",
     "text": [
      "118\n"
     ]
    },
    {
     "name": "stderr",
     "output_type": "stream",
     "text": [
      "\n",
      " 82%|████████▏ | 85/104 [01:00<00:18,  1.00it/s]\u001b[A"
     ]
    },
    {
     "name": "stdout",
     "output_type": "stream",
     "text": [
      "121\n"
     ]
    },
    {
     "name": "stderr",
     "output_type": "stream",
     "text": [
      "\n",
      " 83%|████████▎ | 86/104 [01:01<00:18,  1.00s/it]\u001b[A"
     ]
    },
    {
     "name": "stdout",
     "output_type": "stream",
     "text": [
      "127\n"
     ]
    },
    {
     "name": "stderr",
     "output_type": "stream",
     "text": [
      "\n",
      " 84%|████████▎ | 87/104 [01:02<00:17,  1.00s/it]\u001b[A"
     ]
    },
    {
     "name": "stdout",
     "output_type": "stream",
     "text": [
      "129\n"
     ]
    },
    {
     "name": "stderr",
     "output_type": "stream",
     "text": [
      "\n",
      " 85%|████████▍ | 88/104 [01:03<00:16,  1.00s/it]\u001b[A"
     ]
    },
    {
     "name": "stdout",
     "output_type": "stream",
     "text": [
      "131\n"
     ]
    },
    {
     "name": "stderr",
     "output_type": "stream",
     "text": [
      "\n",
      " 86%|████████▌ | 89/104 [01:04<00:15,  1.01s/it]\u001b[A"
     ]
    },
    {
     "name": "stdout",
     "output_type": "stream",
     "text": [
      "132\n"
     ]
    },
    {
     "name": "stderr",
     "output_type": "stream",
     "text": [
      "\n",
      " 87%|████████▋ | 90/104 [01:05<00:14,  1.01s/it]\u001b[A"
     ]
    },
    {
     "name": "stdout",
     "output_type": "stream",
     "text": [
      "133\n"
     ]
    },
    {
     "name": "stderr",
     "output_type": "stream",
     "text": [
      "\n",
      " 88%|████████▊ | 91/104 [01:06<00:13,  1.01s/it]\u001b[A"
     ]
    },
    {
     "name": "stdout",
     "output_type": "stream",
     "text": [
      "134\n"
     ]
    },
    {
     "name": "stderr",
     "output_type": "stream",
     "text": [
      "\n",
      " 88%|████████▊ | 92/104 [01:07<00:12,  1.01s/it]\u001b[A"
     ]
    },
    {
     "name": "stdout",
     "output_type": "stream",
     "text": [
      "135\n"
     ]
    },
    {
     "name": "stderr",
     "output_type": "stream",
     "text": [
      "\n",
      " 89%|████████▉ | 93/104 [01:08<00:11,  1.00s/it]\u001b[A"
     ]
    },
    {
     "name": "stdout",
     "output_type": "stream",
     "text": [
      "139\n"
     ]
    },
    {
     "name": "stderr",
     "output_type": "stream",
     "text": [
      "\n",
      " 90%|█████████ | 94/104 [01:09<00:10,  1.00s/it]\u001b[A"
     ]
    },
    {
     "name": "stdout",
     "output_type": "stream",
     "text": [
      "140\n"
     ]
    },
    {
     "name": "stderr",
     "output_type": "stream",
     "text": [
      "\n",
      " 91%|█████████▏| 95/104 [01:10<00:09,  1.00s/it]\u001b[A"
     ]
    },
    {
     "name": "stdout",
     "output_type": "stream",
     "text": [
      "143\n"
     ]
    },
    {
     "name": "stderr",
     "output_type": "stream",
     "text": [
      "\n",
      " 92%|█████████▏| 96/104 [01:11<00:08,  1.00s/it]\u001b[A"
     ]
    },
    {
     "name": "stdout",
     "output_type": "stream",
     "text": [
      "145\n"
     ]
    },
    {
     "name": "stderr",
     "output_type": "stream",
     "text": [
      "\n",
      " 93%|█████████▎| 97/104 [01:12<00:07,  1.00s/it]\u001b[A"
     ]
    },
    {
     "name": "stdout",
     "output_type": "stream",
     "text": [
      "146\n"
     ]
    },
    {
     "name": "stderr",
     "output_type": "stream",
     "text": [
      "\n",
      " 94%|█████████▍| 98/104 [01:13<00:06,  1.00s/it]\u001b[A"
     ]
    },
    {
     "name": "stdout",
     "output_type": "stream",
     "text": [
      "147\n"
     ]
    },
    {
     "name": "stderr",
     "output_type": "stream",
     "text": [
      "\n",
      " 95%|█████████▌| 99/104 [01:14<00:05,  1.00s/it]\u001b[A"
     ]
    },
    {
     "name": "stdout",
     "output_type": "stream",
     "text": [
      "150\n"
     ]
    },
    {
     "name": "stderr",
     "output_type": "stream",
     "text": [
      "\n",
      " 96%|█████████▌| 100/104 [01:15<00:04,  1.00s/it]\u001b[A"
     ]
    },
    {
     "name": "stdout",
     "output_type": "stream",
     "text": [
      "152\n"
     ]
    },
    {
     "name": "stderr",
     "output_type": "stream",
     "text": [
      "\n",
      " 97%|█████████▋| 101/104 [01:16<00:03,  1.00s/it]\u001b[A"
     ]
    },
    {
     "name": "stdout",
     "output_type": "stream",
     "text": [
      "154\n"
     ]
    },
    {
     "name": "stderr",
     "output_type": "stream",
     "text": [
      "\n",
      " 98%|█████████▊| 102/104 [01:18<00:02,  1.00s/it]\u001b[A"
     ]
    },
    {
     "name": "stdout",
     "output_type": "stream",
     "text": [
      "155\n"
     ]
    },
    {
     "name": "stderr",
     "output_type": "stream",
     "text": [
      "\n",
      " 99%|█████████▉| 103/104 [01:19<00:01,  1.00s/it]\u001b[A"
     ]
    },
    {
     "name": "stdout",
     "output_type": "stream",
     "text": [
      "156\n"
     ]
    },
    {
     "name": "stderr",
     "output_type": "stream",
     "text": [
      "\n",
      "100%|██████████| 104/104 [01:20<00:00,  1.01s/it]\u001b[A\n",
      "\u001b[A"
     ]
    }
   ],
   "source": [
    "cells_reshaped = np.empty((np.shape(all_cell_contours)[1], frame_range[1], d2, d1))\n",
    "for cell in tqdm(list(set(z_scored_regions_by_session[session].columns.get_level_values(1)))):\n",
    "    print(cell)\n",
    "    A_reshaped = np.reshape(all_cell_contours[:, cell-1], (d2, d1))\n",
    "    #cell_frames = []\n",
    "    #for frame in range(frame_range[0], frame_range[1]):\n",
    "        #cell_frames.append(np.array([np.dot(A_reshaped, item) for item in [255, 128, 0, z_scored_regions_by_session[session][sample][cell][frame]]]))\n",
    "    cells_reshaped[cell-1] = np.array([np.dot(A_reshaped, z_scored_regions_by_session[session][c_idx][cell][frame]) for frame in range(frame_range[0], frame_range[1])])"
   ]
  },
  {
   "cell_type": "code",
   "execution_count": 47,
   "metadata": {
    "collapsed": false
   },
   "outputs": [
    {
     "name": "stderr",
     "output_type": "stream",
     "text": [
      "/home/jma819/.conda/envs/caiman/lib/python3.6/site-packages/jupyter_client/jsonutil.py:67: DeprecationWarning: Interpreting naive datetime as local 2021-02-22 15:38:24.411521. Please add timezone info to timestamps.\n",
      "  new_obj[k] = extract_dates(v)\n"
     ]
    }
   ],
   "source": [
    "cells_recombined = np.sum(cells_reshaped, axis=0)\n",
    "response_movie = np.sum(response_movie, axis=0)"
   ]
  },
  {
   "cell_type": "code",
   "execution_count": 48,
   "metadata": {
    "collapsed": false
   },
   "outputs": [
    {
     "name": "stderr",
     "output_type": "stream",
     "text": [
      "/home/jma819/.conda/envs/caiman/lib/python3.6/site-packages/jupyter_client/jsonutil.py:67: DeprecationWarning: Interpreting naive datetime as local 2021-02-22 15:38:48.568333. Please add timezone info to timestamps.\n",
      "  new_obj[k] = extract_dates(v)\n"
     ]
    },
    {
     "ename": "RuntimeError",
     "evalue": "Requested MovieWriter (ffmpeg) not available",
     "output_type": "error",
     "traceback": [
      "\u001b[0;31m---------------------------------------------------------------------------\u001b[0m",
      "\u001b[0;31mKeyError\u001b[0m                                  Traceback (most recent call last)",
      "\u001b[0;32m~/.conda/envs/caiman/lib/python3.6/site-packages/matplotlib/animation.py\u001b[0m in \u001b[0;36m__getitem__\u001b[0;34m(self, name)\u001b[0m\n\u001b[1;32m    160\u001b[0m         \u001b[0;32mtry\u001b[0m\u001b[0;34m:\u001b[0m\u001b[0;34m\u001b[0m\u001b[0;34m\u001b[0m\u001b[0m\n\u001b[0;32m--> 161\u001b[0;31m             \u001b[0;32mreturn\u001b[0m \u001b[0mself\u001b[0m\u001b[0;34m.\u001b[0m\u001b[0mavail\u001b[0m\u001b[0;34m[\u001b[0m\u001b[0mname\u001b[0m\u001b[0;34m]\u001b[0m\u001b[0;34m\u001b[0m\u001b[0;34m\u001b[0m\u001b[0m\n\u001b[0m\u001b[1;32m    162\u001b[0m         \u001b[0;32mexcept\u001b[0m \u001b[0mKeyError\u001b[0m\u001b[0;34m:\u001b[0m\u001b[0;34m\u001b[0m\u001b[0;34m\u001b[0m\u001b[0m\n",
      "\u001b[0;31mKeyError\u001b[0m: 'ffmpeg'",
      "\nDuring handling of the above exception, another exception occurred:\n",
      "\u001b[0;31mRuntimeError\u001b[0m                              Traceback (most recent call last)",
      "\u001b[0;32m<ipython-input-48-bbd6a5fd6b92>\u001b[0m in \u001b[0;36m<module>\u001b[0;34m\u001b[0m\n\u001b[1;32m     19\u001b[0m \u001b[0;34m\u001b[0m\u001b[0m\n\u001b[1;32m     20\u001b[0m \u001b[0;31m## need ffmpeg on quest\u001b[0m\u001b[0;34m\u001b[0m\u001b[0;34m\u001b[0m\u001b[0;34m\u001b[0m\u001b[0m\n\u001b[0;32m---> 21\u001b[0;31m \u001b[0mHTML\u001b[0m\u001b[0;34m(\u001b[0m\u001b[0manim\u001b[0m\u001b[0;34m.\u001b[0m\u001b[0mto_html5_video\u001b[0m\u001b[0;34m(\u001b[0m\u001b[0;34m)\u001b[0m\u001b[0;34m)\u001b[0m\u001b[0;34m\u001b[0m\u001b[0;34m\u001b[0m\u001b[0m\n\u001b[0m",
      "\u001b[0;32m~/.conda/envs/caiman/lib/python3.6/site-packages/matplotlib/animation.py\u001b[0m in \u001b[0;36mto_html5_video\u001b[0;34m(self, embed_limit)\u001b[0m\n\u001b[1;32m   1337\u001b[0m                 \u001b[0;31m# We create a writer manually so that we can get the\u001b[0m\u001b[0;34m\u001b[0m\u001b[0;34m\u001b[0m\u001b[0;34m\u001b[0m\u001b[0m\n\u001b[1;32m   1338\u001b[0m                 \u001b[0;31m# appropriate size for the tag\u001b[0m\u001b[0;34m\u001b[0m\u001b[0;34m\u001b[0m\u001b[0;34m\u001b[0m\u001b[0m\n\u001b[0;32m-> 1339\u001b[0;31m                 \u001b[0mWriter\u001b[0m \u001b[0;34m=\u001b[0m \u001b[0mwriters\u001b[0m\u001b[0;34m[\u001b[0m\u001b[0mrcParams\u001b[0m\u001b[0;34m[\u001b[0m\u001b[0;34m'animation.writer'\u001b[0m\u001b[0;34m]\u001b[0m\u001b[0;34m]\u001b[0m\u001b[0;34m\u001b[0m\u001b[0;34m\u001b[0m\u001b[0m\n\u001b[0m\u001b[1;32m   1340\u001b[0m                 writer = Writer(codec='h264',\n\u001b[1;32m   1341\u001b[0m                                 \u001b[0mbitrate\u001b[0m\u001b[0;34m=\u001b[0m\u001b[0mrcParams\u001b[0m\u001b[0;34m[\u001b[0m\u001b[0;34m'animation.bitrate'\u001b[0m\u001b[0;34m]\u001b[0m\u001b[0;34m,\u001b[0m\u001b[0;34m\u001b[0m\u001b[0;34m\u001b[0m\u001b[0m\n",
      "\u001b[0;32m~/.conda/envs/caiman/lib/python3.6/site-packages/matplotlib/animation.py\u001b[0m in \u001b[0;36m__getitem__\u001b[0;34m(self, name)\u001b[0m\n\u001b[1;32m    162\u001b[0m         \u001b[0;32mexcept\u001b[0m \u001b[0mKeyError\u001b[0m\u001b[0;34m:\u001b[0m\u001b[0;34m\u001b[0m\u001b[0;34m\u001b[0m\u001b[0m\n\u001b[1;32m    163\u001b[0m             raise RuntimeError(\n\u001b[0;32m--> 164\u001b[0;31m                 'Requested MovieWriter ({}) not available'.format(name))\n\u001b[0m\u001b[1;32m    165\u001b[0m \u001b[0;34m\u001b[0m\u001b[0m\n\u001b[1;32m    166\u001b[0m \u001b[0;34m\u001b[0m\u001b[0m\n",
      "\u001b[0;31mRuntimeError\u001b[0m: Requested MovieWriter (ffmpeg) not available"
     ]
    }
   ],
   "source": [
    "## plot individual cell activity \n",
    "# np array with shape (frames, height, width, channels)\n",
    "video = cells_recombined\n",
    "\n",
    "fig = plt.figure()\n",
    "im = plt.imshow(video[0,:,:], cmap='gray', vmin=0, vmax=255)\n",
    "\n",
    "plt.close() # this is required to not display the generated image\n",
    "\n",
    "def init():\n",
    "    im.set_data(video[0,:,:])\n",
    "\n",
    "def animate(i):\n",
    "    im.set_data(video[i,:,:])\n",
    "    return im\n",
    "\n",
    "anim = animation.FuncAnimation(fig, animate, init_func=init, frames=video.shape[0],\n",
    "                               interval=50)\n",
    "\n",
    "## need ffmpeg on quest\n",
    "HTML(anim.to_html5_video())"
   ]
  },
  {
   "cell_type": "code",
   "execution_count": null,
   "metadata": {
    "collapsed": false
   },
   "outputs": [],
   "source": [
    "## plot individual cell activity \n",
    "# np array with shape (frames, height, width, channels)\n",
    "video = cells_recombined\n",
    "video_2 = response_movie\n",
    "\n",
    "fig = plt.figure()\n",
    "p1 = fig.add_subplot(1,2,1)\n",
    "im = p1.imshow(video[0,:,:], cmap='gray', vmin=0, vmax=255)\n",
    "p2 = fig.add_subplot(1,2,2)\n",
    "im2 = p2.imshow(video_2[0,:,:], cmap='gray', vmin=0, vmax=255)\n",
    "\n",
    "plt.close() # this is required to not display the generated image\n",
    "\n",
    "def init():\n",
    "    im.set_data(video[0,:,:])\n",
    "    im2.set_data(video_2[0,:,:])\n",
    "\n",
    "def animate(i):\n",
    "    im.set_data(video[i,:,:])\n",
    "    im2.set_data(video_2[i,:,:])\n",
    "    return (im, im2)\n",
    "\n",
    "anim = animation.FuncAnimation(fig, animate, init_func=init, frames=video.shape[0],\n",
    "                               interval=50)\n",
    "\n",
    "## need ffmpeg on quest\n",
    "HTML(anim.to_html5_video())"
   ]
  },
  {
   "cell_type": "code",
   "execution_count": null,
   "metadata": {
    "collapsed": true
   },
   "outputs": [],
   "source": [
    "## how to compare with raw traces? maybe use sample indicies to determine specific avi files, then pull from those (w/direct mount to resfiles?), or automate a globus script? "
   ]
  },
  {
   "cell_type": "code",
   "execution_count": null,
   "metadata": {
    "collapsed": true
   },
   "outputs": [],
   "source": [
    "# pause to take input (y/n) to determine if trace is ideal "
   ]
  },
  {
   "cell_type": "code",
   "execution_count": null,
   "metadata": {
    "collapsed": true,
    "scrolled": true
   },
   "outputs": [],
   "source": [
    "# calculate the peak to rms ratio for each threshold event, each cell, and across all cells and events \n",
    "\n",
    "peak_rms = lambda cell_fluorescence : np.max(cell_fluorescence)/np.sqrt(np.mean(np.square(cell_fluorescence)))\n",
    "\n",
    "cell = 2\n",
    "event = 1097\n",
    "\n",
    "peak_rms_ratio_cell = z_scored_regions_by_session['GRIN039_H12_M26_S54'].iloc[:, z_scored_regions_by_session['GRIN039_H12_M26_S54'].columns.get_level_values(1)==cell].apply(lambda cell_fluorescence : np.max(cell_fluorescence)/np.sqrt(np.mean(np.square(cell_fluorescence))), axis=0)\n",
    "peak_rms_ratio_event = z_scored_regions_by_session['GRIN039_H12_M26_S54'][event].apply(lambda cell_fluorescence : np.max(cell_fluorescence)/np.sqrt(np.mean(np.square(cell_fluorescence))), axis=0)\n",
    "peak_rms_ratio = z_scored_regions_by_session['GRIN039_H12_M26_S54'].apply(lambda cell_fluorescence : np.max(cell_fluorescence)/np.sqrt(np.mean(np.square(cell_fluorescence))), axis=0)"
   ]
  },
  {
   "cell_type": "code",
   "execution_count": null,
   "metadata": {
    "collapsed": true
   },
   "outputs": [],
   "source": [
    "#histogram of all peak to rms ratios across sample events\n",
    "plt.hist(peak_rms_ratio, 100)\n",
    "plt.show()"
   ]
  },
  {
   "cell_type": "code",
   "execution_count": null,
   "metadata": {
    "collapsed": true
   },
   "outputs": [],
   "source": [
    "z_scored_regions_by_session.max()"
   ]
  },
  {
   "cell_type": "code",
   "execution_count": null,
   "metadata": {
    "collapsed": true
   },
   "outputs": [],
   "source": [
    "peak_rms_ratio.max()"
   ]
  },
  {
   "cell_type": "code",
   "execution_count": null,
   "metadata": {
    "collapsed": true
   },
   "outputs": [],
   "source": [
    "# plot average activity of a cell across all movement events "
   ]
  },
  {
   "cell_type": "code",
   "execution_count": null,
   "metadata": {
    "collapsed": true
   },
   "outputs": [],
   "source": [
    "# plots the activity of a cell across all movement threshold crossings in a given session\n",
    "cell = 1\n",
    "z_scored_regions_by_session['GRIN039_H12_M26_S54'].iloc[:, z_scored_regions_by_session['GRIN039_H12_M26_S54'].columns.get_level_values(1)==cell].head()"
   ]
  },
  {
   "cell_type": "code",
   "execution_count": null,
   "metadata": {
    "collapsed": true
   },
   "outputs": [],
   "source": [
    "# plot a few example traces\n",
    "events_to_plot = [0, 1, 5]\n",
    "fig, [ax1, ax2, ax3, ax4] = plt.subplots(4)\n",
    "ax1.plot(z_scored_regions_by_session['GRIN039_H12_M26_S54'].iloc[:, z_scored_regions_by_session['GRIN039_H12_M26_S54'].columns.get_level_values(1)==1][sample_crossing_indicies[events_to_plot[0]]])\n",
    "ax2.plot(z_scored_regions_by_session['GRIN039_H12_M26_S54'].iloc[:, z_scored_regions_by_session['GRIN039_H12_M26_S54'].columns.get_level_values(1)==1][sample_crossing_indicies[events_to_plot[1]]])\n",
    "ax3.plot(z_scored_regions_by_session['GRIN039_H12_M26_S54'].iloc[:, z_scored_regions_by_session['GRIN039_H12_M26_S54'].columns.get_level_values(1)==1][sample_crossing_indicies[events_to_plot[2]]])\n",
    "ax4.plot(pd.concat([z_scored_regions_by_session['GRIN039_H12_M26_S54'].iloc[:, z_scored_regions_by_session['GRIN039_H12_M26_S54'].columns.get_level_values(1)==1][sample_crossing_indicies[events_to_plot[0]]],\n",
    "                   z_scored_regions_by_session['GRIN039_H12_M26_S54'].iloc[:, z_scored_regions_by_session['GRIN039_H12_M26_S54'].columns.get_level_values(1)==1][sample_crossing_indicies[events_to_plot[1]]],\n",
    "                  z_scored_regions_by_session['GRIN039_H12_M26_S54'].iloc[:, z_scored_regions_by_session['GRIN039_H12_M26_S54'].columns.get_level_values(1)==1][sample_crossing_indicies[events_to_plot[2]]]], axis=1).mean(axis=1))"
   ]
  },
  {
   "cell_type": "code",
   "execution_count": null,
   "metadata": {
    "collapsed": true
   },
   "outputs": [],
   "source": [
    "#concat by mouse \n",
    "concacted_by_mouse = {}\n",
    "for mouse in [name[0:7] for name in list(set(z_scored_regions_by_session.columns.levels[0]))]:\n",
    "    dfs_by_mouse = []\n",
    "    sessions = []\n",
    "    for session in list(z_scored_regions_by_session.columns.levels[0]):\n",
    "        if mouse in session:\n",
    "            if not(z_scored_regions_by_session[session].empty):\n",
    "                #means = z_scored_regions_by_session[session].mean(axis=1, level=0)\n",
    "                dfs_by_mouse.append(z_scored_regions_by_session[session])\n",
    "                sessions.append(session)\n",
    "    if len(dfs_by_mouse)>0:\n",
    "        concacted_by_mouse[mouse] = pd.concat(dfs_by_mouse, axis=1, keys=sessions)\n",
    "combined_by_mouse = pd.concat(list(concacted_by_mouse.values()), axis=1, keys=list(concacted_by_mouse.keys()))"
   ]
  },
  {
   "cell_type": "code",
   "execution_count": null,
   "metadata": {
    "collapsed": true,
    "scrolled": true
   },
   "outputs": [],
   "source": [
    "# maybe should do min, max scaler here\n",
    "plt.plot(combined_by_mouse.mean(axis=1))"
   ]
  },
  {
   "cell_type": "code",
   "execution_count": null,
   "metadata": {
    "collapsed": true
   },
   "outputs": [],
   "source": [
    "# create range scaled data to compare across cells\n",
    "scaler = MinMaxScaler()\n",
    "activity_scaled = pd.DataFrame(scaler.fit_transform(combined_by_mouse), columns=combined_by_mouse.columns)\n",
    "activity_scaled_cell_means = activity_scaled.groupby(level=[0,1], axis=1).mean()"
   ]
  },
  {
   "cell_type": "code",
   "execution_count": null,
   "metadata": {
    "collapsed": true,
    "scrolled": true
   },
   "outputs": [],
   "source": [
    "plt.plot(activity_scaled.mean(axis=1))"
   ]
  },
  {
   "cell_type": "code",
   "execution_count": null,
   "metadata": {
    "collapsed": true,
    "scrolled": false
   },
   "outputs": [],
   "source": [
    "combined_by_mouse_timedelta = combined_by_mouse.set_index(pd.to_timedelta(np.linspace(0, (len(combined_by_mouse)-1)*(1/5), len(combined_by_mouse)), unit='s'), drop=True)"
   ]
  },
  {
   "cell_type": "code",
   "execution_count": null,
   "metadata": {
    "collapsed": true,
    "scrolled": true
   },
   "outputs": [],
   "source": [
    "#resampled_for_plotting.head()"
   ]
  },
  {
   "cell_type": "code",
   "execution_count": null,
   "metadata": {
    "collapsed": true
   },
   "outputs": [],
   "source": [
    "plt.rcParams.update({'font.size': 22})\n",
    "df_to_plot = resampled_for_plotting\n",
    "activity_measure = 'spatial_coordination'\n",
    "x = np.linspace(-(len(df_to_plot)/2)*.5, (len(df_to_plot)/2)*.5, len(df_to_plot))\n",
    "scale_f = 0.0868\n",
    "mean=df_to_plot.mean(axis=1, level=2)['velocity'].values*scale_f\n",
    "plt.plot(x, df_to_plot.mean(axis=1, level=2)['velocity'].values*scale_f, color='k')\n",
    "std_error = ((df_to_plot.std(axis=1, level=2)['velocity'])/math.sqrt(df_to_plot.mean(axis=1, level=0).shape[1]))*scale_f\n",
    "plt.fill_between(x, mean-std_error, mean+std_error)\n",
    "ax = plt.gca()\n",
    "ax.set_ylabel('velocity cm/sec')\n",
    "ax.set_xlabel('time (seconds)')\n",
    "ax.axvline(x=(0), linestyle='--', color='r')\n",
    "fig = plt.gcf()\n",
    "fig.set_size_inches(7, 6)\n",
    "#fig.draw()\n",
    "#fig.savefig('/home/jma819/presentation_files/wt_velocity_spatial_coord_triggered.svg', transparent=True)\n",
    "fig.subplots_adjust(left=0.15)\n",
    "fig.savefig('/Users/johnmarshall/Documents/Presentations/Feb20201_LabMeeting/v_triggered.pdf', transparent=True)\n",
    "plt.show()"
   ]
  },
  {
   "cell_type": "code",
   "execution_count": null,
   "metadata": {
    "collapsed": true
   },
   "outputs": [],
   "source": [
    "activity_measure = 'fluorescence'\n",
    "x = np.linspace(-(len(df_to_plot)/2)*.5, (len(df_to_plot)/2)*.5, len(df_to_plot))\n",
    "mean = df_to_plot.mean(axis=1, level=2)[activity_measure].values\n",
    "plt.plot(x, mean, color='k')\n",
    "std_error = (df_to_plot.std(axis=1, level=2)[activity_measure])/math.sqrt(df_to_plot.mean(axis=1, level=0).shape[1]*1)\n",
    "plt.fill_between(x, mean-std_error, mean+std_error)\n",
    "ax = plt.gca()\n",
    "ax.set_ylabel('dF/F z-score')\n",
    "ax.set_xlabel('time (seconds)')\n",
    "ax.axvline(x=0, linestyle='--', color='r')\n",
    "fig = plt.gcf()\n",
    "fig.set_size_inches(7, 6)\n",
    "#fig.draw()\n",
    "#fig.savefig('.svg')\n",
    "fig.subplots_adjust(left=0.15)\n",
    "fig.savefig('/Users/johnmarshall/Documents/Presentations/Feb20201_LabMeeting/wt_fluorescence_triggered.pdf', transparent=True)\n",
    "plt.show()"
   ]
  },
  {
   "cell_type": "markdown",
   "metadata": {},
   "source": [
    "## event ISIs "
   ]
  },
  {
   "cell_type": "code",
   "execution_count": null,
   "metadata": {
    "collapsed": true
   },
   "outputs": [],
   "source": [
    "filtered_for_analysis = {}\n",
    "for session in list(grouped_raw_data.keys()):\n",
    "    filtered_for_analysis[session] = utils_jjm.filter_out_by_size(grouped_raw_data[session]['C_normalized_z_scored'], grouped_raw_data[session]['cell_contours'], \n",
    "                                                                  grouped_raw_data[session]['for_dims'], 0.6, 100)\n",
    "C_df = pd.concat([filtered_for_analysis[session].resample(str(new_sampling_interval)+'S').max()\n",
    "                  for session in list(grouped_raw_data.keys())], keys=list(grouped_raw_data.keys()))"
   ]
  },
  {
   "cell_type": "code",
   "execution_count": null,
   "metadata": {
    "collapsed": true
   },
   "outputs": [],
   "source": [
    "C_df = C_df.drop(['msCamFrame'], axis=1)"
   ]
  },
  {
   "cell_type": "code",
   "execution_count": null,
   "metadata": {
    "collapsed": true
   },
   "outputs": [],
   "source": []
  },
  {
   "cell_type": "code",
   "execution_count": null,
   "metadata": {
    "collapsed": true
   },
   "outputs": [],
   "source": [
    "ISIs_by_session = []\n",
    "for session in list(grouped_raw_data.keys()):\n",
    "    print(session)\n",
    "    event_indicies, event_times, event_ISIs = utils_jjm.get_ISIs(C_df.loc[session].dropna(axis=1), 20, .1, np.array(C_df.loc[session].dropna(axis=1).columns), 2)\n",
    "    ISIs_by_session.append(event_ISIs)"
   ]
  },
  {
   "cell_type": "code",
   "execution_count": null,
   "metadata": {
    "collapsed": true
   },
   "outputs": [],
   "source": []
  },
  {
   "cell_type": "code",
   "execution_count": null,
   "metadata": {
    "collapsed": true
   },
   "outputs": [],
   "source": []
  }
 ],
 "metadata": {
  "kernelspec": {
   "display_name": "caiman",
   "language": "python",
   "name": "caiman"
  },
  "language_info": {
   "codemirror_mode": {
    "name": "ipython",
    "version": 3
   },
   "file_extension": ".py",
   "mimetype": "text/x-python",
   "name": "python",
   "nbconvert_exporter": "python",
   "pygments_lexer": "ipython3",
   "version": "3.6.7"
  }
 },
 "nbformat": 4,
 "nbformat_minor": 2
}
