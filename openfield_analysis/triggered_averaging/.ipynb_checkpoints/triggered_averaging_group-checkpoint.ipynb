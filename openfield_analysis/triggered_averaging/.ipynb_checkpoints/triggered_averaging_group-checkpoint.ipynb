{
 "cells": [
  {
   "cell_type": "code",
   "execution_count": 1,
   "metadata": {},
   "outputs": [
    {
     "data": {
      "text/html": [
       "<style>.container { width:90% !important; }</style>"
      ],
      "text/plain": [
       "<IPython.core.display.HTML object>"
      ]
     },
     "metadata": {},
     "output_type": "display_data"
    },
    {
     "name": "stderr",
     "output_type": "stream",
     "text": [
      "/home/jma819/.conda/envs/caiman/lib/python3.6/site-packages/sklearn/utils/deprecation.py:144: FutureWarning: The sklearn.decomposition.incremental_pca module is  deprecated in version 0.22 and will be removed in version 0.24. The corresponding classes / functions should instead be imported from sklearn.decomposition. Anything that cannot be imported from sklearn.decomposition is now part of the private API.\n",
      "  warnings.warn(message, FutureWarning)\n"
     ]
    }
   ],
   "source": [
    "from IPython.core.display import display, HTML\n",
    "display(HTML(\"<style>.container { width:90% !important; }</style>\"))\n",
    "import numpy as np\n",
    "import pandas as pd\n",
    "import h5py\n",
    "from tqdm import tqdm\n",
    "import scipy.io as sio\n",
    "from scipy import stats\n",
    "from importlib import reload\n",
    "from matplotlib import pyplot as plt\n",
    "import sys\n",
    "sys.path.append('/home/jma819/post_cmfe_analysis')\n",
    "#sys.path.append('/Users/johnmarshall/Documents/Analysis/PythonAnalysisScripts/post_cmfe_analysis')\n",
    "import python_utils_jjm as utils_jjm\n",
    "import dlc_utils\n",
    "import caiman\n",
    "import statsmodels.formula.api as smf\n",
    "import scipy.spatial.distance as dist\n",
    "import itertools\n",
    "import math\n",
    "import warnings\n",
    "warnings.filterwarnings(action='once')"
   ]
  },
  {
   "cell_type": "code",
   "execution_count": 2,
   "metadata": {
    "scrolled": false
   },
   "outputs": [
    {
     "data": {
      "text/plain": [
       "<module 'dlc_utils' from '/home/jma819/post_cmfe_analysis/dlc_utils.py'>"
      ]
     },
     "execution_count": 2,
     "metadata": {},
     "output_type": "execute_result"
    }
   ],
   "source": [
    "reload(utils_jjm)\n",
    "reload(dlc_utils)"
   ]
  },
  {
   "cell_type": "code",
   "execution_count": 3,
   "metadata": {},
   "outputs": [],
   "source": [
    "#cnmfe_file_key = pd.read_csv('/volumes/My_Passport/dlc_analysis/behavcamvideos/cnmfe_file_key.csv')\n",
    "cnmfe_file_key = pd.read_csv('/projects/p30771/dlc_analysis/openfield_dlc_output/cnmfe_file_key.csv')"
   ]
  },
  {
   "cell_type": "code",
   "execution_count": 4,
   "metadata": {},
   "outputs": [],
   "source": [
    "#cnmfe_base_dir = '/Volumes/My_Passport/cnmfe_analysis_files/batch_output_files/'\n",
    "cnmfe_base_dir = '/projects/p30771/MATLAB/CNMF_E_jjm/quest_MATLAB_cnmfe/batch_output_files/'\n",
    "wt_CNMFE_file = ['30-Mar_20_39_05_out.mat', '30-Mar_20_45_16_out.mat', '27-Feb_17_33_59_out.mat', '22-Mar_22_52_02_out.mat',\n",
    "                 '28-Feb_16_10_05_out.mat', '27-Feb_17_32_15_out.mat', '28-Feb_16_21_21_out.mat', '25-Mar_13_27_27_out.mat',\n",
    "                 '25-Mar_14_22_02_out.mat', '25-Mar_14_22_44_out.mat', '26-Mar_18_33_55_out.mat', '27-Mar_00_26_12_out.mat', '27-Mar_00_48_46_out.mat']\n",
    "\n",
    "ko_CNMFE_files = ['31-Mar_13_28_15_out.mat', '29-Mar_21_42_20_out.mat', '13-Apr_17_57_40_out.mat', '29-Mar_14_27_55_out.mat', '13-Apr_16_01_20_out.mat',\n",
    "                 '13-Apr_16_11_27_out.mat', '29-Mar_13_39_44_out.mat']"
   ]
  },
  {
   "cell_type": "code",
   "execution_count": 5,
   "metadata": {},
   "outputs": [],
   "source": [
    "#tracking_files = ['/volumes/My_Passport/dlc_analysis/behavcamvideos/'+utils_jjm.find_behavior_tracking(fname, cnmfe_file_key) for fname in wt_CNMFE_file] \n",
    "tracking_files = ['/projects/p30771/dlc_analysis/openfield_dlc_output/'+utils_jjm.find_behavior_tracking(fname, cnmfe_file_key) for fname in wt_CNMFE_file] "
   ]
  },
  {
   "cell_type": "code",
   "execution_count": 6,
   "metadata": {},
   "outputs": [],
   "source": [
    "CNMFE_dir_paths_list = [str(cnmfe_base_dir+fname) for fname in wt_CNMFE_file]\n",
    "#CNMFE_dir_paths_list"
   ]
  },
  {
   "cell_type": "code",
   "execution_count": 7,
   "metadata": {},
   "outputs": [],
   "source": [
    "binning_time = 1 # seconds \n",
    "body_part_for_tracking = 'tail_base' #\n",
    "number_of_bins = 50 #\n",
    "polynomial_degree = 2 #\n",
    "\n",
    "grouped_raw_data = {}\n",
    "success = []\n",
    "failed = []\n",
    "for CNMFE_file, tracking_file in zip(CNMFE_dir_paths_list, tracking_files):\n",
    "    #print(CNMFE_file)\n",
    "    #print(tracking_file)\n",
    "    try:\n",
    "        # load cell fluorescence \n",
    "        cell_fluorescence = sio.loadmat(CNMFE_file)\n",
    "        C_timedelta = utils_jjm.create_fluorescence_time_delta(cell_fluorescence['C'])\n",
    "        C_normalized = C_timedelta.apply(utils_jjm.normalize).set_index(pd.to_timedelta(np.linspace(0, (len(C_timedelta)-1)*(1/20), len(C_timedelta)), unit='s'), drop=True)\n",
    "        C_z_scored = C_timedelta.apply(stats.zscore).set_index(pd.to_timedelta(np.linspace(0, (len(C_timedelta)-1)*(1/20), len(C_timedelta)), unit='s'), drop=True)\n",
    "        C_normalized_z_scored = C_normalized.apply(stats.zscore).set_index(pd.to_timedelta(np.linspace(0, (len(C_normalized)-1)*(1/20), len(C_normalized)), unit='s'), drop=True)\n",
    "        # create tracking time deltas\n",
    "        interpolated = utils_jjm.prepare_timedelta_dfs(tracking_file)\n",
    "        #load spatial components by session\n",
    "        com_df, spatial_components = utils_jjm.return_spatial_info(CNMFE_file, 0.6)\n",
    "        cell_contours, for_dims = utils_jjm.create_contour_layouts(spatial_components)\n",
    "        #C_z_scored_filtered = utils_jjm.filter_out_by_size(C_z_scored, cell_contours, for_dims, 0.6, 100)\n",
    "        #store results \n",
    "        grouped_raw_data[tracking_file.split('/')[-2]] = {'C': C_timedelta, 'C_z_scored': C_z_scored, 'C_normalized': C_normalized, 'C_normalized_z_scored': C_normalized_z_scored, \n",
    "                                                          'interpolated' : interpolated, 'com' : com_df, 'spatial_components' : spatial_components, 'cell_contours': cell_contours,  \n",
    "                                                         'for_dims' : for_dims}\n",
    "        success.append((tracking_file.split('/')[-2], CNMFE_file.split('/')[-1]))\n",
    "    except FileNotFoundError:\n",
    "        failed.append(tracking_file)\n",
    "    except OSError:\n",
    "        failed.append(tracking_file)"
   ]
  },
  {
   "cell_type": "markdown",
   "metadata": {},
   "source": [
    "## triggered averaging "
   ]
  },
  {
   "cell_type": "code",
   "execution_count": 8,
   "metadata": {},
   "outputs": [],
   "source": [
    "## combine dfs for each session to bin velocity values across dfs\n",
    "#downsample\n",
    "new_sampling_interval = .2\n",
    "V_df = pd.concat([grouped_raw_data[session]['interpolated'].resample(str(new_sampling_interval)+'S').max() \n",
    "                  for session in list(grouped_raw_data.keys())], keys=list(grouped_raw_data.keys()))\n",
    "all_sessions_v_bins = pd.cut(V_df['tail_base'], bins=50)\n",
    "\n",
    "V_df['velocity_bins'] = all_sessions_v_bins"
   ]
  },
  {
   "cell_type": "code",
   "execution_count": null,
   "metadata": {},
   "outputs": [],
   "source": [
    "filtered_for_analysis = {}\n",
    "for session in list(grouped_raw_data.keys()):\n",
    "    filtered_for_analysis[session] = utils_jjm.filter_out_by_size(grouped_raw_data[session]['C_normalized_z_scored'], grouped_raw_data[session]['cell_contours'], \n",
    "                                                                  grouped_raw_data[session]['for_dims'], 0.6, 100)\n",
    "C_df = pd.concat([filtered_for_analysis[session].resample(str(new_sampling_interval)+'S').max()\n",
    "                  for session in list(grouped_raw_data.keys())], keys=list(grouped_raw_data.keys()))\n"
   ]
  },
  {
   "cell_type": "code",
   "execution_count": null,
   "metadata": {},
   "outputs": [],
   "source": [
    "#bin by activity threshold (body_part, resting_time_threshold, active_time_threshold, crossing_threshold, resting_threshold, activity_threshold)\n",
    "binned_velocity_df = pd.DataFrame([dlc_utils.bin_by_activity_threshold(V_df.loc[session]['tail_base'], 80, 20, 1, 2, 3)\n",
    "                                for session in list(grouped_raw_data.keys())], index=list(grouped_raw_data.keys()))\n",
    "binned_velocity_df = binned_velocity_df.transpose()"
   ]
  },
  {
   "cell_type": "code",
   "execution_count": null,
   "metadata": {},
   "outputs": [],
   "source": [
    "#binned_velocity_df"
   ]
  },
  {
   "cell_type": "code",
   "execution_count": null,
   "metadata": {},
   "outputs": [],
   "source": [
    "#fig, (ax1, ax2) = plt.subplots(nrows=1, ncols=2, sharex=True)\n",
    "#ax1.plot(binned_velocity_df['GRIN013_H13_M33_S54'].values)\n",
    "#ax2.plot(V_df.loc['GRIN013_H13_M33_S54']['tail_base'].values)\n",
    "#plt.show()"
   ]
  },
  {
   "cell_type": "code",
   "execution_count": null,
   "metadata": {
    "scrolled": true
   },
   "outputs": [],
   "source": [
    "## get velocity threshold indicies and select fluorescence regions\n",
    "triggered_activity_across_sessions = {}\n",
    "for session in list(grouped_raw_data.keys()):\n",
    "    #inputs activity_threshold, resting_threshold, resting_baseline \n",
    "    crossing_indicies = utils_jjm.select_trigger_regions(binned_velocity_df[session], 0.5, 0.5, 20)\n",
    "    #inputs time_to_plot\n",
    "    threshold_activity = utils_jjm.average_triggered_regions(V_df.loc[session]['tail_base'].values, crossing_indicies, 80)\n",
    "    cells_in_session = C_df.loc[session].dropna(axis=1)\n",
    "    cell_fluorescence = cells_in_session.drop(['msCamFrame'], axis=1)\n",
    "    f_threshold_activity = utils_jjm.average_triggered_regions(cell_fluorescence.mean(axis=1).values, crossing_indicies, 80)\n",
    "    triggered_activity_across_sessions[session] = pd.concat([threshold_activity, f_threshold_activity], axis=1, keys=['velocity', 'fluorescence'])"
   ]
  },
  {
   "cell_type": "code",
   "execution_count": null,
   "metadata": {},
   "outputs": [],
   "source": [
    "#triggered_activity_across_sessions"
   ]
  },
  {
   "cell_type": "code",
   "execution_count": null,
   "metadata": {},
   "outputs": [],
   "source": [
    "#concat by mouse \n",
    "concacted_by_mouse = {}\n",
    "for mouse in list(set([session[0:7] for session in list(triggered_activity_across_sessions.keys())])):\n",
    "    dfs_by_mouse = []\n",
    "    sessions = []\n",
    "    for session in list(triggered_activity_across_sessions.keys()):\n",
    "        if mouse in session:\n",
    "            if not(triggered_activity_across_sessions[session].empty):\n",
    "                means = triggered_activity_across_sessions[session].mean(axis=1, level=0)\n",
    "                dfs_by_mouse.append(means)\n",
    "                sessions.append(session)\n",
    "    if len(dfs_by_mouse)>0:\n",
    "        concacted_by_mouse[mouse] = pd.concat(dfs_by_mouse, axis=1, keys=sessions)\n",
    "combined_by_mouse = pd.concat(list(concacted_by_mouse.values()), axis=1, keys=list(concacted_by_mouse.keys()))"
   ]
  },
  {
   "cell_type": "code",
   "execution_count": null,
   "metadata": {},
   "outputs": [],
   "source": [
    "combined_by_mouse_timedelta = combined_by_mouse.set_index(pd.to_timedelta(np.linspace(0, (len(combined_by_mouse)-1)*(1/5), len(combined_by_mouse)), unit='s'), drop=True)\n",
    "resampled_for_plotting = combined_by_mouse_timedelta.resample('.4S').mean()"
   ]
  },
  {
   "cell_type": "code",
   "execution_count": null,
   "metadata": {},
   "outputs": [],
   "source": [
    "#resampled_for_plotting.head()"
   ]
  },
  {
   "cell_type": "code",
   "execution_count": null,
   "metadata": {},
   "outputs": [],
   "source": [
    "plt.rcParams.update({'font.size': 22})\n",
    "df_to_plot = resampled_for_plotting\n",
    "activity_measure = 'spatial_coordination'\n",
    "x = np.linspace(-(len(df_to_plot)/2)*.5, (len(df_to_plot)/2)*.5, len(df_to_plot))\n",
    "scale_f = 0.0868\n",
    "mean=df_to_plot.mean(axis=1, level=2)['velocity'].values*scale_f\n",
    "plt.plot(x, df_to_plot.mean(axis=1, level=2)['velocity'].values*scale_f, color='k')\n",
    "std_error = ((df_to_plot.std(axis=1, level=2)['velocity'])/math.sqrt(df_to_plot.mean(axis=1, level=0).shape[1]))*scale_f\n",
    "plt.fill_between(x, mean-std_error, mean+std_error)\n",
    "ax = plt.gca()\n",
    "ax.set_ylabel('velocity cm/sec')\n",
    "ax.set_xlabel('time (seconds)')\n",
    "ax.axvline(x=(0), linestyle='--', color='r')\n",
    "fig = plt.gcf()\n",
    "fig.set_size_inches(7, 6)\n",
    "#fig.draw()\n",
    "#fig.savefig('/home/jma819/presentation_files/wt_velocity_spatial_coord_triggered.svg', transparent=True)\n",
    "fig.subplots_adjust(left=0.15)\n",
    "fig.savefig('/home/jma819/presentation_files/v_triggered.pdf', transparent=True)\n",
    "plt.show()"
   ]
  },
  {
   "cell_type": "code",
   "execution_count": null,
   "metadata": {},
   "outputs": [],
   "source": [
    "activity_measure = 'fluorescence'\n",
    "x = np.linspace(-(len(df_to_plot)/2)*.5, (len(df_to_plot)/2)*.5, len(df_to_plot))\n",
    "mean = df_to_plot.mean(axis=1, level=2)[activity_measure].values\n",
    "plt.plot(x, mean, color='k')\n",
    "std_error = (df_to_plot.std(axis=1, level=2)[activity_measure])/math.sqrt(df_to_plot.mean(axis=1, level=0).shape[1]*1)\n",
    "plt.fill_between(x, mean-std_error, mean+std_error)\n",
    "ax = plt.gca()\n",
    "ax.set_ylabel('dF/F z-score')\n",
    "ax.set_xlabel('time (seconds)')\n",
    "ax.axvline(x=0, linestyle='--', color='r')\n",
    "fig = plt.gcf()\n",
    "fig.set_size_inches(7, 6)\n",
    "#fig.draw()\n",
    "#fig.savefig('.svg')\n",
    "fig.subplots_adjust(left=0.15)\n",
    "fig.savefig('/home/jma819/presentation_files/wt_fluorescence_triggered.pdf', transparent=True)\n",
    "plt.show()"
   ]
  },
  {
   "cell_type": "markdown",
   "metadata": {},
   "source": [
    "## event ISIs "
   ]
  },
  {
   "cell_type": "code",
   "execution_count": 10,
   "metadata": {},
   "outputs": [],
   "source": [
    "filtered_for_analysis = {}\n",
    "for session in list(grouped_raw_data.keys()):\n",
    "    filtered_for_analysis[session] = utils_jjm.filter_out_by_size(grouped_raw_data[session]['C_normalized_z_scored'], grouped_raw_data[session]['cell_contours'], \n",
    "                                                                  grouped_raw_data[session]['for_dims'], 0.6, 100)\n",
    "C_df = pd.concat([filtered_for_analysis[session].resample(str(new_sampling_interval)+'S').max()\n",
    "                  for session in list(grouped_raw_data.keys())], keys=list(grouped_raw_data.keys()))"
   ]
  },
  {
   "cell_type": "code",
   "execution_count": 11,
   "metadata": {},
   "outputs": [],
   "source": [
    "C_df = C_df.drop(['msCamFrame'], axis=1)"
   ]
  },
  {
   "cell_type": "code",
   "execution_count": null,
   "metadata": {},
   "outputs": [],
   "source": []
  },
  {
   "cell_type": "code",
   "execution_count": 16,
   "metadata": {},
   "outputs": [
    {
     "name": "stdout",
     "output_type": "stream",
     "text": [
      "GRIN013_H13_M33_S54\n",
      "GRIN027_H13_M29_S44\n",
      "GRIN026_H16_M35_S34\n",
      "GRIN033_H14_M34_S32\n",
      "GRIN033_H13_M42_S33\n",
      "GRIN032_H17_M30_S22\n",
      "GRIN032_H16_M49_S22\n",
      "GRIN034_H15_M28_S2\n",
      "GRIN034_H16_M13_S22\n",
      "GRIN034_H19_M0_S18\n",
      "GRIN035_H13_M50_S58\n",
      "GRIN035_H13_M31_S20\n",
      "GRIN035_H14_M40_S34\n"
     ]
    }
   ],
   "source": [
    "ISIs_by_session = []\n",
    "for session in list(grouped_raw_data.keys()):\n",
    "    print(session)\n",
    "    event_indicies, event_times, event_ISIs = utils_jjm.get_ISIs(C_df.loc[session].dropna(axis=1), 20, .1, np.array(C_df.loc[session].dropna(axis=1).columns), 2)\n",
    "    ISIs_by_session.append(event_ISIs)"
   ]
  },
  {
   "cell_type": "code",
   "execution_count": null,
   "metadata": {},
   "outputs": [],
   "source": []
  },
  {
   "cell_type": "code",
   "execution_count": null,
   "metadata": {},
   "outputs": [],
   "source": []
  }
 ],
 "metadata": {
  "kernelspec": {
   "display_name": "caiman",
   "language": "python",
   "name": "caiman"
  },
  "language_info": {
   "codemirror_mode": {
    "name": "ipython",
    "version": 3
   },
   "file_extension": ".py",
   "mimetype": "text/x-python",
   "name": "python",
   "nbconvert_exporter": "python",
   "pygments_lexer": "ipython3",
   "version": "3.6.7"
  }
 },
 "nbformat": 4,
 "nbformat_minor": 2
}
