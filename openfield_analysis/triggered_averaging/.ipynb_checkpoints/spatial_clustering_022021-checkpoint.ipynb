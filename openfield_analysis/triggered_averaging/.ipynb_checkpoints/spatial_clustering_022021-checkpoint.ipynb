{
 "cells": [
  {
   "cell_type": "code",
   "execution_count": 1,
   "metadata": {
    "collapsed": false
   },
   "outputs": [
    {
     "data": {
      "text/html": [
       "<style>.container { width:90% !important; }</style>"
      ],
      "text/plain": [
       "<IPython.core.display.HTML object>"
      ]
     },
     "metadata": {},
     "output_type": "display_data"
    },
    {
     "name": "stderr",
     "output_type": "stream",
     "text": [
      "/home/jma819/.conda/envs/caiman/lib/python3.6/site-packages/sklearn/utils/deprecation.py:144: FutureWarning: The sklearn.decomposition.incremental_pca module is  deprecated in version 0.22 and will be removed in version 0.24. The corresponding classes / functions should instead be imported from sklearn.decomposition. Anything that cannot be imported from sklearn.decomposition is now part of the private API.\n",
      "  warnings.warn(message, FutureWarning)\n"
     ]
    }
   ],
   "source": [
    "from IPython.core.display import display, HTML\n",
    "display(HTML(\"<style>.container { width:90% !important; }</style>\"))\n",
    "import numpy as np\n",
    "import pandas as pd\n",
    "import h5py\n",
    "from tqdm import tqdm\n",
    "import scipy.io as sio\n",
    "from scipy import stats\n",
    "from importlib import reload\n",
    "from matplotlib import pyplot as plt\n",
    "import sys\n",
    "sys.path.append('/home/jma819/post_cmfe_analysis')\n",
    "#sys.path.append('/Users/johnmarshall/Documents/Analysis/PythonAnalysisScripts/post_cmfe_analysis')\n",
    "import python_utils_jjm as utils_jjm\n",
    "import dlc_utils\n",
    "import caiman\n",
    "from sklearn.preprocessing import MinMaxScaler\n",
    "import seaborn as sns\n",
    "import scipy.spatial.distance as dist\n",
    "import itertools\n",
    "import math\n",
    "import warnings\n",
    "%matplotlib inline\n",
    "from matplotlib import pyplot as plt\n",
    "from matplotlib import animation\n",
    "from IPython.display import HTML\n",
    "warnings.filterwarnings(action='once')"
   ]
  },
  {
   "cell_type": "code",
   "execution_count": 2,
   "metadata": {
    "collapsed": false,
    "scrolled": true
   },
   "outputs": [
    {
     "name": "stderr",
     "output_type": "stream",
     "text": [
      "/home/jma819/.conda/envs/caiman/lib/python3.6/site-packages/jupyter_client/jsonutil.py:67: DeprecationWarning: Interpreting naive datetime as local 2021-02-10 14:43:36.069954. Please add timezone info to timestamps.\n",
      "  new_obj[k] = extract_dates(v)\n"
     ]
    },
    {
     "data": {
      "text/plain": [
       "<module 'dlc_utils' from '/home/jma819/post_cmfe_analysis/dlc_utils.py'>"
      ]
     },
     "execution_count": 2,
     "metadata": {},
     "output_type": "execute_result"
    }
   ],
   "source": [
    "reload(utils_jjm)\n",
    "reload(dlc_utils)"
   ]
  },
  {
   "cell_type": "code",
   "execution_count": 3,
   "metadata": {
    "collapsed": false
   },
   "outputs": [
    {
     "name": "stderr",
     "output_type": "stream",
     "text": [
      "/home/jma819/.conda/envs/caiman/lib/python3.6/site-packages/jupyter_client/jsonutil.py:67: DeprecationWarning: Interpreting naive datetime as local 2021-02-10 14:43:38.364138. Please add timezone info to timestamps.\n",
      "  new_obj[k] = extract_dates(v)\n"
     ]
    }
   ],
   "source": [
    "#cnmfe_file_key = pd.read_csv('/Volumes/My_Passport/dlc_analysis/behavcamvideos/open_field_miniscope/cnmfe_key.csv')\n",
    "cnmfe_file_key = pd.read_csv('/projects/p30771/dlc_analysis/openfield_dlc_output/cnmfe_key.csv')"
   ]
  },
  {
   "cell_type": "code",
   "execution_count": 4,
   "metadata": {
    "collapsed": false
   },
   "outputs": [
    {
     "name": "stderr",
     "output_type": "stream",
     "text": [
      "/home/jma819/.conda/envs/caiman/lib/python3.6/site-packages/jupyter_client/jsonutil.py:67: DeprecationWarning: Interpreting naive datetime as local 2021-02-10 14:43:44.761946. Please add timezone info to timestamps.\n",
      "  new_obj[k] = extract_dates(v)\n"
     ]
    }
   ],
   "source": [
    "#cnmfe_base_dir = '/Volumes/My_Passport/cnmfe_analysis_files/batch_output_files/'\n",
    "cnmfe_base_dir = '/projects/p30771/MATLAB/CNMF_E_jjm/quest_MATLAB_cnmfe/batch_output_files/'\n",
    "#'27-Feb_17_33_59_out.mat' '28-Feb_16_21_21_out.mat' '25-Mar_14_22_02_out.mat', '25-Mar_14_22_44_out.mat', '26-Mar_18_33_55_out.mat', '27-Mar_00_26_12_out.mat', '27-Mar_00_48_46_out.mat' throwing error\n",
    "wt_CNMFE_files = ['29-Jan_12_35_06_out.mat','30-Mar_20_39_05_out.mat', '30-Mar_20_45_16_out.mat', '22-Mar_22_52_02_out.mat',\n",
    "                 '28-Feb_16_10_05_out.mat', '27-Feb_17_32_15_out.mat', '25-Mar_13_27_27_out.mat',\n",
    "                 '27-Feb_17_33_59_out.mat', '28-Feb_16_21_21_out.mat', '25-Mar_14_22_02_out.mat', '25-Mar_14_22_44_out.mat', \n",
    "                  '26-Mar_18_33_55_out.mat', '27-Mar_00_26_12_out.mat', '27-Mar_00_48_46_out.mat']\n",
    "\n",
    "ko_CNMFE_files = ['30-Jan_16_54_31_out.mat','30-Jan_14_00_19_out.mat','31-Jan_01_43_49_out.mat','31-Jan_00_12_24_out.mat','31-Mar_13_28_15_out.mat', '29-Mar_21_42_20_out.mat', '13-Apr_17_57_40_out.mat', '29-Mar_14_27_55_out.mat', '13-Apr_16_01_20_out.mat',\n",
    "                 '13-Apr_16_11_27_out.mat', '29-Mar_13_39_44_out.mat']"
   ]
  },
  {
   "cell_type": "code",
   "execution_count": 5,
   "metadata": {
    "collapsed": false
   },
   "outputs": [
    {
     "name": "stderr",
     "output_type": "stream",
     "text": [
      "/home/jma819/.conda/envs/caiman/lib/python3.6/site-packages/jupyter_client/jsonutil.py:67: DeprecationWarning: Interpreting naive datetime as local 2021-02-10 14:43:45.932794. Please add timezone info to timestamps.\n",
      "  new_obj[k] = extract_dates(v)\n"
     ]
    }
   ],
   "source": [
    "#tracking_files = ['/Volumes/My_Passport/dlc_analysis/behavcamvideos/open_field_miniscope/'+utils_jjm.find_behavior_tracking(fname, cnmfe_file_key) for fname in wt_CNMFE_files] \n",
    "tracking_files = ['/projects/p30771/dlc_analysis/openfield_dlc_output/'+utils_jjm.find_behavior_tracking(fname, cnmfe_file_key) for fname in wt_CNMFE_files] "
   ]
  },
  {
   "cell_type": "code",
   "execution_count": 6,
   "metadata": {
    "collapsed": false
   },
   "outputs": [
    {
     "name": "stderr",
     "output_type": "stream",
     "text": [
      "/home/jma819/.conda/envs/caiman/lib/python3.6/site-packages/jupyter_client/jsonutil.py:67: DeprecationWarning: Interpreting naive datetime as local 2021-02-10 14:43:50.747679. Please add timezone info to timestamps.\n",
      "  new_obj[k] = extract_dates(v)\n"
     ]
    }
   ],
   "source": [
    "#tracking_files"
   ]
  },
  {
   "cell_type": "code",
   "execution_count": 7,
   "metadata": {
    "collapsed": false
   },
   "outputs": [
    {
     "name": "stderr",
     "output_type": "stream",
     "text": [
      "/home/jma819/.conda/envs/caiman/lib/python3.6/site-packages/jupyter_client/jsonutil.py:67: DeprecationWarning: Interpreting naive datetime as local 2021-02-10 14:43:51.998897. Please add timezone info to timestamps.\n",
      "  new_obj[k] = extract_dates(v)\n"
     ]
    }
   ],
   "source": [
    "CNMFE_dir_paths_list = [str(cnmfe_base_dir+fname) for fname in wt_CNMFE_files]\n",
    "#CNMFE_dir_paths_list"
   ]
  },
  {
   "cell_type": "code",
   "execution_count": 8,
   "metadata": {
    "collapsed": false,
    "scrolled": false
   },
   "outputs": [
    {
     "name": "stderr",
     "output_type": "stream",
     "text": [
      "/home/jma819/.conda/envs/caiman/lib/python3.6/site-packages/jupyter_client/jsonutil.py:67: DeprecationWarning: Interpreting naive datetime as local 2021-02-10 14:43:53.114314. Please add timezone info to timestamps.\n",
      "  new_obj[k] = extract_dates(v)\n"
     ]
    },
    {
     "data": {
      "text/plain": [
       "['/projects/p30771/MATLAB/CNMF_E_jjm/quest_MATLAB_cnmfe/batch_output_files/29-Jan_12_35_06_out.mat',\n",
       " '/projects/p30771/MATLAB/CNMF_E_jjm/quest_MATLAB_cnmfe/batch_output_files/30-Mar_20_39_05_out.mat',\n",
       " '/projects/p30771/MATLAB/CNMF_E_jjm/quest_MATLAB_cnmfe/batch_output_files/30-Mar_20_45_16_out.mat',\n",
       " '/projects/p30771/MATLAB/CNMF_E_jjm/quest_MATLAB_cnmfe/batch_output_files/22-Mar_22_52_02_out.mat',\n",
       " '/projects/p30771/MATLAB/CNMF_E_jjm/quest_MATLAB_cnmfe/batch_output_files/28-Feb_16_10_05_out.mat',\n",
       " '/projects/p30771/MATLAB/CNMF_E_jjm/quest_MATLAB_cnmfe/batch_output_files/27-Feb_17_32_15_out.mat',\n",
       " '/projects/p30771/MATLAB/CNMF_E_jjm/quest_MATLAB_cnmfe/batch_output_files/25-Mar_13_27_27_out.mat',\n",
       " '/projects/p30771/MATLAB/CNMF_E_jjm/quest_MATLAB_cnmfe/batch_output_files/27-Feb_17_33_59_out.mat',\n",
       " '/projects/p30771/MATLAB/CNMF_E_jjm/quest_MATLAB_cnmfe/batch_output_files/28-Feb_16_21_21_out.mat',\n",
       " '/projects/p30771/MATLAB/CNMF_E_jjm/quest_MATLAB_cnmfe/batch_output_files/25-Mar_14_22_02_out.mat',\n",
       " '/projects/p30771/MATLAB/CNMF_E_jjm/quest_MATLAB_cnmfe/batch_output_files/25-Mar_14_22_44_out.mat',\n",
       " '/projects/p30771/MATLAB/CNMF_E_jjm/quest_MATLAB_cnmfe/batch_output_files/26-Mar_18_33_55_out.mat',\n",
       " '/projects/p30771/MATLAB/CNMF_E_jjm/quest_MATLAB_cnmfe/batch_output_files/27-Mar_00_26_12_out.mat',\n",
       " '/projects/p30771/MATLAB/CNMF_E_jjm/quest_MATLAB_cnmfe/batch_output_files/27-Mar_00_48_46_out.mat']"
      ]
     },
     "execution_count": 8,
     "metadata": {},
     "output_type": "execute_result"
    }
   ],
   "source": [
    "CNMFE_dir_paths_list"
   ]
  },
  {
   "cell_type": "code",
   "execution_count": 9,
   "metadata": {
    "collapsed": false,
    "scrolled": true
   },
   "outputs": [
    {
     "name": "stderr",
     "output_type": "stream",
     "text": [
      "/home/jma819/.conda/envs/caiman/lib/python3.6/site-packages/jupyter_client/jsonutil.py:67: DeprecationWarning: Interpreting naive datetime as local 2021-02-10 14:43:53.902260. Please add timezone info to timestamps.\n",
      "  new_obj[k] = extract_dates(v)\n"
     ]
    },
    {
     "data": {
      "text/plain": [
       "['/projects/p30771/dlc_analysis/openfield_dlc_output/GRIN039_H12_M26_S54/GRIN039_H12_M26_S54_dlc_tracking_foranalysis_04142020.csv',\n",
       " '/projects/p30771/dlc_analysis/openfield_dlc_output/GRIN013_H13_M33_S54/GRIN013_H13_M33_S54_dlc_tracking_foranalysis_04142020.csv',\n",
       " '/projects/p30771/dlc_analysis/openfield_dlc_output/GRIN027_H13_M29_S44/GRIN027_H13_M29_S44_dlc_tracking_foranalysis_04142020.csv',\n",
       " '/projects/p30771/dlc_analysis/openfield_dlc_output/GRIN033_H14_M34_S32/GRIN033_H14_M34_S32_dlc_tracking_foranalysis_04142020.csv',\n",
       " '/projects/p30771/dlc_analysis/openfield_dlc_output/GRIN033_H13_M42_S33/GRIN033_H13_M42_S33_dlc_tracking_foranalysis_04142020.csv',\n",
       " '/projects/p30771/dlc_analysis/openfield_dlc_output/GRIN032_H17_M30_S22/GRIN032_H17_M30_S22_dlc_tracking_foranalysis_04142020.csv',\n",
       " '/projects/p30771/dlc_analysis/openfield_dlc_output/GRIN034_H15_M28_S2/GRIN034_H15_M28_S2_dlc_tracking_foranalysis_04142020.csv',\n",
       " '/projects/p30771/dlc_analysis/openfield_dlc_output/GRIN026_H16_M35_S34/GRIN026_H16_M35_S34_dlc_tracking_foranalysis_04142020.csv',\n",
       " '/projects/p30771/dlc_analysis/openfield_dlc_output/GRIN032_H16_M49_S22/GRIN032_H16_M49_S22_dlc_tracking_foranalysis_04142020.csv',\n",
       " '/projects/p30771/dlc_analysis/openfield_dlc_output/GRIN034_H16_M13_S22/GRIN034_H16_M13_S22_dlc_tracking_foranalysis_04142020.csv',\n",
       " '/projects/p30771/dlc_analysis/openfield_dlc_output/GRIN034_H19_M0_S18/GRIN034_H19_M0_S18_dlc_tracking_foranalysis_04142020.csv',\n",
       " '/projects/p30771/dlc_analysis/openfield_dlc_output/GRIN035_H13_M50_S58/GRIN035_H13_M50_S58_dlc_tracking_foranalysis_04142020.csv',\n",
       " '/projects/p30771/dlc_analysis/openfield_dlc_output/GRIN035_H13_M31_S20/GRIN035_H13_M31_S20_dlc_tracking_foranalysis_04142020.csv',\n",
       " '/projects/p30771/dlc_analysis/openfield_dlc_output/GRIN035_H14_M40_S34/GRIN035_H14_M40_S34_dlc_tracking_foranalysis_04142020.csv']"
      ]
     },
     "execution_count": 9,
     "metadata": {},
     "output_type": "execute_result"
    }
   ],
   "source": [
    "tracking_files"
   ]
  },
  {
   "cell_type": "code",
   "execution_count": 10,
   "metadata": {
    "collapsed": false
   },
   "outputs": [
    {
     "name": "stderr",
     "output_type": "stream",
     "text": [
      "/home/jma819/.conda/envs/caiman/lib/python3.6/site-packages/jupyter_client/jsonutil.py:67: DeprecationWarning: Interpreting naive datetime as local 2021-02-10 14:43:59.733830. Please add timezone info to timestamps.\n",
      "  new_obj[k] = extract_dates(v)\n"
     ]
    },
    {
     "name": "stdout",
     "output_type": "stream",
     "text": [
      "/projects/p30771/MATLAB/CNMF_E_jjm/quest_MATLAB_cnmfe/batch_output_files/29-Jan_12_35_06_out.mat\n",
      "/projects/p30771/dlc_analysis/openfield_dlc_output/GRIN039_H12_M26_S54/GRIN039_H12_M26_S54_dlc_tracking_foranalysis_04142020.csv\n",
      "/projects/p30771/MATLAB/CNMF_E_jjm/quest_MATLAB_cnmfe/batch_output_files/30-Mar_20_39_05_out.mat\n",
      "/projects/p30771/dlc_analysis/openfield_dlc_output/GRIN013_H13_M33_S54/GRIN013_H13_M33_S54_dlc_tracking_foranalysis_04142020.csv\n",
      "/projects/p30771/MATLAB/CNMF_E_jjm/quest_MATLAB_cnmfe/batch_output_files/30-Mar_20_45_16_out.mat\n",
      "/projects/p30771/dlc_analysis/openfield_dlc_output/GRIN027_H13_M29_S44/GRIN027_H13_M29_S44_dlc_tracking_foranalysis_04142020.csv\n",
      "/projects/p30771/MATLAB/CNMF_E_jjm/quest_MATLAB_cnmfe/batch_output_files/22-Mar_22_52_02_out.mat\n",
      "/projects/p30771/dlc_analysis/openfield_dlc_output/GRIN033_H14_M34_S32/GRIN033_H14_M34_S32_dlc_tracking_foranalysis_04142020.csv\n",
      "/projects/p30771/MATLAB/CNMF_E_jjm/quest_MATLAB_cnmfe/batch_output_files/28-Feb_16_10_05_out.mat\n",
      "/projects/p30771/dlc_analysis/openfield_dlc_output/GRIN033_H13_M42_S33/GRIN033_H13_M42_S33_dlc_tracking_foranalysis_04142020.csv\n",
      "/projects/p30771/MATLAB/CNMF_E_jjm/quest_MATLAB_cnmfe/batch_output_files/27-Feb_17_32_15_out.mat\n",
      "/projects/p30771/dlc_analysis/openfield_dlc_output/GRIN032_H17_M30_S22/GRIN032_H17_M30_S22_dlc_tracking_foranalysis_04142020.csv\n",
      "/projects/p30771/MATLAB/CNMF_E_jjm/quest_MATLAB_cnmfe/batch_output_files/25-Mar_13_27_27_out.mat\n",
      "/projects/p30771/dlc_analysis/openfield_dlc_output/GRIN034_H15_M28_S2/GRIN034_H15_M28_S2_dlc_tracking_foranalysis_04142020.csv\n",
      "/projects/p30771/MATLAB/CNMF_E_jjm/quest_MATLAB_cnmfe/batch_output_files/27-Feb_17_33_59_out.mat\n",
      "/projects/p30771/dlc_analysis/openfield_dlc_output/GRIN026_H16_M35_S34/GRIN026_H16_M35_S34_dlc_tracking_foranalysis_04142020.csv\n",
      "/projects/p30771/MATLAB/CNMF_E_jjm/quest_MATLAB_cnmfe/batch_output_files/28-Feb_16_21_21_out.mat\n",
      "/projects/p30771/dlc_analysis/openfield_dlc_output/GRIN032_H16_M49_S22/GRIN032_H16_M49_S22_dlc_tracking_foranalysis_04142020.csv\n",
      "/projects/p30771/MATLAB/CNMF_E_jjm/quest_MATLAB_cnmfe/batch_output_files/25-Mar_14_22_02_out.mat\n",
      "/projects/p30771/dlc_analysis/openfield_dlc_output/GRIN034_H16_M13_S22/GRIN034_H16_M13_S22_dlc_tracking_foranalysis_04142020.csv\n",
      "/projects/p30771/MATLAB/CNMF_E_jjm/quest_MATLAB_cnmfe/batch_output_files/25-Mar_14_22_44_out.mat\n",
      "/projects/p30771/dlc_analysis/openfield_dlc_output/GRIN034_H19_M0_S18/GRIN034_H19_M0_S18_dlc_tracking_foranalysis_04142020.csv\n",
      "/projects/p30771/MATLAB/CNMF_E_jjm/quest_MATLAB_cnmfe/batch_output_files/26-Mar_18_33_55_out.mat\n",
      "/projects/p30771/dlc_analysis/openfield_dlc_output/GRIN035_H13_M50_S58/GRIN035_H13_M50_S58_dlc_tracking_foranalysis_04142020.csv\n",
      "/projects/p30771/MATLAB/CNMF_E_jjm/quest_MATLAB_cnmfe/batch_output_files/27-Mar_00_26_12_out.mat\n",
      "/projects/p30771/dlc_analysis/openfield_dlc_output/GRIN035_H13_M31_S20/GRIN035_H13_M31_S20_dlc_tracking_foranalysis_04142020.csv\n",
      "/projects/p30771/MATLAB/CNMF_E_jjm/quest_MATLAB_cnmfe/batch_output_files/27-Mar_00_48_46_out.mat\n",
      "/projects/p30771/dlc_analysis/openfield_dlc_output/GRIN035_H14_M40_S34/GRIN035_H14_M40_S34_dlc_tracking_foranalysis_04142020.csv\n"
     ]
    }
   ],
   "source": [
    "binning_time = 1 # seconds \n",
    "body_part_for_tracking = 'tail_base' #\n",
    "\n",
    "grouped_raw_data = {}\n",
    "success = []\n",
    "failed = []\n",
    "for CNMFE_file, tracking_file in zip(CNMFE_dir_paths_list, tracking_files):\n",
    "    print(CNMFE_file)\n",
    "    print(tracking_file)\n",
    "    try:\n",
    "        # load cell fluorescence \n",
    "        cell_fluorescence = sio.loadmat(CNMFE_file)\n",
    "        C_timedelta = utils_jjm.create_fluorescence_time_delta(cell_fluorescence['C'])\n",
    "        C_normalized = C_timedelta.apply(utils_jjm.normalize).set_index(pd.to_timedelta(np.linspace(0, (len(C_timedelta)-1)*(1/20), len(C_timedelta)), unit='s'), drop=True)\n",
    "        C_z_scored = C_timedelta.apply(stats.zscore).set_index(pd.to_timedelta(np.linspace(0, (len(C_timedelta)-1)*(1/20), len(C_timedelta)), unit='s'), drop=True)\n",
    "        C_normalized_z_scored = C_normalized.apply(stats.zscore).set_index(pd.to_timedelta(np.linspace(0, (len(C_normalized)-1)*(1/20), len(C_normalized)), unit='s'), drop=True)\n",
    "        # create tracking time deltas\n",
    "        interpolated = utils_jjm.prepare_timedelta_dfs(tracking_file)\n",
    "        #C_z_scored_filtered = utils_jjm.filter_out_by_size(C_z_scored, cell_contours, for_dims, 0.6, 100)\n",
    "        #store results \n",
    "        #load spatial components by session\n",
    "        com_df, spatial_components = utils_jjm.return_spatial_info(CNMFE_file, 0.6)\n",
    "        cell_contours, for_dims = utils_jjm.create_contour_layouts(spatial_components)\n",
    "        \n",
    "        #store results \n",
    "        grouped_raw_data[tracking_file.split('/')[-2]] = {'C': C_timedelta, 'C_z_scored': C_z_scored, 'C_normalized': C_normalized, 'C_normalized_z_scored': C_normalized_z_scored, \n",
    "                                                          'interpolated' : interpolated, 'com' : com_df, 'spatial_components' : spatial_components, 'cell_contours': cell_contours,  \n",
    "                                                         'for_dims' : for_dims}\n",
    "        success.append((tracking_file.split('/')[-2], CNMFE_file.split('/')[-1]))\n",
    "    except FileNotFoundError:\n",
    "        failed.append(tracking_file)\n",
    "    except OSError:\n",
    "        failed.append(tracking_file)"
   ]
  },
  {
   "cell_type": "code",
   "execution_count": 11,
   "metadata": {
    "collapsed": false
   },
   "outputs": [
    {
     "name": "stderr",
     "output_type": "stream",
     "text": [
      "/home/jma819/.conda/envs/caiman/lib/python3.6/site-packages/jupyter_client/jsonutil.py:67: DeprecationWarning: Interpreting naive datetime as local 2021-02-10 14:44:32.299412. Please add timezone info to timestamps.\n",
      "  new_obj[k] = extract_dates(v)\n"
     ]
    }
   ],
   "source": [
    "## combine dfs for each session to bin velocity values across dfs\n",
    "#downsample\n",
    "new_sampling_interval = .2\n",
    "V_df = pd.concat([grouped_raw_data[session]['interpolated'].resample(str(new_sampling_interval)+'S').max() \n",
    "                  for session in list(grouped_raw_data.keys())], keys=list(grouped_raw_data.keys()))\n",
    "all_sessions_v_bins = pd.cut(V_df['tail_base'], bins=50)\n",
    "\n",
    "V_df['velocity_bins'] = all_sessions_v_bins"
   ]
  },
  {
   "cell_type": "code",
   "execution_count": null,
   "metadata": {
    "collapsed": false,
    "scrolled": true
   },
   "outputs": [],
   "source": [
    "#V_df.index"
   ]
  },
  {
   "cell_type": "code",
   "execution_count": 12,
   "metadata": {
    "collapsed": false
   },
   "outputs": [
    {
     "name": "stderr",
     "output_type": "stream",
     "text": [
      "/home/jma819/.conda/envs/caiman/lib/python3.6/site-packages/jupyter_client/jsonutil.py:67: DeprecationWarning: Interpreting naive datetime as local 2021-02-10 14:44:45.704911. Please add timezone info to timestamps.\n",
      "  new_obj[k] = extract_dates(v)\n"
     ]
    },
    {
     "data": {
      "text/plain": [
       "['GRIN039_H12_M26_S54',\n",
       " 'GRIN013_H13_M33_S54',\n",
       " 'GRIN027_H13_M29_S44',\n",
       " 'GRIN033_H14_M34_S32',\n",
       " 'GRIN033_H13_M42_S33',\n",
       " 'GRIN032_H17_M30_S22',\n",
       " 'GRIN034_H15_M28_S2',\n",
       " 'GRIN026_H16_M35_S34',\n",
       " 'GRIN032_H16_M49_S22',\n",
       " 'GRIN034_H16_M13_S22',\n",
       " 'GRIN034_H19_M0_S18',\n",
       " 'GRIN035_H13_M50_S58',\n",
       " 'GRIN035_H13_M31_S20',\n",
       " 'GRIN035_H14_M40_S34']"
      ]
     },
     "execution_count": 12,
     "metadata": {},
     "output_type": "execute_result"
    }
   ],
   "source": [
    "list(grouped_raw_data.keys())"
   ]
  },
  {
   "cell_type": "code",
   "execution_count": 51,
   "metadata": {
    "collapsed": false,
    "scrolled": true
   },
   "outputs": [
    {
     "name": "stderr",
     "output_type": "stream",
     "text": [
      "/home/jma819/.conda/envs/caiman/lib/python3.6/site-packages/jupyter_client/jsonutil.py:67: DeprecationWarning: Interpreting naive datetime as local 2021-02-10 15:00:52.755632. Please add timezone info to timestamps.\n",
      "  new_obj[k] = extract_dates(v)\n"
     ]
    }
   ],
   "source": [
    "## for spatial clustering start by using z scored data on whole trace as input to event detection function, then try with z score based \n",
    "#on rest or other periods\n",
    "C_traces_filtered_for_analysis = {}\n",
    "com_filtered_for_analysis = {}\n",
    "for session in list(grouped_raw_data.keys()):\n",
    "    # get indicies of small cells \n",
    "    cells_to_drop = np.array([int(cell) for cell in range(1, len(grouped_raw_data[session]['cell_contours'])+1) if \n",
    "                              len(np.array(np.where(grouped_raw_data[session]['for_dims'][cell]>0.6)[0]))<100])\n",
    "    C_traces_filtered = grouped_raw_data[session]['C_normalized_z_scored'].drop(cells_to_drop, axis=1)\n",
    "    \n",
    "    C_traces_filtered_for_analysis[session] = C_traces_filtered.drop('msCamFrame', axis=1)\n",
    "    com_filtered_for_analysis[session] = grouped_raw_data[session]['com'].drop(cells_to_drop, axis=0).transpose()\n",
    "\n",
    "# sets sampling interval to 5Hz to correspond to behavior data \n",
    "C_z_score_df = pd.concat([C_traces_filtered_for_analysis[session].resample(str(new_sampling_interval)+'S').max()\n",
    "                  for session in list(C_traces_filtered_for_analysis.keys())], axis=1, keys=list(C_traces_filtered_for_analysis.keys()))\n",
    "\n",
    "# after downsampling convert back to regular index, timedelta is behaving oddly \n",
    "C_z_score_df_reindexed = pd.concat([C_z_score_df[session].reset_index(drop=True) \n",
    "                                    for session in list(set(C_z_score_df.columns.get_level_values(0)))], axis=1, keys=list(set(C_z_score_df.columns.get_level_values(0))))\n",
    "# drop columns with all nan values\n",
    "C_z_score_df_reindexed.dropna(axis=1, how='all', inplace=True)\n",
    "# create com dataframe\n",
    "#com_df_filtered_for_analysis = pd.concat(com_filtered_for_analysis, axis=0, keys=list(com_filtered_for_analysis.keys()))"
   ]
  },
  {
   "cell_type": "code",
   "execution_count": 52,
   "metadata": {
    "collapsed": false
   },
   "outputs": [
    {
     "name": "stderr",
     "output_type": "stream",
     "text": [
      "/home/jma819/.conda/envs/caiman/lib/python3.6/site-packages/jupyter_client/jsonutil.py:67: DeprecationWarning: Interpreting naive datetime as local 2021-02-10 15:00:55.282821. Please add timezone info to timestamps.\n",
      "  new_obj[k] = extract_dates(v)\n"
     ]
    }
   ],
   "source": [
    "# do same for velocity dataframe\n",
    "V_df_reindexed = pd.concat([V_df.loc[session].reset_index(drop=True)\n",
    "                            for session in list(set(V_df.index.get_level_values(level=0)))], axis=1, keys=list(set(V_df.index.get_level_values(level=0)))) "
   ]
  },
  {
   "cell_type": "code",
   "execution_count": 53,
   "metadata": {
    "collapsed": false,
    "scrolled": true
   },
   "outputs": [
    {
     "name": "stderr",
     "output_type": "stream",
     "text": [
      "/home/jma819/.conda/envs/caiman/lib/python3.6/site-packages/jupyter_client/jsonutil.py:67: DeprecationWarning: Interpreting naive datetime as local 2021-02-10 15:01:00.889967. Please add timezone info to timestamps.\n",
      "  new_obj[k] = extract_dates(v)\n"
     ]
    }
   ],
   "source": [
    "#V_df_reindexed"
   ]
  },
  {
   "cell_type": "code",
   "execution_count": 58,
   "metadata": {
    "collapsed": false,
    "scrolled": true
   },
   "outputs": [
    {
     "name": "stderr",
     "output_type": "stream",
     "text": [
      "/home/jma819/.conda/envs/caiman/lib/python3.6/site-packages/jupyter_client/jsonutil.py:67: DeprecationWarning: Interpreting naive datetime as local 2021-02-10 15:01:40.654299. Please add timezone info to timestamps.\n",
      "  new_obj[k] = extract_dates(v)\n"
     ]
    }
   ],
   "source": [
    "save_directory = '/projects/p30771/miniscope/analysis/OpenFieldAnalysis/spatial_clusters/jones_script_analysis/data/wt/'\n",
    "session = 'GRIN039_H12_M26_S54'"
   ]
  },
  {
   "cell_type": "code",
   "execution_count": 62,
   "metadata": {
    "collapsed": false,
    "scrolled": true
   },
   "outputs": [
    {
     "name": "stderr",
     "output_type": "stream",
     "text": [
      "/home/jma819/.conda/envs/caiman/lib/python3.6/site-packages/jupyter_client/jsonutil.py:67: DeprecationWarning: Interpreting naive datetime as local 2021-02-10 15:07:43.650415. Please add timezone info to timestamps.\n",
      "  new_obj[k] = extract_dates(v)\n"
     ]
    }
   ],
   "source": [
    "## save each session csv file individually for loading into MATLAB\n",
    "# using MATLAB readtable function, which will create variable names from column header \n",
    "C_z_score_df_reindexed[session].to_csv(save_directory+session+'_C_traces_filtered.csv')\n",
    "com_filtered_for_analysis[session].to_csv(save_directory+session+'_com_filtered.csv')"
   ]
  },
  {
   "cell_type": "code",
   "execution_count": 60,
   "metadata": {
    "collapsed": false,
    "scrolled": false
   },
   "outputs": [
    {
     "name": "stderr",
     "output_type": "stream",
     "text": [
      "/home/jma819/.conda/envs/caiman/lib/python3.6/site-packages/jupyter_client/jsonutil.py:67: DeprecationWarning: Interpreting naive datetime as local 2021-02-10 15:01:43.184780. Please add timezone info to timestamps.\n",
      "  new_obj[k] = extract_dates(v)\n"
     ]
    },
    {
     "data": {
      "text/html": [
       "<div>\n",
       "<style scoped>\n",
       "    .dataframe tbody tr th:only-of-type {\n",
       "        vertical-align: middle;\n",
       "    }\n",
       "\n",
       "    .dataframe tbody tr th {\n",
       "        vertical-align: top;\n",
       "    }\n",
       "\n",
       "    .dataframe thead th {\n",
       "        text-align: right;\n",
       "    }\n",
       "</style>\n",
       "<table border=\"1\" class=\"dataframe\">\n",
       "  <thead>\n",
       "    <tr style=\"text-align: right;\">\n",
       "      <th></th>\n",
       "      <th>1</th>\n",
       "      <th>2</th>\n",
       "      <th>3</th>\n",
       "      <th>4</th>\n",
       "      <th>6</th>\n",
       "      <th>8</th>\n",
       "      <th>9</th>\n",
       "      <th>10</th>\n",
       "      <th>11</th>\n",
       "      <th>12</th>\n",
       "      <th>...</th>\n",
       "      <th>75</th>\n",
       "      <th>77</th>\n",
       "      <th>78</th>\n",
       "      <th>80</th>\n",
       "      <th>81</th>\n",
       "      <th>82</th>\n",
       "      <th>86</th>\n",
       "      <th>87</th>\n",
       "      <th>89</th>\n",
       "      <th>92</th>\n",
       "    </tr>\n",
       "  </thead>\n",
       "  <tbody>\n",
       "    <tr>\n",
       "      <th>y</th>\n",
       "      <td>68.768324</td>\n",
       "      <td>175.121865</td>\n",
       "      <td>306.436803</td>\n",
       "      <td>248.907059</td>\n",
       "      <td>64.820820</td>\n",
       "      <td>103.593715</td>\n",
       "      <td>245.030541</td>\n",
       "      <td>232.908070</td>\n",
       "      <td>188.114636</td>\n",
       "      <td>162.647113</td>\n",
       "      <td>...</td>\n",
       "      <td>89.943974</td>\n",
       "      <td>242.028194</td>\n",
       "      <td>177.481789</td>\n",
       "      <td>178.655050</td>\n",
       "      <td>286.509182</td>\n",
       "      <td>92.350833</td>\n",
       "      <td>241.857599</td>\n",
       "      <td>225.233437</td>\n",
       "      <td>157.884239</td>\n",
       "      <td>227.283988</td>\n",
       "    </tr>\n",
       "    <tr>\n",
       "      <th>x</th>\n",
       "      <td>142.865010</td>\n",
       "      <td>200.405861</td>\n",
       "      <td>209.978093</td>\n",
       "      <td>232.637447</td>\n",
       "      <td>291.425813</td>\n",
       "      <td>327.802258</td>\n",
       "      <td>321.518177</td>\n",
       "      <td>316.126005</td>\n",
       "      <td>241.894612</td>\n",
       "      <td>337.694673</td>\n",
       "      <td>...</td>\n",
       "      <td>404.993333</td>\n",
       "      <td>409.473666</td>\n",
       "      <td>372.731788</td>\n",
       "      <td>431.638386</td>\n",
       "      <td>372.434666</td>\n",
       "      <td>302.876279</td>\n",
       "      <td>409.694356</td>\n",
       "      <td>440.431462</td>\n",
       "      <td>324.309089</td>\n",
       "      <td>437.913424</td>\n",
       "    </tr>\n",
       "  </tbody>\n",
       "</table>\n",
       "<p>2 rows × 64 columns</p>\n",
       "</div>"
      ],
      "text/plain": [
       "           1           2           3           4           6           8   \\\n",
       "y   68.768324  175.121865  306.436803  248.907059   64.820820  103.593715   \n",
       "x  142.865010  200.405861  209.978093  232.637447  291.425813  327.802258   \n",
       "\n",
       "           9           10          11          12  ...          75  \\\n",
       "y  245.030541  232.908070  188.114636  162.647113  ...   89.943974   \n",
       "x  321.518177  316.126005  241.894612  337.694673  ...  404.993333   \n",
       "\n",
       "           77          78          80          81          82          86  \\\n",
       "y  242.028194  177.481789  178.655050  286.509182   92.350833  241.857599   \n",
       "x  409.473666  372.731788  431.638386  372.434666  302.876279  409.694356   \n",
       "\n",
       "           87          89          92  \n",
       "y  225.233437  157.884239  227.283988  \n",
       "x  440.431462  324.309089  437.913424  \n",
       "\n",
       "[2 rows x 64 columns]"
      ]
     },
     "execution_count": 60,
     "metadata": {},
     "output_type": "execute_result"
    }
   ],
   "source": [
    "com_filtered_for_analysis[session]"
   ]
  },
  {
   "cell_type": "code",
   "execution_count": 61,
   "metadata": {
    "collapsed": false
   },
   "outputs": [
    {
     "name": "stderr",
     "output_type": "stream",
     "text": [
      "/home/jma819/.conda/envs/caiman/lib/python3.6/site-packages/jupyter_client/jsonutil.py:67: DeprecationWarning: Interpreting naive datetime as local 2021-02-10 15:01:44.144586. Please add timezone info to timestamps.\n",
      "  new_obj[k] = extract_dates(v)\n"
     ]
    },
    {
     "data": {
      "text/html": [
       "<div>\n",
       "<style scoped>\n",
       "    .dataframe tbody tr th:only-of-type {\n",
       "        vertical-align: middle;\n",
       "    }\n",
       "\n",
       "    .dataframe tbody tr th {\n",
       "        vertical-align: top;\n",
       "    }\n",
       "\n",
       "    .dataframe thead th {\n",
       "        text-align: right;\n",
       "    }\n",
       "</style>\n",
       "<table border=\"1\" class=\"dataframe\">\n",
       "  <thead>\n",
       "    <tr style=\"text-align: right;\">\n",
       "      <th></th>\n",
       "      <th>1</th>\n",
       "      <th>2</th>\n",
       "      <th>3</th>\n",
       "      <th>4</th>\n",
       "      <th>6</th>\n",
       "      <th>8</th>\n",
       "      <th>9</th>\n",
       "      <th>10</th>\n",
       "      <th>11</th>\n",
       "      <th>12</th>\n",
       "      <th>...</th>\n",
       "      <th>75</th>\n",
       "      <th>77</th>\n",
       "      <th>78</th>\n",
       "      <th>80</th>\n",
       "      <th>81</th>\n",
       "      <th>82</th>\n",
       "      <th>86</th>\n",
       "      <th>87</th>\n",
       "      <th>89</th>\n",
       "      <th>92</th>\n",
       "    </tr>\n",
       "  </thead>\n",
       "  <tbody>\n",
       "    <tr>\n",
       "      <th>0</th>\n",
       "      <td>0.122117</td>\n",
       "      <td>-0.249583</td>\n",
       "      <td>-0.331010</td>\n",
       "      <td>-0.205427</td>\n",
       "      <td>-0.001761</td>\n",
       "      <td>0.000024</td>\n",
       "      <td>0.025884</td>\n",
       "      <td>0.153226</td>\n",
       "      <td>-0.407156</td>\n",
       "      <td>-0.155207</td>\n",
       "      <td>...</td>\n",
       "      <td>-0.307232</td>\n",
       "      <td>-0.318615</td>\n",
       "      <td>-0.048683</td>\n",
       "      <td>-0.242338</td>\n",
       "      <td>-0.266954</td>\n",
       "      <td>0.003556</td>\n",
       "      <td>-0.346749</td>\n",
       "      <td>-0.344329</td>\n",
       "      <td>-0.321964</td>\n",
       "      <td>-0.389942</td>\n",
       "    </tr>\n",
       "    <tr>\n",
       "      <th>1</th>\n",
       "      <td>0.345189</td>\n",
       "      <td>-0.239506</td>\n",
       "      <td>-0.344611</td>\n",
       "      <td>-0.029356</td>\n",
       "      <td>-0.001204</td>\n",
       "      <td>-0.000250</td>\n",
       "      <td>0.005673</td>\n",
       "      <td>0.056025</td>\n",
       "      <td>-0.502389</td>\n",
       "      <td>-0.156748</td>\n",
       "      <td>...</td>\n",
       "      <td>-0.258610</td>\n",
       "      <td>-0.319024</td>\n",
       "      <td>-0.049717</td>\n",
       "      <td>-0.242149</td>\n",
       "      <td>-0.099790</td>\n",
       "      <td>0.005420</td>\n",
       "      <td>-0.346704</td>\n",
       "      <td>-0.344022</td>\n",
       "      <td>-0.419712</td>\n",
       "      <td>-0.392182</td>\n",
       "    </tr>\n",
       "    <tr>\n",
       "      <th>2</th>\n",
       "      <td>0.151524</td>\n",
       "      <td>-0.251308</td>\n",
       "      <td>-0.390389</td>\n",
       "      <td>0.172059</td>\n",
       "      <td>-0.001247</td>\n",
       "      <td>-0.000071</td>\n",
       "      <td>0.143671</td>\n",
       "      <td>-0.018337</td>\n",
       "      <td>-0.541076</td>\n",
       "      <td>-0.217736</td>\n",
       "      <td>...</td>\n",
       "      <td>-0.309414</td>\n",
       "      <td>-0.318901</td>\n",
       "      <td>-0.046077</td>\n",
       "      <td>-0.239031</td>\n",
       "      <td>-0.202068</td>\n",
       "      <td>0.002862</td>\n",
       "      <td>-0.346878</td>\n",
       "      <td>-0.332824</td>\n",
       "      <td>-0.325178</td>\n",
       "      <td>-0.391023</td>\n",
       "    </tr>\n",
       "    <tr>\n",
       "      <th>3</th>\n",
       "      <td>0.266383</td>\n",
       "      <td>-0.257562</td>\n",
       "      <td>-0.424948</td>\n",
       "      <td>-0.046623</td>\n",
       "      <td>-0.000924</td>\n",
       "      <td>-0.000437</td>\n",
       "      <td>0.174286</td>\n",
       "      <td>0.125023</td>\n",
       "      <td>-0.556792</td>\n",
       "      <td>-0.265961</td>\n",
       "      <td>...</td>\n",
       "      <td>0.131138</td>\n",
       "      <td>-0.319307</td>\n",
       "      <td>-0.041689</td>\n",
       "      <td>-0.233550</td>\n",
       "      <td>-0.295180</td>\n",
       "      <td>0.001502</td>\n",
       "      <td>-0.346973</td>\n",
       "      <td>-0.333237</td>\n",
       "      <td>-0.438767</td>\n",
       "      <td>-0.394517</td>\n",
       "    </tr>\n",
       "    <tr>\n",
       "      <th>4</th>\n",
       "      <td>0.404118</td>\n",
       "      <td>-0.191699</td>\n",
       "      <td>-0.430188</td>\n",
       "      <td>0.295378</td>\n",
       "      <td>-0.000758</td>\n",
       "      <td>-0.000438</td>\n",
       "      <td>0.140037</td>\n",
       "      <td>0.052118</td>\n",
       "      <td>-0.563177</td>\n",
       "      <td>-0.280471</td>\n",
       "      <td>...</td>\n",
       "      <td>-0.158925</td>\n",
       "      <td>-0.319253</td>\n",
       "      <td>-0.047461</td>\n",
       "      <td>-0.238880</td>\n",
       "      <td>-0.210345</td>\n",
       "      <td>-0.000596</td>\n",
       "      <td>-0.347196</td>\n",
       "      <td>-0.335094</td>\n",
       "      <td>-0.166306</td>\n",
       "      <td>-0.392761</td>\n",
       "    </tr>\n",
       "    <tr>\n",
       "      <th>...</th>\n",
       "      <td>...</td>\n",
       "      <td>...</td>\n",
       "      <td>...</td>\n",
       "      <td>...</td>\n",
       "      <td>...</td>\n",
       "      <td>...</td>\n",
       "      <td>...</td>\n",
       "      <td>...</td>\n",
       "      <td>...</td>\n",
       "      <td>...</td>\n",
       "      <td>...</td>\n",
       "      <td>...</td>\n",
       "      <td>...</td>\n",
       "      <td>...</td>\n",
       "      <td>...</td>\n",
       "      <td>...</td>\n",
       "      <td>...</td>\n",
       "      <td>...</td>\n",
       "      <td>...</td>\n",
       "      <td>...</td>\n",
       "      <td>...</td>\n",
       "    </tr>\n",
       "    <tr>\n",
       "      <th>9689</th>\n",
       "      <td>-0.434484</td>\n",
       "      <td>-0.426859</td>\n",
       "      <td>-0.392531</td>\n",
       "      <td>-0.908295</td>\n",
       "      <td>0.007773</td>\n",
       "      <td>-0.000570</td>\n",
       "      <td>0.129371</td>\n",
       "      <td>-0.617443</td>\n",
       "      <td>-0.545924</td>\n",
       "      <td>0.058548</td>\n",
       "      <td>...</td>\n",
       "      <td>-0.238170</td>\n",
       "      <td>-0.319701</td>\n",
       "      <td>2.401991</td>\n",
       "      <td>-0.015848</td>\n",
       "      <td>0.568414</td>\n",
       "      <td>0.002879</td>\n",
       "      <td>2.415303</td>\n",
       "      <td>1.238017</td>\n",
       "      <td>-0.293536</td>\n",
       "      <td>2.200671</td>\n",
       "    </tr>\n",
       "    <tr>\n",
       "      <th>9690</th>\n",
       "      <td>-0.434484</td>\n",
       "      <td>-0.458326</td>\n",
       "      <td>-0.297365</td>\n",
       "      <td>-0.908306</td>\n",
       "      <td>0.006542</td>\n",
       "      <td>-0.000622</td>\n",
       "      <td>0.105950</td>\n",
       "      <td>-0.617443</td>\n",
       "      <td>-0.555192</td>\n",
       "      <td>0.018227</td>\n",
       "      <td>...</td>\n",
       "      <td>-0.065056</td>\n",
       "      <td>-0.319701</td>\n",
       "      <td>6.123264</td>\n",
       "      <td>0.079136</td>\n",
       "      <td>2.427389</td>\n",
       "      <td>0.003249</td>\n",
       "      <td>2.344075</td>\n",
       "      <td>1.084661</td>\n",
       "      <td>-0.298945</td>\n",
       "      <td>5.697765</td>\n",
       "    </tr>\n",
       "    <tr>\n",
       "      <th>9691</th>\n",
       "      <td>-0.434485</td>\n",
       "      <td>-0.480435</td>\n",
       "      <td>-0.342418</td>\n",
       "      <td>-0.908314</td>\n",
       "      <td>0.006545</td>\n",
       "      <td>-0.000668</td>\n",
       "      <td>0.077391</td>\n",
       "      <td>-0.617443</td>\n",
       "      <td>-0.477569</td>\n",
       "      <td>0.123349</td>\n",
       "      <td>...</td>\n",
       "      <td>-0.109589</td>\n",
       "      <td>-0.319701</td>\n",
       "      <td>7.781861</td>\n",
       "      <td>0.045985</td>\n",
       "      <td>2.072149</td>\n",
       "      <td>0.001650</td>\n",
       "      <td>2.274682</td>\n",
       "      <td>0.945818</td>\n",
       "      <td>-0.080670</td>\n",
       "      <td>4.187395</td>\n",
       "    </tr>\n",
       "    <tr>\n",
       "      <th>9692</th>\n",
       "      <td>-0.434485</td>\n",
       "      <td>-0.455743</td>\n",
       "      <td>-0.369961</td>\n",
       "      <td>-0.908319</td>\n",
       "      <td>0.007796</td>\n",
       "      <td>-0.000297</td>\n",
       "      <td>0.051609</td>\n",
       "      <td>-0.617443</td>\n",
       "      <td>-0.499535</td>\n",
       "      <td>0.224164</td>\n",
       "      <td>...</td>\n",
       "      <td>-0.228926</td>\n",
       "      <td>-0.319701</td>\n",
       "      <td>4.726718</td>\n",
       "      <td>0.016241</td>\n",
       "      <td>0.293090</td>\n",
       "      <td>0.003154</td>\n",
       "      <td>2.207077</td>\n",
       "      <td>0.820115</td>\n",
       "      <td>0.069815</td>\n",
       "      <td>3.051249</td>\n",
       "    </tr>\n",
       "    <tr>\n",
       "      <th>9693</th>\n",
       "      <td>-0.434485</td>\n",
       "      <td>-0.468188</td>\n",
       "      <td>-0.401039</td>\n",
       "      <td>1.781003</td>\n",
       "      <td>0.006374</td>\n",
       "      <td>-0.000302</td>\n",
       "      <td>0.028334</td>\n",
       "      <td>-0.617444</td>\n",
       "      <td>-0.528688</td>\n",
       "      <td>1.624563</td>\n",
       "      <td>...</td>\n",
       "      <td>0.405998</td>\n",
       "      <td>-0.319701</td>\n",
       "      <td>5.019100</td>\n",
       "      <td>-0.010448</td>\n",
       "      <td>0.733509</td>\n",
       "      <td>-0.001053</td>\n",
       "      <td>2.141214</td>\n",
       "      <td>0.706308</td>\n",
       "      <td>1.657723</td>\n",
       "      <td>2.196605</td>\n",
       "    </tr>\n",
       "  </tbody>\n",
       "</table>\n",
       "<p>9694 rows × 64 columns</p>\n",
       "</div>"
      ],
      "text/plain": [
       "            1         2         3         4         6         8         9   \\\n",
       "0     0.122117 -0.249583 -0.331010 -0.205427 -0.001761  0.000024  0.025884   \n",
       "1     0.345189 -0.239506 -0.344611 -0.029356 -0.001204 -0.000250  0.005673   \n",
       "2     0.151524 -0.251308 -0.390389  0.172059 -0.001247 -0.000071  0.143671   \n",
       "3     0.266383 -0.257562 -0.424948 -0.046623 -0.000924 -0.000437  0.174286   \n",
       "4     0.404118 -0.191699 -0.430188  0.295378 -0.000758 -0.000438  0.140037   \n",
       "...        ...       ...       ...       ...       ...       ...       ...   \n",
       "9689 -0.434484 -0.426859 -0.392531 -0.908295  0.007773 -0.000570  0.129371   \n",
       "9690 -0.434484 -0.458326 -0.297365 -0.908306  0.006542 -0.000622  0.105950   \n",
       "9691 -0.434485 -0.480435 -0.342418 -0.908314  0.006545 -0.000668  0.077391   \n",
       "9692 -0.434485 -0.455743 -0.369961 -0.908319  0.007796 -0.000297  0.051609   \n",
       "9693 -0.434485 -0.468188 -0.401039  1.781003  0.006374 -0.000302  0.028334   \n",
       "\n",
       "            10        11        12  ...        75        77        78  \\\n",
       "0     0.153226 -0.407156 -0.155207  ... -0.307232 -0.318615 -0.048683   \n",
       "1     0.056025 -0.502389 -0.156748  ... -0.258610 -0.319024 -0.049717   \n",
       "2    -0.018337 -0.541076 -0.217736  ... -0.309414 -0.318901 -0.046077   \n",
       "3     0.125023 -0.556792 -0.265961  ...  0.131138 -0.319307 -0.041689   \n",
       "4     0.052118 -0.563177 -0.280471  ... -0.158925 -0.319253 -0.047461   \n",
       "...        ...       ...       ...  ...       ...       ...       ...   \n",
       "9689 -0.617443 -0.545924  0.058548  ... -0.238170 -0.319701  2.401991   \n",
       "9690 -0.617443 -0.555192  0.018227  ... -0.065056 -0.319701  6.123264   \n",
       "9691 -0.617443 -0.477569  0.123349  ... -0.109589 -0.319701  7.781861   \n",
       "9692 -0.617443 -0.499535  0.224164  ... -0.228926 -0.319701  4.726718   \n",
       "9693 -0.617444 -0.528688  1.624563  ...  0.405998 -0.319701  5.019100   \n",
       "\n",
       "            80        81        82        86        87        89        92  \n",
       "0    -0.242338 -0.266954  0.003556 -0.346749 -0.344329 -0.321964 -0.389942  \n",
       "1    -0.242149 -0.099790  0.005420 -0.346704 -0.344022 -0.419712 -0.392182  \n",
       "2    -0.239031 -0.202068  0.002862 -0.346878 -0.332824 -0.325178 -0.391023  \n",
       "3    -0.233550 -0.295180  0.001502 -0.346973 -0.333237 -0.438767 -0.394517  \n",
       "4    -0.238880 -0.210345 -0.000596 -0.347196 -0.335094 -0.166306 -0.392761  \n",
       "...        ...       ...       ...       ...       ...       ...       ...  \n",
       "9689 -0.015848  0.568414  0.002879  2.415303  1.238017 -0.293536  2.200671  \n",
       "9690  0.079136  2.427389  0.003249  2.344075  1.084661 -0.298945  5.697765  \n",
       "9691  0.045985  2.072149  0.001650  2.274682  0.945818 -0.080670  4.187395  \n",
       "9692  0.016241  0.293090  0.003154  2.207077  0.820115  0.069815  3.051249  \n",
       "9693 -0.010448  0.733509 -0.001053  2.141214  0.706308  1.657723  2.196605  \n",
       "\n",
       "[9694 rows x 64 columns]"
      ]
     },
     "execution_count": 61,
     "metadata": {},
     "output_type": "execute_result"
    }
   ],
   "source": [
    "C_z_score_df_reindexed[session]"
   ]
  },
  {
   "cell_type": "code",
   "execution_count": 68,
   "metadata": {
    "collapsed": false
   },
   "outputs": [
    {
     "name": "stderr",
     "output_type": "stream",
     "text": [
      "/home/jma819/.conda/envs/caiman/lib/python3.6/site-packages/jupyter_client/jsonutil.py:67: DeprecationWarning: Interpreting naive datetime as local 2021-02-10 15:53:51.622006. Please add timezone info to timestamps.\n",
      "  new_obj[k] = extract_dates(v)\n"
     ]
    },
    {
     "data": {
      "text/plain": [
       "120.92164159392645"
      ]
     },
     "execution_count": 68,
     "metadata": {},
     "output_type": "execute_result"
    }
   ],
   "source": [
    "math.sqrt(((175.1219-68.7683)**2)+((200.4059-142.8650)**2))"
   ]
  },
  {
   "cell_type": "code",
   "execution_count": null,
   "metadata": {
    "collapsed": true
   },
   "outputs": [],
   "source": []
  }
 ],
 "metadata": {
  "kernelspec": {
   "display_name": "caiman",
   "language": "python",
   "name": "caiman"
  },
  "language_info": {
   "codemirror_mode": {
    "name": "ipython",
    "version": 3
   },
   "file_extension": ".py",
   "mimetype": "text/x-python",
   "name": "python",
   "nbconvert_exporter": "python",
   "pygments_lexer": "ipython3",
   "version": "3.6.7"
  }
 },
 "nbformat": 4,
 "nbformat_minor": 2
}
