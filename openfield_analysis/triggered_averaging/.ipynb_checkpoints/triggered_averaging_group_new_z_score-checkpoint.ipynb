{
 "cells": [
  {
   "cell_type": "code",
   "execution_count": 1,
   "metadata": {
    "collapsed": false
   },
   "outputs": [
    {
     "data": {
      "text/html": [
       "<style>.container { width:90% !important; }</style>"
      ],
      "text/plain": [
       "<IPython.core.display.HTML object>"
      ]
     },
     "metadata": {},
     "output_type": "display_data"
    },
    {
     "name": "stderr",
     "output_type": "stream",
     "text": [
      "/home/jma819/.conda/envs/caiman/lib/python3.6/site-packages/sklearn/utils/deprecation.py:144: FutureWarning: The sklearn.decomposition.incremental_pca module is  deprecated in version 0.22 and will be removed in version 0.24. The corresponding classes / functions should instead be imported from sklearn.decomposition. Anything that cannot be imported from sklearn.decomposition is now part of the private API.\n",
      "  warnings.warn(message, FutureWarning)\n"
     ]
    }
   ],
   "source": [
    "from IPython.core.display import display, HTML\n",
    "display(HTML(\"<style>.container { width:90% !important; }</style>\"))\n",
    "import numpy as np\n",
    "import pandas as pd\n",
    "import h5py\n",
    "from tqdm import tqdm\n",
    "import scipy.io as sio\n",
    "from scipy import stats\n",
    "from importlib import reload\n",
    "from matplotlib import pyplot as plt\n",
    "import sys\n",
    "sys.path.append('/home/jma819/post_cmfe_analysis')\n",
    "#sys.path.append('/Users/johnmarshall/Documents/Analysis/PythonAnalysisScripts/post_cmfe_analysis')\n",
    "import python_utils_jjm as utils_jjm\n",
    "import dlc_utils\n",
    "import caiman\n",
    "import statsmodels.formula.api as smf\n",
    "import scipy.spatial.distance as dist\n",
    "import itertools\n",
    "import math\n",
    "import warnings\n",
    "warnings.filterwarnings(action='once')"
   ]
  },
  {
   "cell_type": "code",
   "execution_count": 2,
   "metadata": {
    "collapsed": false,
    "scrolled": true
   },
   "outputs": [
    {
     "name": "stderr",
     "output_type": "stream",
     "text": [
      "/home/jma819/.conda/envs/caiman/lib/python3.6/site-packages/jupyter_client/jsonutil.py:67: DeprecationWarning: Interpreting naive datetime as local 2021-02-04 10:57:07.813061. Please add timezone info to timestamps.\n",
      "  new_obj[k] = extract_dates(v)\n"
     ]
    },
    {
     "data": {
      "text/plain": [
       "<module 'dlc_utils' from '/home/jma819/post_cmfe_analysis/dlc_utils.py'>"
      ]
     },
     "execution_count": 2,
     "metadata": {},
     "output_type": "execute_result"
    }
   ],
   "source": [
    "reload(utils_jjm)\n",
    "reload(dlc_utils)"
   ]
  },
  {
   "cell_type": "code",
   "execution_count": 3,
   "metadata": {
    "collapsed": false
   },
   "outputs": [
    {
     "name": "stderr",
     "output_type": "stream",
     "text": [
      "/home/jma819/.conda/envs/caiman/lib/python3.6/site-packages/jupyter_client/jsonutil.py:67: DeprecationWarning: Interpreting naive datetime as local 2021-02-04 10:57:08.673291. Please add timezone info to timestamps.\n",
      "  new_obj[k] = extract_dates(v)\n"
     ]
    }
   ],
   "source": [
    "#cnmfe_file_key = pd.read_csv('/Volumes/My_Passport/dlc_analysis/behavcamvideos/open_field_miniscope/cnmfe_key.csv')\n",
    "cnmfe_file_key = pd.read_csv('/projects/p30771/dlc_analysis/openfield_dlc_output/cnmfe_key.csv')"
   ]
  },
  {
   "cell_type": "code",
   "execution_count": 4,
   "metadata": {
    "collapsed": false
   },
   "outputs": [
    {
     "name": "stderr",
     "output_type": "stream",
     "text": [
      "/home/jma819/.conda/envs/caiman/lib/python3.6/site-packages/jupyter_client/jsonutil.py:67: DeprecationWarning: Interpreting naive datetime as local 2021-02-04 10:57:09.583098. Please add timezone info to timestamps.\n",
      "  new_obj[k] = extract_dates(v)\n"
     ]
    }
   ],
   "source": [
    "#cnmfe_base_dir = '/Volumes/My_Passport/cnmfe_analysis_files/batch_output_files/'\n",
    "cnmfe_base_dir = '/projects/p30771/MATLAB/CNMF_E_jjm/quest_MATLAB_cnmfe/batch_output_files/'\n",
    "# '27-Feb_17_33_59_out.mat' '28-Feb_16_21_21_out.mat' '25-Mar_14_22_02_out.mat', '25-Mar_14_22_44_out.mat', '26-Mar_18_33_55_out.mat', '27-Mar_00_26_12_out.mat', '27-Mar_00_48_46_out.mat' throwing error\n",
    "wt_CNMFE_files = ['29-Jan_12_35_06_out.mat','30-Mar_20_39_05_out.mat', '30-Mar_20_45_16_out.mat', '22-Mar_22_52_02_out.mat',\n",
    "                 '28-Feb_16_10_05_out.mat', '27-Feb_17_32_15_out.mat', '25-Mar_13_27_27_out.mat']\n",
    "\n",
    "ko_CNMFE_files = ['30-Jan_16_54_31_out.mat','30-Jan_14_00_19_out.mat','31-Jan_01_43_49_out.mat','31-Jan_00_12_24_out.mat','31-Mar_13_28_15_out.mat', '29-Mar_21_42_20_out.mat', '13-Apr_17_57_40_out.mat', '29-Mar_14_27_55_out.mat', '13-Apr_16_01_20_out.mat',\n",
    "                 '13-Apr_16_11_27_out.mat', '29-Mar_13_39_44_out.mat']"
   ]
  },
  {
   "cell_type": "code",
   "execution_count": 5,
   "metadata": {
    "collapsed": false
   },
   "outputs": [
    {
     "name": "stderr",
     "output_type": "stream",
     "text": [
      "/home/jma819/.conda/envs/caiman/lib/python3.6/site-packages/jupyter_client/jsonutil.py:67: DeprecationWarning: Interpreting naive datetime as local 2021-02-04 10:57:10.320546. Please add timezone info to timestamps.\n",
      "  new_obj[k] = extract_dates(v)\n"
     ]
    }
   ],
   "source": [
    "#tracking_files = ['/Volumes/My_Passport/dlc_analysis/behavcamvideos/open_field_miniscope/'+utils_jjm.find_behavior_tracking(fname, cnmfe_file_key) for fname in wt_CNMFE_files] \n",
    "tracking_files = ['/projects/p30771/dlc_analysis/openfield_dlc_output/'+utils_jjm.find_behavior_tracking(fname, cnmfe_file_key) for fname in wt_CNMFE_files] "
   ]
  },
  {
   "cell_type": "code",
   "execution_count": 6,
   "metadata": {
    "collapsed": false
   },
   "outputs": [
    {
     "name": "stderr",
     "output_type": "stream",
     "text": [
      "/home/jma819/.conda/envs/caiman/lib/python3.6/site-packages/jupyter_client/jsonutil.py:67: DeprecationWarning: Interpreting naive datetime as local 2021-02-04 10:57:10.940888. Please add timezone info to timestamps.\n",
      "  new_obj[k] = extract_dates(v)\n"
     ]
    }
   ],
   "source": [
    "#tracking_files"
   ]
  },
  {
   "cell_type": "code",
   "execution_count": 7,
   "metadata": {
    "collapsed": false
   },
   "outputs": [
    {
     "name": "stderr",
     "output_type": "stream",
     "text": [
      "/home/jma819/.conda/envs/caiman/lib/python3.6/site-packages/jupyter_client/jsonutil.py:67: DeprecationWarning: Interpreting naive datetime as local 2021-02-04 10:57:11.541848. Please add timezone info to timestamps.\n",
      "  new_obj[k] = extract_dates(v)\n"
     ]
    }
   ],
   "source": [
    "CNMFE_dir_paths_list = [str(cnmfe_base_dir+fname) for fname in wt_CNMFE_files]\n",
    "#CNMFE_dir_paths_list"
   ]
  },
  {
   "cell_type": "code",
   "execution_count": 8,
   "metadata": {
    "collapsed": false
   },
   "outputs": [
    {
     "name": "stderr",
     "output_type": "stream",
     "text": [
      "/home/jma819/.conda/envs/caiman/lib/python3.6/site-packages/jupyter_client/jsonutil.py:67: DeprecationWarning: Interpreting naive datetime as local 2021-02-04 10:57:12.178152. Please add timezone info to timestamps.\n",
      "  new_obj[k] = extract_dates(v)\n"
     ]
    },
    {
     "data": {
      "text/plain": [
       "['/projects/p30771/MATLAB/CNMF_E_jjm/quest_MATLAB_cnmfe/batch_output_files/29-Jan_12_35_06_out.mat',\n",
       " '/projects/p30771/MATLAB/CNMF_E_jjm/quest_MATLAB_cnmfe/batch_output_files/30-Mar_20_39_05_out.mat',\n",
       " '/projects/p30771/MATLAB/CNMF_E_jjm/quest_MATLAB_cnmfe/batch_output_files/30-Mar_20_45_16_out.mat',\n",
       " '/projects/p30771/MATLAB/CNMF_E_jjm/quest_MATLAB_cnmfe/batch_output_files/22-Mar_22_52_02_out.mat',\n",
       " '/projects/p30771/MATLAB/CNMF_E_jjm/quest_MATLAB_cnmfe/batch_output_files/28-Feb_16_10_05_out.mat',\n",
       " '/projects/p30771/MATLAB/CNMF_E_jjm/quest_MATLAB_cnmfe/batch_output_files/27-Feb_17_32_15_out.mat',\n",
       " '/projects/p30771/MATLAB/CNMF_E_jjm/quest_MATLAB_cnmfe/batch_output_files/25-Mar_13_27_27_out.mat']"
      ]
     },
     "execution_count": 8,
     "metadata": {},
     "output_type": "execute_result"
    }
   ],
   "source": [
    "CNMFE_dir_paths_list"
   ]
  },
  {
   "cell_type": "code",
   "execution_count": 10,
   "metadata": {
    "collapsed": false
   },
   "outputs": [
    {
     "name": "stderr",
     "output_type": "stream",
     "text": [
      "/home/jma819/.conda/envs/caiman/lib/python3.6/site-packages/jupyter_client/jsonutil.py:67: DeprecationWarning: Interpreting naive datetime as local 2021-02-04 10:57:39.031740. Please add timezone info to timestamps.\n",
      "  new_obj[k] = extract_dates(v)\n"
     ]
    },
    {
     "data": {
      "text/plain": [
       "['/projects/p30771/dlc_analysis/openfield_dlc_output/GRIN039_H12_M26_S54/GRIN039_H12_M26_S54_dlc_tracking_foranalysis_04142020.csv']"
      ]
     },
     "execution_count": 10,
     "metadata": {},
     "output_type": "execute_result"
    }
   ],
   "source": [
    "tracking_files"
   ]
  },
  {
   "cell_type": "code",
   "execution_count": null,
   "metadata": {
    "collapsed": false
   },
   "outputs": [],
   "source": [
    "CNMFE_file = CNMFE_dir_paths_list[0]\n",
    "tracking_file = tracking_files[0]"
   ]
  },
  {
   "cell_type": "code",
   "execution_count": null,
   "metadata": {
    "collapsed": false
   },
   "outputs": [],
   "source": [
    "cell_fluorescence = sio.loadmat(CNMFE_file)\n",
    "C_timedelta = utils_jjm.create_fluorescence_time_delta(cell_fluorescence['C'])\n",
    "C_normalized = C_timedelta.apply(utils_jjm.normalize).set_index(pd.to_timedelta(np.linspace(0, (len(C_timedelta)-1)*(1/20), len(C_timedelta)), unit='s'), drop=True)\n",
    "C_z_scored = C_timedelta.apply(stats.zscore).set_index(pd.to_timedelta(np.linspace(0, (len(C_timedelta)-1)*(1/20), len(C_timedelta)), unit='s'), drop=True)\n",
    "C_normalized_z_scored = C_normalized.apply(stats.zscore).set_index(pd.to_timedelta(np.linspace(0, (len(C_normalized)-1)*(1/20), len(C_normalized)), unit='s'), drop=True)"
   ]
  },
  {
   "cell_type": "code",
   "execution_count": null,
   "metadata": {
    "collapsed": false
   },
   "outputs": [],
   "source": [
    "interpolated = utils_jjm.prepare_timedelta_dfs(tracking_file)"
   ]
  },
  {
   "cell_type": "code",
   "execution_count": null,
   "metadata": {
    "collapsed": false
   },
   "outputs": [],
   "source": [
    "com_df, spatial_components = utils_jjm.return_spatial_info(CNMFE_file, 0.6)\n",
    "cell_contours, for_dims = utils_jjm.create_contour_layouts(spatial_components)"
   ]
  },
  {
   "cell_type": "code",
   "execution_count": null,
   "metadata": {
    "collapsed": false
   },
   "outputs": [],
   "source": []
  },
  {
   "cell_type": "code",
   "execution_count": 11,
   "metadata": {
    "collapsed": false
   },
   "outputs": [
    {
     "name": "stderr",
     "output_type": "stream",
     "text": [
      "/home/jma819/.conda/envs/caiman/lib/python3.6/site-packages/jupyter_client/jsonutil.py:67: DeprecationWarning: Interpreting naive datetime as local 2021-02-04 10:57:53.631525. Please add timezone info to timestamps.\n",
      "  new_obj[k] = extract_dates(v)\n"
     ]
    },
    {
     "name": "stdout",
     "output_type": "stream",
     "text": [
      "/projects/p30771/MATLAB/CNMF_E_jjm/quest_MATLAB_cnmfe/batch_output_files/29-Jan_12_35_06_out.mat\n",
      "/projects/p30771/dlc_analysis/openfield_dlc_output/GRIN039_H12_M26_S54/GRIN039_H12_M26_S54_dlc_tracking_foranalysis_04142020.csv\n"
     ]
    }
   ],
   "source": [
    "binning_time = 1 # seconds \n",
    "body_part_for_tracking = 'tail_base' #\n",
    "\n",
    "grouped_raw_data = {}\n",
    "success = []\n",
    "failed = []\n",
    "for CNMFE_file, tracking_file in zip(CNMFE_dir_paths_list[0:1], tracking_files[0:1]):\n",
    "    print(CNMFE_file)\n",
    "    print(tracking_file)\n",
    "    try:\n",
    "        # load cell fluorescence \n",
    "        cell_fluorescence = sio.loadmat(CNMFE_file)\n",
    "        C_timedelta = utils_jjm.create_fluorescence_time_delta(cell_fluorescence['C'])\n",
    "        C_normalized = C_timedelta.apply(utils_jjm.normalize).set_index(pd.to_timedelta(np.linspace(0, (len(C_timedelta)-1)*(1/20), len(C_timedelta)), unit='s'), drop=True)\n",
    "        C_z_scored = C_timedelta.apply(stats.zscore).set_index(pd.to_timedelta(np.linspace(0, (len(C_timedelta)-1)*(1/20), len(C_timedelta)), unit='s'), drop=True)\n",
    "        C_normalized_z_scored = C_normalized.apply(stats.zscore).set_index(pd.to_timedelta(np.linspace(0, (len(C_normalized)-1)*(1/20), len(C_normalized)), unit='s'), drop=True)\n",
    "        # create tracking time deltas\n",
    "        interpolated = utils_jjm.prepare_timedelta_dfs(tracking_file)\n",
    "        #C_z_scored_filtered = utils_jjm.filter_out_by_size(C_z_scored, cell_contours, for_dims, 0.6, 100)\n",
    "        #store results \n",
    "        #load spatial components by session\n",
    "        com_df, spatial_components = utils_jjm.return_spatial_info(CNMFE_file, 0.6)\n",
    "        cell_contours, for_dims = utils_jjm.create_contour_layouts(spatial_components)\n",
    "        \n",
    "        #store results \n",
    "        grouped_raw_data[tracking_file.split('/')[-2]] = {'C': C_timedelta, 'C_z_scored': C_z_scored, 'C_normalized': C_normalized, 'C_normalized_z_scored': C_normalized_z_scored, \n",
    "                                                          'interpolated' : interpolated, 'com' : com_df, 'spatial_components' : spatial_components, 'cell_contours': cell_contours,  \n",
    "                                                         'for_dims' : for_dims}\n",
    "        success.append((tracking_file.split('/')[-2], CNMFE_file.split('/')[-1]))\n",
    "    except FileNotFoundError:\n",
    "        failed.append(tracking_file)\n",
    "    except OSError:\n",
    "        failed.append(tracking_file)"
   ]
  },
  {
   "cell_type": "markdown",
   "metadata": {},
   "source": [
    "## triggered averaging "
   ]
  },
  {
   "cell_type": "code",
   "execution_count": 12,
   "metadata": {
    "collapsed": false
   },
   "outputs": [
    {
     "name": "stderr",
     "output_type": "stream",
     "text": [
      "/home/jma819/.conda/envs/caiman/lib/python3.6/site-packages/jupyter_client/jsonutil.py:67: DeprecationWarning: Interpreting naive datetime as local 2021-02-04 10:58:01.346732. Please add timezone info to timestamps.\n",
      "  new_obj[k] = extract_dates(v)\n"
     ]
    }
   ],
   "source": [
    "## combine dfs for each session to bin velocity values across dfs\n",
    "#downsample\n",
    "new_sampling_interval = .2\n",
    "V_df = pd.concat([grouped_raw_data[session]['interpolated'].resample(str(new_sampling_interval)+'S').max() \n",
    "                  for session in list(grouped_raw_data.keys())], keys=list(grouped_raw_data.keys()))\n",
    "all_sessions_v_bins = pd.cut(V_df['tail_base'], bins=50)\n",
    "\n",
    "V_df['velocity_bins'] = all_sessions_v_bins"
   ]
  },
  {
   "cell_type": "code",
   "execution_count": 13,
   "metadata": {
    "collapsed": false,
    "scrolled": true
   },
   "outputs": [
    {
     "name": "stderr",
     "output_type": "stream",
     "text": [
      "/home/jma819/.conda/envs/caiman/lib/python3.6/site-packages/jupyter_client/jsonutil.py:67: DeprecationWarning: Interpreting naive datetime as local 2021-02-04 10:58:02.425150. Please add timezone info to timestamps.\n",
      "  new_obj[k] = extract_dates(v)\n"
     ]
    }
   ],
   "source": [
    "#V_df.index"
   ]
  },
  {
   "cell_type": "code",
   "execution_count": 14,
   "metadata": {
    "collapsed": false
   },
   "outputs": [
    {
     "name": "stderr",
     "output_type": "stream",
     "text": [
      "/home/jma819/.conda/envs/caiman/lib/python3.6/site-packages/jupyter_client/jsonutil.py:67: DeprecationWarning: Interpreting naive datetime as local 2021-02-04 10:58:03.190087. Please add timezone info to timestamps.\n",
      "  new_obj[k] = extract_dates(v)\n"
     ]
    }
   ],
   "source": [
    "filtered_for_analysis = {}\n",
    "filtered_for_analysis_normalized = {}\n",
    "for session in list(grouped_raw_data.keys()):\n",
    "    filtered_for_analysis[session] = utils_jjm.filter_out_by_size(grouped_raw_data[session]['C_normalized_z_scored'], grouped_raw_data[session]['cell_contours'], \n",
    "                                                                  grouped_raw_data[session]['for_dims'], 0.6, 100)\n",
    "    filtered_for_analysis_normalized[session] = utils_jjm.filter_out_by_size(grouped_raw_data[session]['C_normalized'], grouped_raw_data[session]['cell_contours'], \n",
    "                                                                  grouped_raw_data[session]['for_dims'], 0.6, 100)\n",
    "C_df = pd.concat([filtered_for_analysis[session].resample(str(new_sampling_interval)+'S').max()\n",
    "                  for session in list(grouped_raw_data.keys())], keys=list(grouped_raw_data.keys()))\n",
    "C_norm_df = pd.concat([filtered_for_analysis_normalized[session].resample(str(new_sampling_interval)+'S').max()\n",
    "                  for session in list(grouped_raw_data.keys())], keys=list(grouped_raw_data.keys()))\n"
   ]
  },
  {
   "cell_type": "code",
   "execution_count": 21,
   "metadata": {
    "collapsed": false
   },
   "outputs": [
    {
     "name": "stderr",
     "output_type": "stream",
     "text": [
      "/home/jma819/.conda/envs/caiman/lib/python3.6/site-packages/jupyter_client/jsonutil.py:67: DeprecationWarning: Interpreting naive datetime as local 2021-02-04 11:01:46.630254. Please add timezone info to timestamps.\n",
      "  new_obj[k] = extract_dates(v)\n"
     ]
    },
    {
     "data": {
      "text/html": [
       "<div>\n",
       "<style scoped>\n",
       "    .dataframe tbody tr th:only-of-type {\n",
       "        vertical-align: middle;\n",
       "    }\n",
       "\n",
       "    .dataframe tbody tr th {\n",
       "        vertical-align: top;\n",
       "    }\n",
       "\n",
       "    .dataframe thead th {\n",
       "        text-align: right;\n",
       "    }\n",
       "</style>\n",
       "<table border=\"1\" class=\"dataframe\">\n",
       "  <thead>\n",
       "    <tr style=\"text-align: right;\">\n",
       "      <th></th>\n",
       "      <th>1</th>\n",
       "      <th>2</th>\n",
       "      <th>3</th>\n",
       "      <th>4</th>\n",
       "      <th>6</th>\n",
       "      <th>8</th>\n",
       "      <th>9</th>\n",
       "      <th>10</th>\n",
       "      <th>11</th>\n",
       "      <th>12</th>\n",
       "      <th>...</th>\n",
       "      <th>77</th>\n",
       "      <th>78</th>\n",
       "      <th>80</th>\n",
       "      <th>81</th>\n",
       "      <th>82</th>\n",
       "      <th>86</th>\n",
       "      <th>87</th>\n",
       "      <th>89</th>\n",
       "      <th>92</th>\n",
       "      <th>msCamFrame</th>\n",
       "    </tr>\n",
       "  </thead>\n",
       "  <tbody>\n",
       "    <tr>\n",
       "      <th>00:00:00</th>\n",
       "      <td>9.584799e-02</td>\n",
       "      <td>0.063020</td>\n",
       "      <td>0.035247</td>\n",
       "      <td>0.144497</td>\n",
       "      <td>0.726842</td>\n",
       "      <td>0.726884</td>\n",
       "      <td>0.731344</td>\n",
       "      <td>1.905063e-01</td>\n",
       "      <td>0.046192</td>\n",
       "      <td>0.136891</td>\n",
       "      <td>...</td>\n",
       "      <td>0.257302</td>\n",
       "      <td>0.764787</td>\n",
       "      <td>0.482399</td>\n",
       "      <td>0.690118</td>\n",
       "      <td>0.746664</td>\n",
       "      <td>0.000437</td>\n",
       "      <td>0.007972</td>\n",
       "      <td>0.094285</td>\n",
       "      <td>0.001843</td>\n",
       "      <td>0.000078</td>\n",
       "    </tr>\n",
       "    <tr>\n",
       "      <th>00:00:00.200000</th>\n",
       "      <td>1.342613e-01</td>\n",
       "      <td>0.065264</td>\n",
       "      <td>0.032855</td>\n",
       "      <td>0.180691</td>\n",
       "      <td>0.726880</td>\n",
       "      <td>0.726865</td>\n",
       "      <td>0.729842</td>\n",
       "      <td>1.664785e-01</td>\n",
       "      <td>0.018765</td>\n",
       "      <td>0.136579</td>\n",
       "      <td>...</td>\n",
       "      <td>0.257250</td>\n",
       "      <td>0.764725</td>\n",
       "      <td>0.482419</td>\n",
       "      <td>0.703729</td>\n",
       "      <td>0.746781</td>\n",
       "      <td>0.000447</td>\n",
       "      <td>0.008036</td>\n",
       "      <td>0.073267</td>\n",
       "      <td>0.001338</td>\n",
       "      <td>0.000182</td>\n",
       "    </tr>\n",
       "    <tr>\n",
       "      <th>00:00:00.400000</th>\n",
       "      <td>1.009119e-01</td>\n",
       "      <td>0.062636</td>\n",
       "      <td>0.024803</td>\n",
       "      <td>0.222096</td>\n",
       "      <td>0.726877</td>\n",
       "      <td>0.726877</td>\n",
       "      <td>0.740098</td>\n",
       "      <td>1.480966e-01</td>\n",
       "      <td>0.007623</td>\n",
       "      <td>0.124246</td>\n",
       "      <td>...</td>\n",
       "      <td>0.257265</td>\n",
       "      <td>0.764944</td>\n",
       "      <td>0.482759</td>\n",
       "      <td>0.695401</td>\n",
       "      <td>0.746620</td>\n",
       "      <td>0.000410</td>\n",
       "      <td>0.010380</td>\n",
       "      <td>0.093594</td>\n",
       "      <td>0.001599</td>\n",
       "      <td>0.000287</td>\n",
       "    </tr>\n",
       "    <tr>\n",
       "      <th>00:00:00.600000</th>\n",
       "      <td>1.206908e-01</td>\n",
       "      <td>0.061244</td>\n",
       "      <td>0.018724</td>\n",
       "      <td>0.177142</td>\n",
       "      <td>0.726900</td>\n",
       "      <td>0.726852</td>\n",
       "      <td>0.742373</td>\n",
       "      <td>1.835346e-01</td>\n",
       "      <td>0.003097</td>\n",
       "      <td>0.114494</td>\n",
       "      <td>...</td>\n",
       "      <td>0.257213</td>\n",
       "      <td>0.765207</td>\n",
       "      <td>0.483356</td>\n",
       "      <td>0.687820</td>\n",
       "      <td>0.746535</td>\n",
       "      <td>0.000390</td>\n",
       "      <td>0.010294</td>\n",
       "      <td>0.069170</td>\n",
       "      <td>0.000810</td>\n",
       "      <td>0.000391</td>\n",
       "    </tr>\n",
       "    <tr>\n",
       "      <th>00:00:00.800000</th>\n",
       "      <td>1.444091e-01</td>\n",
       "      <td>0.075907</td>\n",
       "      <td>0.017802</td>\n",
       "      <td>0.247447</td>\n",
       "      <td>0.726912</td>\n",
       "      <td>0.726852</td>\n",
       "      <td>0.739828</td>\n",
       "      <td>1.655127e-01</td>\n",
       "      <td>0.001258</td>\n",
       "      <td>0.111559</td>\n",
       "      <td>...</td>\n",
       "      <td>0.257220</td>\n",
       "      <td>0.764861</td>\n",
       "      <td>0.482775</td>\n",
       "      <td>0.694727</td>\n",
       "      <td>0.746403</td>\n",
       "      <td>0.000342</td>\n",
       "      <td>0.009905</td>\n",
       "      <td>0.127754</td>\n",
       "      <td>0.001207</td>\n",
       "      <td>0.000495</td>\n",
       "    </tr>\n",
       "    <tr>\n",
       "      <th>...</th>\n",
       "      <td>...</td>\n",
       "      <td>...</td>\n",
       "      <td>...</td>\n",
       "      <td>...</td>\n",
       "      <td>...</td>\n",
       "      <td>...</td>\n",
       "      <td>...</td>\n",
       "      <td>...</td>\n",
       "      <td>...</td>\n",
       "      <td>...</td>\n",
       "      <td>...</td>\n",
       "      <td>...</td>\n",
       "      <td>...</td>\n",
       "      <td>...</td>\n",
       "      <td>...</td>\n",
       "      <td>...</td>\n",
       "      <td>...</td>\n",
       "      <td>...</td>\n",
       "      <td>...</td>\n",
       "      <td>...</td>\n",
       "      <td>...</td>\n",
       "    </tr>\n",
       "    <tr>\n",
       "      <th>00:32:17.800000</th>\n",
       "      <td>2.841031e-07</td>\n",
       "      <td>0.023555</td>\n",
       "      <td>0.024426</td>\n",
       "      <td>0.000008</td>\n",
       "      <td>0.727506</td>\n",
       "      <td>0.726843</td>\n",
       "      <td>0.739035</td>\n",
       "      <td>2.349836e-07</td>\n",
       "      <td>0.006227</td>\n",
       "      <td>0.180117</td>\n",
       "      <td>...</td>\n",
       "      <td>0.257163</td>\n",
       "      <td>0.911739</td>\n",
       "      <td>0.507079</td>\n",
       "      <td>0.758136</td>\n",
       "      <td>0.746621</td>\n",
       "      <td>0.587564</td>\n",
       "      <td>0.339235</td>\n",
       "      <td>0.100397</td>\n",
       "      <td>0.586969</td>\n",
       "      <td>1.009710</td>\n",
       "    </tr>\n",
       "    <tr>\n",
       "      <th>00:32:18</th>\n",
       "      <td>1.940636e-07</td>\n",
       "      <td>0.016549</td>\n",
       "      <td>0.041165</td>\n",
       "      <td>0.000006</td>\n",
       "      <td>0.727420</td>\n",
       "      <td>0.726839</td>\n",
       "      <td>0.737295</td>\n",
       "      <td>1.500308e-07</td>\n",
       "      <td>0.003558</td>\n",
       "      <td>0.171963</td>\n",
       "      <td>...</td>\n",
       "      <td>0.257163</td>\n",
       "      <td>1.134880</td>\n",
       "      <td>0.517429</td>\n",
       "      <td>0.909500</td>\n",
       "      <td>0.746645</td>\n",
       "      <td>0.572423</td>\n",
       "      <td>0.307130</td>\n",
       "      <td>0.099234</td>\n",
       "      <td>1.376837</td>\n",
       "      <td>1.009814</td>\n",
       "    </tr>\n",
       "    <tr>\n",
       "      <th>00:32:18.200000</th>\n",
       "      <td>1.325599e-07</td>\n",
       "      <td>0.011628</td>\n",
       "      <td>0.033241</td>\n",
       "      <td>0.000004</td>\n",
       "      <td>0.727420</td>\n",
       "      <td>0.726836</td>\n",
       "      <td>0.735172</td>\n",
       "      <td>9.579074e-08</td>\n",
       "      <td>0.025913</td>\n",
       "      <td>0.193221</td>\n",
       "      <td>...</td>\n",
       "      <td>0.257163</td>\n",
       "      <td>1.234335</td>\n",
       "      <td>0.513817</td>\n",
       "      <td>0.880575</td>\n",
       "      <td>0.746544</td>\n",
       "      <td>0.557672</td>\n",
       "      <td>0.278063</td>\n",
       "      <td>0.146168</td>\n",
       "      <td>1.035699</td>\n",
       "      <td>1.009919</td>\n",
       "    </tr>\n",
       "    <tr>\n",
       "      <th>00:32:18.400000</th>\n",
       "      <td>9.054826e-08</td>\n",
       "      <td>0.017125</td>\n",
       "      <td>0.028396</td>\n",
       "      <td>0.000003</td>\n",
       "      <td>0.727508</td>\n",
       "      <td>0.726862</td>\n",
       "      <td>0.733256</td>\n",
       "      <td>6.115986e-08</td>\n",
       "      <td>0.019587</td>\n",
       "      <td>0.213608</td>\n",
       "      <td>...</td>\n",
       "      <td>0.257163</td>\n",
       "      <td>1.051138</td>\n",
       "      <td>0.510576</td>\n",
       "      <td>0.735719</td>\n",
       "      <td>0.746639</td>\n",
       "      <td>0.543301</td>\n",
       "      <td>0.251747</td>\n",
       "      <td>0.178525</td>\n",
       "      <td>0.779084</td>\n",
       "      <td>1.010023</td>\n",
       "    </tr>\n",
       "    <tr>\n",
       "      <th>00:32:18.600000</th>\n",
       "      <td>6.185120e-08</td>\n",
       "      <td>0.014354</td>\n",
       "      <td>0.022929</td>\n",
       "      <td>0.552847</td>\n",
       "      <td>0.727409</td>\n",
       "      <td>0.726861</td>\n",
       "      <td>0.731526</td>\n",
       "      <td>3.904896e-08</td>\n",
       "      <td>0.011191</td>\n",
       "      <td>0.496800</td>\n",
       "      <td>...</td>\n",
       "      <td>0.257163</td>\n",
       "      <td>1.068670</td>\n",
       "      <td>0.507667</td>\n",
       "      <td>0.771579</td>\n",
       "      <td>0.746374</td>\n",
       "      <td>0.529301</td>\n",
       "      <td>0.227922</td>\n",
       "      <td>0.519958</td>\n",
       "      <td>0.586051</td>\n",
       "      <td>1.010101</td>\n",
       "    </tr>\n",
       "  </tbody>\n",
       "</table>\n",
       "<p>9694 rows × 65 columns</p>\n",
       "</div>"
      ],
      "text/plain": [
       "                            1         2         3         4         6  \\\n",
       "00:00:00         9.584799e-02  0.063020  0.035247  0.144497  0.726842   \n",
       "00:00:00.200000  1.342613e-01  0.065264  0.032855  0.180691  0.726880   \n",
       "00:00:00.400000  1.009119e-01  0.062636  0.024803  0.222096  0.726877   \n",
       "00:00:00.600000  1.206908e-01  0.061244  0.018724  0.177142  0.726900   \n",
       "00:00:00.800000  1.444091e-01  0.075907  0.017802  0.247447  0.726912   \n",
       "...                       ...       ...       ...       ...       ...   \n",
       "00:32:17.800000  2.841031e-07  0.023555  0.024426  0.000008  0.727506   \n",
       "00:32:18         1.940636e-07  0.016549  0.041165  0.000006  0.727420   \n",
       "00:32:18.200000  1.325599e-07  0.011628  0.033241  0.000004  0.727420   \n",
       "00:32:18.400000  9.054826e-08  0.017125  0.028396  0.000003  0.727508   \n",
       "00:32:18.600000  6.185120e-08  0.014354  0.022929  0.552847  0.727409   \n",
       "\n",
       "                        8         9            10        11        12  ...  \\\n",
       "00:00:00         0.726884  0.731344  1.905063e-01  0.046192  0.136891  ...   \n",
       "00:00:00.200000  0.726865  0.729842  1.664785e-01  0.018765  0.136579  ...   \n",
       "00:00:00.400000  0.726877  0.740098  1.480966e-01  0.007623  0.124246  ...   \n",
       "00:00:00.600000  0.726852  0.742373  1.835346e-01  0.003097  0.114494  ...   \n",
       "00:00:00.800000  0.726852  0.739828  1.655127e-01  0.001258  0.111559  ...   \n",
       "...                   ...       ...           ...       ...       ...  ...   \n",
       "00:32:17.800000  0.726843  0.739035  2.349836e-07  0.006227  0.180117  ...   \n",
       "00:32:18         0.726839  0.737295  1.500308e-07  0.003558  0.171963  ...   \n",
       "00:32:18.200000  0.726836  0.735172  9.579074e-08  0.025913  0.193221  ...   \n",
       "00:32:18.400000  0.726862  0.733256  6.115986e-08  0.019587  0.213608  ...   \n",
       "00:32:18.600000  0.726861  0.731526  3.904896e-08  0.011191  0.496800  ...   \n",
       "\n",
       "                       77        78        80        81        82        86  \\\n",
       "00:00:00         0.257302  0.764787  0.482399  0.690118  0.746664  0.000437   \n",
       "00:00:00.200000  0.257250  0.764725  0.482419  0.703729  0.746781  0.000447   \n",
       "00:00:00.400000  0.257265  0.764944  0.482759  0.695401  0.746620  0.000410   \n",
       "00:00:00.600000  0.257213  0.765207  0.483356  0.687820  0.746535  0.000390   \n",
       "00:00:00.800000  0.257220  0.764861  0.482775  0.694727  0.746403  0.000342   \n",
       "...                   ...       ...       ...       ...       ...       ...   \n",
       "00:32:17.800000  0.257163  0.911739  0.507079  0.758136  0.746621  0.587564   \n",
       "00:32:18         0.257163  1.134880  0.517429  0.909500  0.746645  0.572423   \n",
       "00:32:18.200000  0.257163  1.234335  0.513817  0.880575  0.746544  0.557672   \n",
       "00:32:18.400000  0.257163  1.051138  0.510576  0.735719  0.746639  0.543301   \n",
       "00:32:18.600000  0.257163  1.068670  0.507667  0.771579  0.746374  0.529301   \n",
       "\n",
       "                       87        89        92  msCamFrame  \n",
       "00:00:00         0.007972  0.094285  0.001843    0.000078  \n",
       "00:00:00.200000  0.008036  0.073267  0.001338    0.000182  \n",
       "00:00:00.400000  0.010380  0.093594  0.001599    0.000287  \n",
       "00:00:00.600000  0.010294  0.069170  0.000810    0.000391  \n",
       "00:00:00.800000  0.009905  0.127754  0.001207    0.000495  \n",
       "...                   ...       ...       ...         ...  \n",
       "00:32:17.800000  0.339235  0.100397  0.586969    1.009710  \n",
       "00:32:18         0.307130  0.099234  1.376837    1.009814  \n",
       "00:32:18.200000  0.278063  0.146168  1.035699    1.009919  \n",
       "00:32:18.400000  0.251747  0.178525  0.779084    1.010023  \n",
       "00:32:18.600000  0.227922  0.519958  0.586051    1.010101  \n",
       "\n",
       "[9694 rows x 65 columns]"
      ]
     },
     "execution_count": 21,
     "metadata": {},
     "output_type": "execute_result"
    }
   ],
   "source": [
    "C_norm_df.loc['GRIN039_H12_M26_S54']"
   ]
  },
  {
   "cell_type": "code",
   "execution_count": 25,
   "metadata": {
    "collapsed": false
   },
   "outputs": [
    {
     "name": "stderr",
     "output_type": "stream",
     "text": [
      "/home/jma819/.conda/envs/caiman/lib/python3.6/site-packages/jupyter_client/jsonutil.py:67: DeprecationWarning: Interpreting naive datetime as local 2021-02-04 11:04:46.845455. Please add timezone info to timestamps.\n",
      "  new_obj[k] = extract_dates(v)\n"
     ]
    },
    {
     "data": {
      "text/html": [
       "<div>\n",
       "<style scoped>\n",
       "    .dataframe tbody tr th:only-of-type {\n",
       "        vertical-align: middle;\n",
       "    }\n",
       "\n",
       "    .dataframe tbody tr th {\n",
       "        vertical-align: top;\n",
       "    }\n",
       "\n",
       "    .dataframe thead th {\n",
       "        text-align: right;\n",
       "    }\n",
       "</style>\n",
       "<table border=\"1\" class=\"dataframe\">\n",
       "  <thead>\n",
       "    <tr style=\"text-align: right;\">\n",
       "      <th></th>\n",
       "      <th></th>\n",
       "      <th>index</th>\n",
       "      <th>miniscope_light</th>\n",
       "      <th>tail_base</th>\n",
       "      <th>ear_left</th>\n",
       "      <th>centroid</th>\n",
       "      <th>ear_right</th>\n",
       "      <th>miniscope_light_likelihood</th>\n",
       "      <th>tail_base_likelihood</th>\n",
       "      <th>ear_left_likelihood</th>\n",
       "      <th>centroid_likelihood</th>\n",
       "      <th>ear_right_likelihood</th>\n",
       "      <th>msCam_index</th>\n",
       "      <th>velocity_bins</th>\n",
       "    </tr>\n",
       "  </thead>\n",
       "  <tbody>\n",
       "    <tr>\n",
       "      <th rowspan=\"11\" valign=\"top\">GRIN039_H12_M26_S54</th>\n",
       "      <th>00:00:00</th>\n",
       "      <td>10.010000</td>\n",
       "      <td>2.855264</td>\n",
       "      <td>2.171160</td>\n",
       "      <td>2.233086</td>\n",
       "      <td>2.058301</td>\n",
       "      <td>2.024822</td>\n",
       "      <td>1.0</td>\n",
       "      <td>1.000000</td>\n",
       "      <td>0.999998</td>\n",
       "      <td>1.000000</td>\n",
       "      <td>1.000000</td>\n",
       "      <td>3.0</td>\n",
       "      <td>(-0.0544, 2.307]</td>\n",
       "    </tr>\n",
       "    <tr>\n",
       "      <th>00:00:00.200000</th>\n",
       "      <td>12.690000</td>\n",
       "      <td>2.728127</td>\n",
       "      <td>2.149969</td>\n",
       "      <td>2.264927</td>\n",
       "      <td>2.006667</td>\n",
       "      <td>2.008735</td>\n",
       "      <td>1.0</td>\n",
       "      <td>1.000000</td>\n",
       "      <td>0.999968</td>\n",
       "      <td>0.999992</td>\n",
       "      <td>0.999998</td>\n",
       "      <td>7.0</td>\n",
       "      <td>(-0.0544, 2.307]</td>\n",
       "    </tr>\n",
       "    <tr>\n",
       "      <th>00:00:00.400000</th>\n",
       "      <td>15.370000</td>\n",
       "      <td>2.600990</td>\n",
       "      <td>2.128777</td>\n",
       "      <td>2.296769</td>\n",
       "      <td>1.955033</td>\n",
       "      <td>1.992648</td>\n",
       "      <td>1.0</td>\n",
       "      <td>1.000000</td>\n",
       "      <td>0.999937</td>\n",
       "      <td>0.999983</td>\n",
       "      <td>0.999997</td>\n",
       "      <td>11.0</td>\n",
       "      <td>(-0.0544, 2.307]</td>\n",
       "    </tr>\n",
       "    <tr>\n",
       "      <th>00:00:00.600000</th>\n",
       "      <td>18.050000</td>\n",
       "      <td>2.473853</td>\n",
       "      <td>2.107586</td>\n",
       "      <td>2.328611</td>\n",
       "      <td>1.903400</td>\n",
       "      <td>1.976562</td>\n",
       "      <td>1.0</td>\n",
       "      <td>1.000000</td>\n",
       "      <td>0.999907</td>\n",
       "      <td>0.999975</td>\n",
       "      <td>0.999995</td>\n",
       "      <td>15.0</td>\n",
       "      <td>(-0.0544, 2.307]</td>\n",
       "    </tr>\n",
       "    <tr>\n",
       "      <th>00:00:00.800000</th>\n",
       "      <td>20.730000</td>\n",
       "      <td>2.346716</td>\n",
       "      <td>2.086394</td>\n",
       "      <td>2.360452</td>\n",
       "      <td>1.851766</td>\n",
       "      <td>1.960475</td>\n",
       "      <td>1.0</td>\n",
       "      <td>1.000000</td>\n",
       "      <td>0.999876</td>\n",
       "      <td>0.999967</td>\n",
       "      <td>0.999993</td>\n",
       "      <td>19.0</td>\n",
       "      <td>(-0.0544, 2.307]</td>\n",
       "    </tr>\n",
       "    <tr>\n",
       "      <th>...</th>\n",
       "      <td>...</td>\n",
       "      <td>...</td>\n",
       "      <td>...</td>\n",
       "      <td>...</td>\n",
       "      <td>...</td>\n",
       "      <td>...</td>\n",
       "      <td>...</td>\n",
       "      <td>...</td>\n",
       "      <td>...</td>\n",
       "      <td>...</td>\n",
       "      <td>...</td>\n",
       "      <td>...</td>\n",
       "      <td>...</td>\n",
       "    </tr>\n",
       "    <tr>\n",
       "      <th>00:48:28.200000</th>\n",
       "      <td>763.715833</td>\n",
       "      <td>0.163536</td>\n",
       "      <td>0.126800</td>\n",
       "      <td>0.125686</td>\n",
       "      <td>0.066462</td>\n",
       "      <td>0.157977</td>\n",
       "      <td>1.0</td>\n",
       "      <td>0.999998</td>\n",
       "      <td>0.990034</td>\n",
       "      <td>0.997481</td>\n",
       "      <td>0.999892</td>\n",
       "      <td>58167.0</td>\n",
       "      <td>(-0.0544, 2.307]</td>\n",
       "    </tr>\n",
       "    <tr>\n",
       "      <th>00:48:28.400000</th>\n",
       "      <td>766.039167</td>\n",
       "      <td>0.161624</td>\n",
       "      <td>0.144631</td>\n",
       "      <td>0.123613</td>\n",
       "      <td>0.069834</td>\n",
       "      <td>0.154114</td>\n",
       "      <td>1.0</td>\n",
       "      <td>0.999998</td>\n",
       "      <td>0.989956</td>\n",
       "      <td>0.997461</td>\n",
       "      <td>0.999893</td>\n",
       "      <td>58171.0</td>\n",
       "      <td>(-0.0544, 2.307]</td>\n",
       "    </tr>\n",
       "    <tr>\n",
       "      <th>00:48:28.600000</th>\n",
       "      <td>768.362500</td>\n",
       "      <td>0.159712</td>\n",
       "      <td>0.162462</td>\n",
       "      <td>0.121541</td>\n",
       "      <td>0.073207</td>\n",
       "      <td>0.150251</td>\n",
       "      <td>1.0</td>\n",
       "      <td>0.999998</td>\n",
       "      <td>0.989877</td>\n",
       "      <td>0.997442</td>\n",
       "      <td>0.999894</td>\n",
       "      <td>58175.0</td>\n",
       "      <td>(-0.0544, 2.307]</td>\n",
       "    </tr>\n",
       "    <tr>\n",
       "      <th>00:48:28.800000</th>\n",
       "      <td>770.685833</td>\n",
       "      <td>0.157800</td>\n",
       "      <td>0.180292</td>\n",
       "      <td>0.119468</td>\n",
       "      <td>0.076579</td>\n",
       "      <td>0.146387</td>\n",
       "      <td>1.0</td>\n",
       "      <td>0.999998</td>\n",
       "      <td>0.989799</td>\n",
       "      <td>0.997423</td>\n",
       "      <td>0.999894</td>\n",
       "      <td>58179.0</td>\n",
       "      <td>(-0.0544, 2.307]</td>\n",
       "    </tr>\n",
       "    <tr>\n",
       "      <th>00:48:29</th>\n",
       "      <td>771.266667</td>\n",
       "      <td>0.155888</td>\n",
       "      <td>0.184750</td>\n",
       "      <td>0.117395</td>\n",
       "      <td>0.077423</td>\n",
       "      <td>0.142524</td>\n",
       "      <td>1.0</td>\n",
       "      <td>0.999998</td>\n",
       "      <td>0.989721</td>\n",
       "      <td>0.997403</td>\n",
       "      <td>0.999894</td>\n",
       "      <td>58180.0</td>\n",
       "      <td>(-0.0544, 2.307]</td>\n",
       "    </tr>\n",
       "  </tbody>\n",
       "</table>\n",
       "<p>14546 rows × 13 columns</p>\n",
       "</div>"
      ],
      "text/plain": [
       "                                          index  miniscope_light  tail_base  \\\n",
       "GRIN039_H12_M26_S54 00:00:00          10.010000         2.855264   2.171160   \n",
       "                    00:00:00.200000   12.690000         2.728127   2.149969   \n",
       "                    00:00:00.400000   15.370000         2.600990   2.128777   \n",
       "                    00:00:00.600000   18.050000         2.473853   2.107586   \n",
       "                    00:00:00.800000   20.730000         2.346716   2.086394   \n",
       "...                                         ...              ...        ...   \n",
       "                    00:48:28.200000  763.715833         0.163536   0.126800   \n",
       "                    00:48:28.400000  766.039167         0.161624   0.144631   \n",
       "                    00:48:28.600000  768.362500         0.159712   0.162462   \n",
       "                    00:48:28.800000  770.685833         0.157800   0.180292   \n",
       "                    00:48:29         771.266667         0.155888   0.184750   \n",
       "\n",
       "                                     ear_left  centroid  ear_right  \\\n",
       "GRIN039_H12_M26_S54 00:00:00         2.233086  2.058301   2.024822   \n",
       "                    00:00:00.200000  2.264927  2.006667   2.008735   \n",
       "                    00:00:00.400000  2.296769  1.955033   1.992648   \n",
       "                    00:00:00.600000  2.328611  1.903400   1.976562   \n",
       "                    00:00:00.800000  2.360452  1.851766   1.960475   \n",
       "...                                       ...       ...        ...   \n",
       "                    00:48:28.200000  0.125686  0.066462   0.157977   \n",
       "                    00:48:28.400000  0.123613  0.069834   0.154114   \n",
       "                    00:48:28.600000  0.121541  0.073207   0.150251   \n",
       "                    00:48:28.800000  0.119468  0.076579   0.146387   \n",
       "                    00:48:29         0.117395  0.077423   0.142524   \n",
       "\n",
       "                                     miniscope_light_likelihood  \\\n",
       "GRIN039_H12_M26_S54 00:00:00                                1.0   \n",
       "                    00:00:00.200000                         1.0   \n",
       "                    00:00:00.400000                         1.0   \n",
       "                    00:00:00.600000                         1.0   \n",
       "                    00:00:00.800000                         1.0   \n",
       "...                                                         ...   \n",
       "                    00:48:28.200000                         1.0   \n",
       "                    00:48:28.400000                         1.0   \n",
       "                    00:48:28.600000                         1.0   \n",
       "                    00:48:28.800000                         1.0   \n",
       "                    00:48:29                                1.0   \n",
       "\n",
       "                                     tail_base_likelihood  \\\n",
       "GRIN039_H12_M26_S54 00:00:00                     1.000000   \n",
       "                    00:00:00.200000              1.000000   \n",
       "                    00:00:00.400000              1.000000   \n",
       "                    00:00:00.600000              1.000000   \n",
       "                    00:00:00.800000              1.000000   \n",
       "...                                                   ...   \n",
       "                    00:48:28.200000              0.999998   \n",
       "                    00:48:28.400000              0.999998   \n",
       "                    00:48:28.600000              0.999998   \n",
       "                    00:48:28.800000              0.999998   \n",
       "                    00:48:29                     0.999998   \n",
       "\n",
       "                                     ear_left_likelihood  centroid_likelihood  \\\n",
       "GRIN039_H12_M26_S54 00:00:00                    0.999998             1.000000   \n",
       "                    00:00:00.200000             0.999968             0.999992   \n",
       "                    00:00:00.400000             0.999937             0.999983   \n",
       "                    00:00:00.600000             0.999907             0.999975   \n",
       "                    00:00:00.800000             0.999876             0.999967   \n",
       "...                                                  ...                  ...   \n",
       "                    00:48:28.200000             0.990034             0.997481   \n",
       "                    00:48:28.400000             0.989956             0.997461   \n",
       "                    00:48:28.600000             0.989877             0.997442   \n",
       "                    00:48:28.800000             0.989799             0.997423   \n",
       "                    00:48:29                    0.989721             0.997403   \n",
       "\n",
       "                                     ear_right_likelihood  msCam_index  \\\n",
       "GRIN039_H12_M26_S54 00:00:00                     1.000000          3.0   \n",
       "                    00:00:00.200000              0.999998          7.0   \n",
       "                    00:00:00.400000              0.999997         11.0   \n",
       "                    00:00:00.600000              0.999995         15.0   \n",
       "                    00:00:00.800000              0.999993         19.0   \n",
       "...                                                   ...          ...   \n",
       "                    00:48:28.200000              0.999892      58167.0   \n",
       "                    00:48:28.400000              0.999893      58171.0   \n",
       "                    00:48:28.600000              0.999894      58175.0   \n",
       "                    00:48:28.800000              0.999894      58179.0   \n",
       "                    00:48:29                     0.999894      58180.0   \n",
       "\n",
       "                                        velocity_bins  \n",
       "GRIN039_H12_M26_S54 00:00:00         (-0.0544, 2.307]  \n",
       "                    00:00:00.200000  (-0.0544, 2.307]  \n",
       "                    00:00:00.400000  (-0.0544, 2.307]  \n",
       "                    00:00:00.600000  (-0.0544, 2.307]  \n",
       "                    00:00:00.800000  (-0.0544, 2.307]  \n",
       "...                                               ...  \n",
       "                    00:48:28.200000  (-0.0544, 2.307]  \n",
       "                    00:48:28.400000  (-0.0544, 2.307]  \n",
       "                    00:48:28.600000  (-0.0544, 2.307]  \n",
       "                    00:48:28.800000  (-0.0544, 2.307]  \n",
       "                    00:48:29         (-0.0544, 2.307]  \n",
       "\n",
       "[14546 rows x 13 columns]"
      ]
     },
     "execution_count": 25,
     "metadata": {},
     "output_type": "execute_result"
    }
   ],
   "source": [
    "V_df"
   ]
  },
  {
   "cell_type": "code",
   "execution_count": 26,
   "metadata": {
    "collapsed": false
   },
   "outputs": [
    {
     "name": "stderr",
     "output_type": "stream",
     "text": [
      "/home/jma819/.conda/envs/caiman/lib/python3.6/site-packages/jupyter_client/jsonutil.py:67: DeprecationWarning: Interpreting naive datetime as local 2021-02-04 11:05:24.534131. Please add timezone info to timestamps.\n",
      "  new_obj[k] = extract_dates(v)\n"
     ]
    }
   ],
   "source": [
    "#bin by activity threshold (body_part, resting_time_threshold, active_time_threshold, crossing_threshold, resting_threshold, activity_threshold)\n",
    "binned_velocity_df = pd.DataFrame([dlc_utils.bin_by_activity_threshold(V_df.loc[session]['tail_base'], 80, 20, 1, 2, 3)\n",
    "                                for session in list(grouped_raw_data.keys())], index=list(grouped_raw_data.keys()))\n",
    "binned_velocity_df = binned_velocity_df.transpose()"
   ]
  },
  {
   "cell_type": "code",
   "execution_count": 27,
   "metadata": {
    "collapsed": false,
    "scrolled": true
   },
   "outputs": [
    {
     "name": "stderr",
     "output_type": "stream",
     "text": [
      "/home/jma819/.conda/envs/caiman/lib/python3.6/site-packages/jupyter_client/jsonutil.py:67: DeprecationWarning: Interpreting naive datetime as local 2021-02-04 11:05:27.245514. Please add timezone info to timestamps.\n",
      "  new_obj[k] = extract_dates(v)\n"
     ]
    }
   ],
   "source": [
    "#need to make sure x axis from velocity binned df matches axis from grouped raw data "
   ]
  },
  {
   "cell_type": "code",
   "execution_count": 28,
   "metadata": {
    "collapsed": false
   },
   "outputs": [
    {
     "name": "stderr",
     "output_type": "stream",
     "text": [
      "/home/jma819/.conda/envs/caiman/lib/python3.6/site-packages/jupyter_client/jsonutil.py:67: DeprecationWarning: Interpreting naive datetime as local 2021-02-04 11:05:27.923376. Please add timezone info to timestamps.\n",
      "  new_obj[k] = extract_dates(v)\n"
     ]
    },
    {
     "data": {
      "text/html": [
       "<div>\n",
       "<style scoped>\n",
       "    .dataframe tbody tr th:only-of-type {\n",
       "        vertical-align: middle;\n",
       "    }\n",
       "\n",
       "    .dataframe tbody tr th {\n",
       "        vertical-align: top;\n",
       "    }\n",
       "\n",
       "    .dataframe thead th {\n",
       "        text-align: right;\n",
       "    }\n",
       "</style>\n",
       "<table border=\"1\" class=\"dataframe\">\n",
       "  <thead>\n",
       "    <tr style=\"text-align: right;\">\n",
       "      <th></th>\n",
       "      <th>GRIN039_H12_M26_S54</th>\n",
       "    </tr>\n",
       "  </thead>\n",
       "  <tbody>\n",
       "    <tr>\n",
       "      <th>0</th>\n",
       "      <td>0.0</td>\n",
       "    </tr>\n",
       "    <tr>\n",
       "      <th>1</th>\n",
       "      <td>0.0</td>\n",
       "    </tr>\n",
       "    <tr>\n",
       "      <th>2</th>\n",
       "      <td>0.0</td>\n",
       "    </tr>\n",
       "    <tr>\n",
       "      <th>3</th>\n",
       "      <td>0.0</td>\n",
       "    </tr>\n",
       "    <tr>\n",
       "      <th>4</th>\n",
       "      <td>0.0</td>\n",
       "    </tr>\n",
       "    <tr>\n",
       "      <th>...</th>\n",
       "      <td>...</td>\n",
       "    </tr>\n",
       "    <tr>\n",
       "      <th>14541</th>\n",
       "      <td>0.0</td>\n",
       "    </tr>\n",
       "    <tr>\n",
       "      <th>14542</th>\n",
       "      <td>0.0</td>\n",
       "    </tr>\n",
       "    <tr>\n",
       "      <th>14543</th>\n",
       "      <td>0.0</td>\n",
       "    </tr>\n",
       "    <tr>\n",
       "      <th>14544</th>\n",
       "      <td>0.0</td>\n",
       "    </tr>\n",
       "    <tr>\n",
       "      <th>14545</th>\n",
       "      <td>0.0</td>\n",
       "    </tr>\n",
       "  </tbody>\n",
       "</table>\n",
       "<p>14546 rows × 1 columns</p>\n",
       "</div>"
      ],
      "text/plain": [
       "       GRIN039_H12_M26_S54\n",
       "0                      0.0\n",
       "1                      0.0\n",
       "2                      0.0\n",
       "3                      0.0\n",
       "4                      0.0\n",
       "...                    ...\n",
       "14541                  0.0\n",
       "14542                  0.0\n",
       "14543                  0.0\n",
       "14544                  0.0\n",
       "14545                  0.0\n",
       "\n",
       "[14546 rows x 1 columns]"
      ]
     },
     "execution_count": 28,
     "metadata": {},
     "output_type": "execute_result"
    }
   ],
   "source": [
    "binned_velocity_df"
   ]
  },
  {
   "cell_type": "code",
   "execution_count": 29,
   "metadata": {
    "collapsed": false,
    "scrolled": true
   },
   "outputs": [
    {
     "name": "stderr",
     "output_type": "stream",
     "text": [
      "/home/jma819/.conda/envs/caiman/lib/python3.6/site-packages/jupyter_client/jsonutil.py:67: DeprecationWarning: Interpreting naive datetime as local 2021-02-04 11:05:52.311924. Please add timezone info to timestamps.\n",
      "  new_obj[k] = extract_dates(v)\n"
     ]
    }
   ],
   "source": [
    "regions_by_session = {}\n",
    "for session in list(grouped_raw_data.keys()):\n",
    "    # gets indicies where animal crosses a velocity threshold\n",
    "    crossing_indicies = utils_jjm.select_trigger_regions(binned_velocity_df[session], 0.5, 0.5, 20)\n",
    "    # for each cell average the basseline ~10 seconds before crossing the velocity threshold    \n",
    "\n",
    "    movement_regions_in_recording = {}\n",
    "    for sample in crossing_indicies:\n",
    "        raw_data_to_baseline = C_norm_df.loc[session].dropna(axis=1).drop(['msCamFrame'], axis=1)\n",
    "\n",
    "        # so say baseline is 80 samples to 20 samples before threshold\n",
    "        baseline_region = raw_data_to_baseline[sample-80:sample-20]\n",
    "        movement_region = raw_data_to_baseline[sample-80:sample+80]\n",
    "\n",
    "        baseline_region_std_dev = baseline_region.std(axis=0)\n",
    "        baseline_region_mean = baseline_region.mean(axis=0)\n",
    "\n",
    "        movement_region_z_scored = pd.DataFrame((movement_region-baseline_region_mean.values)/baseline_region_std_dev)\n",
    "    \n",
    "        movement_regions_in_recording[sample] = movement_region_z_scored\n",
    "    regions_by_session[session] = pd.concat(movement_regions_in_recording, axis=1, keys=crossing_indicies)\n",
    "    \n",
    "z_scored_regions_by_session = pd.concat(regions_by_session, axis=1, keys=list(grouped_raw_data.keys()))"
   ]
  },
  {
   "cell_type": "code",
   "execution_count": 30,
   "metadata": {
    "collapsed": false,
    "scrolled": false
   },
   "outputs": [
    {
     "name": "stderr",
     "output_type": "stream",
     "text": [
      "/home/jma819/.conda/envs/caiman/lib/python3.6/site-packages/jupyter_client/jsonutil.py:67: DeprecationWarning: Interpreting naive datetime as local 2021-02-04 11:05:54.386441. Please add timezone info to timestamps.\n",
      "  new_obj[k] = extract_dates(v)\n"
     ]
    },
    {
     "data": {
      "text/plain": [
       "array(['GRIN039_H12_M26_S54'], dtype='<U19')"
      ]
     },
     "execution_count": 30,
     "metadata": {},
     "output_type": "execute_result"
    }
   ],
   "source": [
    "# get info to look at plots of individual cell activity\n",
    "np.array(list(grouped_raw_data.keys()))"
   ]
  },
  {
   "cell_type": "code",
   "execution_count": 31,
   "metadata": {
    "collapsed": false,
    "scrolled": true
   },
   "outputs": [
    {
     "name": "stderr",
     "output_type": "stream",
     "text": [
      "/home/jma819/.conda/envs/caiman/lib/python3.6/site-packages/jupyter_client/jsonutil.py:67: DeprecationWarning: Interpreting naive datetime as local 2021-02-04 11:05:56.968004. Please add timezone info to timestamps.\n",
      "  new_obj[k] = extract_dates(v)\n"
     ]
    },
    {
     "data": {
      "text/plain": [
       "array([ 1097,  2097,  2644,  3297,  5522,  5798,  5913,  6412,  7620,\n",
       "        8471,  9041,  9615, 10521, 10722, 11432, 11936, 12911])"
      ]
     },
     "execution_count": 31,
     "metadata": {},
     "output_type": "execute_result"
    }
   ],
   "source": [
    "session = 'GRIN039_H12_M26_S54'\n",
    "session_df = z_scored_regions_by_session[session]\n",
    "sample_crossing_indicies = np.array([sample_idx for sample_idx in session_df.columns.levels[0] if sample_idx in session_df.columns])\n",
    "sample_crossing_indicies"
   ]
  },
  {
   "cell_type": "code",
   "execution_count": 98,
   "metadata": {
    "collapsed": false,
    "scrolled": false
   },
   "outputs": [
    {
     "name": "stderr",
     "output_type": "stream",
     "text": [
      "/home/jma819/.conda/envs/caiman/lib/python3.6/site-packages/jupyter_client/jsonutil.py:67: DeprecationWarning: Interpreting naive datetime as local 2021-02-04 11:42:02.656990. Please add timezone info to timestamps.\n",
      "  new_obj[k] = extract_dates(v)\n"
     ]
    },
    {
     "data": {
      "image/png": "[encoded data removed]",
      "text/plain": [
       "<Figure size 432x288 with 3 Axes>"
      ]
     },
     "metadata": {
      "needs_background": "light"
     },
     "output_type": "display_data"
    },
    {
     "name": "stdout",
     "output_type": "stream",
     "text": [
      "RMS noise: 14.236165540491289\n",
      "Peak: 110.5561126755646\n",
      "Peak/RMS: 7.765863101346693\n"
     ]
    }
   ],
   "source": [
    "##plot individual cell activity\n",
    "#raw \"pre z score\" region\n",
    "#zscores\n",
    "#velocity\n",
    "sample = sample_crossing_indicies[0]\n",
    "cell = 6\n",
    "fig, (ax1, ax2, ax3) = plt.subplots(3)\n",
    "ax1.plot(C_norm_df.loc[session][cell][sample-80:sample+80]) \n",
    "ax2.plot(z_scored_regions_by_session[session][sample][cell])\n",
    "ax3.plot(V_df.loc[session]['tail_base'][sample-80:sample+80]) \n",
    "plt.subplots_adjust(hspace=1)\n",
    "plt.show()\n",
    "\n",
    "#display rms noise for trace \n",
    "rms = np.sqrt(np.mean(np.square(z_scored_regions_by_session[session][sample][cell])))\n",
    "peak = np.max(z_scored_regions_by_session[session][sample][cell])\n",
    "print('RMS noise:', rms)\n",
    "print('Peak:', peak)\n",
    "print('Peak/RMS:', peak/rms)"
   ]
  },
  {
   "cell_type": "code",
   "execution_count": null,
   "metadata": {
    "collapsed": true
   },
   "outputs": [],
   "source": [
    "peak_RMS_ratio = "
   ]
  },
  {
   "cell_type": "code",
   "execution_count": 99,
   "metadata": {
    "collapsed": false
   },
   "outputs": [
    {
     "name": "stderr",
     "output_type": "stream",
     "text": [
      "/home/jma819/.conda/envs/caiman/lib/python3.6/site-packages/jupyter_client/jsonutil.py:67: DeprecationWarning: Interpreting naive datetime as local 2021-02-04 11:45:41.471213. Please add timezone info to timestamps.\n",
      "  new_obj[k] = extract_dates(v)\n"
     ]
    },
    {
     "data": {
      "text/html": [
       "<div>\n",
       "<style scoped>\n",
       "    .dataframe tbody tr th:only-of-type {\n",
       "        vertical-align: middle;\n",
       "    }\n",
       "\n",
       "    .dataframe tbody tr th {\n",
       "        vertical-align: top;\n",
       "    }\n",
       "\n",
       "    .dataframe thead th {\n",
       "        text-align: right;\n",
       "    }\n",
       "</style>\n",
       "<table border=\"1\" class=\"dataframe\">\n",
       "  <thead>\n",
       "    <tr style=\"text-align: right;\">\n",
       "      <th></th>\n",
       "      <th>1</th>\n",
       "      <th>2</th>\n",
       "      <th>3</th>\n",
       "      <th>4</th>\n",
       "      <th>6</th>\n",
       "      <th>8</th>\n",
       "      <th>9</th>\n",
       "      <th>10</th>\n",
       "      <th>11</th>\n",
       "      <th>12</th>\n",
       "      <th>...</th>\n",
       "      <th>75</th>\n",
       "      <th>77</th>\n",
       "      <th>78</th>\n",
       "      <th>80</th>\n",
       "      <th>81</th>\n",
       "      <th>82</th>\n",
       "      <th>86</th>\n",
       "      <th>87</th>\n",
       "      <th>89</th>\n",
       "      <th>92</th>\n",
       "    </tr>\n",
       "  </thead>\n",
       "  <tbody>\n",
       "    <tr>\n",
       "      <th>00:03:23.400000</th>\n",
       "      <td>0.133777</td>\n",
       "      <td>-0.435065</td>\n",
       "      <td>-0.456457</td>\n",
       "      <td>0.039356</td>\n",
       "      <td>1.930060</td>\n",
       "      <td>-0.335319</td>\n",
       "      <td>0.744720</td>\n",
       "      <td>0.405260</td>\n",
       "      <td>0.945058</td>\n",
       "      <td>-0.013997</td>\n",
       "      <td>...</td>\n",
       "      <td>-0.570604</td>\n",
       "      <td>-0.430730</td>\n",
       "      <td>-0.389221</td>\n",
       "      <td>-0.908421</td>\n",
       "      <td>-0.886313</td>\n",
       "      <td>1.097354</td>\n",
       "      <td>-0.199047</td>\n",
       "      <td>-0.825455</td>\n",
       "      <td>0.340659</td>\n",
       "      <td>0.000601</td>\n",
       "    </tr>\n",
       "    <tr>\n",
       "      <th>00:03:23.600000</th>\n",
       "      <td>-0.569263</td>\n",
       "      <td>-0.489798</td>\n",
       "      <td>-0.456458</td>\n",
       "      <td>0.926706</td>\n",
       "      <td>1.105670</td>\n",
       "      <td>-0.644018</td>\n",
       "      <td>0.674485</td>\n",
       "      <td>0.074516</td>\n",
       "      <td>-0.124982</td>\n",
       "      <td>0.226949</td>\n",
       "      <td>...</td>\n",
       "      <td>-0.580360</td>\n",
       "      <td>-0.619948</td>\n",
       "      <td>0.173350</td>\n",
       "      <td>-0.797943</td>\n",
       "      <td>-0.627940</td>\n",
       "      <td>0.388873</td>\n",
       "      <td>-0.365327</td>\n",
       "      <td>0.114591</td>\n",
       "      <td>-0.036406</td>\n",
       "      <td>-0.290587</td>\n",
       "    </tr>\n",
       "    <tr>\n",
       "      <th>00:03:23.800000</th>\n",
       "      <td>-0.445069</td>\n",
       "      <td>-0.361011</td>\n",
       "      <td>-0.456459</td>\n",
       "      <td>0.276405</td>\n",
       "      <td>0.662971</td>\n",
       "      <td>-0.861226</td>\n",
       "      <td>0.834588</td>\n",
       "      <td>-0.413211</td>\n",
       "      <td>-0.261092</td>\n",
       "      <td>0.624960</td>\n",
       "      <td>...</td>\n",
       "      <td>-0.585005</td>\n",
       "      <td>-0.349686</td>\n",
       "      <td>-0.454719</td>\n",
       "      <td>-0.822647</td>\n",
       "      <td>0.571387</td>\n",
       "      <td>0.045183</td>\n",
       "      <td>-0.505181</td>\n",
       "      <td>0.268534</td>\n",
       "      <td>-0.242352</td>\n",
       "      <td>-0.354827</td>\n",
       "    </tr>\n",
       "    <tr>\n",
       "      <th>00:03:24</th>\n",
       "      <td>-0.600191</td>\n",
       "      <td>-0.395344</td>\n",
       "      <td>-0.456459</td>\n",
       "      <td>0.932489</td>\n",
       "      <td>0.428567</td>\n",
       "      <td>-0.602101</td>\n",
       "      <td>0.402177</td>\n",
       "      <td>-0.262293</td>\n",
       "      <td>0.192238</td>\n",
       "      <td>0.497706</td>\n",
       "      <td>...</td>\n",
       "      <td>-0.587216</td>\n",
       "      <td>-0.431865</td>\n",
       "      <td>-0.194102</td>\n",
       "      <td>-0.885381</td>\n",
       "      <td>0.434892</td>\n",
       "      <td>0.426875</td>\n",
       "      <td>-0.622806</td>\n",
       "      <td>0.747846</td>\n",
       "      <td>-0.354837</td>\n",
       "      <td>-0.303870</td>\n",
       "    </tr>\n",
       "    <tr>\n",
       "      <th>00:03:24.200000</th>\n",
       "      <td>-0.268204</td>\n",
       "      <td>-0.456097</td>\n",
       "      <td>-0.456460</td>\n",
       "      <td>0.527143</td>\n",
       "      <td>0.072943</td>\n",
       "      <td>-0.462233</td>\n",
       "      <td>0.693650</td>\n",
       "      <td>-0.122163</td>\n",
       "      <td>0.289313</td>\n",
       "      <td>1.019377</td>\n",
       "      <td>...</td>\n",
       "      <td>-0.588268</td>\n",
       "      <td>-0.479530</td>\n",
       "      <td>-0.478427</td>\n",
       "      <td>-0.896894</td>\n",
       "      <td>1.058190</td>\n",
       "      <td>0.134883</td>\n",
       "      <td>-0.721738</td>\n",
       "      <td>0.689716</td>\n",
       "      <td>-0.416274</td>\n",
       "      <td>-0.519182</td>\n",
       "    </tr>\n",
       "    <tr>\n",
       "      <th>...</th>\n",
       "      <td>...</td>\n",
       "      <td>...</td>\n",
       "      <td>...</td>\n",
       "      <td>...</td>\n",
       "      <td>...</td>\n",
       "      <td>...</td>\n",
       "      <td>...</td>\n",
       "      <td>...</td>\n",
       "      <td>...</td>\n",
       "      <td>...</td>\n",
       "      <td>...</td>\n",
       "      <td>...</td>\n",
       "      <td>...</td>\n",
       "      <td>...</td>\n",
       "      <td>...</td>\n",
       "      <td>...</td>\n",
       "      <td>...</td>\n",
       "      <td>...</td>\n",
       "      <td>...</td>\n",
       "      <td>...</td>\n",
       "      <td>...</td>\n",
       "    </tr>\n",
       "    <tr>\n",
       "      <th>00:32:17.800000</th>\n",
       "      <td>NaN</td>\n",
       "      <td>NaN</td>\n",
       "      <td>NaN</td>\n",
       "      <td>NaN</td>\n",
       "      <td>NaN</td>\n",
       "      <td>NaN</td>\n",
       "      <td>NaN</td>\n",
       "      <td>NaN</td>\n",
       "      <td>NaN</td>\n",
       "      <td>NaN</td>\n",
       "      <td>...</td>\n",
       "      <td>NaN</td>\n",
       "      <td>NaN</td>\n",
       "      <td>NaN</td>\n",
       "      <td>NaN</td>\n",
       "      <td>NaN</td>\n",
       "      <td>NaN</td>\n",
       "      <td>NaN</td>\n",
       "      <td>NaN</td>\n",
       "      <td>NaN</td>\n",
       "      <td>NaN</td>\n",
       "    </tr>\n",
       "    <tr>\n",
       "      <th>00:32:18</th>\n",
       "      <td>NaN</td>\n",
       "      <td>NaN</td>\n",
       "      <td>NaN</td>\n",
       "      <td>NaN</td>\n",
       "      <td>NaN</td>\n",
       "      <td>NaN</td>\n",
       "      <td>NaN</td>\n",
       "      <td>NaN</td>\n",
       "      <td>NaN</td>\n",
       "      <td>NaN</td>\n",
       "      <td>...</td>\n",
       "      <td>NaN</td>\n",
       "      <td>NaN</td>\n",
       "      <td>NaN</td>\n",
       "      <td>NaN</td>\n",
       "      <td>NaN</td>\n",
       "      <td>NaN</td>\n",
       "      <td>NaN</td>\n",
       "      <td>NaN</td>\n",
       "      <td>NaN</td>\n",
       "      <td>NaN</td>\n",
       "    </tr>\n",
       "    <tr>\n",
       "      <th>00:32:18.200000</th>\n",
       "      <td>NaN</td>\n",
       "      <td>NaN</td>\n",
       "      <td>NaN</td>\n",
       "      <td>NaN</td>\n",
       "      <td>NaN</td>\n",
       "      <td>NaN</td>\n",
       "      <td>NaN</td>\n",
       "      <td>NaN</td>\n",
       "      <td>NaN</td>\n",
       "      <td>NaN</td>\n",
       "      <td>...</td>\n",
       "      <td>NaN</td>\n",
       "      <td>NaN</td>\n",
       "      <td>NaN</td>\n",
       "      <td>NaN</td>\n",
       "      <td>NaN</td>\n",
       "      <td>NaN</td>\n",
       "      <td>NaN</td>\n",
       "      <td>NaN</td>\n",
       "      <td>NaN</td>\n",
       "      <td>NaN</td>\n",
       "    </tr>\n",
       "    <tr>\n",
       "      <th>00:32:18.400000</th>\n",
       "      <td>NaN</td>\n",
       "      <td>NaN</td>\n",
       "      <td>NaN</td>\n",
       "      <td>NaN</td>\n",
       "      <td>NaN</td>\n",
       "      <td>NaN</td>\n",
       "      <td>NaN</td>\n",
       "      <td>NaN</td>\n",
       "      <td>NaN</td>\n",
       "      <td>NaN</td>\n",
       "      <td>...</td>\n",
       "      <td>NaN</td>\n",
       "      <td>NaN</td>\n",
       "      <td>NaN</td>\n",
       "      <td>NaN</td>\n",
       "      <td>NaN</td>\n",
       "      <td>NaN</td>\n",
       "      <td>NaN</td>\n",
       "      <td>NaN</td>\n",
       "      <td>NaN</td>\n",
       "      <td>NaN</td>\n",
       "    </tr>\n",
       "    <tr>\n",
       "      <th>00:32:18.600000</th>\n",
       "      <td>NaN</td>\n",
       "      <td>NaN</td>\n",
       "      <td>NaN</td>\n",
       "      <td>NaN</td>\n",
       "      <td>NaN</td>\n",
       "      <td>NaN</td>\n",
       "      <td>NaN</td>\n",
       "      <td>NaN</td>\n",
       "      <td>NaN</td>\n",
       "      <td>NaN</td>\n",
       "      <td>...</td>\n",
       "      <td>NaN</td>\n",
       "      <td>NaN</td>\n",
       "      <td>NaN</td>\n",
       "      <td>NaN</td>\n",
       "      <td>NaN</td>\n",
       "      <td>NaN</td>\n",
       "      <td>NaN</td>\n",
       "      <td>NaN</td>\n",
       "      <td>NaN</td>\n",
       "      <td>NaN</td>\n",
       "    </tr>\n",
       "  </tbody>\n",
       "</table>\n",
       "<p>1874 rows × 64 columns</p>\n",
       "</div>"
      ],
      "text/plain": [
       "                       1         2         3         4         6         8   \\\n",
       "00:03:23.400000  0.133777 -0.435065 -0.456457  0.039356  1.930060 -0.335319   \n",
       "00:03:23.600000 -0.569263 -0.489798 -0.456458  0.926706  1.105670 -0.644018   \n",
       "00:03:23.800000 -0.445069 -0.361011 -0.456459  0.276405  0.662971 -0.861226   \n",
       "00:03:24        -0.600191 -0.395344 -0.456459  0.932489  0.428567 -0.602101   \n",
       "00:03:24.200000 -0.268204 -0.456097 -0.456460  0.527143  0.072943 -0.462233   \n",
       "...                   ...       ...       ...       ...       ...       ...   \n",
       "00:32:17.800000       NaN       NaN       NaN       NaN       NaN       NaN   \n",
       "00:32:18              NaN       NaN       NaN       NaN       NaN       NaN   \n",
       "00:32:18.200000       NaN       NaN       NaN       NaN       NaN       NaN   \n",
       "00:32:18.400000       NaN       NaN       NaN       NaN       NaN       NaN   \n",
       "00:32:18.600000       NaN       NaN       NaN       NaN       NaN       NaN   \n",
       "\n",
       "                       9         10        11        12  ...        75  \\\n",
       "00:03:23.400000  0.744720  0.405260  0.945058 -0.013997  ... -0.570604   \n",
       "00:03:23.600000  0.674485  0.074516 -0.124982  0.226949  ... -0.580360   \n",
       "00:03:23.800000  0.834588 -0.413211 -0.261092  0.624960  ... -0.585005   \n",
       "00:03:24         0.402177 -0.262293  0.192238  0.497706  ... -0.587216   \n",
       "00:03:24.200000  0.693650 -0.122163  0.289313  1.019377  ... -0.588268   \n",
       "...                   ...       ...       ...       ...  ...       ...   \n",
       "00:32:17.800000       NaN       NaN       NaN       NaN  ...       NaN   \n",
       "00:32:18              NaN       NaN       NaN       NaN  ...       NaN   \n",
       "00:32:18.200000       NaN       NaN       NaN       NaN  ...       NaN   \n",
       "00:32:18.400000       NaN       NaN       NaN       NaN  ...       NaN   \n",
       "00:32:18.600000       NaN       NaN       NaN       NaN  ...       NaN   \n",
       "\n",
       "                       77        78        80        81        82        86  \\\n",
       "00:03:23.400000 -0.430730 -0.389221 -0.908421 -0.886313  1.097354 -0.199047   \n",
       "00:03:23.600000 -0.619948  0.173350 -0.797943 -0.627940  0.388873 -0.365327   \n",
       "00:03:23.800000 -0.349686 -0.454719 -0.822647  0.571387  0.045183 -0.505181   \n",
       "00:03:24        -0.431865 -0.194102 -0.885381  0.434892  0.426875 -0.622806   \n",
       "00:03:24.200000 -0.479530 -0.478427 -0.896894  1.058190  0.134883 -0.721738   \n",
       "...                   ...       ...       ...       ...       ...       ...   \n",
       "00:32:17.800000       NaN       NaN       NaN       NaN       NaN       NaN   \n",
       "00:32:18              NaN       NaN       NaN       NaN       NaN       NaN   \n",
       "00:32:18.200000       NaN       NaN       NaN       NaN       NaN       NaN   \n",
       "00:32:18.400000       NaN       NaN       NaN       NaN       NaN       NaN   \n",
       "00:32:18.600000       NaN       NaN       NaN       NaN       NaN       NaN   \n",
       "\n",
       "                       87        89        92  \n",
       "00:03:23.400000 -0.825455  0.340659  0.000601  \n",
       "00:03:23.600000  0.114591 -0.036406 -0.290587  \n",
       "00:03:23.800000  0.268534 -0.242352 -0.354827  \n",
       "00:03:24         0.747846 -0.354837 -0.303870  \n",
       "00:03:24.200000  0.689716 -0.416274 -0.519182  \n",
       "...                   ...       ...       ...  \n",
       "00:32:17.800000       NaN       NaN       NaN  \n",
       "00:32:18              NaN       NaN       NaN  \n",
       "00:32:18.200000       NaN       NaN       NaN  \n",
       "00:32:18.400000       NaN       NaN       NaN  \n",
       "00:32:18.600000       NaN       NaN       NaN  \n",
       "\n",
       "[1874 rows x 64 columns]"
      ]
     },
     "execution_count": 99,
     "metadata": {},
     "output_type": "execute_result"
    }
   ],
   "source": [
    "z_scored_regions_by_session['GRIN039_H12_M26_S54'][1097]"
   ]
  },
  {
   "cell_type": "code",
   "execution_count": 77,
   "metadata": {
    "collapsed": false,
    "scrolled": true
   },
   "outputs": [
    {
     "name": "stderr",
     "output_type": "stream",
     "text": [
      "/home/jma819/.conda/envs/caiman/lib/python3.6/site-packages/jupyter_client/jsonutil.py:67: DeprecationWarning: Interpreting naive datetime as local 2021-02-04 11:30:01.311328. Please add timezone info to timestamps.\n",
      "  new_obj[k] = extract_dates(v)\n"
     ]
    },
    {
     "data": {
      "text/plain": [
       "1      12.239282\n",
       "2      32.600574\n",
       "6     110.556113\n",
       "8      15.188531\n",
       "9      11.442718\n",
       "10     50.227743\n",
       "12     28.032923\n",
       "17     44.508966\n",
       "18     41.731389\n",
       "21     56.771707\n",
       "44     11.034339\n",
       "68     14.795689\n",
       "70     15.004588\n",
       "78     10.807958\n",
       "81     29.613276\n",
       "87     73.015055\n",
       "89     20.219293\n",
       "dtype: float64"
      ]
     },
     "execution_count": 77,
     "metadata": {},
     "output_type": "execute_result"
    }
   ],
   "source": [
    "z_scored_regions_by_session['GRIN039_H12_M26_S54'][1097].max(axis=0)[z_scored_regions_by_session['GRIN039_H12_M26_S54'][1097].max(axis=0)>10]"
   ]
  },
  {
   "cell_type": "code",
   "execution_count": 52,
   "metadata": {
    "collapsed": false
   },
   "outputs": [
    {
     "name": "stderr",
     "output_type": "stream",
     "text": [
      "/home/jma819/.conda/envs/caiman/lib/python3.6/site-packages/jupyter_client/jsonutil.py:67: DeprecationWarning: Interpreting naive datetime as local 2021-02-04 11:19:59.560382. Please add timezone info to timestamps.\n",
      "  new_obj[k] = extract_dates(v)\n"
     ]
    },
    {
     "data": {
      "image/png": "[encoded data removed]",
      "text/plain": [
       "<Figure size 432x288 with 1 Axes>"
      ]
     },
     "metadata": {
      "needs_background": "light"
     },
     "output_type": "display_data"
    }
   ],
   "source": [
    "#histogram of all z score \n",
    "plt.hist(z_scored_regions_by_session['GRIN039_H12_M26_S54'][1097].max(axis=0), 100)\n",
    "plt.show()"
   ]
  },
  {
   "cell_type": "code",
   "execution_count": null,
   "metadata": {
    "collapsed": false
   },
   "outputs": [],
   "source": [
    "#concat by mouse \n",
    "concacted_by_mouse = {}\n",
    "for mouse in list(set(session[0:7] for session in list(z_scored_regions_by_session.columns.levels[0]))):\n",
    "    dfs_by_mouse = []\n",
    "    sessions = []\n",
    "    for session in list(z_scored_regions_by_session.columns.levels[0]):\n",
    "        if mouse in session:\n",
    "            if not(z_scored_regions_by_session[session].empty):\n",
    "                means = z_scored_regions_by_session[session].mean(axis=1, level=0)\n",
    "                dfs_by_mouse.append(means)\n",
    "                sessions.append(session)\n",
    "    if len(dfs_by_mouse)>0:\n",
    "        concacted_by_mouse[mouse] = pd.concat(dfs_by_mouse, axis=1, keys=sessions)\n",
    "combined_by_mouse = pd.concat(list(concacted_by_mouse.values()), axis=1, keys=list(concacted_by_mouse.keys()))"
   ]
  },
  {
   "cell_type": "code",
   "execution_count": null,
   "metadata": {
    "collapsed": false,
    "scrolled": true
   },
   "outputs": [],
   "source": [
    "combined_by_mouse.head()"
   ]
  },
  {
   "cell_type": "code",
   "execution_count": null,
   "metadata": {
    "collapsed": false
   },
   "outputs": [],
   "source": [
    "combined_by_mouse_timedelta = combined_by_mouse.set_index(pd.to_timedelta(np.linspace(0, (len(combined_by_mouse)-1)*(1/5), len(combined_by_mouse)), unit='s'), drop=True)"
   ]
  },
  {
   "cell_type": "code",
   "execution_count": null,
   "metadata": {
    "collapsed": false,
    "scrolled": true
   },
   "outputs": [],
   "source": [
    "plt.plot(combined_by_mouse_timedelta.mean(axis=1))"
   ]
  },
  {
   "cell_type": "code",
   "execution_count": null,
   "metadata": {
    "collapsed": false
   },
   "outputs": [],
   "source": [
    "#resampled_for_plotting.head()"
   ]
  },
  {
   "cell_type": "code",
   "execution_count": null,
   "metadata": {
    "collapsed": false
   },
   "outputs": [],
   "source": [
    "plt.rcParams.update({'font.size': 22})\n",
    "df_to_plot = resampled_for_plotting\n",
    "activity_measure = 'spatial_coordination'\n",
    "x = np.linspace(-(len(df_to_plot)/2)*.5, (len(df_to_plot)/2)*.5, len(df_to_plot))\n",
    "scale_f = 0.0868\n",
    "mean=df_to_plot.mean(axis=1, level=2)['velocity'].values*scale_f\n",
    "plt.plot(x, df_to_plot.mean(axis=1, level=2)['velocity'].values*scale_f, color='k')\n",
    "std_error = ((df_to_plot.std(axis=1, level=2)['velocity'])/math.sqrt(df_to_plot.mean(axis=1, level=0).shape[1]))*scale_f\n",
    "plt.fill_between(x, mean-std_error, mean+std_error)\n",
    "ax = plt.gca()\n",
    "ax.set_ylabel('velocity cm/sec')\n",
    "ax.set_xlabel('time (seconds)')\n",
    "ax.axvline(x=(0), linestyle='--', color='r')\n",
    "fig = plt.gcf()\n",
    "fig.set_size_inches(7, 6)\n",
    "#fig.draw()\n",
    "#fig.savefig('/home/jma819/presentation_files/wt_velocity_spatial_coord_triggered.svg', transparent=True)\n",
    "fig.subplots_adjust(left=0.15)\n",
    "fig.savefig('/Users/johnmarshall/Documents/Presentations/Feb20201_LabMeeting/v_triggered.pdf', transparent=True)\n",
    "plt.show()"
   ]
  },
  {
   "cell_type": "code",
   "execution_count": null,
   "metadata": {
    "collapsed": false
   },
   "outputs": [],
   "source": [
    "activity_measure = 'fluorescence'\n",
    "x = np.linspace(-(len(df_to_plot)/2)*.5, (len(df_to_plot)/2)*.5, len(df_to_plot))\n",
    "mean = df_to_plot.mean(axis=1, level=2)[activity_measure].values\n",
    "plt.plot(x, mean, color='k')\n",
    "std_error = (df_to_plot.std(axis=1, level=2)[activity_measure])/math.sqrt(df_to_plot.mean(axis=1, level=0).shape[1]*1)\n",
    "plt.fill_between(x, mean-std_error, mean+std_error)\n",
    "ax = plt.gca()\n",
    "ax.set_ylabel('dF/F z-score')\n",
    "ax.set_xlabel('time (seconds)')\n",
    "ax.axvline(x=0, linestyle='--', color='r')\n",
    "fig = plt.gcf()\n",
    "fig.set_size_inches(7, 6)\n",
    "#fig.draw()\n",
    "#fig.savefig('.svg')\n",
    "fig.subplots_adjust(left=0.15)\n",
    "fig.savefig('/Users/johnmarshall/Documents/Presentations/Feb20201_LabMeeting/wt_fluorescence_triggered.pdf', transparent=True)\n",
    "plt.show()"
   ]
  },
  {
   "cell_type": "markdown",
   "metadata": {},
   "source": [
    "## event ISIs "
   ]
  },
  {
   "cell_type": "code",
   "execution_count": null,
   "metadata": {
    "collapsed": true
   },
   "outputs": [],
   "source": [
    "filtered_for_analysis = {}\n",
    "for session in list(grouped_raw_data.keys()):\n",
    "    filtered_for_analysis[session] = utils_jjm.filter_out_by_size(grouped_raw_data[session]['C_normalized_z_scored'], grouped_raw_data[session]['cell_contours'], \n",
    "                                                                  grouped_raw_data[session]['for_dims'], 0.6, 100)\n",
    "C_df = pd.concat([filtered_for_analysis[session].resample(str(new_sampling_interval)+'S').max()\n",
    "                  for session in list(grouped_raw_data.keys())], keys=list(grouped_raw_data.keys()))"
   ]
  },
  {
   "cell_type": "code",
   "execution_count": null,
   "metadata": {
    "collapsed": true
   },
   "outputs": [],
   "source": [
    "C_df = C_df.drop(['msCamFrame'], axis=1)"
   ]
  },
  {
   "cell_type": "code",
   "execution_count": null,
   "metadata": {
    "collapsed": true
   },
   "outputs": [],
   "source": []
  },
  {
   "cell_type": "code",
   "execution_count": null,
   "metadata": {
    "collapsed": false
   },
   "outputs": [],
   "source": [
    "ISIs_by_session = []\n",
    "for session in list(grouped_raw_data.keys()):\n",
    "    print(session)\n",
    "    event_indicies, event_times, event_ISIs = utils_jjm.get_ISIs(C_df.loc[session].dropna(axis=1), 20, .1, np.array(C_df.loc[session].dropna(axis=1).columns), 2)\n",
    "    ISIs_by_session.append(event_ISIs)"
   ]
  },
  {
   "cell_type": "code",
   "execution_count": null,
   "metadata": {
    "collapsed": true
   },
   "outputs": [],
   "source": []
  },
  {
   "cell_type": "code",
   "execution_count": null,
   "metadata": {
    "collapsed": true
   },
   "outputs": [],
   "source": []
  }
 ],
 "metadata": {
  "kernelspec": {
   "display_name": "caiman",
   "language": "python",
   "name": "caiman"
  },
  "language_info": {
   "codemirror_mode": {
    "name": "ipython",
    "version": 3
   },
   "file_extension": ".py",
   "mimetype": "text/x-python",
   "name": "python",
   "nbconvert_exporter": "python",
   "pygments_lexer": "ipython3",
   "version": "3.6.7"
  }
 },
 "nbformat": 4,
 "nbformat_minor": 2
}
