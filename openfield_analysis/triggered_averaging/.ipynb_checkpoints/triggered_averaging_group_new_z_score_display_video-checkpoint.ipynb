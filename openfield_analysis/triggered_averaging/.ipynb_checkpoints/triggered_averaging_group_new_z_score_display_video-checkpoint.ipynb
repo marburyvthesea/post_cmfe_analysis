{
 "cells": [
  {
   "cell_type": "code",
   "execution_count": 1,
   "metadata": {
    "collapsed": false
   },
   "outputs": [
    {
     "data": {
      "text/html": [
       "<style>.container { width:90% !important; }</style>"
      ],
      "text/plain": [
       "<IPython.core.display.HTML object>"
      ]
     },
     "metadata": {},
     "output_type": "display_data"
    },
    {
     "name": "stderr",
     "output_type": "stream",
     "text": [
      "/home/jma819/.conda/envs/caiman/lib/python3.6/site-packages/sklearn/utils/deprecation.py:144: FutureWarning: The sklearn.decomposition.incremental_pca module is  deprecated in version 0.22 and will be removed in version 0.24. The corresponding classes / functions should instead be imported from sklearn.decomposition. Anything that cannot be imported from sklearn.decomposition is now part of the private API.\n",
      "  warnings.warn(message, FutureWarning)\n"
     ]
    }
   ],
   "source": [
    "from IPython.core.display import display, HTML\n",
    "display(HTML(\"<style>.container { width:90% !important; }</style>\"))\n",
    "import numpy as np\n",
    "import pandas as pd\n",
    "import h5py\n",
    "from tqdm import tqdm\n",
    "import scipy.io as sio\n",
    "from scipy import stats\n",
    "from importlib import reload\n",
    "from matplotlib import pyplot as plt\n",
    "import sys\n",
    "sys.path.append('/home/jma819/post_cmfe_analysis')\n",
    "#sys.path.append('/Users/johnmarshall/Documents/Analysis/PythonAnalysisScripts/post_cmfe_analysis')\n",
    "import python_utils_jjm as utils_jjm\n",
    "import dlc_utils\n",
    "import caiman\n",
    "from sklearn.preprocessing import MinMaxScaler\n",
    "import scipy.spatial.distance as dist\n",
    "import itertools\n",
    "import math\n",
    "import warnings\n",
    "%matplotlib inline\n",
    "from matplotlib import pyplot as plt\n",
    "from matplotlib import animation\n",
    "from IPython.display import HTML\n",
    "warnings.filterwarnings(action='once')"
   ]
  },
  {
   "cell_type": "code",
   "execution_count": 2,
   "metadata": {
    "collapsed": false,
    "scrolled": true
   },
   "outputs": [
    {
     "data": {
      "text/plain": [
       "<module 'dlc_utils' from '/home/jma819/post_cmfe_analysis/dlc_utils.py'>"
      ]
     },
     "execution_count": 2,
     "metadata": {},
     "output_type": "execute_result"
    }
   ],
   "source": [
    "reload(utils_jjm)\n",
    "reload(dlc_utils)"
   ]
  },
  {
   "cell_type": "code",
   "execution_count": 3,
   "metadata": {
    "collapsed": true
   },
   "outputs": [],
   "source": [
    "#cnmfe_file_key = pd.read_csv('/Volumes/My_Passport/dlc_analysis/behavcamvideos/open_field_miniscope/cnmfe_key.csv')\n",
    "cnmfe_file_key = pd.read_csv('/projects/p30771/dlc_analysis/openfield_dlc_output/cnmfe_key.csv')"
   ]
  },
  {
   "cell_type": "code",
   "execution_count": 4,
   "metadata": {
    "collapsed": true
   },
   "outputs": [],
   "source": [
    "#cnmfe_base_dir = '/Volumes/My_Passport/cnmfe_analysis_files/batch_output_files/'\n",
    "cnmfe_base_dir = '/projects/p30771/MATLAB/CNMF_E_jjm/quest_MATLAB_cnmfe/batch_output_files/'\n",
    "# '27-Feb_17_33_59_out.mat' '28-Feb_16_21_21_out.mat' '25-Mar_14_22_02_out.mat', '25-Mar_14_22_44_out.mat', '26-Mar_18_33_55_out.mat', '27-Mar_00_26_12_out.mat', '27-Mar_00_48_46_out.mat' throwing error\n",
    "wt_CNMFE_files = ['29-Jan_12_35_06_out.mat','30-Mar_20_39_05_out.mat', '30-Mar_20_45_16_out.mat', '22-Mar_22_52_02_out.mat',\n",
    "                 '28-Feb_16_10_05_out.mat', '27-Feb_17_32_15_out.mat', '25-Mar_13_27_27_out.mat']\n",
    "\n",
    "ko_CNMFE_files = ['30-Jan_16_54_31_out.mat','30-Jan_14_00_19_out.mat','31-Jan_01_43_49_out.mat','31-Jan_00_12_24_out.mat','31-Mar_13_28_15_out.mat', '29-Mar_21_42_20_out.mat', '13-Apr_17_57_40_out.mat', '29-Mar_14_27_55_out.mat', '13-Apr_16_01_20_out.mat',\n",
    "                 '13-Apr_16_11_27_out.mat', '29-Mar_13_39_44_out.mat']"
   ]
  },
  {
   "cell_type": "code",
   "execution_count": 5,
   "metadata": {
    "collapsed": true
   },
   "outputs": [],
   "source": [
    "#tracking_files = ['/Volumes/My_Passport/dlc_analysis/behavcamvideos/open_field_miniscope/'+utils_jjm.find_behavior_tracking(fname, cnmfe_file_key) for fname in wt_CNMFE_files] \n",
    "tracking_files = ['/projects/p30771/dlc_analysis/openfield_dlc_output/'+utils_jjm.find_behavior_tracking(fname, cnmfe_file_key) for fname in wt_CNMFE_files] "
   ]
  },
  {
   "cell_type": "code",
   "execution_count": 6,
   "metadata": {
    "collapsed": true
   },
   "outputs": [],
   "source": [
    "#tracking_files"
   ]
  },
  {
   "cell_type": "code",
   "execution_count": 7,
   "metadata": {
    "collapsed": true
   },
   "outputs": [],
   "source": [
    "CNMFE_dir_paths_list = [str(cnmfe_base_dir+fname) for fname in wt_CNMFE_files]\n",
    "#CNMFE_dir_paths_list"
   ]
  },
  {
   "cell_type": "code",
   "execution_count": 8,
   "metadata": {
    "collapsed": false
   },
   "outputs": [
    {
     "data": {
      "text/plain": [
       "['/projects/p30771/MATLAB/CNMF_E_jjm/quest_MATLAB_cnmfe/batch_output_files/29-Jan_12_35_06_out.mat',\n",
       " '/projects/p30771/MATLAB/CNMF_E_jjm/quest_MATLAB_cnmfe/batch_output_files/30-Mar_20_39_05_out.mat',\n",
       " '/projects/p30771/MATLAB/CNMF_E_jjm/quest_MATLAB_cnmfe/batch_output_files/30-Mar_20_45_16_out.mat',\n",
       " '/projects/p30771/MATLAB/CNMF_E_jjm/quest_MATLAB_cnmfe/batch_output_files/22-Mar_22_52_02_out.mat',\n",
       " '/projects/p30771/MATLAB/CNMF_E_jjm/quest_MATLAB_cnmfe/batch_output_files/28-Feb_16_10_05_out.mat',\n",
       " '/projects/p30771/MATLAB/CNMF_E_jjm/quest_MATLAB_cnmfe/batch_output_files/27-Feb_17_32_15_out.mat',\n",
       " '/projects/p30771/MATLAB/CNMF_E_jjm/quest_MATLAB_cnmfe/batch_output_files/25-Mar_13_27_27_out.mat']"
      ]
     },
     "execution_count": 8,
     "metadata": {},
     "output_type": "execute_result"
    }
   ],
   "source": [
    "CNMFE_dir_paths_list"
   ]
  },
  {
   "cell_type": "code",
   "execution_count": 9,
   "metadata": {
    "collapsed": false,
    "scrolled": true
   },
   "outputs": [
    {
     "data": {
      "text/plain": [
       "['/projects/p30771/dlc_analysis/openfield_dlc_output/GRIN039_H12_M26_S54/GRIN039_H12_M26_S54_dlc_tracking_foranalysis_04142020.csv',\n",
       " '/projects/p30771/dlc_analysis/openfield_dlc_output/GRIN013_H13_M33_S54/GRIN013_H13_M33_S54_dlc_tracking_foranalysis_04142020.csv',\n",
       " '/projects/p30771/dlc_analysis/openfield_dlc_output/GRIN027_H13_M29_S44/GRIN027_H13_M29_S44_dlc_tracking_foranalysis_04142020.csv',\n",
       " '/projects/p30771/dlc_analysis/openfield_dlc_output/GRIN033_H14_M34_S32/GRIN033_H14_M34_S32_dlc_tracking_foranalysis_04142020.csv',\n",
       " '/projects/p30771/dlc_analysis/openfield_dlc_output/GRIN033_H13_M42_S33/GRIN033_H13_M42_S33_dlc_tracking_foranalysis_04142020.csv',\n",
       " '/projects/p30771/dlc_analysis/openfield_dlc_output/GRIN032_H17_M30_S22/GRIN032_H17_M30_S22_dlc_tracking_foranalysis_04142020.csv',\n",
       " '/projects/p30771/dlc_analysis/openfield_dlc_output/GRIN034_H15_M28_S2/GRIN034_H15_M28_S2_dlc_tracking_foranalysis_04142020.csv']"
      ]
     },
     "execution_count": 9,
     "metadata": {},
     "output_type": "execute_result"
    }
   ],
   "source": [
    "tracking_files"
   ]
  },
  {
   "cell_type": "code",
   "execution_count": 10,
   "metadata": {
    "collapsed": false
   },
   "outputs": [
    {
     "name": "stdout",
     "output_type": "stream",
     "text": [
      "/projects/p30771/MATLAB/CNMF_E_jjm/quest_MATLAB_cnmfe/batch_output_files/29-Jan_12_35_06_out.mat\n",
      "/projects/p30771/dlc_analysis/openfield_dlc_output/GRIN039_H12_M26_S54/GRIN039_H12_M26_S54_dlc_tracking_foranalysis_04142020.csv\n",
      "/projects/p30771/MATLAB/CNMF_E_jjm/quest_MATLAB_cnmfe/batch_output_files/30-Mar_20_39_05_out.mat\n",
      "/projects/p30771/dlc_analysis/openfield_dlc_output/GRIN013_H13_M33_S54/GRIN013_H13_M33_S54_dlc_tracking_foranalysis_04142020.csv\n",
      "/projects/p30771/MATLAB/CNMF_E_jjm/quest_MATLAB_cnmfe/batch_output_files/30-Mar_20_45_16_out.mat\n",
      "/projects/p30771/dlc_analysis/openfield_dlc_output/GRIN027_H13_M29_S44/GRIN027_H13_M29_S44_dlc_tracking_foranalysis_04142020.csv\n",
      "/projects/p30771/MATLAB/CNMF_E_jjm/quest_MATLAB_cnmfe/batch_output_files/22-Mar_22_52_02_out.mat\n",
      "/projects/p30771/dlc_analysis/openfield_dlc_output/GRIN033_H14_M34_S32/GRIN033_H14_M34_S32_dlc_tracking_foranalysis_04142020.csv\n",
      "/projects/p30771/MATLAB/CNMF_E_jjm/quest_MATLAB_cnmfe/batch_output_files/28-Feb_16_10_05_out.mat\n",
      "/projects/p30771/dlc_analysis/openfield_dlc_output/GRIN033_H13_M42_S33/GRIN033_H13_M42_S33_dlc_tracking_foranalysis_04142020.csv\n",
      "/projects/p30771/MATLAB/CNMF_E_jjm/quest_MATLAB_cnmfe/batch_output_files/27-Feb_17_32_15_out.mat\n",
      "/projects/p30771/dlc_analysis/openfield_dlc_output/GRIN032_H17_M30_S22/GRIN032_H17_M30_S22_dlc_tracking_foranalysis_04142020.csv\n",
      "/projects/p30771/MATLAB/CNMF_E_jjm/quest_MATLAB_cnmfe/batch_output_files/25-Mar_13_27_27_out.mat\n",
      "/projects/p30771/dlc_analysis/openfield_dlc_output/GRIN034_H15_M28_S2/GRIN034_H15_M28_S2_dlc_tracking_foranalysis_04142020.csv\n"
     ]
    }
   ],
   "source": [
    "binning_time = 1 # seconds \n",
    "body_part_for_tracking = 'tail_base' #\n",
    "\n",
    "grouped_raw_data = {}\n",
    "success = []\n",
    "failed = []\n",
    "for CNMFE_file, tracking_file in zip(CNMFE_dir_paths_list, tracking_files):\n",
    "    print(CNMFE_file)\n",
    "    print(tracking_file)\n",
    "    try:\n",
    "        # load cell fluorescence \n",
    "        cell_fluorescence = sio.loadmat(CNMFE_file)\n",
    "        C_timedelta = utils_jjm.create_fluorescence_time_delta(cell_fluorescence['C'])\n",
    "        C_normalized = C_timedelta.apply(utils_jjm.normalize).set_index(pd.to_timedelta(np.linspace(0, (len(C_timedelta)-1)*(1/20), len(C_timedelta)), unit='s'), drop=True)\n",
    "        C_z_scored = C_timedelta.apply(stats.zscore).set_index(pd.to_timedelta(np.linspace(0, (len(C_timedelta)-1)*(1/20), len(C_timedelta)), unit='s'), drop=True)\n",
    "        C_normalized_z_scored = C_normalized.apply(stats.zscore).set_index(pd.to_timedelta(np.linspace(0, (len(C_normalized)-1)*(1/20), len(C_normalized)), unit='s'), drop=True)\n",
    "        # create tracking time deltas\n",
    "        interpolated = utils_jjm.prepare_timedelta_dfs(tracking_file)\n",
    "        #C_z_scored_filtered = utils_jjm.filter_out_by_size(C_z_scored, cell_contours, for_dims, 0.6, 100)\n",
    "        #store results \n",
    "        #load spatial components by session\n",
    "        com_df, spatial_components = utils_jjm.return_spatial_info(CNMFE_file, 0.6)\n",
    "        cell_contours, for_dims = utils_jjm.create_contour_layouts(spatial_components)\n",
    "        \n",
    "        #store results \n",
    "        grouped_raw_data[tracking_file.split('/')[-2]] = {'C': C_timedelta, 'C_z_scored': C_z_scored, 'C_normalized': C_normalized, 'C_normalized_z_scored': C_normalized_z_scored, \n",
    "                                                          'interpolated' : interpolated, 'com' : com_df, 'spatial_components' : spatial_components, 'cell_contours': cell_contours,  \n",
    "                                                         'for_dims' : for_dims}\n",
    "        success.append((tracking_file.split('/')[-2], CNMFE_file.split('/')[-1]))\n",
    "    except FileNotFoundError:\n",
    "        failed.append(tracking_file)\n",
    "    except OSError:\n",
    "        failed.append(tracking_file)"
   ]
  },
  {
   "cell_type": "markdown",
   "metadata": {},
   "source": [
    "## triggered averaging "
   ]
  },
  {
   "cell_type": "code",
   "execution_count": 11,
   "metadata": {
    "collapsed": true
   },
   "outputs": [],
   "source": [
    "## combine dfs for each session to bin velocity values across dfs\n",
    "#downsample\n",
    "new_sampling_interval = .2\n",
    "V_df = pd.concat([grouped_raw_data[session]['interpolated'].resample(str(new_sampling_interval)+'S').max() \n",
    "                  for session in list(grouped_raw_data.keys())], keys=list(grouped_raw_data.keys()))\n",
    "all_sessions_v_bins = pd.cut(V_df['tail_base'], bins=50)\n",
    "\n",
    "V_df['velocity_bins'] = all_sessions_v_bins"
   ]
  },
  {
   "cell_type": "code",
   "execution_count": 12,
   "metadata": {
    "collapsed": true,
    "scrolled": true
   },
   "outputs": [],
   "source": [
    "#V_df.index"
   ]
  },
  {
   "cell_type": "code",
   "execution_count": 13,
   "metadata": {
    "collapsed": true,
    "scrolled": true
   },
   "outputs": [],
   "source": [
    "filtered_for_analysis = {}\n",
    "for session in list(grouped_raw_data.keys()):\n",
    "    filtered_for_analysis[session] = utils_jjm.filter_out_by_size(grouped_raw_data[session]['C_normalized'], grouped_raw_data[session]['cell_contours'], \n",
    "                                                                  grouped_raw_data[session]['for_dims'], 0.6, 100)\n",
    "C_norm_df = pd.concat([filtered_for_analysis[session].resample(str(new_sampling_interval)+'S').max()\n",
    "                  for session in list(grouped_raw_data.keys())], keys=list(filtered_for_analysis.keys()))\n",
    "\n",
    "# after downsampling convert back to regular index, timedelta is behaving oddly \n",
    "C_norm_df_reindexed = pd.concat([C_norm_df.loc[session].reset_index(drop=True)\n",
    "                  for session in list(set(C_norm_df.index.get_level_values(level=0)))], keys=list(set(C_norm_df.index.get_level_values(level=0))))"
   ]
  },
  {
   "cell_type": "code",
   "execution_count": 14,
   "metadata": {
    "collapsed": true
   },
   "outputs": [],
   "source": [
    "# do same for velocity dataframe\n",
    "V_df_reindexed = pd.concat([V_df.loc[session].reset_index(drop=True)\n",
    "                            for session in list(set(V_df.index.get_level_values(level=0)))], keys=list(set(V_df.index.get_level_values(level=0)))) "
   ]
  },
  {
   "cell_type": "code",
   "execution_count": 15,
   "metadata": {
    "collapsed": false
   },
   "outputs": [
    {
     "data": {
      "text/html": [
       "<div>\n",
       "<style scoped>\n",
       "    .dataframe tbody tr th:only-of-type {\n",
       "        vertical-align: middle;\n",
       "    }\n",
       "\n",
       "    .dataframe tbody tr th {\n",
       "        vertical-align: top;\n",
       "    }\n",
       "\n",
       "    .dataframe thead th {\n",
       "        text-align: right;\n",
       "    }\n",
       "</style>\n",
       "<table border=\"1\" class=\"dataframe\">\n",
       "  <thead>\n",
       "    <tr style=\"text-align: right;\">\n",
       "      <th></th>\n",
       "      <th></th>\n",
       "      <th>index</th>\n",
       "      <th>miniscope_light</th>\n",
       "      <th>tail_base</th>\n",
       "      <th>ear_left</th>\n",
       "      <th>centroid</th>\n",
       "      <th>ear_right</th>\n",
       "      <th>miniscope_light_likelihood</th>\n",
       "      <th>tail_base_likelihood</th>\n",
       "      <th>ear_left_likelihood</th>\n",
       "      <th>centroid_likelihood</th>\n",
       "      <th>ear_right_likelihood</th>\n",
       "      <th>msCam_index</th>\n",
       "      <th>velocity_bins</th>\n",
       "    </tr>\n",
       "  </thead>\n",
       "  <tbody>\n",
       "    <tr>\n",
       "      <th rowspan=\"5\" valign=\"top\">GRIN039_H12_M26_S54</th>\n",
       "      <th>0</th>\n",
       "      <td>10.01</td>\n",
       "      <td>2.855264</td>\n",
       "      <td>2.171160</td>\n",
       "      <td>2.233086</td>\n",
       "      <td>2.058301</td>\n",
       "      <td>2.024822</td>\n",
       "      <td>1.0</td>\n",
       "      <td>1.0</td>\n",
       "      <td>0.999998</td>\n",
       "      <td>1.000000</td>\n",
       "      <td>1.000000</td>\n",
       "      <td>3.0</td>\n",
       "      <td>(-0.0544, 2.307]</td>\n",
       "    </tr>\n",
       "    <tr>\n",
       "      <th>1</th>\n",
       "      <td>12.69</td>\n",
       "      <td>2.728127</td>\n",
       "      <td>2.149969</td>\n",
       "      <td>2.264927</td>\n",
       "      <td>2.006667</td>\n",
       "      <td>2.008735</td>\n",
       "      <td>1.0</td>\n",
       "      <td>1.0</td>\n",
       "      <td>0.999968</td>\n",
       "      <td>0.999992</td>\n",
       "      <td>0.999998</td>\n",
       "      <td>7.0</td>\n",
       "      <td>(-0.0544, 2.307]</td>\n",
       "    </tr>\n",
       "    <tr>\n",
       "      <th>2</th>\n",
       "      <td>15.37</td>\n",
       "      <td>2.600990</td>\n",
       "      <td>2.128777</td>\n",
       "      <td>2.296769</td>\n",
       "      <td>1.955033</td>\n",
       "      <td>1.992648</td>\n",
       "      <td>1.0</td>\n",
       "      <td>1.0</td>\n",
       "      <td>0.999937</td>\n",
       "      <td>0.999983</td>\n",
       "      <td>0.999997</td>\n",
       "      <td>11.0</td>\n",
       "      <td>(-0.0544, 2.307]</td>\n",
       "    </tr>\n",
       "    <tr>\n",
       "      <th>3</th>\n",
       "      <td>18.05</td>\n",
       "      <td>2.473853</td>\n",
       "      <td>2.107586</td>\n",
       "      <td>2.328611</td>\n",
       "      <td>1.903400</td>\n",
       "      <td>1.976562</td>\n",
       "      <td>1.0</td>\n",
       "      <td>1.0</td>\n",
       "      <td>0.999907</td>\n",
       "      <td>0.999975</td>\n",
       "      <td>0.999995</td>\n",
       "      <td>15.0</td>\n",
       "      <td>(-0.0544, 2.307]</td>\n",
       "    </tr>\n",
       "    <tr>\n",
       "      <th>4</th>\n",
       "      <td>20.73</td>\n",
       "      <td>2.346716</td>\n",
       "      <td>2.086394</td>\n",
       "      <td>2.360452</td>\n",
       "      <td>1.851766</td>\n",
       "      <td>1.960475</td>\n",
       "      <td>1.0</td>\n",
       "      <td>1.0</td>\n",
       "      <td>0.999876</td>\n",
       "      <td>0.999967</td>\n",
       "      <td>0.999993</td>\n",
       "      <td>19.0</td>\n",
       "      <td>(-0.0544, 2.307]</td>\n",
       "    </tr>\n",
       "  </tbody>\n",
       "</table>\n",
       "</div>"
      ],
      "text/plain": [
       "                       index  miniscope_light  tail_base  ear_left  centroid  \\\n",
       "GRIN039_H12_M26_S54 0  10.01         2.855264   2.171160  2.233086  2.058301   \n",
       "                    1  12.69         2.728127   2.149969  2.264927  2.006667   \n",
       "                    2  15.37         2.600990   2.128777  2.296769  1.955033   \n",
       "                    3  18.05         2.473853   2.107586  2.328611  1.903400   \n",
       "                    4  20.73         2.346716   2.086394  2.360452  1.851766   \n",
       "\n",
       "                       ear_right  miniscope_light_likelihood  \\\n",
       "GRIN039_H12_M26_S54 0   2.024822                         1.0   \n",
       "                    1   2.008735                         1.0   \n",
       "                    2   1.992648                         1.0   \n",
       "                    3   1.976562                         1.0   \n",
       "                    4   1.960475                         1.0   \n",
       "\n",
       "                       tail_base_likelihood  ear_left_likelihood  \\\n",
       "GRIN039_H12_M26_S54 0                   1.0             0.999998   \n",
       "                    1                   1.0             0.999968   \n",
       "                    2                   1.0             0.999937   \n",
       "                    3                   1.0             0.999907   \n",
       "                    4                   1.0             0.999876   \n",
       "\n",
       "                       centroid_likelihood  ear_right_likelihood  msCam_index  \\\n",
       "GRIN039_H12_M26_S54 0             1.000000              1.000000          3.0   \n",
       "                    1             0.999992              0.999998          7.0   \n",
       "                    2             0.999983              0.999997         11.0   \n",
       "                    3             0.999975              0.999995         15.0   \n",
       "                    4             0.999967              0.999993         19.0   \n",
       "\n",
       "                          velocity_bins  \n",
       "GRIN039_H12_M26_S54 0  (-0.0544, 2.307]  \n",
       "                    1  (-0.0544, 2.307]  \n",
       "                    2  (-0.0544, 2.307]  \n",
       "                    3  (-0.0544, 2.307]  \n",
       "                    4  (-0.0544, 2.307]  "
      ]
     },
     "execution_count": 15,
     "metadata": {},
     "output_type": "execute_result"
    }
   ],
   "source": [
    "V_df_reindexed.head()"
   ]
  },
  {
   "cell_type": "code",
   "execution_count": 16,
   "metadata": {
    "collapsed": true
   },
   "outputs": [],
   "source": [
    "#bin by activity threshold (body_part, resting_time_threshold, active_time_threshold, crossing_threshold, resting_threshold, activity_threshold)\n",
    "binned_velocity_df = pd.DataFrame([dlc_utils.bin_by_activity_threshold(V_df.loc[session]['tail_base'], 80, 20, 1, 2, 3)\n",
    "                                for session in list(grouped_raw_data.keys())], index=list(grouped_raw_data.keys()))\n",
    "binned_velocity_df = binned_velocity_df.transpose()"
   ]
  },
  {
   "cell_type": "code",
   "execution_count": 17,
   "metadata": {
    "collapsed": true,
    "scrolled": true
   },
   "outputs": [],
   "source": [
    "#need to make sure x axis from velocity binned df matches axis from grouped raw data "
   ]
  },
  {
   "cell_type": "code",
   "execution_count": 18,
   "metadata": {
    "collapsed": false
   },
   "outputs": [
    {
     "data": {
      "text/html": [
       "<div>\n",
       "<style scoped>\n",
       "    .dataframe tbody tr th:only-of-type {\n",
       "        vertical-align: middle;\n",
       "    }\n",
       "\n",
       "    .dataframe tbody tr th {\n",
       "        vertical-align: top;\n",
       "    }\n",
       "\n",
       "    .dataframe thead th {\n",
       "        text-align: right;\n",
       "    }\n",
       "</style>\n",
       "<table border=\"1\" class=\"dataframe\">\n",
       "  <thead>\n",
       "    <tr style=\"text-align: right;\">\n",
       "      <th></th>\n",
       "      <th>GRIN039_H12_M26_S54</th>\n",
       "      <th>GRIN013_H13_M33_S54</th>\n",
       "      <th>GRIN027_H13_M29_S44</th>\n",
       "      <th>GRIN033_H14_M34_S32</th>\n",
       "      <th>GRIN033_H13_M42_S33</th>\n",
       "      <th>GRIN032_H17_M30_S22</th>\n",
       "      <th>GRIN034_H15_M28_S2</th>\n",
       "    </tr>\n",
       "  </thead>\n",
       "  <tbody>\n",
       "    <tr>\n",
       "      <th>0</th>\n",
       "      <td>0.0</td>\n",
       "      <td>0.0</td>\n",
       "      <td>0.0</td>\n",
       "      <td>0.0</td>\n",
       "      <td>0.0</td>\n",
       "      <td>0.0</td>\n",
       "      <td>0.0</td>\n",
       "    </tr>\n",
       "    <tr>\n",
       "      <th>1</th>\n",
       "      <td>0.0</td>\n",
       "      <td>0.0</td>\n",
       "      <td>0.0</td>\n",
       "      <td>0.0</td>\n",
       "      <td>0.0</td>\n",
       "      <td>0.0</td>\n",
       "      <td>0.0</td>\n",
       "    </tr>\n",
       "    <tr>\n",
       "      <th>2</th>\n",
       "      <td>0.0</td>\n",
       "      <td>0.0</td>\n",
       "      <td>0.0</td>\n",
       "      <td>0.0</td>\n",
       "      <td>0.0</td>\n",
       "      <td>0.0</td>\n",
       "      <td>0.0</td>\n",
       "    </tr>\n",
       "    <tr>\n",
       "      <th>3</th>\n",
       "      <td>0.0</td>\n",
       "      <td>0.0</td>\n",
       "      <td>0.0</td>\n",
       "      <td>0.0</td>\n",
       "      <td>0.0</td>\n",
       "      <td>0.0</td>\n",
       "      <td>0.0</td>\n",
       "    </tr>\n",
       "    <tr>\n",
       "      <th>4</th>\n",
       "      <td>0.0</td>\n",
       "      <td>0.0</td>\n",
       "      <td>0.0</td>\n",
       "      <td>0.0</td>\n",
       "      <td>0.0</td>\n",
       "      <td>0.0</td>\n",
       "      <td>0.0</td>\n",
       "    </tr>\n",
       "  </tbody>\n",
       "</table>\n",
       "</div>"
      ],
      "text/plain": [
       "   GRIN039_H12_M26_S54  GRIN013_H13_M33_S54  GRIN027_H13_M29_S44  \\\n",
       "0                  0.0                  0.0                  0.0   \n",
       "1                  0.0                  0.0                  0.0   \n",
       "2                  0.0                  0.0                  0.0   \n",
       "3                  0.0                  0.0                  0.0   \n",
       "4                  0.0                  0.0                  0.0   \n",
       "\n",
       "   GRIN033_H14_M34_S32  GRIN033_H13_M42_S33  GRIN032_H17_M30_S22  \\\n",
       "0                  0.0                  0.0                  0.0   \n",
       "1                  0.0                  0.0                  0.0   \n",
       "2                  0.0                  0.0                  0.0   \n",
       "3                  0.0                  0.0                  0.0   \n",
       "4                  0.0                  0.0                  0.0   \n",
       "\n",
       "   GRIN034_H15_M28_S2  \n",
       "0                 0.0  \n",
       "1                 0.0  \n",
       "2                 0.0  \n",
       "3                 0.0  \n",
       "4                 0.0  "
      ]
     },
     "execution_count": 18,
     "metadata": {},
     "output_type": "execute_result"
    }
   ],
   "source": [
    "binned_velocity_df.head()"
   ]
  },
  {
   "cell_type": "code",
   "execution_count": 19,
   "metadata": {
    "collapsed": false,
    "scrolled": true
   },
   "outputs": [
    {
     "name": "stdout",
     "output_type": "stream",
     "text": [
      "GRIN039_H12_M26_S54\n",
      "GRIN013_H13_M33_S54\n",
      "GRIN027_H13_M29_S44\n",
      "GRIN033_H14_M34_S32\n",
      "GRIN033_H13_M42_S33\n",
      "GRIN032_H17_M30_S22\n"
     ]
    }
   ],
   "source": [
    "regions_by_session = {}\n",
    "to_concat = []\n",
    "for session in list(grouped_raw_data.keys()):\n",
    "    # gets indicies where animal crosses a velocity threshold\n",
    "    crossing_indicies = [sample for sample in utils_jjm.select_trigger_regions(binned_velocity_df[session], 0.5, 0.5, 20) if sample<len(C_norm_df_reindexed.loc['GRIN013_H13_M33_S54'])]\n",
    "    # for each cell average the basseline ~10 seconds before crossing the velocity threshold    \n",
    "    if len(crossing_indicies)>0:\n",
    "        print(session)\n",
    "        movement_regions_in_recording = {}\n",
    "        # only include samples that are within range of miniscope data\n",
    "        for sample in crossing_indicies:\n",
    "            raw_data_to_baseline = C_norm_df_reindexed.loc[session].dropna(axis=1).drop(['msCamFrame'], axis=1)\n",
    "\n",
    "            # so say baseline is 80 samples to 20 samples before threshold\n",
    "            baseline_region = raw_data_to_baseline[sample-80:sample-20].reset_index(drop=True)\n",
    "            movement_region = raw_data_to_baseline[sample-80:sample+80].reset_index(drop=True)\n",
    "\n",
    "            baseline_region_std_dev = baseline_region.std(axis=0)\n",
    "            baseline_region_mean = baseline_region.mean(axis=0)\n",
    "\n",
    "            movement_region_z_scored = pd.DataFrame((movement_region-baseline_region_mean.values)/baseline_region_std_dev)\n",
    "    \n",
    "            movement_regions_in_recording[sample] = movement_region_z_scored\n",
    "        regions_by_session[session] = pd.concat(movement_regions_in_recording, axis=1, keys=crossing_indicies)\n",
    "        to_concat.append(session)\n",
    "    \n",
    "z_scored_regions_by_session = pd.concat(list(regions_by_session.values()), axis=1, keys=to_concat)"
   ]
  },
  {
   "cell_type": "code",
   "execution_count": 60,
   "metadata": {
    "collapsed": false,
    "scrolled": true
   },
   "outputs": [
    {
     "name": "stdout",
     "output_type": "stream",
     "text": [
      "session: GRIN013_H13_M33_S54\n",
      "threshold crossing indicies: [2042 4484]\n",
      "cell indicies: [1, 2, 3, 4, 6, 7, 8, 9, 10, 11, 12, 13, 14, 15, 16, 17, 18, 19, 20, 21, 22, 23, 24, 25, 26, 27, 28, 29, 30, 31, 32, 33, 34, 35, 36, 37]\n"
     ]
    }
   ],
   "source": [
    "session = to_concat[1]\n",
    "session_df = z_scored_regions_by_session[session]\n",
    "sample_crossing_indicies = np.array([sample_idx for sample_idx in session_df.columns.levels[0] if sample_idx in session_df.columns])\n",
    "print('session:', session)\n",
    "print('threshold crossing indicies:' , sample_crossing_indicies)\n",
    "print('cell indicies:' , list(set(z_scored_regions_by_session[session].columns.get_level_values(1))))"
   ]
  },
  {
   "cell_type": "code",
   "execution_count": 45,
   "metadata": {
    "collapsed": false,
    "scrolled": false
   },
   "outputs": [
    {
     "data": {
      "image/png": "[encoded data removed]",
      "text/plain": [
       "<Figure size 432x288 with 3 Axes>"
      ]
     },
     "metadata": {
      "needs_background": "light"
     },
     "output_type": "display_data"
    },
    {
     "name": "stdout",
     "output_type": "stream",
     "text": [
      "RMS noise: 6.4653501727189955\n",
      "Peak: 18.07402303492406\n",
      "Peak/RMS: 2.7955211322023494\n"
     ]
    }
   ],
   "source": [
    "##plot individual cell activity\n",
    "#raw \"pre z score\" region\n",
    "#zscores\n",
    "#velocity\n",
    "sample = sample_crossing_indicies[0]\n",
    "cell = 4\n",
    "fig, (ax1, ax2, ax3) = plt.subplots(3)\n",
    "ax1.plot(C_norm_df_reindexed.loc[session][cell][sample-80:sample+80]) \n",
    "ax2.plot(z_scored_regions_by_session[session][sample][cell])\n",
    "ax3.plot(V_df_reindexed.loc[session]['tail_base'][sample-80:sample+80]) \n",
    "plt.subplots_adjust(hspace=1)\n",
    "plt.show()\n",
    "\n",
    "#display rms noise for trace \n",
    "rms = np.sqrt(np.mean(np.square(z_scored_regions_by_session[session][sample][cell])))\n",
    "peak = np.max(z_scored_regions_by_session[session][sample][cell])\n",
    "print('RMS noise:', rms)\n",
    "print('Peak:', peak)\n",
    "print('Peak/RMS:', peak/rms)"
   ]
  },
  {
   "cell_type": "code",
   "execution_count": 55,
   "metadata": {
    "collapsed": true
   },
   "outputs": [],
   "source": [
    "## plot cell contour \n",
    "# \"spatial components\", or \"A\" as dense matrix \n",
    "cell_contour = grouped_raw_data[session]['spatial_components'][:, cell]\n",
    "# create movie\n",
    "frame_range = [0, len(z_scored_regions_by_session[session][sample][cell])]\n",
    "frame_range[1]\n",
    "#dims=(752, 480)\n",
    "d1 = 752\n",
    "d2 = 480\n",
    "A_cell_reshaped = np.reshape(cell_contour, (d2, d1))\n",
    "C_cell_trace = z_scored_regions_by_session[session][sample][cell]\n",
    "response_movie = np.array([np.dot(A_cell_reshaped, C_cell_trace[frame]) for frame in range(frame_range[0], frame_range[1])])"
   ]
  },
  {
   "cell_type": "code",
   "execution_count": 48,
   "metadata": {
    "collapsed": true
   },
   "outputs": [],
   "source": [
    "## plot responses of all cells during movement events\n",
    "all_cell_contours = grouped_raw_data[session]['spatial_components'][:, :]"
   ]
  },
  {
   "cell_type": "code",
   "execution_count": 76,
   "metadata": {
    "collapsed": false
   },
   "outputs": [
    {
     "name": "stderr",
     "output_type": "stream",
     "text": [
      "\n",
      "  0%|          | 0/36 [00:00<?, ?it/s]\u001b[A\n",
      "  3%|▎         | 1/36 [00:00<00:19,  1.75it/s]\u001b[A\n",
      "  6%|▌         | 2/36 [00:01<00:19,  1.75it/s]\u001b[A\n",
      "  8%|▊         | 3/36 [00:01<00:18,  1.75it/s]\u001b[A\n",
      " 11%|█         | 4/36 [00:02<00:18,  1.75it/s]\u001b[A\n",
      " 14%|█▍        | 5/36 [00:02<00:17,  1.75it/s]\u001b[A\n",
      " 17%|█▋        | 6/36 [00:03<00:17,  1.75it/s]\u001b[A\n",
      " 19%|█▉        | 7/36 [00:04<00:16,  1.75it/s]\u001b[A\n",
      " 22%|██▏       | 8/36 [00:04<00:15,  1.75it/s]\u001b[A\n",
      " 25%|██▌       | 9/36 [00:05<00:15,  1.75it/s]\u001b[A\n",
      " 28%|██▊       | 10/36 [00:05<00:14,  1.76it/s]\u001b[A\n",
      " 31%|███       | 11/36 [00:06<00:14,  1.75it/s]\u001b[A\n",
      " 33%|███▎      | 12/36 [00:06<00:13,  1.75it/s]\u001b[A\n",
      " 36%|███▌      | 13/36 [00:07<00:13,  1.75it/s]\u001b[A\n",
      " 39%|███▉      | 14/36 [00:07<00:12,  1.76it/s]\u001b[A\n",
      " 42%|████▏     | 15/36 [00:08<00:11,  1.76it/s]\u001b[A\n",
      " 44%|████▍     | 16/36 [00:09<00:11,  1.76it/s]\u001b[A\n",
      " 47%|████▋     | 17/36 [00:09<00:10,  1.76it/s]\u001b[A\n",
      " 50%|█████     | 18/36 [00:10<00:10,  1.75it/s]\u001b[A\n",
      " 53%|█████▎    | 19/36 [00:10<00:09,  1.76it/s]\u001b[A\n",
      " 56%|█████▌    | 20/36 [00:11<00:09,  1.76it/s]\u001b[A\n",
      " 58%|█████▊    | 21/36 [00:11<00:08,  1.75it/s]\u001b[A\n",
      " 61%|██████    | 22/36 [00:12<00:08,  1.75it/s]\u001b[A\n",
      " 64%|██████▍   | 23/36 [00:13<00:07,  1.75it/s]\u001b[A\n",
      " 67%|██████▋   | 24/36 [00:13<00:06,  1.75it/s]\u001b[A\n",
      " 69%|██████▉   | 25/36 [00:14<00:06,  1.75it/s]\u001b[A\n",
      " 72%|███████▏  | 26/36 [00:14<00:05,  1.76it/s]\u001b[A\n",
      " 75%|███████▌  | 27/36 [00:15<00:05,  1.75it/s]\u001b[A\n",
      " 78%|███████▊  | 28/36 [00:15<00:04,  1.75it/s]\u001b[A\n",
      " 81%|████████  | 29/36 [00:16<00:03,  1.76it/s]\u001b[A\n",
      " 83%|████████▎ | 30/36 [00:17<00:03,  1.74it/s]\u001b[A\n",
      " 86%|████████▌ | 31/36 [00:17<00:02,  1.75it/s]\u001b[A\n",
      " 89%|████████▉ | 32/36 [00:18<00:02,  1.74it/s]\u001b[A\n",
      " 92%|█████████▏| 33/36 [00:18<00:01,  1.74it/s]\u001b[A\n",
      " 94%|█████████▍| 34/36 [00:19<00:01,  1.73it/s]\u001b[A\n",
      " 97%|█████████▋| 35/36 [00:19<00:00,  1.74it/s]\u001b[A\n",
      "100%|██████████| 36/36 [00:20<00:00,  1.73it/s]\u001b[A\n",
      "\u001b[A"
     ]
    }
   ],
   "source": [
    "#using RGBA for color, each pixel has 3 values for RBG and last for intensity \n",
    "cells_reshaped = np.empty((np.shape(all_cell_contours)[1], frame_range[1], d2, d1))\n",
    "#cells_reshaped_color = np.empty((np.shape(all_cell_contours)[1], frame_range[1], d2, d1, 4))\n",
    "for cell in tqdm(list(set(z_scored_regions_by_session[session].columns.get_level_values(1)))):\n",
    "    A_reshaped = np.reshape(all_cell_contours[:, cell], (d2, d1))\n",
    "    #cell_frames = []\n",
    "    #for frame in range(frame_range[0], frame_range[1]):\n",
    "        #cell_frames.append(np.array([np.dot(A_reshaped, item) for item in [255, 128, 0, z_scored_regions_by_session[session][sample][cell][frame]]]))\n",
    "    cells_reshaped[cell] = np.array([np.dot(A_reshaped, z_scored_regions_by_session[session][sample][cell][frame]) for frame in range(frame_range[0], frame_range[1])])"
   ]
  },
  {
   "cell_type": "code",
   "execution_count": 77,
   "metadata": {
    "collapsed": false
   },
   "outputs": [
    {
     "name": "stdout",
     "output_type": "stream",
     "text": [
      "(38, 160, 480, 752)\n",
      "(160, 480, 752)\n"
     ]
    }
   ],
   "source": [
    "print(np.shape(cells_reshaped))\n",
    "cells_recombined = np.sum(cells_reshaped, axis=0)\n",
    "print(np.shape(cells_recombined))"
   ]
  },
  {
   "cell_type": "code",
   "execution_count": 79,
   "metadata": {
    "collapsed": false
   },
   "outputs": [
    {
     "data": {
      "text/html": [
       "<video width=\"432\" height=\"288\" controls autoplay loop>\n",
       "  <source type=\"video/mp4\" src=\"data:video/mp4;base64,AAAAIGZ0eXBNNFYgAAACAE00ViBpc29taXNvMmF2YzEAAAAIZnJlZQAAUiFtZGF0AAACrwYF//+r\n",
       "3EXpvebZSLeWLNgg2SPu73gyNjQgLSBjb3JlIDE2MSByMzAzME0gOGJkNmQyOCAtIEguMjY0L01Q\n",
       "RUctNCBBVkMgY29kZWMgLSBDb3B5bGVmdCAyMDAzLTIwMjAgLSBodHRwOi8vd3d3LnZpZGVvbGFu\n",
       "Lm9yZy94MjY0Lmh0bWwgLSBvcHRpb25zOiBjYWJhYz0xIHJlZj0zIGRlYmxvY2s9MTowOjAgYW5h\n",
       "bHlzZT0weDM6MHgxMTMgbWU9aGV4IHN1Ym1lPTcgcHN5PTEgcHN5X3JkPTEuMDA6MC4wMCBtaXhl\n",
       "ZF9yZWY9MSBtZV9yYW5nZT0xNiBjaHJvbWFfbWU9MSB0cmVsbGlzPTEgOHg4ZGN0PTEgY3FtPTAg\n",
       "ZGVhZHpvbmU9MjEsMTEgZmFzdF9wc2tpcD0xIGNocm9tYV9xcF9vZmZzZXQ9LTIgdGhyZWFkcz05\n",
       "IGxvb2thaGVhZF90aHJlYWRzPTEgc2xpY2VkX3RocmVhZHM9MCBucj0wIGRlY2ltYXRlPTEgaW50\n",
       "ZXJsYWNlZD0wIGJsdXJheV9jb21wYXQ9MCBjb25zdHJhaW5lZF9pbnRyYT0wIGJmcmFtZXM9MyBi\n",
       "X3B5cmFtaWQ9MiBiX2FkYXB0PTEgYl9iaWFzPTAgZGlyZWN0PTEgd2VpZ2h0Yj0xIG9wZW5fZ29w\n",
       "PTAgd2VpZ2h0cD0yIGtleWludD0yNTAga2V5aW50X21pbj0yMCBzY2VuZWN1dD00MCBpbnRyYV9y\n",
       "ZWZyZXNoPTAgcmNfbG9va2FoZWFkPTQwIHJjPWNyZiBtYnRyZWU9MSBjcmY9MjMuMCBxY29tcD0w\n",
       "LjYwIHFwbWluPTAgcXBtYXg9NjkgcXBzdGVwPTQgaXBfcmF0aW89MS40MCBhcT0xOjEuMDAAgAAA\n",
       "CVZliIQAP//+92ifAptaQ3qA5JXFJdtPgf+rZ3B8j+kDAAADAACurHPopkgYXevGAAJ8bNPCzecn\n",
       "AAxKAgK6T3HX46+rB74LpGnX4dwVk9PJQXV9NQSufNf5N592D0RzJwC+tIopyHuL9TX3XyciJ9aT\n",
       "w6t40DbixJbPxHXgQhWFDPwf95+Tfj0ksGlZAZvrg0l+gZ3yvBSGl9ufHb5A7CI37htGDk2pJMcC\n",
       "TwHjznymUGxRrPlnQ7KjO/gpda0UfkGp3Cfm6KInxza9Ok+1eRqU41KqHDaqf7I0u1lGqRwYyHEc\n",
       "v22zLs+Myeu4xM6k2oQ6Dx6huJDx5EZZrZ1aITIz02jrOj7UgA6vGxTUwl5tQnqoZcEwyCxGYGAA\n",
       "AsUceDzjA9Sn4nWafXblTlUSXXtGzBG0Fcq9mz3DWiUagbk3fhAcoC0nMyvveniQ/OuPtuyqXZhS\n",
       "Hbt6VzZaAthsv0+DbgFcgpy58BzNBr9+Gk0JJu1ZpMsB3VeYVp38nvRxSf/SG1yOzACXEmhJ4R0Y\n",
       "2UlSAAHFKt5L1EiQItbrKEgg8lMeeZtsPUbUIbO0f2Db4sErr0ZeP2UenCDFuWz0K0cJz/S7S2ac\n",
       "NJo9a4vxN4UKCE3vWIvt2za44wk1RFWpjiO+xYlx8ZZiUvNpgkUHid4Vsck3IoBc4oD7FMnFMX/Y\n",
       "vzx7T0x4jLsR0t8c4Ptu4jwZS63w3G3l1Tdp9Uzx+JdN4WdBAjJPQUby3e+NKW/XR+deEUdrwSXQ\n",
       "Xumzkd4REciZZ9/0OnjAFdzzOC2wxVs8afnpBQ5oyAE6mrQSl2OGlhFfNi3HvntY8FcAFJg8H7G1\n",
       "uLl7Y5yjrpAJ6KK1GraxoRPzYtcNcLUhjGmNtKBMFgHwFXoSsLo68rs7o6Q9gOLd27kPt3E8ccgc\n",
       "9MTLBk+4E3wUZk9/xRzm+JhWHFnDlFNEHC28kdQFd9zrjFrv3XYUiNmA1Vl2tA2eeLKsndXdUCJC\n",
       "r16378Q4G7GDcu93VjluyweFBNL/bvwX4YnDuSUWOsFcd0E5PmGGFmhYX4fORQVhlYvOIYcvg1LV\n",
       "VPAKuvYj1cXTMCBAGsi536f+UxFAVpO4DIpDh3mf7pAI2wqhPnDS0gNyXlheiIYsrLqYJJomJyFt\n",
       "KWDH+XtvjSL58xIfZz45py4gohsVkvjw5OcAk3Z0/Nba/u+l+rJGz48vk5ADPvI2c7/7t/FjvJ1A\n",
       "Opcg0Zom6SbKzT2jpVnl/q2lWJWOxymCGeQgq1wt1zSojFgtLMyDKL6aZ34VkKolj/XZrsOH9Lpl\n",
       "saLBAt29x4OQ4r53T1hxTwnkSpr/W8Pzn7SyHcAbsyrgU6JA7AXAAAI0rxSB7y9u5tULgpDuqHXf\n",
       "3BWqGv4h/4Ikt/5yDV20XkgHQKQUAR2oJW+qPxf46Mw1nNX/cMeT0C9aTAo4z4AMfSd483GHPHGy\n",
       "WG5HTYOvLlgAmqJQvmGjkZUW9KM/9aQgIvvMUtu0TNCuJ6C91fRWDwqFMQBTssVDOSMEceaYSYSL\n",
       "p1zbgjbU/UL5ibHxAMOPfZ2yahOH6U0Y4cMvDTRfnQW0SFGhu4jTPMQ33tbYI8qeqwQj6p2NyZYI\n",
       "MOYf1qob5bH+5f+A6JjJ6siPAZTmaZr+3+pnfEeLZQVMs7I0oVDv+T64OzagolEWULkVfuuAYKrr\n",
       "3Xfagm3gFGxLdF63ktYoO0FCOCopTzss6cNH6GfoCTgQnk/TetHuijdr9dCVQvJ9ApvfSB+Z9x/7\n",
       "zS/8M/3m7nFz0u3jQNfydnwkK/hW6uNMeBCXaJ32xdXROTDhUDP7lFIu1Or0jm6kR4pb7N+UaxIk\n",
       "qVkc3rEHo1HtynZ1w6F+RBeyTo1jPAkh03wkuIzSHre3DesFk4WjyuEUGHOdfwf99udkr9/d0Gvu\n",
       "kuz2lxd9mWfohMYLeDRc7as0sm/emRLqlHewedZKty5ovh6cd6IIUy1+MoNsH7FJK4ls9Zm/2F71\n",
       "wYzTHJJNJkXDRV5ZVLD19r4tx9/Q+O5mM6irUKc5kXpQvnnv3aLxd+vhpPrBYKZ3CuoimXsaN5Lk\n",
       "Xx5zyJJJJqQN8nTXm/03XWxqvwAFm/JbLmYyIASImWjG8QPrJL047/D9tfnaORSAdd/gQm3FBEMd\n",
       "HSc6A3V7tyru2pOPrJ8enZSCwxzcVSZJ4rdV946y1EsF1ARvHE2Gdl0fK3o3fFYGzKBKSF3SYdlY\n",
       "vzblwnMDacQABd7kff/TqSXaF3c8qoWcKq7BE9ezTDssDaG/f4KyLInQbdw+VFJMFww1tLuNESIn\n",
       "8xmbmNMHzD0/xLBAcgG6IND39gEoz/evJRGoW42A4iN29DRg+PJtnEctdLRtuda6wNLuvGRVZh+2\n",
       "s18PcZlcxkZjP+4n1/SE7hk1Wl4kThSRHea9OmZwF5L1062pSv2BkCn+uRuLPU29bBnUIQJO7b0w\n",
       "o54lMVc9kLFvC87LnppgdFnBBn/hUKY1Z3fjICDyliCV03gMeA4McTkBNqRi0FzXY9gQdtAm83Dw\n",
       "5qUB9UdA9XSuIkbl9B5apcYVTRVjy5b5L/y16q7HMO0/EGopl/dqZwSSANwPD/sKeTf/KghA/O9d\n",
       "RGhuAH85e7asUBJw62rnpg+AjqxLCcwssYbfoYL1zfbCek3vky8wyF5uSMMqfoXp59jPh2ctEwJU\n",
       "3sageqLU3/D06POckDvaGNjokW2GaYvtJPAntbpqStlRoLgWU//j0SzIicvR7iTub9BoI6wfmG6/\n",
       "36WiriEHRsS1qWsqZZGhbIOlzURASHMlBGEAPUiZx/9nCkfP0r6ArWBoeIQ4h/SJqfBxv6tq6Z3q\n",
       "hs0DxGuK3RTJbN3Shq2f5EXF3JKJVbM+BrfOiZkX0+N6FPJBVn6nNDtwKTg7negJQ6LlUQV7qUZs\n",
       "2z1j4mzY7WfuINmyFeSJuXFgfKkdPDJMaCku3ituRutzOr/GilLPno4WC+1I+0qzHxNHNue466XB\n",
       "pN+ocpN48IoI0r3B9LnhGYZJepMaD97bx6cofVrzq1ZRTlLAhprvied9g7jbTLJVCRGIeVIztnmv\n",
       "gxMidyoDPvUdxhT42jSr63+8gtBi1XVgKfVhT0c+G1EEEly24WKp2faODsI6bZzMA0pT0fu3kezW\n",
       "7wy5z+HyoIsmM5IHjSuostxtYdUKiANPHqcQczg0a5T+xIiE5gQXNna7Z3VEmJ86Yl+ONAlmPwAA\n",
       "AGRBmiRsQ//+qZYAWTvAw+3dsABSm7nTfvV/Oz9nNdP37UPTDRHK+K3jDQG7aU+2+bw9Hu62XecY\n",
       "2FDIf3HsR/t6ri3VHwvaci9ByMMjAKPd27bPinAh5zSDuR2TXIWX2FjUx/8IAAAAK0GeQniGfwAT\n",
       "LNy+2ZOQHZxMIvF+TSexjVH+qXdzuS7NTCvGJKo4dOJ7JXUAAAAmAZ5hdEK/ABFXO05XJ30Ecjru\n",
       "QLX/S3lT98Q/BflSQ2m8AeQJVNAAAAAlAZ5jakK/AEdkdr0TbkgcqrjTlTG/zbh7zK24wSIrY+eS\n",
       "5B9Q5wAAAIJBmmhJqEFomUwIf//+qZYAWbmn8z4ZAAilJB58QE1wCRF0vYshYYmM+dRkQcvJ6YZu\n",
       "M9TkseYmeAZQJU9knF+gQPRxw7T1PzBwAzdu2T5Jlai3IKjJI8o2C3aBvg2YUiQ8l9eMx3S/3BLL\n",
       "m8jZmLGuzabaRvfFu8xQ1udAHRLYEkrxAAAANEGehkURLDP/AAmtxAR4pdw8u+rQLPNDz7ErT6jM\n",
       "yL39Yh1CCiVpvN6+oFa/vJTaeIrg9oEAAAAXAZ6ldEK/AAjqpSQkZOFrIVw58RhBUGEAAAA4AZ6n\n",
       "akK/ABHddyf05Q2UBCJBFRi/flMq8JDC5tE99++adJSFqMe5ohxgexRHJQ5aGILGfMu+PYAAAACI\n",
       "QZqsSahBbJlMCH///qmWAFm+ZgFSTqosALEaMC5uGjBUYPqTvRVS6VTQaRzrnjWJRyZUrJ5aWxUs\n",
       "tLOAeJur/V2KlalkPrhlMjUGLVUjS2Old6O4ZjN1o66vyyp5zDCsgnuaHIIeqUEClgx/f5aNg5qP\n",
       "Hbx1IMB3aFB1UmxFVHv0rIFNO78XcAAAAFJBnspFFSwz/wAmWYGd5jBn+tQVIEdN+xAWBV4/JIyr\n",
       "52j5gGmEByWh8DohDGxv/TUZai9YsyLV1sbmdCPNmBMWc2Qu5S0cFnbYLIFJV2SRdXxFAAAAOAGe\n",
       "6XRCvwBFXQ9PkG7Jh0GoB2H3jjopVV4hok/TO6ptWdY7n8ihdIpyvAMO/QWr5iZShPUTmN1IAAAA\n",
       "OwGe62pCvwBHddy+f9oEqzlwme9K0cW7vv5p6+bFLjYuhW4LMTZCIybWtf23b+1xrGaXWLmdp1LP\n",
       "A4mfAAAAaEGa8EmoQWyZTAh///6plgBZRW2H8KtQB/ZoACAcYP3Gxs/xWwP5KpcHeaFuZl/UKkqB\n",
       "ahbjaUgOJyXBOK7cqJPnr5OUrxJEiB3HY8uE/qRK8qqOWPtdVnZ16xX8FCOcs3xgL1eYKk1bAAAA\n",
       "V0GfDkUVLDP/AE1uIB7tASQbhdiAYXkvlPI+Ie9HU7pMhsxqS4dXwfTcBLeOBNtH8IhFKmKMad/h\n",
       "YU9hDDZWKq8qiGSp1z0FTdEjf52XpMV2RbjibD6FbQAAADEBny10Qr8AI60OXwAE0T0cdqfgF2V7\n",
       "7pQr9TK0xDqS48QaxVDZ8pMmGrLhO52DPCRJAAAAKgGfL2pCvwCOyE9OwYcXz1HFan+SvOSaU2N7\n",
       "Je8ewkwPwiY1KloG1bwDHgAAAFlBmzRJqEFsmUwIf//+qZYAWUJsKt1+zHFQS8LnSRaT7fEEr9r2\n",
       "JCIo23Z4zSSw3m1ZNn52NygXfoPIQgn+zptnOxN0Tc33ZIu9iduLmL8V2ckR3J0C9LMrVAAAAElB\n",
       "n1JFFSwz/wAlsWfvBAsHIqctX8Ulw12dUQhQOr7AJub7zKduIzH/y+9NT1jIsG5B0OfvZidDjfyx\n",
       "so3wSj3l/yNhAvozWt4XAAAAMwGfcXRCvwAjrojWjD58gjQ2TPEtK2svQKB65x1z8eyeMKDEzNdn\n",
       "4xK89Mxz090lauBvQAAAACQBn3NqQr8AEt2I3MnOri/MHV3fAJ02J3uurLxm7ejRo2CP/QcAAABH\n",
       "QZt4SahBbJlMCH///qmWAFd+ZgzvpPuvHXiWXwjeACNprl7H40OnTYl7IfCfyD/uXcSI+eOS3dvU\n",
       "D/B9kq1O/50wpccIL7EAAAA2QZ+WRRUsM/8AS2LP3hW30L6Chc+CO4B/t6DqRL2FeqHJqj+eIgM8\n",
       "EzUsvSX4x2x6sIWKRMWAAAAALgGftXRCvwCKuiSJeyD1z8CVE8xUjfOsSJNY9jk1fhRBEe/pPqMg\n",
       "jR+lsO8tI+EAAAAqAZ+3akK/ABLdiAi0Qdo2DtgIEqyXqEOqpD9gMls5rriu4U/+BGOkyikhAAAA\n",
       "l0GbvEmoQWyZTAh///6plgALxzp4IIAZk8gjMSgngGaHKAgw7k6kq068FsA9kytN8bAQiEPFvEI1\n",
       "+nXxy0ZhlaCGV0Iv96MXxZQl1DCdF9k17e1DJOvxTYyNnKTF5lW9Mh1iPQKbK53BweuQQwREhOwJ\n",
       "saMZfMteR2vtnaoMt15loGyoqwTcRz6PSvzhBRNSYrPmSgnMRMwAAABoQZ/aRRUsM/8ACkFSoHjD\n",
       "ZPf2uHeUyiRMvbQqCFgDh83xa0RnNeUM47F+hp1hYBl7EtTrd1hZ/QKk7Xo8FMoNiSEWGbnHaj8q\n",
       "qk4tc0pB3gzfPOXrkI4gjpWSoRKFzgZcnsOa1tidcVEAAAA3AZ/5dEK/ABLfH/6Gc8Hd3IGoASPI\n",
       "5VyDUW3fGYNElG5kfBFxADCMcGREaMjESxRwxJrm4Zl1RAAAAD0Bn/tqQr8AEleOkdUyu9Ua404n\n",
       "eTRBEGu6vwwArpnc4fmFa4bTgrRrU0b3VUGA+uUyWrWTP/f8WofWlTjhAAAAnEGb4EmoQWyZTAh/\n",
       "//6plgAsnVFgAmWRBF+VUdlNWMpDtRklPxILNOkVupjHL1yfQrze6fyOMCVnhpitkmEatX8YGIUt\n",
       "8OQoF0Vl9XlQ1AphGN+ttgzMeOJDUDL712c1JkgTRY0qgX+QA0tsqlzjnuT9Zrp0qsLiiSna/YGm\n",
       "BLTFOgYbQ3jx2epKp7tDCj1mwNWpyDaGFLs1QXJCwQAAAHFBnh5FFSwz/wAmtxZHV0QQw0msAFV2\n",
       "l/v5KXy0ouCw5sBDcsPFiirx8WK4GVU6R3EkTKOQTfi3WY8+kNpUX5mPFK9NyvBjch7OIo1aCcns\n",
       "onc+fi6FBkQc6BWn5z51ShIEDz1gBWnRVo870MIF4cSxgAAAADsBnj10Qr8ARXxRaRbRN+WY8UdA\n",
       "wy1pABM883F7efFwl5UtcLGq546MxVUqYe3dWIg07CbxC1rH0tkJuAAAADsBnj9qQr8AR2R2NYQi\n",
       "Afl7Yjr3c0BG0EmlB5zEvJ/QuuD0KWO4ZNti7ctIZ5kRzDWE4bYZrdMWR3XLwQAAAFdBmiRJqEFs\n",
       "mUwIf//+qZYALN8K2vFbJYD8vwEx/TTZGuanSzmcSLRplKcE/qYCYWSE5rGdtLGSFGVI6anZcJz+\n",
       "xNnPICV/tlxlR0qibpOptRARoAVWRwIAAABAQZ5CRRUsM/8AJrFT+OQBiLFpwoYVRw7GAhhMI7nA\n",
       "Sm2KfPK7Ajz32EtXWmHYb/3HGK2jUCgJv7Na705qpUSSsQAAACUBnmF0Qr8AElYvLKaW65u0sYd9\n",
       "DXZli1Wovicq9pXQ06vDSjKgAAAAJAGeY2pCvwASVzmMVG3fGMfbayMPtI9VGELmtJdFCnlmu8D2\n",
       "gQAAAFJBmmhJqEFsmUwIf//+qZYAC7fKGFaaudNGfw8o++FaPxGlQxBNFDzVIAGubVA2gG6BTvH8\n",
       "nqZSsnhurSkc2VKrIWBa+6lis7KotJLV9K04gKI5AAAAJEGehkUVLDP/AAluuw1EObQwUQWZluJo\n",
       "e33vYxCx4QZ0s+U6YQAAABsBnqV0Qr8AElCxuM/TLDEt8D6ugRZ4V2qDWgkAAAAqAZ6nakK/ABLg\n",
       "iZUymEtTeXJHumsvtoPZvQb/H0NM6VlJ5AsSVRmK4AHTAAAARUGarEmoQWyZTAh///6plgALx8K2\n",
       "uyEkNz2V61Y4AkUadsGsUR5QqbssVqRFHDZAK1PdFYLHP46DmMihQ4BIfIyz5CKH4AAAAC5BnspF\n",
       "FSwz/wAKOoNTWJCHqoqNf/+YMgxR/Um4LwM1epY33DRlmIFt89FkoCXhAAAAFwGe6XRCvwARVzY3\n",
       "/pgLRtDqtnra0RQQAAAAGwGe62pCvwARXYDyFjAiOjJA4ssMpu1rKz5lQAAAAGRBmvBJqEFsmUwI\n",
       "f//+qZYAC7dUWABIzx7WLAkg9t/ylY09oC6vepxNXr8aQuvwEZYkhR08zJWJ7+15WAVxlKQY3vpp\n",
       "WE0LEzXxSBDORuzr62Rempa4Merhj+1K+xt6XJj3aqkhAAAAP0GfDkUVLDP/AAktxAP/IgXNKVsf\n",
       "6hgXYCA32aPoLJrpgEg0pYN+XrLexOyhTwp0RXf0P4lYmSdffO+RwZ3fgQAAACYBny10Qr8AEt8G\n",
       "MzHH/d4BbsSc9z3xCwrHhtB9oYk+WeCy/W4YuQAAAEABny9qQr8AEtgLjaeoBStCe3J584ob4Nns\n",
       "bGOuhD/zw/W/oQ+oVWPNtj+qPl/8FMxfr0AFbxzW1/YSGBdBYJLaAAAAY0GbNEmoQWyZTAh///6p\n",
       "lgALx8K2uyEkN7YLyoITNQ+4wUkOjV5oBc3g6QL8f+WAF5ibM8yXytWKij7QKP4ux9kDPjs44/fZ\n",
       "tYUg5zqmHDX/h9I5DgV6YHa8e9fqsTc7vgB3QAAAADFBn1JFFSwz/wAKOoMB0eQmOLutJd8fd/TP\n",
       "OTjawDIBIgLGtVFgkcrcdBeUQhE1Oo+BAAAAMQGfcXRCvwASKhItITW6FzxwKLLkXGrhu+cfdK2h\n",
       "oQ6kGlnn/0MhLfXMtnj0PTd4xYAAAAAhAZ9zakK/ABHZM9tRvJBU8EFMBN7XuigKMNPH3hfW6vLg\n",
       "AAAAl0GbeEmoQWyZTAh///6plgALxzp4IIBSDKZ/ioHwTLIaWB0/udOP26Cqrz3D1JJpAuSQa06k\n",
       "uuus11WU0GmlTi9w9zYARowtRJqKBodoDgKkFMOEOvAHMzlzI9J8bdCyWY4HYMMhHVx0QMIqHMUE\n",
       "AJCUasY1kDMXeCIt4jVbkPqYMpCYas/lUDaapex0f3OtLiXXvN/QUG0AAABBQZ+WRRUsM/8ACjwE\n",
       "8cUWFdrXndgj6UH41ZA7WBVoVyjOwtvMJvKc9CtWkbkoOkc2EinzQwiLSjc47mgxaY+CN+AAAAAs\n",
       "AZ+1dEK/ABFXTr5lHg+QAHJSP9kKUCgcrU+BE92DJhC4C1pDwbasYGvxrbkAAABHAZ+3akK/ABLX\n",
       "tDRZTACIPjKRUPhqDyKKqnhpm5iR5gCPT0L9G4Sqz7ZicUpeYLQArSTNIO1N+3gfSzcxioIfplyP\n",
       "oPt0DQkAAAC6QZu8SahBbJlMCH///qmWAAu3BO9oBVd6GvYN1Oe0K01CZcLC+TdTtL+Ov9DH6uZ3\n",
       "iASMXFSwtzt78QuzPcwja8/Ja6Yy6liPW8/lzS64G1E7L2ek7C5Yf6NG1zSaEDxb4rV8UvCF+oy3\n",
       "3WRkFr+KRv/UCvxLTzahVDry5cnFi324oPQNGBWvVpua34mlc/HvafxoYYtT8xTQNx47cfEahtxm\n",
       "naybsFKtsUSIMXbi1vx8KQKZbLJ1aW+sAAAAZkGf2kUVLDP/AAo3XOtFj0AWnnV2Dm+rU3/8+hoG\n",
       "GMUoghNgng/AH91cG0C5CRwtFvxTIPIt+qlEMWL/jFUWuoZjgZFEkRdTSIF8vB5PEgSk+qo0lJAj\n",
       "SaCKY6fB9zfG9B9v6+ta4QAAADYBn/l0Qr8AJb4iXXWsgTAiO8wktAAuvLxPORljakEMU4D0Yw52\n",
       "XwOdsjbbIMPVXA/Ldpnr+pAAAABAAZ/7akK/ABJbwkPMkyJttTTOdEwBg9mMOhtcUX50FZ/aoTow\n",
       "NqeDc121XJgMsbOkhIIscAhgVkIRgNYn9fB0wQAAAS1Bm+BJqEFsmUwIf//+qZYALJ1RYAGADFEL\n",
       "dD85nXhPCEfEqsK18o1Yvk2+9ErBtUxQfio83KcdsEiCx86ku0henxucqMc1Re+12Jh7ClsHLx6e\n",
       "tGNcjl2a6pDqzRh6uzx9Ua5jEBI/vRD//n69Dcz9aFP7e26ryWi9oXYFf5CnInaf8L8fKmyQbEXP\n",
       "t7O/cJS05MjHqTjJTXJdPGWJfC+UTADHz8ql6Uv6CMD+hFnONu7L9InaHrNUh1kEt+33gtvJSUtR\n",
       "Pf9xV1gv6wcrEdJXbH9DpEkKPbOzQDAFB0H1co2E966rqsTd01xaB9gLmE6xQ0WObHK1nz4QhpnS\n",
       "4lXPY56MWOoWmQFheya9xiGpwR6R5wDu2sFag7mF+NSM12cAbLduq66WH2QRvbxxAAAAkEGeHkUV\n",
       "LDP/ACaxU/j6u6ALk91WqG3y/+6kQm4mefTnl4nzFL+Sr+paGkAFRhYoEVfLgL/awnLiqb4sHlQM\n",
       "YRkWaiIUUnXAErr8M4QO5kNkk53YstkZX8YgttqyyyeWjEDZhK1Um16DgIDepICIRVZ3tpzIUUMu\n",
       "ouGfpWVU4NWyaEgitVQ/5PWaaT+ZMZkilQAAAEwBnj10Qr8AJL4os6isDEys1JVyh7KnmVpqgOcz\n",
       "+qsAk8eWxN1FATl+tx5Rq2pzCZpkfjaYVap1XtG5qdV2O/war/4TnkzvHPEA6xvwAAAAgAGeP2pC\n",
       "vwAkshEI0WnAabkk2D/NxQAo6Ur30bW5nC9Ro39rDlaqvoRfxfDkCfcoE23GFrORVSzcZeqMEcVx\n",
       "1RpS9zTGT/47dR6/vFLM4QXEc4Ev+wTcE6RtAkzCJySU1orHhi6St+8VOlVnb8e06D+D7HfIh/+J\n",
       "paZazViG7jMXAAAAuEGaJEmoQWyZTAh///6plgAsouoYgOoLbETrnTVRnxFN57gf2TT60H7BtQPL\n",
       "rDt+vMOjLD/caEPU24GYNIRlnIRPjbyRMe2g804YLPBqdXVdQr2Sv/pE6boN6tI+szeLs0zmUJvp\n",
       "fgztRwVKPR3e2wqMcSHQOyMkNYuWmh/QfUY1g112VISaZksOnYiItR/iwFenmAGdUcgAYR1BKWe4\n",
       "5ELahftC0KDd175ZbL0TlRD/BUb/rjR4moAAAABxQZ5CRRUsM/8AJrFkrvNdan8UpybeRSSRt7/N\n",
       "ZJDj7O6DDhwx0xeTNjlggBEx+VzZ6denPHansyX4pIJRHeskyr4t7a1HEteUosfJDyMoLH2KDRmS\n",
       "zCF89VRHLZuBUwFrkyobAV2Oe4jF0GAKHKe9bkkAAAA2AZ5hdEK/ACO9JnDyAWNrDgDRuNChYIIA\n",
       "GtFlYEwo6KZBON8fnsByFhjvUxopHc0s+H0BZvOmAAAANAGeY2pCvwBFZIEKngpl0mZGmYDhzEFE\n",
       "arbv4sSAmdw9vSyAdPD8ucH+453edHzIzdxYB6UAAADgQZpoSahBbJlMCH///qmWACyiFhns8Jrz\n",
       "0kFRcH2LyCaAb2KjUmSbHASQ86u4OW5OwNvzenu9nzDiUsJpL6ru53P4Z3c1KwFERnHv/audL2Es\n",
       "2Z90R9oHUFPxwAZdTkiaZlBk5LiiKTB7JX8bPCLYE2P6yD7lbBlJGA3aP+m4G+15BmfseU6dt5SS\n",
       "3eQiqk0jUpsKiRlS/6+XvcbEOI1nKhp16ls/uuzLQracVcQkVpHoZi73/87aanQbMuyzk7EDUkJH\n",
       "TEDcttagKlsXOFQyO79yysTv/MMyzm9p24eswjkAAABtQZ6GRRUsM/8AJrNsAC21UBAP3LG9RdNT\n",
       "HPzvPCoQDM65UbVDhyj+h6ROFSB59sSmcINqcaHT+qQMgmK7z5PYULM9geDbprTNnrgTH/tpy9rn\n",
       "5+cUEf69M/cFIes6LhFbKXsXsc0HPHb0l8WtWQAAAFUBnqV0Qr8AIr4pcFQ9S+QdRjtdBxxZxday\n",
       "4AUb5Yqg85hPnh0SB2kUhPDG5lagrdrCofAloRfW3nYA7MPv7pvFHr/7mNWSNP++xN/Preim+cWg\n",
       "VxuhAAAAVwGep2pCvwBGlUjMJb10GprmynI85yggYSAwh19j3ey0hTWnxf0Fo/LQNyMkGqyfjln4\n",
       "AwLkEC13o9ytn9POw0CLUXFuVzzKLfw5k9gfi276wx8UNjBSQAAAAW5BmqxJqEFsmUwIf//+qZYA\n",
       "LN8K40yM4mofGSrsG4AERSgPhqOKaqx+7SSmo3UDFr8NthVD5bw4E3DJ5dSs0Xuc8ElNzZGgVR9Y\n",
       "0C8fX439nZ7/iZWYUAru7BE9qiWY3EU8N7BviobJvoN2RGRjhIlMe2YxF++a8jbmBxCv6UxXeCqS\n",
       "rYmURM+1m0oWrSwSoQS2xNfly1oCXho9FP7ouYtUYMcXHP8W1aoKDbnvwjKYAYSQMwKd/tjoBxs0\n",
       "nWOG2JzLlNfbcddjym1XAZN5Qe7AjZqd/zeEpUPtXgGNnTFlMFlNOGOSSCgQ0f4HThXSp8UJ36qb\n",
       "Uk2Qkgxf2UVlr4lwijO+lPwa9RIHIKp3xRV8wrknSyrCph6B9MNZsOruaitfTv5Ato0CTvqUF6a/\n",
       "c/63j4xL9Vy1UyjBvK7KoukS4otG3UnRMbJASatXMeLq/HjD1jE+XWZlqGxUWgoWU4KXi8WjnjYY\n",
       "/cw0lJDFBtwAAABJQZ7KRRUsM/8AEl13v+QB4JnKSgVBKI+0TrVJYXfW7/85nG8swBohyOU73Zzw\n",
       "jO9e1dBmQ9YchxhshO/1IKjTTv33kbXDBJxJwQAAAEsBnul0Qr8AI7wEvaCJVB8572/awCmdu1px\n",
       "aRaMCyx0aHCod6QcGYfzmiWAGs9CDmV61SmKYdbmxsUvJm6JQFsufbGrQnp8nwiAh3QAAABDAZ7r\n",
       "akK/AEdkdr0Tne2gAOEeh8l1MoCY/zxoK29QMARJhA2IiEaXSo+rL3Iz6AYNWY4vTnQKYRNr6AB5\n",
       "JEPcHENFVAAAAS5BmvBJqEFsmUwIf//+qZYALKFH8ACK7Qkn/B+eDr7nvjezNnqgXSe5k9RndqU3\n",
       "uEavChQirtPlkuBkU4j++bs/KhVvvMWdAtfXvIuVIclFSMqGfLa64HMvkPbuJV1K0XzWCjjJME3M\n",
       "noJDpcvEphtE6IZoa8x2Mm7MrYxEUwxT4xQm6IA25D32ryxZYZrMaSheOl9Vo6U2UeVhkDz4kzNq\n",
       "WsXGmCzI81JGDM4bZKg9PEeT08MKgGtYyf3jeURVlQs96KJUx8F7AIkHdfTGCa45Xb1D8tpmbqNW\n",
       "s/hAdyqYbq1QyohMYmSXRD8HVQHGYawu02XLlwbCVb8CR1vgIQ8qDZNPVLePVv/o8uLTOLE9krZ9\n",
       "RvxQnSDjS1CKb4v1Cmp+AFe/ZW/hazPvCIi81QAAAJ1Bnw5FFSwz/wAmsWgt6aj1RbEAaipkZonb\n",
       "rMEhSfARXv9U9FwSv+7sLU6t1glczCAjDxh/f5eYuZbdF3ksB5a0wogNKCJEuGuYP3t7oDs6dm0g\n",
       "e45QfX6WyAEHAH1LCGpJr8u+gS8+IX9b8iHAzva+QIFoZvVwZtCUPU7RkQzSvYOEv2DJrU+0Z/iA\n",
       "sXDUrWYuuFsethtun4CemAQdAAAASQGfLXRCvwBHe2B6LpsTGr1jrH6h0hAEAQO2lfgGtBUXkEPi\n",
       "4gDjM0rC3WasdHWe2cgDG4cpnRurOL6B+RLWH0y297ASM/3G50kAAACUAZ8vakK/AEduAJYAcqxJ\n",
       "JxN3PdgxCl7GTNvuqYNvTCk+9adWwCEB+OU+W9b7gnJwg8l2Aq5URTQLeVSPguT/OQwwei7ml6Mq\n",
       "cx1fYNAEOm8H0n3I0yCQD2F4rX2kN9LgJRIHJC+e8vg9twkEI5g5DA8j/AF5lKWHN09P3c7Sop7G\n",
       "IvmBBQCIuyi9tXzohCAOxw4FBAAAAXxBmzRJqEFsmUwIf//+qZYALN8K2vFgozUywHX86htEagYI\n",
       "A0prHMt77WFJa2GNcNt9pcufENatU/xvWMB+plH/2G9h+/8hR8lpZAOK657P97S+LIH96TKuSfhv\n",
       "chyyyMKKf9bLaKkZjlSbnDlrn19VVIoG9FSBhdn2vhmoS+TVrvWbJrmtj6fIeKHZi0w35ziAoS7D\n",
       "+AEZRnCG5ezEt2f2B3KRuHoxCXi1snbsmCS4Zl010pKJh3z+peyvp4FOcU8AnSqgb9/ZC2pBFjnh\n",
       "YXvT0cQ7LDqO/GNXQ25HIs//GxnRH1h3DYCrINpphI0L0XZBycZw99o5GSBanz0dBZNypM8ad6l8\n",
       "naHBdwrYsw/bOATLqcstao+VIOLybY/dYXfJeSVx9LTeEm7HNYO2/xVH4DoHqoeO4RK7lYDemyzG\n",
       "4feE6ttB1ng/+9LPt19EYjMqs1Ri8tMY5tb14AMjdvL5+mzCi4XsHxUpIYOIzbSIJ8c83/FGhwm7\n",
       "aQKW4AAAAI1Bn1JFFSwz/wAUeVo0ckfUEfojFgJGWbRAEBXRRet4KehduJf2ggnH4fqb5PTD6ddQ\n",
       "8k59U/k/HVAeTlScgItFIay4v6YcXkmo6tkgDiZOgxuGz8Hu5yQQXM6p/4WGcA9NLD7bXiSY0Y81\n",
       "UFVj5PMPCzB1cZ+9ePzLnoUIvokm4TzgF44nHF7mqeHJycEAAABDAZ9xdEK/AEVdE1zl54UIkvQT\n",
       "Tvqa63kh3tQBUCWyG6n/6EcMpw9QPLonZ732gI0A7HbbDR60gj3rDG5zpy1xZZfSbgAAAGIBn3Nq\n",
       "Qr8AR2QnrI3KdxM6p2t7HE+whJ/jzvhhWhUej7rI5lOd/ASqkMDF9CbeGjiXUwAFGzPaJG/FfMsI\n",
       "SNOImeERhnPeKNvt10SIDSgf2UniAvvH0hQZLupReToTJH1Y4AAAAUdBm3hJqEFsmUwIf//+qZYA\n",
       "C8GSFrk0AKoUvouE5KStHvO+eJ3paqZMh1FnAq+sl/UJcbisGliG9qB4jKU3LrTSymhk7OFN/y9g\n",
       "6P7d+islIkI5Nc3e5qkBwvP4g2tVr/X8EUbZVPJvrztXMd4VmQLv11rcfBbXXWQnjcbSCKZBSQpH\n",
       "E0rKDcw+SL1/9ftS6cBH2Y8FtvPxrgKDkkd2n8qQ/vtDKVmgoFR+HR9W/Ow+gExKOnTsgjyqp8Xy\n",
       "ifkj103YzixTb08Reqpx6FZarWByZgBFD+G9dF6gfxQUCzmMoc5CvUubGPaF5Sjcgigv7DyeGAKe\n",
       "FpoP30HcP8zCjd1Rl1PEmhBBXNSBpMzJ8rg2nKv9gLuKziKczoxQOZra/v7Lk31/LmW8rPVaz1gi\n",
       "Bt/w+DNWf5wiBgSbdefKC/7WG7+gKg4HJWEAAACkQZ+WRRUsM/8AFHppPVBsdoyFTbvrtKa6GYpa\n",
       "qgCdmdSdFptH3BYeHMAlyiVJ6X7Nkj4y9O275Fioakv/dDjPOxGTKH47bQTcZdxdmvLPWBHr1d2S\n",
       "Ar3E4EOjULxj6bJMvhuyVKVFIiQOEzj7XgPimqw3DtJ/79MdB2riMaNg8HAxrLmwyV9quZdpSXX2\n",
       "ZU2ggy64eTqfYDccolgNzAWHo9tKrYAAAAB5AZ+1dEK/ACWuhb/Gkoo5/dVr22eB0ABuuQPdQaWx\n",
       "0NnPNvABH/Fil/Tzxl/tmeCUSgxtAxZkb+RJ0NpWEu3oVDVwW1m6hijraWNfIc4jowk5deMqs4X+\n",
       "ycGJBQtrQBesmXapYwKBU2cW56Uf8mLzB5Pqvpv7kY7BbQAAAFMBn7dqQr8AJbruVHWfBXZgvshG\n",
       "kAErS3H8PmrVFUtldlkU9HfrrsVUvrjAWJqDTDXtVqMevyqzXBK5OP03w6B3eiquNqmngOJ6M3cI\n",
       "ZaLKAtKfHQAAARRBm7xJqEFsmUwIf//+qZYAFm+GQAaPhuytaCC2BiLHdW4abWXg24uBNlGIuem5\n",
       "At00NFEWO8UQdJCcuJjctEy4I9pbN1ItJVgNeQMOX0uBKuCHeCa8nqu27pYjCl0um7QESHoOyggQ\n",
       "lDD66uRMdlSWRxbT2Iadjki4hGbHaum6M4+GTPs4TNn/kqf1Bl4A/kntT05ct6qwGhKUEYoi8+Mz\n",
       "hhw8R5G0mbcNx4RWc9bufUjpQN8dXagMBCXJ7lZ4iUTsOUDy5DVJOOUags/31j2xR6dJdEdR2OCR\n",
       "EqROoFmrlWimR09qEWUqg/YoaB7vPx5iZG+7mhfsLEM5ryCEbXL2MaQ3yqkXMnN5rV27g0C0Wxtx\n",
       "moAAAAB+QZ/aRRUsM/8AFHppF1cCAx4pR1tmFVPkAkiLu9uRCp1XH8hKf8ZyAR3ilkm1F9+zrSDk\n",
       "yikr6xwwElNGVNamF1g56ObQGbmktJL6tdrE1B1+iz7p67sm6li3kxIZJErMiaGuEJ41l6eUXovo\n",
       "fY6Yfob0qnTZ55asGdy1spg5AAAAOgGf+XRCvwAlrmxQkpSeCAAUkjDYoiiEC2F3963Jx5bJ21jz\n",
       "2jKVooGWvWf5q9b3zMZoVod3SP1u20AAAACBAZ/7akK/ACW67lRjBOQMgjSgAaxJ6Ykww4+IgqxC\n",
       "W82ND/joCdBOMGdFaF0Mu/KbaujmbubEdcnvTb/kdYxIAjL9bXuBFzBd8oqn6oAlxBAfXrf8Vt7P\n",
       "ie3oTAOlRolztx8+QO1HWSqbZXBNZtHYwBLNJxf9dptZstNOz2siezTRAAAA+kGb4EmoQWyZTAh/\n",
       "//6plgAsnyC7cCOyIIv5V1jEvmeUKG/2M0kPpeToHoHYqhytVdACSKPYUrGS8h5PJVntIAWLYdZu\n",
       "2/rCYoP+0IscdrxK21zxLAD/RnzVoFaLLENT/8jJCj9eyzYY2SGAluUC7ULgkem5e/hSr89wCInB\n",
       "7tUWK6w3RBTRyPnQ7xaAN0MxwsjSM91DQgWbapvti+XKpuzPIIc0hjSfkfgWVrGrPlxCXj02VIn1\n",
       "Fx6a3n459nfBBt6OZQCM9uWcZfjoDFQb9U34NUZzocKXoOrA0t5olmKxqtqiKLL10rQ4UUBqd6kg\n",
       "rqn7vJr+XMmrUdEAAAB/QZ4eRRUsM/8AFHppFzigwk9ACuexDZx5BIkdJWI7XVHs94tF6M7qOhhL\n",
       "2abnJbolIc3m+ympndULpFlCJZFv3NO2zF2+pnKP8CRw0gqZ94SOewow7BUIpJieAIimy+mm800+\n",
       "nKxTfioBjonVDpSX3cSKctHgH5rsm6KlIBjSTgAAAEABnj10Qr8AR2z06ImTZNzOABu1Qo29azF5\n",
       "sFPV8Tt/1qt8F/IUQ45CMsJMy/SeSjNhONA1WvmD8LkJtsyOyuI+AAAAKgGeP2pCvwAluu5T6DAW\n",
       "lTxIyoIj9Ai9ov3hwBESUL8909rFFBt8NVMOmQAAAQlBmiRJqEFsmUwIf//+qZYAK3p3fEH+kGPX\n",
       "mUyHUxOykMI42/OL4F74cDDTBYlOoKvrM9MQxfNO9GI9LnHJHQy/c34y78ZEyScllW41OqtkXsLS\n",
       "yALUljFdH8JnPNPPKk4U4vBW7BSVV5+p0VZOQ8u2qXOSAxCWdjzrGn/v9NH436PMLIe7ik8udo6k\n",
       "MEU8GOr6H0I2AdM9HKaQkvcb9U9oLSuhmTMGCmHVAigV1rlyLkdzzu/UZa6wwrIgRF0jHADgoZMH\n",
       "lihODnCVgSqyUVSU6DInyx8b+QcO751+7JG7w3ryxG8DFpngVsZG9tXfndA607CzsrQXkmZUJ9/L\n",
       "AlqA6E3YIsATozKgAAAAekGeQkUVLDP/ABR6aKfrqjpb6gA24Pk2dul/HcbVft7Yn14v5b2TzHiR\n",
       "D6FMrEu4nHX0914xwuJRbNHC7+HLC74wnIwDPePzx+QajlqDm/JwCvv2PO4K/YwT6KCklRPjZAz1\n",
       "x2KiU6Rb5OfnZqv9hCHREnIFwxhDt4FxAAAAPwGeYXRCvwBFbPUSkjlUeyzK8g18ZoowSAR1bsqy\n",
       "5phAybHR4bIGRsVxqGR/tA6O0CbMJKHaqphuSD4IfB0NLgAAAGsBnmNqQr8AJbrpKluQsyAUrwC6\n",
       "/Z8gx7lCdZjoGAWQkD6HRF4yMnydrskqWX6ObHDSklekobUs+YOELZ5MqWkw+ZahluU9WX6utpcM\n",
       "e5D8Moz88+EoiecyQRS8qoTeHvKnFUuzvhpedELBWwAAAMtBmmhJqEFsmUwIf//+qZYAWbmn9xcA\n",
       "EbuB2RsAVe7XhoZUd+cAwoujN2TqMj2WosBpX+/ii3yafLsE8Kv4PBvFF5zkVSdyM1+ZU1uzMy1v\n",
       "U78SXdcOQv9it7zzS5Ia0kUKA4UZOtdqMGmih3+HtyY6aV6e7u3aNVy9yNZp5I0yKuePCzvvcazt\n",
       "DCT2dKZ0QxT87b5Ob1L2drI0jVZfxk6iSV6FQGyZtcEsyjndrZpz+NXlRT/MvgW9D1R0qYgCdI0o\n",
       "9vvVzh625sQrYQAAAIdBnoZFFSwz/wBNbiAfApzWN0qeb16FsUBabGSPNnbkAbS1u6GzzHfV9yGw\n",
       "k0BX5CmL1hMfC7lpUWem/3uplTMbkDPDIEqF8vyFFJvuKFU7BvZ3oTKovEhN3hbE74v5RcsFjeBP\n",
       "Xs9qJHHPFSNtkh74nWWGarXHYqgc1Fc7qAnn+HIeFxYlESkAAABZAZ6ldEK/ACWuhN1eIAsJYn9d\n",
       "tQTjGcXfzqNmcudFalQjIaPve3cz5oz3QZ0FyCUbYfbw5/kEairuAH5ZSNUgyezQGFM/IldjiJtc\n",
       "dCxecUWm6+hIaHKwNBEAAABTAZ6nakK/AI7ruXLfMYXmZ8wLTLOyyxBSIWNfxFY9Q/pABNE4NKfu\n",
       "/pxfCbaUNaBQHAq88xqI8HHMuPhES3byVIUflif78wstZb26i5YMdjiQeMAAAADVQZqsSahBbJlM\n",
       "CH///qmWAFm5sKwqTaAe33AAk3M4nm/nUJQuJj7Z2PCwzMczR2OWdESwmvbncwoURiOWEC+Uk/0K\n",
       "BqcjRpmOjvadvCEvPl8MjhZtwC86wL1VxBdbUKSo2pcBdaUsHNvsN6aFelHx48Kxj/bY1Pz+suWB\n",
       "u31grNO7Cp2+VtEd7qIEJ1zPWQqL8i0SzEHOcq24JmhDy25nK0S7sCd6YO/uE445yPrMzxasT5tN\n",
       "7tw5+UXwgfr59xoSM38V2yJEOwVOWa3/hk4wkIFemV5gAAAAZUGeykUVLDP/ABPqbD5ag3V0PhW6\n",
       "ALUDo/roafVzA99qiiywTNL0a+pTC5hg2YhlnwGFtYMJz9CdVjZbFpR/5yrsUmjYG4HqqPnDRWuI\n",
       "5t/A/7ode/tw1RlCtaHAtrUpbRxI+FKhAAAAOQGe6XRCvwAkSqWw2LiT1KBy3hJoN4S1p5DGRQ3k\n",
       "EgW94YFIzvqQiQPvJuXmtbqJEWvkEFCkZ6VeIAAAAD0BnutqQr8AI6O0Lo0ADhJ4w6QCMH/Y7clP\n",
       "dqMoW+PWp6x+wRzGm9kb1aDHYTX1Y3V9dcQy8nZUETwkFdSAAAAAw0Ga8EmoQWyZTAh///6plgBZ\n",
       "vmYBUk5tFIaJVC1PAbMAQhqhHXLp5Ei6keaUYgHJNaCr/Q+Y9gV8EM/YKDv/qV33qd+OWoYVFynp\n",
       "YM8OFeDEQSPQ08kgs4xM2ovc5VFD/CTYFieotFH3gJVKB32hn5NZsvgeI493PnwqjF1qQL6LlnJm\n",
       "Ci2/ofkBzp34+r/03Toxf3x3PjFPtRPmqjTtfLs6fZt5BzC+zB8Owfot4SMozU8ylKZkt87QCqfa\n",
       "5G/enawVBQAAAEBBnw5FFSwz/wBNYsl+ZFo8ibzUgEVNJH7ACaT1ozYbfRCfmT9wdt5aGIwiGzUc\n",
       "RSeO3ymd2bDUFKBFEVyzSnDnAAAANAGfLXRCvwCO7FaByQI7EHN8f6nBNil7HVflPa38GM/ueEaQ\n",
       "Ps2wCWNPVNig76Ye/hgVq3EAAABAAZ8vakK/AIrJAc98oCIA/V2+dbgWPLdoPmaBWEYYbf+3f517\n",
       "ERVyi/nKpryGB5zht2463H2i2vRtdV0UHxoEPAAAAIJBmzRJqEFsmUwIf//+qZYALN8K2vFbJYD8\n",
       "vwR8qN6aUlVYgF30J7lS0+KAn7mv5Ggeq+94c9ddJd0mlrIUv4Sz4xaLt/GWbqaRz2xynPtXh4AA\n",
       "rB+O3QoyQcG6ei29BK9nTGQFS1a5U98wzgUBHrpP7aQbtKVaITo+rGJFfU6qA/3AAAAASEGfUkUV\n",
       "LDP/ACax6yCN3a5uLGPmD3y2bMxGSbH/B7fQP8hP6tElE04n767edwgHrfYBKpfp9PDOmfxj7LW6\n",
       "KhdyZIHjCZa08QAAADIBn3F0Qr8AIq2U42QGmpLl162DXw6uxw3RKdpQPGGOvRO8yluYJvPTy6eR\n",
       "sVsOjnN7oAAAADgBn3NqQr8AR2Qnl4c9RpWpnihL6SJVkAeAsHUfP6hB3kn3J6PhOnmVsMAwFaX9\n",
       "HmEpohFELCBRXAAAAIxBm3hJqEFsmUwIf//+qZYAC7hR/ABHw0BfQe2wbwe15wLK7NgePl0rUSQl\n",
       "azgR4ItcLg624L5E3QNMEcQL4RzcS12tXgkzdAHSQyaatxLHvGpz3TL17HAsD8F3rcHSe3ppOaOY\n",
       "Jaw0O0p88+/l/ckEAvxCh4vrGkPjajPJYUwlvSiGsVSza7MUn8OMYQAAAD9Bn5ZFFSwz/wAKHVIA\n",
       "+vPsqAUv3pKmU7HZOzmGcXNdsjGQ3UF3RmeWTS5OmIwSfDWjpbHNA/Jc9IjLi1VBnRYAAAAxAZ+1\n",
       "dEK/ABKlkptvSBJ7cLZx71GwYVovd8T/EBau088MaaAT3GGi5mKnI4VaRl06kQAAACMBn7dqQr8A\n",
       "EqWTTDmfAuXVco3m6XmUT2ErAZWXnyimtizzAwAAAQFBm7xJqEFsmUwIf//+qZYAFm+GQAZ+GLe2\n",
       "4IFK9kpdnOrqtdkPG9vQSQHGg3RH3BvjJS9d+2sI0yk42hKzbOQDp45ePHzN9bDe8AaZW2vmP77e\n",
       "LHJMk26zfxVnE7q1HwQxa5yE+buTCs4fshbAG+ktO0ZJBUHahq4zyK3ju2WsanerQ/61WoxMxt36\n",
       "p11q49XPndYWRfwD3mGEDZPPVvPhjwsvHg3x0Zhldr10ttomB21IVsa19o8FZZoS6GrAe1U4JMrP\n",
       "+53wX5UREu4imVdV4mVWFomZCmg6orbfuD+hzpOP+nVF19ycF38rYFPOKEa3gh/NtEOWw95FkuH0\n",
       "Qtz3swAAAJFBn9pFFSwz/wAUOlR4LejpM2GASPloaRmCIOZ1MSU0t1QSo8nektPKrlVHqYcfFstR\n",
       "shEAG/PEYIxLXgEoMMd/jFVthtwxetdkYIuSrEsAkkwis7IPJbzaNc41YvvJs0GQrLwOZqI2cCT2\n",
       "F6GM8vNbv+SR7T7E8g/WgG6KGDNX93b/f0RlFJnFXEa30AD22OXFAAAAQAGf+XRCvwAlmjiVFEHu\n",
       "xQPdYd9BDGu4zBPRfEiALCHwqgARYfviN5zJ7E4opzcmF/RpIxf5QPK9GaddAIUAfMAAAAAwAZ/7\n",
       "akK/ACVKpbEKV7zBL+EAwZLvJ7ImTw5z2bkvUUF6vzDp/PiVb+PTMYnD3NuBAAABDkGb4EmoQWyZ\n",
       "TAh///6plgAsmf8QlC1eRJKAcinJWsRKyASHRRS7kVpRCMGP+XeaeSmhm1yQHDzuT8xYhcYzfrTk\n",
       "hrBXo1+jkHbSPQMiHE9ye8dzlJkReKhJWNNR9NF/ubyDG4KqFjB4jB5QH9O2G4t2zm8kEH9ParkX\n",
       "Bs19UGqHxeJBIlDM4Z+BPKqVtOJYP+u7AwlSELge7U/trOAih53auzFUV2zilZ9mzx0ReQ+25h1i\n",
       "C/p9NUbXrsia8VKSrS/VlqVIOqYkdzdx+mvfaOssbMUMvfZUIU4clMYbRsmjeWsBsI6LfQO7yjU6\n",
       "7gNQsdBo36Q4ZZ0tr3Wf1SKxqmxQD5+/yOO/qn/+Iq9IMQAAAJVBnh5FFSwz/wAmsesgQyk342X2\n",
       "vlslTJdMKVZkGmKUqXpOXvpvUQgaALI4ARrbT9L9VH5m+qbG7b43l4KdOy7OZXdbEKJnwGSXmzj0\n",
       "fIGjwI8CT0CG2zMA4yDfGLF8zwLOXNfxI9t8QNBOncteDI12oAPz07zJ2Ur8bQfyA0EHyZF2fRqd\n",
       "Ek7u6H7tWIxjeV9prcyDKgAAAGABnj10Qr8AR1zbr8iGZP+53bsWiVhQwpjlcK60kYWT376Hte8L\n",
       "pXERdViY0VoO2M0kRcl65TX2cx7646wVsH8MVDMj42ZvnFBUre8eGGNOtjznGhl5H5DRnDP2HoPX\n",
       "ivAAAABDAZ4/akK/ACVKpbEKV5mgHAu4usN7iRtR7992hKx8ewkoe8RKrP1EYU1PFaVJoiRhgSEK\n",
       "XbkPX5KduyPwkAfpESA+4QAAAPxBmiRJqEFsmUwIf//+qZYALKAEKRT4A/RboY8X8M/1Y9ZFJ9GZ\n",
       "Qp644sCEPOnJJCYUNmppbB/VWvZ5Fpho/v94UTWRFbycvr/8ZjJGn5WrT9U35NCZPeyE2hgEpAII\n",
       "JCIDJXPO/LznCVndqFyk1f7w1jiH17Bhgqx4Z9dH5ND4cPLgYX5uE7yPr2iTe3wkJUcCEjhWBiXV\n",
       "1MEOh+gFxECrxK5Rd+mFKl3KLjiK3ZPXYAmIsk7nUDw/4Kd+9GgjMwePkM4+ZfZ/W5J9ZnypBV61\n",
       "mmPoPpwbC0o3rwA2X1h/1UCI3OjjFc8MVJOwKbc3SlFkcKm5LWHwtzFs1OAAAABQQZ5CRRUsM/8A\n",
       "FHUYRmo9alwGL31LQyuxvQryFvxAF/mv9B7cyrkN6qvkSue0KT0dbz+P6N4IpxYbX1HEC6QIS975\n",
       "e8jB6cyn64QYA9GfrpMAAABLAZ5hdEK/AEVs9MXod9KxrzqQ94l2HlFEW2cZd/gISos5xE7MteQx\n",
       "IAEGWWOJxnyDok8YN1GsV/6SfYcGAz4gTX9SvxyiJFGp+j14AAAAJgGeY2pCvwAjshPVCLtWOnbp\n",
       "mDwdbl379UtIKdp5R1yKmCE/rlHBAAAArEGaaEmoQWyZTAh///6plgALwiTkcuzoCCACnSRcF0rC\n",
       "GPDMzU5eAL/I6mIGsVJN5VYkXtjZqwj5bVDyOKWtWNOYSVO/uwRU/XKlhBzXvTjGMiwlTg00qR5+\n",
       "mHNTZ7J85WUAhzs7v6hgQcZv6MvDG5CgP4ONqWGB0egO7kqSKBu4oSFxOEBIQsDcpURrARcgrNVh\n",
       "6+lo8o7PNIcEI/SC3D8BzIa11uqbghbIS4EAAABVQZ6GRRUsM/8ACRQcOqBAsZ4gq0qwYgGjwinh\n",
       "5x4PQNQjfS829TLw8zkzaorfOXw9I9KnGrgxhJzeQCOVor1+eDjhYFFEQri3t/I0u9ABhej8RZ3g\n",
       "QQAAADQBnqV0Qr8AI7xklqAVuTgOuCqpATyni7c0MhHb/jxPbr0iQ3h0XxqnfMZft8QkHdNOWh8x\n",
       "AAAANwGep2pCvwAQ3XYPr7aiadUYlxbZsx/7uQjAvuxlkTadhNgXEGMSOCpdnJ8cpkUjyNLmoYa6\n",
       "lvwAAAFHQZqsSahBbJlMCH///qmWACzfCtrxWyWA/L9sM1AOeCTQiC8ywy/OkppUg1MeLhuke4lU\n",
       "xjDztCkxbF0KbKp66ijfT2jCFkKQWnsRRfjwE7BsQvbeHSyXGeyK/RV0X/D+oCo3jrzdBMecW3+I\n",
       "23jDMzShb9ZH9Gq9p3Vx2jnZIDj3lOX3WuoiSoDtrXAgtrUQVlUf0kvoqVAdIsHjCC2WK73fVpHV\n",
       "z56f3wnLeU9aImbiEpimBKdixHct/qiYMRoYZCBXst8rNdi4iN1TAshSUhcs4JufklNhhlO6fXza\n",
       "VEC3gA+ioup5omSw0HNs7SjeQOfbM002++bGtHIH7iKG5MZy4FOAXtJFT4A1vWn10iFltnth/Kzk\n",
       "jpu/kIHtaC6e0Hk9tQdpXUxKdUDeXWI7leQgyw47FqT6h+RcdoyzJKVVY8s8RsfMAAAAiUGeykUV\n",
       "LDP/ACWxZ98SbYbtHM7OQUmkjdDGP2UW8HCialJ+8yrhbXv8/Op+Snd9DS6FLzfOCGZnTAG82aiQ\n",
       "8WosNeG5p3YF8VxmCX3bI4f+5hVAbPQ+iibGPAr20PdQtGLpERAUAmew08jO0sq6+pKs4qU4rK7O\n",
       "uD48RIKbMRfPGUZ58NhrRNdNAAAAMwGe6XRCvwAP3wJ1aSBQhOJD6IKh5LPZok9ynohxNtj2xrAK\n",
       "/pXlzsfVI5DS2GPoCgHRcAAAAGUBnutqQr8AR2Qnl4c/V6XThQAq9xL25HPRi7ZEgQOGySDeFJCH\n",
       "Ln+Q+4vkRG2xeGXOidJAQdj+kHl6CGobL1YsxMVAnU9Gk0XfvN1AxPh+NY9pAyNAiR/7t1L9Z6tc\n",
       "a0X1W7qjugAAAUNBmvBJqEFsmUwIf//+qZYALKM/q5wAGdSLk+7gjXcG4/J9NtwFBpg7EcnYAO6x\n",
       "YLvfawY15wT15rpc6GKwdNRy2mql413xa1gyv+ng6ep6bjcwcOuaTFTtewhqqw6HIxDsEvQFDfMC\n",
       "4gxaxoWz0ykuoJukX+H5MfAy0K3zw+xOTU2B+wkYWyukII79e+QKWckegrTi9bAyF5dcbA36uq6c\n",
       "/vAECkcCYFmPHP/IQ0V1uEuuSu7somIazxyRgQq3xhABMw4riKvIQBG3x1FV+iQSTeplxfh3B960\n",
       "h5FFyXzJHFmCq2s7f7h8YkO7zeVvDc7dM8g4EQsD8PltLu93pK9sg2whzOJmQbvoLHu6/H4YJB1c\n",
       "brQbeLAjN/Vj2sz5sPRiOWxjGE6JxOnzl11/J+Qivxbza7iWRGvajk1ydgfvuizysQAAAI9Bnw5F\n",
       "FSwz/wAmtxAPdmFO/IuQBxcxzSHvMApSLQYOyBo+rWAGAgmi1UcpopvZYglrPS5kPO7VkbLLtLNB\n",
       "t8BO+/kYmmAmdfLS1xCCK1ZD8JwabOPs2cTq5dMaelhkRdESXVNF7/p4FBXkv27dS+Has58hTRG5\n",
       "yWQWdk9Ac5cfrB83uaNW1sJqIt5iT2Ll4QAAAFMBny10Qr8AEldEkSlQn3xc2QBO2X7QSCxouBPK\n",
       "VBjNcH4tUC9PPeSW7ijamXqIrRGi4SM+tK8bub9W+CksiAaJOnVgxEIrhI6ExpeQU1P0vmD0gQAA\n",
       "AEcBny9qQr8AEt1248Zj3NlIBgx0MxnmGtGzTquHrIGy/8a77ZobpAKNZRXvzRwSOKE8N6zCv5P8\n",
       "vGWIMP6Bj2K1zhDMis9FMAAAAedBmzRJqEFsmUwId//+qZYALKE0Vw2l/mUQHh3S9XVfxdalB84+\n",
       "6PCFa/g4q+CBNLdfLqWywUVmGL9i6vo5urUNTAKDlKsYarvmcJQGokx5PqHjVl4nbJ2mAwz84TPE\n",
       "dHsaqgkSxlPesg2YMmPl62RZbiniVRgC8+dojbjdRibz2M5my+cbs2O8Gmbe3xWcc+c1BFfuwIKi\n",
       "zuii7DnoJT3qsMm4yjHefAXMKeoWId6gwc0qz19aYBuuqz/KKJjv1g329cWxboLIX/Y1MUj7/4Bt\n",
       "EKGZc6BgI7R/ByVxgTI611BEYjD5gNqw9bcJDI3Yv+XtO+x2SMkHwjGmHdkSHc9eFI4nbFogZVbm\n",
       "wX+gY9lykVUDWUOUfdh3idkI80+Tap0xJdW/XuTjFpyPYZKF65+Q2cDhY4UDM+hDcA1THPvo1GET\n",
       "0AbyDoWmFFYG5hCMlHnHhFazyvQ8NHk8b7NHo8ge6ciSKokyhiWItCZpl+AKe/Uvh+8qQ0nHpfAE\n",
       "SOTGUIO7EpT1OopL9vXxDf6uVm9gNhV2CLGHR4qIBdAXnVqQXM0aR+Gu+5Bs2KogOwISLawa7UtT\n",
       "iRLkHTgxMgooKe9AwqamdAFtwkdEIY1FVzbF8kC84ltZ33cP0fdcGV5qtui9N1R/S2EQAAAAw0Gf\n",
       "UkUVLDP/ABR4CpZixgBJdXwxj8pq4WlxcVBFxdK/LHx5q3LfdHXwg+Ssna2kmXtw3QP51uUwYzYp\n",
       "edXZPrBQQs6e/35+wobpVfhRUEGWtqvGWJMlr60Wv7OtgMxk6MgbmOs5HdAeaYVixjYbenZ7ih5e\n",
       "iVhDcMoAUqyHuS+RxJJfZgUe2JXaJpK4iDbLTOkGUS5A3ZRZQiv3sGZPvCarTo6xs/uLb6u+U7Au\n",
       "86pD95bCqyaak4L8OBR69AN+6H43YQAAAFABn3F0Qr8AE18GLkxWexbINfVAGaTg71fUpwAg2+9t\n",
       "hafA6BtOmnCd6xUc1acvzNoU/iDCDZyX80nbYSr+Pbz9k4JhSebNTiJoz4sC2kcraAAAAFABn3Nq\n",
       "Qr8AJLsB4zZcV+Yh0k+Z7tRVf+LGw6mWzRgSN+N0AVWjgu38KUWiE1KeP1sjzRpPnkQHEIBV8rTz\n",
       "9J9ZWC6LBoObUfU/D4Xtjk0f8AAAAPZBm3hJqEFsmUwId//+qZYAFm+AbN2wTKg1WePcYADh9Wah\n",
       "bfO/4c/9CoxIcpw+/1/TznB4PuEgqwN1jqjKlw07Yj5Rys/6cfwI11aNc39lqUyMXCyV0F10Tf6x\n",
       "wtM983Cpr02Aorp/JqyGDQZor+poAjY5Qlg6crz9o1BxSE1C+ksG9X/Cqs+n+6/MMJRQ7ZWP8PnK\n",
       "Tc1FueCtJYtAOB/dbbrqAxFEq1I8mK0QjDSvN0KCTaZgSKBP7WSMFGBV4I9ZWy+P2Bvpvjwe3wrL\n",
       "ricaXkcx8qmlKQImHNcCvowuHxFFdPyV1C9LYTXS4KsEOH6hQ6AgbMMAAACzQZ+WRRUsM/8AFHla\n",
       "iCFAGvDS6ib2AFovOCSpUZzsQ+RjwFbmMrbZphnS7cecgSg4gk0rhrNOmvhOALX5vbfT0SIRh2f4\n",
       "fZi9zR0jIU2CCpvnVK3CbseqUBMHEjbOn8JhQJIlopzfN18aA2eHl/Ey0Tqa94jLo3yp2RPsdbGb\n",
       "x+G5FsH+qicP9c/ShNI7lDwzw7QTvrvpp/22/QYTwZSdTMv9bWEU006CD+f4govjpyms0vAAAABl\n",
       "AZ+1dEK/ACWubFBVXfv5lRvNAH6OpuWD7v6W4JFcxs8mA5VR9kqVYvFEnSjt01rs3kV4Cqd1akVM\n",
       "PhgKMWSeAyLJjEudZ315RQHG8wGGd/vDS5ERviWmi/0p/3XTkiBu5eqLo+cAAAA/AZ+3akK/ACW6\n",
       "7mCACOdt/4rOZPa06AUrGiBVdLouEbtrGF7XblwR7gvv9rYUCwTZG4cfnOuLagMkQuWeZ1alAAAB\n",
       "MEGbvEmoQWyZTAhv//6nhAAXQPKQosQAzakAQ6Mi+DrVFPMvlvPw15Col5p/u7Pp2hFjWeW1kXto\n",
       "0NqJr/HytUqI1x80fxvCok7vs4IVEzyK2/x1SjuBAafuzFPAK4dQ4GfUc4LV0POjxnE33wqdyRHt\n",
       "RgkzMujPr6xIkSWCu8d/OwLAdRnVkjugoLIskkBqdeQMrmWCC32DWsLsF637tsUHfp6QgBIx1CuG\n",
       "Bm2XEM3nhM+AaS1HaVNxz93hPIZAM03yOzPxN7TBJdeDHG2vWva4HjcXkl6TYT+4Hrfn+B9oHZX6\n",
       "Oken07oYS7WyeOuzTGo/nHrWM8rAqqxB8Ktc/wwJFt9VuRYfUsa1yCKP6KvMMo//eRk66UqtBSji\n",
       "HasBm+wy7py70fsbe+nB3kawRFgAAAB0QZ/aRRUsM/8AFHppF/syRbkhuXkAQFu+bjP1s7QXpzVV\n",
       "jy+nV0uOvG53tO7UgTbdz7F6fneRciZZaYOS0D30V+84nstoXJVN0WtbqC28D1cjcuEySMiGS1G8\n",
       "1rPoFYAVWELO17HNh8DdiPvOMOafPkL5T90AAABTAZ/5dEK/ACSuiSB79bCCeQcPnFCsgGZsSBFb\n",
       "1Y21oCvWSo/uBeqqG1LWeUdQ50FDFr3GbYM8uweaqO5Z3W58PG3RWL2eXqsL5M9HGUK1eSpwk4AA\n",
       "AAA4AZ/7akK/ACS7AeYuqoCRzb9E7Z7puzTkbmOZz+YNv0I50AdDqAgjPW9ZL9STFMRCYBCL4qf9\n",
       "0m8AAAClQZv/SahBbJlMCFf//jhAAWMglT2wAGmHtKeEEtMy6VSNzBkzJNvk5wcWKhRV3m7Kv45W\n",
       "rmL0AFQXKoBbP3H6DzL1MpFjm01JY1tW119P1RvxyvfxNU7r2iGytGuiAnwdCnelcye2ZAzxDykx\n",
       "5PBsXpK/IU+pr3Jy3PtZPAFet45zmEgg/3LDwoM0FRvXvc5PBJPNq3CyZOMyNizHNwZ2y+hLejv5\n",
       "AAAAVkGeHUUVLC//ABsIjm3JsCWZ3iIAbsHF4xqjGTds1JFfvCMPPMspnQyX+GkJvjoQtZhXhtg2\n",
       "Xr0jKXFBLfdWuiAoYmwQ+n1qg9xH4UWKxstWyZX0uZzMAAAANAGePmpCvwATXYB4VmQHNk4Q+WY7\n",
       "F02yKZz7rECXzKIbjYNjX8AH63ZEBPPaHaXiEqo46QsAAAqqbW9vdgAAAGxtdmhkAAAAAAAAAAAA\n",
       "AAAAAAAD6AAAH0AAAQAAAQAAAAAAAAAAAAAAAAEAAAAAAAAAAAAAAAAAAAABAAAAAAAAAAAAAAAA\n",
       "AABAAAAAAAAAAAAAAAAAAAAAAAAAAAAAAAAAAAAAAAAAAgAACdR0cmFrAAAAXHRraGQAAAADAAAA\n",
       "AAAAAAAAAAABAAAAAAAAH0AAAAAAAAAAAAAAAAAAAAAAAAEAAAAAAAAAAAAAAAAAAAABAAAAAAAA\n",
       "AAAAAAAAAABAAAAAAbAAAAEgAAAAAAAkZWR0cwAAABxlbHN0AAAAAAAAAAEAAB9AAAAEAAABAAAA\n",
       "AAlMbWRpYQAAACBtZGhkAAAAAAAAAAAAAAAAAAAoAAABQABVxAAAAAAALWhkbHIAAAAAAAAAAHZp\n",
       "ZGUAAAAAAAAAAAAAAABWaWRlb0hhbmRsZXIAAAAI921pbmYAAAAUdm1oZAAAAAEAAAAAAAAAAAAA\n",
       "ACRkaW5mAAAAHGRyZWYAAAAAAAAAAQAAAAx1cmwgAAAAAQAACLdzdGJsAAAAt3N0c2QAAAAAAAAA\n",
       "AQAAAKdhdmMxAAAAAAAAAAEAAAAAAAAAAAAAAAAAAAAAAbABIABIAAAASAAAAAAAAAABAAAAAAAA\n",
       "AAAAAAAAAAAAAAAAAAAAAAAAAAAAAAAAAAAAGP//AAAANWF2Y0MBZAAV/+EAGGdkABWs2UGwloQA\n",
       "AAMABAAAAwCgPFi2WAEABmjr48siwP34+AAAAAAcdXVpZGtoQPJfJE/FujmlG88DI/MAAAAAAAAA\n",
       "GHN0dHMAAAAAAAAAAQAAAKAAAAIAAAAAFHN0c3MAAAAAAAAAAQAAAAEAAAUIY3R0cwAAAAAAAACf\n",
       "AAAAAQAABAAAAAABAAAKAAAAAAEAAAQAAAAAAQAAAAAAAAABAAACAAAAAAEAAAoAAAAAAQAABAAA\n",
       "AAABAAAAAAAAAAEAAAIAAAAAAQAACgAAAAABAAAEAAAAAAEAAAAAAAAAAQAAAgAAAAABAAAKAAAA\n",
       "AAEAAAQAAAAAAQAAAAAAAAABAAACAAAAAAEAAAoAAAAAAQAABAAAAAABAAAAAAAAAAEAAAIAAAAA\n",
       "AQAACgAAAAABAAAEAAAAAAEAAAAAAAAAAQAAAgAAAAABAAAKAAAAAAEAAAQAAAAAAQAAAAAAAAAB\n",
       "AAACAAAAAAEAAAoAAAAAAQAABAAAAAABAAAAAAAAAAEAAAIAAAAAAQAACgAAAAABAAAEAAAAAAEA\n",
       "AAAAAAAAAQAAAgAAAAABAAAKAAAAAAEAAAQAAAAAAQAAAAAAAAABAAACAAAAAAEAAAoAAAAAAQAA\n",
       "BAAAAAABAAAAAAAAAAEAAAIAAAAAAQAACgAAAAABAAAEAAAAAAEAAAAAAAAAAQAAAgAAAAABAAAK\n",
       "AAAAAAEAAAQAAAAAAQAAAAAAAAABAAACAAAAAAEAAAoAAAAAAQAABAAAAAABAAAAAAAAAAEAAAIA\n",
       "AAAAAQAACgAAAAABAAAEAAAAAAEAAAAAAAAAAQAAAgAAAAABAAAKAAAAAAEAAAQAAAAAAQAAAAAA\n",
       "AAABAAACAAAAAAEAAAoAAAAAAQAABAAAAAABAAAAAAAAAAEAAAIAAAAAAQAACgAAAAABAAAEAAAA\n",
       "AAEAAAAAAAAAAQAAAgAAAAABAAAKAAAAAAEAAAQAAAAAAQAAAAAAAAABAAACAAAAAAEAAAoAAAAA\n",
       "AQAABAAAAAABAAAAAAAAAAEAAAIAAAAAAQAACgAAAAABAAAEAAAAAAEAAAAAAAAAAQAAAgAAAAAB\n",
       "AAAKAAAAAAEAAAQAAAAAAQAAAAAAAAABAAACAAAAAAEAAAoAAAAAAQAABAAAAAABAAAAAAAAAAEA\n",
       "AAIAAAAAAQAACgAAAAABAAAEAAAAAAEAAAAAAAAAAQAAAgAAAAABAAAKAAAAAAEAAAQAAAAAAQAA\n",
       "AAAAAAABAAACAAAAAAEAAAoAAAAAAQAABAAAAAABAAAAAAAAAAEAAAIAAAAAAQAACgAAAAABAAAE\n",
       "AAAAAAEAAAAAAAAAAQAAAgAAAAABAAAKAAAAAAEAAAQAAAAAAQAAAAAAAAABAAACAAAAAAEAAAoA\n",
       "AAAAAQAABAAAAAABAAAAAAAAAAEAAAIAAAAAAQAACgAAAAABAAAEAAAAAAEAAAAAAAAAAQAAAgAA\n",
       "AAABAAAKAAAAAAEAAAQAAAAAAQAAAAAAAAABAAACAAAAAAEAAAoAAAAAAQAABAAAAAABAAAAAAAA\n",
       "AAEAAAIAAAAAAQAACgAAAAABAAAEAAAAAAEAAAAAAAAAAQAAAgAAAAABAAAKAAAAAAEAAAQAAAAA\n",
       "AQAAAAAAAAABAAACAAAAAAEAAAoAAAAAAQAABAAAAAABAAAAAAAAAAEAAAIAAAAAAQAACgAAAAAB\n",
       "AAAEAAAAAAEAAAAAAAAAAQAAAgAAAAABAAAKAAAAAAEAAAQAAAAAAQAAAAAAAAABAAACAAAAAAEA\n",
       "AAoAAAAAAQAABAAAAAABAAAAAAAAAAEAAAIAAAAAAQAACgAAAAABAAAEAAAAAAEAAAAAAAAAAQAA\n",
       "AgAAAAABAAAIAAAAAAIAAAIAAAAAHHN0c2MAAAAAAAAAAQAAAAEAAACgAAAAAQAAApRzdHN6AAAA\n",
       "AAAAAAAAAACgAAAMDQAAAGgAAAAvAAAAKgAAACkAAACGAAAAOAAAABsAAAA8AAAAjAAAAFYAAAA8\n",
       "AAAAPwAAAGwAAABbAAAANQAAAC4AAABdAAAATQAAADcAAAAoAAAASwAAADoAAAAyAAAALgAAAJsA\n",
       "AABsAAAAOwAAAEEAAACgAAAAdQAAAD8AAAA/AAAAWwAAAEQAAAApAAAAKAAAAFYAAAAoAAAAHwAA\n",
       "AC4AAABJAAAAMgAAABsAAAAfAAAAaAAAAEMAAAAqAAAARAAAAGcAAAA1AAAANQAAACUAAACbAAAA\n",
       "RQAAADAAAABLAAAAvgAAAGoAAAA6AAAARAAAATEAAACUAAAAUAAAAIQAAAC8AAAAdQAAADoAAAA4\n",
       "AAAA5AAAAHEAAABZAAAAWwAAAXIAAABNAAAATwAAAEcAAAEyAAAAoQAAAE0AAACYAAABgAAAAJEA\n",
       "AABHAAAAZgAAAUsAAACoAAAAfQAAAFcAAAEYAAAAggAAAD4AAACFAAAA/gAAAIMAAABEAAAALgAA\n",
       "AQ0AAAB+AAAAQwAAAG8AAADPAAAAiwAAAF0AAABXAAAA2QAAAGkAAAA9AAAAQQAAAMcAAABEAAAA\n",
       "OAAAAEQAAACGAAAATAAAADYAAAA8AAAAkAAAAEMAAAA1AAAAJwAAAQUAAACVAAAARAAAADQAAAES\n",
       "AAAAmQAAAGQAAABHAAABAAAAAFQAAABPAAAAKgAAALAAAABZAAAAOAAAADsAAAFLAAAAjQAAADcA\n",
       "AABpAAABRwAAAJMAAABXAAAASwAAAesAAADHAAAAVAAAAFQAAAD6AAAAtwAAAGkAAABDAAABNAAA\n",
       "AHgAAABXAAAAPAAAAKkAAABaAAAAOAAAABRzdGNvAAAAAAAAAAEAAAAwAAAAYnVkdGEAAABabWV0\n",
       "YQAAAAAAAAAhaGRscgAAAAAAAAAAbWRpcmFwcGwAAAAAAAAAAAAAAAAtaWxzdAAAACWpdG9vAAAA\n",
       "HWRhdGEAAAABAAAAAExhdmY1OC40NS4xMDA=\n",
       "\">\n",
       "  Your browser does not support the video tag.\n",
       "</video>"
      ],
      "text/plain": [
       "<IPython.core.display.HTML object>"
      ]
     },
     "execution_count": 79,
     "metadata": {},
     "output_type": "execute_result"
    }
   ],
   "source": [
    "## plot individual cell activity \n",
    "# np array with shape (frames, height, width, channels)\n",
    "video = cells_recombined\n",
    "\n",
    "fig = plt.figure()\n",
    "im = plt.imshow(video[0,:,:], cmap='gray', vmin=0, vmax=255)\n",
    "\n",
    "plt.close() # this is required to not display the generated image\n",
    "\n",
    "def init():\n",
    "    im.set_data(video[0,:,:])\n",
    "\n",
    "def animate(i):\n",
    "    im.set_data(video[i,:,:])\n",
    "    return im\n",
    "\n",
    "anim = animation.FuncAnimation(fig, animate, init_func=init, frames=video.shape[0],\n",
    "                               interval=50)\n",
    "\n",
    "## need ffmpeg on quest\n",
    "HTML(anim.to_html5_video())"
   ]
  },
  {
   "cell_type": "code",
   "execution_count": 80,
   "metadata": {
    "collapsed": false
   },
   "outputs": [
    {
     "data": {
      "text/html": [
       "<video width=\"432\" height=\"288\" controls autoplay loop>\n",
       "  <source type=\"video/mp4\" src=\"data:video/mp4;base64,AAAAIGZ0eXBNNFYgAAACAE00ViBpc29taXNvMmF2YzEAAAAIZnJlZQAANKJtZGF0AAACrwYF//+r\n",
       "3EXpvebZSLeWLNgg2SPu73gyNjQgLSBjb3JlIDE2MSByMzAzME0gOGJkNmQyOCAtIEguMjY0L01Q\n",
       "RUctNCBBVkMgY29kZWMgLSBDb3B5bGVmdCAyMDAzLTIwMjAgLSBodHRwOi8vd3d3LnZpZGVvbGFu\n",
       "Lm9yZy94MjY0Lmh0bWwgLSBvcHRpb25zOiBjYWJhYz0xIHJlZj0zIGRlYmxvY2s9MTowOjAgYW5h\n",
       "bHlzZT0weDM6MHgxMTMgbWU9aGV4IHN1Ym1lPTcgcHN5PTEgcHN5X3JkPTEuMDA6MC4wMCBtaXhl\n",
       "ZF9yZWY9MSBtZV9yYW5nZT0xNiBjaHJvbWFfbWU9MSB0cmVsbGlzPTEgOHg4ZGN0PTEgY3FtPTAg\n",
       "ZGVhZHpvbmU9MjEsMTEgZmFzdF9wc2tpcD0xIGNocm9tYV9xcF9vZmZzZXQ9LTIgdGhyZWFkcz05\n",
       "IGxvb2thaGVhZF90aHJlYWRzPTEgc2xpY2VkX3RocmVhZHM9MCBucj0wIGRlY2ltYXRlPTEgaW50\n",
       "ZXJsYWNlZD0wIGJsdXJheV9jb21wYXQ9MCBjb25zdHJhaW5lZF9pbnRyYT0wIGJmcmFtZXM9MyBi\n",
       "X3B5cmFtaWQ9MiBiX2FkYXB0PTEgYl9iaWFzPTAgZGlyZWN0PTEgd2VpZ2h0Yj0xIG9wZW5fZ29w\n",
       "PTAgd2VpZ2h0cD0yIGtleWludD0yNTAga2V5aW50X21pbj0yMCBzY2VuZWN1dD00MCBpbnRyYV9y\n",
       "ZWZyZXNoPTAgcmNfbG9va2FoZWFkPTQwIHJjPWNyZiBtYnRyZWU9MSBjcmY9MjMuMCBxY29tcD0w\n",
       "LjYwIHFwbWluPTAgcXBtYXg9NjkgcXBzdGVwPTQgaXBfcmF0aW89MS40MCBhcT0xOjEuMDAAgAAA\n",
       "CONliIQAP//+92ifAptaQ3qA5JXFJdtPgf+rZ3B8j+kDAAADAACurHPopkgYXevGAAJuAAVsciuP\n",
       "n8epf8wC8KgwNdf2RuObVNLQOiWEli48fSv1bjVWqei8CVh2yeAiAuoAyPJx4lEuhJH6WE6OSSd+\n",
       "ypCwEfiJvE41cZhxnRmSJyCkq1B5GQMkmpKVfPP2zckLeFAWwV7Z/w/0NNbTb7xntD44irFafk1m\n",
       "rg9JiHCNwHGz5n+tnaWtGoO2OAAw3fpZDhkXTjj3ikvuYKB2ytAZo+IVnVKZlOXouipDGvXtiu2m\n",
       "VIC/D8xddd7U+RJJBbVH08cNzK6dqxxXwAWETu1n/f6w13E/RZpQ1HZe+V0c+T7i7Q0+4cMAoXj6\n",
       "bNFEOsvhNykwqW/B348Qt24boPPXZn2RzO/RCjF4hn8XPV/SX64iBR1dM/3aRBFDO4cv00xwXk22\n",
       "05i0c8P8Cfur2aLneJ4cyvIkTdpC+5ZJGZra5gyjlhFtdgqA60ruuIXZZ5OoiDfBQrnOHGJv4EWR\n",
       "3qH58qVujd2ijDblI4cGGKKd2c0fFCM7Gg63h9v1go+fLiXYN+u8MsZOYqiJezfA+w1CrK4IrBnK\n",
       "glYSiuSyRFWNc9DLL9wdvGTHYgLZLoG2zVO1liz1EwEUZZHkXoEwG8lvC1WbWe8q1urXm4W5gFNP\n",
       "tFG4FqyE+7bURtN5ZSKeslgUnw/uYKKTwnCAUh4dwBux2mIL8HHH1wqVsU/ucJ8quBwJgn9bi7Wc\n",
       "5DgYGe8gMq/KMrt1BP2BF8E/A742cnlropggUS9jPP1hL6JnHBtK4Nv9Q4lpe/QPRhwEfLohF3VQ\n",
       "LFE1PbilhVpL5uEdwpD7OrjGn0OEzVRcuTocjmuOD7Xbe73+LtcDxFPnOaCKw6CT7LWqlMnLYm8w\n",
       "JJ9W18TVZNQqEQLUztVlRCLV2ZlqG9Ti4+o7vvLD429W80PQXTPpNZRdNV+brN1pZ07k3kPtY/kD\n",
       "fRYAH8ExATTesYZ2JhpyZl43JB2d9UkcmpvcFH98OzhMbNi4X5TEqp8rvN6M0tNquBOO+BtLoxxB\n",
       "XjKNQiRKhD6i9bDWjxQx0a+agSOIoRuvs0urOyY0qVpOlOwvzmxSX5rgfKOINiAQmDBgULYhFvrp\n",
       "qtRCFVBXgoOit4bkcVzvhdKUPhnI77gES3AZHMielBLfWzJlSscukHgiLC0HoziAjpNvSaYJxq2Q\n",
       "IcU7mCCOKwnJywoR1FI/Tktg7fsalmUOVHaid2dPkDiCSB2vqySqZwpp3SdeSNtv8Qktfc89Ald9\n",
       "DY+Q2qdXu0V0+Z8ZEszBvNNm1/f7V3f0rIdc1VRn2SMcgMtw/mD8HyJCeFBMchgw6y2m2EjKzkVx\n",
       "8XQMH4z33zcQPhaQHpipQG6wiG06adWzZ+SYYhLPfSi0NcXcsnXezR/W2/FPPuIRwISj9CBmobgt\n",
       "r2jUvI7SNcEXjlTmaecdyP62x/pRJ85Fycr+QytcI5i8HRhNcA89zMEPlZXU/YglKWU/GLcJpfSZ\n",
       "+IUykcpoE9Sh72zrVUBoP1MHCC0igLrzmLFDdBaQ9wi9OAG+HqwzG5OAgdGtaBgwyYB779C5CONA\n",
       "gjNxmsWH9wxTsUYwBafdtNK/KM354hooNDP1zbA0lS35R6RRof//BG4z+R9LDvTSZ/DwwdvsIkNt\n",
       "C7u6YuUGKwbnwzjQ2VpVTT61ycDuv8+2igTUeUbtcOX0yR0GPmjBL6TagATCWq6+VvuiLynTtTH6\n",
       "5YiR0KSWEcYfT+HXWwrGIShNddMo+X2fm2P4ccmnWCpXwaO15VMNXq0CCYpL5QUaQ1H/6xAini/I\n",
       "4jIN/rvA+1krUgLSHJgpS9zhK2BYGTvP+erHNodJSfTBm+bUydvXivXEsz/4rcZgEzzUUevZ8IBe\n",
       "PapilqI9+gkYZgBrMlWkZ1h6nkqvSOmKTai/usClKSGeLT/TTi5Fh/CvdE5Tauu79/VM4Z5wAYfy\n",
       "cQ7gtDhEPw0VvZSuwScFz+t/4+GZ+KFaxxouEq518C2MF5tZElIMgLrK3P1rGNVl9cDSctUPzK1o\n",
       "F9YUwNJXtFu6E91EjEGLzZV9jPYlC1nWrK6Ai08J5+HQSN572eJUm1LFaFWSHNdE2ZVRtJY1KXeB\n",
       "fiG0yztPSRgSIuifkAdNUJ7rkq2/JacRMsXWkxOC5c6+sTffzv76/DBN8KiUnaRS5oMN8C60hyJO\n",
       "FL+PWfoBlGR3VPGHLmr8GEIOsnSPZmPtqRtz2uVpUAXK4ZSLv357L5V+pPdGrrv/Wh8a11NoZYlj\n",
       "GCNpJbcAH3tnijTO1zpzh4dDB14pC8k8igNq5kV+FjscOsZ8PNHgzrOaS/+//5mY8SCBWtLsX4HF\n",
       "+Vk7pBfDw85zX/BEqAHAe6AmikLFd7ucCzvBUKoExnYE4rfnJ4AZVW98R/92lCDXKv0J1/MijKEH\n",
       "ZY1A1GIPi0Hm4EnhyAOkQ9BZF0rM2PVUQFX+b3D8vDBZHQtk/BzwsLCQq04sU0paCtT4fiQWXzSf\n",
       "vFVau0eirGy+AoT3pR3lpYkKGHcmciP6UPakuOEGHAgdl2gJpiuPfd76klYSv+BTlY2XncVQP3f1\n",
       "bT74lCvtVQCgsWAFtXZRc1vmzVd2O1SHUEDFrxS+ikXope4NGXdebeLZm5drhop/Yy1pNzK5/eVR\n",
       "v6Gqytetqvb5sDMct2vrfWzSQAmzE3dk7rWOItu6b2paKLM2dmRkRuzMpvtoM1+95KlY+niWmo8W\n",
       "xoGvzqIODoxFXLq/cNnEQHh5Iln/4QvlUgza57lVdkUzyfFNTgjQeLg2wVvXqftcrOdPvtmV2OPV\n",
       "+rgZPZ+mQNbn2VjLGfWqBhO27TctJT6iNthE62etfMwGmHc6pp+BuWrIfnihCvAzd1N8aCv+WVvQ\n",
       "T3ZWsO7vnkHCo2kh0Tg+aZ46nlSgMzudH/TgFyJOGwF/R7kCg4wKI42BUL5pRDQlay9beMstQlM9\n",
       "tee1NpoyWcdsmURhgQVXWDD2s88fjD6ONmNNtSjoDdFyjgxnZcH48surZeAAAAMAAAMAAMyBAAAA\n",
       "pUGaJGxD//6plgAMsc83hw7oAoCRMmvAE6+JZyqyD7xxUpEuYWMpCp5w721IX3DA2zD4/5rkoCbu\n",
       "/lx5me2iuCX2rMQnwrSUcRmeVp+O1npNigZQU7dnPO2mASn8fD/n61wkC7EBQ6znnCQFOaUwXwzR\n",
       "esHzb+4OZJgC9PC3Gq6HskWE8VCseso80BnCe0cZreFK7Y24Cz81ECk2gjn6PKHAIABFwAAAACNB\n",
       "nkJ4hn8ABl90e+ubb2tO2RNTm27E2UzGuH8ZxoqNcEkwIQAAAB0BnmF0Qr8AC+/uvq+rztPtOxw2\n",
       "g03GsPa1FPxiwAAAABoBnmNqQr8AC/OhmnCyPAWeo9j3Aq59Z1wbMQAAAFJBmmhJqEFomUwIf//+\n",
       "qZYADLA7q64h4AJejmH/jmPhAUBeUZe5mfWNIEMa09d+eQDKpz/E6wAkuqs42UVozovMH6CWV/9t\n",
       "3ysXqm9Y8OWI2dapAAAAKEGehkURLDP/AArJfKt3i27Xo4OJeQ/m1sxyW2Vq162As4XShZeOBd0A\n",
       "AAAXAZ6ldEK/ABPkxYK2PC74RXHkozcsMWEAAAAdAZ6nakK/AAvzoZpXVlnZ08rGhUm7HYK2pOSt\n",
       "AR8AAABGQZqsSahBbJlMCH///qmWAAy3xi1H6mqAUmEtEOOo4qUtdW7ldrrY4GY3PKhJNAYRMV+3\n",
       "4sDYSc/Gdu7P/cqbC4/vblYbKAAAADBBnspFFSwz/wAGcYbGWrRr4tecs3o1hHfFICgpi5M/b6Gw\n",
       "6uHsxXLLg5QBOz+ag7sAAAAqAZ7pdEK/ABR0xVa2P7Dhm4u3pPXjT3AAJbxvr3mAAzM1UiAL5q7Q\n",
       "fuG9AAAAHQGe62pCvwAL86GaV2Rmq5LTaQ8eEHgNtHANuAsoAAAAPEGa8EmoQWyZTAh///6plgAM\n",
       "suj7+fcYI2rtQDzI5jrD5vbVYKbiPVNQsJ9Imp8/5OsF9QfQ26zoRmzDuQAAADlBnw5FFSwz/wAL\n",
       "E/+N9NpeOnV8qF694AJjU2tXEtaJkh4yVAmfN7I3IuJ+1evSVbkd5GsOLgAgqmEAAAAdAZ8tdEK/\n",
       "ABPkxUUbumUDqAZQ7l4FuAff0viIN20AAAAgAZ8vakK/ABR2orI3gHWsIqJsFPl3QSj0JonCm1rY\n",
       "XugAAAAvQZs0SahBbJlMCH///qmWAAylzaBrDFu0ERSaCCz9YL6fg/yFaXkdkWD/ls7Sf4AAAAAq\n",
       "QZ9SRRUsM/8ABjecvdfX8ZcmnwDgwUnNWANtwWKg11LAxWq89p4Chgj5AAAAIwGfcXRCvwALomZS\n",
       "27Aesj1qIntA5W/LSLUGuDvSI9CQmYj4AAAAGgGfc2pCvwALpYMYfmL6PnYI5B2rY4kZSMqAAAAA\n",
       "LEGbeEmoQWyZTAh///6plgAGg90rtxzeaAUhJpSPWrHs0Pz3dha5qWD4vLk/AAAAF0GflkUVLDP/\n",
       "AAZJh2xfTB7lTq1M2yuwAAAAFgGftXRCvwALomUgCN5VO1kRlTGwLqkAAAAaAZ+3akK/AAulhG6u\n",
       "KboRrfq68FIojB5xxn0AAABNQZu8SahBbJlMCH///qmWAAZ6aiwAaxJFDT61O1FhLU+8SrOxgAyP\n",
       "cG9NrscX+0vTecbJSIHAb/jN4Qx8NZxgRuH4VICS03LRwiemxJcAAABBQZ/aRRUsM/8ABkmHiakD\n",
       "AgQqGFMxK8L6IBj/HS/o1TN9D/RX5F+imJygcbCMijNFhouYBn62L8mUkOpU3LNICTkAAAAfAZ/5\n",
       "dEK/AAuiZlcI8gSS19iFupvD4541W5c3Bl20EAAAACgBn/tqQr8AC6WEaRYVAiQkg17CwSvY/T9j\n",
       "wCCbTzlFmYWGccZmXumBAAAAS0Gb4EmoQWyZTAh///6plgAGej/7aAKCr34mJ3MxSIIHeQHKyQ7B\n",
       "mAB5xg1dDu4JGfxEj5EGKuubzrUNyPVjoamweHeFfFIJ6t7JMwAAAEdBnh5FFSwz/wAGSYd3RE8u\n",
       "hL1Dy/62EBDL4hy2aCsi65M9Ct9OsR6yLsR8X+E1SrLmipcE6QwlyUl1qZMSGLkd/eoczMh4uAAA\n",
       "ACMBnj10Qr8AC6Jl5KpoREOwTbDa0o5eN1gr888uc6ZBn770tgAAAB4Bnj9qQr8AC6WDRl1tdNYJ\n",
       "ASfdI5XsP4CA4jZYpIEAAAA2QZokSahBbJlMCH///qmWAAZ6pclycBk01/C28mOoQa5zqwz8/Blo\n",
       "ClhEQpHsSZ4fiYCgJi+QAAAAL0GeQkUVLDP/AAqv/9EC6HaUxrq6anmFcwCieHObOErHkJSnldm/\n",
       "m6yt5fYGVJuBAAAAFgGeYXRCvwAT5MVWw5XpR/YbB9YfEQIAAAAXAZ5jakK/ABPrAZmEGUPYDpLU\n",
       "1d9IiBEAAAAuQZpoSahBbJlMCH///qmWAAZ6zGuNG2229i8asc8mUAU1uQxutHyuEK0keWtZwQAA\n",
       "ACRBnoZFFSwz/wAKzTVpcnkb9sth0w4eTWqg8Ddat9QHCavsz4EAAAAZAZ6ldEK/ABPkxVbDlenm\n",
       "4fBlKQNFYeCrgQAAACEBnqdqQr8AE+sBmYUxT1DYbxVUaoAH+7ltCZGBAkbABiwAAAAuQZqsSahB\n",
       "bJlMCH///qmWAAaD3Soy1qN/qAw5QOz/NxVTJpjX4B3yupohhhJsFwAAACBBnspFFSwz/wAKzTVp\n",
       "cnq+dLe8Za7Qo9LS+dbwtMBZQQAAABcBnul0Qr8AE+TFVsOV6ffcC4nxftnBdwAAABcBnutqQr8A\n",
       "E+sBmYUjHV40PwRW6cVCHgAAADVBmvBJqEFsmUwIf//+qZYABnsnhGWLkRiAkOzxRtePZXG/9CPF\n",
       "Gdw76FQ7oFCaf66n8/cwuQAAACdBnw5FFSwz/wAKzTVpcngtGLgko2qZOhkBzBSfx+QqDwqmhiAA\n",
       "IOEAAAAjAZ8tdEK/ABPkxVbEs893ybWgzIASQO2EBkGoBkeqvnAa520AAAApAZ8vakK/ABPrAZmF\n",
       "Ju/SAzd3ZR+3O5k6ePAIsnxnT3g8LdGqgNOWTPgAAAAwQZs0SahBbJlMCH///qmWAAaD3Soyl0iz\n",
       "WoH1N6thx9BAFer6TEzc1H+SxmavIa0vAAAAJUGfUkUVLDP/AArNNWlyeoaRgyHIVwBT/kbsk9S4\n",
       "ImypD4DKk3EAAAAeAZ9xdEK/ABPkxVbEoBUUqyqZ8TkXcFNUl6GxzstQAAAAGAGfc2pCvwAT6wGZ\n",
       "hBlEqaSOURjNN1KhagAAAFNBm3hJqEFsmUwIf//+qZYABnpqLAEQU6mxNFWwACxbxJ7qCPh1L+zR\n",
       "hB8KOIp2jverNbQMD8kbXY+24rDCVsMGTAgGS4cB75Q0v67pQqKS6srBcQAAACpBn5ZFFSwz/wAK\n",
       "zTVpcnrEW3l416jeznXFSYK/hzuUd5ATaF44IIVyxYAAAAAfAZ+1dEK/ABPkxVbDleoDdB0/tfd6\n",
       "RlKfXl1B0CGEPQAAACQBn7dqQr8AE+sBmYQZRLkWYb8AUetRAj69eymtmMQ28hS8AxcAAABuQZu8\n",
       "SahBbJlMCH///qmWAAaAQb3AP+6ysksyeThtU891qfs2HNTrxQaLlPkVaQ2ZOsvtpHO+Eu80B/We\n",
       "0VEf4YI3P0m1licBhMC7VhxvGeUBN4umdJ1be3hzMwwurt7mHc7gssAFRtJ3vxf7RMAAAAA/QZ/a\n",
       "RRUsM/8ACs01aXJ6SzBXBALkFrS16ZXDbaFE30siQgxeFvV9KEej3M3GndSt19kF2LKO1MulL6aW\n",
       "QJeBAAAAHQGf+XRCvwAT5MVFG77/Plv2z9ixprYepYysUYj4AAAAKwGf+2pCvwAT6wGENb+hSY/r\n",
       "BgggLLo4vsAvdV3RnP+TEQjZE+FLPERRDPkAAACqQZvgSahBbJlMCH///qmWAAZ6vodeAQjU8eCW\n",
       "UKqnTN80Xh8j5w7pbNi/as/88SecXYrM4XCh4R1TOwwelZLu9ryb4ZpZcvmmHmL9/UKaN6WY/2X3\n",
       "3oXtrdHcUSjRijywFyw8wTpXDMPhGj26O2Xiwy3RljoA4gn/8rgbe2JRz5Hj8IsHEIuNHJqYug5B\n",
       "aOPl6fb8qH1+5HECYa3XEUv7CrYOl5647wXk3i0AAABIQZ4eRRUsM/8ACs01Z6YnxdChLSiFAxTW\n",
       "HXsB8EGfhziZVfnlbBvn+Cn4kasegZECzeLFxPrzxP8iUCoyeySxKofB78S9cS7gAAAAMAGePXRC\n",
       "vwAT5MVWxLlpTdFypxP3NzAyBXjpSSl3sGsCUyOEvfJge0cPqXT3T29VvQAAADkBnj9qQr8AE+sB\n",
       "mYF0y8LFkOsIBy1D+2eGu2gAK4vw/pmUa2FyuIPsXt23/iVCGOs7/wMOfMIZjUEAAABjQZokSahB\n",
       "bJlMCH///qmWAAZ7DhygFJcAXv5ORuV1Ido/tl3ldNM4rk/L0fWG3dVg02mJ+RQGFgXY5OGNKVFc\n",
       "dkHbnQsDT3jVRx2dwU30A2HzrnubpVcVOa36PB522M94zEInAAAASUGeQkUVLDP/AArNNWlydmKh\n",
       "tv0sQBaBSNJvnKs1EJ7SKqXh83LHO5Ae+p9NU5z6S5Df5sWN4W2E8jKEEZZ1Y+CL7XslwVg7g1MA\n",
       "AAAtAZ5hdEK/ABPkxVbEFSiXOG0ozKSbnQIAgqffEuht+3MB4Sh0NydVOT5tXV0gAAAAGgGeY2pC\n",
       "vwAT6wGZhIh6In13Y8vo/aIy53Y/AAAAgUGaaEmoQWyZTAh///6plgAGfGa8ugM2jJHm0qlHcnn+\n",
       "RWfB5qzoVUv9CTQYE+IR/erc4GwuXeuxDQORbRG+nUv/e3mXT/A9MguhQhfRuKJFLhtWNipWXtFy\n",
       "wHY0Tzr5gR3d+fsQ/IXegiW67jPNtbQP5Wm2dN3xvZD/Vee4SaxQdwAAADdBnoZFFSwz/wAKzTVp\n",
       "cnfdzm6ivTBhIHS2jdbFbboC0wk4ppDE4188h2z5Gnythd8e1/XSa4K3AAAALQGepXRCvwAT5MVW\n",
       "xKD3SA5w+0WHpIYuGYtrnmjJHCs57vJpmwnkLEOMBo8VoQAAACsBnqdqQr8AE+sBmYUiU5+OAI0P\n",
       "x7AYaxwRpZ+0ufNwTp/hj8k6rh0m0AbUAAAAxEGarEmoQWyZTAh///6plgAGemmqANr8xQ0Cq74G\n",
       "RWzJyW4q9owBdEVHGu2kuQiv76u0bIaUW9r+bbkPDKjCfHJT/mD680MJyNcK9sEGtw/y/SImwakY\n",
       "ZKxiERel/zPTpFbZErxmOirNmXFHe0IoGgd1EOLd270UwZ3+PODm9/UbrtlWA4RZt+3jfsgFhMSV\n",
       "tUVocg2VIGydQhEa1opRHJOt/KhVOT4qxjN7DP0ZZyHs6t89kT2vMlOFREWsd8AUDJwRNOIAAAAh\n",
       "QZ7KRRUsM/8ACs01aXJ6hpGDMK8jfCptgE9rVR9xHmspAAAAJwGe6XRCvwAT5MVWxAbHbBBb3oEJ\n",
       "HaZwAY+UL2Xrc+jttE8ghADegAAAACIBnutqQr8AE+sBmYQZSVgjwAwWvFwlroQGFGAioEY+L+GV\n",
       "AAAAmkGa8EmoQWyZTAh///6plgAGemmqAEYca/Tlmi4Ts/JEjBzX1HFSi84hIzK/II5ViHj4KuDH\n",
       "r4HnxmBKBzoXwV5XuskbNXzSDh1gTRn9+sPHWXQDtz3Ms5GHu43GypSdwiy3t3NXRKl81/U9lR2p\n",
       "LogAnre2zXDowKUpRK8ZlRFt1MdPDaU7NAhgdWdyxXkXrIucjS8A3QygqfEAAABNQZ8ORRUsM/8A\n",
       "CxQFS2EOTnTvuD+g4ozfuWAHKXnPOkJbBgrsHxXF6LxyBAfD21lyLgCKWbktar+9Gm/HY/EG6IYy\n",
       "fCA9TQxCjSQ6A1MAAAAnAZ8tdEK/ABPkxVbEoPdIAonYa0aLCsGsxHR39o3Si16Rw03YIhFTAAAA\n",
       "UgGfL2pCvwAUevcxEbCz4SAIloaVbsqfc+X75oFZVHEwtWhfLZ8onLLuLpheSBL16yUJodB45YGf\n",
       "caCjDP1RSx7P0Pvf8Ls6TyMkVnEpBcgr6XgAAACtQZs0SahBbJlMCH///qmWAAZ6yCfrFdNcgCgd\n",
       "v96w4fSbOkDd+yixi3sdK+/0YWPDb7dcs2WDQ+jqX4MfDIWJsg5no4qdBsBPJdMLr1WK2BM1W5Zo\n",
       "vZgUAyXZ4FSQlt54+7v75UD7Si1Fkk9W9cM88bl1Fgtd8wOmUQWGP0+jmDXsKVQJZMPtULP2PwJf\n",
       "lBt4dxNw8MTbxVFcGQY4ry/Pxf/t4qkXqqpkLesuJPgAAABMQZ9SRRUsM/8ACxU0i9oRJ6F3EAcw\n",
       "/de1FlZdmsS01CzBaRbJPICFF8u+SHfhQp92PwOzrHXIBws4K159gtjjaz7GUijP8JSky7Um4QAA\n",
       "AB8Bn3F0Qr8AFHS2OETi5IswMnSZSHtcU831H4dpHuyoAAAALwGfc2pCvwAUevcxBDkWXNQeMcr+\n",
       "6025fMRo5HdPjIAbgj9xoJKBVnbpwL2ZVknAAAAAsUGbeEmoQWyZTAh///6plgAGefyp4BCPfUkY\n",
       "yDs1kfb7HgLbgtvgQQZSD4xg2HSnAtiCNvNuiNVd1henOU3YcBcqm0JQHy631thyEzq2iwyZWENe\n",
       "NiqFgv6CNjAfqJFkiEaBEN7CYTvxeX7eG3/QmTWfPHkYUXAe55BvVvjlGgM7cPgIje5vSmNvXvN/\n",
       "YLtyJItNL0cinV5bsnCBSqoNQb8g8QkagFzfA61ltX2Hv2F0+QAAAGZBn5ZFFSwz/wALFTSL2aVz\n",
       "t2Yiw46nZPLvvtGUQAOCLwRUtoTpex5cmZU9JpHCWHfu+rhT5nu/94E9WGtR1JTKl4uJaS+rWSgy\n",
       "TwbNP2wmXDspJQOZ4Rv9D9VORivgtAAgx9TQ9ccAAAA5AZ+1dEK/ABR0tjhVuhuSIsOK8BblhqbL\n",
       "u9l62qLArcUX7fYKzAAT2rwSmzAJ4peGeVjyWSb4FumBAAAAKQGft2pCvwAUevcxEbBVBj67cx0p\n",
       "cVDh9YlZ+I3FTl3GkJRlvYDprGfBAAAAoUGbvEmoQWyZTAh///6plgAGeyYg0AOij+DfZK6WSCW+\n",
       "KgnXptMQ3ddXj4672JEA7oSaKm09g58Ryb3JxXcPxrao2FGhepoLhHO8uPR2bKojLcXaSRsUn7lA\n",
       "fv3SkGOechqFWfdk92OGcW61KhDA1MxifwIBrevtcOi1VktMnPbKgJYhkBJV1qaVNlS+NYKhYOr0\n",
       "wTjrjgeZOnxy2K1iiy6AAAAAVEGf2kUVLDP/AAsVNIvaESez4w7mLEMKVxURdAFhwuZJyY3HFWvg\n",
       "pnvpPng6509Q2fUyGKXFBXC2DnCPy2m9sg/4NSZR/zu7PxeFm2F9lF6M7/oI+QAAACUBn/l0Qr8A\n",
       "FHS2OFW6KtjX4pe14cYo8OX6nBmQAvyR/xIaAB/gAAAAQgGf+2pCvwAUevcxEbDFEmoA9kLWUWlh\n",
       "OBUJh3YwBtOxm6awxdr5E/yZDzIZ3/HiebkZTwyVAAHdVT8p/kVE/PidIQAAAIpBm+BJqEFsmUwI\n",
       "f//+qZYABnrWmdwA5l0r20CC7486SeCLDsq2oZG4NkO5h3DjaR0SVDJ0iS+0azSnT3qxkvIN8vGW\n",
       "eGtrN4JKvuV5CuHE+1+Qig9/QI+xv1gjcSkh8pfMlzLhXlCIxMpWf9FfhBAivM6HV0EDVnVBNlVS\n",
       "Skc5JSkDs/0pV/P4ReEAAABHQZ4eRRUsM/8ACxU0i9oRJ7MKMAIyOldTkkqAJL0UMEg33odFxeb4\n",
       "MKCZxnHU1diPH5JbL/uRwCQRuWrSrKrOUs/CL9gudYsAAAAoAZ49dEK/ABPkxUUbvv+B0RNb4Usf\n",
       "ohsKF2F38h7wKI4oMe+Op8GHgAAAABgBnj9qQr8AE+sBhDW2LN741oWf4c4E+kEAAACFQZokSahB\n",
       "bJlMCH///qmWAAZ7J4SxoBSDhlAL8LegOFazdkGedZYbRtXhS+5DU2IkC3FIewXolR3Wl4GlZU43\n",
       "W3GsFs7DoB7MXixXQiQz+gGArpcFrterEkusBPzg11cf4mi5TquagB59282K4ET9SK67jqo1FHu2\n",
       "3zoAgGBYY+VdoSRZgAAAADlBnkJFFSwz/wAKzTVnpicR8UDHhNLWBWYQE04MFZX3OhFVDpVxL7eq\n",
       "+GW2si1RUO1kZ/Y46kz4VlEAAAAeAZ5hdEK/ABPkxVbEn3oXAENQyzC/iviPpYeDnU6CAAAAKgGe\n",
       "Y2pCvwAT6wGZhRvDydTQaZqCpcgN8Wr963urdDUlm1fudWC7GTAGpQAAAHpBmmhJqEFsmUwIf//+\n",
       "qZYADKTv7QChRkNz9SOXnZaECxRj1VvzzIB0ae4v0XSp8gM7ZbiepDDKf5JILMxgMnhOZeCjYQqE\n",
       "Vnwo90nw6Cknvg/+RzmzPuaq/QE80dH5uLisue+acyG/ydFglcxFpnk8metJ7kvUjQOf7QAAAFVB\n",
       "noZFFSwz/wAK9VGjOfrJ7T+PFRirMBOuUtPzq0EluGLsk9RFj29GIYGNve65c0MGe4HCj37wjQdX\n",
       "AfTog1Frt+oCX4ZWL+waPjiQs+HesIyHrBvRAAAAKAGepXRCvwAUdLY4ROLs16Nbd772rm6doBUv\n",
       "rimbI85/grvyiAFgJuEAAAAwAZ6nakK/ABR69zEEORYwHJEc3ODiXliAZmh56RaRFhLHRtLs4W1q\n",
       "MSdDVyZhW0UTAAAAa0GarEmoQWyZTAh///6plgAMpd/OgHz/1rB89tdrR0hAnKgNfCdLcx75+H8K\n",
       "B6nhRK+Bu3RbA2qccQm6nFUCGN3/4SF59z5X6I/9UE4Pq3SwR6j1e3ya5ptvAfRoMYNn1MDIwzL4\n",
       "uq/NxplwAAAAOkGeykUVLDP/AAY3nMB3mqzADoubBBQLjyfx1y+dwGq3Gw68YJTHLHsVKHqRhnLN\n",
       "ctPZX+V0vzc4C7kAAAAfAZ7pdEK/AAuF4S/R5DBqTHLunf6Fa7u7kVVV6mTUwAAAACYBnutqQr8A\n",
       "E+p3GZkd/IdGtg6nKOo8F9EROA7/ax6DB5FkZ87zAgAAAH5BmvBJqEFsmUwIf//+qZYADLfGLUfc\n",
       "g/kOxlJSQOjhgDlrcFLlCOxCb8bmPmvPHPSwUXzvzQZBqChrs6Cocdao3P2Nqk9xz091UI8dLh7n\n",
       "Uz0paE/1N4un9Cf9LZoYjdrLD+uqV13ZbMoc0iopzMM980S/+0DKPlV3rtNFpAcAAAAwQZ8ORRUs\n",
       "M/8ACxKIN6J8nik0n5j2d6LZ81YJV1lKJxEgynhG2zJVAxz9kO70Rw/xAAAAGAGfLXRCvwALomM0\n",
       "nEJCHviXOvNonstpeQAAACQBny9qQr8AC6WEBRM5AMyBnCak8wi8ZI/ynoy8hlB4WN0QnYAAAABK\n",
       "QZs0SahBbJlMCH///qmWAAZ7FCcBzvj4Mg/buxgM35dbk2rzko6shN4F8GOd9j86m3rUyxdTmRRL\n",
       "yVUWxXVUnC/hr1zrFfBrdyoAAAAsQZ9SRRUsM/8ABkmHfuW4GqAwy79/R2cTOqUdp9sgSt+ntkrr\n",
       "Gh9+14EoWcEAAAAfAZ9xdEK/AAuF4SIJM2bRSIoqos1Q6pQiz6VCc5JOLgAAAB0Bn3NqQr8AC4Xh\n",
       "KtdLkolMHDUX/XpMoQAxC6nLwAAAAFJBm3hJqEFsmUwIf//+qZYABnroxwK/mROHNbYdOcfdzcZT\n",
       "BHtQC2DdC7VTnSO/mgT3pRJotXpQBzTH+oHY/DGNURDUn49D2iv260N4wo3g8oppAAAAJkGflkUV\n",
       "LDP/AAY3nMBzpe233vyNOgTIYPh6CCZ/FiDtdh7VmVgQAAAAHAGftXRCvwALomZMwgTCcDUSvcWL\n",
       "fCO8AQRcAdUAAAAWAZ+3akK/AAulhHK5utac6ORWVqwEHQAAAJBBm7xJqEFsmUwIf//+qZYABnsT\n",
       "UjeAJpCY/EP+VBATTBOzmSRdzhtdVYts4M9BR4PcYnnTtFp+IIOLxKxxjGq2zA1SWT7e7a0hnjGS\n",
       "44OfEMveK9fS/2HnVG0QYrx6e/cZlapaS3ha/ZAZMcUnvOwrw7KwL2ersPZgYB5IhUbSHbfjMWl/\n",
       "yUnTYiQnzXsIXGgAAABIQZ/aRRUsM/8ABkmHiUSTu6Awy98eGWnynh7/Fr1GuuWacf31i/ySpS2f\n",
       "gQNGN0Q7cIGh69dX7ZidSo0fwUuuwcql583GbRlRAAAAMgGf+XRCvwALheEvwTCBNP9C85L9NTBU\n",
       "FufgCEQN75SFumIrdK60VtsGlpWvs937EMvAAAAAHAGf+2pCvwALheEmHNSpGJDStbGMchRcKlfh\n",
       "M3EAAACTQZvgSahBbJlMCH///qmWAAZ6UFOgBKeqidUj6AD0E8de4GWmOg7BGVFp3hFHFL7UMGx5\n",
       "qtymOih6NYAZIKDg//2EBBa/tobewuEA9Q5ZgIKmDlgZZClhI/HG7cRwO2/V6+m9ftAF7PCmjCJR\n",
       "oEt5heVAsYl0Qm9gcB1K4LOqDWu2fohGfBLB0pssvccR8FquVJPhAAAAXkGeHkUVLDP/AAsVNWQm\n",
       "J996/AKAdZm72joypU6cQxuWaSdNWWoOf6Tv+IyCwBuFF4Rpd/O3A9et8Kq3RQI1qYU3M15s5clo\n",
       "bfe7199lpV5IY1/RClmRh/js3+I9oOAAAAApAZ49dEK/ABQ7cwhotz+3hO9gJbwAQA7NU16yim1c\n",
       "gsxveRgBwG3acsAAAAAtAZ4/akK/ABQ7cwhot0SLQtzmNQ8Zl8sfSQEemC8a6eeISDZk5HnOZ4ex\n",
       "/M3zAAAAjUGaJEmoQWyZTAh///6plgAGetb5J4Aj4y17X96z+O7kzpylYGBLNOmvSseRgt0TdzIf\n",
       "3Mm9EHKO6rfr4rmcJDnQlNUxJJIyXbQo27lldIHM5MpMSB/g110OjjUuhioJdxcU5Iwun3LxQwFJ\n",
       "ZCAKGrZJUB5o8/zelv2aYSmHEyyNLvanMAcy6yrRWcNzngAAADNBnkJFFSwz/wAGN5ypmL5LqAL8\n",
       "wzcKwIZGn4j9Q2W9cuKSjvmZ7nQHmFKtiPtYA3draDkAAAAqAZ5hdEK/AAuiZlbE30gASm8TsLQd\n",
       "bD+7JpRGxO8ysXHndpx1bV0Q6kfMAAAAHwGeY2pCvwALpYP7lxEApVKHP2XCIyLr1QkgzTPYT/EA\n",
       "AAB4QZpoSahBbJlMCH///qmWAAZ6K9w68BmXIbpk3LK8lSIrHF9En2OGML2HX1qE1+KqNnPmOj38\n",
       "QgFfAata9a3T/kM8SGVbX4uPW7MTlroUZovDyraUfectUVZFWK22ywRnHGQluDdVdVK52JVwsxf/\n",
       "Do6iIpqgkhNxAAAAM0GehkUVLDP/AAZJh3cIz0sT0ji7fEzvDJm78QOs6fmbc/IQvLq3I7MB97K8\n",
       "xhfzQcDugQAAACEBnqV0Qr8AC6JmTLxP0VMuyaYEPl3wCNe8KuuJiuwsj4EAAAAfAZ6nakK/AAul\n",
       "g/5u6jzlaccdK8lAjOvOnUW/hl4lqAAAAMVBmqxJqEFsmUwId//+qZYABnpRuAGGGUZtR7jAJVQ2\n",
       "pXBXyJvLcaH8yUyt78XOBDKG36XUyrNnTs05Hk7TvC4/4wdrDOI5jUVq2u7kAiuglP6Oco9NARcs\n",
       "zvzBvg7PNGnPx6qd/YMbc0LA86gkF2yBR9RPc8JQONuGcelkGi8/BSBFygvpajjf623hjter0/Rm\n",
       "jbqcjHf3Uenc8rLdv/YYvc70HjdcyTJQ1mEVh75YnP72KtYCbiEHVabNE9qbKLNKSTYRTgAAAFNB\n",
       "nspFFSwz/wAGSYeJeXeqBUfHqw1CHQPKqQEXqhlrL7GXTSDp2CRdA7gcNin37vP4rqbfI9jU4y8I\n",
       "bGlyyIvPIOGc4vOwOc7bQt8Ia+Y8RyLN6QAAACABnul0Qr8AC4XhIGYLUraRgW4Ey9D1myBzROGX\n",
       "c8JoPAAAAD8BnutqQr8AC4XhL6E2ACWhexwWQB7UAWa69PXUaoTOcByoaCNgHq7iwC1cTYuXY2ZV\n",
       "ELzSePXUqVh61dpgNmAAAACmQZrwSahBbJlMCHf//qmWAAZ7FaPpQBtkc3mMdON6rygVoyPd9q5z\n",
       "z2oanuV2s6uI6tSG/+n9HLrZdk8LTaxC7InOJS7ziaDyP2Y6km3oS+rHdkf6uKKPulmC6JSOuflD\n",
       "1LWP9lyvdIPEMb/Guf7fXoNE3H0WyT7iiqMbq6GQM06Z4NZFV00EjIOEBojtmCDlv2EV6bmsxkkr\n",
       "fik7Ng3w+lIljGdbyQAAAE5Bnw5FFSwz/wALFTVkJifbsdZgC3lXACNT1WASwKFrUeb7BUcuO6kr\n",
       "0zvGF65rmKv7RYmBW4zx5tnGJ5CEozMzaa4xs1cWb9jN5/pMm4EAAAAhAZ8tdEK/AAuiZSAPPTHi\n",
       "R4ACFqUMXVMsjlxVLhrk9Z0xAAAAFQGfL2pCvwALpYNGXTNMmXrnNRu9IAAAANtBmzJJqEFsmUwU\n",
       "TDv//qmWAAZ6ULQAqeOS6Wzpu7gF5wNBQfvPfaxkwr/GVlXjNURiR+3o0OsDI0zeKwNl0sBwe0a5\n",
       "bSoIpj+f70j7gLAilNjdJM3/7eKc9lgL1xl7DD+w22MTajclVotW+0L232LcuUq9spojYGxyzzHO\n",
       "LQfNudDpp7RnHV8chBknazwGQwMocPAA65QfTmpun5JUUo37L7rQWO91NytGLd8d/ekmP5p59Ky7\n",
       "0leZR8VoDOaBM4Xwgb+djKMSD1nW5dVeHARgLuKxp4VbuvIDbyAAAAA3AZ9RakK/ABR+TV1uq6gg\n",
       "iQQgAMP/e7uxP7d69XAfOce5+WoqM8ldQSe0ynfuwGRcHrR2aRgBFwAAAJZBm1ZJ4QpSZTAh3/6p\n",
       "lgAGeunWABhV1G5mFf04NhhUw6zhqC9SplD5pXTk+B1kDVoTXzBfMyzX/6W6lBVxSXjSfXDU3DW3\n",
       "zRS8ZDNTZwEeLlASy9737f0MJvDNkYh42ooVCVukk4XCCByCE7zOGMBoZLyPcFfdji8J5u+aHl+z\n",
       "c6kHn9nu3AQmxv5YFZH8b+bMipeskfkAAABvQZ90RTRMM/8ACxStx+dsF+T3HdnCXtgAIO0s+2zi\n",
       "T3AdR3Z/wnKwYCsNF65YdzC9aPYwmBl7D+B6yhxD9/a483wQo4cEEseZD5tkcV3DloXWmCUArWqa\n",
       "MkehgOXtZ84eSfV1YhfEq2jtY6XrEyknAAAAIgGfk3RCvwAUdMUqxMhrY0mszFnZCAM2nvzSQEuJ\n",
       "YPiIWUEAAAAuAZ+VakK/ABR7AW2BK/CsHygEcr1HkCHgw4cbte6QA5TvjTGSNcUvePD0FLAKCAAA\n",
       "AJRBm5pJqEFomUwId//+qZYABnpQtADop3kUP6RU0R5LxsbXQZOUs++J2yhtiwXXfYKXjKMamS2W\n",
       "dULIF29M6RlI7Ec1EPyyzWNI0bkDdnL3Cd9YNS5vAeWiiTbA/dHTT5+jiYUvn3V4evCDcTzjzMFA\n",
       "2wMk5hXou08aVP03lAoLpQyjzlaKKSVDFMm99DZu/bxmRt3NAAAASEGfuEURLDP/AAsVNWXyexuO\n",
       "gCD1U9cN7w6hHZmsSBmccHx3uN4dv43rm+xYhbfpu47lfhPj1ovojOcHVA8QqEUOGwF7bbY3oQAA\n",
       "ACMBn9d0Qr8AFHTFGRu/x/3DAEUHYC+wLtxyEnKRNFMdSSIG9AAAACABn9lqQr8AFHsBWDW50Z8G\n",
       "BYwYDloWQBCCK2+OiAwbMQAAAFJBm95JqEFsmUwIZ//+nhAAMi7F6AGbzl1rOGKqHo61S7Aa7FiQ\n",
       "2W7wBJl/pGAtHIH7ZG6bkWzNFwOyqDbFIhkFaerxxBB28PBqB5jd+D3IVfyAAAAAYkGf/EUVLDP/\n",
       "AAsVNWQmJ9wtoAOPRx5ZVk+Ev8N7YTmG0THFi4p9r3UCRMVgnkg4Vl8E4XunSmygVLuwI1zmiHr6\n",
       "ZqEsFw9LmCjGdNt6pZ+7YAw17OXd9vAE2lFByJR2jz0XAAAAJwGeG3RCvwAUdMUZG7+fg07LV373\n",
       "a+jrzJugD7pA6F6XvRgirR5MWQAAACIBnh1qQr8AFHsBWDXANVYfGzjWl88gKEW//x3pE9lq6PSA\n",
       "AAAAOkGaH0moQWyZTAhX//44QABkYfnb41kCADgkCuD91LA7MuEuNeO+T7Y6ZJHb1BtEVzNfU6gh\n",
       "NeeB2RgAAAqybW9vdgAAAGxtdmhkAAAAAAAAAAAAAAAAAAAD6AAAH0AAAQAAAQAAAAAAAAAAAAAA\n",
       "AAEAAAAAAAAAAAAAAAAAAAABAAAAAAAAAAAAAAAAAABAAAAAAAAAAAAAAAAAAAAAAAAAAAAAAAAA\n",
       "AAAAAAAAAgAACdx0cmFrAAAAXHRraGQAAAADAAAAAAAAAAAAAAABAAAAAAAAH0AAAAAAAAAAAAAA\n",
       "AAAAAAAAAAEAAAAAAAAAAAAAAAAAAAABAAAAAAAAAAAAAAAAAABAAAAAAbAAAAEgAAAAAAAkZWR0\n",
       "cwAAABxlbHN0AAAAAAAAAAEAAB9AAAAEAAABAAAAAAlUbWRpYQAAACBtZGhkAAAAAAAAAAAAAAAA\n",
       "AAAoAAABQABVxAAAAAAALWhkbHIAAAAAAAAAAHZpZGUAAAAAAAAAAAAAAABWaWRlb0hhbmRsZXIA\n",
       "AAAI/21pbmYAAAAUdm1oZAAAAAEAAAAAAAAAAAAAACRkaW5mAAAAHGRyZWYAAAAAAAAAAQAAAAx1\n",
       "cmwgAAAAAQAACL9zdGJsAAAAt3N0c2QAAAAAAAAAAQAAAKdhdmMxAAAAAAAAAAEAAAAAAAAAAAAA\n",
       "AAAAAAAAAbABIABIAAAASAAAAAAAAAABAAAAAAAAAAAAAAAAAAAAAAAAAAAAAAAAAAAAAAAAAAAA\n",
       "GP//AAAANWF2Y0MBZAAV/+EAGGdkABWs2UGwloQAAAMABAAAAwCgPFi2WAEABmjr48siwP34+AAA\n",
       "AAAcdXVpZGtoQPJfJE/FujmlG88DI/MAAAAAAAAAGHN0dHMAAAAAAAAAAQAAAKAAAAIAAAAAFHN0\n",
       "c3MAAAAAAAAAAQAAAAEAAAUQY3R0cwAAAAAAAACgAAAAAQAABAAAAAABAAAKAAAAAAEAAAQAAAAA\n",
       "AQAAAAAAAAABAAACAAAAAAEAAAoAAAAAAQAABAAAAAABAAAAAAAAAAEAAAIAAAAAAQAACgAAAAAB\n",
       "AAAEAAAAAAEAAAAAAAAAAQAAAgAAAAABAAAKAAAAAAEAAAQAAAAAAQAAAAAAAAABAAACAAAAAAEA\n",
       "AAoAAAAAAQAABAAAAAABAAAAAAAAAAEAAAIAAAAAAQAACgAAAAABAAAEAAAAAAEAAAAAAAAAAQAA\n",
       "AgAAAAABAAAKAAAAAAEAAAQAAAAAAQAAAAAAAAABAAACAAAAAAEAAAoAAAAAAQAABAAAAAABAAAA\n",
       "AAAAAAEAAAIAAAAAAQAACgAAAAABAAAEAAAAAAEAAAAAAAAAAQAAAgAAAAABAAAKAAAAAAEAAAQA\n",
       "AAAAAQAAAAAAAAABAAACAAAAAAEAAAoAAAAAAQAABAAAAAABAAAAAAAAAAEAAAIAAAAAAQAACgAA\n",
       "AAABAAAEAAAAAAEAAAAAAAAAAQAAAgAAAAABAAAKAAAAAAEAAAQAAAAAAQAAAAAAAAABAAACAAAA\n",
       "AAEAAAoAAAAAAQAABAAAAAABAAAAAAAAAAEAAAIAAAAAAQAACgAAAAABAAAEAAAAAAEAAAAAAAAA\n",
       "AQAAAgAAAAABAAAKAAAAAAEAAAQAAAAAAQAAAAAAAAABAAACAAAAAAEAAAoAAAAAAQAABAAAAAAB\n",
       "AAAAAAAAAAEAAAIAAAAAAQAACgAAAAABAAAEAAAAAAEAAAAAAAAAAQAAAgAAAAABAAAKAAAAAAEA\n",
       "AAQAAAAAAQAAAAAAAAABAAACAAAAAAEAAAoAAAAAAQAABAAAAAABAAAAAAAAAAEAAAIAAAAAAQAA\n",
       "CgAAAAABAAAEAAAAAAEAAAAAAAAAAQAAAgAAAAABAAAKAAAAAAEAAAQAAAAAAQAAAAAAAAABAAAC\n",
       "AAAAAAEAAAoAAAAAAQAABAAAAAABAAAAAAAAAAEAAAIAAAAAAQAACgAAAAABAAAEAAAAAAEAAAAA\n",
       "AAAAAQAAAgAAAAABAAAKAAAAAAEAAAQAAAAAAQAAAAAAAAABAAACAAAAAAEAAAoAAAAAAQAABAAA\n",
       "AAABAAAAAAAAAAEAAAIAAAAAAQAACgAAAAABAAAEAAAAAAEAAAAAAAAAAQAAAgAAAAABAAAKAAAA\n",
       "AAEAAAQAAAAAAQAAAAAAAAABAAACAAAAAAEAAAoAAAAAAQAABAAAAAABAAAAAAAAAAEAAAIAAAAA\n",
       "AQAACgAAAAABAAAEAAAAAAEAAAAAAAAAAQAAAgAAAAABAAAKAAAAAAEAAAQAAAAAAQAAAAAAAAAB\n",
       "AAACAAAAAAEAAAoAAAAAAQAABAAAAAABAAAAAAAAAAEAAAIAAAAAAQAACgAAAAABAAAEAAAAAAEA\n",
       "AAAAAAAAAQAAAgAAAAABAAAKAAAAAAEAAAQAAAAAAQAAAAAAAAABAAACAAAAAAEAAAoAAAAAAQAA\n",
       "BAAAAAABAAAAAAAAAAEAAAIAAAAAAQAACgAAAAABAAAEAAAAAAEAAAAAAAAAAQAAAgAAAAABAAAG\n",
       "AAAAAAEAAAIAAAAAAQAACgAAAAABAAAEAAAAAAEAAAAAAAAAAQAAAgAAAAABAAAKAAAAAAEAAAQA\n",
       "AAAAAQAAAAAAAAABAAACAAAAAAEAAAoAAAAAAQAABAAAAAABAAAAAAAAAAEAAAIAAAAAAQAABAAA\n",
       "AAAcc3RzYwAAAAAAAAABAAAAAQAAAKAAAAABAAAClHN0c3oAAAAAAAAAAAAAAKAAAAuaAAAAqQAA\n",
       "ACcAAAAhAAAAHgAAAFYAAAAsAAAAGwAAACEAAABKAAAANAAAAC4AAAAhAAAAQAAAAD0AAAAhAAAA\n",
       "JAAAADMAAAAuAAAAJwAAAB4AAAAwAAAAGwAAABoAAAAeAAAAUQAAAEUAAAAjAAAALAAAAE8AAABL\n",
       "AAAAJwAAACIAAAA6AAAAMwAAABoAAAAbAAAAMgAAACgAAAAdAAAAJQAAADIAAAAkAAAAGwAAABsA\n",
       "AAA5AAAAKwAAACcAAAAtAAAANAAAACkAAAAiAAAAHAAAAFcAAAAuAAAAIwAAACgAAAByAAAAQwAA\n",
       "ACEAAAAvAAAArgAAAEwAAAA0AAAAPQAAAGcAAABNAAAAMQAAAB4AAACFAAAAOwAAADEAAAAvAAAA\n",
       "yAAAACUAAAArAAAAJgAAAJ4AAABRAAAAKwAAAFYAAACxAAAAUAAAACMAAAAzAAAAtQAAAGoAAAA9\n",
       "AAAALQAAAKUAAABYAAAAKQAAAEYAAACOAAAASwAAACwAAAAcAAAAiQAAAD0AAAAiAAAALgAAAH4A\n",
       "AABZAAAALAAAADQAAABvAAAAPgAAACMAAAAqAAAAggAAADQAAAAcAAAAKAAAAE4AAAAwAAAAIwAA\n",
       "ACEAAABWAAAAKgAAACAAAAAaAAAAlAAAAEwAAAA2AAAAIAAAAJcAAABiAAAALQAAADEAAACRAAAA\n",
       "NwAAAC4AAAAjAAAAfAAAADcAAAAlAAAAIwAAAMkAAABXAAAAJAAAAEMAAACqAAAAUgAAACUAAAAZ\n",
       "AAAA3wAAADsAAACaAAAAcwAAACYAAAAyAAAAmAAAAEwAAAAnAAAAJAAAAFYAAABmAAAAKwAAACYA\n",
       "AAA+AAAAFHN0Y28AAAAAAAAAAQAAADAAAABidWR0YQAAAFptZXRhAAAAAAAAACFoZGxyAAAAAAAA\n",
       "AABtZGlyYXBwbAAAAAAAAAAAAAAAAC1pbHN0AAAAJal0b28AAAAdZGF0YQAAAAEAAAAATGF2ZjU4\n",
       "LjQ1LjEwMA==\n",
       "\">\n",
       "  Your browser does not support the video tag.\n",
       "</video>"
      ],
      "text/plain": [
       "<IPython.core.display.HTML object>"
      ]
     },
     "execution_count": 80,
     "metadata": {},
     "output_type": "execute_result"
    }
   ],
   "source": [
    "## plot individual cell activity \n",
    "# np array with shape (frames, height, width, channels)\n",
    "video = cells_recombined\n",
    "video_2 = response_movie\n",
    "\n",
    "fig = plt.figure()\n",
    "p1 = fig.add_subplot(1,2,1)\n",
    "im = p1.imshow(video[0,:,:], cmap='gray', vmin=0, vmax=255)\n",
    "p2 = fig.add_subplot(1,2,2)\n",
    "im2 = p2.imshow(video_2[0,:,:], cmap='gray', vmin=0, vmax=255)\n",
    "\n",
    "plt.close() # this is required to not display the generated image\n",
    "\n",
    "def init():\n",
    "    im.set_data(video[0,:,:])\n",
    "    im2.set_data(video_2[0,:,:])\n",
    "\n",
    "def animate(i):\n",
    "    im.set_data(video[i,:,:])\n",
    "    im2.set_data(video_2[i,:,:])\n",
    "    return (im, im2)\n",
    "\n",
    "anim = animation.FuncAnimation(fig, animate, init_func=init, frames=video.shape[0],\n",
    "                               interval=50)\n",
    "\n",
    "## need ffmpeg on quest\n",
    "HTML(anim.to_html5_video())"
   ]
  },
  {
   "cell_type": "code",
   "execution_count": null,
   "metadata": {
    "collapsed": true
   },
   "outputs": [],
   "source": [
    "## how to compare with raw traces? maybe use sample indicies to determine specific avi files, then pull from those (w/direct mount to resfiles?), or automate a globus script? "
   ]
  },
  {
   "cell_type": "code",
   "execution_count": null,
   "metadata": {
    "collapsed": true
   },
   "outputs": [],
   "source": [
    "# pause to take input (y/n) to determine if trace is ideal "
   ]
  },
  {
   "cell_type": "code",
   "execution_count": null,
   "metadata": {
    "collapsed": true,
    "scrolled": true
   },
   "outputs": [],
   "source": [
    "# calculate the peak to rms ratio for each threshold event, each cell, and across all cells and events \n",
    "\n",
    "peak_rms = lambda cell_fluorescence : np.max(cell_fluorescence)/np.sqrt(np.mean(np.square(cell_fluorescence)))\n",
    "\n",
    "cell = 2\n",
    "event = 1097\n",
    "\n",
    "peak_rms_ratio_cell = z_scored_regions_by_session['GRIN039_H12_M26_S54'].iloc[:, z_scored_regions_by_session['GRIN039_H12_M26_S54'].columns.get_level_values(1)==cell].apply(lambda cell_fluorescence : np.max(cell_fluorescence)/np.sqrt(np.mean(np.square(cell_fluorescence))), axis=0)\n",
    "peak_rms_ratio_event = z_scored_regions_by_session['GRIN039_H12_M26_S54'][event].apply(lambda cell_fluorescence : np.max(cell_fluorescence)/np.sqrt(np.mean(np.square(cell_fluorescence))), axis=0)\n",
    "peak_rms_ratio = z_scored_regions_by_session['GRIN039_H12_M26_S54'].apply(lambda cell_fluorescence : np.max(cell_fluorescence)/np.sqrt(np.mean(np.square(cell_fluorescence))), axis=0)"
   ]
  },
  {
   "cell_type": "code",
   "execution_count": null,
   "metadata": {
    "collapsed": true
   },
   "outputs": [],
   "source": [
    "#histogram of all peak to rms ratios across sample events\n",
    "plt.hist(peak_rms_ratio, 100)\n",
    "plt.show()"
   ]
  },
  {
   "cell_type": "code",
   "execution_count": null,
   "metadata": {
    "collapsed": true
   },
   "outputs": [],
   "source": [
    "z_scored_regions_by_session.max()"
   ]
  },
  {
   "cell_type": "code",
   "execution_count": null,
   "metadata": {
    "collapsed": true
   },
   "outputs": [],
   "source": [
    "peak_rms_ratio.max()"
   ]
  },
  {
   "cell_type": "code",
   "execution_count": null,
   "metadata": {
    "collapsed": true
   },
   "outputs": [],
   "source": [
    "# plot average activity of a cell across all movement events "
   ]
  },
  {
   "cell_type": "code",
   "execution_count": null,
   "metadata": {
    "collapsed": true
   },
   "outputs": [],
   "source": [
    "# plots the activity of a cell across all movement threshold crossings in a given session\n",
    "cell = 1\n",
    "z_scored_regions_by_session['GRIN039_H12_M26_S54'].iloc[:, z_scored_regions_by_session['GRIN039_H12_M26_S54'].columns.get_level_values(1)==cell].head()"
   ]
  },
  {
   "cell_type": "code",
   "execution_count": null,
   "metadata": {
    "collapsed": true
   },
   "outputs": [],
   "source": [
    "# plot a few example traces\n",
    "events_to_plot = [0, 1, 5]\n",
    "fig, [ax1, ax2, ax3, ax4] = plt.subplots(4)\n",
    "ax1.plot(z_scored_regions_by_session['GRIN039_H12_M26_S54'].iloc[:, z_scored_regions_by_session['GRIN039_H12_M26_S54'].columns.get_level_values(1)==1][sample_crossing_indicies[events_to_plot[0]]])\n",
    "ax2.plot(z_scored_regions_by_session['GRIN039_H12_M26_S54'].iloc[:, z_scored_regions_by_session['GRIN039_H12_M26_S54'].columns.get_level_values(1)==1][sample_crossing_indicies[events_to_plot[1]]])\n",
    "ax3.plot(z_scored_regions_by_session['GRIN039_H12_M26_S54'].iloc[:, z_scored_regions_by_session['GRIN039_H12_M26_S54'].columns.get_level_values(1)==1][sample_crossing_indicies[events_to_plot[2]]])\n",
    "ax4.plot(pd.concat([z_scored_regions_by_session['GRIN039_H12_M26_S54'].iloc[:, z_scored_regions_by_session['GRIN039_H12_M26_S54'].columns.get_level_values(1)==1][sample_crossing_indicies[events_to_plot[0]]],\n",
    "                   z_scored_regions_by_session['GRIN039_H12_M26_S54'].iloc[:, z_scored_regions_by_session['GRIN039_H12_M26_S54'].columns.get_level_values(1)==1][sample_crossing_indicies[events_to_plot[1]]],\n",
    "                  z_scored_regions_by_session['GRIN039_H12_M26_S54'].iloc[:, z_scored_regions_by_session['GRIN039_H12_M26_S54'].columns.get_level_values(1)==1][sample_crossing_indicies[events_to_plot[2]]]], axis=1).mean(axis=1))"
   ]
  },
  {
   "cell_type": "code",
   "execution_count": null,
   "metadata": {
    "collapsed": true
   },
   "outputs": [],
   "source": [
    "#concat by mouse \n",
    "concacted_by_mouse = {}\n",
    "for mouse in [name[0:7] for name in list(set(z_scored_regions_by_session.columns.levels[0]))]:\n",
    "    dfs_by_mouse = []\n",
    "    sessions = []\n",
    "    for session in list(z_scored_regions_by_session.columns.levels[0]):\n",
    "        if mouse in session:\n",
    "            if not(z_scored_regions_by_session[session].empty):\n",
    "                #means = z_scored_regions_by_session[session].mean(axis=1, level=0)\n",
    "                dfs_by_mouse.append(z_scored_regions_by_session[session])\n",
    "                sessions.append(session)\n",
    "    if len(dfs_by_mouse)>0:\n",
    "        concacted_by_mouse[mouse] = pd.concat(dfs_by_mouse, axis=1, keys=sessions)\n",
    "combined_by_mouse = pd.concat(list(concacted_by_mouse.values()), axis=1, keys=list(concacted_by_mouse.keys()))"
   ]
  },
  {
   "cell_type": "code",
   "execution_count": null,
   "metadata": {
    "collapsed": true,
    "scrolled": true
   },
   "outputs": [],
   "source": [
    "# maybe should do min, max scaler here\n",
    "plt.plot(combined_by_mouse.mean(axis=1))"
   ]
  },
  {
   "cell_type": "code",
   "execution_count": null,
   "metadata": {
    "collapsed": true
   },
   "outputs": [],
   "source": [
    "# create range scaled data to compare across cells\n",
    "scaler = MinMaxScaler()\n",
    "activity_scaled = pd.DataFrame(scaler.fit_transform(combined_by_mouse), columns=combined_by_mouse.columns)\n",
    "activity_scaled_cell_means = activity_scaled.groupby(level=[0,1], axis=1).mean()"
   ]
  },
  {
   "cell_type": "code",
   "execution_count": null,
   "metadata": {
    "collapsed": true,
    "scrolled": true
   },
   "outputs": [],
   "source": [
    "plt.plot(activity_scaled.mean(axis=1))"
   ]
  },
  {
   "cell_type": "code",
   "execution_count": null,
   "metadata": {
    "collapsed": true,
    "scrolled": false
   },
   "outputs": [],
   "source": [
    "combined_by_mouse_timedelta = combined_by_mouse.set_index(pd.to_timedelta(np.linspace(0, (len(combined_by_mouse)-1)*(1/5), len(combined_by_mouse)), unit='s'), drop=True)"
   ]
  },
  {
   "cell_type": "code",
   "execution_count": null,
   "metadata": {
    "collapsed": true,
    "scrolled": true
   },
   "outputs": [],
   "source": [
    "#resampled_for_plotting.head()"
   ]
  },
  {
   "cell_type": "code",
   "execution_count": null,
   "metadata": {
    "collapsed": true
   },
   "outputs": [],
   "source": [
    "plt.rcParams.update({'font.size': 22})\n",
    "df_to_plot = resampled_for_plotting\n",
    "activity_measure = 'spatial_coordination'\n",
    "x = np.linspace(-(len(df_to_plot)/2)*.5, (len(df_to_plot)/2)*.5, len(df_to_plot))\n",
    "scale_f = 0.0868\n",
    "mean=df_to_plot.mean(axis=1, level=2)['velocity'].values*scale_f\n",
    "plt.plot(x, df_to_plot.mean(axis=1, level=2)['velocity'].values*scale_f, color='k')\n",
    "std_error = ((df_to_plot.std(axis=1, level=2)['velocity'])/math.sqrt(df_to_plot.mean(axis=1, level=0).shape[1]))*scale_f\n",
    "plt.fill_between(x, mean-std_error, mean+std_error)\n",
    "ax = plt.gca()\n",
    "ax.set_ylabel('velocity cm/sec')\n",
    "ax.set_xlabel('time (seconds)')\n",
    "ax.axvline(x=(0), linestyle='--', color='r')\n",
    "fig = plt.gcf()\n",
    "fig.set_size_inches(7, 6)\n",
    "#fig.draw()\n",
    "#fig.savefig('/home/jma819/presentation_files/wt_velocity_spatial_coord_triggered.svg', transparent=True)\n",
    "fig.subplots_adjust(left=0.15)\n",
    "fig.savefig('/Users/johnmarshall/Documents/Presentations/Feb20201_LabMeeting/v_triggered.pdf', transparent=True)\n",
    "plt.show()"
   ]
  },
  {
   "cell_type": "code",
   "execution_count": null,
   "metadata": {
    "collapsed": true
   },
   "outputs": [],
   "source": [
    "activity_measure = 'fluorescence'\n",
    "x = np.linspace(-(len(df_to_plot)/2)*.5, (len(df_to_plot)/2)*.5, len(df_to_plot))\n",
    "mean = df_to_plot.mean(axis=1, level=2)[activity_measure].values\n",
    "plt.plot(x, mean, color='k')\n",
    "std_error = (df_to_plot.std(axis=1, level=2)[activity_measure])/math.sqrt(df_to_plot.mean(axis=1, level=0).shape[1]*1)\n",
    "plt.fill_between(x, mean-std_error, mean+std_error)\n",
    "ax = plt.gca()\n",
    "ax.set_ylabel('dF/F z-score')\n",
    "ax.set_xlabel('time (seconds)')\n",
    "ax.axvline(x=0, linestyle='--', color='r')\n",
    "fig = plt.gcf()\n",
    "fig.set_size_inches(7, 6)\n",
    "#fig.draw()\n",
    "#fig.savefig('.svg')\n",
    "fig.subplots_adjust(left=0.15)\n",
    "fig.savefig('/Users/johnmarshall/Documents/Presentations/Feb20201_LabMeeting/wt_fluorescence_triggered.pdf', transparent=True)\n",
    "plt.show()"
   ]
  },
  {
   "cell_type": "markdown",
   "metadata": {},
   "source": [
    "## event ISIs "
   ]
  },
  {
   "cell_type": "code",
   "execution_count": null,
   "metadata": {
    "collapsed": true
   },
   "outputs": [],
   "source": [
    "filtered_for_analysis = {}\n",
    "for session in list(grouped_raw_data.keys()):\n",
    "    filtered_for_analysis[session] = utils_jjm.filter_out_by_size(grouped_raw_data[session]['C_normalized_z_scored'], grouped_raw_data[session]['cell_contours'], \n",
    "                                                                  grouped_raw_data[session]['for_dims'], 0.6, 100)\n",
    "C_df = pd.concat([filtered_for_analysis[session].resample(str(new_sampling_interval)+'S').max()\n",
    "                  for session in list(grouped_raw_data.keys())], keys=list(grouped_raw_data.keys()))"
   ]
  },
  {
   "cell_type": "code",
   "execution_count": null,
   "metadata": {
    "collapsed": true
   },
   "outputs": [],
   "source": [
    "C_df = C_df.drop(['msCamFrame'], axis=1)"
   ]
  },
  {
   "cell_type": "code",
   "execution_count": null,
   "metadata": {
    "collapsed": true
   },
   "outputs": [],
   "source": []
  },
  {
   "cell_type": "code",
   "execution_count": null,
   "metadata": {
    "collapsed": true
   },
   "outputs": [],
   "source": [
    "ISIs_by_session = []\n",
    "for session in list(grouped_raw_data.keys()):\n",
    "    print(session)\n",
    "    event_indicies, event_times, event_ISIs = utils_jjm.get_ISIs(C_df.loc[session].dropna(axis=1), 20, .1, np.array(C_df.loc[session].dropna(axis=1).columns), 2)\n",
    "    ISIs_by_session.append(event_ISIs)"
   ]
  },
  {
   "cell_type": "code",
   "execution_count": null,
   "metadata": {
    "collapsed": true
   },
   "outputs": [],
   "source": []
  },
  {
   "cell_type": "code",
   "execution_count": null,
   "metadata": {
    "collapsed": true
   },
   "outputs": [],
   "source": []
  }
 ],
 "metadata": {
  "kernelspec": {
   "display_name": "caiman",
   "language": "python",
   "name": "caiman"
  },
  "language_info": {
   "codemirror_mode": {
    "name": "ipython",
    "version": 3
   },
   "file_extension": ".py",
   "mimetype": "text/x-python",
   "name": "python",
   "nbconvert_exporter": "python",
   "pygments_lexer": "ipython3",
   "version": "3.6.7"
  }
 },
 "nbformat": 4,
 "nbformat_minor": 2
}
