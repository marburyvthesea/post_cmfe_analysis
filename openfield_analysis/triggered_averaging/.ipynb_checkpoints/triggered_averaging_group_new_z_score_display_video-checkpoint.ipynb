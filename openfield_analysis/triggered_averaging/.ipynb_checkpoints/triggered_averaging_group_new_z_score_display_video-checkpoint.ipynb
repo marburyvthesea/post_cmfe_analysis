{
 "cells": [
  {
   "cell_type": "code",
   "execution_count": 1,
   "metadata": {
    "collapsed": false
   },
   "outputs": [
    {
     "data": {
      "text/html": [
       "<style>.container { width:90% !important; }</style>"
      ],
      "text/plain": [
       "<IPython.core.display.HTML object>"
      ]
     },
     "metadata": {},
     "output_type": "display_data"
    },
    {
     "name": "stderr",
     "output_type": "stream",
     "text": [
      "/home/jma819/.conda/envs/caiman/lib/python3.6/site-packages/sklearn/utils/deprecation.py:144: FutureWarning: The sklearn.decomposition.incremental_pca module is  deprecated in version 0.22 and will be removed in version 0.24. The corresponding classes / functions should instead be imported from sklearn.decomposition. Anything that cannot be imported from sklearn.decomposition is now part of the private API.\n",
      "  warnings.warn(message, FutureWarning)\n"
     ]
    }
   ],
   "source": [
    "from IPython.core.display import display, HTML\n",
    "display(HTML(\"<style>.container { width:90% !important; }</style>\"))\n",
    "import numpy as np\n",
    "import pandas as pd\n",
    "import h5py\n",
    "from tqdm import tqdm\n",
    "import scipy.io as sio\n",
    "from scipy import stats\n",
    "from importlib import reload\n",
    "from matplotlib import pyplot as plt\n",
    "import sys\n",
    "sys.path.append('/home/jma819/post_cmfe_analysis')\n",
    "#sys.path.append('/Users/johnmarshall/Documents/Analysis/PythonAnalysisScripts/post_cmfe_analysis')\n",
    "import python_utils_jjm as utils_jjm\n",
    "import dlc_utils\n",
    "import caiman\n",
    "from sklearn.preprocessing import MinMaxScaler\n",
    "import scipy.spatial.distance as dist\n",
    "import itertools\n",
    "import math\n",
    "import warnings\n",
    "%matplotlib inline\n",
    "from matplotlib import pyplot as plt\n",
    "from matplotlib import animation\n",
    "from IPython.display import HTML\n",
    "warnings.filterwarnings(action='once')"
   ]
  },
  {
   "cell_type": "code",
   "execution_count": 2,
   "metadata": {
    "collapsed": false,
    "scrolled": false
   },
   "outputs": [
    {
     "name": "stderr",
     "output_type": "stream",
     "text": [
      "/home/jma819/.conda/envs/caiman/lib/python3.6/site-packages/jupyter_client/jsonutil.py:67: DeprecationWarning: Interpreting naive datetime as local 2021-02-11 11:53:58.187258. Please add timezone info to timestamps.\n",
      "  new_obj[k] = extract_dates(v)\n"
     ]
    },
    {
     "data": {
      "text/plain": [
       "<module 'dlc_utils' from '/home/jma819/post_cmfe_analysis/dlc_utils.py'>"
      ]
     },
     "execution_count": 2,
     "metadata": {},
     "output_type": "execute_result"
    }
   ],
   "source": [
    "reload(utils_jjm)\n",
    "reload(dlc_utils)"
   ]
  },
  {
   "cell_type": "code",
   "execution_count": 3,
   "metadata": {
    "collapsed": false
   },
   "outputs": [
    {
     "name": "stderr",
     "output_type": "stream",
     "text": [
      "/home/jma819/.conda/envs/caiman/lib/python3.6/site-packages/jupyter_client/jsonutil.py:67: DeprecationWarning: Interpreting naive datetime as local 2021-02-11 11:54:00.130384. Please add timezone info to timestamps.\n",
      "  new_obj[k] = extract_dates(v)\n"
     ]
    }
   ],
   "source": [
    "#cnmfe_file_key = pd.read_csv('/Volumes/My_Passport/dlc_analysis/behavcamvideos/open_field_miniscope/cnmfe_key.csv')\n",
    "cnmfe_file_key = pd.read_csv('/projects/p30771/dlc_analysis/openfield_dlc_output/cnmfe_key.csv')"
   ]
  },
  {
   "cell_type": "code",
   "execution_count": 4,
   "metadata": {
    "collapsed": false
   },
   "outputs": [
    {
     "name": "stderr",
     "output_type": "stream",
     "text": [
      "/home/jma819/.conda/envs/caiman/lib/python3.6/site-packages/jupyter_client/jsonutil.py:67: DeprecationWarning: Interpreting naive datetime as local 2021-02-11 11:55:04.144261. Please add timezone info to timestamps.\n",
      "  new_obj[k] = extract_dates(v)\n"
     ]
    }
   ],
   "source": [
    "#cnmfe_base_dir = '/Volumes/My_Passport/cnmfe_analysis_files/batch_output_files/'\n",
    "cnmfe_base_dir = '/projects/p30771/MATLAB/CNMF_E_jjm/quest_MATLAB_cnmfe/batch_output_files/'\n",
    "# '27-Feb_17_33_59_out.mat' '28-Feb_16_21_21_out.mat' '25-Mar_14_22_02_out.mat', '25-Mar_14_22_44_out.mat', '26-Mar_18_33_55_out.mat', '27-Mar_00_26_12_out.mat', '27-Mar_00_48_46_out.mat' throwing error\n",
    "wt_CNMFE_files = ['29-Jan_12_35_06_out.mat','30-Mar_20_39_05_out.mat', '30-Mar_20_45_16_out.mat', '22-Mar_22_52_02_out.mat',\n",
    "                 '28-Feb_16_10_05_out.mat', '27-Feb_17_32_15_out.mat', '25-Mar_13_27_27_out.mat',\n",
    "                 '27-Feb_17_33_59_out.mat', '28-Feb_16_21_21_out.mat', '25-Mar_14_22_02_out.mat', '25-Mar_14_22_44_out.mat', \n",
    "                  '26-Mar_18_33_55_out.mat', '27-Mar_00_26_12_out.mat', '27-Mar_00_48_46_out.mat']\n",
    "\n",
    "ko_CNMFE_files = ['30-Jan_16_54_31_out.mat','30-Jan_14_00_19_out.mat','31-Jan_01_43_49_out.mat','31-Jan_00_12_24_out.mat','31-Mar_13_28_15_out.mat', '29-Mar_21_42_20_out.mat', '13-Apr_17_57_40_out.mat', '29-Mar_14_27_55_out.mat', '13-Apr_16_01_20_out.mat',\n",
    "                 '13-Apr_16_11_27_out.mat', '29-Mar_13_39_44_out.mat']"
   ]
  },
  {
   "cell_type": "code",
   "execution_count": 5,
   "metadata": {
    "collapsed": false
   },
   "outputs": [
    {
     "name": "stderr",
     "output_type": "stream",
     "text": [
      "/home/jma819/.conda/envs/caiman/lib/python3.6/site-packages/jupyter_client/jsonutil.py:67: DeprecationWarning: Interpreting naive datetime as local 2021-02-11 11:55:11.400935. Please add timezone info to timestamps.\n",
      "  new_obj[k] = extract_dates(v)\n"
     ]
    }
   ],
   "source": [
    "#tracking_files = ['/Volumes/My_Passport/dlc_analysis/behavcamvideos/open_field_miniscope/'+utils_jjm.find_behavior_tracking(fname, cnmfe_file_key) for fname in wt_CNMFE_files] \n",
    "tracking_files = ['/projects/p30771/dlc_analysis/openfield_dlc_output/'+utils_jjm.find_behavior_tracking(fname, cnmfe_file_key) for fname in wt_CNMFE_files] "
   ]
  },
  {
   "cell_type": "code",
   "execution_count": 7,
   "metadata": {
    "collapsed": false
   },
   "outputs": [
    {
     "name": "stderr",
     "output_type": "stream",
     "text": [
      "/home/jma819/.conda/envs/caiman/lib/python3.6/site-packages/jupyter_client/jsonutil.py:67: DeprecationWarning: Interpreting naive datetime as local 2021-02-11 11:55:19.387414. Please add timezone info to timestamps.\n",
      "  new_obj[k] = extract_dates(v)\n"
     ]
    }
   ],
   "source": [
    "CNMFE_dir_paths_list = [str(cnmfe_base_dir+fname) for fname in wt_CNMFE_files]\n",
    "#CNMFE_dir_paths_list"
   ]
  },
  {
   "cell_type": "code",
   "execution_count": 8,
   "metadata": {
    "collapsed": false
   },
   "outputs": [
    {
     "name": "stderr",
     "output_type": "stream",
     "text": [
      "/home/jma819/.conda/envs/caiman/lib/python3.6/site-packages/jupyter_client/jsonutil.py:67: DeprecationWarning: Interpreting naive datetime as local 2021-02-11 11:55:20.523386. Please add timezone info to timestamps.\n",
      "  new_obj[k] = extract_dates(v)\n"
     ]
    },
    {
     "data": {
      "text/plain": [
       "['/projects/p30771/MATLAB/CNMF_E_jjm/quest_MATLAB_cnmfe/batch_output_files/29-Jan_12_35_06_out.mat',\n",
       " '/projects/p30771/MATLAB/CNMF_E_jjm/quest_MATLAB_cnmfe/batch_output_files/30-Mar_20_39_05_out.mat',\n",
       " '/projects/p30771/MATLAB/CNMF_E_jjm/quest_MATLAB_cnmfe/batch_output_files/30-Mar_20_45_16_out.mat',\n",
       " '/projects/p30771/MATLAB/CNMF_E_jjm/quest_MATLAB_cnmfe/batch_output_files/22-Mar_22_52_02_out.mat',\n",
       " '/projects/p30771/MATLAB/CNMF_E_jjm/quest_MATLAB_cnmfe/batch_output_files/28-Feb_16_10_05_out.mat',\n",
       " '/projects/p30771/MATLAB/CNMF_E_jjm/quest_MATLAB_cnmfe/batch_output_files/27-Feb_17_32_15_out.mat',\n",
       " '/projects/p30771/MATLAB/CNMF_E_jjm/quest_MATLAB_cnmfe/batch_output_files/25-Mar_13_27_27_out.mat',\n",
       " '/projects/p30771/MATLAB/CNMF_E_jjm/quest_MATLAB_cnmfe/batch_output_files/27-Feb_17_33_59_out.mat',\n",
       " '/projects/p30771/MATLAB/CNMF_E_jjm/quest_MATLAB_cnmfe/batch_output_files/28-Feb_16_21_21_out.mat',\n",
       " '/projects/p30771/MATLAB/CNMF_E_jjm/quest_MATLAB_cnmfe/batch_output_files/25-Mar_14_22_02_out.mat',\n",
       " '/projects/p30771/MATLAB/CNMF_E_jjm/quest_MATLAB_cnmfe/batch_output_files/25-Mar_14_22_44_out.mat',\n",
       " '/projects/p30771/MATLAB/CNMF_E_jjm/quest_MATLAB_cnmfe/batch_output_files/26-Mar_18_33_55_out.mat',\n",
       " '/projects/p30771/MATLAB/CNMF_E_jjm/quest_MATLAB_cnmfe/batch_output_files/27-Mar_00_26_12_out.mat',\n",
       " '/projects/p30771/MATLAB/CNMF_E_jjm/quest_MATLAB_cnmfe/batch_output_files/27-Mar_00_48_46_out.mat']"
      ]
     },
     "execution_count": 8,
     "metadata": {},
     "output_type": "execute_result"
    }
   ],
   "source": [
    "CNMFE_dir_paths_list"
   ]
  },
  {
   "cell_type": "code",
   "execution_count": 9,
   "metadata": {
    "collapsed": false,
    "scrolled": false
   },
   "outputs": [
    {
     "name": "stderr",
     "output_type": "stream",
     "text": [
      "/home/jma819/.conda/envs/caiman/lib/python3.6/site-packages/jupyter_client/jsonutil.py:67: DeprecationWarning: Interpreting naive datetime as local 2021-02-11 11:55:29.189431. Please add timezone info to timestamps.\n",
      "  new_obj[k] = extract_dates(v)\n"
     ]
    },
    {
     "data": {
      "text/plain": [
       "['/projects/p30771/dlc_analysis/openfield_dlc_output/GRIN039_H12_M26_S54/GRIN039_H12_M26_S54_dlc_tracking_foranalysis_04142020.csv',\n",
       " '/projects/p30771/dlc_analysis/openfield_dlc_output/GRIN013_H13_M33_S54/GRIN013_H13_M33_S54_dlc_tracking_foranalysis_04142020.csv',\n",
       " '/projects/p30771/dlc_analysis/openfield_dlc_output/GRIN027_H13_M29_S44/GRIN027_H13_M29_S44_dlc_tracking_foranalysis_04142020.csv',\n",
       " '/projects/p30771/dlc_analysis/openfield_dlc_output/GRIN033_H14_M34_S32/GRIN033_H14_M34_S32_dlc_tracking_foranalysis_04142020.csv',\n",
       " '/projects/p30771/dlc_analysis/openfield_dlc_output/GRIN033_H13_M42_S33/GRIN033_H13_M42_S33_dlc_tracking_foranalysis_04142020.csv',\n",
       " '/projects/p30771/dlc_analysis/openfield_dlc_output/GRIN032_H17_M30_S22/GRIN032_H17_M30_S22_dlc_tracking_foranalysis_04142020.csv',\n",
       " '/projects/p30771/dlc_analysis/openfield_dlc_output/GRIN034_H15_M28_S2/GRIN034_H15_M28_S2_dlc_tracking_foranalysis_04142020.csv',\n",
       " '/projects/p30771/dlc_analysis/openfield_dlc_output/GRIN026_H16_M35_S34/GRIN026_H16_M35_S34_dlc_tracking_foranalysis_04142020.csv',\n",
       " '/projects/p30771/dlc_analysis/openfield_dlc_output/GRIN032_H16_M49_S22/GRIN032_H16_M49_S22_dlc_tracking_foranalysis_04142020.csv',\n",
       " '/projects/p30771/dlc_analysis/openfield_dlc_output/GRIN034_H16_M13_S22/GRIN034_H16_M13_S22_dlc_tracking_foranalysis_04142020.csv',\n",
       " '/projects/p30771/dlc_analysis/openfield_dlc_output/GRIN034_H19_M0_S18/GRIN034_H19_M0_S18_dlc_tracking_foranalysis_04142020.csv',\n",
       " '/projects/p30771/dlc_analysis/openfield_dlc_output/GRIN035_H13_M50_S58/GRIN035_H13_M50_S58_dlc_tracking_foranalysis_04142020.csv',\n",
       " '/projects/p30771/dlc_analysis/openfield_dlc_output/GRIN035_H13_M31_S20/GRIN035_H13_M31_S20_dlc_tracking_foranalysis_04142020.csv',\n",
       " '/projects/p30771/dlc_analysis/openfield_dlc_output/GRIN035_H14_M40_S34/GRIN035_H14_M40_S34_dlc_tracking_foranalysis_04142020.csv']"
      ]
     },
     "execution_count": 9,
     "metadata": {},
     "output_type": "execute_result"
    }
   ],
   "source": [
    "tracking_files"
   ]
  },
  {
   "cell_type": "code",
   "execution_count": 10,
   "metadata": {
    "collapsed": false
   },
   "outputs": [
    {
     "name": "stderr",
     "output_type": "stream",
     "text": [
      "/home/jma819/.conda/envs/caiman/lib/python3.6/site-packages/jupyter_client/jsonutil.py:67: DeprecationWarning: Interpreting naive datetime as local 2021-02-11 11:55:34.743959. Please add timezone info to timestamps.\n",
      "  new_obj[k] = extract_dates(v)\n"
     ]
    },
    {
     "name": "stdout",
     "output_type": "stream",
     "text": [
      "/projects/p30771/MATLAB/CNMF_E_jjm/quest_MATLAB_cnmfe/batch_output_files/29-Jan_12_35_06_out.mat\n",
      "/projects/p30771/dlc_analysis/openfield_dlc_output/GRIN039_H12_M26_S54/GRIN039_H12_M26_S54_dlc_tracking_foranalysis_04142020.csv\n",
      "/projects/p30771/MATLAB/CNMF_E_jjm/quest_MATLAB_cnmfe/batch_output_files/30-Mar_20_39_05_out.mat\n",
      "/projects/p30771/dlc_analysis/openfield_dlc_output/GRIN013_H13_M33_S54/GRIN013_H13_M33_S54_dlc_tracking_foranalysis_04142020.csv\n",
      "/projects/p30771/MATLAB/CNMF_E_jjm/quest_MATLAB_cnmfe/batch_output_files/30-Mar_20_45_16_out.mat\n",
      "/projects/p30771/dlc_analysis/openfield_dlc_output/GRIN027_H13_M29_S44/GRIN027_H13_M29_S44_dlc_tracking_foranalysis_04142020.csv\n",
      "/projects/p30771/MATLAB/CNMF_E_jjm/quest_MATLAB_cnmfe/batch_output_files/22-Mar_22_52_02_out.mat\n",
      "/projects/p30771/dlc_analysis/openfield_dlc_output/GRIN033_H14_M34_S32/GRIN033_H14_M34_S32_dlc_tracking_foranalysis_04142020.csv\n",
      "/projects/p30771/MATLAB/CNMF_E_jjm/quest_MATLAB_cnmfe/batch_output_files/28-Feb_16_10_05_out.mat\n",
      "/projects/p30771/dlc_analysis/openfield_dlc_output/GRIN033_H13_M42_S33/GRIN033_H13_M42_S33_dlc_tracking_foranalysis_04142020.csv\n",
      "/projects/p30771/MATLAB/CNMF_E_jjm/quest_MATLAB_cnmfe/batch_output_files/27-Feb_17_32_15_out.mat\n",
      "/projects/p30771/dlc_analysis/openfield_dlc_output/GRIN032_H17_M30_S22/GRIN032_H17_M30_S22_dlc_tracking_foranalysis_04142020.csv\n",
      "/projects/p30771/MATLAB/CNMF_E_jjm/quest_MATLAB_cnmfe/batch_output_files/25-Mar_13_27_27_out.mat\n",
      "/projects/p30771/dlc_analysis/openfield_dlc_output/GRIN034_H15_M28_S2/GRIN034_H15_M28_S2_dlc_tracking_foranalysis_04142020.csv\n",
      "/projects/p30771/MATLAB/CNMF_E_jjm/quest_MATLAB_cnmfe/batch_output_files/27-Feb_17_33_59_out.mat\n",
      "/projects/p30771/dlc_analysis/openfield_dlc_output/GRIN026_H16_M35_S34/GRIN026_H16_M35_S34_dlc_tracking_foranalysis_04142020.csv\n",
      "/projects/p30771/MATLAB/CNMF_E_jjm/quest_MATLAB_cnmfe/batch_output_files/28-Feb_16_21_21_out.mat\n",
      "/projects/p30771/dlc_analysis/openfield_dlc_output/GRIN032_H16_M49_S22/GRIN032_H16_M49_S22_dlc_tracking_foranalysis_04142020.csv\n",
      "/projects/p30771/MATLAB/CNMF_E_jjm/quest_MATLAB_cnmfe/batch_output_files/25-Mar_14_22_02_out.mat\n",
      "/projects/p30771/dlc_analysis/openfield_dlc_output/GRIN034_H16_M13_S22/GRIN034_H16_M13_S22_dlc_tracking_foranalysis_04142020.csv\n",
      "/projects/p30771/MATLAB/CNMF_E_jjm/quest_MATLAB_cnmfe/batch_output_files/25-Mar_14_22_44_out.mat\n",
      "/projects/p30771/dlc_analysis/openfield_dlc_output/GRIN034_H19_M0_S18/GRIN034_H19_M0_S18_dlc_tracking_foranalysis_04142020.csv\n",
      "/projects/p30771/MATLAB/CNMF_E_jjm/quest_MATLAB_cnmfe/batch_output_files/26-Mar_18_33_55_out.mat\n",
      "/projects/p30771/dlc_analysis/openfield_dlc_output/GRIN035_H13_M50_S58/GRIN035_H13_M50_S58_dlc_tracking_foranalysis_04142020.csv\n",
      "/projects/p30771/MATLAB/CNMF_E_jjm/quest_MATLAB_cnmfe/batch_output_files/27-Mar_00_26_12_out.mat\n",
      "/projects/p30771/dlc_analysis/openfield_dlc_output/GRIN035_H13_M31_S20/GRIN035_H13_M31_S20_dlc_tracking_foranalysis_04142020.csv\n",
      "/projects/p30771/MATLAB/CNMF_E_jjm/quest_MATLAB_cnmfe/batch_output_files/27-Mar_00_48_46_out.mat\n",
      "/projects/p30771/dlc_analysis/openfield_dlc_output/GRIN035_H14_M40_S34/GRIN035_H14_M40_S34_dlc_tracking_foranalysis_04142020.csv\n"
     ]
    }
   ],
   "source": [
    "binning_time = 1 # seconds \n",
    "body_part_for_tracking = 'tail_base' #\n",
    "\n",
    "grouped_raw_data = {}\n",
    "success = []\n",
    "failed = []\n",
    "for CNMFE_file, tracking_file in zip(CNMFE_dir_paths_list, tracking_files):\n",
    "    print(CNMFE_file)\n",
    "    print(tracking_file)\n",
    "    try:\n",
    "        # load cell fluorescence \n",
    "        cell_fluorescence = sio.loadmat(CNMFE_file)\n",
    "        C_timedelta = utils_jjm.create_fluorescence_time_delta(cell_fluorescence['C'])\n",
    "        C_normalized = C_timedelta.apply(utils_jjm.normalize).set_index(pd.to_timedelta(np.linspace(0, (len(C_timedelta)-1)*(1/20), len(C_timedelta)), unit='s'), drop=True)\n",
    "        C_z_scored = C_timedelta.apply(stats.zscore).set_index(pd.to_timedelta(np.linspace(0, (len(C_timedelta)-1)*(1/20), len(C_timedelta)), unit='s'), drop=True)\n",
    "        C_normalized_z_scored = C_normalized.apply(stats.zscore).set_index(pd.to_timedelta(np.linspace(0, (len(C_normalized)-1)*(1/20), len(C_normalized)), unit='s'), drop=True)\n",
    "        # create tracking time deltas\n",
    "        interpolated = utils_jjm.prepare_timedelta_dfs(tracking_file)\n",
    "        #C_z_scored_filtered = utils_jjm.filter_out_by_size(C_z_scored, cell_contours, for_dims, 0.6, 100)\n",
    "        #store results \n",
    "        #load spatial components by session\n",
    "        com_df, spatial_components = utils_jjm.return_spatial_info(CNMFE_file, 0.6)\n",
    "        cell_contours, for_dims = utils_jjm.create_contour_layouts(spatial_components)\n",
    "        \n",
    "        #store results \n",
    "        grouped_raw_data[tracking_file.split('/')[-2]] = {'C': C_timedelta, 'C_z_scored': C_z_scored, 'C_normalized': C_normalized, 'C_normalized_z_scored': C_normalized_z_scored, \n",
    "                                                          'interpolated' : interpolated, 'com' : com_df, 'spatial_components' : spatial_components, 'cell_contours': cell_contours,  \n",
    "                                                         'for_dims' : for_dims}\n",
    "        success.append((tracking_file.split('/')[-2], CNMFE_file.split('/')[-1]))\n",
    "    except FileNotFoundError:\n",
    "        failed.append(tracking_file)\n",
    "    except OSError:\n",
    "        failed.append(tracking_file)"
   ]
  },
  {
   "cell_type": "markdown",
   "metadata": {},
   "source": [
    "## triggered averaging "
   ]
  },
  {
   "cell_type": "code",
   "execution_count": 11,
   "metadata": {
    "collapsed": false
   },
   "outputs": [
    {
     "name": "stderr",
     "output_type": "stream",
     "text": [
      "/home/jma819/.conda/envs/caiman/lib/python3.6/site-packages/jupyter_client/jsonutil.py:67: DeprecationWarning: Interpreting naive datetime as local 2021-02-11 11:56:06.049392. Please add timezone info to timestamps.\n",
      "  new_obj[k] = extract_dates(v)\n"
     ]
    }
   ],
   "source": [
    "## combine dfs for each session to bin velocity values across dfs\n",
    "#downsample\n",
    "new_sampling_interval = .2\n",
    "V_df = pd.concat([grouped_raw_data[session]['interpolated'].resample(str(new_sampling_interval)+'S').max() \n",
    "                  for session in list(grouped_raw_data.keys())], keys=list(grouped_raw_data.keys()))\n",
    "all_sessions_v_bins = pd.cut(V_df['tail_base'], bins=50)\n",
    "\n",
    "V_df['velocity_bins'] = all_sessions_v_bins"
   ]
  },
  {
   "cell_type": "code",
   "execution_count": 12,
   "metadata": {
    "collapsed": false,
    "scrolled": true
   },
   "outputs": [
    {
     "name": "stderr",
     "output_type": "stream",
     "text": [
      "/home/jma819/.conda/envs/caiman/lib/python3.6/site-packages/jupyter_client/jsonutil.py:67: DeprecationWarning: Interpreting naive datetime as local 2021-02-11 11:56:07.688769. Please add timezone info to timestamps.\n",
      "  new_obj[k] = extract_dates(v)\n"
     ]
    }
   ],
   "source": [
    "#V_df.index"
   ]
  },
  {
   "cell_type": "code",
   "execution_count": 25,
   "metadata": {
    "collapsed": false,
    "scrolled": true
   },
   "outputs": [
    {
     "name": "stderr",
     "output_type": "stream",
     "text": [
      "/home/jma819/.conda/envs/caiman/lib/python3.6/site-packages/jupyter_client/jsonutil.py:67: DeprecationWarning: Interpreting naive datetime as local 2021-02-11 12:05:22.617978. Please add timezone info to timestamps.\n",
      "  new_obj[k] = extract_dates(v)\n"
     ]
    }
   ],
   "source": [
    "filtered_for_analysis = {}\n",
    "for session in list(grouped_raw_data.keys()):\n",
    "    # get indicies of small cells \n",
    "    cells_to_drop = np.array([int(cell) for cell in range(1, len(grouped_raw_data[session]['cell_contours'])+1) if \n",
    "                              len(np.array(np.where(grouped_raw_data[session]['for_dims'][cell]>0.6)[0]))<100])\n",
    "    C_traces_filtered = grouped_raw_data[session]['C_normalized'].drop(cells_to_drop, axis=1)\n",
    "    filtered_for_analysis[session] = C_traces_filtered.drop('msCamFrame', axis=1)\n",
    "\n",
    "# sets sampling interval to 5Hz to correspond to behavior data \n",
    "C_norm_df = pd.concat([filtered_for_analysis[session].resample(str(new_sampling_interval)+'S').max()\n",
    "                  for session in list(filtered_for_analysis.keys())], axis=1, keys=list(filtered_for_analysis.keys()))\n",
    "\n",
    "# after downsampling convert back to regular index, timedelta is behaving oddly \n",
    "C_norm_df_reindexed = pd.concat([C_norm_df[session].reset_index(drop=True)\n",
    "                  for session in list(set(C_norm_df.columns.get_level_values(0)))], axis=1, keys=list(set(C_norm_df.columns.get_level_values(0))))\n",
    "# drop columns with all nan values\n",
    "#C_norm_df_reindexed.dropna(axis=1, how='all', inplace=True)"
   ]
  },
  {
   "cell_type": "code",
   "execution_count": 28,
   "metadata": {
    "collapsed": false
   },
   "outputs": [
    {
     "name": "stderr",
     "output_type": "stream",
     "text": [
      "/home/jma819/.conda/envs/caiman/lib/python3.6/site-packages/jupyter_client/jsonutil.py:67: DeprecationWarning: Interpreting naive datetime as local 2021-02-11 12:05:58.659155. Please add timezone info to timestamps.\n",
      "  new_obj[k] = extract_dates(v)\n"
     ]
    },
    {
     "data": {
      "text/plain": [
       "['GRIN033_H14_M34_S32',\n",
       " 'GRIN032_H16_M49_S22',\n",
       " 'GRIN034_H15_M28_S2',\n",
       " 'GRIN035_H14_M40_S34',\n",
       " 'GRIN032_H17_M30_S22',\n",
       " 'GRIN035_H13_M50_S58',\n",
       " 'GRIN035_H13_M31_S20',\n",
       " 'GRIN039_H12_M26_S54',\n",
       " 'GRIN034_H19_M0_S18',\n",
       " 'GRIN013_H13_M33_S54',\n",
       " 'GRIN033_H13_M42_S33',\n",
       " 'GRIN026_H16_M35_S34',\n",
       " 'GRIN034_H16_M13_S22',\n",
       " 'GRIN027_H13_M29_S44']"
      ]
     },
     "execution_count": 28,
     "metadata": {},
     "output_type": "execute_result"
    }
   ],
   "source": [
    "list(set(C_norm_df.columns.get_level_values(0)))"
   ]
  },
  {
   "cell_type": "code",
   "execution_count": 33,
   "metadata": {
    "collapsed": false
   },
   "outputs": [
    {
     "name": "stderr",
     "output_type": "stream",
     "text": [
      "/home/jma819/.conda/envs/caiman/lib/python3.6/site-packages/jupyter_client/jsonutil.py:67: DeprecationWarning: Interpreting naive datetime as local 2021-02-11 12:07:58.570890. Please add timezone info to timestamps.\n",
      "  new_obj[k] = extract_dates(v)\n"
     ]
    }
   ],
   "source": [
    "# do same for velocity dataframe\n",
    "V_df_reindexed = pd.concat([V_df.loc[session].reset_index()\n",
    "                            for session in list(set(V_df.index.get_level_values(level=0)))], keys=list(set(V_df.index.get_level_values(level=0)))) "
   ]
  },
  {
   "cell_type": "code",
   "execution_count": 34,
   "metadata": {
    "collapsed": false
   },
   "outputs": [
    {
     "name": "stderr",
     "output_type": "stream",
     "text": [
      "/home/jma819/.conda/envs/caiman/lib/python3.6/site-packages/jupyter_client/jsonutil.py:67: DeprecationWarning: Interpreting naive datetime as local 2021-02-11 12:07:59.692016. Please add timezone info to timestamps.\n",
      "  new_obj[k] = extract_dates(v)\n"
     ]
    },
    {
     "data": {
      "text/html": [
       "<div>\n",
       "<style scoped>\n",
       "    .dataframe tbody tr th:only-of-type {\n",
       "        vertical-align: middle;\n",
       "    }\n",
       "\n",
       "    .dataframe tbody tr th {\n",
       "        vertical-align: top;\n",
       "    }\n",
       "\n",
       "    .dataframe thead th {\n",
       "        text-align: right;\n",
       "    }\n",
       "</style>\n",
       "<table border=\"1\" class=\"dataframe\">\n",
       "  <thead>\n",
       "    <tr style=\"text-align: right;\">\n",
       "      <th></th>\n",
       "      <th></th>\n",
       "      <th>level_0</th>\n",
       "      <th>index</th>\n",
       "      <th>miniscope_light</th>\n",
       "      <th>tail_base</th>\n",
       "      <th>ear_left</th>\n",
       "      <th>centroid</th>\n",
       "      <th>ear_right</th>\n",
       "      <th>miniscope_light_likelihood</th>\n",
       "      <th>tail_base_likelihood</th>\n",
       "      <th>ear_left_likelihood</th>\n",
       "      <th>centroid_likelihood</th>\n",
       "      <th>ear_right_likelihood</th>\n",
       "      <th>msCam_index</th>\n",
       "      <th>velocity_bins</th>\n",
       "    </tr>\n",
       "  </thead>\n",
       "  <tbody>\n",
       "    <tr>\n",
       "      <th rowspan=\"5\" valign=\"top\">GRIN033_H14_M34_S32</th>\n",
       "      <th>0</th>\n",
       "      <td>00:00:00</td>\n",
       "      <td>19.115</td>\n",
       "      <td>0.437461</td>\n",
       "      <td>0.237001</td>\n",
       "      <td>0.192086</td>\n",
       "      <td>0.196043</td>\n",
       "      <td>0.179751</td>\n",
       "      <td>1.0</td>\n",
       "      <td>1.0</td>\n",
       "      <td>1.0</td>\n",
       "      <td>1.0</td>\n",
       "      <td>1.0</td>\n",
       "      <td>3.0</td>\n",
       "      <td>(-0.0671, 2.294]</td>\n",
       "    </tr>\n",
       "    <tr>\n",
       "      <th>1</th>\n",
       "      <td>00:00:00.200000</td>\n",
       "      <td>25.135</td>\n",
       "      <td>0.616216</td>\n",
       "      <td>0.228487</td>\n",
       "      <td>0.195881</td>\n",
       "      <td>0.226530</td>\n",
       "      <td>0.178570</td>\n",
       "      <td>1.0</td>\n",
       "      <td>1.0</td>\n",
       "      <td>1.0</td>\n",
       "      <td>1.0</td>\n",
       "      <td>1.0</td>\n",
       "      <td>7.0</td>\n",
       "      <td>(-0.0671, 2.294]</td>\n",
       "    </tr>\n",
       "    <tr>\n",
       "      <th>2</th>\n",
       "      <td>00:00:00.400000</td>\n",
       "      <td>31.155</td>\n",
       "      <td>0.794972</td>\n",
       "      <td>0.219974</td>\n",
       "      <td>0.199676</td>\n",
       "      <td>0.257017</td>\n",
       "      <td>0.177389</td>\n",
       "      <td>1.0</td>\n",
       "      <td>1.0</td>\n",
       "      <td>1.0</td>\n",
       "      <td>1.0</td>\n",
       "      <td>1.0</td>\n",
       "      <td>11.0</td>\n",
       "      <td>(-0.0671, 2.294]</td>\n",
       "    </tr>\n",
       "    <tr>\n",
       "      <th>3</th>\n",
       "      <td>00:00:00.600000</td>\n",
       "      <td>37.175</td>\n",
       "      <td>0.973727</td>\n",
       "      <td>0.211461</td>\n",
       "      <td>0.203471</td>\n",
       "      <td>0.287504</td>\n",
       "      <td>0.176208</td>\n",
       "      <td>1.0</td>\n",
       "      <td>1.0</td>\n",
       "      <td>1.0</td>\n",
       "      <td>1.0</td>\n",
       "      <td>1.0</td>\n",
       "      <td>15.0</td>\n",
       "      <td>(-0.0671, 2.294]</td>\n",
       "    </tr>\n",
       "    <tr>\n",
       "      <th>4</th>\n",
       "      <td>00:00:00.800000</td>\n",
       "      <td>43.195</td>\n",
       "      <td>1.152483</td>\n",
       "      <td>0.202948</td>\n",
       "      <td>0.207266</td>\n",
       "      <td>0.317991</td>\n",
       "      <td>0.175027</td>\n",
       "      <td>1.0</td>\n",
       "      <td>1.0</td>\n",
       "      <td>1.0</td>\n",
       "      <td>1.0</td>\n",
       "      <td>1.0</td>\n",
       "      <td>19.0</td>\n",
       "      <td>(-0.0671, 2.294]</td>\n",
       "    </tr>\n",
       "  </tbody>\n",
       "</table>\n",
       "</div>"
      ],
      "text/plain": [
       "                              level_0   index  miniscope_light  tail_base  \\\n",
       "GRIN033_H14_M34_S32 0        00:00:00  19.115         0.437461   0.237001   \n",
       "                    1 00:00:00.200000  25.135         0.616216   0.228487   \n",
       "                    2 00:00:00.400000  31.155         0.794972   0.219974   \n",
       "                    3 00:00:00.600000  37.175         0.973727   0.211461   \n",
       "                    4 00:00:00.800000  43.195         1.152483   0.202948   \n",
       "\n",
       "                       ear_left  centroid  ear_right  \\\n",
       "GRIN033_H14_M34_S32 0  0.192086  0.196043   0.179751   \n",
       "                    1  0.195881  0.226530   0.178570   \n",
       "                    2  0.199676  0.257017   0.177389   \n",
       "                    3  0.203471  0.287504   0.176208   \n",
       "                    4  0.207266  0.317991   0.175027   \n",
       "\n",
       "                       miniscope_light_likelihood  tail_base_likelihood  \\\n",
       "GRIN033_H14_M34_S32 0                         1.0                   1.0   \n",
       "                    1                         1.0                   1.0   \n",
       "                    2                         1.0                   1.0   \n",
       "                    3                         1.0                   1.0   \n",
       "                    4                         1.0                   1.0   \n",
       "\n",
       "                       ear_left_likelihood  centroid_likelihood  \\\n",
       "GRIN033_H14_M34_S32 0                  1.0                  1.0   \n",
       "                    1                  1.0                  1.0   \n",
       "                    2                  1.0                  1.0   \n",
       "                    3                  1.0                  1.0   \n",
       "                    4                  1.0                  1.0   \n",
       "\n",
       "                       ear_right_likelihood  msCam_index     velocity_bins  \n",
       "GRIN033_H14_M34_S32 0                   1.0          3.0  (-0.0671, 2.294]  \n",
       "                    1                   1.0          7.0  (-0.0671, 2.294]  \n",
       "                    2                   1.0         11.0  (-0.0671, 2.294]  \n",
       "                    3                   1.0         15.0  (-0.0671, 2.294]  \n",
       "                    4                   1.0         19.0  (-0.0671, 2.294]  "
      ]
     },
     "execution_count": 34,
     "metadata": {},
     "output_type": "execute_result"
    }
   ],
   "source": [
    "V_df_reindexed.head()"
   ]
  },
  {
   "cell_type": "code",
   "execution_count": 35,
   "metadata": {
    "collapsed": false
   },
   "outputs": [
    {
     "name": "stderr",
     "output_type": "stream",
     "text": [
      "/home/jma819/.conda/envs/caiman/lib/python3.6/site-packages/jupyter_client/jsonutil.py:67: DeprecationWarning: Interpreting naive datetime as local 2021-02-11 12:08:40.968769. Please add timezone info to timestamps.\n",
      "  new_obj[k] = extract_dates(v)\n"
     ]
    }
   ],
   "source": [
    "#bin by activity threshold (body_part, resting_time_threshold, active_time_threshold, crossing_threshold, resting_threshold, activity_threshold)\n",
    "binned_velocity_df = pd.DataFrame([dlc_utils.bin_by_activity_threshold(V_df.loc[session]['tail_base'], 80, 20, 1, 2, 3)\n",
    "                                for session in list(grouped_raw_data.keys())], index=list(grouped_raw_data.keys()))\n",
    "binned_velocity_df = binned_velocity_df.transpose()"
   ]
  },
  {
   "cell_type": "code",
   "execution_count": 36,
   "metadata": {
    "collapsed": false,
    "scrolled": true
   },
   "outputs": [
    {
     "name": "stderr",
     "output_type": "stream",
     "text": [
      "/home/jma819/.conda/envs/caiman/lib/python3.6/site-packages/jupyter_client/jsonutil.py:67: DeprecationWarning: Interpreting naive datetime as local 2021-02-11 12:08:45.544830. Please add timezone info to timestamps.\n",
      "  new_obj[k] = extract_dates(v)\n"
     ]
    }
   ],
   "source": [
    "#need to make sure x axis from velocity binned df matches axis from grouped raw data "
   ]
  },
  {
   "cell_type": "code",
   "execution_count": 37,
   "metadata": {
    "collapsed": false
   },
   "outputs": [
    {
     "name": "stderr",
     "output_type": "stream",
     "text": [
      "/home/jma819/.conda/envs/caiman/lib/python3.6/site-packages/jupyter_client/jsonutil.py:67: DeprecationWarning: Interpreting naive datetime as local 2021-02-11 12:08:46.634753. Please add timezone info to timestamps.\n",
      "  new_obj[k] = extract_dates(v)\n"
     ]
    },
    {
     "data": {
      "text/html": [
       "<div>\n",
       "<style scoped>\n",
       "    .dataframe tbody tr th:only-of-type {\n",
       "        vertical-align: middle;\n",
       "    }\n",
       "\n",
       "    .dataframe tbody tr th {\n",
       "        vertical-align: top;\n",
       "    }\n",
       "\n",
       "    .dataframe thead th {\n",
       "        text-align: right;\n",
       "    }\n",
       "</style>\n",
       "<table border=\"1\" class=\"dataframe\">\n",
       "  <thead>\n",
       "    <tr style=\"text-align: right;\">\n",
       "      <th></th>\n",
       "      <th>GRIN039_H12_M26_S54</th>\n",
       "      <th>GRIN013_H13_M33_S54</th>\n",
       "      <th>GRIN027_H13_M29_S44</th>\n",
       "      <th>GRIN033_H14_M34_S32</th>\n",
       "      <th>GRIN033_H13_M42_S33</th>\n",
       "      <th>GRIN032_H17_M30_S22</th>\n",
       "      <th>GRIN034_H15_M28_S2</th>\n",
       "      <th>GRIN026_H16_M35_S34</th>\n",
       "      <th>GRIN032_H16_M49_S22</th>\n",
       "      <th>GRIN034_H16_M13_S22</th>\n",
       "      <th>GRIN034_H19_M0_S18</th>\n",
       "      <th>GRIN035_H13_M50_S58</th>\n",
       "      <th>GRIN035_H13_M31_S20</th>\n",
       "      <th>GRIN035_H14_M40_S34</th>\n",
       "    </tr>\n",
       "  </thead>\n",
       "  <tbody>\n",
       "    <tr>\n",
       "      <th>0</th>\n",
       "      <td>0.0</td>\n",
       "      <td>0.0</td>\n",
       "      <td>0.0</td>\n",
       "      <td>0.0</td>\n",
       "      <td>0.0</td>\n",
       "      <td>0.0</td>\n",
       "      <td>0.0</td>\n",
       "      <td>0.0</td>\n",
       "      <td>0.0</td>\n",
       "      <td>0.0</td>\n",
       "      <td>0.0</td>\n",
       "      <td>0.0</td>\n",
       "      <td>0.0</td>\n",
       "      <td>0.0</td>\n",
       "    </tr>\n",
       "    <tr>\n",
       "      <th>1</th>\n",
       "      <td>0.0</td>\n",
       "      <td>0.0</td>\n",
       "      <td>0.0</td>\n",
       "      <td>0.0</td>\n",
       "      <td>0.0</td>\n",
       "      <td>0.0</td>\n",
       "      <td>0.0</td>\n",
       "      <td>0.0</td>\n",
       "      <td>0.0</td>\n",
       "      <td>0.0</td>\n",
       "      <td>0.0</td>\n",
       "      <td>0.0</td>\n",
       "      <td>0.0</td>\n",
       "      <td>0.0</td>\n",
       "    </tr>\n",
       "    <tr>\n",
       "      <th>2</th>\n",
       "      <td>0.0</td>\n",
       "      <td>0.0</td>\n",
       "      <td>0.0</td>\n",
       "      <td>0.0</td>\n",
       "      <td>0.0</td>\n",
       "      <td>0.0</td>\n",
       "      <td>0.0</td>\n",
       "      <td>0.0</td>\n",
       "      <td>0.0</td>\n",
       "      <td>0.0</td>\n",
       "      <td>0.0</td>\n",
       "      <td>0.0</td>\n",
       "      <td>0.0</td>\n",
       "      <td>0.0</td>\n",
       "    </tr>\n",
       "    <tr>\n",
       "      <th>3</th>\n",
       "      <td>0.0</td>\n",
       "      <td>0.0</td>\n",
       "      <td>0.0</td>\n",
       "      <td>0.0</td>\n",
       "      <td>0.0</td>\n",
       "      <td>0.0</td>\n",
       "      <td>0.0</td>\n",
       "      <td>0.0</td>\n",
       "      <td>0.0</td>\n",
       "      <td>0.0</td>\n",
       "      <td>0.0</td>\n",
       "      <td>0.0</td>\n",
       "      <td>0.0</td>\n",
       "      <td>0.0</td>\n",
       "    </tr>\n",
       "    <tr>\n",
       "      <th>4</th>\n",
       "      <td>0.0</td>\n",
       "      <td>0.0</td>\n",
       "      <td>0.0</td>\n",
       "      <td>0.0</td>\n",
       "      <td>0.0</td>\n",
       "      <td>0.0</td>\n",
       "      <td>0.0</td>\n",
       "      <td>0.0</td>\n",
       "      <td>0.0</td>\n",
       "      <td>0.0</td>\n",
       "      <td>0.0</td>\n",
       "      <td>0.0</td>\n",
       "      <td>0.0</td>\n",
       "      <td>0.0</td>\n",
       "    </tr>\n",
       "  </tbody>\n",
       "</table>\n",
       "</div>"
      ],
      "text/plain": [
       "   GRIN039_H12_M26_S54  GRIN013_H13_M33_S54  GRIN027_H13_M29_S44  \\\n",
       "0                  0.0                  0.0                  0.0   \n",
       "1                  0.0                  0.0                  0.0   \n",
       "2                  0.0                  0.0                  0.0   \n",
       "3                  0.0                  0.0                  0.0   \n",
       "4                  0.0                  0.0                  0.0   \n",
       "\n",
       "   GRIN033_H14_M34_S32  GRIN033_H13_M42_S33  GRIN032_H17_M30_S22  \\\n",
       "0                  0.0                  0.0                  0.0   \n",
       "1                  0.0                  0.0                  0.0   \n",
       "2                  0.0                  0.0                  0.0   \n",
       "3                  0.0                  0.0                  0.0   \n",
       "4                  0.0                  0.0                  0.0   \n",
       "\n",
       "   GRIN034_H15_M28_S2  GRIN026_H16_M35_S34  GRIN032_H16_M49_S22  \\\n",
       "0                 0.0                  0.0                  0.0   \n",
       "1                 0.0                  0.0                  0.0   \n",
       "2                 0.0                  0.0                  0.0   \n",
       "3                 0.0                  0.0                  0.0   \n",
       "4                 0.0                  0.0                  0.0   \n",
       "\n",
       "   GRIN034_H16_M13_S22  GRIN034_H19_M0_S18  GRIN035_H13_M50_S58  \\\n",
       "0                  0.0                 0.0                  0.0   \n",
       "1                  0.0                 0.0                  0.0   \n",
       "2                  0.0                 0.0                  0.0   \n",
       "3                  0.0                 0.0                  0.0   \n",
       "4                  0.0                 0.0                  0.0   \n",
       "\n",
       "   GRIN035_H13_M31_S20  GRIN035_H14_M40_S34  \n",
       "0                  0.0                  0.0  \n",
       "1                  0.0                  0.0  \n",
       "2                  0.0                  0.0  \n",
       "3                  0.0                  0.0  \n",
       "4                  0.0                  0.0  "
      ]
     },
     "execution_count": 37,
     "metadata": {},
     "output_type": "execute_result"
    }
   ],
   "source": [
    "binned_velocity_df.head()"
   ]
  },
  {
   "cell_type": "code",
   "execution_count": 40,
   "metadata": {
    "collapsed": false,
    "scrolled": true
   },
   "outputs": [
    {
     "name": "stderr",
     "output_type": "stream",
     "text": [
      "/home/jma819/.conda/envs/caiman/lib/python3.6/site-packages/jupyter_client/jsonutil.py:67: DeprecationWarning: Interpreting naive datetime as local 2021-02-11 12:11:05.740545. Please add timezone info to timestamps.\n",
      "  new_obj[k] = extract_dates(v)\n"
     ]
    },
    {
     "name": "stdout",
     "output_type": "stream",
     "text": [
      "GRIN039_H12_M26_S54\n",
      "GRIN013_H13_M33_S54\n",
      "GRIN027_H13_M29_S44\n",
      "GRIN033_H14_M34_S32\n",
      "GRIN033_H13_M42_S33\n",
      "GRIN032_H17_M30_S22\n",
      "GRIN034_H15_M28_S2\n",
      "GRIN026_H16_M35_S34\n",
      "GRIN032_H16_M49_S22\n",
      "GRIN034_H16_M13_S22\n",
      "GRIN034_H19_M0_S18\n",
      "GRIN035_H13_M50_S58\n",
      "GRIN035_H13_M31_S20\n",
      "GRIN035_H14_M40_S34\n"
     ]
    }
   ],
   "source": [
    "regions_by_session = {}\n",
    "to_concat = []\n",
    "for session in list(grouped_raw_data.keys()):\n",
    "    # gets indicies where animal crosses a velocity threshold\n",
    "    crossing_indicies = [sample for sample in utils_jjm.select_trigger_regions(binned_velocity_df[session], 0.5, 0.5, 20) if sample<len(C_norm_df_reindexed[session])]\n",
    "    # for each cell average the basseline ~10 seconds before crossing the velocity threshold    \n",
    "    if len(crossing_indicies)>0:\n",
    "        print(session)\n",
    "        movement_regions_in_recording = {}\n",
    "        # only include samples that are within range of miniscope data\n",
    "        for sample in crossing_indicies:\n",
    "            raw_data_to_baseline = C_norm_df_reindexed[session]\n",
    "\n",
    "            # so say baseline is 80 samples to 20 samples before threshold\n",
    "            baseline_region = raw_data_to_baseline[sample-80:sample-20].reset_index(drop=True)\n",
    "            movement_region = raw_data_to_baseline[sample-80:sample+80].reset_index(drop=True)\n",
    "\n",
    "            baseline_region_std_dev = baseline_region.std(axis=0)\n",
    "            baseline_region_mean = baseline_region.mean(axis=0)\n",
    "\n",
    "            movement_region_z_scored = pd.DataFrame((movement_region-baseline_region_mean.values)/baseline_region_std_dev)\n",
    "    \n",
    "            movement_regions_in_recording[sample] = movement_region_z_scored\n",
    "        regions_by_session[session] = pd.concat(movement_regions_in_recording, axis=1, keys=crossing_indicies)\n",
    "        to_concat.append(session)\n",
    "    \n",
    "z_scored_regions_by_session = pd.concat(list(regions_by_session.values()), axis=1, keys=to_concat)"
   ]
  },
  {
   "cell_type": "code",
   "execution_count": 80,
   "metadata": {
    "collapsed": false,
    "scrolled": true
   },
   "outputs": [
    {
     "name": "stdout",
     "output_type": "stream",
     "text": [
      "session: GRIN013_H13_M33_S54\n",
      "threshold crossing indicies: [2042 4484]\n",
      "cell indicies: [1, 2, 3, 4, 6, 7, 8, 9, 10, 11, 12, 13, 14, 15, 16, 17, 18, 19, 20, 21, 22, 23, 24, 25, 26, 27, 28, 29, 30, 31, 32, 33, 34, 35, 36, 37]\n"
     ]
    },
    {
     "name": "stderr",
     "output_type": "stream",
     "text": [
      "/home/jma819/.conda/envs/caiman/lib/python3.6/site-packages/jupyter_client/jsonutil.py:67: DeprecationWarning: Interpreting naive datetime as local 2021-02-11 12:50:55.221577. Please add timezone info to timestamps.\n",
      "  new_obj[k] = extract_dates(v)\n"
     ]
    }
   ],
   "source": [
    "session = to_concat[1]\n",
    "session_df = z_scored_regions_by_session[session]\n",
    "sample_crossing_indicies = np.array([sample_idx for sample_idx in session_df.columns.levels[0] if sample_idx in session_df.columns])\n",
    "print('session:', session)\n",
    "print('threshold crossing indicies:' , sample_crossing_indicies)\n",
    "print('cell indicies:' , list(set(z_scored_regions_by_session[session].columns.get_level_values(1))))"
   ]
  },
  {
   "cell_type": "code",
   "execution_count": 83,
   "metadata": {
    "collapsed": false
   },
   "outputs": [
    {
     "name": "stdout",
     "output_type": "stream",
     "text": [
      "sample: 4484\n",
      "time of sample: 0 days 00:14:56.800000\n",
      "time of sample in seconds: 896.8\n",
      "behavCam video: 17\n",
      "time of event in video: 46.799999999999955\n"
     ]
    },
    {
     "name": "stderr",
     "output_type": "stream",
     "text": [
      "/home/jma819/.conda/envs/caiman/lib/python3.6/site-packages/jupyter_client/jsonutil.py:67: DeprecationWarning: Interpreting naive datetime as local 2021-02-11 12:52:51.040830. Please add timezone info to timestamps.\n",
      "  new_obj[k] = extract_dates(v)\n"
     ]
    }
   ],
   "source": [
    "##check accuracy of threshold crossing trigger\n",
    "# each behavCam movie is 50 seconds, at 30fps\n",
    "\n",
    "sample = sample_crossing_indicies[1]\n",
    "time_of_sample = V_df_reindexed.loc[session]['level_0'][sample]\n",
    "total_seconds = time_of_sample.total_seconds()\n",
    "behav_Cam = int(np.floor(total_seconds/50))\n",
    "time_of_event_in_video = total_seconds-(behav_Cam*50)\n",
    "print('sample:', sample)\n",
    "print('time of sample:', time_of_sample)\n",
    "print('time of sample in seconds:', total_seconds)\n",
    "print('behavCam video:', behav_Cam)\n",
    "print('time of event in video:', time_of_event_in_video)"
   ]
  },
  {
   "cell_type": "code",
   "execution_count": 64,
   "metadata": {
    "collapsed": false,
    "scrolled": true
   },
   "outputs": [
    {
     "name": "stderr",
     "output_type": "stream",
     "text": [
      "/home/jma819/.conda/envs/caiman/lib/python3.6/site-packages/jupyter_client/jsonutil.py:67: DeprecationWarning: Interpreting naive datetime as local 2021-02-11 12:39:25.910398. Please add timezone info to timestamps.\n",
      "  new_obj[k] = extract_dates(v)\n"
     ]
    },
    {
     "data": {
      "text/plain": [
       "219.4"
      ]
     },
     "execution_count": 64,
     "metadata": {},
     "output_type": "execute_result"
    }
   ],
   "source": [
    "V_df_reindexed.loc[session]['level_0'][1097].total_seconds()"
   ]
  },
  {
   "cell_type": "code",
   "execution_count": 70,
   "metadata": {
    "collapsed": false,
    "scrolled": false
   },
   "outputs": [
    {
     "name": "stderr",
     "output_type": "stream",
     "text": [
      "/home/jma819/.conda/envs/caiman/lib/python3.6/site-packages/jupyter_client/jsonutil.py:67: DeprecationWarning: Interpreting naive datetime as local 2021-02-11 12:41:28.228166. Please add timezone info to timestamps.\n",
      "  new_obj[k] = extract_dates(v)\n"
     ]
    },
    {
     "data": {
      "image/png": "[encoded data removed]",
      "text/plain": [
       "<Figure size 432x288 with 3 Axes>"
      ]
     },
     "metadata": {
      "needs_background": "light"
     },
     "output_type": "display_data"
    },
    {
     "name": "stdout",
     "output_type": "stream",
     "text": [
      "RMS noise: 1.4600810100255637\n",
      "Peak: 8.572839640344696\n",
      "Peak/RMS: 5.871482185905973\n"
     ]
    }
   ],
   "source": [
    "##plot individual cell activity\n",
    "#raw \"pre z score\" region\n",
    "#zscores\n",
    "#velocity\n",
    "cell = 4\n",
    "fig, (ax1, ax2, ax3) = plt.subplots(3)\n",
    "ax1.plot(C_norm_df_reindexed[session][cell][sample-80:sample+80]) \n",
    "ax2.plot(z_scored_regions_by_session[session][sample][cell])\n",
    "ax3.plot(V_df_reindexed.loc[session]['tail_base'][sample-80:sample+80]) \n",
    "plt.subplots_adjust(hspace=1)\n",
    "plt.show()\n",
    "\n",
    "#display rms noise for trace \n",
    "rms = np.sqrt(np.mean(np.square(z_scored_regions_by_session[session][sample][cell])))\n",
    "peak = np.max(z_scored_regions_by_session[session][sample][cell])\n",
    "print('RMS noise:', rms)\n",
    "print('Peak:', peak)\n",
    "print('Peak/RMS:', peak/rms)"
   ]
  },
  {
   "cell_type": "code",
   "execution_count": 45,
   "metadata": {
    "collapsed": false
   },
   "outputs": [
    {
     "name": "stderr",
     "output_type": "stream",
     "text": [
      "/home/jma819/.conda/envs/caiman/lib/python3.6/site-packages/jupyter_client/jsonutil.py:67: DeprecationWarning: Interpreting naive datetime as local 2021-02-11 12:12:27.404739. Please add timezone info to timestamps.\n",
      "  new_obj[k] = extract_dates(v)\n"
     ]
    }
   ],
   "source": [
    "## plot cell contour \n",
    "# \"spatial components\", or \"A\" as dense matrix \n",
    "cell_contour = grouped_raw_data[session]['spatial_components'][:, cell]\n",
    "# create movie\n",
    "frame_range = [0, len(z_scored_regions_by_session[session][sample][cell])]\n",
    "frame_range[1]\n",
    "#dims=(752, 480)\n",
    "d1 = 752\n",
    "d2 = 480\n",
    "A_cell_reshaped = np.reshape(cell_contour, (d2, d1))\n",
    "C_cell_trace = z_scored_regions_by_session[session][sample][cell]\n",
    "response_movie = np.array([np.dot(A_cell_reshaped, C_cell_trace[frame]) for frame in range(frame_range[0], frame_range[1])])"
   ]
  },
  {
   "cell_type": "code",
   "execution_count": 46,
   "metadata": {
    "collapsed": false
   },
   "outputs": [
    {
     "name": "stderr",
     "output_type": "stream",
     "text": [
      "/home/jma819/.conda/envs/caiman/lib/python3.6/site-packages/jupyter_client/jsonutil.py:67: DeprecationWarning: Interpreting naive datetime as local 2021-02-11 12:12:28.636386. Please add timezone info to timestamps.\n",
      "  new_obj[k] = extract_dates(v)\n"
     ]
    }
   ],
   "source": [
    "## plot responses of all cells during movement events\n",
    "all_cell_contours = grouped_raw_data[session]['spatial_components'][:, :]"
   ]
  },
  {
   "cell_type": "code",
   "execution_count": 47,
   "metadata": {
    "collapsed": false
   },
   "outputs": [
    {
     "name": "stderr",
     "output_type": "stream",
     "text": [
      "/home/jma819/.conda/envs/caiman/lib/python3.6/site-packages/jupyter_client/jsonutil.py:67: DeprecationWarning: Interpreting naive datetime as local 2021-02-11 12:12:29.529393. Please add timezone info to timestamps.\n",
      "  new_obj[k] = extract_dates(v)\n",
      "100%|██████████| 36/36 [00:38<00:00,  1.12s/it]\n"
     ]
    }
   ],
   "source": [
    "#using RGBA for color, each pixel has 3 values for RBG and last for intensity \n",
    "cells_reshaped = np.empty((np.shape(all_cell_contours)[1], frame_range[1], d2, d1))\n",
    "#cells_reshaped_color = np.empty((np.shape(all_cell_contours)[1], frame_range[1], d2, d1, 4))\n",
    "for cell in tqdm(list(set(z_scored_regions_by_session[session].columns.get_level_values(1)))):\n",
    "    A_reshaped = np.reshape(all_cell_contours[:, cell], (d2, d1))\n",
    "    #cell_frames = []\n",
    "    #for frame in range(frame_range[0], frame_range[1]):\n",
    "        #cell_frames.append(np.array([np.dot(A_reshaped, item) for item in [255, 128, 0, z_scored_regions_by_session[session][sample][cell][frame]]]))\n",
    "    cells_reshaped[cell] = np.array([np.dot(A_reshaped, z_scored_regions_by_session[session][sample][cell][frame]) for frame in range(frame_range[0], frame_range[1])])"
   ]
  },
  {
   "cell_type": "code",
   "execution_count": 49,
   "metadata": {
    "collapsed": false
   },
   "outputs": [
    {
     "name": "stderr",
     "output_type": "stream",
     "text": [
      "/home/jma819/.conda/envs/caiman/lib/python3.6/site-packages/jupyter_client/jsonutil.py:67: DeprecationWarning: Interpreting naive datetime as local 2021-02-11 12:17:09.185104. Please add timezone info to timestamps.\n",
      "  new_obj[k] = extract_dates(v)\n"
     ]
    }
   ],
   "source": [
    "cells_recombined = np.sum(cells_reshaped, axis=0)\n",
    "response_movie = np.sum(response_movie, axis=0)"
   ]
  },
  {
   "cell_type": "code",
   "execution_count": 50,
   "metadata": {
    "collapsed": false
   },
   "outputs": [
    {
     "name": "stderr",
     "output_type": "stream",
     "text": [
      "/home/jma819/.conda/envs/caiman/lib/python3.6/site-packages/jupyter_client/jsonutil.py:67: DeprecationWarning: Interpreting naive datetime as local 2021-02-11 12:17:15.422873. Please add timezone info to timestamps.\n",
      "  new_obj[k] = extract_dates(v)\n"
     ]
    },
    {
     "ename": "RuntimeError",
     "evalue": "Requested MovieWriter (ffmpeg) not available",
     "output_type": "error",
     "traceback": [
      "\u001b[0;31m---------------------------------------------------------------------------\u001b[0m",
      "\u001b[0;31mKeyError\u001b[0m                                  Traceback (most recent call last)",
      "\u001b[0;32m~/.conda/envs/caiman/lib/python3.6/site-packages/matplotlib/animation.py\u001b[0m in \u001b[0;36m__getitem__\u001b[0;34m(self, name)\u001b[0m\n\u001b[1;32m    160\u001b[0m         \u001b[0;32mtry\u001b[0m\u001b[0;34m:\u001b[0m\u001b[0;34m\u001b[0m\u001b[0;34m\u001b[0m\u001b[0m\n\u001b[0;32m--> 161\u001b[0;31m             \u001b[0;32mreturn\u001b[0m \u001b[0mself\u001b[0m\u001b[0;34m.\u001b[0m\u001b[0mavail\u001b[0m\u001b[0;34m[\u001b[0m\u001b[0mname\u001b[0m\u001b[0;34m]\u001b[0m\u001b[0;34m\u001b[0m\u001b[0;34m\u001b[0m\u001b[0m\n\u001b[0m\u001b[1;32m    162\u001b[0m         \u001b[0;32mexcept\u001b[0m \u001b[0mKeyError\u001b[0m\u001b[0;34m:\u001b[0m\u001b[0;34m\u001b[0m\u001b[0;34m\u001b[0m\u001b[0m\n",
      "\u001b[0;31mKeyError\u001b[0m: 'ffmpeg'",
      "\nDuring handling of the above exception, another exception occurred:\n",
      "\u001b[0;31mRuntimeError\u001b[0m                              Traceback (most recent call last)",
      "\u001b[0;32m<ipython-input-50-bbd6a5fd6b92>\u001b[0m in \u001b[0;36m<module>\u001b[0;34m\u001b[0m\n\u001b[1;32m     19\u001b[0m \u001b[0;34m\u001b[0m\u001b[0m\n\u001b[1;32m     20\u001b[0m \u001b[0;31m## need ffmpeg on quest\u001b[0m\u001b[0;34m\u001b[0m\u001b[0;34m\u001b[0m\u001b[0;34m\u001b[0m\u001b[0m\n\u001b[0;32m---> 21\u001b[0;31m \u001b[0mHTML\u001b[0m\u001b[0;34m(\u001b[0m\u001b[0manim\u001b[0m\u001b[0;34m.\u001b[0m\u001b[0mto_html5_video\u001b[0m\u001b[0;34m(\u001b[0m\u001b[0;34m)\u001b[0m\u001b[0;34m)\u001b[0m\u001b[0;34m\u001b[0m\u001b[0;34m\u001b[0m\u001b[0m\n\u001b[0m",
      "\u001b[0;32m~/.conda/envs/caiman/lib/python3.6/site-packages/matplotlib/animation.py\u001b[0m in \u001b[0;36mto_html5_video\u001b[0;34m(self, embed_limit)\u001b[0m\n\u001b[1;32m   1337\u001b[0m                 \u001b[0;31m# We create a writer manually so that we can get the\u001b[0m\u001b[0;34m\u001b[0m\u001b[0;34m\u001b[0m\u001b[0;34m\u001b[0m\u001b[0m\n\u001b[1;32m   1338\u001b[0m                 \u001b[0;31m# appropriate size for the tag\u001b[0m\u001b[0;34m\u001b[0m\u001b[0;34m\u001b[0m\u001b[0;34m\u001b[0m\u001b[0m\n\u001b[0;32m-> 1339\u001b[0;31m                 \u001b[0mWriter\u001b[0m \u001b[0;34m=\u001b[0m \u001b[0mwriters\u001b[0m\u001b[0;34m[\u001b[0m\u001b[0mrcParams\u001b[0m\u001b[0;34m[\u001b[0m\u001b[0;34m'animation.writer'\u001b[0m\u001b[0;34m]\u001b[0m\u001b[0;34m]\u001b[0m\u001b[0;34m\u001b[0m\u001b[0;34m\u001b[0m\u001b[0m\n\u001b[0m\u001b[1;32m   1340\u001b[0m                 writer = Writer(codec='h264',\n\u001b[1;32m   1341\u001b[0m                                 \u001b[0mbitrate\u001b[0m\u001b[0;34m=\u001b[0m\u001b[0mrcParams\u001b[0m\u001b[0;34m[\u001b[0m\u001b[0;34m'animation.bitrate'\u001b[0m\u001b[0;34m]\u001b[0m\u001b[0;34m,\u001b[0m\u001b[0;34m\u001b[0m\u001b[0;34m\u001b[0m\u001b[0m\n",
      "\u001b[0;32m~/.conda/envs/caiman/lib/python3.6/site-packages/matplotlib/animation.py\u001b[0m in \u001b[0;36m__getitem__\u001b[0;34m(self, name)\u001b[0m\n\u001b[1;32m    162\u001b[0m         \u001b[0;32mexcept\u001b[0m \u001b[0mKeyError\u001b[0m\u001b[0;34m:\u001b[0m\u001b[0;34m\u001b[0m\u001b[0;34m\u001b[0m\u001b[0m\n\u001b[1;32m    163\u001b[0m             raise RuntimeError(\n\u001b[0;32m--> 164\u001b[0;31m                 'Requested MovieWriter ({}) not available'.format(name))\n\u001b[0m\u001b[1;32m    165\u001b[0m \u001b[0;34m\u001b[0m\u001b[0m\n\u001b[1;32m    166\u001b[0m \u001b[0;34m\u001b[0m\u001b[0m\n",
      "\u001b[0;31mRuntimeError\u001b[0m: Requested MovieWriter (ffmpeg) not available"
     ]
    }
   ],
   "source": [
    "## plot individual cell activity \n",
    "# np array with shape (frames, height, width, channels)\n",
    "video = cells_recombined\n",
    "\n",
    "fig = plt.figure()\n",
    "im = plt.imshow(video[0,:,:], cmap='gray', vmin=0, vmax=255)\n",
    "\n",
    "plt.close() # this is required to not display the generated image\n",
    "\n",
    "def init():\n",
    "    im.set_data(video[0,:,:])\n",
    "\n",
    "def animate(i):\n",
    "    im.set_data(video[i,:,:])\n",
    "    return im\n",
    "\n",
    "anim = animation.FuncAnimation(fig, animate, init_func=init, frames=video.shape[0],\n",
    "                               interval=50)\n",
    "\n",
    "## need ffmpeg on quest\n",
    "HTML(anim.to_html5_video())"
   ]
  },
  {
   "cell_type": "code",
   "execution_count": 80,
   "metadata": {
    "collapsed": false
   },
   "outputs": [
    {
     "data": {
      "text/html": [
       "<video width=\"432\" height=\"288\" controls autoplay loop>\n",
       "  <source type=\"video/mp4\" src=\"data:video/mp4;base64,AAAAIGZ0eXBNNFYgAAACAE00ViBpc29taXNvMmF2YzEAAAAIZnJlZQAANKJtZGF0AAACrwYF//+r\n",
       "3EXpvebZSLeWLNgg2SPu73gyNjQgLSBjb3JlIDE2MSByMzAzME0gOGJkNmQyOCAtIEguMjY0L01Q\n",
       "RUctNCBBVkMgY29kZWMgLSBDb3B5bGVmdCAyMDAzLTIwMjAgLSBodHRwOi8vd3d3LnZpZGVvbGFu\n",
       "Lm9yZy94MjY0Lmh0bWwgLSBvcHRpb25zOiBjYWJhYz0xIHJlZj0zIGRlYmxvY2s9MTowOjAgYW5h\n",
       "bHlzZT0weDM6MHgxMTMgbWU9aGV4IHN1Ym1lPTcgcHN5PTEgcHN5X3JkPTEuMDA6MC4wMCBtaXhl\n",
       "ZF9yZWY9MSBtZV9yYW5nZT0xNiBjaHJvbWFfbWU9MSB0cmVsbGlzPTEgOHg4ZGN0PTEgY3FtPTAg\n",
       "ZGVhZHpvbmU9MjEsMTEgZmFzdF9wc2tpcD0xIGNocm9tYV9xcF9vZmZzZXQ9LTIgdGhyZWFkcz05\n",
       "IGxvb2thaGVhZF90aHJlYWRzPTEgc2xpY2VkX3RocmVhZHM9MCBucj0wIGRlY2ltYXRlPTEgaW50\n",
       "ZXJsYWNlZD0wIGJsdXJheV9jb21wYXQ9MCBjb25zdHJhaW5lZF9pbnRyYT0wIGJmcmFtZXM9MyBi\n",
       "X3B5cmFtaWQ9MiBiX2FkYXB0PTEgYl9iaWFzPTAgZGlyZWN0PTEgd2VpZ2h0Yj0xIG9wZW5fZ29w\n",
       "PTAgd2VpZ2h0cD0yIGtleWludD0yNTAga2V5aW50X21pbj0yMCBzY2VuZWN1dD00MCBpbnRyYV9y\n",
       "ZWZyZXNoPTAgcmNfbG9va2FoZWFkPTQwIHJjPWNyZiBtYnRyZWU9MSBjcmY9MjMuMCBxY29tcD0w\n",
       "LjYwIHFwbWluPTAgcXBtYXg9NjkgcXBzdGVwPTQgaXBfcmF0aW89MS40MCBhcT0xOjEuMDAAgAAA\n",
       "CONliIQAP//+92ifAptaQ3qA5JXFJdtPgf+rZ3B8j+kDAAADAACurHPopkgYXevGAAJuAAVsciuP\n",
       "n8epf8wC8KgwNdf2RuObVNLQOiWEli48fSv1bjVWqei8CVh2yeAiAuoAyPJx4lEuhJH6WE6OSSd+\n",
       "ypCwEfiJvE41cZhxnRmSJyCkq1B5GQMkmpKVfPP2zckLeFAWwV7Z/w/0NNbTb7xntD44irFafk1m\n",
       "rg9JiHCNwHGz5n+tnaWtGoO2OAAw3fpZDhkXTjj3ikvuYKB2ytAZo+IVnVKZlOXouipDGvXtiu2m\n",
       "VIC/D8xddd7U+RJJBbVH08cNzK6dqxxXwAWETu1n/f6w13E/RZpQ1HZe+V0c+T7i7Q0+4cMAoXj6\n",
       "bNFEOsvhNykwqW/B348Qt24boPPXZn2RzO/RCjF4hn8XPV/SX64iBR1dM/3aRBFDO4cv00xwXk22\n",
       "05i0c8P8Cfur2aLneJ4cyvIkTdpC+5ZJGZra5gyjlhFtdgqA60ruuIXZZ5OoiDfBQrnOHGJv4EWR\n",
       "3qH58qVujd2ijDblI4cGGKKd2c0fFCM7Gg63h9v1go+fLiXYN+u8MsZOYqiJezfA+w1CrK4IrBnK\n",
       "glYSiuSyRFWNc9DLL9wdvGTHYgLZLoG2zVO1liz1EwEUZZHkXoEwG8lvC1WbWe8q1urXm4W5gFNP\n",
       "tFG4FqyE+7bURtN5ZSKeslgUnw/uYKKTwnCAUh4dwBux2mIL8HHH1wqVsU/ucJ8quBwJgn9bi7Wc\n",
       "5DgYGe8gMq/KMrt1BP2BF8E/A742cnlropggUS9jPP1hL6JnHBtK4Nv9Q4lpe/QPRhwEfLohF3VQ\n",
       "LFE1PbilhVpL5uEdwpD7OrjGn0OEzVRcuTocjmuOD7Xbe73+LtcDxFPnOaCKw6CT7LWqlMnLYm8w\n",
       "JJ9W18TVZNQqEQLUztVlRCLV2ZlqG9Ti4+o7vvLD429W80PQXTPpNZRdNV+brN1pZ07k3kPtY/kD\n",
       "fRYAH8ExATTesYZ2JhpyZl43JB2d9UkcmpvcFH98OzhMbNi4X5TEqp8rvN6M0tNquBOO+BtLoxxB\n",
       "XjKNQiRKhD6i9bDWjxQx0a+agSOIoRuvs0urOyY0qVpOlOwvzmxSX5rgfKOINiAQmDBgULYhFvrp\n",
       "qtRCFVBXgoOit4bkcVzvhdKUPhnI77gES3AZHMielBLfWzJlSscukHgiLC0HoziAjpNvSaYJxq2Q\n",
       "IcU7mCCOKwnJywoR1FI/Tktg7fsalmUOVHaid2dPkDiCSB2vqySqZwpp3SdeSNtv8Qktfc89Ald9\n",
       "DY+Q2qdXu0V0+Z8ZEszBvNNm1/f7V3f0rIdc1VRn2SMcgMtw/mD8HyJCeFBMchgw6y2m2EjKzkVx\n",
       "8XQMH4z33zcQPhaQHpipQG6wiG06adWzZ+SYYhLPfSi0NcXcsnXezR/W2/FPPuIRwISj9CBmobgt\n",
       "r2jUvI7SNcEXjlTmaecdyP62x/pRJ85Fycr+QytcI5i8HRhNcA89zMEPlZXU/YglKWU/GLcJpfSZ\n",
       "+IUykcpoE9Sh72zrVUBoP1MHCC0igLrzmLFDdBaQ9wi9OAG+HqwzG5OAgdGtaBgwyYB779C5CONA\n",
       "gjNxmsWH9wxTsUYwBafdtNK/KM354hooNDP1zbA0lS35R6RRof//BG4z+R9LDvTSZ/DwwdvsIkNt\n",
       "C7u6YuUGKwbnwzjQ2VpVTT61ycDuv8+2igTUeUbtcOX0yR0GPmjBL6TagATCWq6+VvuiLynTtTH6\n",
       "5YiR0KSWEcYfT+HXWwrGIShNddMo+X2fm2P4ccmnWCpXwaO15VMNXq0CCYpL5QUaQ1H/6xAini/I\n",
       "4jIN/rvA+1krUgLSHJgpS9zhK2BYGTvP+erHNodJSfTBm+bUydvXivXEsz/4rcZgEzzUUevZ8IBe\n",
       "PapilqI9+gkYZgBrMlWkZ1h6nkqvSOmKTai/usClKSGeLT/TTi5Fh/CvdE5Tauu79/VM4Z5wAYfy\n",
       "cQ7gtDhEPw0VvZSuwScFz+t/4+GZ+KFaxxouEq518C2MF5tZElIMgLrK3P1rGNVl9cDSctUPzK1o\n",
       "F9YUwNJXtFu6E91EjEGLzZV9jPYlC1nWrK6Ai08J5+HQSN572eJUm1LFaFWSHNdE2ZVRtJY1KXeB\n",
       "fiG0yztPSRgSIuifkAdNUJ7rkq2/JacRMsXWkxOC5c6+sTffzv76/DBN8KiUnaRS5oMN8C60hyJO\n",
       "FL+PWfoBlGR3VPGHLmr8GEIOsnSPZmPtqRtz2uVpUAXK4ZSLv357L5V+pPdGrrv/Wh8a11NoZYlj\n",
       "GCNpJbcAH3tnijTO1zpzh4dDB14pC8k8igNq5kV+FjscOsZ8PNHgzrOaS/+//5mY8SCBWtLsX4HF\n",
       "+Vk7pBfDw85zX/BEqAHAe6AmikLFd7ucCzvBUKoExnYE4rfnJ4AZVW98R/92lCDXKv0J1/MijKEH\n",
       "ZY1A1GIPi0Hm4EnhyAOkQ9BZF0rM2PVUQFX+b3D8vDBZHQtk/BzwsLCQq04sU0paCtT4fiQWXzSf\n",
       "vFVau0eirGy+AoT3pR3lpYkKGHcmciP6UPakuOEGHAgdl2gJpiuPfd76klYSv+BTlY2XncVQP3f1\n",
       "bT74lCvtVQCgsWAFtXZRc1vmzVd2O1SHUEDFrxS+ikXope4NGXdebeLZm5drhop/Yy1pNzK5/eVR\n",
       "v6Gqytetqvb5sDMct2vrfWzSQAmzE3dk7rWOItu6b2paKLM2dmRkRuzMpvtoM1+95KlY+niWmo8W\n",
       "xoGvzqIODoxFXLq/cNnEQHh5Iln/4QvlUgza57lVdkUzyfFNTgjQeLg2wVvXqftcrOdPvtmV2OPV\n",
       "+rgZPZ+mQNbn2VjLGfWqBhO27TctJT6iNthE62etfMwGmHc6pp+BuWrIfnihCvAzd1N8aCv+WVvQ\n",
       "T3ZWsO7vnkHCo2kh0Tg+aZ46nlSgMzudH/TgFyJOGwF/R7kCg4wKI42BUL5pRDQlay9beMstQlM9\n",
       "tee1NpoyWcdsmURhgQVXWDD2s88fjD6ONmNNtSjoDdFyjgxnZcH48surZeAAAAMAAAMAAMyBAAAA\n",
       "pUGaJGxD//6plgAMsc83hw7oAoCRMmvAE6+JZyqyD7xxUpEuYWMpCp5w721IX3DA2zD4/5rkoCbu\n",
       "/lx5me2iuCX2rMQnwrSUcRmeVp+O1npNigZQU7dnPO2mASn8fD/n61wkC7EBQ6znnCQFOaUwXwzR\n",
       "esHzb+4OZJgC9PC3Gq6HskWE8VCseso80BnCe0cZreFK7Y24Cz81ECk2gjn6PKHAIABFwAAAACNB\n",
       "nkJ4hn8ABl90e+ubb2tO2RNTm27E2UzGuH8ZxoqNcEkwIQAAAB0BnmF0Qr8AC+/uvq+rztPtOxw2\n",
       "g03GsPa1FPxiwAAAABoBnmNqQr8AC/OhmnCyPAWeo9j3Aq59Z1wbMQAAAFJBmmhJqEFomUwIf//+\n",
       "qZYADLA7q64h4AJejmH/jmPhAUBeUZe5mfWNIEMa09d+eQDKpz/E6wAkuqs42UVozovMH6CWV/9t\n",
       "3ysXqm9Y8OWI2dapAAAAKEGehkURLDP/AArJfKt3i27Xo4OJeQ/m1sxyW2Vq162As4XShZeOBd0A\n",
       "AAAXAZ6ldEK/ABPkxYK2PC74RXHkozcsMWEAAAAdAZ6nakK/AAvzoZpXVlnZ08rGhUm7HYK2pOSt\n",
       "AR8AAABGQZqsSahBbJlMCH///qmWAAy3xi1H6mqAUmEtEOOo4qUtdW7ldrrY4GY3PKhJNAYRMV+3\n",
       "4sDYSc/Gdu7P/cqbC4/vblYbKAAAADBBnspFFSwz/wAGcYbGWrRr4tecs3o1hHfFICgpi5M/b6Gw\n",
       "6uHsxXLLg5QBOz+ag7sAAAAqAZ7pdEK/ABR0xVa2P7Dhm4u3pPXjT3AAJbxvr3mAAzM1UiAL5q7Q\n",
       "fuG9AAAAHQGe62pCvwAL86GaV2Rmq5LTaQ8eEHgNtHANuAsoAAAAPEGa8EmoQWyZTAh///6plgAM\n",
       "suj7+fcYI2rtQDzI5jrD5vbVYKbiPVNQsJ9Imp8/5OsF9QfQ26zoRmzDuQAAADlBnw5FFSwz/wAL\n",
       "E/+N9NpeOnV8qF694AJjU2tXEtaJkh4yVAmfN7I3IuJ+1evSVbkd5GsOLgAgqmEAAAAdAZ8tdEK/\n",
       "ABPkxUUbumUDqAZQ7l4FuAff0viIN20AAAAgAZ8vakK/ABR2orI3gHWsIqJsFPl3QSj0JonCm1rY\n",
       "XugAAAAvQZs0SahBbJlMCH///qmWAAylzaBrDFu0ERSaCCz9YL6fg/yFaXkdkWD/ls7Sf4AAAAAq\n",
       "QZ9SRRUsM/8ABjecvdfX8ZcmnwDgwUnNWANtwWKg11LAxWq89p4Chgj5AAAAIwGfcXRCvwALomZS\n",
       "27Aesj1qIntA5W/LSLUGuDvSI9CQmYj4AAAAGgGfc2pCvwALpYMYfmL6PnYI5B2rY4kZSMqAAAAA\n",
       "LEGbeEmoQWyZTAh///6plgAGg90rtxzeaAUhJpSPWrHs0Pz3dha5qWD4vLk/AAAAF0GflkUVLDP/\n",
       "AAZJh2xfTB7lTq1M2yuwAAAAFgGftXRCvwALomUgCN5VO1kRlTGwLqkAAAAaAZ+3akK/AAulhG6u\n",
       "KboRrfq68FIojB5xxn0AAABNQZu8SahBbJlMCH///qmWAAZ6aiwAaxJFDT61O1FhLU+8SrOxgAyP\n",
       "cG9NrscX+0vTecbJSIHAb/jN4Qx8NZxgRuH4VICS03LRwiemxJcAAABBQZ/aRRUsM/8ABkmHiakD\n",
       "AgQqGFMxK8L6IBj/HS/o1TN9D/RX5F+imJygcbCMijNFhouYBn62L8mUkOpU3LNICTkAAAAfAZ/5\n",
       "dEK/AAuiZlcI8gSS19iFupvD4541W5c3Bl20EAAAACgBn/tqQr8AC6WEaRYVAiQkg17CwSvY/T9j\n",
       "wCCbTzlFmYWGccZmXumBAAAAS0Gb4EmoQWyZTAh///6plgAGej/7aAKCr34mJ3MxSIIHeQHKyQ7B\n",
       "mAB5xg1dDu4JGfxEj5EGKuubzrUNyPVjoamweHeFfFIJ6t7JMwAAAEdBnh5FFSwz/wAGSYd3RE8u\n",
       "hL1Dy/62EBDL4hy2aCsi65M9Ct9OsR6yLsR8X+E1SrLmipcE6QwlyUl1qZMSGLkd/eoczMh4uAAA\n",
       "ACMBnj10Qr8AC6Jl5KpoREOwTbDa0o5eN1gr888uc6ZBn770tgAAAB4Bnj9qQr8AC6WDRl1tdNYJ\n",
       "ASfdI5XsP4CA4jZYpIEAAAA2QZokSahBbJlMCH///qmWAAZ6pclycBk01/C28mOoQa5zqwz8/Blo\n",
       "ClhEQpHsSZ4fiYCgJi+QAAAAL0GeQkUVLDP/AAqv/9EC6HaUxrq6anmFcwCieHObOErHkJSnldm/\n",
       "m6yt5fYGVJuBAAAAFgGeYXRCvwAT5MVWw5XpR/YbB9YfEQIAAAAXAZ5jakK/ABPrAZmEGUPYDpLU\n",
       "1d9IiBEAAAAuQZpoSahBbJlMCH///qmWAAZ6zGuNG2229i8asc8mUAU1uQxutHyuEK0keWtZwQAA\n",
       "ACRBnoZFFSwz/wAKzTVpcnkb9sth0w4eTWqg8Ddat9QHCavsz4EAAAAZAZ6ldEK/ABPkxVbDlenm\n",
       "4fBlKQNFYeCrgQAAACEBnqdqQr8AE+sBmYUxT1DYbxVUaoAH+7ltCZGBAkbABiwAAAAuQZqsSahB\n",
       "bJlMCH///qmWAAaD3Soy1qN/qAw5QOz/NxVTJpjX4B3yupohhhJsFwAAACBBnspFFSwz/wAKzTVp\n",
       "cnq+dLe8Za7Qo9LS+dbwtMBZQQAAABcBnul0Qr8AE+TFVsOV6ffcC4nxftnBdwAAABcBnutqQr8A\n",
       "E+sBmYUjHV40PwRW6cVCHgAAADVBmvBJqEFsmUwIf//+qZYABnsnhGWLkRiAkOzxRtePZXG/9CPF\n",
       "Gdw76FQ7oFCaf66n8/cwuQAAACdBnw5FFSwz/wAKzTVpcngtGLgko2qZOhkBzBSfx+QqDwqmhiAA\n",
       "IOEAAAAjAZ8tdEK/ABPkxVbEs893ybWgzIASQO2EBkGoBkeqvnAa520AAAApAZ8vakK/ABPrAZmF\n",
       "Ju/SAzd3ZR+3O5k6ePAIsnxnT3g8LdGqgNOWTPgAAAAwQZs0SahBbJlMCH///qmWAAaD3Soyl0iz\n",
       "WoH1N6thx9BAFer6TEzc1H+SxmavIa0vAAAAJUGfUkUVLDP/AArNNWlyeoaRgyHIVwBT/kbsk9S4\n",
       "ImypD4DKk3EAAAAeAZ9xdEK/ABPkxVbEoBUUqyqZ8TkXcFNUl6GxzstQAAAAGAGfc2pCvwAT6wGZ\n",
       "hBlEqaSOURjNN1KhagAAAFNBm3hJqEFsmUwIf//+qZYABnpqLAEQU6mxNFWwACxbxJ7qCPh1L+zR\n",
       "hB8KOIp2jverNbQMD8kbXY+24rDCVsMGTAgGS4cB75Q0v67pQqKS6srBcQAAACpBn5ZFFSwz/wAK\n",
       "zTVpcnrEW3l416jeznXFSYK/hzuUd5ATaF44IIVyxYAAAAAfAZ+1dEK/ABPkxVbDleoDdB0/tfd6\n",
       "RlKfXl1B0CGEPQAAACQBn7dqQr8AE+sBmYQZRLkWYb8AUetRAj69eymtmMQ28hS8AxcAAABuQZu8\n",
       "SahBbJlMCH///qmWAAaAQb3AP+6ysksyeThtU891qfs2HNTrxQaLlPkVaQ2ZOsvtpHO+Eu80B/We\n",
       "0VEf4YI3P0m1licBhMC7VhxvGeUBN4umdJ1be3hzMwwurt7mHc7gssAFRtJ3vxf7RMAAAAA/QZ/a\n",
       "RRUsM/8ACs01aXJ6SzBXBALkFrS16ZXDbaFE30siQgxeFvV9KEej3M3GndSt19kF2LKO1MulL6aW\n",
       "QJeBAAAAHQGf+XRCvwAT5MVFG77/Plv2z9ixprYepYysUYj4AAAAKwGf+2pCvwAT6wGENb+hSY/r\n",
       "BgggLLo4vsAvdV3RnP+TEQjZE+FLPERRDPkAAACqQZvgSahBbJlMCH///qmWAAZ6vodeAQjU8eCW\n",
       "UKqnTN80Xh8j5w7pbNi/as/88SecXYrM4XCh4R1TOwwelZLu9ryb4ZpZcvmmHmL9/UKaN6WY/2X3\n",
       "3oXtrdHcUSjRijywFyw8wTpXDMPhGj26O2Xiwy3RljoA4gn/8rgbe2JRz5Hj8IsHEIuNHJqYug5B\n",
       "aOPl6fb8qH1+5HECYa3XEUv7CrYOl5647wXk3i0AAABIQZ4eRRUsM/8ACs01Z6YnxdChLSiFAxTW\n",
       "HXsB8EGfhziZVfnlbBvn+Cn4kasegZECzeLFxPrzxP8iUCoyeySxKofB78S9cS7gAAAAMAGePXRC\n",
       "vwAT5MVWxLlpTdFypxP3NzAyBXjpSSl3sGsCUyOEvfJge0cPqXT3T29VvQAAADkBnj9qQr8AE+sB\n",
       "mYF0y8LFkOsIBy1D+2eGu2gAK4vw/pmUa2FyuIPsXt23/iVCGOs7/wMOfMIZjUEAAABjQZokSahB\n",
       "bJlMCH///qmWAAZ7DhygFJcAXv5ORuV1Ido/tl3ldNM4rk/L0fWG3dVg02mJ+RQGFgXY5OGNKVFc\n",
       "dkHbnQsDT3jVRx2dwU30A2HzrnubpVcVOa36PB522M94zEInAAAASUGeQkUVLDP/AArNNWlydmKh\n",
       "tv0sQBaBSNJvnKs1EJ7SKqXh83LHO5Ae+p9NU5z6S5Df5sWN4W2E8jKEEZZ1Y+CL7XslwVg7g1MA\n",
       "AAAtAZ5hdEK/ABPkxVbEFSiXOG0ozKSbnQIAgqffEuht+3MB4Sh0NydVOT5tXV0gAAAAGgGeY2pC\n",
       "vwAT6wGZhIh6In13Y8vo/aIy53Y/AAAAgUGaaEmoQWyZTAh///6plgAGfGa8ugM2jJHm0qlHcnn+\n",
       "RWfB5qzoVUv9CTQYE+IR/erc4GwuXeuxDQORbRG+nUv/e3mXT/A9MguhQhfRuKJFLhtWNipWXtFy\n",
       "wHY0Tzr5gR3d+fsQ/IXegiW67jPNtbQP5Wm2dN3xvZD/Vee4SaxQdwAAADdBnoZFFSwz/wAKzTVp\n",
       "cnfdzm6ivTBhIHS2jdbFbboC0wk4ppDE4188h2z5Gnythd8e1/XSa4K3AAAALQGepXRCvwAT5MVW\n",
       "xKD3SA5w+0WHpIYuGYtrnmjJHCs57vJpmwnkLEOMBo8VoQAAACsBnqdqQr8AE+sBmYUiU5+OAI0P\n",
       "x7AYaxwRpZ+0ufNwTp/hj8k6rh0m0AbUAAAAxEGarEmoQWyZTAh///6plgAGemmqANr8xQ0Cq74G\n",
       "RWzJyW4q9owBdEVHGu2kuQiv76u0bIaUW9r+bbkPDKjCfHJT/mD680MJyNcK9sEGtw/y/SImwakY\n",
       "ZKxiERel/zPTpFbZErxmOirNmXFHe0IoGgd1EOLd270UwZ3+PODm9/UbrtlWA4RZt+3jfsgFhMSV\n",
       "tUVocg2VIGydQhEa1opRHJOt/KhVOT4qxjN7DP0ZZyHs6t89kT2vMlOFREWsd8AUDJwRNOIAAAAh\n",
       "QZ7KRRUsM/8ACs01aXJ6hpGDMK8jfCptgE9rVR9xHmspAAAAJwGe6XRCvwAT5MVWxAbHbBBb3oEJ\n",
       "HaZwAY+UL2Xrc+jttE8ghADegAAAACIBnutqQr8AE+sBmYQZSVgjwAwWvFwlroQGFGAioEY+L+GV\n",
       "AAAAmkGa8EmoQWyZTAh///6plgAGemmqAEYca/Tlmi4Ts/JEjBzX1HFSi84hIzK/II5ViHj4KuDH\n",
       "r4HnxmBKBzoXwV5XuskbNXzSDh1gTRn9+sPHWXQDtz3Ms5GHu43GypSdwiy3t3NXRKl81/U9lR2p\n",
       "LogAnre2zXDowKUpRK8ZlRFt1MdPDaU7NAhgdWdyxXkXrIucjS8A3QygqfEAAABNQZ8ORRUsM/8A\n",
       "CxQFS2EOTnTvuD+g4ozfuWAHKXnPOkJbBgrsHxXF6LxyBAfD21lyLgCKWbktar+9Gm/HY/EG6IYy\n",
       "fCA9TQxCjSQ6A1MAAAAnAZ8tdEK/ABPkxVbEoPdIAonYa0aLCsGsxHR39o3Si16Rw03YIhFTAAAA\n",
       "UgGfL2pCvwAUevcxEbCz4SAIloaVbsqfc+X75oFZVHEwtWhfLZ8onLLuLpheSBL16yUJodB45YGf\n",
       "caCjDP1RSx7P0Pvf8Ls6TyMkVnEpBcgr6XgAAACtQZs0SahBbJlMCH///qmWAAZ6yCfrFdNcgCgd\n",
       "v96w4fSbOkDd+yixi3sdK+/0YWPDb7dcs2WDQ+jqX4MfDIWJsg5no4qdBsBPJdMLr1WK2BM1W5Zo\n",
       "vZgUAyXZ4FSQlt54+7v75UD7Si1Fkk9W9cM88bl1Fgtd8wOmUQWGP0+jmDXsKVQJZMPtULP2PwJf\n",
       "lBt4dxNw8MTbxVFcGQY4ry/Pxf/t4qkXqqpkLesuJPgAAABMQZ9SRRUsM/8ACxU0i9oRJ6F3EAcw\n",
       "/de1FlZdmsS01CzBaRbJPICFF8u+SHfhQp92PwOzrHXIBws4K159gtjjaz7GUijP8JSky7Um4QAA\n",
       "AB8Bn3F0Qr8AFHS2OETi5IswMnSZSHtcU831H4dpHuyoAAAALwGfc2pCvwAUevcxBDkWXNQeMcr+\n",
       "6025fMRo5HdPjIAbgj9xoJKBVnbpwL2ZVknAAAAAsUGbeEmoQWyZTAh///6plgAGefyp4BCPfUkY\n",
       "yDs1kfb7HgLbgtvgQQZSD4xg2HSnAtiCNvNuiNVd1henOU3YcBcqm0JQHy631thyEzq2iwyZWENe\n",
       "NiqFgv6CNjAfqJFkiEaBEN7CYTvxeX7eG3/QmTWfPHkYUXAe55BvVvjlGgM7cPgIje5vSmNvXvN/\n",
       "YLtyJItNL0cinV5bsnCBSqoNQb8g8QkagFzfA61ltX2Hv2F0+QAAAGZBn5ZFFSwz/wALFTSL2aVz\n",
       "t2Yiw46nZPLvvtGUQAOCLwRUtoTpex5cmZU9JpHCWHfu+rhT5nu/94E9WGtR1JTKl4uJaS+rWSgy\n",
       "TwbNP2wmXDspJQOZ4Rv9D9VORivgtAAgx9TQ9ccAAAA5AZ+1dEK/ABR0tjhVuhuSIsOK8BblhqbL\n",
       "u9l62qLArcUX7fYKzAAT2rwSmzAJ4peGeVjyWSb4FumBAAAAKQGft2pCvwAUevcxEbBVBj67cx0p\n",
       "cVDh9YlZ+I3FTl3GkJRlvYDprGfBAAAAoUGbvEmoQWyZTAh///6plgAGeyYg0AOij+DfZK6WSCW+\n",
       "KgnXptMQ3ddXj4672JEA7oSaKm09g58Ryb3JxXcPxrao2FGhepoLhHO8uPR2bKojLcXaSRsUn7lA\n",
       "fv3SkGOechqFWfdk92OGcW61KhDA1MxifwIBrevtcOi1VktMnPbKgJYhkBJV1qaVNlS+NYKhYOr0\n",
       "wTjrjgeZOnxy2K1iiy6AAAAAVEGf2kUVLDP/AAsVNIvaESez4w7mLEMKVxURdAFhwuZJyY3HFWvg\n",
       "pnvpPng6509Q2fUyGKXFBXC2DnCPy2m9sg/4NSZR/zu7PxeFm2F9lF6M7/oI+QAAACUBn/l0Qr8A\n",
       "FHS2OFW6KtjX4pe14cYo8OX6nBmQAvyR/xIaAB/gAAAAQgGf+2pCvwAUevcxEbDFEmoA9kLWUWlh\n",
       "OBUJh3YwBtOxm6awxdr5E/yZDzIZ3/HiebkZTwyVAAHdVT8p/kVE/PidIQAAAIpBm+BJqEFsmUwI\n",
       "f//+qZYABnrWmdwA5l0r20CC7486SeCLDsq2oZG4NkO5h3DjaR0SVDJ0iS+0azSnT3qxkvIN8vGW\n",
       "eGtrN4JKvuV5CuHE+1+Qig9/QI+xv1gjcSkh8pfMlzLhXlCIxMpWf9FfhBAivM6HV0EDVnVBNlVS\n",
       "Skc5JSkDs/0pV/P4ReEAAABHQZ4eRRUsM/8ACxU0i9oRJ7MKMAIyOldTkkqAJL0UMEg33odFxeb4\n",
       "MKCZxnHU1diPH5JbL/uRwCQRuWrSrKrOUs/CL9gudYsAAAAoAZ49dEK/ABPkxUUbvv+B0RNb4Usf\n",
       "ohsKF2F38h7wKI4oMe+Op8GHgAAAABgBnj9qQr8AE+sBhDW2LN741oWf4c4E+kEAAACFQZokSahB\n",
       "bJlMCH///qmWAAZ7J4SxoBSDhlAL8LegOFazdkGedZYbRtXhS+5DU2IkC3FIewXolR3Wl4GlZU43\n",
       "W3GsFs7DoB7MXixXQiQz+gGArpcFrterEkusBPzg11cf4mi5TquagB59282K4ET9SK67jqo1FHu2\n",
       "3zoAgGBYY+VdoSRZgAAAADlBnkJFFSwz/wAKzTVnpicR8UDHhNLWBWYQE04MFZX3OhFVDpVxL7eq\n",
       "+GW2si1RUO1kZ/Y46kz4VlEAAAAeAZ5hdEK/ABPkxVbEn3oXAENQyzC/iviPpYeDnU6CAAAAKgGe\n",
       "Y2pCvwAT6wGZhRvDydTQaZqCpcgN8Wr963urdDUlm1fudWC7GTAGpQAAAHpBmmhJqEFsmUwIf//+\n",
       "qZYADKTv7QChRkNz9SOXnZaECxRj1VvzzIB0ae4v0XSp8gM7ZbiepDDKf5JILMxgMnhOZeCjYQqE\n",
       "Vnwo90nw6Cknvg/+RzmzPuaq/QE80dH5uLisue+acyG/ydFglcxFpnk8metJ7kvUjQOf7QAAAFVB\n",
       "noZFFSwz/wAK9VGjOfrJ7T+PFRirMBOuUtPzq0EluGLsk9RFj29GIYGNve65c0MGe4HCj37wjQdX\n",
       "AfTog1Frt+oCX4ZWL+waPjiQs+HesIyHrBvRAAAAKAGepXRCvwAUdLY4ROLs16Nbd772rm6doBUv\n",
       "rimbI85/grvyiAFgJuEAAAAwAZ6nakK/ABR69zEEORYwHJEc3ODiXliAZmh56RaRFhLHRtLs4W1q\n",
       "MSdDVyZhW0UTAAAAa0GarEmoQWyZTAh///6plgAMpd/OgHz/1rB89tdrR0hAnKgNfCdLcx75+H8K\n",
       "B6nhRK+Bu3RbA2qccQm6nFUCGN3/4SF59z5X6I/9UE4Pq3SwR6j1e3ya5ptvAfRoMYNn1MDIwzL4\n",
       "uq/NxplwAAAAOkGeykUVLDP/AAY3nMB3mqzADoubBBQLjyfx1y+dwGq3Gw68YJTHLHsVKHqRhnLN\n",
       "ctPZX+V0vzc4C7kAAAAfAZ7pdEK/AAuF4S/R5DBqTHLunf6Fa7u7kVVV6mTUwAAAACYBnutqQr8A\n",
       "E+p3GZkd/IdGtg6nKOo8F9EROA7/ax6DB5FkZ87zAgAAAH5BmvBJqEFsmUwIf//+qZYADLfGLUfc\n",
       "g/kOxlJSQOjhgDlrcFLlCOxCb8bmPmvPHPSwUXzvzQZBqChrs6Cocdao3P2Nqk9xz091UI8dLh7n\n",
       "Uz0paE/1N4un9Cf9LZoYjdrLD+uqV13ZbMoc0iopzMM980S/+0DKPlV3rtNFpAcAAAAwQZ8ORRUs\n",
       "M/8ACxKIN6J8nik0n5j2d6LZ81YJV1lKJxEgynhG2zJVAxz9kO70Rw/xAAAAGAGfLXRCvwALomM0\n",
       "nEJCHviXOvNonstpeQAAACQBny9qQr8AC6WEBRM5AMyBnCak8wi8ZI/ynoy8hlB4WN0QnYAAAABK\n",
       "QZs0SahBbJlMCH///qmWAAZ7FCcBzvj4Mg/buxgM35dbk2rzko6shN4F8GOd9j86m3rUyxdTmRRL\n",
       "yVUWxXVUnC/hr1zrFfBrdyoAAAAsQZ9SRRUsM/8ABkmHfuW4GqAwy79/R2cTOqUdp9sgSt+ntkrr\n",
       "Gh9+14EoWcEAAAAfAZ9xdEK/AAuF4SIJM2bRSIoqos1Q6pQiz6VCc5JOLgAAAB0Bn3NqQr8AC4Xh\n",
       "KtdLkolMHDUX/XpMoQAxC6nLwAAAAFJBm3hJqEFsmUwIf//+qZYABnroxwK/mROHNbYdOcfdzcZT\n",
       "BHtQC2DdC7VTnSO/mgT3pRJotXpQBzTH+oHY/DGNURDUn49D2iv260N4wo3g8oppAAAAJkGflkUV\n",
       "LDP/AAY3nMBzpe233vyNOgTIYPh6CCZ/FiDtdh7VmVgQAAAAHAGftXRCvwALomZMwgTCcDUSvcWL\n",
       "fCO8AQRcAdUAAAAWAZ+3akK/AAulhHK5utac6ORWVqwEHQAAAJBBm7xJqEFsmUwIf//+qZYABnsT\n",
       "UjeAJpCY/EP+VBATTBOzmSRdzhtdVYts4M9BR4PcYnnTtFp+IIOLxKxxjGq2zA1SWT7e7a0hnjGS\n",
       "44OfEMveK9fS/2HnVG0QYrx6e/cZlapaS3ha/ZAZMcUnvOwrw7KwL2ersPZgYB5IhUbSHbfjMWl/\n",
       "yUnTYiQnzXsIXGgAAABIQZ/aRRUsM/8ABkmHiUSTu6Awy98eGWnynh7/Fr1GuuWacf31i/ySpS2f\n",
       "gQNGN0Q7cIGh69dX7ZidSo0fwUuuwcql583GbRlRAAAAMgGf+XRCvwALheEvwTCBNP9C85L9NTBU\n",
       "FufgCEQN75SFumIrdK60VtsGlpWvs937EMvAAAAAHAGf+2pCvwALheEmHNSpGJDStbGMchRcKlfh\n",
       "M3EAAACTQZvgSahBbJlMCH///qmWAAZ6UFOgBKeqidUj6AD0E8de4GWmOg7BGVFp3hFHFL7UMGx5\n",
       "qtymOih6NYAZIKDg//2EBBa/tobewuEA9Q5ZgIKmDlgZZClhI/HG7cRwO2/V6+m9ftAF7PCmjCJR\n",
       "oEt5heVAsYl0Qm9gcB1K4LOqDWu2fohGfBLB0pssvccR8FquVJPhAAAAXkGeHkUVLDP/AAsVNWQm\n",
       "J996/AKAdZm72joypU6cQxuWaSdNWWoOf6Tv+IyCwBuFF4Rpd/O3A9et8Kq3RQI1qYU3M15s5clo\n",
       "bfe7199lpV5IY1/RClmRh/js3+I9oOAAAAApAZ49dEK/ABQ7cwhotz+3hO9gJbwAQA7NU16yim1c\n",
       "gsxveRgBwG3acsAAAAAtAZ4/akK/ABQ7cwhot0SLQtzmNQ8Zl8sfSQEemC8a6eeISDZk5HnOZ4ex\n",
       "/M3zAAAAjUGaJEmoQWyZTAh///6plgAGetb5J4Aj4y17X96z+O7kzpylYGBLNOmvSseRgt0TdzIf\n",
       "3Mm9EHKO6rfr4rmcJDnQlNUxJJIyXbQo27lldIHM5MpMSB/g110OjjUuhioJdxcU5Iwun3LxQwFJ\n",
       "ZCAKGrZJUB5o8/zelv2aYSmHEyyNLvanMAcy6yrRWcNzngAAADNBnkJFFSwz/wAGN5ypmL5LqAL8\n",
       "wzcKwIZGn4j9Q2W9cuKSjvmZ7nQHmFKtiPtYA3draDkAAAAqAZ5hdEK/AAuiZlbE30gASm8TsLQd\n",
       "bD+7JpRGxO8ysXHndpx1bV0Q6kfMAAAAHwGeY2pCvwALpYP7lxEApVKHP2XCIyLr1QkgzTPYT/EA\n",
       "AAB4QZpoSahBbJlMCH///qmWAAZ6K9w68BmXIbpk3LK8lSIrHF9En2OGML2HX1qE1+KqNnPmOj38\n",
       "QgFfAata9a3T/kM8SGVbX4uPW7MTlroUZovDyraUfectUVZFWK22ywRnHGQluDdVdVK52JVwsxf/\n",
       "Do6iIpqgkhNxAAAAM0GehkUVLDP/AAZJh3cIz0sT0ji7fEzvDJm78QOs6fmbc/IQvLq3I7MB97K8\n",
       "xhfzQcDugQAAACEBnqV0Qr8AC6JmTLxP0VMuyaYEPl3wCNe8KuuJiuwsj4EAAAAfAZ6nakK/AAul\n",
       "g/5u6jzlaccdK8lAjOvOnUW/hl4lqAAAAMVBmqxJqEFsmUwId//+qZYABnpRuAGGGUZtR7jAJVQ2\n",
       "pXBXyJvLcaH8yUyt78XOBDKG36XUyrNnTs05Hk7TvC4/4wdrDOI5jUVq2u7kAiuglP6Oco9NARcs\n",
       "zvzBvg7PNGnPx6qd/YMbc0LA86gkF2yBR9RPc8JQONuGcelkGi8/BSBFygvpajjf623hjter0/Rm\n",
       "jbqcjHf3Uenc8rLdv/YYvc70HjdcyTJQ1mEVh75YnP72KtYCbiEHVabNE9qbKLNKSTYRTgAAAFNB\n",
       "nspFFSwz/wAGSYeJeXeqBUfHqw1CHQPKqQEXqhlrL7GXTSDp2CRdA7gcNin37vP4rqbfI9jU4y8I\n",
       "bGlyyIvPIOGc4vOwOc7bQt8Ia+Y8RyLN6QAAACABnul0Qr8AC4XhIGYLUraRgW4Ey9D1myBzROGX\n",
       "c8JoPAAAAD8BnutqQr8AC4XhL6E2ACWhexwWQB7UAWa69PXUaoTOcByoaCNgHq7iwC1cTYuXY2ZV\n",
       "ELzSePXUqVh61dpgNmAAAACmQZrwSahBbJlMCHf//qmWAAZ7FaPpQBtkc3mMdON6rygVoyPd9q5z\n",
       "z2oanuV2s6uI6tSG/+n9HLrZdk8LTaxC7InOJS7ziaDyP2Y6km3oS+rHdkf6uKKPulmC6JSOuflD\n",
       "1LWP9lyvdIPEMb/Guf7fXoNE3H0WyT7iiqMbq6GQM06Z4NZFV00EjIOEBojtmCDlv2EV6bmsxkkr\n",
       "fik7Ng3w+lIljGdbyQAAAE5Bnw5FFSwz/wALFTVkJifbsdZgC3lXACNT1WASwKFrUeb7BUcuO6kr\n",
       "0zvGF65rmKv7RYmBW4zx5tnGJ5CEozMzaa4xs1cWb9jN5/pMm4EAAAAhAZ8tdEK/AAuiZSAPPTHi\n",
       "R4ACFqUMXVMsjlxVLhrk9Z0xAAAAFQGfL2pCvwALpYNGXTNMmXrnNRu9IAAAANtBmzJJqEFsmUwU\n",
       "TDv//qmWAAZ6ULQAqeOS6Wzpu7gF5wNBQfvPfaxkwr/GVlXjNURiR+3o0OsDI0zeKwNl0sBwe0a5\n",
       "bSoIpj+f70j7gLAilNjdJM3/7eKc9lgL1xl7DD+w22MTajclVotW+0L232LcuUq9spojYGxyzzHO\n",
       "LQfNudDpp7RnHV8chBknazwGQwMocPAA65QfTmpun5JUUo37L7rQWO91NytGLd8d/ekmP5p59Ky7\n",
       "0leZR8VoDOaBM4Xwgb+djKMSD1nW5dVeHARgLuKxp4VbuvIDbyAAAAA3AZ9RakK/ABR+TV1uq6gg\n",
       "iQQgAMP/e7uxP7d69XAfOce5+WoqM8ldQSe0ynfuwGRcHrR2aRgBFwAAAJZBm1ZJ4QpSZTAh3/6p\n",
       "lgAGeunWABhV1G5mFf04NhhUw6zhqC9SplD5pXTk+B1kDVoTXzBfMyzX/6W6lBVxSXjSfXDU3DW3\n",
       "zRS8ZDNTZwEeLlASy9737f0MJvDNkYh42ooVCVukk4XCCByCE7zOGMBoZLyPcFfdji8J5u+aHl+z\n",
       "c6kHn9nu3AQmxv5YFZH8b+bMipeskfkAAABvQZ90RTRMM/8ACxStx+dsF+T3HdnCXtgAIO0s+2zi\n",
       "T3AdR3Z/wnKwYCsNF65YdzC9aPYwmBl7D+B6yhxD9/a483wQo4cEEseZD5tkcV3DloXWmCUArWqa\n",
       "MkehgOXtZ84eSfV1YhfEq2jtY6XrEyknAAAAIgGfk3RCvwAUdMUqxMhrY0mszFnZCAM2nvzSQEuJ\n",
       "YPiIWUEAAAAuAZ+VakK/ABR7AW2BK/CsHygEcr1HkCHgw4cbte6QA5TvjTGSNcUvePD0FLAKCAAA\n",
       "AJRBm5pJqEFomUwId//+qZYABnpQtADop3kUP6RU0R5LxsbXQZOUs++J2yhtiwXXfYKXjKMamS2W\n",
       "dULIF29M6RlI7Ec1EPyyzWNI0bkDdnL3Cd9YNS5vAeWiiTbA/dHTT5+jiYUvn3V4evCDcTzjzMFA\n",
       "2wMk5hXou08aVP03lAoLpQyjzlaKKSVDFMm99DZu/bxmRt3NAAAASEGfuEURLDP/AAsVNWXyexuO\n",
       "gCD1U9cN7w6hHZmsSBmccHx3uN4dv43rm+xYhbfpu47lfhPj1ovojOcHVA8QqEUOGwF7bbY3oQAA\n",
       "ACMBn9d0Qr8AFHTFGRu/x/3DAEUHYC+wLtxyEnKRNFMdSSIG9AAAACABn9lqQr8AFHsBWDW50Z8G\n",
       "BYwYDloWQBCCK2+OiAwbMQAAAFJBm95JqEFsmUwIZ//+nhAAMi7F6AGbzl1rOGKqHo61S7Aa7FiQ\n",
       "2W7wBJl/pGAtHIH7ZG6bkWzNFwOyqDbFIhkFaerxxBB28PBqB5jd+D3IVfyAAAAAYkGf/EUVLDP/\n",
       "AAsVNWQmJ9wtoAOPRx5ZVk+Ev8N7YTmG0THFi4p9r3UCRMVgnkg4Vl8E4XunSmygVLuwI1zmiHr6\n",
       "ZqEsFw9LmCjGdNt6pZ+7YAw17OXd9vAE2lFByJR2jz0XAAAAJwGeG3RCvwAUdMUZG7+fg07LV373\n",
       "a+jrzJugD7pA6F6XvRgirR5MWQAAACIBnh1qQr8AFHsBWDXANVYfGzjWl88gKEW//x3pE9lq6PSA\n",
       "AAAAOkGaH0moQWyZTAhX//44QABkYfnb41kCADgkCuD91LA7MuEuNeO+T7Y6ZJHb1BtEVzNfU6gh\n",
       "NeeB2RgAAAqybW9vdgAAAGxtdmhkAAAAAAAAAAAAAAAAAAAD6AAAH0AAAQAAAQAAAAAAAAAAAAAA\n",
       "AAEAAAAAAAAAAAAAAAAAAAABAAAAAAAAAAAAAAAAAABAAAAAAAAAAAAAAAAAAAAAAAAAAAAAAAAA\n",
       "AAAAAAAAAgAACdx0cmFrAAAAXHRraGQAAAADAAAAAAAAAAAAAAABAAAAAAAAH0AAAAAAAAAAAAAA\n",
       "AAAAAAAAAAEAAAAAAAAAAAAAAAAAAAABAAAAAAAAAAAAAAAAAABAAAAAAbAAAAEgAAAAAAAkZWR0\n",
       "cwAAABxlbHN0AAAAAAAAAAEAAB9AAAAEAAABAAAAAAlUbWRpYQAAACBtZGhkAAAAAAAAAAAAAAAA\n",
       "AAAoAAABQABVxAAAAAAALWhkbHIAAAAAAAAAAHZpZGUAAAAAAAAAAAAAAABWaWRlb0hhbmRsZXIA\n",
       "AAAI/21pbmYAAAAUdm1oZAAAAAEAAAAAAAAAAAAAACRkaW5mAAAAHGRyZWYAAAAAAAAAAQAAAAx1\n",
       "cmwgAAAAAQAACL9zdGJsAAAAt3N0c2QAAAAAAAAAAQAAAKdhdmMxAAAAAAAAAAEAAAAAAAAAAAAA\n",
       "AAAAAAAAAbABIABIAAAASAAAAAAAAAABAAAAAAAAAAAAAAAAAAAAAAAAAAAAAAAAAAAAAAAAAAAA\n",
       "GP//AAAANWF2Y0MBZAAV/+EAGGdkABWs2UGwloQAAAMABAAAAwCgPFi2WAEABmjr48siwP34+AAA\n",
       "AAAcdXVpZGtoQPJfJE/FujmlG88DI/MAAAAAAAAAGHN0dHMAAAAAAAAAAQAAAKAAAAIAAAAAFHN0\n",
       "c3MAAAAAAAAAAQAAAAEAAAUQY3R0cwAAAAAAAACgAAAAAQAABAAAAAABAAAKAAAAAAEAAAQAAAAA\n",
       "AQAAAAAAAAABAAACAAAAAAEAAAoAAAAAAQAABAAAAAABAAAAAAAAAAEAAAIAAAAAAQAACgAAAAAB\n",
       "AAAEAAAAAAEAAAAAAAAAAQAAAgAAAAABAAAKAAAAAAEAAAQAAAAAAQAAAAAAAAABAAACAAAAAAEA\n",
       "AAoAAAAAAQAABAAAAAABAAAAAAAAAAEAAAIAAAAAAQAACgAAAAABAAAEAAAAAAEAAAAAAAAAAQAA\n",
       "AgAAAAABAAAKAAAAAAEAAAQAAAAAAQAAAAAAAAABAAACAAAAAAEAAAoAAAAAAQAABAAAAAABAAAA\n",
       "AAAAAAEAAAIAAAAAAQAACgAAAAABAAAEAAAAAAEAAAAAAAAAAQAAAgAAAAABAAAKAAAAAAEAAAQA\n",
       "AAAAAQAAAAAAAAABAAACAAAAAAEAAAoAAAAAAQAABAAAAAABAAAAAAAAAAEAAAIAAAAAAQAACgAA\n",
       "AAABAAAEAAAAAAEAAAAAAAAAAQAAAgAAAAABAAAKAAAAAAEAAAQAAAAAAQAAAAAAAAABAAACAAAA\n",
       "AAEAAAoAAAAAAQAABAAAAAABAAAAAAAAAAEAAAIAAAAAAQAACgAAAAABAAAEAAAAAAEAAAAAAAAA\n",
       "AQAAAgAAAAABAAAKAAAAAAEAAAQAAAAAAQAAAAAAAAABAAACAAAAAAEAAAoAAAAAAQAABAAAAAAB\n",
       "AAAAAAAAAAEAAAIAAAAAAQAACgAAAAABAAAEAAAAAAEAAAAAAAAAAQAAAgAAAAABAAAKAAAAAAEA\n",
       "AAQAAAAAAQAAAAAAAAABAAACAAAAAAEAAAoAAAAAAQAABAAAAAABAAAAAAAAAAEAAAIAAAAAAQAA\n",
       "CgAAAAABAAAEAAAAAAEAAAAAAAAAAQAAAgAAAAABAAAKAAAAAAEAAAQAAAAAAQAAAAAAAAABAAAC\n",
       "AAAAAAEAAAoAAAAAAQAABAAAAAABAAAAAAAAAAEAAAIAAAAAAQAACgAAAAABAAAEAAAAAAEAAAAA\n",
       "AAAAAQAAAgAAAAABAAAKAAAAAAEAAAQAAAAAAQAAAAAAAAABAAACAAAAAAEAAAoAAAAAAQAABAAA\n",
       "AAABAAAAAAAAAAEAAAIAAAAAAQAACgAAAAABAAAEAAAAAAEAAAAAAAAAAQAAAgAAAAABAAAKAAAA\n",
       "AAEAAAQAAAAAAQAAAAAAAAABAAACAAAAAAEAAAoAAAAAAQAABAAAAAABAAAAAAAAAAEAAAIAAAAA\n",
       "AQAACgAAAAABAAAEAAAAAAEAAAAAAAAAAQAAAgAAAAABAAAKAAAAAAEAAAQAAAAAAQAAAAAAAAAB\n",
       "AAACAAAAAAEAAAoAAAAAAQAABAAAAAABAAAAAAAAAAEAAAIAAAAAAQAACgAAAAABAAAEAAAAAAEA\n",
       "AAAAAAAAAQAAAgAAAAABAAAKAAAAAAEAAAQAAAAAAQAAAAAAAAABAAACAAAAAAEAAAoAAAAAAQAA\n",
       "BAAAAAABAAAAAAAAAAEAAAIAAAAAAQAACgAAAAABAAAEAAAAAAEAAAAAAAAAAQAAAgAAAAABAAAG\n",
       "AAAAAAEAAAIAAAAAAQAACgAAAAABAAAEAAAAAAEAAAAAAAAAAQAAAgAAAAABAAAKAAAAAAEAAAQA\n",
       "AAAAAQAAAAAAAAABAAACAAAAAAEAAAoAAAAAAQAABAAAAAABAAAAAAAAAAEAAAIAAAAAAQAABAAA\n",
       "AAAcc3RzYwAAAAAAAAABAAAAAQAAAKAAAAABAAAClHN0c3oAAAAAAAAAAAAAAKAAAAuaAAAAqQAA\n",
       "ACcAAAAhAAAAHgAAAFYAAAAsAAAAGwAAACEAAABKAAAANAAAAC4AAAAhAAAAQAAAAD0AAAAhAAAA\n",
       "JAAAADMAAAAuAAAAJwAAAB4AAAAwAAAAGwAAABoAAAAeAAAAUQAAAEUAAAAjAAAALAAAAE8AAABL\n",
       "AAAAJwAAACIAAAA6AAAAMwAAABoAAAAbAAAAMgAAACgAAAAdAAAAJQAAADIAAAAkAAAAGwAAABsA\n",
       "AAA5AAAAKwAAACcAAAAtAAAANAAAACkAAAAiAAAAHAAAAFcAAAAuAAAAIwAAACgAAAByAAAAQwAA\n",
       "ACEAAAAvAAAArgAAAEwAAAA0AAAAPQAAAGcAAABNAAAAMQAAAB4AAACFAAAAOwAAADEAAAAvAAAA\n",
       "yAAAACUAAAArAAAAJgAAAJ4AAABRAAAAKwAAAFYAAACxAAAAUAAAACMAAAAzAAAAtQAAAGoAAAA9\n",
       "AAAALQAAAKUAAABYAAAAKQAAAEYAAACOAAAASwAAACwAAAAcAAAAiQAAAD0AAAAiAAAALgAAAH4A\n",
       "AABZAAAALAAAADQAAABvAAAAPgAAACMAAAAqAAAAggAAADQAAAAcAAAAKAAAAE4AAAAwAAAAIwAA\n",
       "ACEAAABWAAAAKgAAACAAAAAaAAAAlAAAAEwAAAA2AAAAIAAAAJcAAABiAAAALQAAADEAAACRAAAA\n",
       "NwAAAC4AAAAjAAAAfAAAADcAAAAlAAAAIwAAAMkAAABXAAAAJAAAAEMAAACqAAAAUgAAACUAAAAZ\n",
       "AAAA3wAAADsAAACaAAAAcwAAACYAAAAyAAAAmAAAAEwAAAAnAAAAJAAAAFYAAABmAAAAKwAAACYA\n",
       "AAA+AAAAFHN0Y28AAAAAAAAAAQAAADAAAABidWR0YQAAAFptZXRhAAAAAAAAACFoZGxyAAAAAAAA\n",
       "AABtZGlyYXBwbAAAAAAAAAAAAAAAAC1pbHN0AAAAJal0b28AAAAdZGF0YQAAAAEAAAAATGF2ZjU4\n",
       "LjQ1LjEwMA==\n",
       "\">\n",
       "  Your browser does not support the video tag.\n",
       "</video>"
      ],
      "text/plain": [
       "<IPython.core.display.HTML object>"
      ]
     },
     "execution_count": 80,
     "metadata": {},
     "output_type": "execute_result"
    }
   ],
   "source": [
    "## plot individual cell activity \n",
    "# np array with shape (frames, height, width, channels)\n",
    "video = cells_recombined\n",
    "video_2 = response_movie\n",
    "\n",
    "fig = plt.figure()\n",
    "p1 = fig.add_subplot(1,2,1)\n",
    "im = p1.imshow(video[0,:,:], cmap='gray', vmin=0, vmax=255)\n",
    "p2 = fig.add_subplot(1,2,2)\n",
    "im2 = p2.imshow(video_2[0,:,:], cmap='gray', vmin=0, vmax=255)\n",
    "\n",
    "plt.close() # this is required to not display the generated image\n",
    "\n",
    "def init():\n",
    "    im.set_data(video[0,:,:])\n",
    "    im2.set_data(video_2[0,:,:])\n",
    "\n",
    "def animate(i):\n",
    "    im.set_data(video[i,:,:])\n",
    "    im2.set_data(video_2[i,:,:])\n",
    "    return (im, im2)\n",
    "\n",
    "anim = animation.FuncAnimation(fig, animate, init_func=init, frames=video.shape[0],\n",
    "                               interval=50)\n",
    "\n",
    "## need ffmpeg on quest\n",
    "HTML(anim.to_html5_video())"
   ]
  },
  {
   "cell_type": "code",
   "execution_count": null,
   "metadata": {
    "collapsed": true
   },
   "outputs": [],
   "source": [
    "## how to compare with raw traces? maybe use sample indicies to determine specific avi files, then pull from those (w/direct mount to resfiles?), or automate a globus script? "
   ]
  },
  {
   "cell_type": "code",
   "execution_count": null,
   "metadata": {
    "collapsed": true
   },
   "outputs": [],
   "source": [
    "# pause to take input (y/n) to determine if trace is ideal "
   ]
  },
  {
   "cell_type": "code",
   "execution_count": null,
   "metadata": {
    "collapsed": true,
    "scrolled": true
   },
   "outputs": [],
   "source": [
    "# calculate the peak to rms ratio for each threshold event, each cell, and across all cells and events \n",
    "\n",
    "peak_rms = lambda cell_fluorescence : np.max(cell_fluorescence)/np.sqrt(np.mean(np.square(cell_fluorescence)))\n",
    "\n",
    "cell = 2\n",
    "event = 1097\n",
    "\n",
    "peak_rms_ratio_cell = z_scored_regions_by_session['GRIN039_H12_M26_S54'].iloc[:, z_scored_regions_by_session['GRIN039_H12_M26_S54'].columns.get_level_values(1)==cell].apply(lambda cell_fluorescence : np.max(cell_fluorescence)/np.sqrt(np.mean(np.square(cell_fluorescence))), axis=0)\n",
    "peak_rms_ratio_event = z_scored_regions_by_session['GRIN039_H12_M26_S54'][event].apply(lambda cell_fluorescence : np.max(cell_fluorescence)/np.sqrt(np.mean(np.square(cell_fluorescence))), axis=0)\n",
    "peak_rms_ratio = z_scored_regions_by_session['GRIN039_H12_M26_S54'].apply(lambda cell_fluorescence : np.max(cell_fluorescence)/np.sqrt(np.mean(np.square(cell_fluorescence))), axis=0)"
   ]
  },
  {
   "cell_type": "code",
   "execution_count": null,
   "metadata": {
    "collapsed": true
   },
   "outputs": [],
   "source": [
    "#histogram of all peak to rms ratios across sample events\n",
    "plt.hist(peak_rms_ratio, 100)\n",
    "plt.show()"
   ]
  },
  {
   "cell_type": "code",
   "execution_count": null,
   "metadata": {
    "collapsed": true
   },
   "outputs": [],
   "source": [
    "z_scored_regions_by_session.max()"
   ]
  },
  {
   "cell_type": "code",
   "execution_count": null,
   "metadata": {
    "collapsed": true
   },
   "outputs": [],
   "source": [
    "peak_rms_ratio.max()"
   ]
  },
  {
   "cell_type": "code",
   "execution_count": null,
   "metadata": {
    "collapsed": true
   },
   "outputs": [],
   "source": [
    "# plot average activity of a cell across all movement events "
   ]
  },
  {
   "cell_type": "code",
   "execution_count": null,
   "metadata": {
    "collapsed": true
   },
   "outputs": [],
   "source": [
    "# plots the activity of a cell across all movement threshold crossings in a given session\n",
    "cell = 1\n",
    "z_scored_regions_by_session['GRIN039_H12_M26_S54'].iloc[:, z_scored_regions_by_session['GRIN039_H12_M26_S54'].columns.get_level_values(1)==cell].head()"
   ]
  },
  {
   "cell_type": "code",
   "execution_count": null,
   "metadata": {
    "collapsed": true
   },
   "outputs": [],
   "source": [
    "# plot a few example traces\n",
    "events_to_plot = [0, 1, 5]\n",
    "fig, [ax1, ax2, ax3, ax4] = plt.subplots(4)\n",
    "ax1.plot(z_scored_regions_by_session['GRIN039_H12_M26_S54'].iloc[:, z_scored_regions_by_session['GRIN039_H12_M26_S54'].columns.get_level_values(1)==1][sample_crossing_indicies[events_to_plot[0]]])\n",
    "ax2.plot(z_scored_regions_by_session['GRIN039_H12_M26_S54'].iloc[:, z_scored_regions_by_session['GRIN039_H12_M26_S54'].columns.get_level_values(1)==1][sample_crossing_indicies[events_to_plot[1]]])\n",
    "ax3.plot(z_scored_regions_by_session['GRIN039_H12_M26_S54'].iloc[:, z_scored_regions_by_session['GRIN039_H12_M26_S54'].columns.get_level_values(1)==1][sample_crossing_indicies[events_to_plot[2]]])\n",
    "ax4.plot(pd.concat([z_scored_regions_by_session['GRIN039_H12_M26_S54'].iloc[:, z_scored_regions_by_session['GRIN039_H12_M26_S54'].columns.get_level_values(1)==1][sample_crossing_indicies[events_to_plot[0]]],\n",
    "                   z_scored_regions_by_session['GRIN039_H12_M26_S54'].iloc[:, z_scored_regions_by_session['GRIN039_H12_M26_S54'].columns.get_level_values(1)==1][sample_crossing_indicies[events_to_plot[1]]],\n",
    "                  z_scored_regions_by_session['GRIN039_H12_M26_S54'].iloc[:, z_scored_regions_by_session['GRIN039_H12_M26_S54'].columns.get_level_values(1)==1][sample_crossing_indicies[events_to_plot[2]]]], axis=1).mean(axis=1))"
   ]
  },
  {
   "cell_type": "code",
   "execution_count": null,
   "metadata": {
    "collapsed": true
   },
   "outputs": [],
   "source": [
    "#concat by mouse \n",
    "concacted_by_mouse = {}\n",
    "for mouse in [name[0:7] for name in list(set(z_scored_regions_by_session.columns.levels[0]))]:\n",
    "    dfs_by_mouse = []\n",
    "    sessions = []\n",
    "    for session in list(z_scored_regions_by_session.columns.levels[0]):\n",
    "        if mouse in session:\n",
    "            if not(z_scored_regions_by_session[session].empty):\n",
    "                #means = z_scored_regions_by_session[session].mean(axis=1, level=0)\n",
    "                dfs_by_mouse.append(z_scored_regions_by_session[session])\n",
    "                sessions.append(session)\n",
    "    if len(dfs_by_mouse)>0:\n",
    "        concacted_by_mouse[mouse] = pd.concat(dfs_by_mouse, axis=1, keys=sessions)\n",
    "combined_by_mouse = pd.concat(list(concacted_by_mouse.values()), axis=1, keys=list(concacted_by_mouse.keys()))"
   ]
  },
  {
   "cell_type": "code",
   "execution_count": null,
   "metadata": {
    "collapsed": true,
    "scrolled": true
   },
   "outputs": [],
   "source": [
    "# maybe should do min, max scaler here\n",
    "plt.plot(combined_by_mouse.mean(axis=1))"
   ]
  },
  {
   "cell_type": "code",
   "execution_count": null,
   "metadata": {
    "collapsed": true
   },
   "outputs": [],
   "source": [
    "# create range scaled data to compare across cells\n",
    "scaler = MinMaxScaler()\n",
    "activity_scaled = pd.DataFrame(scaler.fit_transform(combined_by_mouse), columns=combined_by_mouse.columns)\n",
    "activity_scaled_cell_means = activity_scaled.groupby(level=[0,1], axis=1).mean()"
   ]
  },
  {
   "cell_type": "code",
   "execution_count": null,
   "metadata": {
    "collapsed": true,
    "scrolled": true
   },
   "outputs": [],
   "source": [
    "plt.plot(activity_scaled.mean(axis=1))"
   ]
  },
  {
   "cell_type": "code",
   "execution_count": null,
   "metadata": {
    "collapsed": true,
    "scrolled": false
   },
   "outputs": [],
   "source": [
    "combined_by_mouse_timedelta = combined_by_mouse.set_index(pd.to_timedelta(np.linspace(0, (len(combined_by_mouse)-1)*(1/5), len(combined_by_mouse)), unit='s'), drop=True)"
   ]
  },
  {
   "cell_type": "code",
   "execution_count": null,
   "metadata": {
    "collapsed": true,
    "scrolled": true
   },
   "outputs": [],
   "source": [
    "#resampled_for_plotting.head()"
   ]
  },
  {
   "cell_type": "code",
   "execution_count": null,
   "metadata": {
    "collapsed": true
   },
   "outputs": [],
   "source": [
    "plt.rcParams.update({'font.size': 22})\n",
    "df_to_plot = resampled_for_plotting\n",
    "activity_measure = 'spatial_coordination'\n",
    "x = np.linspace(-(len(df_to_plot)/2)*.5, (len(df_to_plot)/2)*.5, len(df_to_plot))\n",
    "scale_f = 0.0868\n",
    "mean=df_to_plot.mean(axis=1, level=2)['velocity'].values*scale_f\n",
    "plt.plot(x, df_to_plot.mean(axis=1, level=2)['velocity'].values*scale_f, color='k')\n",
    "std_error = ((df_to_plot.std(axis=1, level=2)['velocity'])/math.sqrt(df_to_plot.mean(axis=1, level=0).shape[1]))*scale_f\n",
    "plt.fill_between(x, mean-std_error, mean+std_error)\n",
    "ax = plt.gca()\n",
    "ax.set_ylabel('velocity cm/sec')\n",
    "ax.set_xlabel('time (seconds)')\n",
    "ax.axvline(x=(0), linestyle='--', color='r')\n",
    "fig = plt.gcf()\n",
    "fig.set_size_inches(7, 6)\n",
    "#fig.draw()\n",
    "#fig.savefig('/home/jma819/presentation_files/wt_velocity_spatial_coord_triggered.svg', transparent=True)\n",
    "fig.subplots_adjust(left=0.15)\n",
    "fig.savefig('/Users/johnmarshall/Documents/Presentations/Feb20201_LabMeeting/v_triggered.pdf', transparent=True)\n",
    "plt.show()"
   ]
  },
  {
   "cell_type": "code",
   "execution_count": null,
   "metadata": {
    "collapsed": true
   },
   "outputs": [],
   "source": [
    "activity_measure = 'fluorescence'\n",
    "x = np.linspace(-(len(df_to_plot)/2)*.5, (len(df_to_plot)/2)*.5, len(df_to_plot))\n",
    "mean = df_to_plot.mean(axis=1, level=2)[activity_measure].values\n",
    "plt.plot(x, mean, color='k')\n",
    "std_error = (df_to_plot.std(axis=1, level=2)[activity_measure])/math.sqrt(df_to_plot.mean(axis=1, level=0).shape[1]*1)\n",
    "plt.fill_between(x, mean-std_error, mean+std_error)\n",
    "ax = plt.gca()\n",
    "ax.set_ylabel('dF/F z-score')\n",
    "ax.set_xlabel('time (seconds)')\n",
    "ax.axvline(x=0, linestyle='--', color='r')\n",
    "fig = plt.gcf()\n",
    "fig.set_size_inches(7, 6)\n",
    "#fig.draw()\n",
    "#fig.savefig('.svg')\n",
    "fig.subplots_adjust(left=0.15)\n",
    "fig.savefig('/Users/johnmarshall/Documents/Presentations/Feb20201_LabMeeting/wt_fluorescence_triggered.pdf', transparent=True)\n",
    "plt.show()"
   ]
  },
  {
   "cell_type": "markdown",
   "metadata": {},
   "source": [
    "## event ISIs "
   ]
  },
  {
   "cell_type": "code",
   "execution_count": null,
   "metadata": {
    "collapsed": true
   },
   "outputs": [],
   "source": [
    "filtered_for_analysis = {}\n",
    "for session in list(grouped_raw_data.keys()):\n",
    "    filtered_for_analysis[session] = utils_jjm.filter_out_by_size(grouped_raw_data[session]['C_normalized_z_scored'], grouped_raw_data[session]['cell_contours'], \n",
    "                                                                  grouped_raw_data[session]['for_dims'], 0.6, 100)\n",
    "C_df = pd.concat([filtered_for_analysis[session].resample(str(new_sampling_interval)+'S').max()\n",
    "                  for session in list(grouped_raw_data.keys())], keys=list(grouped_raw_data.keys()))"
   ]
  },
  {
   "cell_type": "code",
   "execution_count": null,
   "metadata": {
    "collapsed": true
   },
   "outputs": [],
   "source": [
    "C_df = C_df.drop(['msCamFrame'], axis=1)"
   ]
  },
  {
   "cell_type": "code",
   "execution_count": null,
   "metadata": {
    "collapsed": true
   },
   "outputs": [],
   "source": []
  },
  {
   "cell_type": "code",
   "execution_count": null,
   "metadata": {
    "collapsed": true
   },
   "outputs": [],
   "source": [
    "ISIs_by_session = []\n",
    "for session in list(grouped_raw_data.keys()):\n",
    "    print(session)\n",
    "    event_indicies, event_times, event_ISIs = utils_jjm.get_ISIs(C_df.loc[session].dropna(axis=1), 20, .1, np.array(C_df.loc[session].dropna(axis=1).columns), 2)\n",
    "    ISIs_by_session.append(event_ISIs)"
   ]
  },
  {
   "cell_type": "code",
   "execution_count": null,
   "metadata": {
    "collapsed": true
   },
   "outputs": [],
   "source": []
  },
  {
   "cell_type": "code",
   "execution_count": null,
   "metadata": {
    "collapsed": true
   },
   "outputs": [],
   "source": []
  }
 ],
 "metadata": {
  "kernelspec": {
   "display_name": "caiman",
   "language": "python",
   "name": "caiman"
  },
  "language_info": {
   "codemirror_mode": {
    "name": "ipython",
    "version": 3
   },
   "file_extension": ".py",
   "mimetype": "text/x-python",
   "name": "python",
   "nbconvert_exporter": "python",
   "pygments_lexer": "ipython3",
   "version": "3.6.7"
  }
 },
 "nbformat": 4,
 "nbformat_minor": 2
}
