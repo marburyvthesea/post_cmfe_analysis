{
 "cells": [
  {
   "cell_type": "code",
   "execution_count": 1,
   "metadata": {
    "scrolled": true
   },
   "outputs": [
    {
     "data": {
      "text/html": [
       "<style>.container { width:90% !important; }</style>"
      ],
      "text/plain": [
       "<IPython.core.display.HTML object>"
      ]
     },
     "metadata": {},
     "output_type": "display_data"
    },
    {
     "name": "stderr",
     "output_type": "stream",
     "text": [
      "/home/jma819/.conda/envs/caiman/lib/python3.6/site-packages/sklearn/utils/deprecation.py:144: FutureWarning: The sklearn.decomposition.incremental_pca module is  deprecated in version 0.22 and will be removed in version 0.24. The corresponding classes / functions should instead be imported from sklearn.decomposition. Anything that cannot be imported from sklearn.decomposition is now part of the private API.\n",
      "  warnings.warn(message, FutureWarning)\n"
     ]
    }
   ],
   "source": [
    "from IPython.core.display import display, HTML\n",
    "display(HTML(\"<style>.container { width:90% !important; }</style>\"))\n",
    "import numpy as np\n",
    "import pandas as pd\n",
    "import h5py\n",
    "from tqdm import tqdm\n",
    "import scipy.io as sio\n",
    "from scipy import stats\n",
    "from importlib import reload\n",
    "from matplotlib import pyplot as plt\n",
    "import sys\n",
    "sys.path.append('/home/jma819/post_cmfe_analysis')\n",
    "import python_utils_jjm as utils_jjm\n",
    "import dlc_utils\n",
    "import caiman\n",
    "import statsmodels.formula.api as smf\n",
    "import scipy.spatial.distance as dist\n",
    "import itertools"
   ]
  },
  {
   "cell_type": "code",
   "execution_count": 2,
   "metadata": {
    "scrolled": false
   },
   "outputs": [
    {
     "data": {
      "text/plain": [
       "<module 'python_utils_jjm' from '/home/jma819/post_cmfe_analysis/python_utils_jjm.py'>"
      ]
     },
     "execution_count": 2,
     "metadata": {},
     "output_type": "execute_result"
    }
   ],
   "source": [
    "reload(dlc_utils)\n",
    "reload(utils_jjm)"
   ]
  },
  {
   "cell_type": "code",
   "execution_count": 3,
   "metadata": {},
   "outputs": [],
   "source": [
    "#load and prep data\n",
    "dir_path_cnmfe = '/projects/p30771/MATLAB/CNMF_E_jjm/quest_MATLAB_cnmfe/batch_output_files/29-Mar_21_42_20_out.mat'\n",
    "dir_path_tracking = '/projects/p30771/dlc_analysis/openfield_dlc_output/GRIN018_H17_M41_S43/GRIN018_H17_M41_S43_dlc_tracking_foranalysis_04142020.csv'"
   ]
  },
  {
   "cell_type": "code",
   "execution_count": 4,
   "metadata": {},
   "outputs": [],
   "source": [
    "#spatial components\n",
    "com_df, spatial_components = utils_jjm.return_spatial_info(dir_path_cnmfe, 0.6)"
   ]
  },
  {
   "cell_type": "code",
   "execution_count": 5,
   "metadata": {},
   "outputs": [
    {
     "data": {
      "image/png": "[encoded data removed]",
      "text/plain": [
       "<Figure size 432x288 with 1 Axes>"
      ]
     },
     "metadata": {
      "needs_background": "light"
     },
     "output_type": "display_data"
    }
   ],
   "source": [
    "#spatial contours\n",
    "cell_contours, x, y = utils_jjm.create_contour_layouts(spatial_components)\n",
    "##if plotting\n",
    "to_plot = np.array(list(cell_contours.values()))\n",
    "for i in range(len(to_plot)):\n",
    "    plt.contour(y, x, to_plot[i], [0.6], colors='r')"
   ]
  },
  {
   "cell_type": "code",
   "execution_count": 6,
   "metadata": {},
   "outputs": [],
   "source": [
    "# temporal and tracking data\n",
    "C_z_scored, interpolated = utils_jjm.prepare_timedelta_dfs(dir_path_cnmfe, dir_path_tracking)"
   ]
  },
  {
   "cell_type": "code",
   "execution_count": null,
   "metadata": {},
   "outputs": [],
   "source": [
    "interpolated.head()"
   ]
  },
  {
   "cell_type": "code",
   "execution_count": null,
   "metadata": {
    "scrolled": true
   },
   "outputs": [],
   "source": [
    "# plotting individual cell fluorescence \n",
    "plt.plot(C_z_scored[5][0:4000])\n",
    "plt.show()"
   ]
  },
  {
   "cell_type": "markdown",
   "metadata": {},
   "source": [
    "## individual cell regression"
   ]
  },
  {
   "cell_type": "code",
   "execution_count": null,
   "metadata": {},
   "outputs": [],
   "source": [
    "## inputs are downsampling interval, number of bins, body part to use for velocity correlation, velocity dataframe, fluorescence dataframe \n",
    "cells_C_binned_by_V, cells_mean_C_binned_by_V = dlc_utils.downsample_session_and_bin_C_by_V(1, 50, 'centroid', interpolated, C_z_scored)"
   ]
  },
  {
   "cell_type": "code",
   "execution_count": null,
   "metadata": {},
   "outputs": [],
   "source": [
    "regression_results = dlc_utils.create_regression_models_per_cell(cells_mean_C_binned_by_V, 2)"
   ]
  },
  {
   "cell_type": "code",
   "execution_count": null,
   "metadata": {
    "scrolled": true
   },
   "outputs": [],
   "source": [
    "regression_results[2]['statsmodel_results'].summary()"
   ]
  },
  {
   "cell_type": "code",
   "execution_count": null,
   "metadata": {},
   "outputs": [],
   "source": [
    "print(regression_results[cell]['statsmodel_results'].summary().tables[0][0][3].data)"
   ]
  },
  {
   "cell_type": "code",
   "execution_count": null,
   "metadata": {},
   "outputs": [],
   "source": [
    "cell=4\n",
    "#label\n",
    "print(regression_results[cell]['statsmodel_results'].summary().tables[0][3][2].data)\n",
    "#F-stat\n",
    "print(regression_results[cell]['statsmodel_results'].summary().tables[0][3][3].data)\n",
    "xp, p1d = dlc_utils.plot_cell_regression(regression_results, cell, cells_mean_C_binned_by_V)\n",
    "fig = plt.plot(regression_results[cell]['fit_df']['x'].values, regression_results[cell]['fit_df']['y'].values, '.',\n",
    "              xp, p1d(xp), '--')\n"
   ]
  },
  {
   "cell_type": "code",
   "execution_count": null,
   "metadata": {},
   "outputs": [],
   "source": [
    "F_stats = np.array([float(regression_results[cell]['statsmodel_results'].summary().tables[0][3][3].data) for cell in range(1, len(regression_results)+1)])"
   ]
  },
  {
   "cell_type": "code",
   "execution_count": null,
   "metadata": {},
   "outputs": [],
   "source": [
    "# to determine cells with significant quadratic regressions\n",
    "len(np.argwhere(F_stats<0.05))"
   ]
  },
  {
   "cell_type": "markdown",
   "metadata": {},
   "source": [
    "## plotting event averages"
   ]
  },
  {
   "cell_type": "code",
   "execution_count": null,
   "metadata": {},
   "outputs": [],
   "source": [
    "## plot downsampled velocity \n",
    "# plotting \"interpolated velocity\"\n",
    "interpolated_indicies=(0,4000)\n",
    "plt.plot(interpolated['msCam_index'][interpolated_indicies[0]:interpolated_indicies[1]], interpolated['tail_base'][interpolated_indicies[0]:interpolated_indicies[1]])\n",
    "plt.show()\n",
    "\n",
    "# downsample velocity and pick maximum values within 200msec \n",
    "new_sampling_interval = 2\n",
    "interpolated = interpolated.set_index(pd.to_timedelta(np.linspace(0, len(interpolated)*(1/20), len(interpolated)), unit='s'), drop=True)\n",
    "interpolated_downsampled = interpolated.resample(str(new_sampling_interval)+'S').max()\n"
   ]
  },
  {
   "cell_type": "code",
   "execution_count": null,
   "metadata": {},
   "outputs": [],
   "source": [
    "binned_velocity = dlc_utils.bin_by_activity_threshold(interpolated['tail_base'], 40, 20, 0.5, 0.5)"
   ]
  },
  {
   "cell_type": "code",
   "execution_count": null,
   "metadata": {
    "scrolled": true
   },
   "outputs": [],
   "source": [
    "plt.plot(binned_velocity[indicies[0]:indicies[1]])"
   ]
  },
  {
   "cell_type": "code",
   "execution_count": null,
   "metadata": {},
   "outputs": [],
   "source": [
    "#return inidicies where velocity transitions from at least a 1 second resting period \n",
    "transition_indicies = []\n",
    "resting_threshold = 40\n",
    "for point in range(resting_threshold, len(binned_velocity)):\n",
    "    if binned_velocity[point]>0.5 and not any(binned_velocity[point-resting_threshold:point]):\n",
    "           transition_indicies.append(point)"
   ]
  },
  {
   "cell_type": "code",
   "execution_count": null,
   "metadata": {},
   "outputs": [],
   "source": [
    "#select section of trace 2 seconds around transition periods\n",
    "transition_activity = {}\n",
    "for index in transition_indicies:\n",
    "       transition_activity[index] = C_z_scored.mean(axis=0)[index-40:index+40]\n",
    "threshold_activity_df = pd.DataFrame(transition_activity)"
   ]
  },
  {
   "cell_type": "code",
   "execution_count": null,
   "metadata": {},
   "outputs": [],
   "source": [
    "plt.plot(threshold_activity_df.mean(axis=1))\n",
    "plt.show()"
   ]
  },
  {
   "cell_type": "code",
   "execution_count": null,
   "metadata": {
    "scrolled": false
   },
   "outputs": [],
   "source": [
    "plt.plot(C_z_scored.mean(axis=0)[indicies[0]:indicies[1]])"
   ]
  },
  {
   "cell_type": "code",
   "execution_count": null,
   "metadata": {
    "scrolled": true
   },
   "outputs": [],
   "source": [
    "#return indicies where value is above threshold\n",
    "moving_indicies = np.argwhere(binned_velocity>0.5)\n",
    "#compare df/f for moving and nonmoving periods \n",
    "df_f_moving = np.mean(C_z_scored.mean(axis=0)[moving_indicies])\n",
    "df_f_resting = np.mean(C_z_scored.mean(axis=0)[np.argwhere(binned_velocity[0:25000]<0.5)])"
   ]
  },
  {
   "cell_type": "code",
   "execution_count": null,
   "metadata": {},
   "outputs": [],
   "source": [
    "np.mean(C_z_scored.mean(axis=0)[moving_indicies])"
   ]
  },
  {
   "cell_type": "code",
   "execution_count": null,
   "metadata": {},
   "outputs": [],
   "source": [
    "np.mean(C_z_scored.mean(axis=0)[np.argwhere(binned_velocity[0:25000]<0.5)])"
   ]
  },
  {
   "cell_type": "markdown",
   "metadata": {},
   "source": [
    "## spatial clustering "
   ]
  },
  {
   "cell_type": "code",
   "execution_count": 7,
   "metadata": {},
   "outputs": [],
   "source": [
    "# get euclidean distances between cells\n",
    "# need to redo indicies so they are cell numbers, not indicies from com array\n",
    "pairwise_euclidean_distance = {}\n",
    "for pair in itertools.combinations(range(1, len(com_df)+1),2):\n",
    "    pairwise_euclidean_distance[pair] = dist.euclidean(com_df.loc[pair[0]], com_df.loc[pair[1]])    \n",
    "    #print(pair)\n",
    "pairwise_distance = pd.DataFrame(pairwise_euclidean_distance, index=['euclidean distance'])"
   ]
  },
  {
   "cell_type": "code",
   "execution_count": 8,
   "metadata": {},
   "outputs": [
    {
     "data": {
      "text/html": [
       "<div>\n",
       "<style scoped>\n",
       "    .dataframe tbody tr th:only-of-type {\n",
       "        vertical-align: middle;\n",
       "    }\n",
       "\n",
       "    .dataframe tbody tr th {\n",
       "        vertical-align: top;\n",
       "    }\n",
       "\n",
       "    .dataframe thead tr th {\n",
       "        text-align: left;\n",
       "    }\n",
       "</style>\n",
       "<table border=\"1\" class=\"dataframe\">\n",
       "  <thead>\n",
       "    <tr>\n",
       "      <th></th>\n",
       "      <th colspan=\"10\" halign=\"left\">1</th>\n",
       "      <th>...</th>\n",
       "      <th colspan=\"4\" halign=\"left\">144</th>\n",
       "      <th colspan=\"3\" halign=\"left\">145</th>\n",
       "      <th colspan=\"2\" halign=\"left\">146</th>\n",
       "      <th>147</th>\n",
       "    </tr>\n",
       "    <tr>\n",
       "      <th></th>\n",
       "      <th>2</th>\n",
       "      <th>3</th>\n",
       "      <th>4</th>\n",
       "      <th>5</th>\n",
       "      <th>6</th>\n",
       "      <th>7</th>\n",
       "      <th>8</th>\n",
       "      <th>9</th>\n",
       "      <th>10</th>\n",
       "      <th>11</th>\n",
       "      <th>...</th>\n",
       "      <th>145</th>\n",
       "      <th>146</th>\n",
       "      <th>147</th>\n",
       "      <th>148</th>\n",
       "      <th>146</th>\n",
       "      <th>147</th>\n",
       "      <th>148</th>\n",
       "      <th>147</th>\n",
       "      <th>148</th>\n",
       "      <th>148</th>\n",
       "    </tr>\n",
       "  </thead>\n",
       "  <tbody>\n",
       "    <tr>\n",
       "      <th>euclidean distance</th>\n",
       "      <td>101.358911</td>\n",
       "      <td>158.818802</td>\n",
       "      <td>64.356977</td>\n",
       "      <td>170.389634</td>\n",
       "      <td>84.50063</td>\n",
       "      <td>186.496933</td>\n",
       "      <td>321.153874</td>\n",
       "      <td>112.026391</td>\n",
       "      <td>191.246868</td>\n",
       "      <td>148.043154</td>\n",
       "      <td>...</td>\n",
       "      <td>25.109004</td>\n",
       "      <td>48.456518</td>\n",
       "      <td>42.060579</td>\n",
       "      <td>50.512261</td>\n",
       "      <td>27.735483</td>\n",
       "      <td>40.442635</td>\n",
       "      <td>47.670068</td>\n",
       "      <td>66.119355</td>\n",
       "      <td>72.26151</td>\n",
       "      <td>8.453097</td>\n",
       "    </tr>\n",
       "  </tbody>\n",
       "</table>\n",
       "<p>1 rows × 10878 columns</p>\n",
       "</div>"
      ],
      "text/plain": [
       "                           1                                                 \\\n",
       "                           2           3          4           5         6     \n",
       "euclidean distance  101.358911  158.818802  64.356977  170.389634  84.50063   \n",
       "\n",
       "                                                                    \\\n",
       "                           7           8           9           10    \n",
       "euclidean distance  186.496933  321.153874  112.026391  191.246868   \n",
       "\n",
       "                                ...        144                        \\\n",
       "                           11   ...        145        146        147   \n",
       "euclidean distance  148.043154  ...  25.109004  48.456518  42.060579   \n",
       "\n",
       "                                     145                              146  \\\n",
       "                          148        146        147        148        147   \n",
       "euclidean distance  50.512261  27.735483  40.442635  47.670068  66.119355   \n",
       "\n",
       "                                   147  \n",
       "                         148       148  \n",
       "euclidean distance  72.26151  8.453097  \n",
       "\n",
       "[1 rows x 10878 columns]"
      ]
     },
     "execution_count": 8,
     "metadata": {},
     "output_type": "execute_result"
    }
   ],
   "source": [
    "pairwise_distance"
   ]
  },
  {
   "cell_type": "code",
   "execution_count": 9,
   "metadata": {},
   "outputs": [],
   "source": [
    "C_z_scored_binned = C_z_scored.apply(utils_jjm.binning_function_uncrop, args=[20, 2])\n",
    "C_z_scored_binned.drop(['msCamFrame'], axis=1, inplace=True)"
   ]
  },
  {
   "cell_type": "code",
   "execution_count": 26,
   "metadata": {},
   "outputs": [],
   "source": [
    "# get linear pairwise correlation coefficients\n",
    "pairwise_r_correlation_unbinned = {}\n",
    "for pair in itertools.combinations(range(1, len(com_df)+1),2):\n",
    "    pairwise_r_correlation_unbinned[pair] = stats.pearsonr(C_z_scored_binned[pair[0]], C_z_scored_binned[pair[1]])[0]\n",
    "\n",
    "pairwise_pearson = pd.DataFrame(pairwise_r_correlation_unbinned, index=['pairwise_pearson_r'])\n"
   ]
  },
  {
   "cell_type": "code",
   "execution_count": 27,
   "metadata": {},
   "outputs": [
    {
     "data": {
      "image/png": "[encoded data removed]",
      "text/plain": [
       "<Figure size 432x288 with 1 Axes>"
      ]
     },
     "metadata": {
      "needs_background": "light"
     },
     "output_type": "display_data"
    }
   ],
   "source": [
    "plt.scatter(pairwise_distance.values[0], pairwise_pearson.values[0])\n",
    "plt.show()"
   ]
  },
  {
   "cell_type": "code",
   "execution_count": 54,
   "metadata": {},
   "outputs": [
    {
     "data": {
      "image/png": "[encoded data removed]",
      "text/plain": [
       "<Figure size 432x288 with 1 Axes>"
      ]
     },
     "metadata": {
      "needs_background": "light"
     },
     "output_type": "display_data"
    }
   ],
   "source": [
    "## fit regression\n",
    "deg = 2\n",
    "fit_data = pd.DataFrame(columns=['y', 'x'])\n",
    "fit_data['y'] = pairwise_pearson.values[0]\n",
    "fit_data['x'] = pairwise_distance.values[0]\n",
    "\n",
    "p1d = np.poly1d(np.polyfit(fit_data['x'].values, fit_data['y'].values, deg))\n",
    "model = np.poly1d(np.polyfit(fit_data['x'].values, fit_data['y'].values, deg))\n",
    "results = smf.ols(formula='y ~ model(x)', data=fit_data).fit()\n",
    "\n",
    "xp = np.linspace(0, 400, 400)\n",
    "fig = plt.plot(fit_data['x'].values, fit_data['y'].values, '.',\n",
    "              xp, p1d(xp), '--')"
   ]
  },
  {
   "cell_type": "code",
   "execution_count": 53,
   "metadata": {},
   "outputs": [
    {
     "data": {
      "text/html": [
       "<table class=\"simpletable\">\n",
       "<caption>OLS Regression Results</caption>\n",
       "<tr>\n",
       "  <th>Dep. Variable:</th>            <td>y</td>        <th>  R-squared:         </th> <td>   0.122</td> \n",
       "</tr>\n",
       "<tr>\n",
       "  <th>Model:</th>                   <td>OLS</td>       <th>  Adj. R-squared:    </th> <td>   0.122</td> \n",
       "</tr>\n",
       "<tr>\n",
       "  <th>Method:</th>             <td>Least Squares</td>  <th>  F-statistic:       </th> <td>   1509.</td> \n",
       "</tr>\n",
       "<tr>\n",
       "  <th>Date:</th>             <td>Sun, 19 Apr 2020</td> <th>  Prob (F-statistic):</th> <td>2.51e-309</td>\n",
       "</tr>\n",
       "<tr>\n",
       "  <th>Time:</th>                 <td>23:02:28</td>     <th>  Log-Likelihood:    </th> <td>  138.31</td> \n",
       "</tr>\n",
       "<tr>\n",
       "  <th>No. Observations:</th>      <td> 10878</td>      <th>  AIC:               </th> <td>  -272.6</td> \n",
       "</tr>\n",
       "<tr>\n",
       "  <th>Df Residuals:</th>          <td> 10876</td>      <th>  BIC:               </th> <td>  -258.0</td> \n",
       "</tr>\n",
       "<tr>\n",
       "  <th>Df Model:</th>              <td>     1</td>      <th>                     </th>     <td> </td>    \n",
       "</tr>\n",
       "<tr>\n",
       "  <th>Covariance Type:</th>      <td>nonrobust</td>    <th>                     </th>     <td> </td>    \n",
       "</tr>\n",
       "</table>\n",
       "<table class=\"simpletable\">\n",
       "<tr>\n",
       "      <td></td>         <th>coef</th>     <th>std err</th>      <th>t</th>      <th>P>|t|</th>  <th>[0.025</th>    <th>0.975]</th>  \n",
       "</tr>\n",
       "<tr>\n",
       "  <th>Intercept</th> <td> 4.176e-16</td> <td>    0.004</td> <td> 1.03e-13</td> <td> 1.000</td> <td>   -0.008</td> <td>    0.008</td>\n",
       "</tr>\n",
       "<tr>\n",
       "  <th>model(x)</th>  <td>    1.0000</td> <td>    0.026</td> <td>   38.852</td> <td> 0.000</td> <td>    0.950</td> <td>    1.050</td>\n",
       "</tr>\n",
       "</table>\n",
       "<table class=\"simpletable\">\n",
       "<tr>\n",
       "  <th>Omnibus:</th>       <td>1517.034</td> <th>  Durbin-Watson:     </th> <td>   1.309</td>\n",
       "</tr>\n",
       "<tr>\n",
       "  <th>Prob(Omnibus):</th>  <td> 0.000</td>  <th>  Jarque-Bera (JB):  </th> <td>2331.156</td>\n",
       "</tr>\n",
       "<tr>\n",
       "  <th>Skew:</th>           <td> 0.995</td>  <th>  Prob(JB):          </th> <td>    0.00</td>\n",
       "</tr>\n",
       "<tr>\n",
       "  <th>Kurtosis:</th>       <td> 4.088</td>  <th>  Cond. No.          </th> <td>    11.4</td>\n",
       "</tr>\n",
       "</table><br/><br/>Warnings:<br/>[1] Standard Errors assume that the covariance matrix of the errors is correctly specified."
      ],
      "text/plain": [
       "<class 'statsmodels.iolib.summary.Summary'>\n",
       "\"\"\"\n",
       "                            OLS Regression Results                            \n",
       "==============================================================================\n",
       "Dep. Variable:                      y   R-squared:                       0.122\n",
       "Model:                            OLS   Adj. R-squared:                  0.122\n",
       "Method:                 Least Squares   F-statistic:                     1509.\n",
       "Date:                Sun, 19 Apr 2020   Prob (F-statistic):          2.51e-309\n",
       "Time:                        23:02:28   Log-Likelihood:                 138.31\n",
       "No. Observations:               10878   AIC:                            -272.6\n",
       "Df Residuals:                   10876   BIC:                            -258.0\n",
       "Df Model:                           1                                         \n",
       "Covariance Type:            nonrobust                                         \n",
       "==============================================================================\n",
       "                 coef    std err          t      P>|t|      [0.025      0.975]\n",
       "------------------------------------------------------------------------------\n",
       "Intercept   4.176e-16      0.004   1.03e-13      1.000      -0.008       0.008\n",
       "model(x)       1.0000      0.026     38.852      0.000       0.950       1.050\n",
       "==============================================================================\n",
       "Omnibus:                     1517.034   Durbin-Watson:                   1.309\n",
       "Prob(Omnibus):                  0.000   Jarque-Bera (JB):             2331.156\n",
       "Skew:                           0.995   Prob(JB):                         0.00\n",
       "Kurtosis:                       4.088   Cond. No.                         11.4\n",
       "==============================================================================\n",
       "\n",
       "Warnings:\n",
       "[1] Standard Errors assume that the covariance matrix of the errors is correctly specified.\n",
       "\"\"\""
      ]
     },
     "execution_count": 53,
     "metadata": {},
     "output_type": "execute_result"
    }
   ],
   "source": [
    "results.summary()"
   ]
  },
  {
   "cell_type": "code",
   "execution_count": 40,
   "metadata": {},
   "outputs": [],
   "source": [
    "# get indicies of interpolated dataframe where mouse is moving \n",
    "indicies_to_match = interpolated.iloc[0:len(C_z_scored_binned)][interpolated.iloc[0:len(C_z_scored_binned)]['centroid']>10].index"
   ]
  },
  {
   "cell_type": "code",
   "execution_count": 41,
   "metadata": {
    "scrolled": false
   },
   "outputs": [],
   "source": [
    "C_z_scored_moving = C_z_scored_binned.iloc[[interpolated.index.get_loc(value) for value in indicies_to_match]]"
   ]
  },
  {
   "cell_type": "code",
   "execution_count": 55,
   "metadata": {},
   "outputs": [],
   "source": [
    "#C_z_scored_moving"
   ]
  },
  {
   "cell_type": "code",
   "execution_count": 43,
   "metadata": {},
   "outputs": [],
   "source": [
    "#plt.plot(interpolated['centroid'].values[0:200])\n",
    "#plt.show()"
   ]
  },
  {
   "cell_type": "code",
   "execution_count": 44,
   "metadata": {},
   "outputs": [],
   "source": [
    "#interpolated.loc['00:00:03.550000']"
   ]
  },
  {
   "cell_type": "code",
   "execution_count": 45,
   "metadata": {},
   "outputs": [],
   "source": [
    "# get linear pairwise correlation coefficients\n",
    "pairwise_r_correlation_unbinned_moving = {}\n",
    "for pair in itertools.combinations(range(1, len(com_df)+1),2):\n",
    "    pairwise_r_correlation_unbinned_moving[pair] = stats.pearsonr(C_z_scored_moving[pair[0]], C_z_scored_moving[pair[1]])[0]\n",
    "\n",
    "pairwise_pearson_moving = pd.DataFrame(pairwise_r_correlation_unbinned_moving, index=['pairwise_pearson_r'])\n"
   ]
  },
  {
   "cell_type": "code",
   "execution_count": 39,
   "metadata": {},
   "outputs": [
    {
     "data": {
      "image/png": "[encoded data removed]",
      "text/plain": [
       "<Figure size 432x288 with 1 Axes>"
      ]
     },
     "metadata": {
      "needs_background": "light"
     },
     "output_type": "display_data"
    }
   ],
   "source": [
    "plt.scatter(pairwise_distance.values[0], pairwise_pearson_moving.values[0])\n",
    "plt.show()"
   ]
  },
  {
   "cell_type": "code",
   "execution_count": 58,
   "metadata": {},
   "outputs": [
    {
     "data": {
      "image/png": "[encoded data removed]",
      "text/plain": [
       "<Figure size 432x288 with 1 Axes>"
      ]
     },
     "metadata": {
      "needs_background": "light"
     },
     "output_type": "display_data"
    }
   ],
   "source": [
    "## fit regression\n",
    "deg = 2\n",
    "fit_data = pd.DataFrame(columns=['y', 'x'])\n",
    "fit_data['y'] = pairwise_pearson_moving.values[0]\n",
    "fit_data['x'] = pairwise_distance.values[0]\n",
    "\n",
    "p1d = np.poly1d(np.polyfit(fit_data['x'].values, fit_data['y'].values, deg))\n",
    "model = np.poly1d(np.polyfit(fit_data['x'].values, fit_data['y'].values, deg))\n",
    "results = smf.ols(formula='y ~ model(x)', data=fit_data).fit()\n",
    "\n",
    "xp = np.linspace(0, 400, 400)\n",
    "fig = plt.plot(fit_data['x'].values, fit_data['y'].values, '.',\n",
    "              xp, p1d(xp), '--')"
   ]
  },
  {
   "cell_type": "code",
   "execution_count": 59,
   "metadata": {},
   "outputs": [
    {
     "data": {
      "text/html": [
       "<table class=\"simpletable\">\n",
       "<caption>OLS Regression Results</caption>\n",
       "<tr>\n",
       "  <th>Dep. Variable:</th>            <td>y</td>        <th>  R-squared:         </th> <td>   0.112</td> \n",
       "</tr>\n",
       "<tr>\n",
       "  <th>Model:</th>                   <td>OLS</td>       <th>  Adj. R-squared:    </th> <td>   0.112</td> \n",
       "</tr>\n",
       "<tr>\n",
       "  <th>Method:</th>             <td>Least Squares</td>  <th>  F-statistic:       </th> <td>   1377.</td> \n",
       "</tr>\n",
       "<tr>\n",
       "  <th>Date:</th>             <td>Sun, 19 Apr 2020</td> <th>  Prob (F-statistic):</th> <td>6.36e-284</td>\n",
       "</tr>\n",
       "<tr>\n",
       "  <th>Time:</th>                 <td>23:06:58</td>     <th>  Log-Likelihood:    </th> <td>  152.51</td> \n",
       "</tr>\n",
       "<tr>\n",
       "  <th>No. Observations:</th>      <td> 10878</td>      <th>  AIC:               </th> <td>  -301.0</td> \n",
       "</tr>\n",
       "<tr>\n",
       "  <th>Df Residuals:</th>          <td> 10876</td>      <th>  BIC:               </th> <td>  -286.4</td> \n",
       "</tr>\n",
       "<tr>\n",
       "  <th>Df Model:</th>              <td>     1</td>      <th>                     </th>     <td> </td>    \n",
       "</tr>\n",
       "<tr>\n",
       "  <th>Covariance Type:</th>      <td>nonrobust</td>    <th>                     </th>     <td> </td>    \n",
       "</tr>\n",
       "</table>\n",
       "<table class=\"simpletable\">\n",
       "<tr>\n",
       "      <td></td>         <th>coef</th>     <th>std err</th>      <th>t</th>      <th>P>|t|</th>  <th>[0.025</th>    <th>0.975]</th>  \n",
       "</tr>\n",
       "<tr>\n",
       "  <th>Intercept</th> <td> 3.516e-16</td> <td>    0.004</td> <td> 8.29e-14</td> <td> 1.000</td> <td>   -0.008</td> <td>    0.008</td>\n",
       "</tr>\n",
       "<tr>\n",
       "  <th>model(x)</th>  <td>    1.0000</td> <td>    0.027</td> <td>   37.109</td> <td> 0.000</td> <td>    0.947</td> <td>    1.053</td>\n",
       "</tr>\n",
       "</table>\n",
       "<table class=\"simpletable\">\n",
       "<tr>\n",
       "  <th>Omnibus:</th>       <td>1721.668</td> <th>  Durbin-Watson:     </th> <td>   1.320</td>\n",
       "</tr>\n",
       "<tr>\n",
       "  <th>Prob(Omnibus):</th>  <td> 0.000</td>  <th>  Jarque-Bera (JB):  </th> <td>2808.061</td>\n",
       "</tr>\n",
       "<tr>\n",
       "  <th>Skew:</th>           <td> 1.074</td>  <th>  Prob(JB):          </th> <td>    0.00</td>\n",
       "</tr>\n",
       "<tr>\n",
       "  <th>Kurtosis:</th>       <td> 4.256</td>  <th>  Cond. No.          </th> <td>    12.0</td>\n",
       "</tr>\n",
       "</table><br/><br/>Warnings:<br/>[1] Standard Errors assume that the covariance matrix of the errors is correctly specified."
      ],
      "text/plain": [
       "<class 'statsmodels.iolib.summary.Summary'>\n",
       "\"\"\"\n",
       "                            OLS Regression Results                            \n",
       "==============================================================================\n",
       "Dep. Variable:                      y   R-squared:                       0.112\n",
       "Model:                            OLS   Adj. R-squared:                  0.112\n",
       "Method:                 Least Squares   F-statistic:                     1377.\n",
       "Date:                Sun, 19 Apr 2020   Prob (F-statistic):          6.36e-284\n",
       "Time:                        23:06:58   Log-Likelihood:                 152.51\n",
       "No. Observations:               10878   AIC:                            -301.0\n",
       "Df Residuals:                   10876   BIC:                            -286.4\n",
       "Df Model:                           1                                         \n",
       "Covariance Type:            nonrobust                                         \n",
       "==============================================================================\n",
       "                 coef    std err          t      P>|t|      [0.025      0.975]\n",
       "------------------------------------------------------------------------------\n",
       "Intercept   3.516e-16      0.004   8.29e-14      1.000      -0.008       0.008\n",
       "model(x)       1.0000      0.027     37.109      0.000       0.947       1.053\n",
       "==============================================================================\n",
       "Omnibus:                     1721.668   Durbin-Watson:                   1.320\n",
       "Prob(Omnibus):                  0.000   Jarque-Bera (JB):             2808.061\n",
       "Skew:                           1.074   Prob(JB):                         0.00\n",
       "Kurtosis:                       4.256   Cond. No.                         12.0\n",
       "==============================================================================\n",
       "\n",
       "Warnings:\n",
       "[1] Standard Errors assume that the covariance matrix of the errors is correctly specified.\n",
       "\"\"\""
      ]
     },
     "execution_count": 59,
     "metadata": {},
     "output_type": "execute_result"
    }
   ],
   "source": [
    "results.summary()"
   ]
  },
  {
   "cell_type": "code",
   "execution_count": null,
   "metadata": {},
   "outputs": [],
   "source": []
  }
 ],
 "metadata": {
  "kernelspec": {
   "display_name": "caiman",
   "language": "python",
   "name": "caiman"
  },
  "language_info": {
   "codemirror_mode": {
    "name": "ipython",
    "version": 3
   },
   "file_extension": ".py",
   "mimetype": "text/x-python",
   "name": "python",
   "nbconvert_exporter": "python",
   "pygments_lexer": "ipython3",
   "version": "3.6.7"
  }
 },
 "nbformat": 4,
 "nbformat_minor": 2
}
