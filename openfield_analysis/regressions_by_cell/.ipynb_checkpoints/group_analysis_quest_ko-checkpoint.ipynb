{
 "cells": [
  {
   "cell_type": "code",
   "execution_count": 2,
   "metadata": {},
   "outputs": [
    {
     "data": {
      "text/html": [
       "<style>.container { width:90% !important; }</style>"
      ],
      "text/plain": [
       "<IPython.core.display.HTML object>"
      ]
     },
     "metadata": {},
     "output_type": "display_data"
    },
    {
     "name": "stderr",
     "output_type": "stream",
     "text": [
      "/Users/johnmarshall/anaconda3/envs/caiman/lib/python3.6/site-packages/sklearn/utils/deprecation.py:144: FutureWarning: The sklearn.decomposition.incremental_pca module is  deprecated in version 0.22 and will be removed in version 0.24. The corresponding classes / functions should instead be imported from sklearn.decomposition. Anything that cannot be imported from sklearn.decomposition is now part of the private API.\n",
      "  warnings.warn(message, FutureWarning)\n",
      "/Users/johnmarshall/anaconda3/envs/caiman/lib/python3.6/site-packages/tensorflow/python/framework/dtypes.py:526: FutureWarning: Passing (type, 1) or '1type' as a synonym of type is deprecated; in a future version of numpy, it will be understood as (type, (1,)) / '(1,)type'.\n",
      "  _np_qint8 = np.dtype([(\"qint8\", np.int8, 1)])\n",
      "/Users/johnmarshall/anaconda3/envs/caiman/lib/python3.6/site-packages/tensorflow/python/framework/dtypes.py:527: FutureWarning: Passing (type, 1) or '1type' as a synonym of type is deprecated; in a future version of numpy, it will be understood as (type, (1,)) / '(1,)type'.\n",
      "  _np_quint8 = np.dtype([(\"quint8\", np.uint8, 1)])\n",
      "/Users/johnmarshall/anaconda3/envs/caiman/lib/python3.6/site-packages/tensorflow/python/framework/dtypes.py:528: FutureWarning: Passing (type, 1) or '1type' as a synonym of type is deprecated; in a future version of numpy, it will be understood as (type, (1,)) / '(1,)type'.\n",
      "  _np_qint16 = np.dtype([(\"qint16\", np.int16, 1)])\n",
      "/Users/johnmarshall/anaconda3/envs/caiman/lib/python3.6/site-packages/tensorflow/python/framework/dtypes.py:529: FutureWarning: Passing (type, 1) or '1type' as a synonym of type is deprecated; in a future version of numpy, it will be understood as (type, (1,)) / '(1,)type'.\n",
      "  _np_quint16 = np.dtype([(\"quint16\", np.uint16, 1)])\n",
      "/Users/johnmarshall/anaconda3/envs/caiman/lib/python3.6/site-packages/tensorflow/python/framework/dtypes.py:530: FutureWarning: Passing (type, 1) or '1type' as a synonym of type is deprecated; in a future version of numpy, it will be understood as (type, (1,)) / '(1,)type'.\n",
      "  _np_qint32 = np.dtype([(\"qint32\", np.int32, 1)])\n",
      "/Users/johnmarshall/anaconda3/envs/caiman/lib/python3.6/site-packages/tensorflow/python/framework/dtypes.py:535: FutureWarning: Passing (type, 1) or '1type' as a synonym of type is deprecated; in a future version of numpy, it will be understood as (type, (1,)) / '(1,)type'.\n",
      "  np_resource = np.dtype([(\"resource\", np.ubyte, 1)])\n"
     ]
    }
   ],
   "source": [
    "from IPython.core.display import display, HTML\n",
    "display(HTML(\"<style>.container { width:90% !important; }</style>\"))\n",
    "import numpy as np\n",
    "import pandas as pd\n",
    "import h5py\n",
    "from tqdm import tqdm\n",
    "import scipy.io as sio\n",
    "from scipy import stats\n",
    "from importlib import reload\n",
    "from matplotlib import pyplot as plt\n",
    "import sys\n",
    "#sys.path.append('/home/jma819/post_cmfe_analysis')\n",
    "sys.path.append('/Users/johnmarshall/Documents/Analysis/PythonAnalysisScripts/post_cmfe_analysis')\n",
    "import python_utils_jjm as utils_jjm\n",
    "import dlc_utils\n",
    "import caiman\n",
    "import statsmodels.formula.api as smf\n",
    "import scipy.spatial.distance as dist\n",
    "import itertools\n",
    "import math\n",
    "import warnings\n",
    "warnings.filterwarnings(action='once')"
   ]
  },
  {
   "cell_type": "code",
   "execution_count": 3,
   "metadata": {
    "scrolled": true
   },
   "outputs": [
    {
     "data": {
      "text/plain": [
       "<module 'dlc_utils' from '/Users/johnmarshall/Documents/Analysis/PythonAnalysisScripts/post_cmfe_analysis/dlc_utils.py'>"
      ]
     },
     "execution_count": 3,
     "metadata": {},
     "output_type": "execute_result"
    }
   ],
   "source": [
    "reload(utils_jjm)\n",
    "reload(dlc_utils)"
   ]
  },
  {
   "cell_type": "code",
   "execution_count": 4,
   "metadata": {},
   "outputs": [],
   "source": [
    "cnmfe_file_key = pd.read_csv('/volumes/My_Passport/dlc_analysis/behavcamvideos/cnmfe_file_key.csv')\n",
    "#cnmfe_file_key = pd.read_csv('/projects/p30771/dlc_analysis/openfield_dlc_output/cnmfe_file_key.csv')"
   ]
  },
  {
   "cell_type": "code",
   "execution_count": 5,
   "metadata": {},
   "outputs": [],
   "source": [
    "cnmfe_base_dir = '/Volumes/My_Passport/cnmfe_analysis_files/batch_output_files/'\n",
    "#cnmfe_base_dir = '/projects/p30771/MATLAB/CNMF_E_jjm/quest_MATLAB_cnmfe/batch_output_files/'\n",
    "wt_CNMFE_file = ['30-Mar_20_39_05_out.mat', '30-Mar_20_45_16_out.mat', '27-Feb_17_33_59_out.mat', '22-Mar_22_52_02_out.mat',\n",
    "                 '28-Feb_16_10_05_out.mat', '27-Feb_17_32_15_out.mat', '28-Feb_16_21_21_out.mat', '25-Mar_13_27_27_out.mat',\n",
    "                 '25-Mar_14_22_02_out.mat', '25-Mar_14_22_44_out.mat', '26-Mar_18_33_55_out.mat', '27-Mar_00_26_12_out.mat', '27-Mar_00_48_46_out.mat']\n",
    "\n",
    "ko_CNMFE_files = ['31-Mar_13_28_15_out.mat', '29-Mar_21_42_20_out.mat', '13-Apr_17_57_40_out.mat', '29-Mar_14_27_55_out.mat', '13-Apr_16_01_20_out.mat',\n",
    "                 '13-Apr_16_11_27_out.mat', '29-Mar_13_39_44_out.mat']"
   ]
  },
  {
   "cell_type": "code",
   "execution_count": 8,
   "metadata": {},
   "outputs": [],
   "source": [
    "tracking_files = ['/volumes/My_Passport/dlc_analysis/behavcamvideos/'+utils_jjm.find_behavior_tracking(fname, cnmfe_file_key) for fname in ko_CNMFE_files] \n",
    "#tracking_files = ['/projects/p30771/dlc_analysis/openfield_dlc_output/'+utils_jjm.find_behavior_tracking(fname, cnmfe_file_key) for fname in ko_CNMFE_files] "
   ]
  },
  {
   "cell_type": "code",
   "execution_count": 9,
   "metadata": {},
   "outputs": [],
   "source": [
    "CNMFE_dir_paths_list = [str(cnmfe_base_dir+fname) for fname in ko_CNMFE_files]\n",
    "#CNMFE_dir_paths_list"
   ]
  },
  {
   "cell_type": "code",
   "execution_count": 10,
   "metadata": {},
   "outputs": [],
   "source": [
    "grouped_raw_data = {}\n",
    "success = []\n",
    "failed = []\n",
    "body_part ='tail_base'\n",
    "numbins_per_mouse = 50\n",
    "\n",
    "for CNMFE_file, tracking_file in zip(CNMFE_dir_paths_list, tracking_files):\n",
    "    #print(CNMFE_file)\n",
    "    #print(tracking_file)\n",
    "    try:\n",
    "        # load cell fluorescence \n",
    "        cell_fluorescence = sio.loadmat(CNMFE_file)\n",
    "        C_timedelta = utils_jjm.create_fluorescence_time_delta(cell_fluorescence['C'])\n",
    "        C_normalized = C_timedelta.apply(utils_jjm.normalize).set_index(pd.to_timedelta(np.linspace(0, (len(C_timedelta)-1)*(1/20), len(C_timedelta)), unit='s'), drop=True)\n",
    "        C_z_scored = C_timedelta.apply(stats.zscore).set_index(pd.to_timedelta(np.linspace(0, (len(C_timedelta)-1)*(1/20), len(C_timedelta)), unit='s'), drop=True)\n",
    "        C_normalized_z_scored = C_normalized.apply(stats.zscore).set_index(pd.to_timedelta(np.linspace(0, (len(C_normalized)-1)*(1/20), len(C_normalized)), unit='s'), drop=True)\n",
    "        # create tracking time deltas\n",
    "        interpolated = utils_jjm.prepare_timedelta_dfs(tracking_file)\n",
    "        interpolated['by_mouse_vbins'] = pd.cut(interpolated[body_part], bins=numbins_per_mouse)\n",
    "        #load spatial components by session\n",
    "        com_df, spatial_components = utils_jjm.return_spatial_info(CNMFE_file, 0.6)\n",
    "        cell_contours, for_dims = utils_jjm.create_contour_layouts(spatial_components)\n",
    "        #C_z_scored_filtered = utils_jjm.filter_out_by_size(C_z_scored, cell_contours, for_dims, 0.6, 100)\n",
    "        #store results \n",
    "        grouped_raw_data[tracking_file.split('/')[-2]] = {'C': C_timedelta, 'C_z_scored': C_z_scored, 'C_normalized': C_normalized, 'C_normalized_z_scored': C_normalized_z_scored, \n",
    "                                                          'interpolated' : interpolated, 'com' : com_df, 'spatial_components' : spatial_components, 'cell_contours': cell_contours,  \n",
    "                                                         'for_dims' : for_dims}\n",
    "        # downsample and bin\n",
    "        #cells_C_binned_by_V, cells_mean_C_binned_by_V = dlc_utils.downsample_session_and_bin_C_by_V(binning_time, number_of_bins, body_part_for_tracking, interpolated, C_z_scored)\n",
    "\n",
    "        #group_results_binning[tracking_file.split('/')[-2]] = {'C_z_scored':C_z_scored, 'tracking_data' :interpolated, \n",
    "        #                                      'C_binned_by_V':cells_C_binned_by_V, 'C_binned_by_V_means':cells_mean_C_binned_by_V}\n",
    "        success.append((tracking_file.split('/')[-2], CNMFE_file.split('/')[-1]))\n",
    "        #load spatial components by session\n",
    "    except FileNotFoundError:\n",
    "        failed.append(tracking_file)\n",
    "    except OSError:\n",
    "        failed.append(tracking_file)"
   ]
  },
  {
   "cell_type": "markdown",
   "metadata": {},
   "source": [
    "## regressions across cells"
   ]
  },
  {
   "cell_type": "code",
   "execution_count": 11,
   "metadata": {},
   "outputs": [],
   "source": [
    "## interval range for velocity binning\n",
    "binning_range = pd.interval_range(start=-1, end=50)"
   ]
  },
  {
   "cell_type": "code",
   "execution_count": 13,
   "metadata": {},
   "outputs": [],
   "source": [
    "## combine dfs for each session to bin velocity values across dfs\n",
    "#downsample\n",
    "new_sampling_interval = 2\n",
    "V_df = pd.concat([grouped_raw_data[session]['interpolated'].resample(str(new_sampling_interval)+'S').max() \n",
    "                  for session in list(grouped_raw_data.keys())], keys=list(grouped_raw_data.keys()))\n",
    "all_sessions_v_bins = pd.cut(V_df['tail_base'], bins=binning_range)\n",
    "\n",
    "V_df['velocity_bins'] = all_sessions_v_bins"
   ]
  },
  {
   "cell_type": "code",
   "execution_count": 14,
   "metadata": {},
   "outputs": [],
   "source": [
    "filtered_for_analysis = {}\n",
    "for session in list(grouped_raw_data.keys()):\n",
    "    filtered_for_analysis[session] = utils_jjm.filter_out_by_size(grouped_raw_data[session]['C_normalized_z_scored'], grouped_raw_data[session]['cell_contours'], \n",
    "                                                                  grouped_raw_data[session]['for_dims'], 0.6, 100)\n",
    "C_df = pd.concat([filtered_for_analysis[session].resample(str(new_sampling_interval)+'S').max()\n",
    "                  for session in list(grouped_raw_data.keys())], keys=list(grouped_raw_data.keys()))\n",
    "C_df['velocity_bins'] = all_sessions_v_bins\n",
    "C_df['by_mouse_vbins'] = V_df['by_mouse_vbins']"
   ]
  },
  {
   "cell_type": "code",
   "execution_count": 15,
   "metadata": {},
   "outputs": [
    {
     "data": {
      "text/plain": [
       "<IntervalArray>\n",
       "[(-1, 0], (0, 1], (1, 2], (2, 3], (3, 4] ... (45, 46], (46, 47], (47, 48], (48, 49], (49, 50]]\n",
       "Length: 51, closed: right, dtype: interval[int64]"
      ]
     },
     "execution_count": 15,
     "metadata": {},
     "output_type": "execute_result"
    }
   ],
   "source": [
    "# bin values\n",
    "all_sessions_v_bins.values.categories.values"
   ]
  },
  {
   "cell_type": "code",
   "execution_count": 16,
   "metadata": {
    "scrolled": false
   },
   "outputs": [],
   "source": [
    "# get regions where velocity is in bin \n",
    "by_cells_across_sessions = {}\n",
    "for session in list(grouped_raw_data.keys()):\n",
    "    binned_regions = [C_df.loc[session][C_df.loc[session]['velocity_bins']==v_bin].drop(['velocity_bins', 'by_mouse_vbins'], axis=1).mean(axis=0).dropna() for\n",
    "                  v_bin in all_sessions_v_bins.values.categories.values]\n",
    "    cells_by_session_binned = pd.DataFrame(binned_regions, index=all_sessions_v_bins.values.categories.values).drop(['msCamFrame'], axis=1)\n",
    "    per_cell_regressions = dlc_utils.create_regression_models_per_cell(cells_by_session_binned, 2)\n",
    "    by_cells_across_sessions[session] = per_cell_regressions"
   ]
  },
  {
   "cell_type": "code",
   "execution_count": 17,
   "metadata": {},
   "outputs": [],
   "source": [
    "# get regions where velocity is in bin, by each recording session \n",
    "by_cells_across_sessions_session_bins = {}\n",
    "for session in list(grouped_raw_data.keys()):\n",
    "    binned_regions_each_session = [C_df.loc[session][C_df.loc[session]['by_mouse_vbins']==bin_].drop(['velocity_bins', 'by_mouse_vbins'], axis=1).mean(axis=0).dropna() for\n",
    "                  bin_ in pd.cut(grouped_raw_data[session]['interpolated'][body_part], bins=50).values.categories.values]\n",
    "    cells_by_session_binned_each_session = pd.DataFrame(binned_regions_each_session, index=pd.cut(grouped_raw_data[session]['interpolated'][body_part], bins=50).values.categories.values)\n",
    "    per_cell_regressions_each_session = dlc_utils.create_regression_models_per_cell(cells_by_session_binned_each_session, 2)\n",
    "    by_cells_across_sessions_session_bins[session] = per_cell_regressions_each_session"
   ]
  },
  {
   "cell_type": "code",
   "execution_count": 18,
   "metadata": {},
   "outputs": [],
   "source": [
    "#get the velocity bin where cell fired most\n",
    "max_bins = []\n",
    "for session in list(grouped_raw_data.keys()):\n",
    "    for cell in list(by_cells_across_sessions[session].keys()):\n",
    "        max_bins.append(pd.DataFrame({(session,cell): by_cells_across_sessions[session][cell]['fit_df'].iloc[by_cells_across_sessions[session][cell]['fit_df']['y'].argmax()]}))\n",
    "        #max_bins.append(by_cells_across_sessions[session][cell]['fit_df'].max(axis=0))\n",
    "\n",
    "max_bins = pd.concat(max_bins, axis=1).transpose()"
   ]
  },
  {
   "cell_type": "code",
   "execution_count": 19,
   "metadata": {},
   "outputs": [],
   "source": [
    "#get the velocity bin where cell fired most, relative bins\n",
    "max_bins_relative_bins = []\n",
    "for session in list(grouped_raw_data.keys()):\n",
    "    for cell in list(by_cells_across_sessions_session_bins[session].keys()):\n",
    "        max_bins_relative_bins.append(pd.DataFrame({(session, cell): by_cells_across_sessions_session_bins[session][cell]['fit_df'].iloc[by_cells_across_sessions_session_bins[session][cell]['fit_df']['y'].argmax()]}))\n",
    "        #max_bins.append(by_cells_across_sessions[session][cell]['fit_df'].max(axis=0))\n",
    "\n",
    "max_bins_relative_bins = pd.concat(max_bins_relative_bins, axis=1)"
   ]
  },
  {
   "cell_type": "code",
   "execution_count": 30,
   "metadata": {},
   "outputs": [],
   "source": [
    "#for resetting index to cm/sec velocity \n",
    "binning_range = pd.interval_range(start=-1*0.0868, end=50*0.0868, periods=50)\n",
    "end_points = {k:v for k,v in zip(np.linspace(1, 50, 50), [binning_range.values[interval].right for interval in range(len(binning_range))])}\n",
    "\n",
    "max_bins['cm_sec'] = [end_points[max_bins['x'].values[point]] for point in range(len(max_bins['x'].values))]\n",
    "max_bins = max_bins.transpose()\n",
    "\n",
    "#max_bins "
   ]
  },
  {
   "cell_type": "code",
   "execution_count": 31,
   "metadata": {},
   "outputs": [
    {
     "data": {
      "text/html": [
       "<div>\n",
       "<style scoped>\n",
       "    .dataframe tbody tr th:only-of-type {\n",
       "        vertical-align: middle;\n",
       "    }\n",
       "\n",
       "    .dataframe tbody tr th {\n",
       "        vertical-align: top;\n",
       "    }\n",
       "\n",
       "    .dataframe thead tr th {\n",
       "        text-align: left;\n",
       "    }\n",
       "</style>\n",
       "<table border=\"1\" class=\"dataframe\">\n",
       "  <thead>\n",
       "    <tr>\n",
       "      <th></th>\n",
       "      <th colspan=\"10\" halign=\"left\">GRIN009_H13_M59_S14</th>\n",
       "      <th>...</th>\n",
       "      <th colspan=\"10\" halign=\"left\">GRIN012_H16_M57_S23</th>\n",
       "    </tr>\n",
       "    <tr>\n",
       "      <th></th>\n",
       "      <th>1</th>\n",
       "      <th>2</th>\n",
       "      <th>3</th>\n",
       "      <th>4</th>\n",
       "      <th>7</th>\n",
       "      <th>8</th>\n",
       "      <th>10</th>\n",
       "      <th>11</th>\n",
       "      <th>12</th>\n",
       "      <th>13</th>\n",
       "      <th>...</th>\n",
       "      <th>30</th>\n",
       "      <th>37</th>\n",
       "      <th>43</th>\n",
       "      <th>54</th>\n",
       "      <th>59</th>\n",
       "      <th>61</th>\n",
       "      <th>68</th>\n",
       "      <th>71</th>\n",
       "      <th>81</th>\n",
       "      <th>56</th>\n",
       "    </tr>\n",
       "  </thead>\n",
       "  <tbody>\n",
       "    <tr>\n",
       "      <th>y</th>\n",
       "      <td>3.361219</td>\n",
       "      <td>3.933988</td>\n",
       "      <td>4.669132</td>\n",
       "      <td>5.224055</td>\n",
       "      <td>7.524884</td>\n",
       "      <td>11.388837</td>\n",
       "      <td>5.192964</td>\n",
       "      <td>2.800770</td>\n",
       "      <td>2.872592</td>\n",
       "      <td>4.204149</td>\n",
       "      <td>...</td>\n",
       "      <td>5.077270</td>\n",
       "      <td>7.833491</td>\n",
       "      <td>9.703185</td>\n",
       "      <td>19.809429</td>\n",
       "      <td>17.448793</td>\n",
       "      <td>6.445343</td>\n",
       "      <td>2.368214</td>\n",
       "      <td>5.328928</td>\n",
       "      <td>11.074759</td>\n",
       "      <td>4.364761</td>\n",
       "    </tr>\n",
       "    <tr>\n",
       "      <th>x</th>\n",
       "      <td>28.000000</td>\n",
       "      <td>28.000000</td>\n",
       "      <td>22.000000</td>\n",
       "      <td>27.000000</td>\n",
       "      <td>40.000000</td>\n",
       "      <td>17.000000</td>\n",
       "      <td>30.000000</td>\n",
       "      <td>8.000000</td>\n",
       "      <td>18.000000</td>\n",
       "      <td>24.000000</td>\n",
       "      <td>...</td>\n",
       "      <td>17.000000</td>\n",
       "      <td>17.000000</td>\n",
       "      <td>17.000000</td>\n",
       "      <td>17.000000</td>\n",
       "      <td>12.000000</td>\n",
       "      <td>8.000000</td>\n",
       "      <td>17.000000</td>\n",
       "      <td>7.000000</td>\n",
       "      <td>13.000000</td>\n",
       "      <td>10.000000</td>\n",
       "    </tr>\n",
       "    <tr>\n",
       "      <th>cm_sec</th>\n",
       "      <td>2.392208</td>\n",
       "      <td>2.392208</td>\n",
       "      <td>1.860992</td>\n",
       "      <td>2.303672</td>\n",
       "      <td>3.454640</td>\n",
       "      <td>1.418312</td>\n",
       "      <td>2.569280</td>\n",
       "      <td>0.621488</td>\n",
       "      <td>1.506848</td>\n",
       "      <td>2.038064</td>\n",
       "      <td>...</td>\n",
       "      <td>1.418312</td>\n",
       "      <td>1.418312</td>\n",
       "      <td>1.418312</td>\n",
       "      <td>1.418312</td>\n",
       "      <td>0.975632</td>\n",
       "      <td>0.621488</td>\n",
       "      <td>1.418312</td>\n",
       "      <td>0.532952</td>\n",
       "      <td>1.064168</td>\n",
       "      <td>0.798560</td>\n",
       "    </tr>\n",
       "  </tbody>\n",
       "</table>\n",
       "<p>3 rows × 594 columns</p>\n",
       "</div>"
      ],
      "text/plain": [
       "       GRIN009_H13_M59_S14                                              \\\n",
       "                        1          2          3          4          7    \n",
       "y                 3.361219   3.933988   4.669132   5.224055   7.524884   \n",
       "x                28.000000  28.000000  22.000000  27.000000  40.000000   \n",
       "cm_sec            2.392208   2.392208   1.860992   2.303672   3.454640   \n",
       "\n",
       "                                                              ...  \\\n",
       "               8          10        11         12         13  ...   \n",
       "y       11.388837   5.192964  2.800770   2.872592   4.204149  ...   \n",
       "x       17.000000  30.000000  8.000000  18.000000  24.000000  ...   \n",
       "cm_sec   1.418312   2.569280  0.621488   1.506848   2.038064  ...   \n",
       "\n",
       "       GRIN012_H16_M57_S23                                              \\\n",
       "                        30         37         43         54         59   \n",
       "y                 5.077270   7.833491   9.703185  19.809429  17.448793   \n",
       "x                17.000000  17.000000  17.000000  17.000000  12.000000   \n",
       "cm_sec            1.418312   1.418312   1.418312   1.418312   0.975632   \n",
       "\n",
       "                                                             \n",
       "              61         68        71         81         56  \n",
       "y       6.445343   2.368214  5.328928  11.074759   4.364761  \n",
       "x       8.000000  17.000000  7.000000  13.000000  10.000000  \n",
       "cm_sec  0.621488   1.418312  0.532952   1.064168   0.798560  \n",
       "\n",
       "[3 rows x 594 columns]"
      ]
     },
     "execution_count": 31,
     "metadata": {},
     "output_type": "execute_result"
    }
   ],
   "source": [
    "max_bins"
   ]
  },
  {
   "cell_type": "code",
   "execution_count": 46,
   "metadata": {},
   "outputs": [],
   "source": [
    "#filter cells to show events above a z score threshold\n",
    "z_score_threshold = 0\n",
    "thresholded_bins = max_bins.transpose()[max_bins.loc['y'] > z_score_threshold]\n",
    "thresholded_bins = thresholded_bins.transpose()"
   ]
  },
  {
   "cell_type": "code",
   "execution_count": 47,
   "metadata": {},
   "outputs": [
    {
     "data": {
      "text/html": [
       "<div>\n",
       "<style scoped>\n",
       "    .dataframe tbody tr th:only-of-type {\n",
       "        vertical-align: middle;\n",
       "    }\n",
       "\n",
       "    .dataframe tbody tr th {\n",
       "        vertical-align: top;\n",
       "    }\n",
       "\n",
       "    .dataframe thead tr th {\n",
       "        text-align: left;\n",
       "    }\n",
       "</style>\n",
       "<table border=\"1\" class=\"dataframe\">\n",
       "  <thead>\n",
       "    <tr>\n",
       "      <th></th>\n",
       "      <th colspan=\"10\" halign=\"left\">GRIN009_H13_M59_S14</th>\n",
       "      <th>...</th>\n",
       "      <th colspan=\"10\" halign=\"left\">GRIN012_H16_M57_S23</th>\n",
       "    </tr>\n",
       "    <tr>\n",
       "      <th></th>\n",
       "      <th>1</th>\n",
       "      <th>2</th>\n",
       "      <th>3</th>\n",
       "      <th>4</th>\n",
       "      <th>7</th>\n",
       "      <th>8</th>\n",
       "      <th>10</th>\n",
       "      <th>11</th>\n",
       "      <th>12</th>\n",
       "      <th>13</th>\n",
       "      <th>...</th>\n",
       "      <th>30</th>\n",
       "      <th>37</th>\n",
       "      <th>43</th>\n",
       "      <th>54</th>\n",
       "      <th>59</th>\n",
       "      <th>61</th>\n",
       "      <th>68</th>\n",
       "      <th>71</th>\n",
       "      <th>81</th>\n",
       "      <th>56</th>\n",
       "    </tr>\n",
       "  </thead>\n",
       "  <tbody>\n",
       "    <tr>\n",
       "      <th>y</th>\n",
       "      <td>3.361219</td>\n",
       "      <td>3.933988</td>\n",
       "      <td>4.669132</td>\n",
       "      <td>5.224055</td>\n",
       "      <td>7.524884</td>\n",
       "      <td>11.388837</td>\n",
       "      <td>5.192964</td>\n",
       "      <td>2.800770</td>\n",
       "      <td>2.872592</td>\n",
       "      <td>4.204149</td>\n",
       "      <td>...</td>\n",
       "      <td>5.077270</td>\n",
       "      <td>7.833491</td>\n",
       "      <td>9.703185</td>\n",
       "      <td>19.809429</td>\n",
       "      <td>17.448793</td>\n",
       "      <td>6.445343</td>\n",
       "      <td>2.368214</td>\n",
       "      <td>5.328928</td>\n",
       "      <td>11.074759</td>\n",
       "      <td>4.364761</td>\n",
       "    </tr>\n",
       "    <tr>\n",
       "      <th>x</th>\n",
       "      <td>28.000000</td>\n",
       "      <td>28.000000</td>\n",
       "      <td>22.000000</td>\n",
       "      <td>27.000000</td>\n",
       "      <td>40.000000</td>\n",
       "      <td>17.000000</td>\n",
       "      <td>30.000000</td>\n",
       "      <td>8.000000</td>\n",
       "      <td>18.000000</td>\n",
       "      <td>24.000000</td>\n",
       "      <td>...</td>\n",
       "      <td>17.000000</td>\n",
       "      <td>17.000000</td>\n",
       "      <td>17.000000</td>\n",
       "      <td>17.000000</td>\n",
       "      <td>12.000000</td>\n",
       "      <td>8.000000</td>\n",
       "      <td>17.000000</td>\n",
       "      <td>7.000000</td>\n",
       "      <td>13.000000</td>\n",
       "      <td>10.000000</td>\n",
       "    </tr>\n",
       "    <tr>\n",
       "      <th>cm_sec</th>\n",
       "      <td>2.392208</td>\n",
       "      <td>2.392208</td>\n",
       "      <td>1.860992</td>\n",
       "      <td>2.303672</td>\n",
       "      <td>3.454640</td>\n",
       "      <td>1.418312</td>\n",
       "      <td>2.569280</td>\n",
       "      <td>0.621488</td>\n",
       "      <td>1.506848</td>\n",
       "      <td>2.038064</td>\n",
       "      <td>...</td>\n",
       "      <td>1.418312</td>\n",
       "      <td>1.418312</td>\n",
       "      <td>1.418312</td>\n",
       "      <td>1.418312</td>\n",
       "      <td>0.975632</td>\n",
       "      <td>0.621488</td>\n",
       "      <td>1.418312</td>\n",
       "      <td>0.532952</td>\n",
       "      <td>1.064168</td>\n",
       "      <td>0.798560</td>\n",
       "    </tr>\n",
       "  </tbody>\n",
       "</table>\n",
       "<p>3 rows × 594 columns</p>\n",
       "</div>"
      ],
      "text/plain": [
       "       GRIN009_H13_M59_S14                                              \\\n",
       "                        1          2          3          4          7    \n",
       "y                 3.361219   3.933988   4.669132   5.224055   7.524884   \n",
       "x                28.000000  28.000000  22.000000  27.000000  40.000000   \n",
       "cm_sec            2.392208   2.392208   1.860992   2.303672   3.454640   \n",
       "\n",
       "                                                              ...  \\\n",
       "               8          10        11         12         13  ...   \n",
       "y       11.388837   5.192964  2.800770   2.872592   4.204149  ...   \n",
       "x       17.000000  30.000000  8.000000  18.000000  24.000000  ...   \n",
       "cm_sec   1.418312   2.569280  0.621488   1.506848   2.038064  ...   \n",
       "\n",
       "       GRIN012_H16_M57_S23                                              \\\n",
       "                        30         37         43         54         59   \n",
       "y                 5.077270   7.833491   9.703185  19.809429  17.448793   \n",
       "x                17.000000  17.000000  17.000000  17.000000  12.000000   \n",
       "cm_sec            1.418312   1.418312   1.418312   1.418312   0.975632   \n",
       "\n",
       "                                                             \n",
       "              61         68        71         81         56  \n",
       "y       6.445343   2.368214  5.328928  11.074759   4.364761  \n",
       "x       8.000000  17.000000  7.000000  13.000000  10.000000  \n",
       "cm_sec  0.621488   1.418312  0.532952   1.064168   0.798560  \n",
       "\n",
       "[3 rows x 594 columns]"
      ]
     },
     "execution_count": 47,
     "metadata": {},
     "output_type": "execute_result"
    }
   ],
   "source": [
    "thresholded_bins"
   ]
  },
  {
   "cell_type": "code",
   "execution_count": 48,
   "metadata": {},
   "outputs": [],
   "source": [
    "#thresholded_bins.to_csv('/projects/p30771/miniscope/analysis/OpenFieldAnalysis/indiv_cell_regressions/maxf_by_v_ko_1S_thresholded.csv')\n",
    "#max_bins_relative_bins.to_csv('/projects/p30771/miniscope/analysis/OpenFieldAnalysis/indiv_cell_regressions/maxf_by_v_rel_ko_2S.csv')"
   ]
  },
  {
   "cell_type": "code",
   "execution_count": 49,
   "metadata": {
    "scrolled": true
   },
   "outputs": [
    {
     "data": {
      "image/png": "[encoded data removed]",
      "text/plain": [
       "<Figure size 432x288 with 1 Axes>"
      ]
     },
     "metadata": {
      "needs_background": "light"
     },
     "output_type": "display_data"
    }
   ],
   "source": [
    "# distribution of all df versus velocity values, relative_bins \n",
    "plt.scatter(max_bins_relative_bins.loc['x'].values, max_bins_relative_bins.loc['y'].values)\n",
    "plt.show()"
   ]
  },
  {
   "cell_type": "code",
   "execution_count": 50,
   "metadata": {
    "scrolled": false
   },
   "outputs": [
    {
     "data": {
      "image/png": "[encoded data removed]",
      "text/plain": [
       "<Figure size 504x432 with 1 Axes>"
      ]
     },
     "metadata": {
      "needs_background": "light"
     },
     "output_type": "display_data"
    }
   ],
   "source": [
    "# distribution of all df versus velocity values \n",
    "plt.rcParams.update({'font.size': 22})\n",
    "plt.scatter(thresholded_bins.loc['cm_sec'].values, thresholded_bins.loc['y'].values, color='darkseagreen')\n",
    "fig = plt.gcf()\n",
    "fig.set_size_inches(7, 6)\n",
    "plt.xlim((0, 5))\n",
    "plt.ylim((0, 25))\n",
    "ax = plt.gca()\n",
    "ax.set_ylabel('dF/F (Z-Score)')\n",
    "ax.set_xlabel('velocity cm/sec')\n",
    "fig.subplots_adjust(left=0.15)\n",
    "#fig.savefig('/home/jma819/presentation_files/ko_c_by_v.pdf', transparent=True)\n",
    "plt.show()"
   ]
  },
  {
   "cell_type": "code",
   "execution_count": null,
   "metadata": {},
   "outputs": [],
   "source": [
    "max_v_bins_cumulative = stats.cumfreq(max_bins.loc['x'].values, numbins=150, defaultreallimits=(-1, 150))\n",
    "plt.plot(np.linspace(0, 150, 150), max_v_bins_cumulative.cumcount/len(max_bins.loc['x'].values))\n",
    "plt.show()"
   ]
  },
  {
   "cell_type": "code",
   "execution_count": null,
   "metadata": {},
   "outputs": [],
   "source": [
    "max_v_bins_cumulative_relative = stats.cumfreq(max_bins_relative_bins.loc['x'].values, numbins=50, defaultreallimits=(0, 50))\n",
    "plt.plot(np.linspace(0, 50, 50), max_v_bins_cumulative_relative.cumcount/len(max_bins_relative_bins.loc['x'].values))\n",
    "plt.show()"
   ]
  },
  {
   "cell_type": "code",
   "execution_count": null,
   "metadata": {},
   "outputs": [],
   "source": [
    "max_v_bins_cumulative.cumcount/len(max_bins.loc['x'].values)"
   ]
  },
  {
   "cell_type": "code",
   "execution_count": null,
   "metadata": {},
   "outputs": [],
   "source": [
    "max_v_bins_cumulative_relative.cumcount/len(max_bins_relative_bins.loc['x'].values)"
   ]
  },
  {
   "cell_type": "code",
   "execution_count": null,
   "metadata": {},
   "outputs": [],
   "source": [
    "# get curve for all cells\n",
    "x = np.linspace(1, 50, 50)\n",
    "trends_by_cell = {}\n",
    "for session in list(grouped_raw_data.keys()):\n",
    "    for cell in (by_cells_across_sessions[session].keys()):\n",
    "        trends_by_cell[session+'_'+str(cell)] = by_cells_across_sessions[session][cell]['model'](x)\n",
    "trendlines_by_cell = pd.DataFrame(trends_by_cell)"
   ]
  },
  {
   "cell_type": "code",
   "execution_count": null,
   "metadata": {},
   "outputs": [],
   "source": [
    "# get curve for all cells\n",
    "x = np.linspace(1, 50, 50)\n",
    "trends_by_cell_significant = {}\n",
    "for session in list(grouped_raw_data.keys()):\n",
    "    for cell in (by_cells_across_sessions[session].keys()):\n",
    "        if float(by_cells_across_sessions[session][cell]['statsmodel_results'].summary().tables[0][3][3].data)<0.5: \n",
    "            trends_by_cell_significant[session+'_'+str(cell)] = by_cells_across_sessions[session][cell]['model'](x)\n",
    "trendlines_by_cell_significant = pd.DataFrame(trends_by_cell_significant)"
   ]
  },
  {
   "cell_type": "code",
   "execution_count": null,
   "metadata": {},
   "outputs": [],
   "source": [
    "#maybe do analyze per animal by then group by range across all at end \n",
    "plt.plot(x, trendlines_by_cell.mean(axis=1))\n",
    "plt.plot(x, trendlines_by_cell_significant.mean(axis=1), color='r')\n",
    "plt.ylim([-1, 2])\n",
    "plt.show()"
   ]
  },
  {
   "cell_type": "code",
   "execution_count": null,
   "metadata": {},
   "outputs": [],
   "source": [
    "len(trendlines_by_cell.columns)"
   ]
  },
  {
   "cell_type": "code",
   "execution_count": null,
   "metadata": {},
   "outputs": [],
   "source": [
    "np.linspace(0, 10, 11)"
   ]
  },
  {
   "cell_type": "code",
   "execution_count": null,
   "metadata": {
    "scrolled": true
   },
   "outputs": [],
   "source": [
    "cell_lims = (800, 810)\n",
    "for cell in np.linspace(cell_lims[0], cell_lims[1], (cell_lims[1]-cell_lims[0])): \n",
    "    plt.plot(x, trendlines_by_cell_significant.iloc[:, int(cell)].values)\n",
    "plt.show()"
   ]
  },
  {
   "cell_type": "code",
   "execution_count": null,
   "metadata": {
    "scrolled": true
   },
   "outputs": [],
   "source": [
    "trendlines_by_cell_significant.iloc[:, 800:810].head()"
   ]
  },
  {
   "cell_type": "code",
   "execution_count": null,
   "metadata": {},
   "outputs": [],
   "source": [
    "plt.plot(grouped_raw_data['GRIN035_H14_M40_S34']['C_z_scored_filtered'][84].values)\n",
    "plt.show()"
   ]
  },
  {
   "cell_type": "code",
   "execution_count": null,
   "metadata": {},
   "outputs": [],
   "source": [
    "plt.plot(grouped_raw_data['GRIN035_H14_M40_S34']['C_z_scored_filtered'][84].values)\n",
    "plt.show()"
   ]
  },
  {
   "cell_type": "code",
   "execution_count": null,
   "metadata": {},
   "outputs": [],
   "source": [
    "plt.plot(utils_jjm.normalize(grouped_raw_data['GRIN035_H14_M40_S34']['C_z_scored_filtered'][84].values))\n",
    "plt.show()"
   ]
  },
  {
   "cell_type": "code",
   "execution_count": null,
   "metadata": {},
   "outputs": [],
   "source": [
    "plt.plot(utils_jjm.normalize(grouped_raw_data['GRIN035_H14_M40_S34']['C_z_scored_filtered'][84].values)[7000:10000])\n",
    "plt.show()"
   ]
  },
  {
   "cell_type": "markdown",
   "metadata": {},
   "source": [
    "## regression analysis "
   ]
  },
  {
   "cell_type": "code",
   "execution_count": 65,
   "metadata": {},
   "outputs": [
    {
     "ename": "NameError",
     "evalue": "name 'regression_results_by_group' is not defined",
     "output_type": "error",
     "traceback": [
      "\u001b[0;31m---------------------------------------------------------------------------\u001b[0m",
      "\u001b[0;31mNameError\u001b[0m                                 Traceback (most recent call last)",
      "\u001b[0;32m<ipython-input-65-ee29e87d80c9>\u001b[0m in \u001b[0;36m<module>\u001b[0;34m\u001b[0m\n\u001b[0;32m----> 1\u001b[0;31m \u001b[0mregression_results_by_group\u001b[0m\u001b[0;34m[\u001b[0m\u001b[0;34m'GRIN013_H13_M33_S54'\u001b[0m\u001b[0;34m]\u001b[0m\u001b[0;34m[\u001b[0m\u001b[0;36m1\u001b[0m\u001b[0;34m]\u001b[0m\u001b[0;34m[\u001b[0m\u001b[0;34m'statsmodel_results'\u001b[0m\u001b[0;34m]\u001b[0m\u001b[0;34m\u001b[0m\u001b[0;34m\u001b[0m\u001b[0m\n\u001b[0m",
      "\u001b[0;31mNameError\u001b[0m: name 'regression_results_by_group' is not defined"
     ]
    }
   ],
   "source": [
    "regression_results_by_group['GRIN013_H13_M33_S54'][1]['statsmodel_results']"
   ]
  },
  {
   "cell_type": "code",
   "execution_count": null,
   "metadata": {},
   "outputs": [],
   "source": [
    "#list(regression_results_by_group['GRIN013_H13_M33_S54'].keys())"
   ]
  },
  {
   "cell_type": "code",
   "execution_count": null,
   "metadata": {},
   "outputs": [],
   "source": [
    "# session, cell, model \n",
    "x = np.linspace(0, 50, 49)\n",
    "trendlines = [regression_results_by_group['GRIN013_H13_M33_S54'][cell]['p1d'](x) for cell in list(regression_results_by_group['GRIN013_H13_M33_S54'].keys())]"
   ]
  },
  {
   "cell_type": "code",
   "execution_count": null,
   "metadata": {},
   "outputs": [],
   "source": [
    "#plot trendlines by session\n",
    "x = np.linspace(0, 50, 49)\n",
    "trendlines_by_session = np.array([np.mean([regression_results_by_group[session][cell]['p1d'](x) for cell in list(regression_results_by_group[session].keys())],axis=0) for\n",
    "                                session in list(regression_results_by_group.keys())])"
   ]
  },
  {
   "cell_type": "code",
   "execution_count": null,
   "metadata": {},
   "outputs": [],
   "source": [
    "trendlines_by_session = np.array([np.mean([regression_results_by_group[session][cell]['p1d'](x) for cell in list(regression_results_by_group[session].keys()) if\n",
    "                                           float(regression_results_by_group[session][cell]['statsmodel_results'].summary().tables[0][3][3].data)>0.5\n",
    "                                          ],axis=0) for\n",
    "                                session in list(regression_results_by_group.keys())])"
   ]
  },
  {
   "cell_type": "code",
   "execution_count": null,
   "metadata": {},
   "outputs": [],
   "source": [
    "plt.plot(x, trendlines_by_session[0])\n",
    "plt.plot(x, trendlines_by_session[7])\n",
    "plt.show()"
   ]
  },
  {
   "cell_type": "code",
   "execution_count": null,
   "metadata": {},
   "outputs": [],
   "source": [
    "trendlines_by_session[1]"
   ]
  },
  {
   "cell_type": "code",
   "execution_count": null,
   "metadata": {
    "scrolled": true
   },
   "outputs": [],
   "source": [
    "for line in trendlines_by_session:\n",
    "    plt.plot(x, line)\n",
    "ax = plt.gca()\n",
    "plt.ylim([-1, 2])\n",
    "plt.show()"
   ]
  },
  {
   "cell_type": "code",
   "execution_count": null,
   "metadata": {},
   "outputs": [],
   "source": [
    "# trendline\n",
    "\n",
    "x = np.linspace(0, 50, 49)\n",
    "plt.plot(x, pld(x))\n",
    "plt.show\n",
    "\n"
   ]
  },
  {
   "cell_type": "code",
   "execution_count": null,
   "metadata": {},
   "outputs": [],
   "source": [
    "grouped_info_means.mean(axis=1)"
   ]
  },
  {
   "cell_type": "code",
   "execution_count": null,
   "metadata": {
    "scrolled": true
   },
   "outputs": [],
   "source": [
    "plt.scatter(np.ones(len(grouped_info_means.loc['percent_significant'].values)), grouped_info_means.loc['percent_significant'].values)"
   ]
  },
  {
   "cell_type": "code",
   "execution_count": null,
   "metadata": {
    "scrolled": true
   },
   "outputs": [],
   "source": [
    "#grouped_info_means.loc['R-squared_mean']\n",
    "plt.scatter(np.ones(len(grouped_info_means.loc['R-squared_mean'].values)), grouped_info_means.loc['R-squared_mean'].values)"
   ]
  },
  {
   "cell_type": "code",
   "execution_count": null,
   "metadata": {},
   "outputs": [],
   "source": [
    "\n",
    "#filter out small cells\n",
    "C_z_scored_session_input = group_results_binning[session]['C_z_scored']\n",
    "cell_contours, x, y, cell_dims = utils_jjm.create_contour_layouts(spatial_components_by_session[session]['spatial_components'])\n",
    "C_z_scored_session = utils_jjm.filter_out_by_size(C_z_scored_session_input, cell_contours, cell_dims, 0.6, 100)\n",
    "    \n",
    "   "
   ]
  }
 ],
 "metadata": {
  "kernelspec": {
   "display_name": "caiman",
   "language": "python",
   "name": "caiman"
  },
  "language_info": {
   "codemirror_mode": {
    "name": "ipython",
    "version": 3
   },
   "file_extension": ".py",
   "mimetype": "text/x-python",
   "name": "python",
   "nbconvert_exporter": "python",
   "pygments_lexer": "ipython3",
   "version": "3.6.7"
  }
 },
 "nbformat": 4,
 "nbformat_minor": 2
}
