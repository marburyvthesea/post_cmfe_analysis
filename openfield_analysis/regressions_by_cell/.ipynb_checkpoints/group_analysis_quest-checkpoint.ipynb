{
 "cells": [
  {
   "cell_type": "code",
   "execution_count": 1,
   "metadata": {},
   "outputs": [
    {
     "data": {
      "text/html": [
       "<style>.container { width:90% !important; }</style>"
      ],
      "text/plain": [
       "<IPython.core.display.HTML object>"
      ]
     },
     "metadata": {},
     "output_type": "display_data"
    },
    {
     "ename": "ModuleNotFoundError",
     "evalue": "No module named 'python_utils_jjm'",
     "output_type": "error",
     "traceback": [
      "\u001b[0;31m---------------------------------------------------------------------------\u001b[0m",
      "\u001b[0;31mModuleNotFoundError\u001b[0m                       Traceback (most recent call last)",
      "\u001b[0;32m<ipython-input-1-3916786cd069>\u001b[0m in \u001b[0;36m<module>\u001b[0;34m\u001b[0m\n\u001b[1;32m     12\u001b[0m \u001b[0msys\u001b[0m\u001b[0;34m.\u001b[0m\u001b[0mpath\u001b[0m\u001b[0;34m.\u001b[0m\u001b[0mappend\u001b[0m\u001b[0;34m(\u001b[0m\u001b[0;34m'/home/jma819/post_cmfe_analysis'\u001b[0m\u001b[0;34m)\u001b[0m\u001b[0;34m\u001b[0m\u001b[0;34m\u001b[0m\u001b[0m\n\u001b[1;32m     13\u001b[0m \u001b[0;31m#sys.path.append('/Users/johnmarshall/Documents/Analysis/PythonAnalysisScripts/post_cmfe_analysis')\u001b[0m\u001b[0;34m\u001b[0m\u001b[0;34m\u001b[0m\u001b[0;34m\u001b[0m\u001b[0m\n\u001b[0;32m---> 14\u001b[0;31m \u001b[0;32mimport\u001b[0m \u001b[0mpython_utils_jjm\u001b[0m \u001b[0;32mas\u001b[0m \u001b[0mutils_jjm\u001b[0m\u001b[0;34m\u001b[0m\u001b[0;34m\u001b[0m\u001b[0m\n\u001b[0m\u001b[1;32m     15\u001b[0m \u001b[0;32mimport\u001b[0m \u001b[0mdlc_utils\u001b[0m\u001b[0;34m\u001b[0m\u001b[0;34m\u001b[0m\u001b[0m\n\u001b[1;32m     16\u001b[0m \u001b[0;32mimport\u001b[0m \u001b[0mcaiman\u001b[0m\u001b[0;34m\u001b[0m\u001b[0;34m\u001b[0m\u001b[0m\n",
      "\u001b[0;31mModuleNotFoundError\u001b[0m: No module named 'python_utils_jjm'"
     ]
    }
   ],
   "source": [
    "from IPython.core.display import display, HTML\n",
    "display(HTML(\"<style>.container { width:90% !important; }</style>\"))\n",
    "import numpy as np\n",
    "import pandas as pd\n",
    "import h5py\n",
    "from tqdm import tqdm\n",
    "import scipy.io as sio\n",
    "from scipy import stats\n",
    "from importlib import reload\n",
    "from matplotlib import pyplot as plt\n",
    "import sys\n",
    "sys.path.append('/home/jma819/post_cmfe_analysis')\n",
    "#sys.path.append('/Users/johnmarshall/Documents/Analysis/PythonAnalysisScripts/post_cmfe_analysis')\n",
    "import python_utils_jjm as utils_jjm\n",
    "import dlc_utils\n",
    "import caiman\n",
    "import statsmodels.formula.api as smf\n",
    "import scipy.spatial.distance as dist\n",
    "import itertools\n",
    "import math\n",
    "import warnings\n",
    "warnings.filterwarnings(action='once')"
   ]
  },
  {
   "cell_type": "code",
   "execution_count": 2,
   "metadata": {
    "scrolled": true
   },
   "outputs": [
    {
     "data": {
      "text/plain": [
       "<module 'dlc_utils' from '/home/jma819/post_cmfe_analysis/dlc_utils.py'>"
      ]
     },
     "execution_count": 2,
     "metadata": {},
     "output_type": "execute_result"
    }
   ],
   "source": [
    "reload(utils_jjm)\n",
    "reload(dlc_utils)"
   ]
  },
  {
   "cell_type": "code",
   "execution_count": 3,
   "metadata": {},
   "outputs": [],
   "source": [
    "#cnmfe_file_key = pd.read_csv('/volumes/My_Passport/dlc_analysis/behavcamvideos/cnmfe_file_key.csv')\n",
    "cnmfe_file_key = pd.read_csv('/projects/p30771/dlc_analysis/openfield_dlc_output/cnmfe_file_key.csv')"
   ]
  },
  {
   "cell_type": "code",
   "execution_count": 4,
   "metadata": {},
   "outputs": [],
   "source": [
    "#cnmfe_base_dir = '/Volumes/My_Passport/cnmfe_analysis_files/batch_output_files/'\n",
    "cnmfe_base_dir = '/projects/p30771/MATLAB/CNMF_E_jjm/quest_MATLAB_cnmfe/batch_output_files/'\n",
    "wt_CNMFE_file = ['30-Mar_20_39_05_out.mat', '30-Mar_20_45_16_out.mat', '27-Feb_17_33_59_out.mat', '22-Mar_22_52_02_out.mat',\n",
    "                 '28-Feb_16_10_05_out.mat', '27-Feb_17_32_15_out.mat', '28-Feb_16_21_21_out.mat', '25-Mar_13_27_27_out.mat',\n",
    "                 '25-Mar_14_22_02_out.mat', '25-Mar_14_22_44_out.mat', '26-Mar_18_33_55_out.mat', '27-Mar_00_26_12_out.mat', '27-Mar_00_48_46_out.mat']\n",
    "\n",
    "ko_CNMFE_files = ['31-Mar_13_28_15_out.mat', '29-Mar_21_42_20_out.mat', '13-Apr_17_57_40_out.mat', '29-Mar_14_27_55_out.mat', '13-Apr_16_01_20_out.mat',\n",
    "                 '13-Apr_16_11_27_out.mat', '29-Mar_13_39_44_out.mat']"
   ]
  },
  {
   "cell_type": "code",
   "execution_count": 5,
   "metadata": {},
   "outputs": [],
   "source": [
    "#tracking_files = ['/volumes/My_Passport/dlc_analysis/behavcamvideos/'+utils_jjm.find_behavior_tracking(fname, cnmfe_file_key) for fname in wt_CNMFE_file] \n",
    "tracking_files = ['/projects/p30771/dlc_analysis/openfield_dlc_output/'+utils_jjm.find_behavior_tracking(fname, cnmfe_file_key) for fname in wt_CNMFE_file] "
   ]
  },
  {
   "cell_type": "code",
   "execution_count": 6,
   "metadata": {},
   "outputs": [],
   "source": [
    "CNMFE_dir_paths_list = [str(cnmfe_base_dir+fname) for fname in wt_CNMFE_file]\n",
    "#CNMFE_dir_paths_list"
   ]
  },
  {
   "cell_type": "code",
   "execution_count": 53,
   "metadata": {},
   "outputs": [],
   "source": [
    "grouped_raw_data = {}\n",
    "success = []\n",
    "failed = []\n",
    "body_part ='tail_base'\n",
    "numbins_per_mouse = 100\n",
    "\n",
    "for CNMFE_file, tracking_file in zip(CNMFE_dir_paths_list, tracking_files):\n",
    "    #print(CNMFE_file)\n",
    "    #print(tracking_file)\n",
    "    try:\n",
    "        # load cell fluorescence \n",
    "        cell_fluorescence = sio.loadmat(CNMFE_file)\n",
    "        C_timedelta = utils_jjm.create_fluorescence_time_delta(cell_fluorescence['C'])\n",
    "        C_normalized = C_timedelta.apply(utils_jjm.normalize).set_index(pd.to_timedelta(np.linspace(0, (len(C_timedelta)-1)*(1/20), len(C_timedelta)), unit='s'), drop=True)\n",
    "        C_z_scored = C_timedelta.apply(stats.zscore).set_index(pd.to_timedelta(np.linspace(0, (len(C_timedelta)-1)*(1/20), len(C_timedelta)), unit='s'), drop=True)\n",
    "        C_normalized_z_scored = C_normalized.apply(stats.zscore).set_index(pd.to_timedelta(np.linspace(0, (len(C_normalized)-1)*(1/20), len(C_normalized)), unit='s'), drop=True)\n",
    "        # create tracking time deltas\n",
    "        interpolated = utils_jjm.prepare_timedelta_dfs(tracking_file)\n",
    "        interpolated['by_mouse_vbins'] = pd.cut(interpolated[body_part], bins=numbins_per_mouse)\n",
    "        #load spatial components by session\n",
    "        com_df, spatial_components = utils_jjm.return_spatial_info(CNMFE_file, 0.6)\n",
    "        cell_contours, for_dims = utils_jjm.create_contour_layouts(spatial_components)\n",
    "        #C_z_scored_filtered = utils_jjm.filter_out_by_size(C_z_scored, cell_contours, for_dims, 0.6, 100)\n",
    "        #store results \n",
    "        grouped_raw_data[tracking_file.split('/')[-2]] = {'C': C_timedelta, 'C_z_scored': C_z_scored, 'C_normalized': C_normalized, 'C_normalized_z_scored': C_normalized_z_scored, \n",
    "                                                          'interpolated' : interpolated, 'com' : com_df, 'spatial_components' : spatial_components, 'cell_contours': cell_contours,  \n",
    "                                                         'for_dims' : for_dims}\n",
    "        # downsample and bin\n",
    "        #cells_C_binned_by_V, cells_mean_C_binned_by_V = dlc_utils.downsample_session_and_bin_C_by_V(binning_time, number_of_bins, body_part_for_tracking, interpolated, C_z_scored)\n",
    "\n",
    "        #group_results_binning[tracking_file.split('/')[-2]] = {'C_z_scored':C_z_scored, 'tracking_data' :interpolated, \n",
    "        #                                      'C_binned_by_V':cells_C_binned_by_V, 'C_binned_by_V_means':cells_mean_C_binned_by_V}\n",
    "        success.append((tracking_file.split('/')[-2], CNMFE_file.split('/')[-1]))\n",
    "        #load spatial components by session\n",
    "    except FileNotFoundError:\n",
    "        failed.append(tracking_file)\n",
    "    except OSError:\n",
    "        failed.append(tracking_file)"
   ]
  },
  {
   "cell_type": "markdown",
   "metadata": {},
   "source": [
    "## regressions across cells"
   ]
  },
  {
   "cell_type": "code",
   "execution_count": 54,
   "metadata": {},
   "outputs": [],
   "source": [
    "## interval range for velocity binning\n",
    "#  binning_range = pd.interval_range(start=-1, end=50, periods=50)\n",
    "binning_range = pd.interval_range(start=-1, end=100)"
   ]
  },
  {
   "cell_type": "code",
   "execution_count": 52,
   "metadata": {},
   "outputs": [
    {
     "data": {
      "text/plain": [
       "IntervalIndex([(-1, 0], (0, 1], (1, 2], (2, 3], (3, 4] ... (45, 46], (46, 47], (47, 48], (48, 49], (49, 50]],\n",
       "              closed='right',\n",
       "              dtype='interval[int64]')"
      ]
     },
     "execution_count": 52,
     "metadata": {},
     "output_type": "execute_result"
    }
   ],
   "source": [
    "binning_range"
   ]
  },
  {
   "cell_type": "code",
   "execution_count": 10,
   "metadata": {},
   "outputs": [],
   "source": [
    "## combine dfs for each session to bin velocity values across dfs\n",
    "#downsample\n",
    "new_sampling_interval = 1\n",
    "V_df = pd.concat([grouped_raw_data[session]['interpolated'].resample(str(new_sampling_interval)+'S').max() \n",
    "                  for session in list(grouped_raw_data.keys())], keys=list(grouped_raw_data.keys()))\n",
    "all_sessions_v_bins = pd.cut(V_df['tail_base'], bins=binning_range)\n",
    "\n",
    "V_df['velocity_bins'] = all_sessions_v_bins"
   ]
  },
  {
   "cell_type": "code",
   "execution_count": 11,
   "metadata": {},
   "outputs": [],
   "source": [
    "filtered_for_analysis = {}\n",
    "for session in list(grouped_raw_data.keys()):\n",
    "    filtered_for_analysis[session] = utils_jjm.filter_out_by_size(grouped_raw_data[session]['C_normalized_z_scored'], grouped_raw_data[session]['cell_contours'], \n",
    "                                                                  grouped_raw_data[session]['for_dims'], 0.6, 100)\n",
    "C_df = pd.concat([filtered_for_analysis[session].resample(str(new_sampling_interval)+'S').max()\n",
    "                  for session in list(grouped_raw_data.keys())], keys=list(grouped_raw_data.keys()))\n",
    "C_df['velocity_bins'] = all_sessions_v_bins\n",
    "C_df['by_mouse_vbins'] = V_df['by_mouse_vbins']"
   ]
  },
  {
   "cell_type": "code",
   "execution_count": 12,
   "metadata": {},
   "outputs": [],
   "source": [
    "#C_df"
   ]
  },
  {
   "cell_type": "code",
   "execution_count": 13,
   "metadata": {
    "scrolled": true
   },
   "outputs": [
    {
     "data": {
      "text/plain": [
       "<IntervalArray>\n",
       "[(-1, 0], (0, 1], (1, 2], (2, 3], (3, 4] ... (45, 46], (46, 47], (47, 48], (48, 49], (49, 50]]\n",
       "Length: 51, closed: right, dtype: interval[int64]"
      ]
     },
     "execution_count": 13,
     "metadata": {},
     "output_type": "execute_result"
    }
   ],
   "source": [
    "# bin values\n",
    "all_sessions_v_bins.values.categories.values"
   ]
  },
  {
   "cell_type": "code",
   "execution_count": 14,
   "metadata": {
    "scrolled": false
   },
   "outputs": [],
   "source": [
    "# get regions where velocity is in bin \n",
    "by_cells_across_sessions = {}\n",
    "for session in list(grouped_raw_data.keys()):\n",
    "    binned_regions = [C_df.loc[session][C_df.loc[session]['velocity_bins']==v_bin].drop(['velocity_bins', 'by_mouse_vbins'], axis=1).mean(axis=0).dropna() for\n",
    "                  v_bin in all_sessions_v_bins.values.categories.values]\n",
    "    cells_by_session_binned = pd.DataFrame(binned_regions, index=all_sessions_v_bins.values.categories.values).drop(['msCamFrame'], axis=1)\n",
    "    per_cell_regressions = dlc_utils.create_regression_models_per_cell(cells_by_session_binned, 2)\n",
    "    by_cells_across_sessions[session] = per_cell_regressions"
   ]
  },
  {
   "cell_type": "code",
   "execution_count": 15,
   "metadata": {},
   "outputs": [],
   "source": [
    "# get regions where velocity is in bin, by each recording session \n",
    "by_cells_across_sessions_session_bins = {}\n",
    "for session in list(grouped_raw_data.keys()):\n",
    "    binned_regions_each_session = [C_df.loc[session][C_df.loc[session]['by_mouse_vbins']==bin_].drop(['velocity_bins', 'by_mouse_vbins'], axis=1).mean(axis=0).dropna() for\n",
    "                  bin_ in pd.cut(grouped_raw_data[session]['interpolated'][body_part], bins=50).values.categories.values]\n",
    "    cells_by_session_binned_each_session = pd.DataFrame(binned_regions_each_session, index=pd.cut(grouped_raw_data[session]['interpolated'][body_part], bins=50).values.categories.values)\n",
    "    per_cell_regressions_each_session = dlc_utils.create_regression_models_per_cell(cells_by_session_binned_each_session, 2)\n",
    "    by_cells_across_sessions_session_bins[session] = per_cell_regressions_each_session"
   ]
  },
  {
   "cell_type": "code",
   "execution_count": 16,
   "metadata": {},
   "outputs": [],
   "source": [
    "#list(grouped_raw_data.keys())"
   ]
  },
  {
   "cell_type": "code",
   "execution_count": 17,
   "metadata": {
    "scrolled": true
   },
   "outputs": [],
   "source": [
    "#get the velocity bin where cell fired most\n",
    "max_bins = []\n",
    "for session in list(grouped_raw_data.keys()):\n",
    "    for cell in list(by_cells_across_sessions[session].keys()):\n",
    "        max_bins.append(pd.DataFrame({(session,cell): by_cells_across_sessions[session][cell]['fit_df'].iloc[by_cells_across_sessions[session][cell]['fit_df']['y'].argmax()]}))\n",
    "        #max_bins.append(by_cells_across_sessions[session][cell]['fit_df'].max(axis=0))\n",
    "\n",
    "max_bins = pd.concat(max_bins, axis=1).transpose()"
   ]
  },
  {
   "cell_type": "code",
   "execution_count": 18,
   "metadata": {},
   "outputs": [],
   "source": [
    "#get the velocity bin where cell fired most, relative bins\n",
    "max_bins_relative_bins = []\n",
    "for session in list(grouped_raw_data.keys()):\n",
    "    for cell in list(by_cells_across_sessions_session_bins[session].keys()):\n",
    "        max_bins_relative_bins.append(pd.DataFrame({(session, cell): by_cells_across_sessions_session_bins[session][cell]['fit_df'].iloc[by_cells_across_sessions_session_bins[session][cell]['fit_df']['y'].argmax()]}))\n",
    "        #max_bins.append(by_cells_across_sessions[session][cell]['fit_df'].max(axis=0))\n",
    "\n",
    "max_bins_relative_bins = pd.concat(max_bins_relative_bins, axis=1)"
   ]
  },
  {
   "cell_type": "code",
   "execution_count": 19,
   "metadata": {},
   "outputs": [
    {
     "data": {
      "text/html": [
       "<div>\n",
       "<style scoped>\n",
       "    .dataframe tbody tr th:only-of-type {\n",
       "        vertical-align: middle;\n",
       "    }\n",
       "\n",
       "    .dataframe tbody tr th {\n",
       "        vertical-align: top;\n",
       "    }\n",
       "\n",
       "    .dataframe thead tr th {\n",
       "        text-align: left;\n",
       "    }\n",
       "</style>\n",
       "<table border=\"1\" class=\"dataframe\">\n",
       "  <thead>\n",
       "    <tr>\n",
       "      <th></th>\n",
       "      <th colspan=\"10\" halign=\"left\">GRIN013_H13_M33_S54</th>\n",
       "      <th>...</th>\n",
       "      <th colspan=\"10\" halign=\"left\">GRIN035_H14_M40_S34</th>\n",
       "    </tr>\n",
       "    <tr>\n",
       "      <th></th>\n",
       "      <th>1</th>\n",
       "      <th>2</th>\n",
       "      <th>3</th>\n",
       "      <th>4</th>\n",
       "      <th>6</th>\n",
       "      <th>7</th>\n",
       "      <th>8</th>\n",
       "      <th>9</th>\n",
       "      <th>10</th>\n",
       "      <th>11</th>\n",
       "      <th>...</th>\n",
       "      <th>109</th>\n",
       "      <th>110</th>\n",
       "      <th>66</th>\n",
       "      <th>77</th>\n",
       "      <th>116</th>\n",
       "      <th>123</th>\n",
       "      <th>126</th>\n",
       "      <th>134</th>\n",
       "      <th>136</th>\n",
       "      <th>121</th>\n",
       "    </tr>\n",
       "  </thead>\n",
       "  <tbody>\n",
       "    <tr>\n",
       "      <th>y</th>\n",
       "      <td>1.962643</td>\n",
       "      <td>1.741201</td>\n",
       "      <td>2.156276</td>\n",
       "      <td>2.536974</td>\n",
       "      <td>6.696357</td>\n",
       "      <td>4.194421</td>\n",
       "      <td>1.731483</td>\n",
       "      <td>2.016543</td>\n",
       "      <td>5.095806</td>\n",
       "      <td>3.364706</td>\n",
       "      <td>...</td>\n",
       "      <td>3.044683</td>\n",
       "      <td>5.770407</td>\n",
       "      <td>4.117341</td>\n",
       "      <td>0.899166</td>\n",
       "      <td>2.477609</td>\n",
       "      <td>2.103776</td>\n",
       "      <td>3.106887</td>\n",
       "      <td>4.549365</td>\n",
       "      <td>1.997977</td>\n",
       "      <td>2.419023</td>\n",
       "    </tr>\n",
       "    <tr>\n",
       "      <th>x</th>\n",
       "      <td>10.000000</td>\n",
       "      <td>14.000000</td>\n",
       "      <td>14.000000</td>\n",
       "      <td>16.000000</td>\n",
       "      <td>16.000000</td>\n",
       "      <td>16.000000</td>\n",
       "      <td>14.000000</td>\n",
       "      <td>14.000000</td>\n",
       "      <td>28.000000</td>\n",
       "      <td>27.000000</td>\n",
       "      <td>...</td>\n",
       "      <td>21.000000</td>\n",
       "      <td>22.000000</td>\n",
       "      <td>25.000000</td>\n",
       "      <td>13.000000</td>\n",
       "      <td>22.000000</td>\n",
       "      <td>18.000000</td>\n",
       "      <td>22.000000</td>\n",
       "      <td>25.000000</td>\n",
       "      <td>14.000000</td>\n",
       "      <td>12.000000</td>\n",
       "    </tr>\n",
       "    <tr>\n",
       "      <th>cm_sec</th>\n",
       "      <td>0.798560</td>\n",
       "      <td>1.152704</td>\n",
       "      <td>1.152704</td>\n",
       "      <td>1.329776</td>\n",
       "      <td>1.329776</td>\n",
       "      <td>1.329776</td>\n",
       "      <td>1.152704</td>\n",
       "      <td>1.152704</td>\n",
       "      <td>2.392208</td>\n",
       "      <td>2.303672</td>\n",
       "      <td>...</td>\n",
       "      <td>1.772456</td>\n",
       "      <td>1.860992</td>\n",
       "      <td>2.126600</td>\n",
       "      <td>1.064168</td>\n",
       "      <td>1.860992</td>\n",
       "      <td>1.506848</td>\n",
       "      <td>1.860992</td>\n",
       "      <td>2.126600</td>\n",
       "      <td>1.152704</td>\n",
       "      <td>0.975632</td>\n",
       "    </tr>\n",
       "  </tbody>\n",
       "</table>\n",
       "<p>3 rows × 938 columns</p>\n",
       "</div>"
      ],
      "text/plain": [
       "       GRIN013_H13_M33_S54                                              \\\n",
       "                       1          2          3          4          6     \n",
       "y                 1.962643   1.741201   2.156276   2.536974   6.696357   \n",
       "x                10.000000  14.000000  14.000000  16.000000  16.000000   \n",
       "cm_sec            0.798560   1.152704   1.152704   1.329776   1.329776   \n",
       "\n",
       "                                                               ...  \\\n",
       "              7          8          9          10         11   ...   \n",
       "y        4.194421   1.731483   2.016543   5.095806   3.364706  ...   \n",
       "x       16.000000  14.000000  14.000000  28.000000  27.000000  ...   \n",
       "cm_sec   1.329776   1.152704   1.152704   2.392208   2.303672  ...   \n",
       "\n",
       "       GRIN035_H14_M40_S34                                              \\\n",
       "                       109        110        66         77         116   \n",
       "y                 3.044683   5.770407   4.117341   0.899166   2.477609   \n",
       "x                21.000000  22.000000  25.000000  13.000000  22.000000   \n",
       "cm_sec            1.772456   1.860992   2.126600   1.064168   1.860992   \n",
       "\n",
       "                                                               \n",
       "              123        126        134        136        121  \n",
       "y        2.103776   3.106887   4.549365   1.997977   2.419023  \n",
       "x       18.000000  22.000000  25.000000  14.000000  12.000000  \n",
       "cm_sec   1.506848   1.860992   2.126600   1.152704   0.975632  \n",
       "\n",
       "[3 rows x 938 columns]"
      ]
     },
     "execution_count": 19,
     "metadata": {},
     "output_type": "execute_result"
    }
   ],
   "source": [
    "#for resetting index to cm/sec velocity \n",
    "binning_range = pd.interval_range(start=-1*0.0868, end=50*0.0868, periods=50)\n",
    "end_points = {k:v for k,v in zip(np.linspace(1, 50, 50), [binning_range.values[interval].right for interval in range(len(binning_range))])}\n",
    "\n",
    "max_bins['cm_sec'] = [end_points[max_bins['x'].values[point]] for point in range(len(max_bins['x'].values))]\n",
    "max_bins = max_bins.transpose()\n",
    "\n",
    "max_bins "
   ]
  },
  {
   "cell_type": "code",
   "execution_count": 184,
   "metadata": {},
   "outputs": [],
   "source": [
    "#max_bins.to_csv('/projects/p30771/miniscope/analysis/OpenFieldAnalysis/indiv_cell_regressions/maxf_by_v_wt_1S.csv')\n",
    "#max_bins_relative_bins.to_csv('/projects/p30771/miniscope/analysis/OpenFieldAnalysis/indiv_cell_regressions/maxf_by_v_rel_wt_1S.csv')"
   ]
  },
  {
   "cell_type": "code",
   "execution_count": 20,
   "metadata": {},
   "outputs": [
    {
     "data": {
      "image/png": "[encoded data removed]",
      "text/plain": [
       "<Figure size 432x288 with 1 Axes>"
      ]
     },
     "metadata": {
      "needs_background": "light"
     },
     "output_type": "display_data"
    }
   ],
   "source": [
    "# distribution of all df versus velocity values \n",
    "plt.scatter(max_bins_relative_bins.loc['x'].values, max_bins_relative_bins.loc['y'].values)\n",
    "plt.show()"
   ]
  },
  {
   "cell_type": "code",
   "execution_count": 32,
   "metadata": {},
   "outputs": [],
   "source": [
    "#filter cells to show events above a z score threshold\n",
    "z_score_threshold = 2\n",
    "thresholded_bins = max_bins.transpose()[max_bins.loc['y'] > 2]\n",
    "thresholded_bins = thresholded_bins.transpose()"
   ]
  },
  {
   "cell_type": "code",
   "execution_count": 33,
   "metadata": {},
   "outputs": [
    {
     "data": {
      "text/html": [
       "<div>\n",
       "<style scoped>\n",
       "    .dataframe tbody tr th:only-of-type {\n",
       "        vertical-align: middle;\n",
       "    }\n",
       "\n",
       "    .dataframe tbody tr th {\n",
       "        vertical-align: top;\n",
       "    }\n",
       "\n",
       "    .dataframe thead tr th {\n",
       "        text-align: left;\n",
       "    }\n",
       "</style>\n",
       "<table border=\"1\" class=\"dataframe\">\n",
       "  <thead>\n",
       "    <tr>\n",
       "      <th></th>\n",
       "      <th colspan=\"10\" halign=\"left\">GRIN013_H13_M33_S54</th>\n",
       "      <th>...</th>\n",
       "      <th colspan=\"10\" halign=\"left\">GRIN035_H14_M40_S34</th>\n",
       "    </tr>\n",
       "    <tr>\n",
       "      <th></th>\n",
       "      <th>3</th>\n",
       "      <th>4</th>\n",
       "      <th>6</th>\n",
       "      <th>7</th>\n",
       "      <th>9</th>\n",
       "      <th>10</th>\n",
       "      <th>11</th>\n",
       "      <th>12</th>\n",
       "      <th>13</th>\n",
       "      <th>14</th>\n",
       "      <th>...</th>\n",
       "      <th>105</th>\n",
       "      <th>106</th>\n",
       "      <th>109</th>\n",
       "      <th>110</th>\n",
       "      <th>66</th>\n",
       "      <th>116</th>\n",
       "      <th>123</th>\n",
       "      <th>126</th>\n",
       "      <th>134</th>\n",
       "      <th>121</th>\n",
       "    </tr>\n",
       "  </thead>\n",
       "  <tbody>\n",
       "    <tr>\n",
       "      <th>y</th>\n",
       "      <td>2.156276</td>\n",
       "      <td>2.536974</td>\n",
       "      <td>6.696357</td>\n",
       "      <td>4.194421</td>\n",
       "      <td>2.016543</td>\n",
       "      <td>5.095806</td>\n",
       "      <td>3.364706</td>\n",
       "      <td>9.927230</td>\n",
       "      <td>3.756558</td>\n",
       "      <td>2.047984</td>\n",
       "      <td>...</td>\n",
       "      <td>3.947829</td>\n",
       "      <td>7.885160</td>\n",
       "      <td>3.044683</td>\n",
       "      <td>5.770407</td>\n",
       "      <td>4.117341</td>\n",
       "      <td>2.477609</td>\n",
       "      <td>2.103776</td>\n",
       "      <td>3.106887</td>\n",
       "      <td>4.549365</td>\n",
       "      <td>2.419023</td>\n",
       "    </tr>\n",
       "    <tr>\n",
       "      <th>x</th>\n",
       "      <td>14.000000</td>\n",
       "      <td>16.000000</td>\n",
       "      <td>16.000000</td>\n",
       "      <td>16.000000</td>\n",
       "      <td>14.000000</td>\n",
       "      <td>28.000000</td>\n",
       "      <td>27.000000</td>\n",
       "      <td>28.000000</td>\n",
       "      <td>16.000000</td>\n",
       "      <td>14.000000</td>\n",
       "      <td>...</td>\n",
       "      <td>18.000000</td>\n",
       "      <td>22.000000</td>\n",
       "      <td>21.000000</td>\n",
       "      <td>22.000000</td>\n",
       "      <td>25.000000</td>\n",
       "      <td>22.000000</td>\n",
       "      <td>18.000000</td>\n",
       "      <td>22.000000</td>\n",
       "      <td>25.000000</td>\n",
       "      <td>12.000000</td>\n",
       "    </tr>\n",
       "    <tr>\n",
       "      <th>cm_sec</th>\n",
       "      <td>1.152704</td>\n",
       "      <td>1.329776</td>\n",
       "      <td>1.329776</td>\n",
       "      <td>1.329776</td>\n",
       "      <td>1.152704</td>\n",
       "      <td>2.392208</td>\n",
       "      <td>2.303672</td>\n",
       "      <td>2.392208</td>\n",
       "      <td>1.329776</td>\n",
       "      <td>1.152704</td>\n",
       "      <td>...</td>\n",
       "      <td>1.506848</td>\n",
       "      <td>1.860992</td>\n",
       "      <td>1.772456</td>\n",
       "      <td>1.860992</td>\n",
       "      <td>2.126600</td>\n",
       "      <td>1.860992</td>\n",
       "      <td>1.506848</td>\n",
       "      <td>1.860992</td>\n",
       "      <td>2.126600</td>\n",
       "      <td>0.975632</td>\n",
       "    </tr>\n",
       "  </tbody>\n",
       "</table>\n",
       "<p>3 rows × 596 columns</p>\n",
       "</div>"
      ],
      "text/plain": [
       "       GRIN013_H13_M33_S54                                              \\\n",
       "                       3          4          6          7          9     \n",
       "y                 2.156276   2.536974   6.696357   4.194421   2.016543   \n",
       "x                14.000000  16.000000  16.000000  16.000000  14.000000   \n",
       "cm_sec            1.152704   1.329776   1.329776   1.329776   1.152704   \n",
       "\n",
       "                                                               ...  \\\n",
       "              10         11         12         13         14   ...   \n",
       "y        5.095806   3.364706   9.927230   3.756558   2.047984  ...   \n",
       "x       28.000000  27.000000  28.000000  16.000000  14.000000  ...   \n",
       "cm_sec   2.392208   2.303672   2.392208   1.329776   1.152704  ...   \n",
       "\n",
       "       GRIN035_H14_M40_S34                                              \\\n",
       "                       105        106        109        110        66    \n",
       "y                 3.947829   7.885160   3.044683   5.770407   4.117341   \n",
       "x                18.000000  22.000000  21.000000  22.000000  25.000000   \n",
       "cm_sec            1.506848   1.860992   1.772456   1.860992   2.126600   \n",
       "\n",
       "                                                               \n",
       "              116        123        126        134        121  \n",
       "y        2.477609   2.103776   3.106887   4.549365   2.419023  \n",
       "x       22.000000  18.000000  22.000000  25.000000  12.000000  \n",
       "cm_sec   1.860992   1.506848   1.860992   2.126600   0.975632  \n",
       "\n",
       "[3 rows x 596 columns]"
      ]
     },
     "execution_count": 33,
     "metadata": {},
     "output_type": "execute_result"
    }
   ],
   "source": [
    "thresholded_bins"
   ]
  },
  {
   "cell_type": "code",
   "execution_count": 36,
   "metadata": {},
   "outputs": [
    {
     "data": {
      "image/png": "[encoded data removed]",
      "text/plain": [
       "<Figure size 504x432 with 1 Axes>"
      ]
     },
     "metadata": {
      "needs_background": "light"
     },
     "output_type": "display_data"
    }
   ],
   "source": [
    "# distribution of all df versus velocity values \n",
    "plt.rcParams.update({'font.size': 22})\n",
    "plt.scatter(thresholded_bins.loc['cm_sec'].values, thresholded_bins.loc['y'].values)\n",
    "fig = plt.gcf()\n",
    "fig.set_size_inches(7, 6)\n",
    "plt.xlim((0, 5))\n",
    "plt.ylim((0, 25))\n",
    "ax = plt.gca()\n",
    "ax.set_ylabel('dF/F (Z-Score)')\n",
    "ax.set_xlabel('velocity cm/sec')\n",
    "fig.subplots_adjust(left=0.15)\n",
    "fig.savefig('/home/jma819/presentation_files/wt_c_by_v.pdf', transparent=True)\n",
    "plt.show()"
   ]
  },
  {
   "cell_type": "code",
   "execution_count": 37,
   "metadata": {},
   "outputs": [],
   "source": [
    "# load KO data \n",
    "ko_bins = pd.read_csv('/projects/p30771/miniscope/analysis/OpenFieldAnalysis/indiv_cell_regressions/maxf_by_v_ko_1S_thresholded.csv', index_col=0)\n",
    "ko_bins_relative = pd.read_csv('/projects/p30771/miniscope/analysis/OpenFieldAnalysis/indiv_cell_regressions/maxf_by_v_rel_ko_1S.csv', index_col=0)"
   ]
  },
  {
   "cell_type": "code",
   "execution_count": 46,
   "metadata": {},
   "outputs": [],
   "source": [
    "max_v_bins_cumulative = stats.cumfreq(max_bins.loc['cm_sec'].values, numbins=100, defaultreallimits=(0, 5))\n",
    "max_v_bins_cumulative_relative = stats.cumfreq(max_bins_relative_bins.loc['x'].values, numbins=150, defaultreallimits=(0, 50))\n",
    "ko_bins_cumulative = stats.cumfreq(ko_bins.loc['cm_sec'].values, numbins=100, defaultreallimits=(0, 5))\n",
    "ko_bins_cumulative_relative = stats.cumfreq(np.array(ko_bins_relative.loc['x'].values, dtype=np.float64), numbins=150, defaultreallimits=(0, 50)) "
   ]
  },
  {
   "cell_type": "code",
   "execution_count": 47,
   "metadata": {
    "scrolled": false
   },
   "outputs": [],
   "source": [
    "wt_data = max_v_bins_cumulative.cumcount/len(max_bins.loc['x'].values)\n",
    "wt_data_relative = max_v_bins_cumulative_relative.cumcount/len(max_bins_relative_bins.loc['x'].values)\n",
    "ko_data = ko_bins_cumulative.cumcount/len(ko_bins.loc['x'].values)\n",
    "ko_data_relative = ko_bins_cumulative_relative.cumcount/len(ko_bins_relative.loc['x'].values)"
   ]
  },
  {
   "cell_type": "code",
   "execution_count": 48,
   "metadata": {
    "scrolled": true
   },
   "outputs": [
    {
     "data": {
      "image/png": "[encoded data removed]",
      "text/plain": [
       "<Figure size 720x432 with 1 Axes>"
      ]
     },
     "metadata": {
      "needs_background": "light"
     },
     "output_type": "display_data"
    }
   ],
   "source": [
    "plt.rcParams.update({'font.size': 22})\n",
    "plt.plot(np.linspace(0, 5, 100), wt_data, linewidth=7.0)\n",
    "plt.plot(np.linspace(0, 5, 100), ko_data, color='darkseagreen', linewidth=7.0)\n",
    "plt.xlim((0, 5))\n",
    "fig = plt.gcf()\n",
    "fig.set_size_inches(10, 6)\n",
    "ax = plt.gca()\n",
    "ax.set_ylabel('cumulative fraction')\n",
    "ax.set_xlabel('velocity cm/sec')\n",
    "fig.subplots_adjust(left=0.15)\n",
    "fig.savefig('/home/jma819/presentation_files/df_binned_by_v.pdf', transparent=True)\n",
    "plt.show()"
   ]
  },
  {
   "cell_type": "code",
   "execution_count": 49,
   "metadata": {},
   "outputs": [
    {
     "data": {
      "text/plain": [
       "Ks_2sampResult(statistic=0.25, pvalue=0.0037294923618311367)"
      ]
     },
     "execution_count": 49,
     "metadata": {},
     "output_type": "execute_result"
    }
   ],
   "source": [
    "stats.ks_2samp(wt_data, ko_data)"
   ]
  },
  {
   "cell_type": "code",
   "execution_count": 147,
   "metadata": {},
   "outputs": [
    {
     "data": {
      "image/png": "[encoded data removed]",
      "text/plain": [
       "<Figure size 432x288 with 1 Axes>"
      ]
     },
     "metadata": {
      "needs_background": "light"
     },
     "output_type": "display_data"
    }
   ],
   "source": [
    "plt.plot(np.linspace(0, 150, 150), wt_data_relative)\n",
    "plt.plot(np.linspace(0, 150, 150), ko_data_relative, color='m')\n",
    "plt.xlim((0, 150))\n",
    "plt.show()"
   ]
  },
  {
   "cell_type": "code",
   "execution_count": 148,
   "metadata": {},
   "outputs": [
    {
     "data": {
      "text/plain": [
       "Ks_2sampResult(statistic=0.2, pvalue=0.0048579332350668775)"
      ]
     },
     "execution_count": 148,
     "metadata": {},
     "output_type": "execute_result"
    }
   ],
   "source": [
    "stats.ks_2samp(wt_data_relative, ko_data_relative)"
   ]
  },
  {
   "cell_type": "code",
   "execution_count": null,
   "metadata": {},
   "outputs": [],
   "source": [
    "# get curve for all cells\n",
    "x = np.linspace(1, 50, 50)\n",
    "trends_by_cell = {}\n",
    "for session in list(grouped_raw_data.keys()):\n",
    "    for cell in (by_cells_across_sessions[session].keys()):\n",
    "        trends_by_cell[session+'_'+str(cell)] = by_cells_across_sessions[session][cell]['model'](x)\n",
    "trendlines_by_cell = pd.DataFrame(trends_by_cell)"
   ]
  },
  {
   "cell_type": "code",
   "execution_count": null,
   "metadata": {},
   "outputs": [],
   "source": [
    "# get curve for all cells\n",
    "x = np.linspace(1, 50, 50)\n",
    "trends_by_cell_significant = {}\n",
    "for session in list(grouped_raw_data.keys()):\n",
    "    for cell in (by_cells_across_sessions[session].keys()):\n",
    "        if float(by_cells_across_sessions[session][cell]['statsmodel_results'].summary().tables[0][3][3].data)<0.5: \n",
    "            trends_by_cell_significant[session+'_'+str(cell)] = by_cells_across_sessions[session][cell]['model'](x)\n",
    "trendlines_by_cell_significant = pd.DataFrame(trends_by_cell_significant)"
   ]
  },
  {
   "cell_type": "code",
   "execution_count": null,
   "metadata": {},
   "outputs": [],
   "source": [
    "#maybe do analyze per animal by then group by range across all at end \n",
    "plt.plot(x, trendlines_by_cell.mean(axis=1))\n",
    "mean = trendlines_by_cell.mean(axis=1)\n",
    "std_error = (trendlines_by_cell.std(axis=1)/math.sqrt(4))\n",
    "plt.fill_between(x, mean-std_error, mean+std_error)\n",
    "plt.plot(x, trendlines_by_cell_significant.mean(axis=1), color='r')\n",
    "mean_2 = trendlines_by_cell_significant.mean(axis=1)\n",
    "std_error_2 = (trendlines_by_cell_significant.std(axis=1)/math.sqrt(4))\n",
    "plt.fill_between(x, mean_2-std_error_2, mean_2+std_error_2)\n",
    "plt.ylim([-1, 3])\n",
    "plt.show()"
   ]
  },
  {
   "cell_type": "code",
   "execution_count": 158,
   "metadata": {},
   "outputs": [
    {
     "data": {
      "text/plain": [
       "['GRIN013_H13_M33_S54',\n",
       " 'GRIN027_H13_M29_S44',\n",
       " 'GRIN026_H16_M35_S34',\n",
       " 'GRIN033_H14_M34_S32',\n",
       " 'GRIN033_H13_M42_S33',\n",
       " 'GRIN032_H17_M30_S22',\n",
       " 'GRIN032_H16_M49_S22',\n",
       " 'GRIN034_H15_M28_S2',\n",
       " 'GRIN034_H16_M13_S22',\n",
       " 'GRIN034_H19_M0_S18',\n",
       " 'GRIN035_H13_M50_S58',\n",
       " 'GRIN035_H13_M31_S20',\n",
       " 'GRIN035_H14_M40_S34']"
      ]
     },
     "execution_count": 158,
     "metadata": {},
     "output_type": "execute_result"
    }
   ],
   "source": [
    "list(grouped_raw_data.keys())"
   ]
  },
  {
   "cell_type": "code",
   "execution_count": 190,
   "metadata": {},
   "outputs": [],
   "source": [
    "## individual cell examples "
   ]
  },
  {
   "cell_type": "code",
   "execution_count": 203,
   "metadata": {},
   "outputs": [],
   "source": [
    "cell=100\n",
    "df_to_fit = by_cells_across_sessions['GRIN032_H17_M30_S22'][cell]['fit_df']"
   ]
  },
  {
   "cell_type": "code",
   "execution_count": 204,
   "metadata": {},
   "outputs": [
    {
     "data": {
      "text/html": [
       "<div>\n",
       "<style scoped>\n",
       "    .dataframe tbody tr th:only-of-type {\n",
       "        vertical-align: middle;\n",
       "    }\n",
       "\n",
       "    .dataframe tbody tr th {\n",
       "        vertical-align: top;\n",
       "    }\n",
       "\n",
       "    .dataframe thead th {\n",
       "        text-align: right;\n",
       "    }\n",
       "</style>\n",
       "<table border=\"1\" class=\"dataframe\">\n",
       "  <thead>\n",
       "    <tr style=\"text-align: right;\">\n",
       "      <th></th>\n",
       "      <th>y</th>\n",
       "      <th>x</th>\n",
       "    </tr>\n",
       "  </thead>\n",
       "  <tbody>\n",
       "    <tr>\n",
       "      <th>1</th>\n",
       "      <td>0.343365</td>\n",
       "      <td>2.0</td>\n",
       "    </tr>\n",
       "    <tr>\n",
       "      <th>2</th>\n",
       "      <td>0.439387</td>\n",
       "      <td>3.0</td>\n",
       "    </tr>\n",
       "    <tr>\n",
       "      <th>3</th>\n",
       "      <td>0.506657</td>\n",
       "      <td>4.0</td>\n",
       "    </tr>\n",
       "    <tr>\n",
       "      <th>4</th>\n",
       "      <td>1.907827</td>\n",
       "      <td>5.0</td>\n",
       "    </tr>\n",
       "    <tr>\n",
       "      <th>6</th>\n",
       "      <td>2.042499</td>\n",
       "      <td>7.0</td>\n",
       "    </tr>\n",
       "    <tr>\n",
       "      <th>14</th>\n",
       "      <td>0.079734</td>\n",
       "      <td>15.0</td>\n",
       "    </tr>\n",
       "    <tr>\n",
       "      <th>15</th>\n",
       "      <td>0.280668</td>\n",
       "      <td>16.0</td>\n",
       "    </tr>\n",
       "    <tr>\n",
       "      <th>16</th>\n",
       "      <td>0.112850</td>\n",
       "      <td>17.0</td>\n",
       "    </tr>\n",
       "    <tr>\n",
       "      <th>22</th>\n",
       "      <td>1.344581</td>\n",
       "      <td>23.0</td>\n",
       "    </tr>\n",
       "    <tr>\n",
       "      <th>23</th>\n",
       "      <td>1.398712</td>\n",
       "      <td>24.0</td>\n",
       "    </tr>\n",
       "    <tr>\n",
       "      <th>33</th>\n",
       "      <td>-0.127994</td>\n",
       "      <td>34.0</td>\n",
       "    </tr>\n",
       "    <tr>\n",
       "      <th>34</th>\n",
       "      <td>0.012679</td>\n",
       "      <td>35.0</td>\n",
       "    </tr>\n",
       "    <tr>\n",
       "      <th>37</th>\n",
       "      <td>0.195602</td>\n",
       "      <td>38.0</td>\n",
       "    </tr>\n",
       "    <tr>\n",
       "      <th>39</th>\n",
       "      <td>0.546437</td>\n",
       "      <td>40.0</td>\n",
       "    </tr>\n",
       "    <tr>\n",
       "      <th>42</th>\n",
       "      <td>-0.003532</td>\n",
       "      <td>43.0</td>\n",
       "    </tr>\n",
       "    <tr>\n",
       "      <th>43</th>\n",
       "      <td>-0.008312</td>\n",
       "      <td>44.0</td>\n",
       "    </tr>\n",
       "    <tr>\n",
       "      <th>44</th>\n",
       "      <td>0.030209</td>\n",
       "      <td>45.0</td>\n",
       "    </tr>\n",
       "    <tr>\n",
       "      <th>47</th>\n",
       "      <td>0.490025</td>\n",
       "      <td>48.0</td>\n",
       "    </tr>\n",
       "    <tr>\n",
       "      <th>49</th>\n",
       "      <td>-0.316118</td>\n",
       "      <td>50.0</td>\n",
       "    </tr>\n",
       "  </tbody>\n",
       "</table>\n",
       "</div>"
      ],
      "text/plain": [
       "           y     x\n",
       "1   0.343365   2.0\n",
       "2   0.439387   3.0\n",
       "3   0.506657   4.0\n",
       "4   1.907827   5.0\n",
       "6   2.042499   7.0\n",
       "14  0.079734  15.0\n",
       "15  0.280668  16.0\n",
       "16  0.112850  17.0\n",
       "22  1.344581  23.0\n",
       "23  1.398712  24.0\n",
       "33 -0.127994  34.0\n",
       "34  0.012679  35.0\n",
       "37  0.195602  38.0\n",
       "39  0.546437  40.0\n",
       "42 -0.003532  43.0\n",
       "43 -0.008312  44.0\n",
       "44  0.030209  45.0\n",
       "47  0.490025  48.0\n",
       "49 -0.316118  50.0"
      ]
     },
     "execution_count": 204,
     "metadata": {},
     "output_type": "execute_result"
    }
   ],
   "source": [
    "df_to_fit"
   ]
  },
  {
   "cell_type": "code",
   "execution_count": 227,
   "metadata": {
    "scrolled": true
   },
   "outputs": [],
   "source": [
    "#df_to_fit"
   ]
  },
  {
   "cell_type": "code",
   "execution_count": 240,
   "metadata": {},
   "outputs": [
    {
     "data": {
      "image/png": "[encoded data removed]",
      "text/plain": [
       "<Figure size 504x432 with 1 Axes>"
      ]
     },
     "metadata": {
      "needs_background": "light"
     },
     "output_type": "display_data"
    }
   ],
   "source": [
    "cell=1\n",
    "df_to_fit = by_cells_across_sessions['GRIN032_H17_M30_S22'][cell]['fit_df']\n",
    "binning_range = pd.interval_range(start=-1*0.0868, end=50*0.0868, periods=50)\n",
    "end_points = {k:v for k,v in zip(np.linspace(1, 50, 50), [binning_range.values[interval].right for interval in range(len(binning_range))])}\n",
    "df_to_fit['cm_sec'] = [end_points[df_to_fit['x'].values[point]] for point in range(len(df_to_fit['x'].values))]\n",
    "plt.scatter(df_to_fit['cm_sec'].values, df_to_fit['y'].values, s=250, linewidths=1, edgecolors='k')\n",
    "fig = plt.gcf()\n",
    "fig.set_size_inches(7, 6)\n",
    "plt.xlim((-.1, 5))\n",
    "ax = plt.gca()\n",
    "ax.set_ylabel('dF/F (Z-Score)')\n",
    "ax.set_xlabel('velocity cm/sec')\n",
    "fig.subplots_adjust(left=0.15)\n",
    "fig.savefig('/home/jma819/presentation_files/indiv_cell_eg1.pdf', transparent=True)\n",
    "plt.show()"
   ]
  },
  {
   "cell_type": "code",
   "execution_count": 241,
   "metadata": {},
   "outputs": [
    {
     "data": {
      "image/png": "[encoded data removed]",
      "text/plain": [
       "<Figure size 504x432 with 1 Axes>"
      ]
     },
     "metadata": {
      "needs_background": "light"
     },
     "output_type": "display_data"
    }
   ],
   "source": [
    "cell=100\n",
    "df_to_fit = by_cells_across_sessions['GRIN032_H17_M30_S22'][cell]['fit_df']\n",
    "binning_range = pd.interval_range(start=-1*0.0868, end=50*0.0868, periods=50)\n",
    "end_points = {k:v for k,v in zip(np.linspace(1, 50, 50), [binning_range.values[interval].right for interval in range(len(binning_range))])}\n",
    "df_to_fit['cm_sec'] = [end_points[df_to_fit['x'].values[point]] for point in range(len(df_to_fit['x'].values))]\n",
    "plt.scatter(df_to_fit['cm_sec'].values, df_to_fit['y'].values, s=250, linewidths=1, edgecolors='k')\n",
    "fig = plt.gcf()\n",
    "fig.set_size_inches(7, 6)\n",
    "plt.xlim((-.1, 5))\n",
    "ax = plt.gca()\n",
    "ax.set_ylabel('dF/F (Z-Score)')\n",
    "ax.set_xlabel('velocity cm/sec')\n",
    "fig.subplots_adjust(left=0.15)\n",
    "fig.savefig('/home/jma819/presentation_files/indiv_cell_eg2.pdf', transparent=True)\n",
    "plt.show()"
   ]
  },
  {
   "cell_type": "code",
   "execution_count": null,
   "metadata": {},
   "outputs": [],
   "source": []
  }
 ],
 "metadata": {
  "kernelspec": {
   "display_name": "caiman",
   "language": "python",
   "name": "caiman"
  },
  "language_info": {
   "codemirror_mode": {
    "name": "ipython",
    "version": 3
   },
   "file_extension": ".py",
   "mimetype": "text/x-python",
   "name": "python",
   "nbconvert_exporter": "python",
   "pygments_lexer": "ipython3",
   "version": "3.6.7"
  }
 },
 "nbformat": 4,
 "nbformat_minor": 2
}
