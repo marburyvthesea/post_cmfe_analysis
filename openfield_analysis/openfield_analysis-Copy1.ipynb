{
 "cells": [
  {
   "cell_type": "code",
   "execution_count": 1,
   "metadata": {
    "scrolled": true
   },
   "outputs": [
    {
     "data": {
      "text/html": [
       "<style>.container { width:90% !important; }</style>"
      ],
      "text/plain": [
       "<IPython.core.display.HTML object>"
      ]
     },
     "metadata": {},
     "output_type": "display_data"
    },
    {
     "name": "stderr",
     "output_type": "stream",
     "text": [
      "/Users/johnmarshall/anaconda3/envs/caiman/lib/python3.6/site-packages/sklearn/utils/deprecation.py:144: FutureWarning: The sklearn.decomposition.incremental_pca module is  deprecated in version 0.22 and will be removed in version 0.24. The corresponding classes / functions should instead be imported from sklearn.decomposition. Anything that cannot be imported from sklearn.decomposition is now part of the private API.\n",
      "  warnings.warn(message, FutureWarning)\n",
      "/Users/johnmarshall/anaconda3/envs/caiman/lib/python3.6/site-packages/tensorflow/python/framework/dtypes.py:526: FutureWarning: Passing (type, 1) or '1type' as a synonym of type is deprecated; in a future version of numpy, it will be understood as (type, (1,)) / '(1,)type'.\n",
      "  _np_qint8 = np.dtype([(\"qint8\", np.int8, 1)])\n",
      "/Users/johnmarshall/anaconda3/envs/caiman/lib/python3.6/site-packages/tensorflow/python/framework/dtypes.py:527: FutureWarning: Passing (type, 1) or '1type' as a synonym of type is deprecated; in a future version of numpy, it will be understood as (type, (1,)) / '(1,)type'.\n",
      "  _np_quint8 = np.dtype([(\"quint8\", np.uint8, 1)])\n",
      "/Users/johnmarshall/anaconda3/envs/caiman/lib/python3.6/site-packages/tensorflow/python/framework/dtypes.py:528: FutureWarning: Passing (type, 1) or '1type' as a synonym of type is deprecated; in a future version of numpy, it will be understood as (type, (1,)) / '(1,)type'.\n",
      "  _np_qint16 = np.dtype([(\"qint16\", np.int16, 1)])\n",
      "/Users/johnmarshall/anaconda3/envs/caiman/lib/python3.6/site-packages/tensorflow/python/framework/dtypes.py:529: FutureWarning: Passing (type, 1) or '1type' as a synonym of type is deprecated; in a future version of numpy, it will be understood as (type, (1,)) / '(1,)type'.\n",
      "  _np_quint16 = np.dtype([(\"quint16\", np.uint16, 1)])\n",
      "/Users/johnmarshall/anaconda3/envs/caiman/lib/python3.6/site-packages/tensorflow/python/framework/dtypes.py:530: FutureWarning: Passing (type, 1) or '1type' as a synonym of type is deprecated; in a future version of numpy, it will be understood as (type, (1,)) / '(1,)type'.\n",
      "  _np_qint32 = np.dtype([(\"qint32\", np.int32, 1)])\n",
      "/Users/johnmarshall/anaconda3/envs/caiman/lib/python3.6/site-packages/tensorflow/python/framework/dtypes.py:535: FutureWarning: Passing (type, 1) or '1type' as a synonym of type is deprecated; in a future version of numpy, it will be understood as (type, (1,)) / '(1,)type'.\n",
      "  np_resource = np.dtype([(\"resource\", np.ubyte, 1)])\n"
     ]
    }
   ],
   "source": [
    "from IPython.core.display import display, HTML\n",
    "display(HTML(\"<style>.container { width:90% !important; }</style>\"))\n",
    "import numpy as np\n",
    "import pandas as pd\n",
    "import h5py\n",
    "from tqdm import tqdm\n",
    "import scipy.io as sio\n",
    "from scipy import stats\n",
    "from importlib import reload\n",
    "from matplotlib import pyplot as plt\n",
    "import sys\n",
    "sys.path.append('/Users/johnmarshall/Documents/Analysis/PythonAnalysisScripts/post_cmfe_analysis/')\n",
    "import python_utils_jjm as utils_jjm\n",
    "import dlc_utils\n",
    "import caiman"
   ]
  },
  {
   "cell_type": "code",
   "execution_count": 59,
   "metadata": {
    "scrolled": true
   },
   "outputs": [
    {
     "data": {
      "text/plain": [
       "<module 'dlc_utils' from '/Users/johnmarshall/Documents/Analysis/PythonAnalysisScripts/post_cmfe_analysis/dlc_utils.py'>"
      ]
     },
     "execution_count": 59,
     "metadata": {},
     "output_type": "execute_result"
    }
   ],
   "source": [
    "reload(dlc_utils)"
   ]
  },
  {
   "cell_type": "code",
   "execution_count": 3,
   "metadata": {},
   "outputs": [],
   "source": [
    "#cnmfe data\n",
    "dir_path_cnmfe = '/Volumes/My_Passport/cnmfe_analysis_files/batch_output_files/22-Mar_22_52_02_test_out.mat' \n",
    "CNMFE_results = sio.loadmat(dir_path_cnmfe)"
   ]
  },
  {
   "cell_type": "code",
   "execution_count": 4,
   "metadata": {},
   "outputs": [],
   "source": [
    "#behavior results\n",
    "interpolated = pd.read_csv('/volumes/My_Passport/dlc_analysis/behavcamvideos/GRIN033_H14_M34_S32_01162020/dlc_output/H14_M34_S32_dlc_tracking_foranalysis.csv')\n",
    "interpolated.set_index('Unnamed: 0', inplace=True)\n",
    "interpolated.index.rename('time(sec)', inplace=True)"
   ]
  },
  {
   "cell_type": "code",
   "execution_count": 37,
   "metadata": {},
   "outputs": [],
   "source": [
    "interpolated['msCam_index'] = np.linspace(0, len(interpolated)-1, len(interpolated))"
   ]
  },
  {
   "cell_type": "code",
   "execution_count": 38,
   "metadata": {},
   "outputs": [
    {
     "data": {
      "text/html": [
       "<div>\n",
       "<style scoped>\n",
       "    .dataframe tbody tr th:only-of-type {\n",
       "        vertical-align: middle;\n",
       "    }\n",
       "\n",
       "    .dataframe tbody tr th {\n",
       "        vertical-align: top;\n",
       "    }\n",
       "\n",
       "    .dataframe thead th {\n",
       "        text-align: right;\n",
       "    }\n",
       "</style>\n",
       "<table border=\"1\" class=\"dataframe\">\n",
       "  <thead>\n",
       "    <tr style=\"text-align: right;\">\n",
       "      <th></th>\n",
       "      <th>level_0</th>\n",
       "      <th>index</th>\n",
       "      <th>ear_right</th>\n",
       "      <th>miniscope_light</th>\n",
       "      <th>ear_left</th>\n",
       "      <th>tail_base</th>\n",
       "      <th>centroid</th>\n",
       "      <th>msCamFrame</th>\n",
       "      <th>msCam_index</th>\n",
       "    </tr>\n",
       "    <tr>\n",
       "      <th>time(sec)</th>\n",
       "      <th></th>\n",
       "      <th></th>\n",
       "      <th></th>\n",
       "      <th></th>\n",
       "      <th></th>\n",
       "      <th></th>\n",
       "      <th></th>\n",
       "      <th></th>\n",
       "      <th></th>\n",
       "    </tr>\n",
       "  </thead>\n",
       "  <tbody>\n",
       "    <tr>\n",
       "      <th>00:00:00</th>\n",
       "      <td>14.600</td>\n",
       "      <td>14.600</td>\n",
       "      <td>0.179751</td>\n",
       "      <td>0.303394</td>\n",
       "      <td>0.189239</td>\n",
       "      <td>0.237001</td>\n",
       "      <td>0.173178</td>\n",
       "      <td>9.5</td>\n",
       "      <td>0.0</td>\n",
       "    </tr>\n",
       "    <tr>\n",
       "      <th>00:00:00.050000</th>\n",
       "      <td>16.105</td>\n",
       "      <td>16.105</td>\n",
       "      <td>0.179455</td>\n",
       "      <td>0.348083</td>\n",
       "      <td>0.190188</td>\n",
       "      <td>0.234872</td>\n",
       "      <td>0.180799</td>\n",
       "      <td>10.5</td>\n",
       "      <td>1.0</td>\n",
       "    </tr>\n",
       "    <tr>\n",
       "      <th>00:00:00.100000</th>\n",
       "      <td>17.610</td>\n",
       "      <td>17.610</td>\n",
       "      <td>0.179160</td>\n",
       "      <td>0.392772</td>\n",
       "      <td>0.191137</td>\n",
       "      <td>0.232744</td>\n",
       "      <td>0.188421</td>\n",
       "      <td>11.5</td>\n",
       "      <td>2.0</td>\n",
       "    </tr>\n",
       "    <tr>\n",
       "      <th>00:00:00.150000</th>\n",
       "      <td>19.115</td>\n",
       "      <td>19.115</td>\n",
       "      <td>0.178865</td>\n",
       "      <td>0.437461</td>\n",
       "      <td>0.192086</td>\n",
       "      <td>0.230616</td>\n",
       "      <td>0.196043</td>\n",
       "      <td>12.5</td>\n",
       "      <td>3.0</td>\n",
       "    </tr>\n",
       "    <tr>\n",
       "      <th>00:00:00.200000</th>\n",
       "      <td>20.620</td>\n",
       "      <td>20.620</td>\n",
       "      <td>0.178570</td>\n",
       "      <td>0.482150</td>\n",
       "      <td>0.193034</td>\n",
       "      <td>0.228487</td>\n",
       "      <td>0.203665</td>\n",
       "      <td>13.5</td>\n",
       "      <td>4.0</td>\n",
       "    </tr>\n",
       "    <tr>\n",
       "      <th>...</th>\n",
       "      <td>...</td>\n",
       "      <td>...</td>\n",
       "      <td>...</td>\n",
       "      <td>...</td>\n",
       "      <td>...</td>\n",
       "      <td>...</td>\n",
       "      <td>...</td>\n",
       "      <td>...</td>\n",
       "      <td>...</td>\n",
       "    </tr>\n",
       "    <tr>\n",
       "      <th>00:21:31.800000</th>\n",
       "      <td>37784.430</td>\n",
       "      <td>784.430</td>\n",
       "      <td>0.131580</td>\n",
       "      <td>0.167107</td>\n",
       "      <td>0.196454</td>\n",
       "      <td>0.213918</td>\n",
       "      <td>0.098541</td>\n",
       "      <td>25842.3</td>\n",
       "      <td>25836.0</td>\n",
       "    </tr>\n",
       "    <tr>\n",
       "      <th>00:21:31.850000</th>\n",
       "      <td>37785.635</td>\n",
       "      <td>785.635</td>\n",
       "      <td>0.129627</td>\n",
       "      <td>0.164631</td>\n",
       "      <td>0.197972</td>\n",
       "      <td>0.216424</td>\n",
       "      <td>0.098426</td>\n",
       "      <td>25843.1</td>\n",
       "      <td>25837.0</td>\n",
       "    </tr>\n",
       "    <tr>\n",
       "      <th>00:21:31.900000</th>\n",
       "      <td>37786.840</td>\n",
       "      <td>786.840</td>\n",
       "      <td>0.127674</td>\n",
       "      <td>0.162156</td>\n",
       "      <td>0.199491</td>\n",
       "      <td>0.218931</td>\n",
       "      <td>0.098310</td>\n",
       "      <td>25843.9</td>\n",
       "      <td>25838.0</td>\n",
       "    </tr>\n",
       "    <tr>\n",
       "      <th>00:21:31.950000</th>\n",
       "      <td>37788.045</td>\n",
       "      <td>788.045</td>\n",
       "      <td>0.125721</td>\n",
       "      <td>0.159681</td>\n",
       "      <td>0.201009</td>\n",
       "      <td>0.221437</td>\n",
       "      <td>0.098195</td>\n",
       "      <td>25844.7</td>\n",
       "      <td>25839.0</td>\n",
       "    </tr>\n",
       "    <tr>\n",
       "      <th>00:21:32</th>\n",
       "      <td>37789.250</td>\n",
       "      <td>789.250</td>\n",
       "      <td>0.123767</td>\n",
       "      <td>0.157206</td>\n",
       "      <td>0.202528</td>\n",
       "      <td>0.223943</td>\n",
       "      <td>0.098079</td>\n",
       "      <td>25845.5</td>\n",
       "      <td>25840.0</td>\n",
       "    </tr>\n",
       "  </tbody>\n",
       "</table>\n",
       "<p>25841 rows × 9 columns</p>\n",
       "</div>"
      ],
      "text/plain": [
       "                   level_0    index  ear_right  miniscope_light  ear_left  \\\n",
       "time(sec)                                                                   \n",
       "00:00:00            14.600   14.600   0.179751         0.303394  0.189239   \n",
       "00:00:00.050000     16.105   16.105   0.179455         0.348083  0.190188   \n",
       "00:00:00.100000     17.610   17.610   0.179160         0.392772  0.191137   \n",
       "00:00:00.150000     19.115   19.115   0.178865         0.437461  0.192086   \n",
       "00:00:00.200000     20.620   20.620   0.178570         0.482150  0.193034   \n",
       "...                    ...      ...        ...              ...       ...   \n",
       "00:21:31.800000  37784.430  784.430   0.131580         0.167107  0.196454   \n",
       "00:21:31.850000  37785.635  785.635   0.129627         0.164631  0.197972   \n",
       "00:21:31.900000  37786.840  786.840   0.127674         0.162156  0.199491   \n",
       "00:21:31.950000  37788.045  788.045   0.125721         0.159681  0.201009   \n",
       "00:21:32         37789.250  789.250   0.123767         0.157206  0.202528   \n",
       "\n",
       "                 tail_base  centroid  msCamFrame  msCam_index  \n",
       "time(sec)                                                      \n",
       "00:00:00          0.237001  0.173178         9.5          0.0  \n",
       "00:00:00.050000   0.234872  0.180799        10.5          1.0  \n",
       "00:00:00.100000   0.232744  0.188421        11.5          2.0  \n",
       "00:00:00.150000   0.230616  0.196043        12.5          3.0  \n",
       "00:00:00.200000   0.228487  0.203665        13.5          4.0  \n",
       "...                    ...       ...         ...          ...  \n",
       "00:21:31.800000   0.213918  0.098541     25842.3      25836.0  \n",
       "00:21:31.850000   0.216424  0.098426     25843.1      25837.0  \n",
       "00:21:31.900000   0.218931  0.098310     25843.9      25838.0  \n",
       "00:21:31.950000   0.221437  0.098195     25844.7      25839.0  \n",
       "00:21:32          0.223943  0.098079     25845.5      25840.0  \n",
       "\n",
       "[25841 rows x 9 columns]"
      ]
     },
     "execution_count": 38,
     "metadata": {},
     "output_type": "execute_result"
    }
   ],
   "source": [
    "interpolated"
   ]
  },
  {
   "cell_type": "code",
   "execution_count": 42,
   "metadata": {
    "scrolled": false
   },
   "outputs": [],
   "source": [
    "C_z_scored = utils_jjm.z_score_CNMFE(CNMFE_results['C'])"
   ]
  },
  {
   "cell_type": "code",
   "execution_count": null,
   "metadata": {},
   "outputs": [],
   "source": [
    "binned_velocity = dlc_utils.bin_by_activity_threshold(interpolated['centroid'], 40, 20, 0.5, 0.5)"
   ]
  },
  {
   "cell_type": "code",
   "execution_count": 85,
   "metadata": {},
   "outputs": [
    {
     "data": {
      "image/png": "[encoded data removed]",
      "text/plain": [
       "<Figure size 432x288 with 1 Axes>"
      ]
     },
     "metadata": {
      "needs_background": "light"
     },
     "output_type": "display_data"
    }
   ],
   "source": [
    "indicies=(0,1000)\n",
    "plt.plot(interpolated['msCam_index'][indicies[0]:indicies[1]], interpolated['centroid'][indicies[0]:indicies[1]])\n",
    "plt.show()"
   ]
  },
  {
   "cell_type": "code",
   "execution_count": 87,
   "metadata": {
    "scrolled": false
   },
   "outputs": [
    {
     "data": {
      "text/plain": [
       "[<matplotlib.lines.Line2D at 0x14d083208>]"
      ]
     },
     "execution_count": 87,
     "metadata": {},
     "output_type": "execute_result"
    },
    {
     "data": {
      "image/png": "[encoded data removed]",
      "text/plain": [
       "<Figure size 432x288 with 1 Axes>"
      ]
     },
     "metadata": {
      "needs_background": "light"
     },
     "output_type": "display_data"
    }
   ],
   "source": [
    "plt.plot(binned_velocity[indicies[0]:indicies[1]])"
   ]
  },
  {
   "cell_type": "code",
   "execution_count": 101,
   "metadata": {},
   "outputs": [],
   "source": [
    "#return inidicies where velocity transitions from at least a 1 second resting period \n",
    "transition_indicies = []\n",
    "resting_threshold = 40\n",
    "for point in range(resting_threshold, len(binned_velocity)):\n",
    "    if binned_velocity[point]>0.5 and not any(binned_velocity[point-resting_threshold:point]):\n",
    "           transition_indicies.append(point)"
   ]
  },
  {
   "cell_type": "code",
   "execution_count": 107,
   "metadata": {},
   "outputs": [],
   "source": [
    "#select section of trace 2 seconds around transition periods\n",
    "transition_activity = {}\n",
    "for index in transition_indicies:\n",
    "       transition_activity[index] = C_z_scored.mean(axis=0)[index-40:index+40]\n",
    "threshold_activity_df = pd.DataFrame(transition_activity)"
   ]
  },
  {
   "cell_type": "code",
   "execution_count": 111,
   "metadata": {},
   "outputs": [
    {
     "data": {
      "image/png": "[encoded data removed]",
      "text/plain": [
       "<Figure size 432x288 with 1 Axes>"
      ]
     },
     "metadata": {
      "needs_background": "light"
     },
     "output_type": "display_data"
    }
   ],
   "source": [
    "plt.plot(threshold_activity_df.mean(axis=1))\n",
    "plt.show()"
   ]
  },
  {
   "cell_type": "code",
   "execution_count": 88,
   "metadata": {
    "scrolled": false
   },
   "outputs": [
    {
     "data": {
      "text/plain": [
       "[<matplotlib.lines.Line2D at 0x14d0e9438>]"
      ]
     },
     "execution_count": 88,
     "metadata": {},
     "output_type": "execute_result"
    },
    {
     "data": {
      "image/png": "[encoded data removed]",
      "text/plain": [
       "<Figure size 432x288 with 1 Axes>"
      ]
     },
     "metadata": {
      "needs_background": "light"
     },
     "output_type": "display_data"
    }
   ],
   "source": [
    "plt.plot(C_z_scored.mean(axis=0)[indicies[0]:indicies[1]])"
   ]
  },
  {
   "cell_type": "code",
   "execution_count": 90,
   "metadata": {
    "scrolled": true
   },
   "outputs": [],
   "source": [
    "#return indicies where value is above threshold\n",
    "moving_indicies = np.argwhere(binned_velocity>0.5)\n",
    "#compare df/f for moving and nonmoving periods \n",
    "df_f_moving = np.mean(C_z_scored.mean(axis=0)[moving_indicies])\n",
    "df_f_resting = np.mean(C_z_scored.mean(axis=0)[np.argwhere(binned_velocity[0:25000]<0.5)])"
   ]
  },
  {
   "cell_type": "code",
   "execution_count": 92,
   "metadata": {},
   "outputs": [
    {
     "data": {
      "text/plain": [
       "0.19100929066490835"
      ]
     },
     "execution_count": 92,
     "metadata": {},
     "output_type": "execute_result"
    }
   ],
   "source": [
    "np.mean(C_z_scored.mean(axis=0)[moving_indicies])"
   ]
  },
  {
   "cell_type": "code",
   "execution_count": 94,
   "metadata": {},
   "outputs": [
    {
     "data": {
      "text/plain": [
       "-0.09380713940921243"
      ]
     },
     "execution_count": 94,
     "metadata": {},
     "output_type": "execute_result"
    }
   ],
   "source": [
    "np.mean(C_z_scored.mean(axis=0)[np.argwhere(binned_velocity[0:25000]<0.5)])"
   ]
  },
  {
   "cell_type": "code",
   "execution_count": null,
   "metadata": {},
   "outputs": [],
   "source": []
  }
 ],
 "metadata": {
  "kernelspec": {
   "display_name": "caiman",
   "language": "python",
   "name": "caiman"
  },
  "language_info": {
   "codemirror_mode": {
    "name": "ipython",
    "version": 3
   },
   "file_extension": ".py",
   "mimetype": "text/x-python",
   "name": "python",
   "nbconvert_exporter": "python",
   "pygments_lexer": "ipython3",
   "version": "3.6.7"
  }
 },
 "nbformat": 4,
 "nbformat_minor": 2
}
